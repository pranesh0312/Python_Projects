{
 "cells": [
  {
   "cell_type": "markdown",
   "id": "b3dde41c",
   "metadata": {},
   "source": [
    "# List Comphrension-->Examples"
   ]
  },
  {
   "cell_type": "code",
   "execution_count": 55,
   "id": "47a52ea4",
   "metadata": {},
   "outputs": [
    {
     "name": "stdout",
     "output_type": "stream",
     "text": [
      "[[1, 2], [2, 3]]\n"
     ]
    }
   ],
   "source": [
    "li=[[i+j for j in range(1,3)]for i in range(2)]\n",
    "print(li)"
   ]
  },
  {
   "cell_type": "code",
   "execution_count": 51,
   "id": "64f9e1c1",
   "metadata": {},
   "outputs": [
    {
     "name": "stdout",
     "output_type": "stream",
     "text": [
      "[[1, 2, 3, 4], [1, 2, 3, 4]]\n"
     ]
    }
   ],
   "source": [
    "l1=[[j for j in range(1,5)]for i in range(2)]\n",
    "print(l1)"
   ]
  },
  {
   "cell_type": "code",
   "execution_count": 59,
   "id": "ede177ec",
   "metadata": {},
   "outputs": [
    {
     "name": "stdout",
     "output_type": "stream",
     "text": [
      "[[1, 0, 0], [0, 1, 0], [0, 0, 1]]\n"
     ]
    }
   ],
   "source": [
    "#l3=[[j for j in range(2)] for i in range()]\n",
    "l3=[[1 if i==j else 0 for j in range(3)] for i in range(3)]\n",
    "print(l3)"
   ]
  },
  {
   "cell_type": "markdown",
   "id": "edac16c1",
   "metadata": {},
   "source": [
    "# Use of break and Continue"
   ]
  },
  {
   "cell_type": "code",
   "execution_count": 65,
   "id": "68bd4d92",
   "metadata": {},
   "outputs": [
    {
     "name": "stdout",
     "output_type": "stream",
     "text": [
      "1035 46\n"
     ]
    }
   ],
   "source": [
    "i=1\n",
    "sum=0\n",
    "while sum<=1000:\n",
    "    sum=sum+i\n",
    "    i=i+1\n",
    "    if sum>=1000:\n",
    "        break\n",
    "print(sum,i)"
   ]
  },
  {
   "cell_type": "code",
   "execution_count": 64,
   "id": "5c216f62",
   "metadata": {},
   "outputs": [
    {
     "name": "stdout",
     "output_type": "stream",
     "text": [
      "1035 45\n"
     ]
    }
   ],
   "source": [
    "sum=0\n",
    "for i in range(1,100000):\n",
    "    sum=sum+i\n",
    "    if sum>=1000:\n",
    "        break\n",
    "print(sum,i)\n"
   ]
  },
  {
   "cell_type": "code",
   "execution_count": 70,
   "id": "c04316fe",
   "metadata": {},
   "outputs": [
    {
     "name": "stdout",
     "output_type": "stream",
     "text": [
      "2,3,4,6,7,8,9,"
     ]
    }
   ],
   "source": [
    "i=1\n",
    "while i<10:\n",
    "    i=i+1\n",
    "    if i%5==0:\n",
    "        continue\n",
    "    print(i,end=\",\")"
   ]
  },
  {
   "cell_type": "code",
   "execution_count": 76,
   "id": "72a69ebe",
   "metadata": {},
   "outputs": [
    {
     "name": "stdout",
     "output_type": "stream",
     "text": [
      "1,2,3,4,6,7,8,9,11,12,13,14,"
     ]
    }
   ],
   "source": [
    "for i in range (1,16):\n",
    "    if i%5==0:\n",
    "        continue\n",
    "    print(i,end=\",\")"
   ]
  },
  {
   "cell_type": "markdown",
   "id": "ee3cbbe2",
   "metadata": {},
   "source": [
    "# Exception_Handling-->use of try and Except"
   ]
  },
  {
   "cell_type": "code",
   "execution_count": 79,
   "id": "ba2ac09f",
   "metadata": {},
   "outputs": [
    {
     "name": "stdout",
     "output_type": "stream",
     "text": [
      "5.0\n",
      "Cannot divide by 0\n",
      "0\n"
     ]
    }
   ],
   "source": [
    "def division_func(num1,num2):\n",
    "    result=0\n",
    "    try:\n",
    "        result=num1/num2\n",
    "    except ZeroDivisionError:\n",
    "        print(\"Cannot divide by 0\")\n",
    "    return result\n",
    "print(division_func(10,2))\n",
    "print(division_func(10,0))\n",
    "      "
   ]
  },
  {
   "cell_type": "code",
   "execution_count": 81,
   "id": "c20c376d",
   "metadata": {},
   "outputs": [
    {
     "name": "stdout",
     "output_type": "stream",
     "text": [
      "The code is executed\n",
      "5.0\n",
      "Cannot divide by 0\n",
      "The code is executed\n",
      "0\n"
     ]
    }
   ],
   "source": [
    "def division_func(num1,num2):\n",
    "    result=0\n",
    "    try:\n",
    "        result=num1/num2\n",
    "    except ZeroDivisionError:\n",
    "        print(\"Cannot divide by 0\")\n",
    "    finally:\n",
    "        print(\"The code is executed\")\n",
    "    \n",
    "    return result\n",
    "print(division_func(10,2))\n",
    "print(division_func(10,0))\n",
    "      "
   ]
  },
  {
   "cell_type": "code",
   "execution_count": 85,
   "id": "29581b36",
   "metadata": {},
   "outputs": [
    {
     "name": "stdout",
     "output_type": "stream",
     "text": [
      "Output will be :  3\n",
      "All ok\n",
      "The Program terminates\n",
      "Output will be :  pythonjava\n",
      "All ok\n",
      "The Program terminates\n",
      "Invalid inputs\n",
      "The Program terminates\n"
     ]
    }
   ],
   "source": [
    "def concat(inp1, inp2):\n",
    "\n",
    "    try:\n",
    "        print(\"Output will be : \", inp1 + inp2)\n",
    "    except:\n",
    "        print(\"Invalid inputs\")  #try(true)--->except works\n",
    "    else:\n",
    "        print(\"All ok\")          #try(false)--->else works\n",
    "    finally:\n",
    "        print(\"The Program terminates\")\n",
    "        \n",
    "concat(1,2)\n",
    "\n",
    "concat(\"python\", \"java\")\n",
    "\n",
    "concat(\"python\", 34)"
   ]
  },
  {
   "cell_type": "markdown",
   "id": "d90db839",
   "metadata": {},
   "source": [
    "# Functions"
   ]
  },
  {
   "cell_type": "code",
   "execution_count": 90,
   "id": "9c260b0f",
   "metadata": {},
   "outputs": [
    {
     "name": "stdout",
     "output_type": "stream",
     "text": [
      "50\n"
     ]
    }
   ],
   "source": [
    "def multiple(num,num2=5):#assigning default value in function(Default argument)\n",
    "    return num*num2\n",
    "print(multiple(10))"
   ]
  },
  {
   "cell_type": "code",
   "execution_count": 93,
   "id": "9d6a9b41",
   "metadata": {},
   "outputs": [
    {
     "name": "stdout",
     "output_type": "stream",
     "text": [
      "20\n"
     ]
    }
   ],
   "source": [
    "def multiple(num,num2):#Named arguments\n",
    "    return num*num2\n",
    "print(multiple(10,2))"
   ]
  },
  {
   "cell_type": "code",
   "execution_count": 95,
   "id": "f1f26441",
   "metadata": {},
   "outputs": [
    {
     "name": "stdout",
     "output_type": "stream",
     "text": [
      "20 10\n"
     ]
    }
   ],
   "source": [
    "a=10    #Swap in python\n",
    "b=20\n",
    "b,a=a,b\n",
    "print(a,b)\n"
   ]
  },
  {
   "cell_type": "code",
   "execution_count": null,
   "id": "0bfd6bc3",
   "metadata": {},
   "outputs": [],
   "source": []
  },
  {
   "cell_type": "code",
   "execution_count": 98,
   "id": "9aab8338",
   "metadata": {},
   "outputs": [
    {
     "name": "stdout",
     "output_type": "stream",
     "text": [
      "[89, 78, 10, 45, 15]\n"
     ]
    }
   ],
   "source": [
    "#Define the python function to swap first and last value of the given list.\n",
    "def swap_first_last(list1):\n",
    "    list1[0],list1[-1]= list1[-1],list1[0]\n",
    "    return list1\n",
    "l1=[15,78,10,45,89]\n",
    "l2=swap_first_last(l1)\n",
    "print(l2)\n"
   ]
  },
  {
   "cell_type": "code",
   "execution_count": 116,
   "id": "cbe4422d",
   "metadata": {},
   "outputs": [
    {
     "name": "stdout",
     "output_type": "stream",
     "text": [
      "odd\n"
     ]
    }
   ],
   "source": [
    "#Define the python function to check whether the number 33 is even or odd.\n",
    "def even_odd(num1):\n",
    "        if num1 %2==0:\n",
    "            print(\"even\")\n",
    "        else:\n",
    "            print(\"odd\")\n",
    "    \n",
    "even_odd(33)\n"
   ]
  },
  {
   "cell_type": "code",
   "execution_count": 132,
   "id": "d0dd826a",
   "metadata": {},
   "outputs": [
    {
     "data": {
      "text/plain": [
       "120"
      ]
     },
     "execution_count": 132,
     "metadata": {},
     "output_type": "execute_result"
    }
   ],
   "source": [
    "#Define the python function to calculate the factorial of the number. \n",
    "def factorial(num):\n",
    "    fact=1\n",
    "    for i in range(1,num+1):\n",
    "        fact=fact*i\n",
    "    return fact\n",
    "#By using recursion function-->whem it is caling itself\n",
    "    '''def factorial(num):\n",
    "          if num<=1:\n",
    "             return 1\n",
    "          else:\n",
    "             return num*factorial(num-1)\n",
    "        print(factorial(5))\n",
    "       \n",
    "    '''\n",
    "factorial(5)\n",
    "        \n",
    "\n"
   ]
  },
  {
   "cell_type": "code",
   "execution_count": 151,
   "id": "672bb829",
   "metadata": {},
   "outputs": [
    {
     "name": "stdout",
     "output_type": "stream",
     "text": [
      "[1, 2, 3, 34, 4, 5, 11]\n"
     ]
    },
    {
     "data": {
      "text/plain": [
       "'def unique_list(list1):\\n    op_list=[]\\n    for i in list1:\\n        if i not in op_list:\\n            op_list.append(i)\\n    return op_list\\nprint(unique_list())'"
      ]
     },
     "execution_count": 151,
     "metadata": {},
     "output_type": "execute_result"
    }
   ],
   "source": [
    "# Write the python function to get the unique values from the given list.\n",
    "def unique_values(list2):\n",
    "    s1=set(list2)\n",
    "    list3=list(s1)\n",
    "    print(list3)\n",
    "    \n",
    "my_list=[1,2,3,3,11,34,3,3,4,5]\n",
    "l3=unique_values(my_list)\n",
    "\n",
    "\n",
    "#using for--->to maintain order\n",
    "'''def unique_list(list1):\n",
    "    op_list=[]\n",
    "    for i in list1:\n",
    "        if i not in op_list:\n",
    "            op_list.append(i)\n",
    "    return op_list\n",
    "print(unique_list())'''\n",
    "\n",
    "    "
   ]
  },
  {
   "cell_type": "code",
   "execution_count": 153,
   "id": "cb4d11e1",
   "metadata": {},
   "outputs": [
    {
     "name": "stdout",
     "output_type": "stream",
     "text": [
      "16626\n"
     ]
    }
   ],
   "source": [
    "a=1201     #difference betweem global and local variable\n",
    "b=15425\n",
    "def add():\n",
    "    c=154\n",
    "    print(a+b)\n",
    "add()\n",
    "#print(c)--->local variable can not called outside the function"
   ]
  },
  {
   "cell_type": "markdown",
   "id": "f5674503",
   "metadata": {},
   "source": [
    "# Lambda function using Map(no of elements in input=no of elements in o/p)"
   ]
  },
  {
   "cell_type": "code",
   "execution_count": 156,
   "id": "e7a28cb7",
   "metadata": {},
   "outputs": [
    {
     "name": "stdout",
     "output_type": "stream",
     "text": [
      "[1, 9, 64, 16, 25, 49]\n"
     ]
    }
   ],
   "source": [
    "list1=[1,3,8,4,5,7]\n",
    "op_list=list(map(lambda x:x**2,list1))\n",
    "print(op_list)"
   ]
  },
  {
   "cell_type": "code",
   "execution_count": 161,
   "id": "adaf3d99",
   "metadata": {},
   "outputs": [
    {
     "name": "stdout",
     "output_type": "stream",
     "text": [
      "(121, 441, 900, 1156)\n"
     ]
    }
   ],
   "source": [
    "#Calculate the square of each element from the given tuple using the map function.\n",
    "number = (11, 21, 30, 34)\n",
    "op_tuple=tuple(map(lambda x:x**2,number))\n",
    "print(op_tuple)"
   ]
  },
  {
   "cell_type": "code",
   "execution_count": 164,
   "id": "519af157",
   "metadata": {},
   "outputs": [
    {
     "name": "stdout",
     "output_type": "stream",
     "text": [
      "[6, 3, 4, 7]\n"
     ]
    }
   ],
   "source": [
    "#Read the given sentence and print the length of each word in a sentence in a list using the map function.\n",
    "sentence = 'Python for Data Science'\n",
    "li=sentence.split()\n",
    "print(list(map(lambda x:len(x),li)))"
   ]
  },
  {
   "cell_type": "code",
   "execution_count": 166,
   "id": "cf8ba623",
   "metadata": {},
   "outputs": [
    {
     "name": "stdout",
     "output_type": "stream",
     "text": [
      "[4, 0, 4, 3]\n"
     ]
    }
   ],
   "source": [
    "#Find the remainder of all the numbers present in a list after dividing by 5. (make use of map function)\n",
    "numbers = [ 74, 85, 14, 23 ]\n",
    "op_list=(list(map(lambda x:x%5,numbers)))\n",
    "print(op_list)"
   ]
  },
  {
   "cell_type": "code",
   "execution_count": 182,
   "id": "3fcd95ae",
   "metadata": {},
   "outputs": [
    {
     "name": "stdout",
     "output_type": "stream",
     "text": [
      "33\n",
      "20\n"
     ]
    },
    {
     "data": {
      "text/plain": [
       "34"
      ]
     },
     "execution_count": 182,
     "metadata": {},
     "output_type": "execute_result"
    }
   ],
   "source": [
    "addfn=lambda x,y:x+y\n",
    "maxfn=lambda x,y:x if x>y else y\n",
    "minfn=lambda x,y:x if x<y else y\n",
    "\n",
    "print(addfn(28,5))\n",
    "print(maxfn(20,5))\n",
    "minfn(34,78)\n"
   ]
  },
  {
   "cell_type": "code",
   "execution_count": 189,
   "id": "04f94af9",
   "metadata": {},
   "outputs": [
    {
     "name": "stdout",
     "output_type": "stream",
     "text": [
      "['I11', 'felt22', 'happy33', 'because44', 'I55', 'saw66', 'the77', 'others88', 'were99']\n"
     ]
    }
   ],
   "source": [
    "#Concatenate elements from the list1 with the corresponding element of list2. (make use of map function)\n",
    "list1 = ['I', 'felt', 'happy', 'because', 'I', 'saw', 'the', 'others', 'were', 'happy']\n",
    "\n",
    "list2 = [11,22,33,44,55,66,77,88,99]\n",
    "op_li=list(map(lambda x,y:x+str(y),list1,list2))#when there is differ in values o/p-->takes the least range\n",
    "print(op_li)"
   ]
  },
  {
   "cell_type": "code",
   "execution_count": 199,
   "id": "932f15f0",
   "metadata": {},
   "outputs": [
    {
     "name": "stdout",
     "output_type": "stream",
     "text": [
      "[1, 2, 1, 4, 3, 2, 4]\n",
      "['*', '********', '*******', '****', '***', '**', '****']\n",
      "[7, 4, 13, 2, 9, 1, 2]\n"
     ]
    }
   ],
   "source": [
    "l1=[1,8,7,4,3,2,4]\n",
    "l2=list(map(lambda x:x%6,l1 ))\n",
    "l3=list(map(lambda x:x*'*',l1 ))\n",
    "l4=list(map(lambda x:x+6 if x%2==1 else x//2,l1 ))\n",
    "print(l2)\n",
    "print(l3)\n",
    "print(l4)"
   ]
  }
 ],
 "metadata": {
  "kernelspec": {
   "display_name": "Python 3 (ipykernel)",
   "language": "python",
   "name": "python3"
  },
  "language_info": {
   "codemirror_mode": {
    "name": "ipython",
    "version": 3
   },
   "file_extension": ".py",
   "mimetype": "text/x-python",
   "name": "python",
   "nbconvert_exporter": "python",
   "pygments_lexer": "ipython3",
   "version": "3.11.5"
  }
 },
 "nbformat": 4,
 "nbformat_minor": 5
}
