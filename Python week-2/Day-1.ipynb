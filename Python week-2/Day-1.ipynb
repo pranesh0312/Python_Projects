{
 "cells": [
  {
   "cell_type": "markdown",
   "id": "c973d9d6",
   "metadata": {},
   "source": [
    "# Week-1-->Revision"
   ]
  },
  {
   "cell_type": "code",
   "execution_count": 2,
   "id": "3f2f0e9c",
   "metadata": {},
   "outputs": [
    {
     "name": "stdout",
     "output_type": "stream",
     "text": [
      "5.0\n",
      "5\n"
     ]
    }
   ],
   "source": [
    "print(10/2)#difference betweem division and floor division\n",
    "print(10//2)"
   ]
  },
  {
   "cell_type": "code",
   "execution_count": 3,
   "id": "8b75f585",
   "metadata": {},
   "outputs": [
    {
     "ename": "SyntaxError",
     "evalue": "invalid syntax (212043188.py, line 10)",
     "output_type": "error",
     "traceback": [
      "\u001b[1;36m  Cell \u001b[1;32mIn[3], line 10\u001b[1;36m\u001b[0m\n\u001b[1;33m    print(x>>=c)\u001b[0m\n\u001b[1;37m           ^\u001b[0m\n\u001b[1;31mSyntaxError\u001b[0m\u001b[1;31m:\u001b[0m invalid syntax\n"
     ]
    }
   ],
   "source": [
    "a=10\n",
    "b=15\n",
    "x=5\n",
    "y=-5\n",
    "c=1\n",
    "print(a&b)#flow of bit wise operator\n",
    "print(a|b)\n",
    "print(a>>1)#output in binary farmat->0101\n",
    "print(a<<1)#output in binary farmat->10100\n",
    "print(x>>=c)\n",
    "print(y<<=c)"
   ]
  },
  {
   "cell_type": "code",
   "execution_count": 15,
   "id": "bd20cb4d",
   "metadata": {},
   "outputs": [],
   "source": [
    "a=10  # type operatator\n",
    "if a is int:\n",
    "    print(\"yes\")"
   ]
  },
  {
   "cell_type": "code",
   "execution_count": 17,
   "id": "529156cd",
   "metadata": {},
   "outputs": [
    {
     "name": "stdout",
     "output_type": "stream",
     "text": [
      "ng\n"
     ]
    }
   ],
   "source": [
    "a=\"good Morning\"\n",
    "print(a[-2:])"
   ]
  },
  {
   "cell_type": "code",
   "execution_count": 24,
   "id": "2b726b3e",
   "metadata": {},
   "outputs": [
    {
     "name": "stdout",
     "output_type": "stream",
     "text": [
      "Monday\n",
      "monday\n"
     ]
    }
   ],
   "source": [
    "a=\"Monday\"#Mutable vs immutable difference\n",
    "a.upper()#--> \"MONDAY\"\n",
    "b=a.lower()\n",
    "print(a)\n",
    "print(b)"
   ]
  },
  {
   "cell_type": "code",
   "execution_count": 25,
   "id": "92637ba4",
   "metadata": {},
   "outputs": [
    {
     "data": {
      "text/plain": [
       "140714098398120"
      ]
     },
     "execution_count": 25,
     "metadata": {},
     "output_type": "execute_result"
    }
   ],
   "source": [
    "a=5\n",
    "id(a)  #Memory location of a "
   ]
  },
  {
   "cell_type": "code",
   "execution_count": 6,
   "id": "8841d51c",
   "metadata": {},
   "outputs": [
    {
     "name": "stdout",
     "output_type": "stream",
     "text": [
      "(5+6j)\n"
     ]
    }
   ],
   "source": [
    "a=5  #example for complex datatype\n",
    "b=6\n",
    "c=print(complex(a,b))\n",
    "#print(c.img)"
   ]
  },
  {
   "cell_type": "code",
   "execution_count": null,
   "id": "109ae243",
   "metadata": {},
   "outputs": [],
   "source": [
    "Num=int(input(\"Enter the num:\"))\n",
    "\n",
    "              "
   ]
  },
  {
   "cell_type": "code",
   "execution_count": 43,
   "id": "1a25f1c9",
   "metadata": {},
   "outputs": [
    {
     "name": "stdout",
     "output_type": "stream",
     "text": [
      "Today\n",
      "unny \n",
      "y.\n",
      ".yad ynnus a si yadoT\n",
      "['Today', 'is', 'a', 'sunny', 'day.']\n",
      "['Today ', 'is', ' a', ' sunny day.']\n"
     ]
    }
   ],
   "source": [
    "s1=\"Today is a sunny day.\"\n",
    "s2=\"Today -is- a- sunny day.\"\n",
    "print(s1[0:5])\n",
    "print(s1[-9:-4])\n",
    "print(s1[-2:])\n",
    "print(s1[::-1])\n",
    "print(s1.split())  #converting string to list using split()\n",
    "print(s2.split('-'))\n"
   ]
  },
  {
   "cell_type": "code",
   "execution_count": 46,
   "id": "557669ed",
   "metadata": {},
   "outputs": [
    {
     "name": "stdout",
     "output_type": "stream",
     "text": [
      "Today is sunny day\n"
     ]
    }
   ],
   "source": [
    "l=[\"Today\",\"is\",\"sunny\",\"day\"]\n",
    "s1=\" \".join(l)   #converting list to string using join()\n",
    "print(s1)"
   ]
  },
  {
   "cell_type": "code",
   "execution_count": 50,
   "id": "3f1ffb1f",
   "metadata": {},
   "outputs": [
    {
     "name": "stdout",
     "output_type": "stream",
     "text": [
      "5\n",
      "False\n",
      "['learn', 24, 'blue', False, -8, 4, 7, 'summer']\n",
      "[4, 7, 'summer', 4, 7, 'summer', 4, 7, 'summer']\n"
     ]
    }
   ],
   "source": [
    "li=[\"learn\",24,\"blue\",False,-8]\n",
    "l2=[4,7,\"summer\"]\n",
    "print(len(li))\n",
    "print('24' in li) #it is string\n",
    "print(li+l2)\n",
    "print(l2*3)\n",
    "\n"
   ]
  },
  {
   "cell_type": "code",
   "execution_count": 73,
   "id": "d391b120",
   "metadata": {},
   "outputs": [
    {
     "name": "stdout",
     "output_type": "stream",
     "text": [
      "0\n",
      "10\n",
      "6\n",
      "4\n",
      "[0, 10, 6, 4]\n",
      "[0, 10, 6, 4]\n"
     ]
    }
   ],
   "source": [
    "l1=[1,2,3,4]\n",
    "l2=[0,5,2,1]\n",
    "for i,j in zip(l1,l2):\n",
    "    print(i*j)\n",
    "#list comphrension\n",
    "l3=[i*j for i,j in zip(l1,l2)]\n",
    "print(l3)\n",
    "#without zip\n",
    "l4=[l1[i]*l2[i] for i in range(0,len(l1))]\n",
    "print(l4)"
   ]
  },
  {
   "cell_type": "code",
   "execution_count": 95,
   "id": "59e51314",
   "metadata": {},
   "outputs": [
    {
     "name": "stdout",
     "output_type": "stream",
     "text": [
      "Python\n",
      "Data\n",
      "['Python', 1, 2]\n",
      "[1, 3, True]\n"
     ]
    }
   ],
   "source": [
    "mix_list = ['Python', 1, 2, 3, 'Data', True] \n",
    "print(mix_list[0])\n",
    "print(mix_list[-2])\n",
    "print(mix_list[0:3])\n",
    "print(mix_list[1::2])\n"
   ]
  },
  {
   "cell_type": "code",
   "execution_count": 101,
   "id": "933739ef",
   "metadata": {},
   "outputs": [
    {
     "name": "stdout",
     "output_type": "stream",
     "text": [
      "-2\n",
      "7\n",
      "None\n",
      "[-2, 0, 1, 4, 5, 7]\n",
      "[-2, 0, 1, 4, 5, 7]\n",
      "None\n"
     ]
    }
   ],
   "source": [
    "list_1 = [4, 5, 7, -2, 0, 1] \n",
    "print(min(list_1))\n",
    "print(max(list_1))\n",
    "print(list_1.sort())\n",
    "print(sorted(list_1))\n",
    "li=list_1.copy()\n",
    "print(li)\n",
    "print(list_1.remove(5))"
   ]
  },
  {
   "cell_type": "code",
   "execution_count": 105,
   "id": "1455e461",
   "metadata": {},
   "outputs": [
    {
     "name": "stdout",
     "output_type": "stream",
     "text": [
      "[1, 2, 3, 4, 5]\n"
     ]
    },
    {
     "data": {
      "text/plain": [
       "(1868402581760, 1868402581760)"
      ]
     },
     "execution_count": 105,
     "metadata": {},
     "output_type": "execute_result"
    }
   ],
   "source": [
    "a=[1,2,3,4]\n",
    "b=a\n",
    "a.append(5)\n",
    "print(b)\n",
    "id(a),id(b)"
   ]
  },
  {
   "cell_type": "code",
   "execution_count": 107,
   "id": "6ac84905",
   "metadata": {},
   "outputs": [
    {
     "name": "stdout",
     "output_type": "stream",
     "text": [
      "4\n"
     ]
    }
   ],
   "source": [
    "seasons_list = ['Summer', 'Winter', 'Spring', 'Winter', 'Spring' ,'Summer', 'Spring', 'Summer', 'Winter', 'Summer', 'Spring']\n",
    "print(seasons_list.count('Summer'))"
   ]
  },
  {
   "cell_type": "code",
   "execution_count": 109,
   "id": "7c4241e7",
   "metadata": {},
   "outputs": [
    {
     "name": "stdout",
     "output_type": "stream",
     "text": [
      "(['a', 1, True], 2, 'Science', -5, 4)\n"
     ]
    }
   ],
   "source": [
    "mix_tuple = (['a', 1, True], 2, 'Science', -5)\n",
    "mix_tuple=mix_tuple+(4,)  #concatenation is allowed in tuple to append values\n",
    "print(mix_tuple)"
   ]
  },
  {
   "cell_type": "code",
   "execution_count": 111,
   "id": "3924feb9",
   "metadata": {},
   "outputs": [
    {
     "name": "stdout",
     "output_type": "stream",
     "text": [
      "(['a', 1, True], 3, 'Science', -5)\n"
     ]
    }
   ],
   "source": [
    "mix_tuple = (['a', 1, True], 2, 'Science', -5)\n",
    "print(mix_tuple[0:1]+(3,)+mix_tuple[2:])#Replacing 2 to 3\n"
   ]
  },
  {
   "cell_type": "code",
   "execution_count": 129,
   "id": "81ecb728",
   "metadata": {},
   "outputs": [
    {
     "name": "stdout",
     "output_type": "stream",
     "text": [
      "7 4\n",
      "{'python', 'data'}\n"
     ]
    },
    {
     "ename": "AttributeError",
     "evalue": "'set' object has no attribute 'symmentric_difference'",
     "output_type": "error",
     "traceback": [
      "\u001b[1;31m---------------------------------------------------------------------------\u001b[0m",
      "\u001b[1;31mAttributeError\u001b[0m                            Traceback (most recent call last)",
      "Cell \u001b[1;32mIn[129], line 7\u001b[0m\n\u001b[0;32m      5\u001b[0m \u001b[38;5;28mprint\u001b[39m(\u001b[38;5;28mlen\u001b[39m(s1),\u001b[38;5;28mlen\u001b[39m(s2))\n\u001b[0;32m      6\u001b[0m \u001b[38;5;28mprint\u001b[39m(s1\u001b[38;5;241m.\u001b[39mintersection(s2))\n\u001b[1;32m----> 7\u001b[0m s1\u001b[38;5;241m.\u001b[39msymmentric_difference(s2)\n",
      "\u001b[1;31mAttributeError\u001b[0m: 'set' object has no attribute 'symmentric_difference'"
     ]
    }
   ],
   "source": [
    "sentence_1 = 'We we shall analyse the data using python' \n",
    "sentence_2 = 'Python for data science'\n",
    "s1=set(sentence_1.lower().split())\n",
    "s2=set(sentence_2.lower().split())\n",
    "print(len(s1),len(s2))\n",
    "print(s1.intersection(s2))\n",
    "s1.symmentric_difference(s2)\n"
   ]
  },
  {
   "cell_type": "code",
   "execution_count": 131,
   "id": "f98a2203",
   "metadata": {},
   "outputs": [
    {
     "data": {
      "text/plain": [
       "{1, 2, 4, 8, 40, 42, 51, 54, 71, 87}"
      ]
     },
     "execution_count": 131,
     "metadata": {},
     "output_type": "execute_result"
    }
   ],
   "source": [
    "A = {1, 4, 5, 2, 6, 3, 40, 7, 87, 4, 71}\n",
    "\n",
    "B = {3, 42, 51, 6, 7, 8, 54, 5}\n",
    "A.difference(B)\n",
    "A.symmetric_difference(B)\n"
   ]
  },
  {
   "cell_type": "code",
   "execution_count": 141,
   "id": "742e7c54",
   "metadata": {},
   "outputs": [
    {
     "name": "stdout",
     "output_type": "stream",
     "text": [
      "[1.0, 1.4142135623730951, 1.7320508075688772, 2.0, 2.23606797749979, 2.449489742783178, 2.6457513110645907, 2.8284271247461903, 3.0, 3.1622776601683795]\n"
     ]
    }
   ],
   "source": [
    " #Use list comprehension to obtain the squre root of first 10 natural numbers.\n",
    "l1=[(i)**(1/2) for i in range(1,11)]\n",
    "print(l1)"
   ]
  },
  {
   "cell_type": "code",
   "execution_count": 181,
   "id": "ef51d101",
   "metadata": {},
   "outputs": [
    {
     "name": "stdout",
     "output_type": "stream",
     "text": [
      "Enter the sentance:i am praneshuo\n",
      "['i', 'a', 'a', 'e', 'u', 'o']\n"
     ]
    }
   ],
   "source": [
    "#Use list comprehension to find the used vowels in a given sentence and/or word (take the input from user).\n",
    "x=(input(\"Enter the sentance:\"))\n",
    "l2=[y for y in x if y in 'aeiou']\n",
    "print(l2)"
   ]
  },
  {
   "cell_type": "code",
   "execution_count": 149,
   "id": "4a50f522",
   "metadata": {},
   "outputs": [
    {
     "name": "stdout",
     "output_type": "stream",
     "text": [
      "[0, 2, 4, 6, 8, 10, 12, 14, 16, 18, 20]\n",
      "[1, 3, 5, 7, 9, 11, 13, 15, 17, 19]\n"
     ]
    }
   ],
   "source": [
    "# Use list comprehension to find even and odd numbers from first 20 whole numbers.\n",
    "l3=[i for i in range(0,21) if i%2==0]\n",
    "l4=[j for j in range(0,21) if j%2==1]\n",
    "print(l3)\n",
    "print(l4)"
   ]
  },
  {
   "cell_type": "code",
   "execution_count": 183,
   "id": "f8975168",
   "metadata": {},
   "outputs": [
    {
     "name": "stdout",
     "output_type": "stream",
     "text": [
      "{1: 1, 2: 8, 3: 27, 4: 64, 5: 125, 6: 216, 7: 343, 8: 512, 9: 729, 10: 1000}\n"
     ]
    }
   ],
   "source": [
    "# Use list comprehension to create a dictionary such that its keys are numbers from 1 to 10 and values are the corresponding to that key are its cube.\n",
    "d1={i:i**3 for i in range(1,11)}\n",
    "print(d1)"
   ]
  },
  {
   "cell_type": "code",
   "execution_count": 184,
   "id": "1256d633",
   "metadata": {},
   "outputs": [
    {
     "name": "stdout",
     "output_type": "stream",
     "text": [
      "11\t22\t33\t44\t55\t66\t77\t88\t99\t110\t12\t24\t36\t48\t60\t72\t84\t96\t108\t120\t13\t26\t39\t52\t65\t78\t91\t104\t117\t130\t14\t28\t42\t56\t70\t84\t98\t112\t126\t140\t15\t30\t45\t60\t75\t90\t105\t120\t135\t150\t16\t32\t48\t64\t80\t96\t112\t128\t144\t160\t17\t34\t51\t68\t85\t102\t119\t136\t153\t170\t18\t36\t54\t72\t90\t108\t126\t144\t162\t180\t19\t38\t57\t76\t95\t114\t133\t152\t171\t190\t20\t40\t60\t80\t100\t120\t140\t160\t180\t200\t"
     ]
    }
   ],
   "source": [
    "#182-for lopp\n",
    "for i in range(11,21):\n",
    "    for j in range(1,11):\n",
    "        print(i*j,end=\"\\t\")"
   ]
  },
  {
   "cell_type": "code",
   "execution_count": 186,
   "id": "2971aef7",
   "metadata": {},
   "outputs": [
    {
     "data": {
      "text/plain": [
       "[[11, 22, 33, 44, 55, 66, 77, 88, 99, 110],\n",
       " [12, 24, 36, 48, 60, 72, 84, 96, 108, 120],\n",
       " [13, 26, 39, 52, 65, 78, 91, 104, 117, 130],\n",
       " [14, 28, 42, 56, 70, 84, 98, 112, 126, 140],\n",
       " [15, 30, 45, 60, 75, 90, 105, 120, 135, 150],\n",
       " [16, 32, 48, 64, 80, 96, 112, 128, 144, 160],\n",
       " [17, 34, 51, 68, 85, 102, 119, 136, 153, 170],\n",
       " [18, 36, 54, 72, 90, 108, 126, 144, 162, 180],\n",
       " [19, 38, 57, 76, 95, 114, 133, 152, 171, 190],\n",
       " [20, 40, 60, 80, 100, 120, 140, 160, 180, 200]]"
      ]
     },
     "execution_count": 186,
     "metadata": {},
     "output_type": "execute_result"
    }
   ],
   "source": [
    "#Use list comprehension to print table of 11 to 20 as shown below.\n",
    "\n",
    "l7=[[i*j for j in range(1,11)] for i in range(11,21)]\n",
    "l7"
   ]
  },
  {
   "cell_type": "code",
   "execution_count": 5,
   "id": "335d5972",
   "metadata": {},
   "outputs": [
    {
     "name": "stdout",
     "output_type": "stream",
     "text": [
      "[[1, 3, 5, 7], [2, 4, 6, 8]]\n"
     ]
    }
   ],
   "source": [
    "#Use list comprehension to find transpose of the matrix given below.\n",
    "l8=[[i+j for j in range(1,8,2)]for i in range(2)]\n",
    "print(l8)"
   ]
  }
 ],
 "metadata": {
  "kernelspec": {
   "display_name": "Python 3 (ipykernel)",
   "language": "python",
   "name": "python3"
  },
  "language_info": {
   "codemirror_mode": {
    "name": "ipython",
    "version": 3
   },
   "file_extension": ".py",
   "mimetype": "text/x-python",
   "name": "python",
   "nbconvert_exporter": "python",
   "pygments_lexer": "ipython3",
   "version": "3.11.5"
  }
 },
 "nbformat": 4,
 "nbformat_minor": 5
}
