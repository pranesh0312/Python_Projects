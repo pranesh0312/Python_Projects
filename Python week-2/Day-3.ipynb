{
 "cells": [
  {
   "cell_type": "markdown",
   "id": "793c756f",
   "metadata": {},
   "source": [
    "# Lambda function using filter(no of elements in input may differ in o/p)"
   ]
  },
  {
   "cell_type": "code",
   "execution_count": 3,
   "id": "27132b7f",
   "metadata": {},
   "outputs": [
    {
     "name": "stdout",
     "output_type": "stream",
     "text": [
      "[1, 7, 3, 5, 9]\n"
     ]
    }
   ],
   "source": [
    "li=[1,8,7,4,3,6,5,9]\n",
    "l1=list(filter(lambda x:x%2!=0,li))\n",
    "print(l1)"
   ]
  },
  {
   "cell_type": "code",
   "execution_count": 7,
   "id": "5ec96ac8",
   "metadata": {},
   "outputs": [
    {
     "name": "stdout",
     "output_type": "stream",
     "text": [
      "[110, 352, 278]\n"
     ]
    }
   ],
   "source": [
    "#Remove odd numbers from the given list.\n",
    "numbers = [21, 23, 443, 355, 743, 823, 110, 1241, 3673, 352, 278, 37, 7]\n",
    "l2=list(filter(lambda x:x%2==0,numbers))\n",
    "print(l2)"
   ]
  },
  {
   "cell_type": "code",
   "execution_count": 12,
   "id": "5f2764bd",
   "metadata": {},
   "outputs": [
    {
     "name": "stdout",
     "output_type": "stream",
     "text": [
      "['t', 't', 'o', 'i']\n"
     ]
    }
   ],
   "source": [
    "#Find the common elements from the given array using filter method.\n",
    "arr1 = ['t','u','t','o','r','i','a','l']\n",
    "\n",
    "arr2 = ['p','o','i','n','t']\n",
    "\n",
    "l3=list(filter(lambda x:x in arr2,arr1))\n",
    "print(l3)"
   ]
  },
  {
   "cell_type": "code",
   "execution_count": 21,
   "id": "f01c864c",
   "metadata": {},
   "outputs": [
    {
     "name": "stdout",
     "output_type": "stream",
     "text": [
      "['p', 'r', 'n', 's', 'h', 'p', 's', 'r', 'n', 'v', 's']\n"
     ]
    }
   ],
   "source": [
    "s1=\"praneshpsrinivAsu\"\n",
    "l_1=list(s1)\n",
    "#print(l_1)\n",
    "l2=list(filter(lambda x:x not in \"aeiouAEIOU\",l_1))\n",
    "print(l2)"
   ]
  },
  {
   "cell_type": "markdown",
   "id": "05cfe4e7",
   "metadata": {},
   "source": [
    "# Lambda function using filter(Gives only one value in output)"
   ]
  },
  {
   "cell_type": "code",
   "execution_count": 26,
   "id": "f8620114",
   "metadata": {},
   "outputs": [
    {
     "name": "stdout",
     "output_type": "stream",
     "text": [
      "19\n"
     ]
    }
   ],
   "source": [
    "l4=[1,8,7,4,13,12,4,19]\n",
    "from functools import reduce  #importing reduce function from functools(because\n",
    "#reduce function is not inbuilt finction)\n",
    "max_value=reduce(lambda x,y:x if x>y else y,l4)\n",
    "print(max_value)"
   ]
  },
  {
   "cell_type": "code",
   "execution_count": 28,
   "id": "f1e0d94b",
   "metadata": {},
   "outputs": [
    {
     "name": "stdout",
     "output_type": "stream",
     "text": [
      "1\n"
     ]
    }
   ],
   "source": [
    "l4=[1,8,7,4,13,12,4,19]\n",
    "from functools import reduce \n",
    "min_value=reduce(lambda x,y:x if x<y else y,l4)\n",
    "print(min_value)"
   ]
  },
  {
   "cell_type": "code",
   "execution_count": 32,
   "id": "ff3cfbbf",
   "metadata": {},
   "outputs": [
    {
     "name": "stdout",
     "output_type": "stream",
     "text": [
      "68\n"
     ]
    }
   ],
   "source": [
    "l4=[1,8,7,4,13,12,4,19]\n",
    "from functools import reduce  \n",
    "Total_value=reduce(lambda x,y:x+y,l4)\n",
    "print(Total_value)"
   ]
  },
  {
   "cell_type": "code",
   "execution_count": 41,
   "id": "12e60f9a",
   "metadata": {},
   "outputs": [
    {
     "name": "stdout",
     "output_type": "stream",
     "text": [
      "5050\n"
     ]
    }
   ],
   "source": [
    "#Calculate the sum of the numbers from 1 to 100. (make use of reduce function from functools library)\n",
    "l5=[i for i in range(1,101)]\n",
    "from functools import reduce \n",
    "sum=reduce(lambda x,y:x+y,l5)\n",
    "print(sum)"
   ]
  },
  {
   "cell_type": "code",
   "execution_count": 255,
   "id": "2023cbc5",
   "metadata": {},
   "outputs": [
    {
     "name": "stdout",
     "output_type": "stream",
     "text": [
      "98\n"
     ]
    }
   ],
   "source": [
    "#Find the number closet to 100 from given list\n",
    "l5=[108,114,96,89,103,94,98]\n",
    "from functools import reduce\n",
    "#Closer_number=reduce(lambda x,y:x if (x>y and x<100) else y ,l5)\n",
    "Closer_number=reduce(lambda x,y:x if (x-100)**(2)<(y-100)**2 else y ,l5)\n",
    "print(Closer_number)"
   ]
  },
  {
   "cell_type": "markdown",
   "id": "068a8303",
   "metadata": {},
   "source": [
    "# Some more examples on lampda functions"
   ]
  },
  {
   "cell_type": "code",
   "execution_count": 3,
   "id": "0a699432",
   "metadata": {},
   "outputs": [
    {
     "name": "stdout",
     "output_type": "stream",
     "text": [
      "[2, 4, 2, 3, 2]\n",
      "[-1, 4, -5, 3, -2]\n",
      "[-11, 22, 44, 22, -55, 33, 22, -22]\n"
     ]
    }
   ],
   "source": [
    "l1=[-1,2,4,2,-5,3,2,-2]\n",
    "L1=list(filter(lambda x:x>=0,l1))  #To remove all negative numbers\n",
    "L2=list(filter(lambda x:x!=2,l1))  #To remove all positive 2's\n",
    "L3=list(map(lambda x:x*11,l1))  #To multiply all values by 11 in the list\n",
    "print(L1)\n",
    "print(L2)\n",
    "print(L3)"
   ]
  },
  {
   "cell_type": "code",
   "execution_count": 34,
   "id": "b2b6bc83",
   "metadata": {},
   "outputs": [
    {
     "name": "stdout",
     "output_type": "stream",
     "text": [
      "[16, 12, 9, 59, 14]\n",
      "[-8, 4, 5, -53, -2]\n"
     ]
    }
   ],
   "source": [
    "l2=[4,8,7,3,6]\n",
    "l3=[12,4,2,56,8]\n",
    "L4=list(map(lambda x,y:x+y,l2,l3))  #adding 2 lists\n",
    "L5=list(map(lambda x,y:x-y,l2,l3))  #subtracting 2 lists\n",
    "print(L4)\n",
    "print(L5)"
   ]
  },
  {
   "cell_type": "code",
   "execution_count": 11,
   "id": "234bb7b4",
   "metadata": {},
   "outputs": [
    {
     "name": "stdout",
     "output_type": "stream",
     "text": [
      "151\n"
     ]
    }
   ],
   "source": [
    "list_1=[29,112,47,129,221,151]\n",
    "from functools import reduce\n",
    "Closer_number=reduce(lambda x,y:x if min(x%25,25-x%25)< min(y%25,25-y%25) else y ,list_1)\n",
    "print(Closer_number)   #number closure to multiple of 25\n"
   ]
  },
  {
   "cell_type": "markdown",
   "id": "95c07e70",
   "metadata": {},
   "source": [
    "# Arrays using NumPy"
   ]
  },
  {
   "cell_type": "code",
   "execution_count": 58,
   "id": "45291346",
   "metadata": {},
   "outputs": [
    {
     "name": "stdout",
     "output_type": "stream",
     "text": [
      "shape ()\n",
      "Dimension 0\n",
      "type <class 'numpy.ndarray'>\n"
     ]
    }
   ],
   "source": [
    "#Create a 0D Numpy Arrays using np.array() and prirnt the array, its type and dimension\n",
    "import numpy as np  #importing the numpy\n",
    "arr=np.array(54)\n",
    "print(\"shape\",arr.shape)\n",
    "print(\"Dimension\",arr.ndim)\n",
    "print(\"type\",type(arr))"
   ]
  },
  {
   "cell_type": "code",
   "execution_count": 66,
   "id": "3ffdff5d",
   "metadata": {},
   "outputs": [
    {
     "name": "stdout",
     "output_type": "stream",
     "text": [
      "shape ()\n",
      "Dimension 1\n",
      "type <class 'numpy.ndarray'>\n"
     ]
    }
   ],
   "source": [
    "#Create a 1-D array and print the array, it's type and dimension\n",
    "arr1=np.array([1,2,3,4])\n",
    "print(\"shape\",arr.shape)\n",
    "print(\"Dimension\",arr1.ndim)\n",
    "print(\"type\",type(arr1))\n"
   ]
  },
  {
   "cell_type": "code",
   "execution_count": 75,
   "id": "2ba4724a",
   "metadata": {},
   "outputs": [
    {
     "name": "stdout",
     "output_type": "stream",
     "text": [
      "shape ()\n",
      "Dimension 2\n",
      "type <class 'numpy.ndarray'>\n"
     ]
    }
   ],
   "source": [
    "#Create a 2-D array and print the array, it's type and dimension\n",
    "arr2=np.array([[1,2,3,4],[3,4,5,8]])\n",
    "print(\"shape\",arr.shape)\n",
    "print(\"Dimension\",arr2.ndim)\n",
    "print(\"type\",type(arr2))\n"
   ]
  },
  {
   "cell_type": "code",
   "execution_count": 76,
   "id": "aa409521",
   "metadata": {},
   "outputs": [
    {
     "name": "stdout",
     "output_type": "stream",
     "text": [
      "shape ()\n",
      "Dimension 3\n",
      "type <class 'numpy.ndarray'>\n"
     ]
    }
   ],
   "source": [
    "#Create a 3-D array and print the array, it's type and dimension\n",
    "arr3=np.array([[[1]]])\n",
    "print(\"shape\",arr.shape)\n",
    "print(\"Dimension\",arr3.ndim)\n",
    "print(\"type\",type(arr3))\n"
   ]
  },
  {
   "cell_type": "code",
   "execution_count": 79,
   "id": "6024b2cb",
   "metadata": {},
   "outputs": [
    {
     "name": "stdout",
     "output_type": "stream",
     "text": [
      "[1. 3. 5. 7. 9.]\n"
     ]
    }
   ],
   "source": [
    "#Create an array from 1 to 10 with a step of 2 having float data type\n",
    "arr4=np.arange(1,10,2.0)  #arrange accepts float value\n",
    "print(arr4)"
   ]
  },
  {
   "cell_type": "code",
   "execution_count": 84,
   "id": "f287bd60",
   "metadata": {},
   "outputs": [
    {
     "name": "stdout",
     "output_type": "stream",
     "text": [
      "[0 0 0 0]\n",
      "[1 1 1 1]\n"
     ]
    }
   ],
   "source": [
    "#Create a 1D array with 4 zeros in it\n",
    "arr5=np.zeros(4,dtype=int)\n",
    "arr5_1=np.ones(4,dtype=int)\n",
    "print(arr5)\n",
    "print(arr5_1)"
   ]
  },
  {
   "cell_type": "code",
   "execution_count": 86,
   "id": "e7ba47c9",
   "metadata": {},
   "outputs": [
    {
     "name": "stdout",
     "output_type": "stream",
     "text": [
      "[[0. 0.]\n",
      " [0. 0.]\n",
      " [0. 0.]\n",
      " [0. 0.]]\n"
     ]
    }
   ],
   "source": [
    "#Create 2-D array with zeros as the values in it in 4 rows and 2 columns\n",
    "arr6=np.zeros((4,2))\n",
    "print(arr6)"
   ]
  },
  {
   "cell_type": "code",
   "execution_count": 88,
   "id": "62ba1245",
   "metadata": {},
   "outputs": [
    {
     "name": "stdout",
     "output_type": "stream",
     "text": [
      "[[9 3]\n",
      " [8 7]]\n"
     ]
    }
   ],
   "source": [
    "#Create a random 2 by 2 matrix with random values from 1 to 10 \n",
    "arr7=np.random.randint(1,11,4).reshape(2,2)\n",
    "print(arr7)"
   ]
  },
  {
   "cell_type": "markdown",
   "id": "f4d89e2f",
   "metadata": {},
   "source": [
    "# Use of indexing in array"
   ]
  },
  {
   "cell_type": "code",
   "execution_count": 90,
   "id": "d6e8573b",
   "metadata": {},
   "outputs": [
    {
     "name": "stdout",
     "output_type": "stream",
     "text": [
      "67 56\n"
     ]
    }
   ],
   "source": [
    " #Print the second and fifth element of the given array.\n",
    "np_array = np.array([22, 67, 90, 75, 56, 12])\n",
    "print(np_array[1],np_array[4])\n"
   ]
  },
  {
   "cell_type": "code",
   "execution_count": 92,
   "id": "8c5f520f",
   "metadata": {},
   "outputs": [
    {
     "name": "stdout",
     "output_type": "stream",
     "text": [
      "67\n"
     ]
    }
   ],
   "source": [
    "#Print the element in the second row fourth column.\n",
    "np_2d_array = np.array([[90, 80, 67, 89, 78],\n",
    "                       [11, 22, 54, 67, 98],\n",
    "                       [91, 87, 65, 45, 72]])\n",
    "print(np_2d_array[1,3])"
   ]
  },
  {
   "cell_type": "code",
   "execution_count": 94,
   "id": "f5bf32eb",
   "metadata": {},
   "outputs": [
    {
     "name": "stdout",
     "output_type": "stream",
     "text": [
      "[78 98 72]\n"
     ]
    }
   ],
   "source": [
    "# Print all the elements of fifth column.\n",
    "np_2d_array = np.array([[90, 80, 67, 89, 78],\n",
    "                       [11, 22, 54, 67, 98],\n",
    "                       [91, 87, 65, 45, 72]])\n",
    "print(np_2d_array[:,4])"
   ]
  },
  {
   "cell_type": "markdown",
   "id": "bfc2b513",
   "metadata": {},
   "source": [
    "# slicing of array"
   ]
  },
  {
   "cell_type": "code",
   "execution_count": 96,
   "id": "3eb25ab0",
   "metadata": {},
   "outputs": [
    {
     "name": "stdout",
     "output_type": "stream",
     "text": [
      "[22 67 90]\n"
     ]
    }
   ],
   "source": [
    "#Print the First, second, and third element from the given array.\n",
    "np_array = np.array([22, 67, 90, 75, 56, 12])   \n",
    "print(np_array[0:3])"
   ]
  },
  {
   "cell_type": "code",
   "execution_count": 101,
   "id": "dd58067f",
   "metadata": {},
   "outputs": [
    {
     "name": "stdout",
     "output_type": "stream",
     "text": [
      "[[90 80 67]\n",
      " [11 22 54]]\n"
     ]
    }
   ],
   "source": [
    "#Print all the rows expect last row, and only print first three columns.\n",
    "np_2d_array = np.array([[90, 80, 67, 89, 78],\n",
    "                       [11, 22, 54, 67, 98],\n",
    "                       [91, 87, 65, 45, 72]])\n",
    "print(np_2d_array[0:2,0:3])"
   ]
  },
  {
   "cell_type": "markdown",
   "id": "fb4a5391",
   "metadata": {},
   "source": [
    "# Operations in array"
   ]
  },
  {
   "cell_type": "code",
   "execution_count": 104,
   "id": "5db20309",
   "metadata": {},
   "outputs": [
    {
     "name": "stdout",
     "output_type": "stream",
     "text": [
      "addition [180 270 490 690 620]\n",
      "subtraction [ 20 130 110 110 380]\n"
     ]
    }
   ],
   "source": [
    "#Perform addition and substraction of two arrays and print the output.\n",
    "np_array1 = np.array([100, 200, 300, 400, 500])\n",
    "\n",
    "np_array2 = np.array([80, 70, 190, 290, 120])\n",
    "print(\"addition\",np_array1+np_array2)\n",
    "print(\"subtraction\",np_array1-np_array2)"
   ]
  },
  {
   "cell_type": "code",
   "execution_count": 106,
   "id": "31940435",
   "metadata": {},
   "outputs": [
    {
     "name": "stdout",
     "output_type": "stream",
     "text": [
      "Square [ 484 4489 8100 5625 3136  144]\n"
     ]
    }
   ],
   "source": [
    "# Print the Square of each element of the array.\n",
    "np_array = np.array([22, 67, 90, 75, 56, 12])\n",
    "print(\"Square\",np_array**2)"
   ]
  },
  {
   "cell_type": "code",
   "execution_count": 110,
   "id": "f79da328",
   "metadata": {},
   "outputs": [
    {
     "name": "stdout",
     "output_type": "stream",
     "text": [
      "elements are [67 90 75 56]\n"
     ]
    }
   ],
   "source": [
    "# Print all the elements which are greater than 50.\n",
    "np_array = np.array([22, 67, 90, 75, 56, 12])\n",
    "print(\"elements are\",np_array[np_array>50])\n"
   ]
  },
  {
   "cell_type": "markdown",
   "id": "bcee2d00",
   "metadata": {},
   "source": [
    "# Arthametic functions"
   ]
  },
  {
   "cell_type": "code",
   "execution_count": 115,
   "id": "8f113b05",
   "metadata": {},
   "outputs": [
    {
     "name": "stdout",
     "output_type": "stream",
     "text": [
      "[ 0 -2 42 -2 34 -2 26 -2 38 94 -2 78 76]\n"
     ]
    }
   ],
   "source": [
    "# Replace all odd numbers in array with -2.\n",
    "arr = np.array([0, 31, 42, 43, 34, 45, 26, 27, 38, 94, 65, 78, 76])\n",
    "arr[arr%2!=0]=-2 #replacing the odd values by -2\n",
    "print(arr)"
   ]
  },
  {
   "cell_type": "code",
   "execution_count": 117,
   "id": "eb7cf841",
   "metadata": {},
   "outputs": [
    {
     "name": "stdout",
     "output_type": "stream",
     "text": [
      "[ 1 31 42 43 34 45 26 27 38 94 65 78 76]\n"
     ]
    }
   ],
   "source": [
    "arr = np.array([0, 31, 42, 43, 34, 45, 26, 27, 38, 94, 65, 78, 76])\n",
    "arr[:1]=1\n",
    "print(arr)"
   ]
  },
  {
   "cell_type": "code",
   "execution_count": 120,
   "id": "bd221607",
   "metadata": {},
   "outputs": [
    {
     "name": "stdout",
     "output_type": "stream",
     "text": [
      "[13 15 25]\n",
      "[15 25 13]\n"
     ]
    }
   ],
   "source": [
    "#Write a program to calculate the sum of each column.\n",
    "A = [[1, 4, 8], [5, 7, 3], [9, 14, 2]]\n",
    "arrr1=np.array(A)\n",
    "print(arrr1.sum(axis=1))#to calculate only column\n",
    "print(arrr1.sum(axis=0))#to calculate only row"
   ]
  },
  {
   "cell_type": "code",
   "execution_count": 122,
   "id": "269b4db7",
   "metadata": {},
   "outputs": [
    {
     "name": "stdout",
     "output_type": "stream",
     "text": [
      "[2 7 2 6 0 3 5 0 4]\n"
     ]
    }
   ],
   "source": [
    "# Write a code to get the element-wise remainder of an array after division by 8\n",
    "num = [42, 87, 90, 14, 32, 75, 61, 80, 92]\n",
    "arrr2=np.array(num)\n",
    "print(arrr2%8)"
   ]
  },
  {
   "cell_type": "markdown",
   "id": "3b08bec2",
   "metadata": {},
   "source": [
    "# Some more examples in array"
   ]
  },
  {
   "cell_type": "code",
   "execution_count": 217,
   "id": "e910b406",
   "metadata": {},
   "outputs": [
    {
     "name": "stdout",
     "output_type": "stream",
     "text": [
      "[0 1 1 0 1 1 0 1 1]\n"
     ]
    }
   ],
   "source": [
    "a1=np.ones(9,dtype=int)\n",
    "a1[::3]=0\n",
    "print(a1)"
   ]
  },
  {
   "cell_type": "code",
   "execution_count": 155,
   "id": "5626b593",
   "metadata": {},
   "outputs": [
    {
     "name": "stdout",
     "output_type": "stream",
     "text": [
      "[[0 0 0]\n",
      " [0 0 0]\n",
      " [0 0 0]\n",
      " [0 0 0]]\n"
     ]
    }
   ],
   "source": [
    "a2=np.zeros((4,3),dtype=int)\n",
    "\n",
    "print(a2)"
   ]
  },
  {
   "cell_type": "code",
   "execution_count": 169,
   "id": "a0ccf079",
   "metadata": {},
   "outputs": [
    {
     "name": "stdout",
     "output_type": "stream",
     "text": [
      "[ 1  3  5  7  9 11 13 15 17 19]\n"
     ]
    }
   ],
   "source": [
    "a3=np.arange(1,20,2)\n",
    "print(a3)"
   ]
  },
  {
   "cell_type": "code",
   "execution_count": 221,
   "id": "cbde4b82",
   "metadata": {},
   "outputs": [
    {
     "name": "stdout",
     "output_type": "stream",
     "text": [
      "[[1 2 3]\n",
      " [4 5 6]\n",
      " [7 8 9]]\n"
     ]
    }
   ],
   "source": [
    "a4=np.arange(1,10).reshape(3,3)\n",
    "print(a4)"
   ]
  },
  {
   "cell_type": "code",
   "execution_count": 223,
   "id": "75d4d54e",
   "metadata": {},
   "outputs": [
    {
     "name": "stdout",
     "output_type": "stream",
     "text": [
      "[[1 0 0]\n",
      " [1 0 0]\n",
      " [1 0 0]]\n"
     ]
    }
   ],
   "source": [
    "a5=np.zeros((3,3),dtype=int)\n",
    "a5[:,0]=1\n",
    "print(a5.reshape(3,3))\n"
   ]
  },
  {
   "cell_type": "code",
   "execution_count": 208,
   "id": "d7382d58",
   "metadata": {},
   "outputs": [
    {
     "name": "stdout",
     "output_type": "stream",
     "text": [
      "[0.1 0.2 0.3 0.4 0.5]\n"
     ]
    }
   ],
   "source": [
    "a6=np.arange(1,6)\n",
    "#a6=np.arange(0.1,0.6,0.1)\n",
    "print(a6/10)"
   ]
  },
  {
   "cell_type": "code",
   "execution_count": 226,
   "id": "aa67cf04",
   "metadata": {},
   "outputs": [
    {
     "name": "stdout",
     "output_type": "stream",
     "text": [
      "[[False False  True]\n",
      " [False False False]]\n"
     ]
    }
   ],
   "source": [
    "a7=np.zeros((2,3),dtype=bool)\n",
    "a7[0,2]=True\n",
    "print(a7)"
   ]
  },
  {
   "cell_type": "code",
   "execution_count": 231,
   "id": "c5054390",
   "metadata": {},
   "outputs": [
    {
     "name": "stdout",
     "output_type": "stream",
     "text": [
      "[[ 60  73  86]\n",
      " [ 39  54  69]\n",
      " [ 54  79 104]]\n"
     ]
    }
   ],
   "source": [
    "# Write a code to multiply two arrays\n",
    "arr1 = [[1, 4, 8], [5, 7, 3], [9, 14, 2]]\n",
    "arr2 = np.arange(9).reshape(3,-1)\n",
    "#print(arr1)\n",
    "#print(arr2)\n",
    "#print(arr1*arr2)\n",
    "print(np.dot(arr1,arr2))\n",
    "#print(np.multiply(arr1,arr2))-->same as *\n",
    "# print(np.matmul(arr1,arr2))-->same as dot"
   ]
  },
  {
   "cell_type": "code",
   "execution_count": 233,
   "id": "b6101a26",
   "metadata": {},
   "outputs": [
    {
     "name": "stdout",
     "output_type": "stream",
     "text": [
      "[[ 1  5 10]\n",
      " [ 8 11  8]\n",
      " [15 21 10]]\n",
      "[[ 1  3  6]\n",
      " [ 2  3 -2]\n",
      " [ 3  7 -6]]\n"
     ]
    }
   ],
   "source": [
    "#Perform addition and subtraction using arr1 and arr2. (use the arrays from previous question)\n",
    "arr1 = [[1, 4, 8], [5, 7, 3], [9, 14, 2]]\n",
    "arr2 = np.arange(9).reshape(3,-1)\n",
    "print(arr1+arr2)\n",
    "print(arr1-arr2)"
   ]
  },
  {
   "cell_type": "code",
   "execution_count": 254,
   "id": "90689d66",
   "metadata": {},
   "outputs": [
    {
     "name": "stdout",
     "output_type": "stream",
     "text": [
      "[99 49 36 27 37]\n",
      "[0.87402517 0.83220969 0.47281663 0.86376432 0.70425619]\n",
      "[1 5 3 4 4]\n",
      "[1 5 3]\n",
      "99\n",
      "27\n"
     ]
    }
   ],
   "source": [
    "#Find the max and min numbers in the given array\n",
    "arr = np.random.randint(0, 100, 5)\n",
    "arr1 = np.random.rand(5)  # random of float values\n",
    "arr2 = np.random.choice([1,3,4,5,5],5)\n",
    "arr3 = np.random.choice([1,3,4,5,5],3,replace=False)#not to repeat values\n",
    "\n",
    "print(arr)\n",
    "print(arr1)\n",
    "print(arr2)\n",
    "print(arr3)\n",
    "\n",
    "print(arr.max())\n",
    "print(min(arr))\n",
    "\n"
   ]
  },
  {
   "cell_type": "code",
   "execution_count": null,
   "id": "4651a0d7",
   "metadata": {},
   "outputs": [],
   "source": []
  }
 ],
 "metadata": {
  "kernelspec": {
   "display_name": "Python 3 (ipykernel)",
   "language": "python",
   "name": "python3"
  },
  "language_info": {
   "codemirror_mode": {
    "name": "ipython",
    "version": 3
   },
   "file_extension": ".py",
   "mimetype": "text/x-python",
   "name": "python",
   "nbconvert_exporter": "python",
   "pygments_lexer": "ipython3",
   "version": "3.11.5"
  }
 },
 "nbformat": 4,
 "nbformat_minor": 5
}
