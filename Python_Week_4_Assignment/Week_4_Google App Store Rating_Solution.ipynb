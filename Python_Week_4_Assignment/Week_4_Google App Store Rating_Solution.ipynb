{
 "cells": [
  {
   "cell_type": "markdown",
   "id": "4c4c2e76",
   "metadata": {},
   "source": [
    "# 1)Import required libraries and read the dataset."
   ]
  },
  {
   "cell_type": "code",
   "execution_count": 993,
   "id": "25ba4121",
   "metadata": {},
   "outputs": [],
   "source": [
    "#Importing the required Libaries\n",
    "\n",
    "import numpy as np\n",
    "import pandas as pd\n",
    "from datetime import datetime \n",
    "import seaborn as sns\n",
    "import matplotlib.pyplot as plt\n",
    "from sklearn.preprocessing import LabelEncoder\n",
    "from sklearn.model_selection import train_test_split\n",
    "from sklearn.preprocessing import StandardScaler"
   ]
  },
  {
   "cell_type": "code",
   "execution_count": 994,
   "id": "3a260968",
   "metadata": {},
   "outputs": [],
   "source": [
    "#To Read the Data file\n",
    "\n",
    "data_set=pd.read_csv('Apps_data+(1).csv')"
   ]
  },
  {
   "cell_type": "code",
   "execution_count": 995,
   "id": "c9058b8d",
   "metadata": {},
   "outputs": [
    {
     "data": {
      "text/html": [
       "<div>\n",
       "<style scoped>\n",
       "    .dataframe tbody tr th:only-of-type {\n",
       "        vertical-align: middle;\n",
       "    }\n",
       "\n",
       "    .dataframe tbody tr th {\n",
       "        vertical-align: top;\n",
       "    }\n",
       "\n",
       "    .dataframe thead th {\n",
       "        text-align: right;\n",
       "    }\n",
       "</style>\n",
       "<table border=\"1\" class=\"dataframe\">\n",
       "  <thead>\n",
       "    <tr style=\"text-align: right;\">\n",
       "      <th></th>\n",
       "      <th>App</th>\n",
       "      <th>Category</th>\n",
       "      <th>Rating</th>\n",
       "      <th>Reviews</th>\n",
       "      <th>Size</th>\n",
       "      <th>Installs</th>\n",
       "      <th>Type</th>\n",
       "      <th>Price</th>\n",
       "      <th>Content Rating</th>\n",
       "      <th>Genres</th>\n",
       "      <th>Last Updated</th>\n",
       "      <th>Current Ver</th>\n",
       "      <th>Android Ver</th>\n",
       "    </tr>\n",
       "  </thead>\n",
       "  <tbody>\n",
       "    <tr>\n",
       "      <th>0</th>\n",
       "      <td>Photo Editor &amp; Candy Camera &amp; Grid &amp; ScrapBook</td>\n",
       "      <td>ART_AND_DESIGN</td>\n",
       "      <td>4.1</td>\n",
       "      <td>159</td>\n",
       "      <td>19M</td>\n",
       "      <td>10,000+</td>\n",
       "      <td>Free</td>\n",
       "      <td>0</td>\n",
       "      <td>Everyone</td>\n",
       "      <td>Art &amp; Design</td>\n",
       "      <td>January 7, 2018</td>\n",
       "      <td>1.0.0</td>\n",
       "      <td>4.0.3 and up</td>\n",
       "    </tr>\n",
       "    <tr>\n",
       "      <th>1</th>\n",
       "      <td>Coloring book moana</td>\n",
       "      <td>ART_AND_DESIGN</td>\n",
       "      <td>3.9</td>\n",
       "      <td>967</td>\n",
       "      <td>14M</td>\n",
       "      <td>500,000+</td>\n",
       "      <td>Free</td>\n",
       "      <td>0</td>\n",
       "      <td>Everyone</td>\n",
       "      <td>Art &amp; Design;Pretend Play</td>\n",
       "      <td>January 15, 2018</td>\n",
       "      <td>2.0.0</td>\n",
       "      <td>4.0.3 and up</td>\n",
       "    </tr>\n",
       "    <tr>\n",
       "      <th>2</th>\n",
       "      <td>U Launcher Lite – FREE Live Cool Themes, Hide ...</td>\n",
       "      <td>ART_AND_DESIGN</td>\n",
       "      <td>4.7</td>\n",
       "      <td>87510</td>\n",
       "      <td>8.7M</td>\n",
       "      <td>5,000,000+</td>\n",
       "      <td>Free</td>\n",
       "      <td>0</td>\n",
       "      <td>Everyone</td>\n",
       "      <td>Art &amp; Design</td>\n",
       "      <td>August 1, 2018</td>\n",
       "      <td>1.2.4</td>\n",
       "      <td>4.0.3 and up</td>\n",
       "    </tr>\n",
       "    <tr>\n",
       "      <th>3</th>\n",
       "      <td>Sketch - Draw &amp; Paint</td>\n",
       "      <td>ART_AND_DESIGN</td>\n",
       "      <td>4.5</td>\n",
       "      <td>215644</td>\n",
       "      <td>25M</td>\n",
       "      <td>50,000,000+</td>\n",
       "      <td>Free</td>\n",
       "      <td>0</td>\n",
       "      <td>Teen</td>\n",
       "      <td>Art &amp; Design</td>\n",
       "      <td>June 8, 2018</td>\n",
       "      <td>Varies with device</td>\n",
       "      <td>4.2 and up</td>\n",
       "    </tr>\n",
       "    <tr>\n",
       "      <th>4</th>\n",
       "      <td>Pixel Draw - Number Art Coloring Book</td>\n",
       "      <td>ART_AND_DESIGN</td>\n",
       "      <td>4.3</td>\n",
       "      <td>967</td>\n",
       "      <td>2.8M</td>\n",
       "      <td>100,000+</td>\n",
       "      <td>Free</td>\n",
       "      <td>0</td>\n",
       "      <td>Everyone</td>\n",
       "      <td>Art &amp; Design;Creativity</td>\n",
       "      <td>June 20, 2018</td>\n",
       "      <td>1.1</td>\n",
       "      <td>4.4 and up</td>\n",
       "    </tr>\n",
       "    <tr>\n",
       "      <th>...</th>\n",
       "      <td>...</td>\n",
       "      <td>...</td>\n",
       "      <td>...</td>\n",
       "      <td>...</td>\n",
       "      <td>...</td>\n",
       "      <td>...</td>\n",
       "      <td>...</td>\n",
       "      <td>...</td>\n",
       "      <td>...</td>\n",
       "      <td>...</td>\n",
       "      <td>...</td>\n",
       "      <td>...</td>\n",
       "      <td>...</td>\n",
       "    </tr>\n",
       "    <tr>\n",
       "      <th>10836</th>\n",
       "      <td>Sya9a Maroc - FR</td>\n",
       "      <td>FAMILY</td>\n",
       "      <td>4.5</td>\n",
       "      <td>38</td>\n",
       "      <td>53M</td>\n",
       "      <td>5,000+</td>\n",
       "      <td>Free</td>\n",
       "      <td>0</td>\n",
       "      <td>Everyone</td>\n",
       "      <td>Education</td>\n",
       "      <td>July 25, 2017</td>\n",
       "      <td>1.48</td>\n",
       "      <td>4.1 and up</td>\n",
       "    </tr>\n",
       "    <tr>\n",
       "      <th>10837</th>\n",
       "      <td>Fr. Mike Schmitz Audio Teachings</td>\n",
       "      <td>FAMILY</td>\n",
       "      <td>5.0</td>\n",
       "      <td>4</td>\n",
       "      <td>3.6M</td>\n",
       "      <td>100+</td>\n",
       "      <td>Free</td>\n",
       "      <td>0</td>\n",
       "      <td>Everyone</td>\n",
       "      <td>Education</td>\n",
       "      <td>July 6, 2018</td>\n",
       "      <td>1.0</td>\n",
       "      <td>4.1 and up</td>\n",
       "    </tr>\n",
       "    <tr>\n",
       "      <th>10838</th>\n",
       "      <td>Parkinson Exercices FR</td>\n",
       "      <td>MEDICAL</td>\n",
       "      <td>NaN</td>\n",
       "      <td>3</td>\n",
       "      <td>9.5M</td>\n",
       "      <td>1,000+</td>\n",
       "      <td>Free</td>\n",
       "      <td>0</td>\n",
       "      <td>Everyone</td>\n",
       "      <td>Medical</td>\n",
       "      <td>January 20, 2017</td>\n",
       "      <td>1.0</td>\n",
       "      <td>2.2 and up</td>\n",
       "    </tr>\n",
       "    <tr>\n",
       "      <th>10839</th>\n",
       "      <td>The SCP Foundation DB fr nn5n</td>\n",
       "      <td>BOOKS_AND_REFERENCE</td>\n",
       "      <td>4.5</td>\n",
       "      <td>114</td>\n",
       "      <td>Varies with device</td>\n",
       "      <td>1,000+</td>\n",
       "      <td>Free</td>\n",
       "      <td>0</td>\n",
       "      <td>Mature 17+</td>\n",
       "      <td>Books &amp; Reference</td>\n",
       "      <td>January 19, 2015</td>\n",
       "      <td>Varies with device</td>\n",
       "      <td>Varies with device</td>\n",
       "    </tr>\n",
       "    <tr>\n",
       "      <th>10840</th>\n",
       "      <td>iHoroscope - 2018 Daily Horoscope &amp; Astrology</td>\n",
       "      <td>LIFESTYLE</td>\n",
       "      <td>4.5</td>\n",
       "      <td>398307</td>\n",
       "      <td>19M</td>\n",
       "      <td>10,000,000+</td>\n",
       "      <td>Free</td>\n",
       "      <td>0</td>\n",
       "      <td>Everyone</td>\n",
       "      <td>Lifestyle</td>\n",
       "      <td>July 25, 2018</td>\n",
       "      <td>Varies with device</td>\n",
       "      <td>Varies with device</td>\n",
       "    </tr>\n",
       "  </tbody>\n",
       "</table>\n",
       "<p>10841 rows × 13 columns</p>\n",
       "</div>"
      ],
      "text/plain": [
       "                                                     App             Category  \\\n",
       "0         Photo Editor & Candy Camera & Grid & ScrapBook       ART_AND_DESIGN   \n",
       "1                                    Coloring book moana       ART_AND_DESIGN   \n",
       "2      U Launcher Lite – FREE Live Cool Themes, Hide ...       ART_AND_DESIGN   \n",
       "3                                  Sketch - Draw & Paint       ART_AND_DESIGN   \n",
       "4                  Pixel Draw - Number Art Coloring Book       ART_AND_DESIGN   \n",
       "...                                                  ...                  ...   \n",
       "10836                                   Sya9a Maroc - FR               FAMILY   \n",
       "10837                   Fr. Mike Schmitz Audio Teachings               FAMILY   \n",
       "10838                             Parkinson Exercices FR              MEDICAL   \n",
       "10839                      The SCP Foundation DB fr nn5n  BOOKS_AND_REFERENCE   \n",
       "10840      iHoroscope - 2018 Daily Horoscope & Astrology            LIFESTYLE   \n",
       "\n",
       "       Rating Reviews                Size     Installs  Type Price  \\\n",
       "0         4.1     159                 19M      10,000+  Free     0   \n",
       "1         3.9     967                 14M     500,000+  Free     0   \n",
       "2         4.7   87510                8.7M   5,000,000+  Free     0   \n",
       "3         4.5  215644                 25M  50,000,000+  Free     0   \n",
       "4         4.3     967                2.8M     100,000+  Free     0   \n",
       "...       ...     ...                 ...          ...   ...   ...   \n",
       "10836     4.5      38                 53M       5,000+  Free     0   \n",
       "10837     5.0       4                3.6M         100+  Free     0   \n",
       "10838     NaN       3                9.5M       1,000+  Free     0   \n",
       "10839     4.5     114  Varies with device       1,000+  Free     0   \n",
       "10840     4.5  398307                 19M  10,000,000+  Free     0   \n",
       "\n",
       "      Content Rating                     Genres      Last Updated  \\\n",
       "0           Everyone               Art & Design   January 7, 2018   \n",
       "1           Everyone  Art & Design;Pretend Play  January 15, 2018   \n",
       "2           Everyone               Art & Design    August 1, 2018   \n",
       "3               Teen               Art & Design      June 8, 2018   \n",
       "4           Everyone    Art & Design;Creativity     June 20, 2018   \n",
       "...              ...                        ...               ...   \n",
       "10836       Everyone                  Education     July 25, 2017   \n",
       "10837       Everyone                  Education      July 6, 2018   \n",
       "10838       Everyone                    Medical  January 20, 2017   \n",
       "10839     Mature 17+          Books & Reference  January 19, 2015   \n",
       "10840       Everyone                  Lifestyle     July 25, 2018   \n",
       "\n",
       "              Current Ver         Android Ver  \n",
       "0                   1.0.0        4.0.3 and up  \n",
       "1                   2.0.0        4.0.3 and up  \n",
       "2                   1.2.4        4.0.3 and up  \n",
       "3      Varies with device          4.2 and up  \n",
       "4                     1.1          4.4 and up  \n",
       "...                   ...                 ...  \n",
       "10836                1.48          4.1 and up  \n",
       "10837                 1.0          4.1 and up  \n",
       "10838                 1.0          2.2 and up  \n",
       "10839  Varies with device  Varies with device  \n",
       "10840  Varies with device  Varies with device  \n",
       "\n",
       "[10841 rows x 13 columns]"
      ]
     },
     "execution_count": 995,
     "metadata": {},
     "output_type": "execute_result"
    }
   ],
   "source": [
    "#The data_set\n",
    "\n",
    "data_set"
   ]
  },
  {
   "cell_type": "markdown",
   "id": "7192f8b3",
   "metadata": {},
   "source": [
    "The Dataset discribes the Google App Store Rating Dataset."
   ]
  },
  {
   "cell_type": "markdown",
   "id": "77fc4517",
   "metadata": {},
   "source": [
    "# 2)Check the first few samples, shape, info of the data and try to familiarize yourself with different features."
   ]
  },
  {
   "cell_type": "code",
   "execution_count": 996,
   "id": "8a27cdec",
   "metadata": {},
   "outputs": [
    {
     "data": {
      "text/html": [
       "<div>\n",
       "<style scoped>\n",
       "    .dataframe tbody tr th:only-of-type {\n",
       "        vertical-align: middle;\n",
       "    }\n",
       "\n",
       "    .dataframe tbody tr th {\n",
       "        vertical-align: top;\n",
       "    }\n",
       "\n",
       "    .dataframe thead th {\n",
       "        text-align: right;\n",
       "    }\n",
       "</style>\n",
       "<table border=\"1\" class=\"dataframe\">\n",
       "  <thead>\n",
       "    <tr style=\"text-align: right;\">\n",
       "      <th></th>\n",
       "      <th>App</th>\n",
       "      <th>Category</th>\n",
       "      <th>Rating</th>\n",
       "      <th>Reviews</th>\n",
       "      <th>Size</th>\n",
       "      <th>Installs</th>\n",
       "      <th>Type</th>\n",
       "      <th>Price</th>\n",
       "      <th>Content Rating</th>\n",
       "      <th>Genres</th>\n",
       "      <th>Last Updated</th>\n",
       "      <th>Current Ver</th>\n",
       "      <th>Android Ver</th>\n",
       "    </tr>\n",
       "  </thead>\n",
       "  <tbody>\n",
       "    <tr>\n",
       "      <th>4561</th>\n",
       "      <td>Neon-R (Red)</td>\n",
       "      <td>PERSONALIZATION</td>\n",
       "      <td>4.7</td>\n",
       "      <td>25</td>\n",
       "      <td>41M</td>\n",
       "      <td>100+</td>\n",
       "      <td>Paid</td>\n",
       "      <td>$0.99</td>\n",
       "      <td>Everyone</td>\n",
       "      <td>Personalization</td>\n",
       "      <td>March 12, 2015</td>\n",
       "      <td>1.0</td>\n",
       "      <td>4.0.3 and up</td>\n",
       "    </tr>\n",
       "    <tr>\n",
       "      <th>3799</th>\n",
       "      <td>AC - Tips &amp; News for Android™</td>\n",
       "      <td>NEWS_AND_MAGAZINES</td>\n",
       "      <td>4.2</td>\n",
       "      <td>23292</td>\n",
       "      <td>14M</td>\n",
       "      <td>1,000,000+</td>\n",
       "      <td>Free</td>\n",
       "      <td>0</td>\n",
       "      <td>Everyone 10+</td>\n",
       "      <td>News &amp; Magazines</td>\n",
       "      <td>May 24, 2018</td>\n",
       "      <td>3.1.12</td>\n",
       "      <td>4.1 and up</td>\n",
       "    </tr>\n",
       "    <tr>\n",
       "      <th>3735</th>\n",
       "      <td>BBC Persian | BBC Farsi News</td>\n",
       "      <td>NEWS_AND_MAGAZINES</td>\n",
       "      <td>4.3</td>\n",
       "      <td>978</td>\n",
       "      <td>2.9M</td>\n",
       "      <td>100,000+</td>\n",
       "      <td>Free</td>\n",
       "      <td>0</td>\n",
       "      <td>Everyone</td>\n",
       "      <td>News &amp; Magazines</td>\n",
       "      <td>May 12, 2018</td>\n",
       "      <td>1.8.2</td>\n",
       "      <td>4.0.3 and up</td>\n",
       "    </tr>\n",
       "  </tbody>\n",
       "</table>\n",
       "</div>"
      ],
      "text/plain": [
       "                                App            Category  Rating Reviews  Size  \\\n",
       "4561                   Neon-R (Red)     PERSONALIZATION     4.7      25   41M   \n",
       "3799  AC - Tips & News for Android™  NEWS_AND_MAGAZINES     4.2   23292   14M   \n",
       "3735   BBC Persian | BBC Farsi News  NEWS_AND_MAGAZINES     4.3     978  2.9M   \n",
       "\n",
       "        Installs  Type  Price Content Rating            Genres  \\\n",
       "4561        100+  Paid  $0.99       Everyone   Personalization   \n",
       "3799  1,000,000+  Free      0   Everyone 10+  News & Magazines   \n",
       "3735    100,000+  Free      0       Everyone  News & Magazines   \n",
       "\n",
       "        Last Updated Current Ver   Android Ver  \n",
       "4561  March 12, 2015         1.0  4.0.3 and up  \n",
       "3799    May 24, 2018      3.1.12    4.1 and up  \n",
       "3735    May 12, 2018       1.8.2  4.0.3 and up  "
      ]
     },
     "execution_count": 996,
     "metadata": {},
     "output_type": "execute_result"
    }
   ],
   "source": [
    "#To view some samples\n",
    "\n",
    "data_set.sample(3)"
   ]
  },
  {
   "cell_type": "code",
   "execution_count": 997,
   "id": "9524730b",
   "metadata": {},
   "outputs": [
    {
     "data": {
      "text/plain": [
       "(10841, 13)"
      ]
     },
     "execution_count": 997,
     "metadata": {},
     "output_type": "execute_result"
    }
   ],
   "source": [
    "#To know the shape of the data (Rows,columns)\n",
    "\n",
    "data_set.shape"
   ]
  },
  {
   "cell_type": "markdown",
   "id": "a8d4063b",
   "metadata": {},
   "source": [
    "From the shape function it explains that there are 10841 rows and 13 columns"
   ]
  },
  {
   "cell_type": "code",
   "execution_count": 998,
   "id": "3bd92b90",
   "metadata": {},
   "outputs": [
    {
     "data": {
      "text/plain": [
       "App                object\n",
       "Category           object\n",
       "Rating            float64\n",
       "Reviews            object\n",
       "Size               object\n",
       "Installs           object\n",
       "Type               object\n",
       "Price              object\n",
       "Content Rating     object\n",
       "Genres             object\n",
       "Last Updated       object\n",
       "Current Ver        object\n",
       "Android Ver        object\n",
       "dtype: object"
      ]
     },
     "execution_count": 998,
     "metadata": {},
     "output_type": "execute_result"
    }
   ],
   "source": [
    "#To know the datatypes of the dataset\n",
    "\n",
    "data_set.dtypes"
   ]
  },
  {
   "cell_type": "code",
   "execution_count": 999,
   "id": "c6cb7694",
   "metadata": {},
   "outputs": [
    {
     "name": "stdout",
     "output_type": "stream",
     "text": [
      "<class 'pandas.core.frame.DataFrame'>\n",
      "RangeIndex: 10841 entries, 0 to 10840\n",
      "Data columns (total 13 columns):\n",
      " #   Column          Non-Null Count  Dtype  \n",
      "---  ------          --------------  -----  \n",
      " 0   App             10841 non-null  object \n",
      " 1   Category        10841 non-null  object \n",
      " 2   Rating          9367 non-null   float64\n",
      " 3   Reviews         10841 non-null  object \n",
      " 4   Size            10841 non-null  object \n",
      " 5   Installs        10841 non-null  object \n",
      " 6   Type            10840 non-null  object \n",
      " 7   Price           10841 non-null  object \n",
      " 8   Content Rating  10840 non-null  object \n",
      " 9   Genres          10841 non-null  object \n",
      " 10  Last Updated    10841 non-null  object \n",
      " 11  Current Ver     10833 non-null  object \n",
      " 12  Android Ver     10838 non-null  object \n",
      "dtypes: float64(1), object(12)\n",
      "memory usage: 1.1+ MB\n"
     ]
    }
   ],
   "source": [
    "#To know the info() of the dataset\n",
    "\n",
    "data_set.info()"
   ]
  },
  {
   "cell_type": "markdown",
   "id": "dac8ef97",
   "metadata": {},
   "source": [
    "From the info() and dtypes,it shows that there are 12 object and 1 float datatypes\n",
    "\n",
    "Some of the catagorical data can be converted into Numerical data(size,installs,price,.....)"
   ]
  },
  {
   "cell_type": "markdown",
   "id": "ad04849e",
   "metadata": {},
   "source": [
    "# 3) Check summary statistics of the dataset. List out the columns that need to be worked upon for model building."
   ]
  },
  {
   "cell_type": "code",
   "execution_count": 1000,
   "id": "bfe7549a",
   "metadata": {},
   "outputs": [
    {
     "data": {
      "text/html": [
       "<div>\n",
       "<style scoped>\n",
       "    .dataframe tbody tr th:only-of-type {\n",
       "        vertical-align: middle;\n",
       "    }\n",
       "\n",
       "    .dataframe tbody tr th {\n",
       "        vertical-align: top;\n",
       "    }\n",
       "\n",
       "    .dataframe thead th {\n",
       "        text-align: right;\n",
       "    }\n",
       "</style>\n",
       "<table border=\"1\" class=\"dataframe\">\n",
       "  <thead>\n",
       "    <tr style=\"text-align: right;\">\n",
       "      <th></th>\n",
       "      <th>Rating</th>\n",
       "    </tr>\n",
       "  </thead>\n",
       "  <tbody>\n",
       "    <tr>\n",
       "      <th>count</th>\n",
       "      <td>9367.000000</td>\n",
       "    </tr>\n",
       "    <tr>\n",
       "      <th>mean</th>\n",
       "      <td>4.193338</td>\n",
       "    </tr>\n",
       "    <tr>\n",
       "      <th>std</th>\n",
       "      <td>0.537431</td>\n",
       "    </tr>\n",
       "    <tr>\n",
       "      <th>min</th>\n",
       "      <td>1.000000</td>\n",
       "    </tr>\n",
       "    <tr>\n",
       "      <th>25%</th>\n",
       "      <td>4.000000</td>\n",
       "    </tr>\n",
       "    <tr>\n",
       "      <th>50%</th>\n",
       "      <td>4.300000</td>\n",
       "    </tr>\n",
       "    <tr>\n",
       "      <th>75%</th>\n",
       "      <td>4.500000</td>\n",
       "    </tr>\n",
       "    <tr>\n",
       "      <th>max</th>\n",
       "      <td>19.000000</td>\n",
       "    </tr>\n",
       "  </tbody>\n",
       "</table>\n",
       "</div>"
      ],
      "text/plain": [
       "            Rating\n",
       "count  9367.000000\n",
       "mean      4.193338\n",
       "std       0.537431\n",
       "min       1.000000\n",
       "25%       4.000000\n",
       "50%       4.300000\n",
       "75%       4.500000\n",
       "max      19.000000"
      ]
     },
     "execution_count": 1000,
     "metadata": {},
     "output_type": "execute_result"
    }
   ],
   "source": [
    "#To find the statistical summary for Numerical columns\n",
    "\n",
    "data_set.describe()"
   ]
  },
  {
   "cell_type": "code",
   "execution_count": 1001,
   "id": "719ab902",
   "metadata": {},
   "outputs": [
    {
     "data": {
      "text/html": [
       "<div>\n",
       "<style scoped>\n",
       "    .dataframe tbody tr th:only-of-type {\n",
       "        vertical-align: middle;\n",
       "    }\n",
       "\n",
       "    .dataframe tbody tr th {\n",
       "        vertical-align: top;\n",
       "    }\n",
       "\n",
       "    .dataframe thead th {\n",
       "        text-align: right;\n",
       "    }\n",
       "</style>\n",
       "<table border=\"1\" class=\"dataframe\">\n",
       "  <thead>\n",
       "    <tr style=\"text-align: right;\">\n",
       "      <th></th>\n",
       "      <th>App</th>\n",
       "      <th>Category</th>\n",
       "      <th>Reviews</th>\n",
       "      <th>Size</th>\n",
       "      <th>Installs</th>\n",
       "      <th>Type</th>\n",
       "      <th>Price</th>\n",
       "      <th>Content Rating</th>\n",
       "      <th>Genres</th>\n",
       "      <th>Last Updated</th>\n",
       "      <th>Current Ver</th>\n",
       "      <th>Android Ver</th>\n",
       "    </tr>\n",
       "  </thead>\n",
       "  <tbody>\n",
       "    <tr>\n",
       "      <th>count</th>\n",
       "      <td>10841</td>\n",
       "      <td>10841</td>\n",
       "      <td>10841</td>\n",
       "      <td>10841</td>\n",
       "      <td>10841</td>\n",
       "      <td>10840</td>\n",
       "      <td>10841</td>\n",
       "      <td>10840</td>\n",
       "      <td>10841</td>\n",
       "      <td>10841</td>\n",
       "      <td>10833</td>\n",
       "      <td>10838</td>\n",
       "    </tr>\n",
       "    <tr>\n",
       "      <th>unique</th>\n",
       "      <td>9660</td>\n",
       "      <td>34</td>\n",
       "      <td>6002</td>\n",
       "      <td>462</td>\n",
       "      <td>22</td>\n",
       "      <td>3</td>\n",
       "      <td>93</td>\n",
       "      <td>6</td>\n",
       "      <td>120</td>\n",
       "      <td>1378</td>\n",
       "      <td>2832</td>\n",
       "      <td>33</td>\n",
       "    </tr>\n",
       "    <tr>\n",
       "      <th>top</th>\n",
       "      <td>ROBLOX</td>\n",
       "      <td>FAMILY</td>\n",
       "      <td>0</td>\n",
       "      <td>Varies with device</td>\n",
       "      <td>1,000,000+</td>\n",
       "      <td>Free</td>\n",
       "      <td>0</td>\n",
       "      <td>Everyone</td>\n",
       "      <td>Tools</td>\n",
       "      <td>August 3, 2018</td>\n",
       "      <td>Varies with device</td>\n",
       "      <td>4.1 and up</td>\n",
       "    </tr>\n",
       "    <tr>\n",
       "      <th>freq</th>\n",
       "      <td>9</td>\n",
       "      <td>1972</td>\n",
       "      <td>596</td>\n",
       "      <td>1695</td>\n",
       "      <td>1579</td>\n",
       "      <td>10039</td>\n",
       "      <td>10040</td>\n",
       "      <td>8714</td>\n",
       "      <td>842</td>\n",
       "      <td>326</td>\n",
       "      <td>1459</td>\n",
       "      <td>2451</td>\n",
       "    </tr>\n",
       "  </tbody>\n",
       "</table>\n",
       "</div>"
      ],
      "text/plain": [
       "           App Category Reviews                Size    Installs   Type  Price  \\\n",
       "count    10841    10841   10841               10841       10841  10840  10841   \n",
       "unique    9660       34    6002                 462          22      3     93   \n",
       "top     ROBLOX   FAMILY       0  Varies with device  1,000,000+   Free      0   \n",
       "freq         9     1972     596                1695        1579  10039  10040   \n",
       "\n",
       "       Content Rating Genres    Last Updated         Current Ver Android Ver  \n",
       "count           10840  10841           10841               10833       10838  \n",
       "unique              6    120            1378                2832          33  \n",
       "top          Everyone  Tools  August 3, 2018  Varies with device  4.1 and up  \n",
       "freq             8714    842             326                1459        2451  "
      ]
     },
     "execution_count": 1001,
     "metadata": {},
     "output_type": "execute_result"
    }
   ],
   "source": [
    "#To find the statistical summary for catagorical columns\n",
    "\n",
    "data_set.describe(include=object)"
   ]
  },
  {
   "cell_type": "code",
   "execution_count": 1002,
   "id": "d8b0d655",
   "metadata": {},
   "outputs": [
    {
     "data": {
      "text/plain": [
       "Index(['App', 'Category', 'Rating', 'Reviews', 'Size', 'Installs', 'Type',\n",
       "       'Price', 'Content Rating', 'Genres', 'Last Updated', 'Current Ver',\n",
       "       'Android Ver'],\n",
       "      dtype='object')"
      ]
     },
     "execution_count": 1002,
     "metadata": {},
     "output_type": "execute_result"
    }
   ],
   "source": [
    "#To view the columns in the dataset\n",
    "\n",
    "data_set.columns"
   ]
  },
  {
   "cell_type": "markdown",
   "id": "75f17ea3",
   "metadata": {},
   "source": [
    "Inference:\n",
    "\n",
    "Except 'App','Genres','Last Updated', 'Current Ver','Android Ver',all the columns are used to build a model for predictive analysis"
   ]
  },
  {
   "cell_type": "markdown",
   "id": "b05b0eef",
   "metadata": {},
   "source": [
    "# 4) Check if there are any duplicate records in the dataset? if any drop them."
   ]
  },
  {
   "cell_type": "code",
   "execution_count": 1003,
   "id": "eb40c633",
   "metadata": {},
   "outputs": [
    {
     "data": {
      "text/plain": [
       "1181"
      ]
     },
     "execution_count": 1003,
     "metadata": {},
     "output_type": "execute_result"
    }
   ],
   "source": [
    "#To find the duplicate values\n",
    "\n",
    "data_set.duplicated('App').sum()"
   ]
  },
  {
   "cell_type": "code",
   "execution_count": 1004,
   "id": "e67e65e3",
   "metadata": {},
   "outputs": [],
   "source": [
    "#Removing Duplicates using drop() function\n",
    "\n",
    "data_set.drop_duplicates('App',keep='last',inplace=True)"
   ]
  },
  {
   "cell_type": "code",
   "execution_count": 1005,
   "id": "03d3d3ca",
   "metadata": {},
   "outputs": [
    {
     "data": {
      "text/plain": [
       "0"
      ]
     },
     "execution_count": 1005,
     "metadata": {},
     "output_type": "execute_result"
    }
   ],
   "source": [
    "#To check the duplicate values after dropping\n",
    "\n",
    "data_set.duplicated('App').sum()"
   ]
  },
  {
   "cell_type": "markdown",
   "id": "43e587bf",
   "metadata": {},
   "source": [
    "# 5. Check the unique categories of the column 'Category', Is there any invalid category? If yes, drop them."
   ]
  },
  {
   "cell_type": "code",
   "execution_count": 1006,
   "id": "1c92505b",
   "metadata": {},
   "outputs": [
    {
     "data": {
      "text/plain": [
       "Category\n",
       "FAMILY                 1906\n",
       "GAME                    926\n",
       "TOOLS                   829\n",
       "BUSINESS                419\n",
       "MEDICAL                 396\n",
       "PERSONALIZATION         376\n",
       "PRODUCTIVITY            374\n",
       "LIFESTYLE               369\n",
       "FINANCE                 345\n",
       "SPORTS                  327\n",
       "COMMUNICATION           316\n",
       "HEALTH_AND_FITNESS      287\n",
       "PHOTOGRAPHY             281\n",
       "NEWS_AND_MAGAZINES      254\n",
       "SOCIAL                  239\n",
       "BOOKS_AND_REFERENCE     222\n",
       "TRAVEL_AND_LOCAL        219\n",
       "SHOPPING                202\n",
       "DATING                  170\n",
       "VIDEO_PLAYERS           163\n",
       "MAPS_AND_NAVIGATION     131\n",
       "FOOD_AND_DRINK          112\n",
       "EDUCATION               102\n",
       "AUTO_AND_VEHICLES        85\n",
       "LIBRARIES_AND_DEMO       84\n",
       "WEATHER                  79\n",
       "ENTERTAINMENT            79\n",
       "HOUSE_AND_HOME           73\n",
       "EVENTS                   64\n",
       "ART_AND_DESIGN           61\n",
       "PARENTING                60\n",
       "COMICS                   56\n",
       "BEAUTY                   53\n",
       "1.9                       1\n",
       "Name: count, dtype: int64"
      ]
     },
     "execution_count": 1006,
     "metadata": {},
     "output_type": "execute_result"
    }
   ],
   "source": [
    "#To find the unique values counts\n",
    "\n",
    "data_set['Category'].value_counts()"
   ]
  },
  {
   "cell_type": "code",
   "execution_count": 1007,
   "id": "df2c4d31",
   "metadata": {},
   "outputs": [],
   "source": [
    "#Replacing the non-unique values \n",
    "\n",
    "garbage_value=data_set['Category']=='1.9'\n",
    "garbage_value.sum()\n",
    "\n",
    "data_set[garbage_value]=data_set[garbage_value].dropna()"
   ]
  },
  {
   "cell_type": "code",
   "execution_count": 1008,
   "id": "7f453c62",
   "metadata": {},
   "outputs": [
    {
     "data": {
      "text/plain": [
       "Category\n",
       "FAMILY                 1906\n",
       "GAME                    926\n",
       "TOOLS                   829\n",
       "BUSINESS                419\n",
       "MEDICAL                 396\n",
       "PERSONALIZATION         376\n",
       "PRODUCTIVITY            374\n",
       "LIFESTYLE               369\n",
       "FINANCE                 345\n",
       "SPORTS                  327\n",
       "COMMUNICATION           316\n",
       "HEALTH_AND_FITNESS      287\n",
       "PHOTOGRAPHY             281\n",
       "NEWS_AND_MAGAZINES      254\n",
       "SOCIAL                  239\n",
       "BOOKS_AND_REFERENCE     222\n",
       "TRAVEL_AND_LOCAL        219\n",
       "SHOPPING                202\n",
       "DATING                  170\n",
       "VIDEO_PLAYERS           163\n",
       "MAPS_AND_NAVIGATION     131\n",
       "FOOD_AND_DRINK          112\n",
       "EDUCATION               102\n",
       "AUTO_AND_VEHICLES        85\n",
       "LIBRARIES_AND_DEMO       84\n",
       "ENTERTAINMENT            79\n",
       "WEATHER                  79\n",
       "HOUSE_AND_HOME           73\n",
       "EVENTS                   64\n",
       "ART_AND_DESIGN           61\n",
       "PARENTING                60\n",
       "COMICS                   56\n",
       "BEAUTY                   53\n",
       "Name: count, dtype: int64"
      ]
     },
     "execution_count": 1008,
     "metadata": {},
     "output_type": "execute_result"
    }
   ],
   "source": [
    "data_set['Category'].value_counts()"
   ]
  },
  {
   "cell_type": "markdown",
   "id": "26e5b324",
   "metadata": {},
   "source": [
    "# 6) Check if there are missing values present in the column Rating, If any? drop them and and create a new column as 'Rating_category' by converting ratings to high and low categories(>3.5 is high rest low)"
   ]
  },
  {
   "cell_type": "code",
   "execution_count": 1009,
   "id": "7774ff34",
   "metadata": {},
   "outputs": [
    {
     "data": {
      "text/plain": [
       "1464"
      ]
     },
     "execution_count": 1009,
     "metadata": {},
     "output_type": "execute_result"
    }
   ],
   "source": [
    "#To check the null values in Rating catagory\n",
    "\n",
    "data_set['Rating'].isnull().sum()"
   ]
  },
  {
   "cell_type": "code",
   "execution_count": 1010,
   "id": "a3088edd",
   "metadata": {},
   "outputs": [],
   "source": [
    "#Replacing the null values\n",
    "\n",
    "data_set['Rating']=data_set['Rating'].fillna(data_set['Rating'].median())"
   ]
  },
  {
   "cell_type": "code",
   "execution_count": 1011,
   "id": "2211d51e",
   "metadata": {},
   "outputs": [
    {
     "data": {
      "text/plain": [
       "0"
      ]
     },
     "execution_count": 1011,
     "metadata": {},
     "output_type": "execute_result"
    }
   ],
   "source": [
    "#To check the null values in Rating catagory after replacing\n",
    "\n",
    "data_set['Rating'].isnull().sum()"
   ]
  },
  {
   "cell_type": "code",
   "execution_count": 1012,
   "id": "aedecfe1",
   "metadata": {},
   "outputs": [],
   "source": [
    "#Creating a new column Rating_category using lambda function\n",
    "\n",
    "data_set['Rating_category']=data_set['Rating'].apply(lambda x:'High' if x>3.5 else 'Low')"
   ]
  },
  {
   "cell_type": "code",
   "execution_count": 1013,
   "id": "4518fae3",
   "metadata": {},
   "outputs": [
    {
     "data": {
      "text/html": [
       "<div>\n",
       "<style scoped>\n",
       "    .dataframe tbody tr th:only-of-type {\n",
       "        vertical-align: middle;\n",
       "    }\n",
       "\n",
       "    .dataframe tbody tr th {\n",
       "        vertical-align: top;\n",
       "    }\n",
       "\n",
       "    .dataframe thead th {\n",
       "        text-align: right;\n",
       "    }\n",
       "</style>\n",
       "<table border=\"1\" class=\"dataframe\">\n",
       "  <thead>\n",
       "    <tr style=\"text-align: right;\">\n",
       "      <th></th>\n",
       "      <th>App</th>\n",
       "      <th>Category</th>\n",
       "      <th>Rating</th>\n",
       "      <th>Reviews</th>\n",
       "      <th>Size</th>\n",
       "      <th>Installs</th>\n",
       "      <th>Type</th>\n",
       "      <th>Price</th>\n",
       "      <th>Content Rating</th>\n",
       "      <th>Genres</th>\n",
       "      <th>Last Updated</th>\n",
       "      <th>Current Ver</th>\n",
       "      <th>Android Ver</th>\n",
       "      <th>Rating_category</th>\n",
       "    </tr>\n",
       "  </thead>\n",
       "  <tbody>\n",
       "    <tr>\n",
       "      <th>8733</th>\n",
       "      <td>CHRONO TRIGGER (Upgrade Ver.)</td>\n",
       "      <td>FAMILY</td>\n",
       "      <td>3.8</td>\n",
       "      <td>11250</td>\n",
       "      <td>6.3M</td>\n",
       "      <td>100,000+</td>\n",
       "      <td>Paid</td>\n",
       "      <td>$9.99</td>\n",
       "      <td>Everyone 10+</td>\n",
       "      <td>Role Playing</td>\n",
       "      <td>June 12, 2018</td>\n",
       "      <td>2.0.4</td>\n",
       "      <td>4.2 and up</td>\n",
       "      <td>High</td>\n",
       "    </tr>\n",
       "    <tr>\n",
       "      <th>1314</th>\n",
       "      <td>JEFIT Workout Tracker, Weight Lifting, Gym Log...</td>\n",
       "      <td>HEALTH_AND_FITNESS</td>\n",
       "      <td>4.5</td>\n",
       "      <td>60096</td>\n",
       "      <td>27M</td>\n",
       "      <td>5,000,000+</td>\n",
       "      <td>Free</td>\n",
       "      <td>0</td>\n",
       "      <td>Teen</td>\n",
       "      <td>Health &amp; Fitness</td>\n",
       "      <td>April 7, 2018</td>\n",
       "      <td>10.0</td>\n",
       "      <td>4.0.3 and up</td>\n",
       "      <td>High</td>\n",
       "    </tr>\n",
       "    <tr>\n",
       "      <th>6922</th>\n",
       "      <td>BW Map mobile</td>\n",
       "      <td>TRAVEL_AND_LOCAL</td>\n",
       "      <td>3.6</td>\n",
       "      <td>57</td>\n",
       "      <td>32M</td>\n",
       "      <td>10,000+</td>\n",
       "      <td>Free</td>\n",
       "      <td>0</td>\n",
       "      <td>Everyone</td>\n",
       "      <td>Travel &amp; Local</td>\n",
       "      <td>May 31, 2018</td>\n",
       "      <td>3.2</td>\n",
       "      <td>4.0 and up</td>\n",
       "      <td>High</td>\n",
       "    </tr>\n",
       "    <tr>\n",
       "      <th>10371</th>\n",
       "      <td>Angry Birds Space HD</td>\n",
       "      <td>GAME</td>\n",
       "      <td>4.5</td>\n",
       "      <td>43645</td>\n",
       "      <td>46M</td>\n",
       "      <td>5,000,000+</td>\n",
       "      <td>Free</td>\n",
       "      <td>0</td>\n",
       "      <td>Everyone</td>\n",
       "      <td>Arcade</td>\n",
       "      <td>May 25, 2018</td>\n",
       "      <td>2.2.13</td>\n",
       "      <td>4.1 and up</td>\n",
       "      <td>High</td>\n",
       "    </tr>\n",
       "    <tr>\n",
       "      <th>7865</th>\n",
       "      <td>CT Brain Interpretation</td>\n",
       "      <td>FAMILY</td>\n",
       "      <td>5.0</td>\n",
       "      <td>3</td>\n",
       "      <td>29M</td>\n",
       "      <td>500+</td>\n",
       "      <td>Free</td>\n",
       "      <td>0</td>\n",
       "      <td>Everyone</td>\n",
       "      <td>Education</td>\n",
       "      <td>July 4, 2018</td>\n",
       "      <td>5.0.16</td>\n",
       "      <td>4.0 and up</td>\n",
       "      <td>High</td>\n",
       "    </tr>\n",
       "  </tbody>\n",
       "</table>\n",
       "</div>"
      ],
      "text/plain": [
       "                                                     App            Category  \\\n",
       "8733                       CHRONO TRIGGER (Upgrade Ver.)              FAMILY   \n",
       "1314   JEFIT Workout Tracker, Weight Lifting, Gym Log...  HEALTH_AND_FITNESS   \n",
       "6922                                       BW Map mobile    TRAVEL_AND_LOCAL   \n",
       "10371                               Angry Birds Space HD                GAME   \n",
       "7865                             CT Brain Interpretation              FAMILY   \n",
       "\n",
       "       Rating Reviews  Size    Installs  Type  Price Content Rating  \\\n",
       "8733      3.8   11250  6.3M    100,000+  Paid  $9.99   Everyone 10+   \n",
       "1314      4.5   60096   27M  5,000,000+  Free      0           Teen   \n",
       "6922      3.6      57   32M     10,000+  Free      0       Everyone   \n",
       "10371     4.5   43645   46M  5,000,000+  Free      0       Everyone   \n",
       "7865      5.0       3   29M        500+  Free      0       Everyone   \n",
       "\n",
       "                 Genres   Last Updated Current Ver   Android Ver  \\\n",
       "8733       Role Playing  June 12, 2018       2.0.4    4.2 and up   \n",
       "1314   Health & Fitness  April 7, 2018        10.0  4.0.3 and up   \n",
       "6922     Travel & Local   May 31, 2018         3.2    4.0 and up   \n",
       "10371            Arcade   May 25, 2018      2.2.13    4.1 and up   \n",
       "7865          Education   July 4, 2018      5.0.16    4.0 and up   \n",
       "\n",
       "      Rating_category  \n",
       "8733             High  \n",
       "1314             High  \n",
       "6922             High  \n",
       "10371            High  \n",
       "7865             High  "
      ]
     },
     "execution_count": 1013,
     "metadata": {},
     "output_type": "execute_result"
    }
   ],
   "source": [
    "#data_set after creating the new column\n",
    "\n",
    "data_set.sample(5)"
   ]
  },
  {
   "cell_type": "markdown",
   "id": "f8d8dd54",
   "metadata": {},
   "source": [
    "# 7) Check the distribution of the newly created column 'Rating_category' and comment on the distribution."
   ]
  },
  {
   "cell_type": "code",
   "execution_count": 1014,
   "id": "ef6af54b",
   "metadata": {},
   "outputs": [
    {
     "data": {
      "text/plain": [
       "count     9660\n",
       "unique       2\n",
       "top       High\n",
       "freq      8787\n",
       "Name: Rating_category, dtype: object"
      ]
     },
     "execution_count": 1014,
     "metadata": {},
     "output_type": "execute_result"
    }
   ],
   "source": [
    "#To check the statistical summary\n",
    "\n",
    "data_set['Rating_category'].describe()"
   ]
  },
  {
   "cell_type": "code",
   "execution_count": 1015,
   "id": "27811239",
   "metadata": {},
   "outputs": [
    {
     "data": {
      "text/plain": [
       "Rating_category\n",
       "High    8787\n",
       "Low      873\n",
       "Name: count, dtype: int64"
      ]
     },
     "execution_count": 1015,
     "metadata": {},
     "output_type": "execute_result"
    }
   ],
   "source": [
    "#To view the number of values in the Rating_category\n",
    "\n",
    "data_set['Rating_category'].value_counts()"
   ]
  },
  {
   "cell_type": "code",
   "execution_count": 1016,
   "id": "2aac8e4a",
   "metadata": {},
   "outputs": [
    {
     "data": {
      "image/png": "[encoded data removed]",
      "text/plain": [
       "<Figure size 640x480 with 1 Axes>"
      ]
     },
     "metadata": {},
     "output_type": "display_data"
    }
   ],
   "source": [
    "#To view the distribution of Rating_category column using countplot\n",
    "\n",
    "sns.countplot(x='Rating_category', data=data_set,palette='hls')\n",
    "plt.title('Distribution of Rating_category')\n",
    "plt.show()"
   ]
  },
  {
   "cell_type": "markdown",
   "id": "8890e080",
   "metadata": {},
   "source": [
    "From the plot,it describes that the Rating_category has high numeber of rating"
   ]
  },
  {
   "cell_type": "markdown",
   "id": "f3069198",
   "metadata": {},
   "source": [
    "# 8) Convert the column \"Reviews'' to numeric data type and check the presence of outliers in the column and handle the outliers using a transformation approach.(Hint: Use log transformation)"
   ]
  },
  {
   "cell_type": "code",
   "execution_count": 1017,
   "id": "cca3f0ff",
   "metadata": {},
   "outputs": [
    {
     "data": {
      "text/plain": [
       "dtype('O')"
      ]
     },
     "execution_count": 1017,
     "metadata": {},
     "output_type": "execute_result"
    }
   ],
   "source": [
    "#Datatype of Reviews column\n",
    "\n",
    "data_set['Reviews'].dtypes"
   ]
  },
  {
   "cell_type": "code",
   "execution_count": 1018,
   "id": "fb6f2e81",
   "metadata": {},
   "outputs": [],
   "source": [
    "#Converting the Reviews column into numerical\n",
    "\n",
    "data_set['Reviews']=data_set['Reviews'].astype(float)\n"
   ]
  },
  {
   "cell_type": "code",
   "execution_count": 1019,
   "id": "f7c884fe",
   "metadata": {},
   "outputs": [
    {
     "data": {
      "text/plain": [
       "dtype('float64')"
      ]
     },
     "execution_count": 1019,
     "metadata": {},
     "output_type": "execute_result"
    }
   ],
   "source": [
    "#Datatype of Reviews column after converting to numerical\n",
    "\n",
    "data_set['Reviews'].dtypes"
   ]
  },
  {
   "cell_type": "code",
   "execution_count": 1020,
   "id": "48ac4b73",
   "metadata": {},
   "outputs": [
    {
     "data": {
      "text/plain": [
       "1"
      ]
     },
     "execution_count": 1020,
     "metadata": {},
     "output_type": "execute_result"
    }
   ],
   "source": [
    "#To check the null values in Reviews column\n",
    "\n",
    "data_set['Reviews'].isnull().sum()"
   ]
  },
  {
   "cell_type": "code",
   "execution_count": 1021,
   "id": "10fb8621",
   "metadata": {},
   "outputs": [],
   "source": [
    "#Replacing the null values with the mean\n",
    "\n",
    "data_set['Reviews']=data_set['Reviews'].fillna(data_set['Reviews'].mean())"
   ]
  },
  {
   "cell_type": "code",
   "execution_count": 1022,
   "id": "6785116e",
   "metadata": {},
   "outputs": [
    {
     "data": {
      "text/plain": [
       "0"
      ]
     },
     "execution_count": 1022,
     "metadata": {},
     "output_type": "execute_result"
    }
   ],
   "source": [
    "#To check the null values in Reviews column after replacing\n",
    "\n",
    "data_set['Reviews'].isnull().sum()"
   ]
  },
  {
   "cell_type": "code",
   "execution_count": 1023,
   "id": "4bca8ef6",
   "metadata": {},
   "outputs": [
    {
     "data": {
      "text/plain": [
       "26.569791370956434"
      ]
     },
     "execution_count": 1023,
     "metadata": {},
     "output_type": "execute_result"
    }
   ],
   "source": [
    "#To view the skewness\n",
    "\n",
    "data_set['Reviews'].skew()"
   ]
  },
  {
   "cell_type": "code",
   "execution_count": 1024,
   "id": "367374ae",
   "metadata": {},
   "outputs": [
    {
     "data": {
      "image/png": "[encoded data removed]",
      "text/plain": [
       "<Figure size 640x480 with 1 Axes>"
      ]
     },
     "metadata": {},
     "output_type": "display_data"
    }
   ],
   "source": [
    "#Plotting boxplot for viewing outliers\n",
    "\n",
    "data_set.boxplot('Reviews')\n",
    "plt.title('Reviews Catagory')\n",
    "plt.show()"
   ]
  },
  {
   "cell_type": "markdown",
   "id": "b45f7aa5",
   "metadata": {},
   "source": [
    "From the boxplot,it shows that there are more outliers in the boxplot"
   ]
  },
  {
   "cell_type": "code",
   "execution_count": 1025,
   "id": "38a30112",
   "metadata": {},
   "outputs": [],
   "source": [
    "#use of log transformation to reduce the outliers\n",
    "\n",
    "data_set['Reviews']=np.log1p(data_set['Reviews'])"
   ]
  },
  {
   "cell_type": "code",
   "execution_count": 1026,
   "id": "af3777ac",
   "metadata": {},
   "outputs": [
    {
     "data": {
      "text/plain": [
       "0.045603334846059045"
      ]
     },
     "execution_count": 1026,
     "metadata": {},
     "output_type": "execute_result"
    }
   ],
   "source": [
    "#To view the skewness after log transformation\n",
    "\n",
    "data_set['Reviews'].skew()"
   ]
  },
  {
   "cell_type": "code",
   "execution_count": 1027,
   "id": "07ed48f3",
   "metadata": {},
   "outputs": [
    {
     "data": {
      "image/png": "[encoded data removed]",
      "text/plain": [
       "<Figure size 640x480 with 1 Axes>"
      ]
     },
     "metadata": {},
     "output_type": "display_data"
    }
   ],
   "source": [
    "#Plotting boxplot for viewing outliers after log transformation\n",
    "\n",
    "data_set.boxplot('Reviews')\n",
    "plt.title('Reviews Catagory')\n",
    "plt.show()"
   ]
  },
  {
   "cell_type": "markdown",
   "id": "c54adff0",
   "metadata": {},
   "source": [
    "# 9) The column 'Size' contains alphanumeric values, treat the non numeric data and convert the column into suitable data type. (hint: Replace M with 1 million and K with 1 thousand, and drop the entries where size='Varies with device')"
   ]
  },
  {
   "cell_type": "code",
   "execution_count": 1028,
   "id": "d17bc370",
   "metadata": {},
   "outputs": [
    {
     "data": {
      "text/plain": [
       "array(['19M', '8.7M', '25M', '2.8M', '5.6M', '29M', '33M', '3.1M', '28M',\n",
       "       '12M', '20M', '21M', '37M', '2.7M', '5.5M', '17M', '39M', '31M',\n",
       "       '14M', '4.2M', '23M', '6.0M', '6.1M', '4.6M', '9.2M', '5.2M',\n",
       "       '11M', 'Varies with device', '9.4M', '15M', '10M', '1.2M', '24M',\n",
       "       '26M', '8.0M', '7.9M', '56M', '57M', '35M', '54M', '201k', '3.6M',\n",
       "       '5.7M', '8.6M', '2.4M', '27M', '2.5M', '7.0M', '16M', '3.4M',\n",
       "       '8.9M', '3.9M', '2.9M', '38M', '32M', '5.4M', '18M', '1.1M',\n",
       "       '2.2M', '4.5M', '9.8M', '52M', '9.0M', '6.7M', '30M', '2.6M',\n",
       "       '7.1M', '3.7M', '22M', '7.4M', '6.4M', '3.2M', '8.2M', '9.9M',\n",
       "       '4.9M', '9.5M', '5.0M', '5.9M', '13M', '73M', '6.8M', '3.5M',\n",
       "       '4.0M', '2.3M', '7.2M', '2.1M', '42M', '7.3M', '9.1M', '55M',\n",
       "       '23k', '6.5M', '1.5M', '7.5M', '46M', '51M', '48M', '8.5M', '41M',\n",
       "       '8.3M', '4.3M', '4.7M', '3.3M', '40M', '7.8M', '8.8M', '6.6M',\n",
       "       '5.1M', '61M', '8.4M', '118k', '44M', '695k', '1.6M', '18k', '53M',\n",
       "       '6.2M', '3.0M', '5.8M', '3.8M', '9.6M', '45M', '63M', '49M',\n",
       "       '4.4M', '70M', '6.9M', '9.3M', '10.0M', '8.1M', '4.8M', '36M',\n",
       "       '77M', '84M', '97M', '2.0M', '1.9M', '1.8M', '5.3M', '47M', '556k',\n",
       "       '526k', '7.6M', '76M', '9.7M', '78M', '72M', '43M', '7.7M', '6.3M',\n",
       "       '334k', '1.4M', '34M', '93M', '65M', '100M', '50M', '68M', '79M',\n",
       "       '64M', '67M', '94M', '59M', '60M', '58M', '232k', '99M', '624k',\n",
       "       '95M', '8.5k', '41k', '292k', '11k', '80M', '1.7M', '69M', '71M',\n",
       "       '62M', '98M', '85M', '86M', '82M', '81M', '96M', '91M', '83M',\n",
       "       '87M', '66M', '75M', '92M', '862k', '899k', '378k', '266k', '375k',\n",
       "       '74M', '1.3M', '975k', '980k', '4.1M', '89M', '88M', '696k',\n",
       "       '544k', '525k', '920k', '779k', '853k', '720k', '713k', '772k',\n",
       "       '318k', '58k', '241k', '196k', '857k', '51k', '953k', '865k',\n",
       "       '251k', '930k', '540k', '313k', '746k', '203k', '26k', '314k',\n",
       "       '79k', '239k', '371k', '220k', '730k', '756k', '91k', '293k',\n",
       "       '17k', '74k', '14k', '317k', '78k', '924k', '902k', '818k', '81k',\n",
       "       '939k', '169k', '45k', '475k', '965k', '90M', '545k', '61k',\n",
       "       '283k', '655k', '714k', '93k', '872k', '121k', '322k', '1.0M',\n",
       "       '976k', '172k', '238k', '549k', '206k', '954k', '444k', '717k',\n",
       "       '210k', '609k', '308k', '705k', '306k', '904k', '473k', '175k',\n",
       "       '350k', '383k', '454k', '421k', '70k', '812k', '442k', '842k',\n",
       "       '417k', '412k', '459k', '478k', '335k', '782k', '721k', '430k',\n",
       "       '429k', '192k', '200k', '460k', '728k', '496k', '816k', '414k',\n",
       "       '506k', '704k', '887k', '613k', '243k', '569k', '778k', '683k',\n",
       "       '592k', '319k', '186k', '840k', '647k', '191k', '373k', '437k',\n",
       "       '598k', '716k', '585k', '982k', '222k', '219k', '55k', '948k',\n",
       "       '323k', '691k', '511k', '951k', '963k', '25k', '554k', '351k',\n",
       "       '27k', '82k', '208k', '913k', '514k', '551k', '29k', '103k',\n",
       "       '898k', '743k', '116k', '153k', '209k', '353k', '499k', '173k',\n",
       "       '597k', '809k', '122k', '411k', '400k', '801k', '787k', '237k',\n",
       "       '50k', '643k', '986k', '97k', '516k', '837k', '780k', '961k',\n",
       "       '269k', '20k', '498k', '600k', '749k', '642k', '881k', '72k',\n",
       "       '656k', '601k', '221k', '228k', '108k', '940k', '176k', '33k',\n",
       "       '663k', '34k', '942k', '259k', '164k', '458k', '245k', '629k',\n",
       "       '28k', '288k', '775k', '785k', '636k', '916k', '994k', '309k',\n",
       "       '485k', '914k', '903k', '608k', '500k', '54k', '562k', '847k',\n",
       "       '957k', '688k', '811k', '270k', '48k', '329k', '523k', '921k',\n",
       "       '874k', '981k', '784k', '280k', '24k', '518k', '754k', '892k',\n",
       "       '154k', '860k', '364k', '387k', '626k', '161k', '879k', '39k',\n",
       "       '970k', '170k', '141k', '160k', '144k', '143k', '190k', '376k',\n",
       "       '193k', '246k', '73k', '658k', '992k', '253k', '420k', '404k', nan,\n",
       "       '470k', '226k', '240k', '89k', '234k', '257k', '861k', '467k',\n",
       "       '157k', '44k', '676k', '67k', '552k', '885k', '1020k', '582k',\n",
       "       '619k'], dtype=object)"
      ]
     },
     "execution_count": 1028,
     "metadata": {},
     "output_type": "execute_result"
    }
   ],
   "source": [
    "#To viwe the elements in the Size column\n",
    "\n",
    "data_set['Size'].unique()"
   ]
  },
  {
   "cell_type": "code",
   "execution_count": 1029,
   "id": "f5748f18",
   "metadata": {},
   "outputs": [
    {
     "data": {
      "text/plain": [
       "1227"
      ]
     },
     "execution_count": 1029,
     "metadata": {},
     "output_type": "execute_result"
    }
   ],
   "source": [
    "#To view the count of Varies with device in the size column\n",
    "\n",
    "garbage_value1=data_set['Size']=='Varies with device'\n",
    "garbage_value1.sum()\n"
   ]
  },
  {
   "cell_type": "code",
   "execution_count": 1030,
   "id": "7d9c6904",
   "metadata": {},
   "outputs": [],
   "source": [
    "#To remove the row Varies with device in the size column\n",
    "\n",
    "data_set = data_set[~garbage_value1]"
   ]
  },
  {
   "cell_type": "code",
   "execution_count": 1031,
   "id": "8a886fb6",
   "metadata": {},
   "outputs": [
    {
     "data": {
      "text/plain": [
       "Size\n",
       "11M     182\n",
       "12M     181\n",
       "13M     177\n",
       "14M     177\n",
       "15M     164\n",
       "       ... \n",
       "429k      1\n",
       "200k      1\n",
       "460k      1\n",
       "728k      1\n",
       "619k      1\n",
       "Name: count, Length: 460, dtype: int64"
      ]
     },
     "execution_count": 1031,
     "metadata": {},
     "output_type": "execute_result"
    }
   ],
   "source": [
    "#To view the count of values in the size column after removing Varies with device\n",
    "\n",
    "\n",
    "data_set['Size'].value_counts()"
   ]
  },
  {
   "cell_type": "code",
   "execution_count": 1032,
   "id": "91f0fb65",
   "metadata": {},
   "outputs": [
    {
     "data": {
      "text/plain": [
       "array(['19M', '8.7M', '25M', '2.8M', '5.6M', '29M', '33M', '3.1M', '28M',\n",
       "       '12M', '20M', '21M', '37M', '2.7M', '5.5M', '17M', '39M', '31M',\n",
       "       '14M', '4.2M', '23M', '6.0M', '6.1M', '4.6M', '9.2M', '5.2M',\n",
       "       '11M', '9.4M', '15M', '10M', '1.2M', '24M', '26M', '8.0M', '7.9M',\n",
       "       '56M', '57M', '35M', '54M', '201k', '3.6M', '5.7M', '8.6M', '2.4M',\n",
       "       '27M', '2.5M', '7.0M', '16M', '3.4M', '8.9M', '3.9M', '2.9M',\n",
       "       '38M', '32M', '5.4M', '18M', '1.1M', '2.2M', '4.5M', '9.8M', '52M',\n",
       "       '9.0M', '6.7M', '30M', '2.6M', '7.1M', '3.7M', '22M', '7.4M',\n",
       "       '6.4M', '3.2M', '8.2M', '9.9M', '4.9M', '9.5M', '5.0M', '5.9M',\n",
       "       '13M', '73M', '6.8M', '3.5M', '4.0M', '2.3M', '7.2M', '2.1M',\n",
       "       '42M', '7.3M', '9.1M', '55M', '23k', '6.5M', '1.5M', '7.5M', '46M',\n",
       "       '51M', '48M', '8.5M', '41M', '8.3M', '4.3M', '4.7M', '3.3M', '40M',\n",
       "       '7.8M', '8.8M', '6.6M', '5.1M', '61M', '8.4M', '118k', '44M',\n",
       "       '695k', '1.6M', '18k', '53M', '6.2M', '3.0M', '5.8M', '3.8M',\n",
       "       '9.6M', '45M', '63M', '49M', '4.4M', '70M', '6.9M', '9.3M',\n",
       "       '10.0M', '8.1M', '4.8M', '36M', '77M', '84M', '97M', '2.0M',\n",
       "       '1.9M', '1.8M', '5.3M', '47M', '556k', '526k', '7.6M', '76M',\n",
       "       '9.7M', '78M', '72M', '43M', '7.7M', '6.3M', '334k', '1.4M', '34M',\n",
       "       '93M', '65M', '100M', '50M', '68M', '79M', '64M', '67M', '94M',\n",
       "       '59M', '60M', '58M', '232k', '99M', '624k', '95M', '8.5k', '41k',\n",
       "       '292k', '11k', '80M', '1.7M', '69M', '71M', '62M', '98M', '85M',\n",
       "       '86M', '82M', '81M', '96M', '91M', '83M', '87M', '66M', '75M',\n",
       "       '92M', '862k', '899k', '378k', '266k', '375k', '74M', '1.3M',\n",
       "       '975k', '980k', '4.1M', '89M', '88M', '696k', '544k', '525k',\n",
       "       '920k', '779k', '853k', '720k', '713k', '772k', '318k', '58k',\n",
       "       '241k', '196k', '857k', '51k', '953k', '865k', '251k', '930k',\n",
       "       '540k', '313k', '746k', '203k', '26k', '314k', '79k', '239k',\n",
       "       '371k', '220k', '730k', '756k', '91k', '293k', '17k', '74k', '14k',\n",
       "       '317k', '78k', '924k', '902k', '818k', '81k', '939k', '169k',\n",
       "       '45k', '475k', '965k', '90M', '545k', '61k', '283k', '655k',\n",
       "       '714k', '93k', '872k', '121k', '322k', '1.0M', '976k', '172k',\n",
       "       '238k', '549k', '206k', '954k', '444k', '717k', '210k', '609k',\n",
       "       '308k', '705k', '306k', '904k', '473k', '175k', '350k', '383k',\n",
       "       '454k', '421k', '70k', '812k', '442k', '842k', '417k', '412k',\n",
       "       '459k', '478k', '335k', '782k', '721k', '430k', '429k', '192k',\n",
       "       '200k', '460k', '728k', '496k', '816k', '414k', '506k', '704k',\n",
       "       '887k', '613k', '243k', '569k', '778k', '683k', '592k', '319k',\n",
       "       '186k', '840k', '647k', '191k', '373k', '437k', '598k', '716k',\n",
       "       '585k', '982k', '222k', '219k', '55k', '948k', '323k', '691k',\n",
       "       '511k', '951k', '963k', '25k', '554k', '351k', '27k', '82k',\n",
       "       '208k', '913k', '514k', '551k', '29k', '103k', '898k', '743k',\n",
       "       '116k', '153k', '209k', '353k', '499k', '173k', '597k', '809k',\n",
       "       '122k', '411k', '400k', '801k', '787k', '237k', '50k', '643k',\n",
       "       '986k', '97k', '516k', '837k', '780k', '961k', '269k', '20k',\n",
       "       '498k', '600k', '749k', '642k', '881k', '72k', '656k', '601k',\n",
       "       '221k', '228k', '108k', '940k', '176k', '33k', '663k', '34k',\n",
       "       '942k', '259k', '164k', '458k', '245k', '629k', '28k', '288k',\n",
       "       '775k', '785k', '636k', '916k', '994k', '309k', '485k', '914k',\n",
       "       '903k', '608k', '500k', '54k', '562k', '847k', '957k', '688k',\n",
       "       '811k', '270k', '48k', '329k', '523k', '921k', '874k', '981k',\n",
       "       '784k', '280k', '24k', '518k', '754k', '892k', '154k', '860k',\n",
       "       '364k', '387k', '626k', '161k', '879k', '39k', '970k', '170k',\n",
       "       '141k', '160k', '144k', '143k', '190k', '376k', '193k', '246k',\n",
       "       '73k', '658k', '992k', '253k', '420k', '404k', nan, '470k', '226k',\n",
       "       '240k', '89k', '234k', '257k', '861k', '467k', '157k', '44k',\n",
       "       '676k', '67k', '552k', '885k', '1020k', '582k', '619k'],\n",
       "      dtype=object)"
      ]
     },
     "execution_count": 1032,
     "metadata": {},
     "output_type": "execute_result"
    }
   ],
   "source": [
    "#To view the unique elements in the size column\n",
    "\n",
    "data_set['Size'].unique()"
   ]
  },
  {
   "cell_type": "code",
   "execution_count": 1033,
   "id": "d12ff9a1",
   "metadata": {},
   "outputs": [],
   "source": [
    "#Creating a function for convertion of M and K \n",
    "\n",
    "def convertion(value):\n",
    "    if pd.notna(value):\n",
    "        if 'M' in value:\n",
    "            return float(value.replace('M', '')) * 1_000_000\n",
    "        elif 'K' in value:\n",
    "            return float(value.replace('K', '')) * 1_000\n",
    "        elif value.isnumeric():\n",
    "            return float(value)\n",
    "        else:\n",
    "            return None\n",
    "    else:\n",
    "        return None"
   ]
  },
  {
   "cell_type": "code",
   "execution_count": 1034,
   "id": "26103422",
   "metadata": {},
   "outputs": [
    {
     "name": "stderr",
     "output_type": "stream",
     "text": [
      "C:\\Users\\prane\\AppData\\Local\\Temp\\ipykernel_15400\\4275917390.py:3: SettingWithCopyWarning: \n",
      "A value is trying to be set on a copy of a slice from a DataFrame.\n",
      "Try using .loc[row_indexer,col_indexer] = value instead\n",
      "\n",
      "See the caveats in the documentation: https://pandas.pydata.org/pandas-docs/stable/user_guide/indexing.html#returning-a-view-versus-a-copy\n",
      "  data_set['Size'] = data_set['Size'].apply(convertion).astype(float)\n"
     ]
    }
   ],
   "source": [
    "#applying the function to the datset using apply function\n",
    "\n",
    "data_set['Size'] = data_set['Size'].apply(convertion).astype(float)"
   ]
  },
  {
   "cell_type": "code",
   "execution_count": 1035,
   "id": "10c0e3d8",
   "metadata": {},
   "outputs": [
    {
     "data": {
      "text/plain": [
       "dtype('float64')"
      ]
     },
     "execution_count": 1035,
     "metadata": {},
     "output_type": "execute_result"
    }
   ],
   "source": [
    "#To check the datatype of size column after converting\n",
    "\n",
    "data_set['Size'].dtypes"
   ]
  },
  {
   "cell_type": "code",
   "execution_count": 1036,
   "id": "b45f4f49",
   "metadata": {},
   "outputs": [
    {
     "name": "stderr",
     "output_type": "stream",
     "text": [
      "C:\\Users\\prane\\AppData\\Local\\Temp\\ipykernel_15400\\2391293160.py:3: SettingWithCopyWarning: \n",
      "A value is trying to be set on a copy of a slice from a DataFrame.\n",
      "Try using .loc[row_indexer,col_indexer] = value instead\n",
      "\n",
      "See the caveats in the documentation: https://pandas.pydata.org/pandas-docs/stable/user_guide/indexing.html#returning-a-view-versus-a-copy\n",
      "  data_set['Size']=data_set['Size'].fillna(data_set['Size'].median())\n"
     ]
    }
   ],
   "source": [
    "#Filling the null values in the size column with the median\n",
    "\n",
    "data_set['Size']=data_set['Size'].fillna(data_set['Size'].median())"
   ]
  },
  {
   "cell_type": "code",
   "execution_count": 1037,
   "id": "0b5a7687",
   "metadata": {},
   "outputs": [
    {
     "data": {
      "text/plain": [
       "0"
      ]
     },
     "execution_count": 1037,
     "metadata": {},
     "output_type": "execute_result"
    }
   ],
   "source": [
    "#Checking the null values after filling the null values\n",
    "\n",
    "data_set['Size'].isnull().sum()"
   ]
  },
  {
   "cell_type": "markdown",
   "id": "cca32bd3",
   "metadata": {},
   "source": [
    "# 10) Check the column 'Installs', treat the unwanted characters and convert the column into a suitable data type"
   ]
  },
  {
   "cell_type": "code",
   "execution_count": 1038,
   "id": "944a9c3c",
   "metadata": {},
   "outputs": [
    {
     "data": {
      "text/plain": [
       "array(['10,000+', '5,000,000+', '50,000,000+', '100,000+', '50,000+',\n",
       "       '1,000,000+', '10,000,000+', '5,000+', '500,000+', '100,000,000+',\n",
       "       '1,000+', '50+', '100+', '500+', '10+', '1+', '5+', '500,000,000+',\n",
       "       '1,000,000,000+', '0+', nan], dtype=object)"
      ]
     },
     "execution_count": 1038,
     "metadata": {},
     "output_type": "execute_result"
    }
   ],
   "source": [
    "#To view the unique elements in the Installs column\n",
    "\n",
    "data_set['Installs'].unique()"
   ]
  },
  {
   "cell_type": "code",
   "execution_count": 1039,
   "id": "2a1d6b27",
   "metadata": {},
   "outputs": [
    {
     "name": "stderr",
     "output_type": "stream",
     "text": [
      "C:\\Users\\prane\\AppData\\Local\\Temp\\ipykernel_15400\\2920115976.py:3: SettingWithCopyWarning: \n",
      "A value is trying to be set on a copy of a slice from a DataFrame.\n",
      "Try using .loc[row_indexer,col_indexer] = value instead\n",
      "\n",
      "See the caveats in the documentation: https://pandas.pydata.org/pandas-docs/stable/user_guide/indexing.html#returning-a-view-versus-a-copy\n",
      "  data_set['Installs']=data_set['Installs'].str.replace(',','').str.replace('+','')\n"
     ]
    }
   ],
   "source": [
    "#Converting the column to suitable datatype\n",
    "\n",
    "data_set['Installs']=data_set['Installs'].str.replace(',','').str.replace('+','')"
   ]
  },
  {
   "cell_type": "code",
   "execution_count": 1040,
   "id": "76f5f89c",
   "metadata": {},
   "outputs": [
    {
     "name": "stderr",
     "output_type": "stream",
     "text": [
      "C:\\Users\\prane\\AppData\\Local\\Temp\\ipykernel_15400\\1563769159.py:3: SettingWithCopyWarning: \n",
      "A value is trying to be set on a copy of a slice from a DataFrame.\n",
      "Try using .loc[row_indexer,col_indexer] = value instead\n",
      "\n",
      "See the caveats in the documentation: https://pandas.pydata.org/pandas-docs/stable/user_guide/indexing.html#returning-a-view-versus-a-copy\n",
      "  data_set['Installs']=data_set['Installs'].fillna(data_set['Installs'].median())\n"
     ]
    }
   ],
   "source": [
    "#Filling the null values in the Installs column with the median\n",
    "\n",
    "data_set['Installs']=data_set['Installs'].fillna(data_set['Installs'].median())"
   ]
  },
  {
   "cell_type": "code",
   "execution_count": 1041,
   "id": "eed879d2",
   "metadata": {},
   "outputs": [
    {
     "data": {
      "text/plain": [
       "array(['10000', '5000000', '50000000', '100000', '50000', '1000000',\n",
       "       '10000000', '5000', '500000', '100000000', '1000', '50', '100',\n",
       "       '500', '10', '1', '5', '500000000', '1000000000', '0', 50000.0],\n",
       "      dtype=object)"
      ]
     },
     "execution_count": 1041,
     "metadata": {},
     "output_type": "execute_result"
    }
   ],
   "source": [
    "#To Check the values after filling in the Installs column\n",
    "\n",
    "data_set['Installs'].unique()"
   ]
  },
  {
   "cell_type": "code",
   "execution_count": 1042,
   "id": "1746dc95",
   "metadata": {},
   "outputs": [
    {
     "name": "stderr",
     "output_type": "stream",
     "text": [
      "C:\\Users\\prane\\AppData\\Local\\Temp\\ipykernel_15400\\2399639884.py:3: SettingWithCopyWarning: \n",
      "A value is trying to be set on a copy of a slice from a DataFrame.\n",
      "Try using .loc[row_indexer,col_indexer] = value instead\n",
      "\n",
      "See the caveats in the documentation: https://pandas.pydata.org/pandas-docs/stable/user_guide/indexing.html#returning-a-view-versus-a-copy\n",
      "  data_set['Installs']=data_set['Installs'].astype(int)\n"
     ]
    }
   ],
   "source": [
    "#Converting the value to int datatype in Installs column\n",
    "\n",
    "data_set['Installs']=data_set['Installs'].astype(int)"
   ]
  },
  {
   "cell_type": "code",
   "execution_count": 1043,
   "id": "914b91d4",
   "metadata": {},
   "outputs": [
    {
     "data": {
      "text/plain": [
       "dtype('int32')"
      ]
     },
     "execution_count": 1043,
     "metadata": {},
     "output_type": "execute_result"
    }
   ],
   "source": [
    "#To view the datatype after converting to int\n",
    "\n",
    "data_set['Installs'].dtype"
   ]
  },
  {
   "cell_type": "markdown",
   "id": "a1a71421",
   "metadata": {},
   "source": [
    "# 11) Check the column 'Price' , remove the unwanted characters and convert the column into a suitable data type."
   ]
  },
  {
   "cell_type": "code",
   "execution_count": 1044,
   "id": "9f960ac8",
   "metadata": {},
   "outputs": [
    {
     "data": {
      "text/plain": [
       "array(['0', '$4.99', '$1.49', '$2.99', '$3.99', '$7.99', '$1.99', '$5.99',\n",
       "       '$6.99', '$9.99', '$0.99', '$1.00', '$3.49', '$10.99', '$7.49',\n",
       "       '$1.50', '$14.99', '$15.99', '$79.99', '$9.00', '$10.00', '$16.99',\n",
       "       '$11.99', '$29.99', '$74.99', '$5.49', '$33.99', '$24.99',\n",
       "       '$39.99', '$19.99', '$4.49', '$1.70', '$2.00', '$3.88', '$25.99',\n",
       "       '$399.99', '$17.99', '$400.00', '$2.49', '$3.02', '$1.76', '$4.84',\n",
       "       '$4.77', '$1.61', '$1.59', '$6.49', '$1.29', '$5.00', '$13.99',\n",
       "       '$299.99', '$379.99', '$37.99', '$18.99', '$389.99', '$19.90',\n",
       "       '$8.49', '$1.75', '$14.00', '$4.85', '$46.99', '$109.99',\n",
       "       '$154.99', '$3.08', '$2.59', '$4.80', '$8.99', '$1.96', '$19.40',\n",
       "       '$15.46', '$3.04', '$12.99', '$4.29', '$2.60', '$3.28', '$4.60',\n",
       "       '$28.99', '$2.90', '$1.97', '$200.00', '$89.99', '$2.56', '$30.99',\n",
       "       '$3.61', '$394.99', '$1.26', nan, '$1.20', '$1.04'], dtype=object)"
      ]
     },
     "execution_count": 1044,
     "metadata": {},
     "output_type": "execute_result"
    }
   ],
   "source": [
    "#To Check the values in the Price column\n",
    "\n",
    "data_set['Price'].unique()"
   ]
  },
  {
   "cell_type": "code",
   "execution_count": 1045,
   "id": "77217156",
   "metadata": {},
   "outputs": [
    {
     "name": "stderr",
     "output_type": "stream",
     "text": [
      "C:\\Users\\prane\\AppData\\Local\\Temp\\ipykernel_15400\\1982808167.py:3: SettingWithCopyWarning: \n",
      "A value is trying to be set on a copy of a slice from a DataFrame.\n",
      "Try using .loc[row_indexer,col_indexer] = value instead\n",
      "\n",
      "See the caveats in the documentation: https://pandas.pydata.org/pandas-docs/stable/user_guide/indexing.html#returning-a-view-versus-a-copy\n",
      "  data_set['Price']=data_set['Price'].str.replace('$','')\n"
     ]
    }
   ],
   "source": [
    "#Converting to the suitable datatype\n",
    "\n",
    "data_set['Price']=data_set['Price'].str.replace('$','')"
   ]
  },
  {
   "cell_type": "code",
   "execution_count": 1046,
   "id": "bf42b5e8",
   "metadata": {},
   "outputs": [
    {
     "data": {
      "text/plain": [
       "array(['0', '4.99', '1.49', '2.99', '3.99', '7.99', '1.99', '5.99',\n",
       "       '6.99', '9.99', '0.99', '1.00', '3.49', '10.99', '7.49', '1.50',\n",
       "       '14.99', '15.99', '79.99', '9.00', '10.00', '16.99', '11.99',\n",
       "       '29.99', '74.99', '5.49', '33.99', '24.99', '39.99', '19.99',\n",
       "       '4.49', '1.70', '2.00', '3.88', '25.99', '399.99', '17.99',\n",
       "       '400.00', '2.49', '3.02', '1.76', '4.84', '4.77', '1.61', '1.59',\n",
       "       '6.49', '1.29', '5.00', '13.99', '299.99', '379.99', '37.99',\n",
       "       '18.99', '389.99', '19.90', '8.49', '1.75', '14.00', '4.85',\n",
       "       '46.99', '109.99', '154.99', '3.08', '2.59', '4.80', '8.99',\n",
       "       '1.96', '19.40', '15.46', '3.04', '12.99', '4.29', '2.60', '3.28',\n",
       "       '4.60', '28.99', '2.90', '1.97', '200.00', '89.99', '2.56',\n",
       "       '30.99', '3.61', '394.99', '1.26', nan, '1.20', '1.04'],\n",
       "      dtype=object)"
      ]
     },
     "execution_count": 1046,
     "metadata": {},
     "output_type": "execute_result"
    }
   ],
   "source": [
    "#To Check the values after converting\n",
    "\n",
    "data_set['Price'].unique()"
   ]
  },
  {
   "cell_type": "code",
   "execution_count": 1047,
   "id": "31fdc526",
   "metadata": {},
   "outputs": [
    {
     "name": "stderr",
     "output_type": "stream",
     "text": [
      "C:\\Users\\prane\\AppData\\Local\\Temp\\ipykernel_15400\\1698446509.py:3: SettingWithCopyWarning: \n",
      "A value is trying to be set on a copy of a slice from a DataFrame.\n",
      "Try using .loc[row_indexer,col_indexer] = value instead\n",
      "\n",
      "See the caveats in the documentation: https://pandas.pydata.org/pandas-docs/stable/user_guide/indexing.html#returning-a-view-versus-a-copy\n",
      "  data_set['Price']=data_set['Price'].fillna(data_set['Price'].median())\n"
     ]
    }
   ],
   "source": [
    "#filling the null values\n",
    "\n",
    "data_set['Price']=data_set['Price'].fillna(data_set['Price'].median())"
   ]
  },
  {
   "cell_type": "code",
   "execution_count": 1048,
   "id": "b7df9bff",
   "metadata": {},
   "outputs": [
    {
     "data": {
      "text/plain": [
       "array(['0', '4.99', '1.49', '2.99', '3.99', '7.99', '1.99', '5.99',\n",
       "       '6.99', '9.99', '0.99', '1.00', '3.49', '10.99', '7.49', '1.50',\n",
       "       '14.99', '15.99', '79.99', '9.00', '10.00', '16.99', '11.99',\n",
       "       '29.99', '74.99', '5.49', '33.99', '24.99', '39.99', '19.99',\n",
       "       '4.49', '1.70', '2.00', '3.88', '25.99', '399.99', '17.99',\n",
       "       '400.00', '2.49', '3.02', '1.76', '4.84', '4.77', '1.61', '1.59',\n",
       "       '6.49', '1.29', '5.00', '13.99', '299.99', '379.99', '37.99',\n",
       "       '18.99', '389.99', '19.90', '8.49', '1.75', '14.00', '4.85',\n",
       "       '46.99', '109.99', '154.99', '3.08', '2.59', '4.80', '8.99',\n",
       "       '1.96', '19.40', '15.46', '3.04', '12.99', '4.29', '2.60', '3.28',\n",
       "       '4.60', '28.99', '2.90', '1.97', '200.00', '89.99', '2.56',\n",
       "       '30.99', '3.61', '394.99', '1.26', 0.0, '1.20', '1.04'],\n",
       "      dtype=object)"
      ]
     },
     "execution_count": 1048,
     "metadata": {},
     "output_type": "execute_result"
    }
   ],
   "source": [
    "#To Check the values after filling in the Price column\n",
    "\n",
    "data_set['Price'].unique()"
   ]
  },
  {
   "cell_type": "code",
   "execution_count": 1049,
   "id": "86a19070",
   "metadata": {},
   "outputs": [
    {
     "name": "stderr",
     "output_type": "stream",
     "text": [
      "C:\\Users\\prane\\AppData\\Local\\Temp\\ipykernel_15400\\2050577566.py:3: SettingWithCopyWarning: \n",
      "A value is trying to be set on a copy of a slice from a DataFrame.\n",
      "Try using .loc[row_indexer,col_indexer] = value instead\n",
      "\n",
      "See the caveats in the documentation: https://pandas.pydata.org/pandas-docs/stable/user_guide/indexing.html#returning-a-view-versus-a-copy\n",
      "  data_set['Price']=data_set['Price'].astype(float)\n"
     ]
    }
   ],
   "source": [
    "#Converting the value to float datatype\n",
    "\n",
    "data_set['Price']=data_set['Price'].astype(float)"
   ]
  },
  {
   "cell_type": "code",
   "execution_count": 1050,
   "id": "bf22082c",
   "metadata": {},
   "outputs": [
    {
     "data": {
      "text/plain": [
       "dtype('float64')"
      ]
     },
     "execution_count": 1050,
     "metadata": {},
     "output_type": "execute_result"
    }
   ],
   "source": [
    "#To view the datatype after converting to float\n",
    "\n",
    "data_set['Price'].dtypes"
   ]
  },
  {
   "cell_type": "markdown",
   "id": "6419c34b",
   "metadata": {},
   "source": [
    "# 12) Drop the columns which you think redundant for the analysis.(suggestion: drop column 'rating', since we created a new feature from it (i.e. rating_category) and the columns 'App', 'Rating' ,'Genres','Last Updated', 'Current Ver','Android Ver' columns since which are redundant for our analysis)"
   ]
  },
  {
   "cell_type": "code",
   "execution_count": 1051,
   "id": "ff359107",
   "metadata": {},
   "outputs": [],
   "source": [
    "#Use of drop() function to remove the redundant columns for modelling\n",
    "\n",
    "data_set=data_set.drop(['Rating','Genres','Last Updated','Current Ver','Android Ver','App'],axis=1)"
   ]
  },
  {
   "cell_type": "code",
   "execution_count": 1052,
   "id": "62a1f156",
   "metadata": {},
   "outputs": [
    {
     "data": {
      "text/html": [
       "<div>\n",
       "<style scoped>\n",
       "    .dataframe tbody tr th:only-of-type {\n",
       "        vertical-align: middle;\n",
       "    }\n",
       "\n",
       "    .dataframe tbody tr th {\n",
       "        vertical-align: top;\n",
       "    }\n",
       "\n",
       "    .dataframe thead th {\n",
       "        text-align: right;\n",
       "    }\n",
       "</style>\n",
       "<table border=\"1\" class=\"dataframe\">\n",
       "  <thead>\n",
       "    <tr style=\"text-align: right;\">\n",
       "      <th></th>\n",
       "      <th>Category</th>\n",
       "      <th>Reviews</th>\n",
       "      <th>Size</th>\n",
       "      <th>Installs</th>\n",
       "      <th>Type</th>\n",
       "      <th>Price</th>\n",
       "      <th>Content Rating</th>\n",
       "      <th>Rating_category</th>\n",
       "    </tr>\n",
       "  </thead>\n",
       "  <tbody>\n",
       "    <tr>\n",
       "      <th>5985</th>\n",
       "      <td>VIDEO_PLAYERS</td>\n",
       "      <td>0.693147</td>\n",
       "      <td>62000000.0</td>\n",
       "      <td>100</td>\n",
       "      <td>Free</td>\n",
       "      <td>0.0</td>\n",
       "      <td>Everyone</td>\n",
       "      <td>High</td>\n",
       "    </tr>\n",
       "    <tr>\n",
       "      <th>5901</th>\n",
       "      <td>FAMILY</td>\n",
       "      <td>2.639057</td>\n",
       "      <td>3400000.0</td>\n",
       "      <td>1000</td>\n",
       "      <td>Free</td>\n",
       "      <td>0.0</td>\n",
       "      <td>Everyone</td>\n",
       "      <td>High</td>\n",
       "    </tr>\n",
       "    <tr>\n",
       "      <th>6106</th>\n",
       "      <td>GAME</td>\n",
       "      <td>8.948976</td>\n",
       "      <td>83000000.0</td>\n",
       "      <td>500000</td>\n",
       "      <td>Free</td>\n",
       "      <td>0.0</td>\n",
       "      <td>Mature 17+</td>\n",
       "      <td>High</td>\n",
       "    </tr>\n",
       "    <tr>\n",
       "      <th>9331</th>\n",
       "      <td>FINANCE</td>\n",
       "      <td>0.693147</td>\n",
       "      <td>38000000.0</td>\n",
       "      <td>100</td>\n",
       "      <td>Free</td>\n",
       "      <td>0.0</td>\n",
       "      <td>Everyone</td>\n",
       "      <td>High</td>\n",
       "    </tr>\n",
       "    <tr>\n",
       "      <th>1018</th>\n",
       "      <td>EVENTS</td>\n",
       "      <td>6.595781</td>\n",
       "      <td>11000000.0</td>\n",
       "      <td>50000</td>\n",
       "      <td>Free</td>\n",
       "      <td>0.0</td>\n",
       "      <td>Everyone</td>\n",
       "      <td>High</td>\n",
       "    </tr>\n",
       "    <tr>\n",
       "      <th>6523</th>\n",
       "      <td>LIBRARIES_AND_DEMO</td>\n",
       "      <td>3.433987</td>\n",
       "      <td>13000000.0</td>\n",
       "      <td>5000</td>\n",
       "      <td>Free</td>\n",
       "      <td>0.0</td>\n",
       "      <td>Everyone</td>\n",
       "      <td>High</td>\n",
       "    </tr>\n",
       "    <tr>\n",
       "      <th>8112</th>\n",
       "      <td>BUSINESS</td>\n",
       "      <td>0.000000</td>\n",
       "      <td>13000000.0</td>\n",
       "      <td>100</td>\n",
       "      <td>Free</td>\n",
       "      <td>0.0</td>\n",
       "      <td>Everyone</td>\n",
       "      <td>High</td>\n",
       "    </tr>\n",
       "    <tr>\n",
       "      <th>6862</th>\n",
       "      <td>TRAVEL_AND_LOCAL</td>\n",
       "      <td>0.000000</td>\n",
       "      <td>5000000.0</td>\n",
       "      <td>100</td>\n",
       "      <td>Free</td>\n",
       "      <td>0.0</td>\n",
       "      <td>Everyone</td>\n",
       "      <td>High</td>\n",
       "    </tr>\n",
       "    <tr>\n",
       "      <th>10161</th>\n",
       "      <td>BOOKS_AND_REFERENCE</td>\n",
       "      <td>6.390241</td>\n",
       "      <td>8500000.0</td>\n",
       "      <td>50000</td>\n",
       "      <td>Free</td>\n",
       "      <td>0.0</td>\n",
       "      <td>Everyone</td>\n",
       "      <td>High</td>\n",
       "    </tr>\n",
       "    <tr>\n",
       "      <th>9419</th>\n",
       "      <td>FAMILY</td>\n",
       "      <td>0.000000</td>\n",
       "      <td>13000000.0</td>\n",
       "      <td>10</td>\n",
       "      <td>Free</td>\n",
       "      <td>0.0</td>\n",
       "      <td>Everyone</td>\n",
       "      <td>High</td>\n",
       "    </tr>\n",
       "  </tbody>\n",
       "</table>\n",
       "</div>"
      ],
      "text/plain": [
       "                  Category   Reviews        Size  Installs  Type  Price  \\\n",
       "5985         VIDEO_PLAYERS  0.693147  62000000.0       100  Free    0.0   \n",
       "5901                FAMILY  2.639057   3400000.0      1000  Free    0.0   \n",
       "6106                  GAME  8.948976  83000000.0    500000  Free    0.0   \n",
       "9331               FINANCE  0.693147  38000000.0       100  Free    0.0   \n",
       "1018                EVENTS  6.595781  11000000.0     50000  Free    0.0   \n",
       "6523    LIBRARIES_AND_DEMO  3.433987  13000000.0      5000  Free    0.0   \n",
       "8112              BUSINESS  0.000000  13000000.0       100  Free    0.0   \n",
       "6862      TRAVEL_AND_LOCAL  0.000000   5000000.0       100  Free    0.0   \n",
       "10161  BOOKS_AND_REFERENCE  6.390241   8500000.0     50000  Free    0.0   \n",
       "9419                FAMILY  0.000000  13000000.0        10  Free    0.0   \n",
       "\n",
       "      Content Rating Rating_category  \n",
       "5985        Everyone            High  \n",
       "5901        Everyone            High  \n",
       "6106      Mature 17+            High  \n",
       "9331        Everyone            High  \n",
       "1018        Everyone            High  \n",
       "6523        Everyone            High  \n",
       "8112        Everyone            High  \n",
       "6862        Everyone            High  \n",
       "10161       Everyone            High  \n",
       "9419        Everyone            High  "
      ]
     },
     "execution_count": 1052,
     "metadata": {},
     "output_type": "execute_result"
    }
   ],
   "source": [
    "#To view the sample of data after removing the redundant columns\n",
    "\n",
    "data_set.sample(10)"
   ]
  },
  {
   "cell_type": "code",
   "execution_count": 1053,
   "id": "c977e484",
   "metadata": {},
   "outputs": [
    {
     "data": {
      "text/plain": [
       "Category            object\n",
       "Reviews            float64\n",
       "Size               float64\n",
       "Installs             int32\n",
       "Type                object\n",
       "Price              float64\n",
       "Content Rating      object\n",
       "Rating_category     object\n",
       "dtype: object"
      ]
     },
     "execution_count": 1053,
     "metadata": {},
     "output_type": "execute_result"
    }
   ],
   "source": [
    "#To view the final datatype of the dataset afer all convertion\n",
    "\n",
    "data_set.dtypes"
   ]
  },
  {
   "cell_type": "markdown",
   "id": "6a594c5c",
   "metadata": {},
   "source": [
    "# 13) Encode the categorical columns."
   ]
  },
  {
   "cell_type": "code",
   "execution_count": 1054,
   "id": "c1e2d22b",
   "metadata": {},
   "outputs": [],
   "source": [
    "#To get a copy\n",
    "\n",
    "data_set_copy=data_set.copy()"
   ]
  },
  {
   "cell_type": "code",
   "execution_count": 1055,
   "id": "7b552836",
   "metadata": {},
   "outputs": [
    {
     "data": {
      "text/html": [
       "<div>\n",
       "<style scoped>\n",
       "    .dataframe tbody tr th:only-of-type {\n",
       "        vertical-align: middle;\n",
       "    }\n",
       "\n",
       "    .dataframe tbody tr th {\n",
       "        vertical-align: top;\n",
       "    }\n",
       "\n",
       "    .dataframe thead th {\n",
       "        text-align: right;\n",
       "    }\n",
       "</style>\n",
       "<table border=\"1\" class=\"dataframe\">\n",
       "  <thead>\n",
       "    <tr style=\"text-align: right;\">\n",
       "      <th></th>\n",
       "      <th>Category</th>\n",
       "      <th>Reviews</th>\n",
       "      <th>Size</th>\n",
       "      <th>Installs</th>\n",
       "      <th>Type</th>\n",
       "      <th>Price</th>\n",
       "      <th>Content Rating</th>\n",
       "      <th>Rating_category</th>\n",
       "    </tr>\n",
       "  </thead>\n",
       "  <tbody>\n",
       "    <tr>\n",
       "      <th>0</th>\n",
       "      <td>0</td>\n",
       "      <td>5.075174</td>\n",
       "      <td>19000000.0</td>\n",
       "      <td>10000</td>\n",
       "      <td>0</td>\n",
       "      <td>0.0</td>\n",
       "      <td>1</td>\n",
       "      <td>0</td>\n",
       "    </tr>\n",
       "    <tr>\n",
       "      <th>2</th>\n",
       "      <td>0</td>\n",
       "      <td>11.379520</td>\n",
       "      <td>8700000.0</td>\n",
       "      <td>5000000</td>\n",
       "      <td>0</td>\n",
       "      <td>0.0</td>\n",
       "      <td>1</td>\n",
       "      <td>0</td>\n",
       "    </tr>\n",
       "    <tr>\n",
       "      <th>3</th>\n",
       "      <td>0</td>\n",
       "      <td>12.281389</td>\n",
       "      <td>25000000.0</td>\n",
       "      <td>50000000</td>\n",
       "      <td>0</td>\n",
       "      <td>0.0</td>\n",
       "      <td>4</td>\n",
       "      <td>0</td>\n",
       "    </tr>\n",
       "    <tr>\n",
       "      <th>4</th>\n",
       "      <td>0</td>\n",
       "      <td>6.875232</td>\n",
       "      <td>2800000.0</td>\n",
       "      <td>100000</td>\n",
       "      <td>0</td>\n",
       "      <td>0.0</td>\n",
       "      <td>1</td>\n",
       "      <td>0</td>\n",
       "    </tr>\n",
       "    <tr>\n",
       "      <th>5</th>\n",
       "      <td>0</td>\n",
       "      <td>5.123964</td>\n",
       "      <td>5600000.0</td>\n",
       "      <td>50000</td>\n",
       "      <td>0</td>\n",
       "      <td>0.0</td>\n",
       "      <td>1</td>\n",
       "      <td>0</td>\n",
       "    </tr>\n",
       "    <tr>\n",
       "      <th>...</th>\n",
       "      <td>...</td>\n",
       "      <td>...</td>\n",
       "      <td>...</td>\n",
       "      <td>...</td>\n",
       "      <td>...</td>\n",
       "      <td>...</td>\n",
       "      <td>...</td>\n",
       "      <td>...</td>\n",
       "    </tr>\n",
       "    <tr>\n",
       "      <th>10835</th>\n",
       "      <td>4</td>\n",
       "      <td>0.000000</td>\n",
       "      <td>9600000.0</td>\n",
       "      <td>10</td>\n",
       "      <td>0</td>\n",
       "      <td>0.0</td>\n",
       "      <td>1</td>\n",
       "      <td>0</td>\n",
       "    </tr>\n",
       "    <tr>\n",
       "      <th>10836</th>\n",
       "      <td>11</td>\n",
       "      <td>3.663562</td>\n",
       "      <td>53000000.0</td>\n",
       "      <td>5000</td>\n",
       "      <td>0</td>\n",
       "      <td>0.0</td>\n",
       "      <td>1</td>\n",
       "      <td>0</td>\n",
       "    </tr>\n",
       "    <tr>\n",
       "      <th>10837</th>\n",
       "      <td>11</td>\n",
       "      <td>1.609438</td>\n",
       "      <td>3600000.0</td>\n",
       "      <td>100</td>\n",
       "      <td>0</td>\n",
       "      <td>0.0</td>\n",
       "      <td>1</td>\n",
       "      <td>0</td>\n",
       "    </tr>\n",
       "    <tr>\n",
       "      <th>10838</th>\n",
       "      <td>20</td>\n",
       "      <td>1.386294</td>\n",
       "      <td>9500000.0</td>\n",
       "      <td>1000</td>\n",
       "      <td>0</td>\n",
       "      <td>0.0</td>\n",
       "      <td>1</td>\n",
       "      <td>0</td>\n",
       "    </tr>\n",
       "    <tr>\n",
       "      <th>10840</th>\n",
       "      <td>18</td>\n",
       "      <td>12.894981</td>\n",
       "      <td>19000000.0</td>\n",
       "      <td>10000000</td>\n",
       "      <td>0</td>\n",
       "      <td>0.0</td>\n",
       "      <td>1</td>\n",
       "      <td>0</td>\n",
       "    </tr>\n",
       "  </tbody>\n",
       "</table>\n",
       "<p>8433 rows × 8 columns</p>\n",
       "</div>"
      ],
      "text/plain": [
       "       Category    Reviews        Size  Installs  Type  Price  Content Rating  \\\n",
       "0             0   5.075174  19000000.0     10000     0    0.0               1   \n",
       "2             0  11.379520   8700000.0   5000000     0    0.0               1   \n",
       "3             0  12.281389  25000000.0  50000000     0    0.0               4   \n",
       "4             0   6.875232   2800000.0    100000     0    0.0               1   \n",
       "5             0   5.123964   5600000.0     50000     0    0.0               1   \n",
       "...         ...        ...         ...       ...   ...    ...             ...   \n",
       "10835         4   0.000000   9600000.0        10     0    0.0               1   \n",
       "10836        11   3.663562  53000000.0      5000     0    0.0               1   \n",
       "10837        11   1.609438   3600000.0       100     0    0.0               1   \n",
       "10838        20   1.386294   9500000.0      1000     0    0.0               1   \n",
       "10840        18  12.894981  19000000.0  10000000     0    0.0               1   \n",
       "\n",
       "       Rating_category  \n",
       "0                    0  \n",
       "2                    0  \n",
       "3                    0  \n",
       "4                    0  \n",
       "5                    0  \n",
       "...                ...  \n",
       "10835                0  \n",
       "10836                0  \n",
       "10837                0  \n",
       "10838                0  \n",
       "10840                0  \n",
       "\n",
       "[8433 rows x 8 columns]"
      ]
     },
     "execution_count": 1055,
     "metadata": {},
     "output_type": "execute_result"
    }
   ],
   "source": [
    "#Use of label Encoder to deal with catagorical data\n",
    "\n",
    "for col in data_set.columns:\n",
    "    if data_set[col].dtype==object:\n",
    "        data_set[col]=LabelEncoder().fit_transform(data_set[col])\n",
    "data_set"
   ]
  },
  {
   "cell_type": "markdown",
   "id": "3139068c",
   "metadata": {},
   "source": [
    "# 14) Segregate the target and independent features (Hint: Use Rating_category as the target)"
   ]
  },
  {
   "cell_type": "code",
   "execution_count": 1056,
   "id": "be4d2aa3",
   "metadata": {},
   "outputs": [],
   "source": [
    "X=data_set.drop('Rating_category',axis=1)\n",
    "y=data_set[['Rating_category']]"
   ]
  },
  {
   "cell_type": "markdown",
   "id": "a4d525d5",
   "metadata": {},
   "source": [
    "# 15) Split the dataset into train and test."
   ]
  },
  {
   "cell_type": "code",
   "execution_count": 1057,
   "id": "9712190d",
   "metadata": {},
   "outputs": [],
   "source": [
    "#use of train_test_split for splitting train and test\n",
    "\n",
    "X_train, X_test, y_train, y_test = train_test_split(X, y, test_size=0.30, random_state=10)"
   ]
  },
  {
   "cell_type": "code",
   "execution_count": 1058,
   "id": "81141a57",
   "metadata": {},
   "outputs": [
    {
     "data": {
      "text/html": [
       "<div>\n",
       "<style scoped>\n",
       "    .dataframe tbody tr th:only-of-type {\n",
       "        vertical-align: middle;\n",
       "    }\n",
       "\n",
       "    .dataframe tbody tr th {\n",
       "        vertical-align: top;\n",
       "    }\n",
       "\n",
       "    .dataframe thead th {\n",
       "        text-align: right;\n",
       "    }\n",
       "</style>\n",
       "<table border=\"1\" class=\"dataframe\">\n",
       "  <thead>\n",
       "    <tr style=\"text-align: right;\">\n",
       "      <th></th>\n",
       "      <th>Category</th>\n",
       "      <th>Reviews</th>\n",
       "      <th>Size</th>\n",
       "      <th>Installs</th>\n",
       "      <th>Type</th>\n",
       "      <th>Price</th>\n",
       "      <th>Content Rating</th>\n",
       "    </tr>\n",
       "  </thead>\n",
       "  <tbody>\n",
       "    <tr>\n",
       "      <th>4459</th>\n",
       "      <td>23</td>\n",
       "      <td>0.000000</td>\n",
       "      <td>2300000.0</td>\n",
       "      <td>1</td>\n",
       "      <td>1</td>\n",
       "      <td>1.49</td>\n",
       "      <td>1</td>\n",
       "    </tr>\n",
       "    <tr>\n",
       "      <th>5333</th>\n",
       "      <td>11</td>\n",
       "      <td>7.884200</td>\n",
       "      <td>6700000.0</td>\n",
       "      <td>100000</td>\n",
       "      <td>0</td>\n",
       "      <td>0.00</td>\n",
       "      <td>1</td>\n",
       "    </tr>\n",
       "    <tr>\n",
       "      <th>8570</th>\n",
       "      <td>27</td>\n",
       "      <td>8.697179</td>\n",
       "      <td>5900000.0</td>\n",
       "      <td>500000</td>\n",
       "      <td>0</td>\n",
       "      <td>0.00</td>\n",
       "      <td>1</td>\n",
       "    </tr>\n",
       "    <tr>\n",
       "      <th>1502</th>\n",
       "      <td>16</td>\n",
       "      <td>8.397508</td>\n",
       "      <td>7900000.0</td>\n",
       "      <td>500000</td>\n",
       "      <td>0</td>\n",
       "      <td>0.00</td>\n",
       "      <td>1</td>\n",
       "    </tr>\n",
       "    <tr>\n",
       "      <th>9251</th>\n",
       "      <td>4</td>\n",
       "      <td>0.693147</td>\n",
       "      <td>5400000.0</td>\n",
       "      <td>100</td>\n",
       "      <td>0</td>\n",
       "      <td>0.00</td>\n",
       "      <td>1</td>\n",
       "    </tr>\n",
       "    <tr>\n",
       "      <th>...</th>\n",
       "      <td>...</td>\n",
       "      <td>...</td>\n",
       "      <td>...</td>\n",
       "      <td>...</td>\n",
       "      <td>...</td>\n",
       "      <td>...</td>\n",
       "      <td>...</td>\n",
       "    </tr>\n",
       "    <tr>\n",
       "      <th>6951</th>\n",
       "      <td>4</td>\n",
       "      <td>1.386294</td>\n",
       "      <td>11000000.0</td>\n",
       "      <td>100</td>\n",
       "      <td>0</td>\n",
       "      <td>0.00</td>\n",
       "      <td>1</td>\n",
       "    </tr>\n",
       "    <tr>\n",
       "      <th>9602</th>\n",
       "      <td>11</td>\n",
       "      <td>8.805975</td>\n",
       "      <td>4400000.0</td>\n",
       "      <td>500000</td>\n",
       "      <td>0</td>\n",
       "      <td>0.00</td>\n",
       "      <td>1</td>\n",
       "    </tr>\n",
       "    <tr>\n",
       "      <th>2420</th>\n",
       "      <td>20</td>\n",
       "      <td>2.564949</td>\n",
       "      <td>18000000.0</td>\n",
       "      <td>1000</td>\n",
       "      <td>1</td>\n",
       "      <td>19.99</td>\n",
       "      <td>1</td>\n",
       "    </tr>\n",
       "    <tr>\n",
       "      <th>9605</th>\n",
       "      <td>14</td>\n",
       "      <td>7.306531</td>\n",
       "      <td>67000000.0</td>\n",
       "      <td>100000</td>\n",
       "      <td>0</td>\n",
       "      <td>0.00</td>\n",
       "      <td>4</td>\n",
       "    </tr>\n",
       "    <tr>\n",
       "      <th>2351</th>\n",
       "      <td>20</td>\n",
       "      <td>4.369448</td>\n",
       "      <td>72000000.0</td>\n",
       "      <td>50000</td>\n",
       "      <td>0</td>\n",
       "      <td>0.00</td>\n",
       "      <td>1</td>\n",
       "    </tr>\n",
       "  </tbody>\n",
       "</table>\n",
       "<p>5903 rows × 7 columns</p>\n",
       "</div>"
      ],
      "text/plain": [
       "      Category   Reviews        Size  Installs  Type  Price  Content Rating\n",
       "4459        23  0.000000   2300000.0         1     1   1.49               1\n",
       "5333        11  7.884200   6700000.0    100000     0   0.00               1\n",
       "8570        27  8.697179   5900000.0    500000     0   0.00               1\n",
       "1502        16  8.397508   7900000.0    500000     0   0.00               1\n",
       "9251         4  0.693147   5400000.0       100     0   0.00               1\n",
       "...        ...       ...         ...       ...   ...    ...             ...\n",
       "6951         4  1.386294  11000000.0       100     0   0.00               1\n",
       "9602        11  8.805975   4400000.0    500000     0   0.00               1\n",
       "2420        20  2.564949  18000000.0      1000     1  19.99               1\n",
       "9605        14  7.306531  67000000.0    100000     0   0.00               4\n",
       "2351        20  4.369448  72000000.0     50000     0   0.00               1\n",
       "\n",
       "[5903 rows x 7 columns]"
      ]
     },
     "execution_count": 1058,
     "metadata": {},
     "output_type": "execute_result"
    }
   ],
   "source": [
    "X_train"
   ]
  },
  {
   "cell_type": "code",
   "execution_count": 1059,
   "id": "fe9c9fbd",
   "metadata": {},
   "outputs": [
    {
     "data": {
      "text/html": [
       "<div>\n",
       "<style scoped>\n",
       "    .dataframe tbody tr th:only-of-type {\n",
       "        vertical-align: middle;\n",
       "    }\n",
       "\n",
       "    .dataframe tbody tr th {\n",
       "        vertical-align: top;\n",
       "    }\n",
       "\n",
       "    .dataframe thead th {\n",
       "        text-align: right;\n",
       "    }\n",
       "</style>\n",
       "<table border=\"1\" class=\"dataframe\">\n",
       "  <thead>\n",
       "    <tr style=\"text-align: right;\">\n",
       "      <th></th>\n",
       "      <th>Category</th>\n",
       "      <th>Reviews</th>\n",
       "      <th>Size</th>\n",
       "      <th>Installs</th>\n",
       "      <th>Type</th>\n",
       "      <th>Price</th>\n",
       "      <th>Content Rating</th>\n",
       "    </tr>\n",
       "  </thead>\n",
       "  <tbody>\n",
       "    <tr>\n",
       "      <th>8923</th>\n",
       "      <td>11</td>\n",
       "      <td>5.774552</td>\n",
       "      <td>13000000.0</td>\n",
       "      <td>100000</td>\n",
       "      <td>0</td>\n",
       "      <td>0.00</td>\n",
       "      <td>1</td>\n",
       "    </tr>\n",
       "    <tr>\n",
       "      <th>2003</th>\n",
       "      <td>14</td>\n",
       "      <td>13.933797</td>\n",
       "      <td>25000000.0</td>\n",
       "      <td>10000000</td>\n",
       "      <td>0</td>\n",
       "      <td>0.00</td>\n",
       "      <td>1</td>\n",
       "    </tr>\n",
       "    <tr>\n",
       "      <th>5962</th>\n",
       "      <td>11</td>\n",
       "      <td>3.091042</td>\n",
       "      <td>32000000.0</td>\n",
       "      <td>1000</td>\n",
       "      <td>0</td>\n",
       "      <td>0.00</td>\n",
       "      <td>1</td>\n",
       "    </tr>\n",
       "    <tr>\n",
       "      <th>4966</th>\n",
       "      <td>11</td>\n",
       "      <td>4.779123</td>\n",
       "      <td>24000000.0</td>\n",
       "      <td>10000</td>\n",
       "      <td>0</td>\n",
       "      <td>0.00</td>\n",
       "      <td>1</td>\n",
       "    </tr>\n",
       "    <tr>\n",
       "      <th>6801</th>\n",
       "      <td>29</td>\n",
       "      <td>0.000000</td>\n",
       "      <td>2900000.0</td>\n",
       "      <td>10</td>\n",
       "      <td>0</td>\n",
       "      <td>0.00</td>\n",
       "      <td>1</td>\n",
       "    </tr>\n",
       "    <tr>\n",
       "      <th>...</th>\n",
       "      <td>...</td>\n",
       "      <td>...</td>\n",
       "      <td>...</td>\n",
       "      <td>...</td>\n",
       "      <td>...</td>\n",
       "      <td>...</td>\n",
       "      <td>...</td>\n",
       "    </tr>\n",
       "    <tr>\n",
       "      <th>7614</th>\n",
       "      <td>11</td>\n",
       "      <td>6.466145</td>\n",
       "      <td>26000000.0</td>\n",
       "      <td>10000</td>\n",
       "      <td>1</td>\n",
       "      <td>1.99</td>\n",
       "      <td>2</td>\n",
       "    </tr>\n",
       "    <tr>\n",
       "      <th>7828</th>\n",
       "      <td>4</td>\n",
       "      <td>2.639057</td>\n",
       "      <td>5700000.0</td>\n",
       "      <td>1000</td>\n",
       "      <td>0</td>\n",
       "      <td>0.00</td>\n",
       "      <td>1</td>\n",
       "    </tr>\n",
       "    <tr>\n",
       "      <th>9105</th>\n",
       "      <td>32</td>\n",
       "      <td>7.122060</td>\n",
       "      <td>4700000.0</td>\n",
       "      <td>100000</td>\n",
       "      <td>0</td>\n",
       "      <td>0.00</td>\n",
       "      <td>1</td>\n",
       "    </tr>\n",
       "    <tr>\n",
       "      <th>7057</th>\n",
       "      <td>30</td>\n",
       "      <td>4.110874</td>\n",
       "      <td>13000000.0</td>\n",
       "      <td>1000</td>\n",
       "      <td>0</td>\n",
       "      <td>0.00</td>\n",
       "      <td>1</td>\n",
       "    </tr>\n",
       "    <tr>\n",
       "      <th>10832</th>\n",
       "      <td>32</td>\n",
       "      <td>7.086738</td>\n",
       "      <td>13000000.0</td>\n",
       "      <td>100000</td>\n",
       "      <td>0</td>\n",
       "      <td>0.00</td>\n",
       "      <td>1</td>\n",
       "    </tr>\n",
       "  </tbody>\n",
       "</table>\n",
       "<p>2530 rows × 7 columns</p>\n",
       "</div>"
      ],
      "text/plain": [
       "       Category    Reviews        Size  Installs  Type  Price  Content Rating\n",
       "8923         11   5.774552  13000000.0    100000     0   0.00               1\n",
       "2003         14  13.933797  25000000.0  10000000     0   0.00               1\n",
       "5962         11   3.091042  32000000.0      1000     0   0.00               1\n",
       "4966         11   4.779123  24000000.0     10000     0   0.00               1\n",
       "6801         29   0.000000   2900000.0        10     0   0.00               1\n",
       "...         ...        ...         ...       ...   ...    ...             ...\n",
       "7614         11   6.466145  26000000.0     10000     1   1.99               2\n",
       "7828          4   2.639057   5700000.0      1000     0   0.00               1\n",
       "9105         32   7.122060   4700000.0    100000     0   0.00               1\n",
       "7057         30   4.110874  13000000.0      1000     0   0.00               1\n",
       "10832        32   7.086738  13000000.0    100000     0   0.00               1\n",
       "\n",
       "[2530 rows x 7 columns]"
      ]
     },
     "execution_count": 1059,
     "metadata": {},
     "output_type": "execute_result"
    }
   ],
   "source": [
    "X_test"
   ]
  },
  {
   "cell_type": "code",
   "execution_count": 1060,
   "id": "db1b5258",
   "metadata": {},
   "outputs": [
    {
     "data": {
      "text/html": [
       "<div>\n",
       "<style scoped>\n",
       "    .dataframe tbody tr th:only-of-type {\n",
       "        vertical-align: middle;\n",
       "    }\n",
       "\n",
       "    .dataframe tbody tr th {\n",
       "        vertical-align: top;\n",
       "    }\n",
       "\n",
       "    .dataframe thead th {\n",
       "        text-align: right;\n",
       "    }\n",
       "</style>\n",
       "<table border=\"1\" class=\"dataframe\">\n",
       "  <thead>\n",
       "    <tr style=\"text-align: right;\">\n",
       "      <th></th>\n",
       "      <th>Rating_category</th>\n",
       "    </tr>\n",
       "  </thead>\n",
       "  <tbody>\n",
       "    <tr>\n",
       "      <th>4459</th>\n",
       "      <td>0</td>\n",
       "    </tr>\n",
       "    <tr>\n",
       "      <th>5333</th>\n",
       "      <td>0</td>\n",
       "    </tr>\n",
       "    <tr>\n",
       "      <th>8570</th>\n",
       "      <td>0</td>\n",
       "    </tr>\n",
       "    <tr>\n",
       "      <th>1502</th>\n",
       "      <td>0</td>\n",
       "    </tr>\n",
       "    <tr>\n",
       "      <th>9251</th>\n",
       "      <td>0</td>\n",
       "    </tr>\n",
       "    <tr>\n",
       "      <th>...</th>\n",
       "      <td>...</td>\n",
       "    </tr>\n",
       "    <tr>\n",
       "      <th>6951</th>\n",
       "      <td>0</td>\n",
       "    </tr>\n",
       "    <tr>\n",
       "      <th>9602</th>\n",
       "      <td>0</td>\n",
       "    </tr>\n",
       "    <tr>\n",
       "      <th>2420</th>\n",
       "      <td>0</td>\n",
       "    </tr>\n",
       "    <tr>\n",
       "      <th>9605</th>\n",
       "      <td>0</td>\n",
       "    </tr>\n",
       "    <tr>\n",
       "      <th>2351</th>\n",
       "      <td>1</td>\n",
       "    </tr>\n",
       "  </tbody>\n",
       "</table>\n",
       "<p>5903 rows × 1 columns</p>\n",
       "</div>"
      ],
      "text/plain": [
       "      Rating_category\n",
       "4459                0\n",
       "5333                0\n",
       "8570                0\n",
       "1502                0\n",
       "9251                0\n",
       "...               ...\n",
       "6951                0\n",
       "9602                0\n",
       "2420                0\n",
       "9605                0\n",
       "2351                1\n",
       "\n",
       "[5903 rows x 1 columns]"
      ]
     },
     "execution_count": 1060,
     "metadata": {},
     "output_type": "execute_result"
    }
   ],
   "source": [
    "y_train"
   ]
  },
  {
   "cell_type": "code",
   "execution_count": 1061,
   "id": "bb4ce7d8",
   "metadata": {},
   "outputs": [
    {
     "data": {
      "text/html": [
       "<div>\n",
       "<style scoped>\n",
       "    .dataframe tbody tr th:only-of-type {\n",
       "        vertical-align: middle;\n",
       "    }\n",
       "\n",
       "    .dataframe tbody tr th {\n",
       "        vertical-align: top;\n",
       "    }\n",
       "\n",
       "    .dataframe thead th {\n",
       "        text-align: right;\n",
       "    }\n",
       "</style>\n",
       "<table border=\"1\" class=\"dataframe\">\n",
       "  <thead>\n",
       "    <tr style=\"text-align: right;\">\n",
       "      <th></th>\n",
       "      <th>Rating_category</th>\n",
       "    </tr>\n",
       "  </thead>\n",
       "  <tbody>\n",
       "    <tr>\n",
       "      <th>8923</th>\n",
       "      <td>0</td>\n",
       "    </tr>\n",
       "    <tr>\n",
       "      <th>2003</th>\n",
       "      <td>0</td>\n",
       "    </tr>\n",
       "    <tr>\n",
       "      <th>5962</th>\n",
       "      <td>0</td>\n",
       "    </tr>\n",
       "    <tr>\n",
       "      <th>4966</th>\n",
       "      <td>0</td>\n",
       "    </tr>\n",
       "    <tr>\n",
       "      <th>6801</th>\n",
       "      <td>0</td>\n",
       "    </tr>\n",
       "    <tr>\n",
       "      <th>...</th>\n",
       "      <td>...</td>\n",
       "    </tr>\n",
       "    <tr>\n",
       "      <th>7614</th>\n",
       "      <td>1</td>\n",
       "    </tr>\n",
       "    <tr>\n",
       "      <th>7828</th>\n",
       "      <td>0</td>\n",
       "    </tr>\n",
       "    <tr>\n",
       "      <th>9105</th>\n",
       "      <td>0</td>\n",
       "    </tr>\n",
       "    <tr>\n",
       "      <th>7057</th>\n",
       "      <td>0</td>\n",
       "    </tr>\n",
       "    <tr>\n",
       "      <th>10832</th>\n",
       "      <td>0</td>\n",
       "    </tr>\n",
       "  </tbody>\n",
       "</table>\n",
       "<p>2530 rows × 1 columns</p>\n",
       "</div>"
      ],
      "text/plain": [
       "       Rating_category\n",
       "8923                 0\n",
       "2003                 0\n",
       "5962                 0\n",
       "4966                 0\n",
       "6801                 0\n",
       "...                ...\n",
       "7614                 1\n",
       "7828                 0\n",
       "9105                 0\n",
       "7057                 0\n",
       "10832                0\n",
       "\n",
       "[2530 rows x 1 columns]"
      ]
     },
     "execution_count": 1061,
     "metadata": {},
     "output_type": "execute_result"
    }
   ],
   "source": [
    "y_test"
   ]
  },
  {
   "cell_type": "markdown",
   "id": "8d09c7a3",
   "metadata": {},
   "source": [
    "# 16) Standardize the data, so that the values are within a particular range."
   ]
  },
  {
   "cell_type": "code",
   "execution_count": 1062,
   "id": "da589e5b",
   "metadata": {},
   "outputs": [],
   "source": [
    "#use of StandardScaler for Standardizing(z-score normalization)\n",
    "\n",
    "ss=StandardScaler()\n",
    "X_train=ss.fit_transform(X_train)\n",
    "X_test=ss.transform(X_test)"
   ]
  }
 ],
 "metadata": {
  "kernelspec": {
   "display_name": "Python 3 (ipykernel)",
   "language": "python",
   "name": "python3"
  },
  "language_info": {
   "codemirror_mode": {
    "name": "ipython",
    "version": 3
   },
   "file_extension": ".py",
   "mimetype": "text/x-python",
   "name": "python",
   "nbconvert_exporter": "python",
   "pygments_lexer": "ipython3",
   "version": "3.11.5"
  }
 },
 "nbformat": 4,
 "nbformat_minor": 5
}
