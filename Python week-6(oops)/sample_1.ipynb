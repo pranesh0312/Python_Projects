{
 "cells": [
  {
   "cell_type": "code",
   "execution_count": 21,
   "id": "d38f537f",
   "metadata": {},
   "outputs": [],
   "source": [
    "class Pet:\n",
    "    def __init__(self,name):\n",
    "        self.name=name\n",
    "    def make_sound(self):\n",
    "        pass\n",
    "class Dog(Pet):\n",
    "    def __init__(self,name,age):\n",
    "        super().__init__(name)\n",
    "        self.age=age\n",
    "    def make_sound(self):\n",
    "        print(\"woof\")\n",
    "class Cat(Pet):\n",
    "    def __init__(self,name,age,color):\n",
    "        super().__init__(name)\n",
    "        self.age=age\n",
    "        self.color=color\n",
    "    def make_sound(self):\n",
    "        print('meow')\n",
    "class Cow(Pet):\n",
    "    def __init__(self,name,age,color,gender):\n",
    "        super().__init__(name)\n",
    "        self.age=age\n",
    "        self.color=color\n",
    "        self.gender=gender\n",
    "    def make_sound(self):\n",
    "        print('moo')\n",
    "class Pig(Pet):\n",
    "    def __init__(self,name,age,color,gender,weight):\n",
    "        super().__init__(name)\n",
    "        self.age=age\n",
    "        self.color=color\n",
    "        self.gender=gender\n",
    "        self.weight=weight\n",
    "    def make_sound(self):\n",
    "        print('Oink')\n",
    "\n",
    "    \n",
    "        \n",
    "        "
   ]
  },
  {
   "cell_type": "code",
   "execution_count": 16,
   "id": "1633dce6",
   "metadata": {},
   "outputs": [],
   "source": [
    "d1=Dog('Jimmy',5)\n",
    "c1=Cat('Tom',3,'Black')"
   ]
  },
  {
   "cell_type": "code",
   "execution_count": 17,
   "id": "1de3a371",
   "metadata": {},
   "outputs": [
    {
     "name": "stdout",
     "output_type": "stream",
     "text": [
      "woof\n"
     ]
    }
   ],
   "source": [
    "d1.make_sound()"
   ]
  },
  {
   "cell_type": "code",
   "execution_count": 18,
   "id": "d024972b",
   "metadata": {},
   "outputs": [
    {
     "name": "stdout",
     "output_type": "stream",
     "text": [
      "meow\n"
     ]
    }
   ],
   "source": [
    "c1.make_sound()"
   ]
  },
  {
   "cell_type": "code",
   "execution_count": 22,
   "id": "a15c6752",
   "metadata": {},
   "outputs": [
    {
     "data": {
      "text/plain": [
       "(__main__.Dog, __main__.Pet, object)"
      ]
     },
     "execution_count": 22,
     "metadata": {},
     "output_type": "execute_result"
    }
   ],
   "source": [
    "Dog.__mro__"
   ]
  },
  {
   "cell_type": "code",
   "execution_count": 25,
   "id": "2f6c033f",
   "metadata": {},
   "outputs": [],
   "source": [
    "co1=Cow('Bull',2,'white','male')"
   ]
  },
  {
   "cell_type": "code",
   "execution_count": 27,
   "id": "d1026b9c",
   "metadata": {},
   "outputs": [
    {
     "name": "stdout",
     "output_type": "stream",
     "text": [
      "moo\n"
     ]
    }
   ],
   "source": [
    "co1.make_sound()"
   ]
  },
  {
   "cell_type": "code",
   "execution_count": 29,
   "id": "cc73007f",
   "metadata": {},
   "outputs": [],
   "source": [
    "p1=Pig('Piggy',5,'Pink','Female',300)"
   ]
  },
  {
   "cell_type": "code",
   "execution_count": 31,
   "id": "3d099cdf",
   "metadata": {},
   "outputs": [
    {
     "name": "stdout",
     "output_type": "stream",
     "text": [
      "Oink\n"
     ]
    }
   ],
   "source": [
    "p1.make_sound()"
   ]
  },
  {
   "cell_type": "code",
   "execution_count": 34,
   "id": "79b275de",
   "metadata": {},
   "outputs": [
    {
     "data": {
      "text/plain": [
       "{'name': 'Jimmy', 'age': 5}"
      ]
     },
     "execution_count": 34,
     "metadata": {},
     "output_type": "execute_result"
    }
   ],
   "source": [
    "d1.__dict__"
   ]
  },
  {
   "cell_type": "code",
   "execution_count": 36,
   "id": "991f9c52",
   "metadata": {},
   "outputs": [],
   "source": [
    "class Account:\n",
    "    def __init__(self,acc_no):\n",
    "        self.__acc_no=acc_no"
   ]
  },
  {
   "cell_type": "code",
   "execution_count": 37,
   "id": "7fd00b1a",
   "metadata": {},
   "outputs": [],
   "source": [
    "acc1=Account(5222)"
   ]
  },
  {
   "cell_type": "code",
   "execution_count": 39,
   "id": "8b80894a",
   "metadata": {},
   "outputs": [
    {
     "name": "stdout",
     "output_type": "stream",
     "text": [
      "5222\n"
     ]
    }
   ],
   "source": [
    "print(acc1._Account__acc_no)"
   ]
  },
  {
   "cell_type": "code",
   "execution_count": 46,
   "id": "729c5cda",
   "metadata": {},
   "outputs": [],
   "source": [
    "p1=Pet('A')"
   ]
  },
  {
   "cell_type": "code",
   "execution_count": 50,
   "id": "b92c03a4",
   "metadata": {},
   "outputs": [],
   "source": [
    "from abc import ABC,abstractmethod \n",
    "class Shape(ABC):\n",
    "    @abstractmethod\n",
    "    def get_area(self):\n",
    "        pass\n",
    "    @abstractmethod\n",
    "    def get_circumference(self):\n",
    "        pass\n",
    "class Square(Shape):\n",
    "    def __init__(self,a):\n",
    "        self.a=a\n"
   ]
  },
  {
   "cell_type": "code",
   "execution_count": 52,
   "id": "f940d4db",
   "metadata": {},
   "outputs": [
    {
     "ename": "TypeError",
     "evalue": "Can't instantiate abstract class Square with abstract methods get_area, get_circumference",
     "output_type": "error",
     "traceback": [
      "\u001b[1;31m---------------------------------------------------------------------------\u001b[0m",
      "\u001b[1;31mTypeError\u001b[0m                                 Traceback (most recent call last)",
      "Cell \u001b[1;32mIn[52], line 1\u001b[0m\n\u001b[1;32m----> 1\u001b[0m s1\u001b[38;5;241m=\u001b[39mSquare(\u001b[38;5;241m5\u001b[39m)\n",
      "\u001b[1;31mTypeError\u001b[0m: Can't instantiate abstract class Square with abstract methods get_area, get_circumference"
     ]
    }
   ],
   "source": [
    "s1=Square(5)"
   ]
  },
  {
   "cell_type": "code",
   "execution_count": 53,
   "id": "c6770932",
   "metadata": {},
   "outputs": [],
   "source": [
    "from abc import ABC,abstractmethod \n",
    "class Shape(ABC):\n",
    "    @abstractmethod\n",
    "    def get_area(self):\n",
    "        pass\n",
    "    @abstractmethod\n",
    "    def get_circumference(self):\n",
    "        pass\n",
    "class Square(Shape):\n",
    "    def __init__(self,a):\n",
    "        self.a=a\n",
    "    def get_area(self):\n",
    "        return a**2"
   ]
  },
  {
   "cell_type": "code",
   "execution_count": 55,
   "id": "acdb0a79",
   "metadata": {},
   "outputs": [
    {
     "ename": "TypeError",
     "evalue": "Can't instantiate abstract class Square with abstract method get_circumference",
     "output_type": "error",
     "traceback": [
      "\u001b[1;31m---------------------------------------------------------------------------\u001b[0m",
      "\u001b[1;31mTypeError\u001b[0m                                 Traceback (most recent call last)",
      "Cell \u001b[1;32mIn[55], line 1\u001b[0m\n\u001b[1;32m----> 1\u001b[0m s1\u001b[38;5;241m=\u001b[39mSquare(\u001b[38;5;241m5\u001b[39m)\n",
      "\u001b[1;31mTypeError\u001b[0m: Can't instantiate abstract class Square with abstract method get_circumference"
     ]
    }
   ],
   "source": [
    "s1=Square(5)"
   ]
  },
  {
   "cell_type": "code",
   "execution_count": 61,
   "id": "d3759e66",
   "metadata": {},
   "outputs": [],
   "source": [
    "from abc import ABC,abstractmethod \n",
    "class Shape(ABC):\n",
    "    @abstractmethod\n",
    "    def get_area(self):\n",
    "        pass\n",
    "    @abstractmethod\n",
    "    def get_circumference(self):\n",
    "        pass\n",
    "class Square(Shape):\n",
    "    def __init__(self,a):\n",
    "        self.a=a\n",
    "    def get_area(self):\n",
    "        return self.a**2\n",
    "    def get_circumference(self):\n",
    "        return 4*self.a\n",
    "    "
   ]
  },
  {
   "cell_type": "code",
   "execution_count": 62,
   "id": "68533e2f",
   "metadata": {},
   "outputs": [],
   "source": [
    "s1=Square(5)"
   ]
  },
  {
   "cell_type": "code",
   "execution_count": 64,
   "id": "54675cd2",
   "metadata": {},
   "outputs": [
    {
     "data": {
      "text/plain": [
       "25"
      ]
     },
     "execution_count": 64,
     "metadata": {},
     "output_type": "execute_result"
    }
   ],
   "source": [
    "s1.get_area()"
   ]
  },
  {
   "cell_type": "code",
   "execution_count": 66,
   "id": "8724f281",
   "metadata": {},
   "outputs": [
    {
     "name": "stdout",
     "output_type": "stream",
     "text": [
      "400 80\n"
     ]
    }
   ],
   "source": [
    "s2=Square(20)\n",
    "print(s2.get_area(),s2.get_circumference())"
   ]
  },
  {
   "cell_type": "code",
   "execution_count": 68,
   "id": "a3137794",
   "metadata": {},
   "outputs": [],
   "source": [
    "from abc import ABC,abstractmethod \n",
    "class Shape(ABC):\n",
    "    @abstractmethod\n",
    "    def get_area(self):\n",
    "        pass\n",
    "    @abstractmethod\n",
    "    def get_circumference(self):\n",
    "        pass\n",
    "class Rectangle(Shape):\n",
    "    def __init__(self,length,width):\n",
    "        self.length=length\n",
    "        self.width=width\n",
    "    def get_area(self):\n",
    "        return self.length*self.width\n",
    "    def get_circumference(self):\n",
    "        return (2*self.length)+(2*self.width)\n",
    "    "
   ]
  },
  {
   "cell_type": "code",
   "execution_count": 77,
   "id": "8fd84315",
   "metadata": {},
   "outputs": [
    {
     "name": "stdout",
     "output_type": "stream",
     "text": [
      "80 48\n"
     ]
    }
   ],
   "source": [
    "r1=Rectangle(20,4)\n",
    "print(r1.get_area(),r1.get_circumference())"
   ]
  },
  {
   "cell_type": "code",
   "execution_count": 78,
   "id": "32c843fe",
   "metadata": {},
   "outputs": [
    {
     "name": "stdout",
     "output_type": "stream",
     "text": [
      "50 30\n"
     ]
    }
   ],
   "source": [
    "r2=Rectangle(10,5)\n",
    "print(r2.get_area(),r2.get_circumference())"
   ]
  },
  {
   "cell_type": "code",
   "execution_count": 73,
   "id": "8929baa4",
   "metadata": {},
   "outputs": [],
   "source": [
    "from abc import ABC,abstractmethod \n",
    "class Shape(ABC):\n",
    "    @abstractmethod\n",
    "    def get_area(self):\n",
    "        pass\n",
    "    @abstractmethod\n",
    "    def get_circumference(self):\n",
    "        pass\n",
    "class circle(Shape):\n",
    "    def __init__(self,r):\n",
    "        self.r=r\n",
    "    def get_area(self):\n",
    "        return 3.14*(self.r**2)\n",
    "    def get_circumference(self):\n",
    "        return (2*3.14)*self.r\n",
    "    "
   ]
  },
  {
   "cell_type": "code",
   "execution_count": 75,
   "id": "54be7a05",
   "metadata": {},
   "outputs": [
    {
     "name": "stdout",
     "output_type": "stream",
     "text": [
      "314.0 62.800000000000004\n"
     ]
    }
   ],
   "source": [
    "c1=circle(10)\n",
    "print(c1.get_area(),c1.get_circumference())"
   ]
  },
  {
   "cell_type": "code",
   "execution_count": 79,
   "id": "31168cf3",
   "metadata": {},
   "outputs": [
    {
     "name": "stdout",
     "output_type": "stream",
     "text": [
      "78.5 31.400000000000002\n"
     ]
    }
   ],
   "source": [
    "c2=circle(5)\n",
    "print(c2.get_area(),c2.get_circumference())"
   ]
  },
  {
   "cell_type": "code",
   "execution_count": 80,
   "id": "5c8a02a3",
   "metadata": {},
   "outputs": [
    {
     "data": {
      "text/plain": [
       "True"
      ]
     },
     "execution_count": 80,
     "metadata": {},
     "output_type": "execute_result"
    }
   ],
   "source": [
    "type(s1) is Square"
   ]
  },
  {
   "cell_type": "code",
   "execution_count": 81,
   "id": "1e70561f",
   "metadata": {},
   "outputs": [
    {
     "data": {
      "text/plain": [
       "True"
      ]
     },
     "execution_count": 81,
     "metadata": {},
     "output_type": "execute_result"
    }
   ],
   "source": [
    "type(r1) is Rectangle"
   ]
  },
  {
   "cell_type": "code",
   "execution_count": 1,
   "id": "ade2fcfe",
   "metadata": {},
   "outputs": [
    {
     "ename": "NameError",
     "evalue": "name 'c1' is not defined",
     "output_type": "error",
     "traceback": [
      "\u001b[1;31m---------------------------------------------------------------------------\u001b[0m",
      "\u001b[1;31mNameError\u001b[0m                                 Traceback (most recent call last)",
      "Cell \u001b[1;32mIn[1], line 1\u001b[0m\n\u001b[1;32m----> 1\u001b[0m \u001b[38;5;28mtype\u001b[39m(c1) \u001b[38;5;129;01mis\u001b[39;00m circle\n",
      "\u001b[1;31mNameError\u001b[0m: name 'c1' is not defined"
     ]
    }
   ],
   "source": [
    "type(c1) is circle"
   ]
  },
  {
   "cell_type": "code",
   "execution_count": 3,
   "id": "2d561343",
   "metadata": {},
   "outputs": [],
   "source": [
    "from abc import ABC,abstractmethod \n",
    "class Shape(ABC):\n",
    "    @abstractmethod\n",
    "    def get_area(self):\n",
    "        pass\n",
    "    @abstractmethod\n",
    "    def get_circumference(self):\n",
    "        pass\n",
    "class Square(Shape):\n",
    "    def __init__(self,a):\n",
    "        self.a=a\n",
    "    def get_area(self):\n",
    "        return self.a**2\n",
    "    def get_circumference(self):\n",
    "        return 4*self.a\n",
    "    def get_volume(self):\n",
    "        return 5*self.a"
   ]
  },
  {
   "cell_type": "code",
   "execution_count": 6,
   "id": "fbcab8f8",
   "metadata": {},
   "outputs": [],
   "source": [
    "s4=Square(5)"
   ]
  },
  {
   "cell_type": "code",
   "execution_count": 8,
   "id": "ab7a9f49",
   "metadata": {},
   "outputs": [
    {
     "data": {
      "text/plain": [
       "25"
      ]
     },
     "execution_count": 8,
     "metadata": {},
     "output_type": "execute_result"
    }
   ],
   "source": [
    "s4.get_volume()"
   ]
  }
 ],
 "metadata": {
  "kernelspec": {
   "display_name": "Python 3 (ipykernel)",
   "language": "python",
   "name": "python3"
  },
  "language_info": {
   "codemirror_mode": {
    "name": "ipython",
    "version": 3
   },
   "file_extension": ".py",
   "mimetype": "text/x-python",
   "name": "python",
   "nbconvert_exporter": "python",
   "pygments_lexer": "ipython3",
   "version": "3.11.5"
  }
 },
 "nbformat": 4,
 "nbformat_minor": 5
}
