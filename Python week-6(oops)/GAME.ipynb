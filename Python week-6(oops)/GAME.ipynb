{
 "cells": [
  {
   "cell_type": "code",
   "execution_count": 1,
   "id": "40da891b",
   "metadata": {},
   "outputs": [],
   "source": [
    "class Player:\n",
    "    def __init__(self,health,attack):\n",
    "        self.health=health\n",
    "        self.attack=attack\n",
    "        self.defensive=False\n",
    "    def hit(self,player):\n",
    "        if self.defensive:\n",
    "            print('It is not your turn')\n",
    "        else:\n",
    "            points=random.random()*self.attack\n",
    "            player=get_hit(points)\n",
    "            print(f\"{self.name} hits{player.name} with {points} attack\")\n",
    "            self.defensive=True\n",
    "    def get_hit(self,points):\n",
    "        if self.health<points:\n",
    "            self.health=0\n",
    "            print(f\"{self.name} is perished\")\n",
    "        else:\n",
    "            self.health=self.health-points\n",
    "            self.defensive=False\n",
    "            print(f\"{self.name} remaing health is {player.name}\")"
   ]
  },
  {
   "cell_type": "code",
   "execution_count": 5,
   "id": "24a7917d",
   "metadata": {},
   "outputs": [],
   "source": [
    "p1=Player('Rock',100,15)\n",
    "p2=Player('cena',100,15)"
   ]
  }
 ],
 "metadata": {
  "kernelspec": {
   "display_name": "Python 3 (ipykernel)",
   "language": "python",
   "name": "python3"
  },
  "language_info": {
   "codemirror_mode": {
    "name": "ipython",
    "version": 3
   },
   "file_extension": ".py",
   "mimetype": "text/x-python",
   "name": "python",
   "nbconvert_exporter": "python",
   "pygments_lexer": "ipython3",
   "version": "3.11.5"
  }
 },
 "nbformat": 4,
 "nbformat_minor": 5
}
