{
 "cells": [
  {
   "cell_type": "code",
   "execution_count": 2,
   "id": "341c9694",
   "metadata": {},
   "outputs": [],
   "source": [
    "class Product:\n",
    "    def __init__(self,name,description,price):\n",
    "        self.name=name\n",
    "        self.description=description\n",
    "        self.price=price\n",
    "class CartItem:\n",
    "    def __init__(self,product,quantity,total_price):\n",
    "        self.product=product\n",
    "        self.quantity=quantity\n",
    "        self.total_price=total_price\n",
    "class ShoppingCart:\n",
    "    def __init__(self,items,add_items,remove_items,total_cost):\n",
    "        \n",
    "        '''self.items=items\n",
    "        self.add_items=add_items\n",
    "        self.remove_items=remove_items\n",
    "        self.total_cost=total_cost'''"
   ]
  }
 ],
 "metadata": {
  "kernelspec": {
   "display_name": "Python 3 (ipykernel)",
   "language": "python",
   "name": "python3"
  },
  "language_info": {
   "codemirror_mode": {
    "name": "ipython",
    "version": 3
   },
   "file_extension": ".py",
   "mimetype": "text/x-python",
   "name": "python",
   "nbconvert_exporter": "python",
   "pygments_lexer": "ipython3",
   "version": "3.11.5"
  }
 },
 "nbformat": 4,
 "nbformat_minor": 5
}
