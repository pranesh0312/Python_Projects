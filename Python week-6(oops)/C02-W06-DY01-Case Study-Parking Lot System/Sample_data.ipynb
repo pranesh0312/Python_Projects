{
 "cells": [
  {
   "cell_type": "code",
   "execution_count": 95,
   "id": "79f3b7d8",
   "metadata": {},
   "outputs": [],
   "source": [
    "class Tree:\n",
    "    def __init__(self,type,age,height):\n",
    "        self.type=type\n",
    "        self.age=age\n",
    "        self.height=height\n",
    "class Forest:\n",
    "    max_capacity=5\n",
    "    def __init__(self,name):\n",
    "        self.name=name\n",
    "        self.trees=[]\n",
    "    def add_tree(self,tree):\n",
    "        if len(self.trees)<self.max_capacity:\n",
    "            self.trees.append(tree)\n",
    "            return True\n",
    "        else:\n",
    "            return False\n",
    "    def remove_tree(self):\n",
    "        return self.trees.pop()\n",
    "    def list_trees(self):\n",
    "        for tree in self.trees:\n",
    "            print(f\"{tree.type} of age {tree.age} and height {tree.height}\")\n",
    "    "
   ]
  },
  {
   "cell_type": "code",
   "execution_count": 96,
   "id": "51ccd81c",
   "metadata": {},
   "outputs": [
    {
     "data": {
      "text/plain": [
       "True"
      ]
     },
     "execution_count": 96,
     "metadata": {},
     "output_type": "execute_result"
    }
   ],
   "source": [
    "f1=Forest('Nilgiries')\n",
    "t1=Tree('Neem',24,10)\n",
    "f1.add_tree(t1)"
   ]
  },
  {
   "cell_type": "code",
   "execution_count": 97,
   "id": "f7e00a00",
   "metadata": {},
   "outputs": [
    {
     "data": {
      "text/plain": [
       "True"
      ]
     },
     "execution_count": 97,
     "metadata": {},
     "output_type": "execute_result"
    }
   ],
   "source": [
    "t2=Tree('Mango',10,5)\n",
    "f1.add_tree(t2)"
   ]
  },
  {
   "cell_type": "code",
   "execution_count": 98,
   "id": "b90479d1",
   "metadata": {},
   "outputs": [
    {
     "data": {
      "text/plain": [
       "True"
      ]
     },
     "execution_count": 98,
     "metadata": {},
     "output_type": "execute_result"
    }
   ],
   "source": [
    "\n",
    "t3=Tree('Guava',15,8)\n",
    "f1.add_tree(t3)"
   ]
  },
  {
   "cell_type": "code",
   "execution_count": 99,
   "id": "1da413be",
   "metadata": {},
   "outputs": [
    {
     "data": {
      "text/plain": [
       "True"
      ]
     },
     "execution_count": 99,
     "metadata": {},
     "output_type": "execute_result"
    }
   ],
   "source": [
    "\n",
    "t4=Tree('Palm',8,15)\n",
    "f1.add_tree(t4)"
   ]
  },
  {
   "cell_type": "code",
   "execution_count": 100,
   "id": "b73eda2b",
   "metadata": {},
   "outputs": [
    {
     "data": {
      "text/plain": [
       "True"
      ]
     },
     "execution_count": 100,
     "metadata": {},
     "output_type": "execute_result"
    }
   ],
   "source": [
    "\n",
    "t5=Tree('Cashew',28,10)\n",
    "f1.add_tree(t5)"
   ]
  },
  {
   "cell_type": "code",
   "execution_count": 101,
   "id": "ddedc964",
   "metadata": {},
   "outputs": [
    {
     "data": {
      "text/plain": [
       "False"
      ]
     },
     "execution_count": 101,
     "metadata": {},
     "output_type": "execute_result"
    }
   ],
   "source": [
    "\n",
    "t6=Tree('Banana',2,4)\n",
    "f1.add_tree(t6)"
   ]
  },
  {
   "cell_type": "code",
   "execution_count": 102,
   "id": "4526882f",
   "metadata": {},
   "outputs": [
    {
     "name": "stdout",
     "output_type": "stream",
     "text": [
      "Neem of age 24 and height 10\n",
      "Mango of age 10 and height 5\n",
      "Guava of age 15 and height 8\n",
      "Palm of age 8 and height 15\n",
      "Cashew of age 28 and height 10\n"
     ]
    }
   ],
   "source": [
    "f1.list_trees()"
   ]
  }
 ],
 "metadata": {
  "kernelspec": {
   "display_name": "Python 3 (ipykernel)",
   "language": "python",
   "name": "python3"
  },
  "language_info": {
   "codemirror_mode": {
    "name": "ipython",
    "version": 3
   },
   "file_extension": ".py",
   "mimetype": "text/x-python",
   "name": "python",
   "nbconvert_exporter": "python",
   "pygments_lexer": "ipython3",
   "version": "3.11.5"
  }
 },
 "nbformat": 4,
 "nbformat_minor": 5
}
