{
 "cells": [
  {
   "cell_type": "code",
   "execution_count": 1,
   "id": "71161ef9",
   "metadata": {},
   "outputs": [],
   "source": [
    "name='Pranesh'"
   ]
  },
  {
   "cell_type": "code",
   "execution_count": 3,
   "id": "e390ced9",
   "metadata": {},
   "outputs": [
    {
     "name": "stdout",
     "output_type": "stream",
     "text": [
      "PRANESH\n"
     ]
    }
   ],
   "source": [
    "print(name.upper())#To print in capital letter/upper case"
   ]
  },
  {
   "cell_type": "code",
   "execution_count": 5,
   "id": "ca5b2cf4",
   "metadata": {},
   "outputs": [
    {
     "name": "stdout",
     "output_type": "stream",
     "text": [
      "['P', 'r', 'a', 'n', 'e', 's', 'h']\n"
     ]
    }
   ],
   "source": [
    "a=list(name)\n",
    "print(a)"
   ]
  },
  {
   "cell_type": "code",
   "execution_count": 7,
   "id": "72bb25c6",
   "metadata": {},
   "outputs": [
    {
     "data": {
      "text/plain": [
       "'Pranesh'"
      ]
     },
     "execution_count": 7,
     "metadata": {},
     "output_type": "execute_result"
    }
   ],
   "source": [
    "''.join(a)"
   ]
  },
  {
   "cell_type": "code",
   "execution_count": 8,
   "id": "adce8947",
   "metadata": {},
   "outputs": [
    {
     "data": {
      "text/plain": [
       "['Good', 'Morning']"
      ]
     },
     "execution_count": 8,
     "metadata": {},
     "output_type": "execute_result"
    }
   ],
   "source": [
    "text='Good Morning'\n",
    "text.split()"
   ]
  },
  {
   "cell_type": "code",
   "execution_count": 11,
   "id": "dda62468",
   "metadata": {},
   "outputs": [
    {
     "name": "stdout",
     "output_type": "stream",
     "text": [
      "{'d', 'i', 'n', 'G', ' ', 'o', 'g', 'r', 'M'}\n"
     ]
    }
   ],
   "source": [
    "print(set(text))"
   ]
  },
  {
   "cell_type": "code",
   "execution_count": 14,
   "id": "72083f01",
   "metadata": {},
   "outputs": [
    {
     "name": "stdout",
     "output_type": "stream",
     "text": [
      "5\n"
     ]
    }
   ],
   "source": [
    "a=50\n",
    "b=10\n",
    "c=int(a/b)\n",
    "print(c)"
   ]
  },
  {
   "cell_type": "code",
   "execution_count": 16,
   "id": "1d46a8cd",
   "metadata": {},
   "outputs": [
    {
     "ename": "TypeError",
     "evalue": "can only concatenate str (not \"int\") to str",
     "output_type": "error",
     "traceback": [
      "\u001b[1;31m---------------------------------------------------------------------------\u001b[0m",
      "\u001b[1;31mTypeError\u001b[0m                                 Traceback (most recent call last)",
      "Cell \u001b[1;32mIn[16], line 2\u001b[0m\n\u001b[0;32m      1\u001b[0m s\u001b[38;5;241m=\u001b[39m\u001b[38;5;124m'\u001b[39m\u001b[38;5;124m23.5\u001b[39m\u001b[38;5;124m'\u001b[39m\n\u001b[1;32m----> 2\u001b[0m \u001b[38;5;28mprint\u001b[39m(s\u001b[38;5;241m+\u001b[39m\u001b[38;5;241m10\u001b[39m)\n",
      "\u001b[1;31mTypeError\u001b[0m: can only concatenate str (not \"int\") to str"
     ]
    }
   ],
   "source": [
    "s='23.5'\n",
    "print(s+10)"
   ]
  },
  {
   "cell_type": "code",
   "execution_count": 18,
   "id": "2b90a836",
   "metadata": {},
   "outputs": [
    {
     "name": "stdout",
     "output_type": "stream",
     "text": [
      "33.5\n"
     ]
    }
   ],
   "source": [
    "print(float(s)+10)"
   ]
  },
  {
   "cell_type": "code",
   "execution_count": 21,
   "id": "24c8c351",
   "metadata": {},
   "outputs": [
    {
     "name": "stdout",
     "output_type": "stream",
     "text": [
      "225\n"
     ]
    }
   ],
   "source": [
    "s=225.5\n",
    "t=int(float(s))\n",
    "print(t)"
   ]
  },
  {
   "cell_type": "code",
   "execution_count": 22,
   "id": "c352b33d",
   "metadata": {},
   "outputs": [
    {
     "name": "stdout",
     "output_type": "stream",
     "text": [
      "1\n"
     ]
    }
   ],
   "source": [
    "r=True\n",
    "print(int(r))"
   ]
  },
  {
   "cell_type": "code",
   "execution_count": 25,
   "id": "9d69d639",
   "metadata": {},
   "outputs": [
    {
     "name": "stdout",
     "output_type": "stream",
     "text": [
      "51,53,55,57,59,61,63,65,67,69,71,73,75,77,79,81,83,85,87,89,91,93,95,97,99,"
     ]
    }
   ],
   "source": [
    "for i in range(50,101):\n",
    "    if i%2==1:\n",
    "         print(i,end=',')"
   ]
  },
  {
   "cell_type": "code",
   "execution_count": 69,
   "id": "f79f8b99",
   "metadata": {},
   "outputs": [
    {
     "name": "stdout",
     "output_type": "stream",
     "text": [
      "o\n",
      "o\n",
      "d\n",
      "a\n",
      "y\n"
     ]
    }
   ],
   "source": [
    "a='Good Day'\n",
    "for i in a:\n",
    "    if i.islower()==True:\n",
    "        print(i)\n",
    "    "
   ]
  },
  {
   "cell_type": "code",
   "execution_count": 50,
   "id": "03918525",
   "metadata": {},
   "outputs": [
    {
     "name": "stdout",
     "output_type": "stream",
     "text": [
      " * * * *\n",
      " * * *\n",
      " * *\n",
      " *\n"
     ]
    }
   ],
   "source": [
    "for i in range(4,0,-1):\n",
    "    print(' *'*i)"
   ]
  },
  {
   "cell_type": "code",
   "execution_count": 57,
   "id": "d3722558",
   "metadata": {},
   "outputs": [
    {
     "name": "stdout",
     "output_type": "stream",
     "text": [
      " *\n",
      " * * *\n",
      " * * * * *\n",
      " * * *\n",
      " *\n"
     ]
    }
   ],
   "source": [
    "for i in range(0,6):\n",
    "    if i%2==1:\n",
    "        print(\" *\"*i)\n",
    "for j in range(3,0,-2):\n",
    "    if j%2==1:\n",
    "        print(\" *\"*j)"
   ]
  },
  {
   "cell_type": "code",
   "execution_count": 79,
   "id": "911ac13a",
   "metadata": {},
   "outputs": [
    {
     "name": "stdout",
     "output_type": "stream",
     "text": [
      "1\n",
      "12\n",
      "123\n",
      "1234\n",
      "12345\n"
     ]
    }
   ],
   "source": [
    "for i in range(1,6):\n",
    "    for j in range (1,i+1):\n",
    "        print(j,end='')\n",
    "    print()\n",
    "    \n"
   ]
  },
  {
   "cell_type": "code",
   "execution_count": 81,
   "id": "2aaf7954",
   "metadata": {},
   "outputs": [
    {
     "name": "stdout",
     "output_type": "stream",
     "text": [
      "1\n",
      "12\n",
      "123\n",
      "1234\n",
      "12345\n"
     ]
    }
   ],
   "source": [
    "s=''\n",
    "for i in range(1,6):#another method\n",
    "    s=s+str(i)\n",
    "    print(s)"
   ]
  },
  {
   "cell_type": "code",
   "execution_count": 84,
   "id": "1e5721cd",
   "metadata": {},
   "outputs": [
    {
     "name": "stdout",
     "output_type": "stream",
     "text": [
      "[[1, 1, 1, 1], [1, 1, 1, 1]]\n"
     ]
    }
   ],
   "source": [
    "l1=[[1 for i in range(4)] for j in range(2)]\n",
    "print(l1)"
   ]
  },
  {
   "cell_type": "code",
   "execution_count": 87,
   "id": "0c2496e1",
   "metadata": {},
   "outputs": [
    {
     "name": "stdout",
     "output_type": "stream",
     "text": [
      "[[1, 2, 3, 4], [1, 2, 3, 4]]\n"
     ]
    }
   ],
   "source": [
    "l2=[[i for i in range(1,5)] for j in range(2)]\n",
    "print(l2)"
   ]
  },
  {
   "cell_type": "code",
   "execution_count": 123,
   "id": "c2a844b7",
   "metadata": {},
   "outputs": [
    {
     "name": "stdout",
     "output_type": "stream",
     "text": [
      "[1, 2, 0, 1, 2, 0, 1, 2, 0, 1, 2]\n"
     ]
    }
   ],
   "source": [
    "l3=[i%3 for i in range(1,12)]\n",
    "print(l3)"
   ]
  },
  {
   "cell_type": "code",
   "execution_count": 121,
   "id": "ad722ad4",
   "metadata": {},
   "outputs": [
    {
     "name": "stdout",
     "output_type": "stream",
     "text": [
      "[1, 2, 3, 5, 6, 7, 9, 10, 11, 13, 14, 15]\n"
     ]
    }
   ],
   "source": [
    "l4=[i for i in range(1,16) if i%4!=0]\n",
    "print(l4)"
   ]
  },
  {
   "cell_type": "code",
   "execution_count": 124,
   "id": "4c0c6068",
   "metadata": {},
   "outputs": [
    {
     "name": "stdout",
     "output_type": "stream",
     "text": [
      "[1, 2, 3, 5, 6, 7, 9, 10, 11, 13, 14, 15]\n"
     ]
    }
   ],
   "source": [
    "l5=[i for i in range(1,16) if i%4!=0]\n",
    "print(l5)"
   ]
  },
  {
   "cell_type": "code",
   "execution_count": 129,
   "id": "90dc61b5",
   "metadata": {},
   "outputs": [
    {
     "name": "stdout",
     "output_type": "stream",
     "text": [
      "[0, 1, 4, 3, 16, 5, 36, 7, 64, 9, 100]\n"
     ]
    }
   ],
   "source": [
    "l4=[i if i%2!=0 else i*i for i in range(11)]\n",
    "print(l4)"
   ]
  },
  {
   "cell_type": "code",
   "execution_count": 131,
   "id": "87f365b3",
   "metadata": {},
   "outputs": [
    {
     "name": "stdout",
     "output_type": "stream",
     "text": [
      "[0.25, 0.5, 0.75, 1.0, 1.25, 1.5, 1.75, 2.0, 2.25, 2.5]\n"
     ]
    }
   ],
   "source": [
    "l5=[i/4 for i in range(1,11) ]\n",
    "print(l5)"
   ]
  }
 ],
 "metadata": {
  "kernelspec": {
   "display_name": "Python 3 (ipykernel)",
   "language": "python",
   "name": "python3"
  },
  "language_info": {
   "codemirror_mode": {
    "name": "ipython",
    "version": 3
   },
   "file_extension": ".py",
   "mimetype": "text/x-python",
   "name": "python",
   "nbconvert_exporter": "python",
   "pygments_lexer": "ipython3",
   "version": "3.11.5"
  }
 },
 "nbformat": 4,
 "nbformat_minor": 5
}
