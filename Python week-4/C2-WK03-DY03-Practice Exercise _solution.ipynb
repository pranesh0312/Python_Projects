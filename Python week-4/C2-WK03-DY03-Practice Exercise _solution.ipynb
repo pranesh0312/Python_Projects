{
 "cells": [
  {
   "cell_type": "markdown",
   "metadata": {},
   "source": [
    "----\n",
    "# Course 2 - Week03 - Day03 - Practice Exercise\n",
    "----"
   ]
  },
  {
   "cell_type": "markdown",
   "metadata": {
    "id": "EDpU8PR45wrn"
   },
   "source": [
    "# Agenda\n",
    "\n",
    "- Exploratory Data Analysis\n",
    "- Data Preprocessing\n"
   ]
  },
  {
   "cell_type": "markdown",
   "metadata": {
    "id": "JP1ADKe8HgSQ"
   },
   "source": [
    "## Exploratory Data Analysis"
   ]
  },
  {
   "cell_type": "markdown",
   "metadata": {
    "id": "muRNrZOj5wrp"
   },
   "source": [
    "- Exploratory data analysis is an approach of analyzing data sets to summarize their main characteristics, often using statistical graphics and other data visualization methods.\n",
    "- It is a good practice to understand the data first and try to gather as many insights from it. EDA is all about making sense of data"
   ]
  },
  {
   "cell_type": "markdown",
   "metadata": {
    "id": "qHrxLBUcUuC1"
   },
   "source": [
    "## Data Preprocessing"
   ]
  },
  {
   "cell_type": "markdown",
   "metadata": {
    "id": "yQ2AV3o6Uxa3"
   },
   "source": [
    "-  Data Preprocessing focuses on processing the data and making it suitable for the model.\n",
    "\n",
    "- Before building any machine learning model it is crucial to perform data preprocessing to feed the correct data to the model to learn and predict. Model performance depends on the quality of data feeded to the model to train.\n",
    "\n",
    "- It involves various steps like \n",
    "  - Handling duplicates\n",
    "  - Handling missing values\n",
    "  - Handling outliers\n",
    "  - Handling garbage data, incorrect or invalid data \n",
    "  - Changing data types \n",
    "  - Converting features into numerical data type\n",
    "  - Standardising and normalising the data\n",
    "  - Making transformations of variables as needed - log tranformation, power transformation etc \n",
    "\n",
    "- These are some of the common steps. But most of these data preprocessing steps depend on case to case basis."
   ]
  },
  {
   "cell_type": "markdown",
   "metadata": {
    "id": "UvI8xpFh5wrq"
   },
   "source": [
    "## Table of Content\n",
    "\n",
    "1. About dataset\n",
    "\n",
    "2. Import necessary libraries\n",
    "\n",
    "3. Load the dataset\n",
    "\n",
    "4. Explore the data.\n",
    "\n",
    "5. Data Pre-processing\n",
    "\n",
    "  - 5.1 Identifying and removing Duplicates from your data\n",
    "  \n",
    "  - 5.2 Removing unwanted characters and changing datatypes\n",
    "  \n",
    "  - 5.3 Identifying and imputing missing values\n",
    "    - Ways of detecting missing values & Standard and non-standard missing values\n",
    "    - Basic imputation methods for replacing missing values\n",
    "\n",
    "  - 5.4 Outlier detection & Imputation- visually, and statistically  "
   ]
  },
  {
   "cell_type": "markdown",
   "metadata": {
    "id": "KNhaa0mG5wrq"
   },
   "source": [
    "<a id=\"ad\"> </a>\n",
    "## 1. About dataset"
   ]
  },
  {
   "cell_type": "markdown",
   "metadata": {
    "id": "ncgCAVQ95wrq"
   },
   "source": [
    "- Amazon.com, Inc. is an American multinational conglomerate that focuses on e-commerce, cloud computing, digital streaming, and artificial intelligence. It is one of the Big Five companies in the U.S. information technology industry, along with Google, Apple, Microsoft, and Facebook.\n",
    "\n",
    "\n",
    "- Amazon Top Rated Smartphones & Accessories 2021 Dataset was scraped from amazon.in website of the e-commerce amazon India. the dataset contains smartphones title with its specification according to its rating and number of review count in the dataset column. there is a piece of additional information about the smartphone. that is its offer price and actual price with its discount percentage and delivery options\n",
    "\n",
    "\n",
    "- Amazon Top Rated Smartphones & Accessories 2021 dataset is scraped from the e-commerce website."
   ]
  },
  {
   "cell_type": "markdown",
   "metadata": {
    "id": "rAerMfVN5wrr"
   },
   "source": [
    "<a id=\"inl\"> </a>\n",
    "## 2. Import the necessary libraries."
   ]
  },
  {
   "cell_type": "code",
   "execution_count": 33,
   "metadata": {
    "id": "qKpIBTcd5wrr"
   },
   "outputs": [],
   "source": [
    "import pandas as pd\n",
    "import numpy as np\n",
    "import seaborn as sns\n",
    "import matplotlib.pyplot as plt\n"
   ]
  },
  {
   "cell_type": "markdown",
   "metadata": {
    "id": "FPSEIaew5wrs"
   },
   "source": [
    "<a id=\"ld\"> </a>\n",
    "## 3. Load the dataset."
   ]
  },
  {
   "cell_type": "code",
   "execution_count": 163,
   "metadata": {
    "colab": {
     "base_uri": "https://localhost:8080/"
    },
    "executionInfo": {
     "elapsed": 763,
     "status": "ok",
     "timestamp": 1665620762243,
     "user": {
      "displayName": "V. Arun Kumar",
      "userId": "02991517788843717529"
     },
     "user_tz": -330
    },
    "id": "tJaXLzD65wrt",
    "outputId": "de0adc9d-97a5-421a-f697-586ba2a74b9c"
   },
   "outputs": [
    {
     "data": {
      "text/html": [
       "<div>\n",
       "<style scoped>\n",
       "    .dataframe tbody tr th:only-of-type {\n",
       "        vertical-align: middle;\n",
       "    }\n",
       "\n",
       "    .dataframe tbody tr th {\n",
       "        vertical-align: top;\n",
       "    }\n",
       "\n",
       "    .dataframe thead th {\n",
       "        text-align: right;\n",
       "    }\n",
       "</style>\n",
       "<table border=\"1\" class=\"dataframe\">\n",
       "  <thead>\n",
       "    <tr style=\"text-align: right;\">\n",
       "      <th></th>\n",
       "      <th>Smartphone</th>\n",
       "      <th>Rating</th>\n",
       "      <th>Reviews count</th>\n",
       "      <th>Offer price</th>\n",
       "      <th>Actual price</th>\n",
       "      <th>Saving</th>\n",
       "      <th>Delivery</th>\n",
       "      <th>Status of stock &amp; more offers</th>\n",
       "    </tr>\n",
       "  </thead>\n",
       "  <tbody>\n",
       "    <tr>\n",
       "      <th>0</th>\n",
       "      <td>Redmi 9 (Sky Blue, 4GB RAM, 64GB Storage) | 2....</td>\n",
       "      <td>4.2 out of 5 stars</td>\n",
       "      <td>87,809</td>\n",
       "      <td>₹9,499</td>\n",
       "      <td>₹10,999</td>\n",
       "      <td>Save ₹1,500 (14%)</td>\n",
       "      <td>FREE Delivery by Amazon</td>\n",
       "      <td>NaN</td>\n",
       "    </tr>\n",
       "    <tr>\n",
       "      <th>1</th>\n",
       "      <td>Redmi 9A (Nature Green, 2GB RAM, 32GB Storage)...</td>\n",
       "      <td>4.2 out of 5 stars</td>\n",
       "      <td>74,587</td>\n",
       "      <td>₹6,999</td>\n",
       "      <td>₹8,499</td>\n",
       "      <td>Save ₹1,500 (18%)</td>\n",
       "      <td>FREE Delivery by Amazon</td>\n",
       "      <td>NaN</td>\n",
       "    </tr>\n",
       "    <tr>\n",
       "      <th>2</th>\n",
       "      <td>Redmi 9A (Sea Blue 2GB RAM 32GB Storage) | 2GH...</td>\n",
       "      <td>4.2 out of 5 stars</td>\n",
       "      <td>74,587</td>\n",
       "      <td>₹6,999</td>\n",
       "      <td>₹8,499</td>\n",
       "      <td>Save ₹1,500 (18%)</td>\n",
       "      <td>FREE Delivery by Amazon</td>\n",
       "      <td>NaN</td>\n",
       "    </tr>\n",
       "    <tr>\n",
       "      <th>3</th>\n",
       "      <td>Redmi Note 10 (Aqua Green, 4GB RAM, 64GB Stora...</td>\n",
       "      <td>4.2 out of 5 stars</td>\n",
       "      <td>95,519</td>\n",
       "      <td>₹13,999</td>\n",
       "      <td>₹15,999</td>\n",
       "      <td>Save ₹2,000 (13%)</td>\n",
       "      <td>FREE Delivery by Amazon</td>\n",
       "      <td>NaN</td>\n",
       "    </tr>\n",
       "    <tr>\n",
       "      <th>4</th>\n",
       "      <td>Redmi 9 (Carbon Black, 4GB RAM, 64GB Storage) ...</td>\n",
       "      <td>4.2 out of 5 stars</td>\n",
       "      <td>87,809</td>\n",
       "      <td>₹9,499</td>\n",
       "      <td>₹10,999</td>\n",
       "      <td>Save ₹1,500 (14%)</td>\n",
       "      <td>FREE Delivery by Amazon</td>\n",
       "      <td>NaN</td>\n",
       "    </tr>\n",
       "    <tr>\n",
       "      <th>...</th>\n",
       "      <td>...</td>\n",
       "      <td>...</td>\n",
       "      <td>...</td>\n",
       "      <td>...</td>\n",
       "      <td>...</td>\n",
       "      <td>...</td>\n",
       "      <td>...</td>\n",
       "      <td>...</td>\n",
       "    </tr>\n",
       "    <tr>\n",
       "      <th>1362</th>\n",
       "      <td>Nillkin Case for Apple iPhone 12 / iPhone 12 P...</td>\n",
       "      <td>5.0 out of 5 stars</td>\n",
       "      <td>1</td>\n",
       "      <td>₹4,499</td>\n",
       "      <td>₹5,999</td>\n",
       "      <td>Save ₹1,500 (25%)</td>\n",
       "      <td>FREE Delivery by Amazon</td>\n",
       "      <td>Only 1 left in stock.</td>\n",
       "    </tr>\n",
       "    <tr>\n",
       "      <th>1363</th>\n",
       "      <td>Nillkin Case for Apple iPhone 12 / iPhone 12 P...</td>\n",
       "      <td>5.0 out of 5 stars</td>\n",
       "      <td>1</td>\n",
       "      <td>₹3,999</td>\n",
       "      <td>₹4,999</td>\n",
       "      <td>Save ₹1,000 (20%)</td>\n",
       "      <td>FREE Delivery by Amazon</td>\n",
       "      <td>Only 2 left in stock.</td>\n",
       "    </tr>\n",
       "    <tr>\n",
       "      <th>1364</th>\n",
       "      <td>Nillkin Case for Samsung Galaxy F62 F 62 / Sam...</td>\n",
       "      <td>5.0 out of 5 stars</td>\n",
       "      <td>1</td>\n",
       "      <td>₹1,099</td>\n",
       "      <td>₹1,699</td>\n",
       "      <td>Save ₹600 (35%)</td>\n",
       "      <td>FREE Delivery by Amazon</td>\n",
       "      <td>Only 1 left in stock.</td>\n",
       "    </tr>\n",
       "    <tr>\n",
       "      <th>1365</th>\n",
       "      <td>Nillkin Case for Xiaomi Redmi Note 10 / Note 1...</td>\n",
       "      <td>5.0 out of 5 stars</td>\n",
       "      <td>1</td>\n",
       "      <td>₹1,299</td>\n",
       "      <td>₹1,699</td>\n",
       "      <td>Save ₹400 (24%)</td>\n",
       "      <td>FREE Delivery by Amazon</td>\n",
       "      <td>Only 1 left in stock.</td>\n",
       "    </tr>\n",
       "    <tr>\n",
       "      <th>1366</th>\n",
       "      <td>Nillkin Case for Samsung Galaxy A72 A 72 (6.7\"...</td>\n",
       "      <td>5.0 out of 5 stars</td>\n",
       "      <td>1</td>\n",
       "      <td>₹1,199</td>\n",
       "      <td>₹2,499</td>\n",
       "      <td>Save ₹1,300 (52%)</td>\n",
       "      <td>FREE Delivery by Amazon</td>\n",
       "      <td>Only 2 left in stock.</td>\n",
       "    </tr>\n",
       "  </tbody>\n",
       "</table>\n",
       "<p>1367 rows × 8 columns</p>\n",
       "</div>"
      ],
      "text/plain": [
       "                                             Smartphone              Rating  \\\n",
       "0     Redmi 9 (Sky Blue, 4GB RAM, 64GB Storage) | 2....  4.2 out of 5 stars   \n",
       "1     Redmi 9A (Nature Green, 2GB RAM, 32GB Storage)...  4.2 out of 5 stars   \n",
       "2     Redmi 9A (Sea Blue 2GB RAM 32GB Storage) | 2GH...  4.2 out of 5 stars   \n",
       "3     Redmi Note 10 (Aqua Green, 4GB RAM, 64GB Stora...  4.2 out of 5 stars   \n",
       "4     Redmi 9 (Carbon Black, 4GB RAM, 64GB Storage) ...  4.2 out of 5 stars   \n",
       "...                                                 ...                 ...   \n",
       "1362  Nillkin Case for Apple iPhone 12 / iPhone 12 P...  5.0 out of 5 stars   \n",
       "1363  Nillkin Case for Apple iPhone 12 / iPhone 12 P...  5.0 out of 5 stars   \n",
       "1364  Nillkin Case for Samsung Galaxy F62 F 62 / Sam...  5.0 out of 5 stars   \n",
       "1365  Nillkin Case for Xiaomi Redmi Note 10 / Note 1...  5.0 out of 5 stars   \n",
       "1366  Nillkin Case for Samsung Galaxy A72 A 72 (6.7\"...  5.0 out of 5 stars   \n",
       "\n",
       "     Reviews count Offer price Actual price             Saving  \\\n",
       "0           87,809      ₹9,499      ₹10,999  Save ₹1,500 (14%)   \n",
       "1           74,587      ₹6,999       ₹8,499  Save ₹1,500 (18%)   \n",
       "2           74,587      ₹6,999       ₹8,499  Save ₹1,500 (18%)   \n",
       "3           95,519     ₹13,999      ₹15,999  Save ₹2,000 (13%)   \n",
       "4           87,809      ₹9,499      ₹10,999  Save ₹1,500 (14%)   \n",
       "...            ...         ...          ...                ...   \n",
       "1362             1      ₹4,499       ₹5,999  Save ₹1,500 (25%)   \n",
       "1363             1      ₹3,999       ₹4,999  Save ₹1,000 (20%)   \n",
       "1364             1      ₹1,099       ₹1,699    Save ₹600 (35%)   \n",
       "1365             1      ₹1,299       ₹1,699    Save ₹400 (24%)   \n",
       "1366             1      ₹1,199       ₹2,499  Save ₹1,300 (52%)   \n",
       "\n",
       "                     Delivery Status of stock & more offers  \n",
       "0     FREE Delivery by Amazon                           NaN  \n",
       "1     FREE Delivery by Amazon                           NaN  \n",
       "2     FREE Delivery by Amazon                           NaN  \n",
       "3     FREE Delivery by Amazon                           NaN  \n",
       "4     FREE Delivery by Amazon                           NaN  \n",
       "...                       ...                           ...  \n",
       "1362  FREE Delivery by Amazon         Only 1 left in stock.  \n",
       "1363  FREE Delivery by Amazon         Only 2 left in stock.  \n",
       "1364  FREE Delivery by Amazon         Only 1 left in stock.  \n",
       "1365  FREE Delivery by Amazon         Only 1 left in stock.  \n",
       "1366  FREE Delivery by Amazon         Only 2 left in stock.  \n",
       "\n",
       "[1367 rows x 8 columns]"
      ]
     },
     "execution_count": 163,
     "metadata": {},
     "output_type": "execute_result"
    }
   ],
   "source": [
    "# Amazon_data.csv\n",
    "data=pd.read_csv('Amazon_data.csv')\n",
    "data"
   ]
  },
  {
   "cell_type": "markdown",
   "metadata": {},
   "source": [
    "## 4. Explore the data."
   ]
  },
  {
   "cell_type": "code",
   "execution_count": 164,
   "metadata": {},
   "outputs": [],
   "source": [
    "# check info, shape, columns, datatypes and more....and write your inferences."
   ]
  },
  {
   "cell_type": "code",
   "execution_count": 165,
   "metadata": {},
   "outputs": [
    {
     "name": "stdout",
     "output_type": "stream",
     "text": [
      "<class 'pandas.core.frame.DataFrame'>\n",
      "RangeIndex: 1367 entries, 0 to 1366\n",
      "Data columns (total 8 columns):\n",
      " #   Column                         Non-Null Count  Dtype \n",
      "---  ------                         --------------  ----- \n",
      " 0   Smartphone                     1367 non-null   object\n",
      " 1   Rating                         1367 non-null   object\n",
      " 2   Reviews count                  1367 non-null   object\n",
      " 3   Offer price                    1153 non-null   object\n",
      " 4   Actual price                   1041 non-null   object\n",
      " 5   Saving                         1150 non-null   object\n",
      " 6   Delivery                       1367 non-null   object\n",
      " 7   Status of stock & more offers  498 non-null    object\n",
      "dtypes: object(8)\n",
      "memory usage: 85.6+ KB\n"
     ]
    }
   ],
   "source": [
    "data.info()"
   ]
  },
  {
   "cell_type": "code",
   "execution_count": 166,
   "metadata": {},
   "outputs": [
    {
     "data": {
      "text/plain": [
       "(1367, 8)"
      ]
     },
     "execution_count": 166,
     "metadata": {},
     "output_type": "execute_result"
    }
   ],
   "source": [
    "data.shape"
   ]
  },
  {
   "cell_type": "code",
   "execution_count": 167,
   "metadata": {},
   "outputs": [
    {
     "name": "stdout",
     "output_type": "stream",
     "text": [
      "Index(['Smartphone', 'Rating', 'Reviews count', 'Offer price', 'Actual price',\n",
      "       'Saving', 'Delivery', 'Status of stock & more offers'],\n",
      "      dtype='object')\n"
     ]
    },
    {
     "data": {
      "text/plain": [
       "Smartphone                       object\n",
       "Rating                           object\n",
       "Reviews count                    object\n",
       "Offer price                      object\n",
       "Actual price                     object\n",
       "Saving                           object\n",
       "Delivery                         object\n",
       "Status of stock & more offers    object\n",
       "dtype: object"
      ]
     },
     "execution_count": 167,
     "metadata": {},
     "output_type": "execute_result"
    }
   ],
   "source": [
    "a=data.columns\n",
    "print(a)\n",
    "data.dtypes"
   ]
  },
  {
   "cell_type": "markdown",
   "metadata": {
    "id": "L_QB39kx5wru"
   },
   "source": [
    "<a id=\"dp\"> </a>\n",
    "## 5. Data Pre-processing"
   ]
  },
  {
   "cell_type": "markdown",
   "metadata": {
    "id": "RbZ1n5Bd5wru"
   },
   "source": [
    "<a id=\"fdd\"> </a>\n",
    "### 5.1 Find and drop duplicate values."
   ]
  },
  {
   "cell_type": "markdown",
   "metadata": {
    "id": "0yuesqEX5wru"
   },
   "source": [
    "###### Lets check for the duplicate rows in the data and drop those."
   ]
  },
  {
   "cell_type": "code",
   "execution_count": 168,
   "metadata": {
    "colab": {
     "base_uri": "https://localhost:8080/"
    },
    "executionInfo": {
     "elapsed": 27,
     "status": "ok",
     "timestamp": 1665620762244,
     "user": {
      "displayName": "V. Arun Kumar",
      "userId": "02991517788843717529"
     },
     "user_tz": -330
    },
    "id": "8McKl8xw5wru",
    "outputId": "da9b1cac-01a3-4013-9bbe-6bb46eda0f56"
   },
   "outputs": [
    {
     "data": {
      "text/plain": [
       "60"
      ]
     },
     "execution_count": 168,
     "metadata": {},
     "output_type": "execute_result"
    }
   ],
   "source": [
    "##Identify duplicates records in the data\n",
    "data.duplicated('Smartphone').sum()"
   ]
  },
  {
   "cell_type": "code",
   "execution_count": 169,
   "metadata": {
    "id": "1JkJzhb75wrv"
   },
   "outputs": [
    {
     "data": {
      "text/html": [
       "<div>\n",
       "<style scoped>\n",
       "    .dataframe tbody tr th:only-of-type {\n",
       "        vertical-align: middle;\n",
       "    }\n",
       "\n",
       "    .dataframe tbody tr th {\n",
       "        vertical-align: top;\n",
       "    }\n",
       "\n",
       "    .dataframe thead th {\n",
       "        text-align: right;\n",
       "    }\n",
       "</style>\n",
       "<table border=\"1\" class=\"dataframe\">\n",
       "  <thead>\n",
       "    <tr style=\"text-align: right;\">\n",
       "      <th></th>\n",
       "      <th>Smartphone</th>\n",
       "      <th>Rating</th>\n",
       "      <th>Reviews count</th>\n",
       "      <th>Offer price</th>\n",
       "      <th>Actual price</th>\n",
       "      <th>Saving</th>\n",
       "      <th>Delivery</th>\n",
       "      <th>Status of stock &amp; more offers</th>\n",
       "    </tr>\n",
       "  </thead>\n",
       "  <tbody>\n",
       "    <tr>\n",
       "      <th>0</th>\n",
       "      <td>Redmi 9 (Sky Blue, 4GB RAM, 64GB Storage) | 2....</td>\n",
       "      <td>4.2 out of 5 stars</td>\n",
       "      <td>87,809</td>\n",
       "      <td>₹9,499</td>\n",
       "      <td>₹10,999</td>\n",
       "      <td>Save ₹1,500 (14%)</td>\n",
       "      <td>FREE Delivery by Amazon</td>\n",
       "      <td>NaN</td>\n",
       "    </tr>\n",
       "    <tr>\n",
       "      <th>1</th>\n",
       "      <td>Redmi 9A (Nature Green, 2GB RAM, 32GB Storage)...</td>\n",
       "      <td>4.2 out of 5 stars</td>\n",
       "      <td>74,587</td>\n",
       "      <td>₹6,999</td>\n",
       "      <td>₹8,499</td>\n",
       "      <td>Save ₹1,500 (18%)</td>\n",
       "      <td>FREE Delivery by Amazon</td>\n",
       "      <td>NaN</td>\n",
       "    </tr>\n",
       "    <tr>\n",
       "      <th>2</th>\n",
       "      <td>Redmi 9A (Sea Blue 2GB RAM 32GB Storage) | 2GH...</td>\n",
       "      <td>4.2 out of 5 stars</td>\n",
       "      <td>74,587</td>\n",
       "      <td>₹6,999</td>\n",
       "      <td>₹8,499</td>\n",
       "      <td>Save ₹1,500 (18%)</td>\n",
       "      <td>FREE Delivery by Amazon</td>\n",
       "      <td>NaN</td>\n",
       "    </tr>\n",
       "    <tr>\n",
       "      <th>3</th>\n",
       "      <td>Redmi Note 10 (Aqua Green, 4GB RAM, 64GB Stora...</td>\n",
       "      <td>4.2 out of 5 stars</td>\n",
       "      <td>95,519</td>\n",
       "      <td>₹13,999</td>\n",
       "      <td>₹15,999</td>\n",
       "      <td>Save ₹2,000 (13%)</td>\n",
       "      <td>FREE Delivery by Amazon</td>\n",
       "      <td>NaN</td>\n",
       "    </tr>\n",
       "    <tr>\n",
       "      <th>4</th>\n",
       "      <td>Redmi 9 (Carbon Black, 4GB RAM, 64GB Storage) ...</td>\n",
       "      <td>4.2 out of 5 stars</td>\n",
       "      <td>87,809</td>\n",
       "      <td>₹9,499</td>\n",
       "      <td>₹10,999</td>\n",
       "      <td>Save ₹1,500 (14%)</td>\n",
       "      <td>FREE Delivery by Amazon</td>\n",
       "      <td>NaN</td>\n",
       "    </tr>\n",
       "    <tr>\n",
       "      <th>...</th>\n",
       "      <td>...</td>\n",
       "      <td>...</td>\n",
       "      <td>...</td>\n",
       "      <td>...</td>\n",
       "      <td>...</td>\n",
       "      <td>...</td>\n",
       "      <td>...</td>\n",
       "      <td>...</td>\n",
       "    </tr>\n",
       "    <tr>\n",
       "      <th>1362</th>\n",
       "      <td>Nillkin Case for Apple iPhone 12 / iPhone 12 P...</td>\n",
       "      <td>5.0 out of 5 stars</td>\n",
       "      <td>1</td>\n",
       "      <td>₹4,499</td>\n",
       "      <td>₹5,999</td>\n",
       "      <td>Save ₹1,500 (25%)</td>\n",
       "      <td>FREE Delivery by Amazon</td>\n",
       "      <td>Only 1 left in stock.</td>\n",
       "    </tr>\n",
       "    <tr>\n",
       "      <th>1363</th>\n",
       "      <td>Nillkin Case for Apple iPhone 12 / iPhone 12 P...</td>\n",
       "      <td>5.0 out of 5 stars</td>\n",
       "      <td>1</td>\n",
       "      <td>₹3,999</td>\n",
       "      <td>₹4,999</td>\n",
       "      <td>Save ₹1,000 (20%)</td>\n",
       "      <td>FREE Delivery by Amazon</td>\n",
       "      <td>Only 2 left in stock.</td>\n",
       "    </tr>\n",
       "    <tr>\n",
       "      <th>1364</th>\n",
       "      <td>Nillkin Case for Samsung Galaxy F62 F 62 / Sam...</td>\n",
       "      <td>5.0 out of 5 stars</td>\n",
       "      <td>1</td>\n",
       "      <td>₹1,099</td>\n",
       "      <td>₹1,699</td>\n",
       "      <td>Save ₹600 (35%)</td>\n",
       "      <td>FREE Delivery by Amazon</td>\n",
       "      <td>Only 1 left in stock.</td>\n",
       "    </tr>\n",
       "    <tr>\n",
       "      <th>1365</th>\n",
       "      <td>Nillkin Case for Xiaomi Redmi Note 10 / Note 1...</td>\n",
       "      <td>5.0 out of 5 stars</td>\n",
       "      <td>1</td>\n",
       "      <td>₹1,299</td>\n",
       "      <td>₹1,699</td>\n",
       "      <td>Save ₹400 (24%)</td>\n",
       "      <td>FREE Delivery by Amazon</td>\n",
       "      <td>Only 1 left in stock.</td>\n",
       "    </tr>\n",
       "    <tr>\n",
       "      <th>1366</th>\n",
       "      <td>Nillkin Case for Samsung Galaxy A72 A 72 (6.7\"...</td>\n",
       "      <td>5.0 out of 5 stars</td>\n",
       "      <td>1</td>\n",
       "      <td>₹1,199</td>\n",
       "      <td>₹2,499</td>\n",
       "      <td>Save ₹1,300 (52%)</td>\n",
       "      <td>FREE Delivery by Amazon</td>\n",
       "      <td>Only 2 left in stock.</td>\n",
       "    </tr>\n",
       "  </tbody>\n",
       "</table>\n",
       "<p>1307 rows × 8 columns</p>\n",
       "</div>"
      ],
      "text/plain": [
       "                                             Smartphone              Rating  \\\n",
       "0     Redmi 9 (Sky Blue, 4GB RAM, 64GB Storage) | 2....  4.2 out of 5 stars   \n",
       "1     Redmi 9A (Nature Green, 2GB RAM, 32GB Storage)...  4.2 out of 5 stars   \n",
       "2     Redmi 9A (Sea Blue 2GB RAM 32GB Storage) | 2GH...  4.2 out of 5 stars   \n",
       "3     Redmi Note 10 (Aqua Green, 4GB RAM, 64GB Stora...  4.2 out of 5 stars   \n",
       "4     Redmi 9 (Carbon Black, 4GB RAM, 64GB Storage) ...  4.2 out of 5 stars   \n",
       "...                                                 ...                 ...   \n",
       "1362  Nillkin Case for Apple iPhone 12 / iPhone 12 P...  5.0 out of 5 stars   \n",
       "1363  Nillkin Case for Apple iPhone 12 / iPhone 12 P...  5.0 out of 5 stars   \n",
       "1364  Nillkin Case for Samsung Galaxy F62 F 62 / Sam...  5.0 out of 5 stars   \n",
       "1365  Nillkin Case for Xiaomi Redmi Note 10 / Note 1...  5.0 out of 5 stars   \n",
       "1366  Nillkin Case for Samsung Galaxy A72 A 72 (6.7\"...  5.0 out of 5 stars   \n",
       "\n",
       "     Reviews count Offer price Actual price             Saving  \\\n",
       "0           87,809      ₹9,499      ₹10,999  Save ₹1,500 (14%)   \n",
       "1           74,587      ₹6,999       ₹8,499  Save ₹1,500 (18%)   \n",
       "2           74,587      ₹6,999       ₹8,499  Save ₹1,500 (18%)   \n",
       "3           95,519     ₹13,999      ₹15,999  Save ₹2,000 (13%)   \n",
       "4           87,809      ₹9,499      ₹10,999  Save ₹1,500 (14%)   \n",
       "...            ...         ...          ...                ...   \n",
       "1362             1      ₹4,499       ₹5,999  Save ₹1,500 (25%)   \n",
       "1363             1      ₹3,999       ₹4,999  Save ₹1,000 (20%)   \n",
       "1364             1      ₹1,099       ₹1,699    Save ₹600 (35%)   \n",
       "1365             1      ₹1,299       ₹1,699    Save ₹400 (24%)   \n",
       "1366             1      ₹1,199       ₹2,499  Save ₹1,300 (52%)   \n",
       "\n",
       "                     Delivery Status of stock & more offers  \n",
       "0     FREE Delivery by Amazon                           NaN  \n",
       "1     FREE Delivery by Amazon                           NaN  \n",
       "2     FREE Delivery by Amazon                           NaN  \n",
       "3     FREE Delivery by Amazon                           NaN  \n",
       "4     FREE Delivery by Amazon                           NaN  \n",
       "...                       ...                           ...  \n",
       "1362  FREE Delivery by Amazon         Only 1 left in stock.  \n",
       "1363  FREE Delivery by Amazon         Only 2 left in stock.  \n",
       "1364  FREE Delivery by Amazon         Only 1 left in stock.  \n",
       "1365  FREE Delivery by Amazon         Only 1 left in stock.  \n",
       "1366  FREE Delivery by Amazon         Only 2 left in stock.  \n",
       "\n",
       "[1307 rows x 8 columns]"
      ]
     },
     "execution_count": 169,
     "metadata": {},
     "output_type": "execute_result"
    }
   ],
   "source": [
    "#Removing Duplicates\n",
    "data.drop_duplicates('Smartphone',keep='last',inplace=True)\n",
    "data"
   ]
  },
  {
   "cell_type": "code",
   "execution_count": 170,
   "metadata": {
    "colab": {
     "base_uri": "https://localhost:8080/"
    },
    "executionInfo": {
     "elapsed": 26,
     "status": "ok",
     "timestamp": 1665620762245,
     "user": {
      "displayName": "V. Arun Kumar",
      "userId": "02991517788843717529"
     },
     "user_tz": -330
    },
    "id": "mIRyMgow5wrv",
    "outputId": "bb8ca4e6-81c2-4c08-8ab5-8f2cf72eab79"
   },
   "outputs": [
    {
     "data": {
      "text/html": [
       "<div>\n",
       "<style scoped>\n",
       "    .dataframe tbody tr th:only-of-type {\n",
       "        vertical-align: middle;\n",
       "    }\n",
       "\n",
       "    .dataframe tbody tr th {\n",
       "        vertical-align: top;\n",
       "    }\n",
       "\n",
       "    .dataframe thead th {\n",
       "        text-align: right;\n",
       "    }\n",
       "</style>\n",
       "<table border=\"1\" class=\"dataframe\">\n",
       "  <thead>\n",
       "    <tr style=\"text-align: right;\">\n",
       "      <th></th>\n",
       "      <th>Smartphone</th>\n",
       "      <th>Rating</th>\n",
       "      <th>Reviews count</th>\n",
       "      <th>Offer price</th>\n",
       "      <th>Actual price</th>\n",
       "      <th>Saving</th>\n",
       "      <th>Delivery</th>\n",
       "      <th>Status of stock &amp; more offers</th>\n",
       "    </tr>\n",
       "  </thead>\n",
       "  <tbody>\n",
       "  </tbody>\n",
       "</table>\n",
       "</div>"
      ],
      "text/plain": [
       "Empty DataFrame\n",
       "Columns: [Smartphone, Rating, Reviews count, Offer price, Actual price, Saving, Delivery, Status of stock & more offers]\n",
       "Index: []"
      ]
     },
     "execution_count": 170,
     "metadata": {},
     "output_type": "execute_result"
    }
   ],
   "source": [
    "## Check for duplicate values again\n",
    "y=data[data.duplicated(keep=False)]\n",
    "y"
   ]
  },
  {
   "cell_type": "markdown",
   "metadata": {
    "id": "_8IdqQ8s5wrv"
   },
   "source": [
    "<a id=\"ru\"> </a>\n",
    "### 5.2 Removing unwanted characters and changing the datatype"
   ]
  },
  {
   "cell_type": "code",
   "execution_count": 171,
   "metadata": {
    "colab": {
     "base_uri": "https://localhost:8080/",
     "height": 208
    },
    "executionInfo": {
     "elapsed": 20,
     "status": "ok",
     "timestamp": 1665620762245,
     "user": {
      "displayName": "V. Arun Kumar",
      "userId": "02991517788843717529"
     },
     "user_tz": -330
    },
    "id": "3yddZxcS5wrv",
    "outputId": "2ac68d29-5ce9-457e-bb7a-eb83ee6bd1c5",
    "scrolled": true
   },
   "outputs": [
    {
     "data": {
      "text/html": [
       "<div>\n",
       "<style scoped>\n",
       "    .dataframe tbody tr th:only-of-type {\n",
       "        vertical-align: middle;\n",
       "    }\n",
       "\n",
       "    .dataframe tbody tr th {\n",
       "        vertical-align: top;\n",
       "    }\n",
       "\n",
       "    .dataframe thead th {\n",
       "        text-align: right;\n",
       "    }\n",
       "</style>\n",
       "<table border=\"1\" class=\"dataframe\">\n",
       "  <thead>\n",
       "    <tr style=\"text-align: right;\">\n",
       "      <th></th>\n",
       "      <th>Smartphone</th>\n",
       "      <th>Rating</th>\n",
       "      <th>Reviews count</th>\n",
       "      <th>Offer price</th>\n",
       "      <th>Actual price</th>\n",
       "      <th>Saving</th>\n",
       "      <th>Delivery</th>\n",
       "      <th>Status of stock &amp; more offers</th>\n",
       "    </tr>\n",
       "  </thead>\n",
       "  <tbody>\n",
       "    <tr>\n",
       "      <th>0</th>\n",
       "      <td>Redmi 9 (Sky Blue, 4GB RAM, 64GB Storage) | 2....</td>\n",
       "      <td>4.2</td>\n",
       "      <td>87,809</td>\n",
       "      <td>₹9,499</td>\n",
       "      <td>₹10,999</td>\n",
       "      <td>Save ₹1,500 (14%)</td>\n",
       "      <td>FREE Delivery by Amazon</td>\n",
       "      <td>NaN</td>\n",
       "    </tr>\n",
       "    <tr>\n",
       "      <th>1</th>\n",
       "      <td>Redmi 9A (Nature Green, 2GB RAM, 32GB Storage)...</td>\n",
       "      <td>4.2</td>\n",
       "      <td>74,587</td>\n",
       "      <td>₹6,999</td>\n",
       "      <td>₹8,499</td>\n",
       "      <td>Save ₹1,500 (18%)</td>\n",
       "      <td>FREE Delivery by Amazon</td>\n",
       "      <td>NaN</td>\n",
       "    </tr>\n",
       "    <tr>\n",
       "      <th>2</th>\n",
       "      <td>Redmi 9A (Sea Blue 2GB RAM 32GB Storage) | 2GH...</td>\n",
       "      <td>4.2</td>\n",
       "      <td>74,587</td>\n",
       "      <td>₹6,999</td>\n",
       "      <td>₹8,499</td>\n",
       "      <td>Save ₹1,500 (18%)</td>\n",
       "      <td>FREE Delivery by Amazon</td>\n",
       "      <td>NaN</td>\n",
       "    </tr>\n",
       "    <tr>\n",
       "      <th>3</th>\n",
       "      <td>Redmi Note 10 (Aqua Green, 4GB RAM, 64GB Stora...</td>\n",
       "      <td>4.2</td>\n",
       "      <td>95,519</td>\n",
       "      <td>₹13,999</td>\n",
       "      <td>₹15,999</td>\n",
       "      <td>Save ₹2,000 (13%)</td>\n",
       "      <td>FREE Delivery by Amazon</td>\n",
       "      <td>NaN</td>\n",
       "    </tr>\n",
       "    <tr>\n",
       "      <th>4</th>\n",
       "      <td>Redmi 9 (Carbon Black, 4GB RAM, 64GB Storage) ...</td>\n",
       "      <td>4.2</td>\n",
       "      <td>87,809</td>\n",
       "      <td>₹9,499</td>\n",
       "      <td>₹10,999</td>\n",
       "      <td>Save ₹1,500 (14%)</td>\n",
       "      <td>FREE Delivery by Amazon</td>\n",
       "      <td>NaN</td>\n",
       "    </tr>\n",
       "    <tr>\n",
       "      <th>...</th>\n",
       "      <td>...</td>\n",
       "      <td>...</td>\n",
       "      <td>...</td>\n",
       "      <td>...</td>\n",
       "      <td>...</td>\n",
       "      <td>...</td>\n",
       "      <td>...</td>\n",
       "      <td>...</td>\n",
       "    </tr>\n",
       "    <tr>\n",
       "      <th>1362</th>\n",
       "      <td>Nillkin Case for Apple iPhone 12 / iPhone 12 P...</td>\n",
       "      <td>5.0</td>\n",
       "      <td>1</td>\n",
       "      <td>₹4,499</td>\n",
       "      <td>₹5,999</td>\n",
       "      <td>Save ₹1,500 (25%)</td>\n",
       "      <td>FREE Delivery by Amazon</td>\n",
       "      <td>Only 1 left in stock.</td>\n",
       "    </tr>\n",
       "    <tr>\n",
       "      <th>1363</th>\n",
       "      <td>Nillkin Case for Apple iPhone 12 / iPhone 12 P...</td>\n",
       "      <td>5.0</td>\n",
       "      <td>1</td>\n",
       "      <td>₹3,999</td>\n",
       "      <td>₹4,999</td>\n",
       "      <td>Save ₹1,000 (20%)</td>\n",
       "      <td>FREE Delivery by Amazon</td>\n",
       "      <td>Only 2 left in stock.</td>\n",
       "    </tr>\n",
       "    <tr>\n",
       "      <th>1364</th>\n",
       "      <td>Nillkin Case for Samsung Galaxy F62 F 62 / Sam...</td>\n",
       "      <td>5.0</td>\n",
       "      <td>1</td>\n",
       "      <td>₹1,099</td>\n",
       "      <td>₹1,699</td>\n",
       "      <td>Save ₹600 (35%)</td>\n",
       "      <td>FREE Delivery by Amazon</td>\n",
       "      <td>Only 1 left in stock.</td>\n",
       "    </tr>\n",
       "    <tr>\n",
       "      <th>1365</th>\n",
       "      <td>Nillkin Case for Xiaomi Redmi Note 10 / Note 1...</td>\n",
       "      <td>5.0</td>\n",
       "      <td>1</td>\n",
       "      <td>₹1,299</td>\n",
       "      <td>₹1,699</td>\n",
       "      <td>Save ₹400 (24%)</td>\n",
       "      <td>FREE Delivery by Amazon</td>\n",
       "      <td>Only 1 left in stock.</td>\n",
       "    </tr>\n",
       "    <tr>\n",
       "      <th>1366</th>\n",
       "      <td>Nillkin Case for Samsung Galaxy A72 A 72 (6.7\"...</td>\n",
       "      <td>5.0</td>\n",
       "      <td>1</td>\n",
       "      <td>₹1,199</td>\n",
       "      <td>₹2,499</td>\n",
       "      <td>Save ₹1,300 (52%)</td>\n",
       "      <td>FREE Delivery by Amazon</td>\n",
       "      <td>Only 2 left in stock.</td>\n",
       "    </tr>\n",
       "  </tbody>\n",
       "</table>\n",
       "<p>1307 rows × 8 columns</p>\n",
       "</div>"
      ],
      "text/plain": [
       "                                             Smartphone  Rating Reviews count  \\\n",
       "0     Redmi 9 (Sky Blue, 4GB RAM, 64GB Storage) | 2....     4.2        87,809   \n",
       "1     Redmi 9A (Nature Green, 2GB RAM, 32GB Storage)...     4.2        74,587   \n",
       "2     Redmi 9A (Sea Blue 2GB RAM 32GB Storage) | 2GH...     4.2        74,587   \n",
       "3     Redmi Note 10 (Aqua Green, 4GB RAM, 64GB Stora...     4.2        95,519   \n",
       "4     Redmi 9 (Carbon Black, 4GB RAM, 64GB Storage) ...     4.2        87,809   \n",
       "...                                                 ...     ...           ...   \n",
       "1362  Nillkin Case for Apple iPhone 12 / iPhone 12 P...     5.0             1   \n",
       "1363  Nillkin Case for Apple iPhone 12 / iPhone 12 P...     5.0             1   \n",
       "1364  Nillkin Case for Samsung Galaxy F62 F 62 / Sam...     5.0             1   \n",
       "1365  Nillkin Case for Xiaomi Redmi Note 10 / Note 1...     5.0             1   \n",
       "1366  Nillkin Case for Samsung Galaxy A72 A 72 (6.7\"...     5.0             1   \n",
       "\n",
       "     Offer price Actual price             Saving                 Delivery  \\\n",
       "0         ₹9,499      ₹10,999  Save ₹1,500 (14%)  FREE Delivery by Amazon   \n",
       "1         ₹6,999       ₹8,499  Save ₹1,500 (18%)  FREE Delivery by Amazon   \n",
       "2         ₹6,999       ₹8,499  Save ₹1,500 (18%)  FREE Delivery by Amazon   \n",
       "3        ₹13,999      ₹15,999  Save ₹2,000 (13%)  FREE Delivery by Amazon   \n",
       "4         ₹9,499      ₹10,999  Save ₹1,500 (14%)  FREE Delivery by Amazon   \n",
       "...          ...          ...                ...                      ...   \n",
       "1362      ₹4,499       ₹5,999  Save ₹1,500 (25%)  FREE Delivery by Amazon   \n",
       "1363      ₹3,999       ₹4,999  Save ₹1,000 (20%)  FREE Delivery by Amazon   \n",
       "1364      ₹1,099       ₹1,699    Save ₹600 (35%)  FREE Delivery by Amazon   \n",
       "1365      ₹1,299       ₹1,699    Save ₹400 (24%)  FREE Delivery by Amazon   \n",
       "1366      ₹1,199       ₹2,499  Save ₹1,300 (52%)  FREE Delivery by Amazon   \n",
       "\n",
       "     Status of stock & more offers  \n",
       "0                              NaN  \n",
       "1                              NaN  \n",
       "2                              NaN  \n",
       "3                              NaN  \n",
       "4                              NaN  \n",
       "...                            ...  \n",
       "1362         Only 1 left in stock.  \n",
       "1363         Only 2 left in stock.  \n",
       "1364         Only 1 left in stock.  \n",
       "1365         Only 1 left in stock.  \n",
       "1366         Only 2 left in stock.  \n",
       "\n",
       "[1307 rows x 8 columns]"
      ]
     },
     "execution_count": 171,
     "metadata": {},
     "output_type": "execute_result"
    }
   ],
   "source": [
    "data['Rating']=data['Rating'].str.split().str.get(0).astype(float)\n",
    "data"
   ]
  },
  {
   "cell_type": "markdown",
   "metadata": {},
   "source": [
    "data['Rating']=df['Rating'].str.replace(' out of 5 stars',' ').astype(float)\n",
    "data"
   ]
  },
  {
   "cell_type": "markdown",
   "metadata": {
    "id": "IH1uz-U6MW6n"
   },
   "source": [
    "#### 5.2.1 Let's handle Rating column"
   ]
  },
  {
   "cell_type": "code",
   "execution_count": null,
   "metadata": {
    "id": "YmSJpqjP5wrv"
   },
   "outputs": [],
   "source": []
  },
  {
   "cell_type": "markdown",
   "metadata": {
    "id": "TfdBcy8sMcHn"
   },
   "source": [
    "#### 5.2.2 Let's handle Reviews count column"
   ]
  },
  {
   "cell_type": "code",
   "execution_count": 172,
   "metadata": {
    "id": "FyyP_GXH5wrv"
   },
   "outputs": [
    {
     "data": {
      "text/html": [
       "<div>\n",
       "<style scoped>\n",
       "    .dataframe tbody tr th:only-of-type {\n",
       "        vertical-align: middle;\n",
       "    }\n",
       "\n",
       "    .dataframe tbody tr th {\n",
       "        vertical-align: top;\n",
       "    }\n",
       "\n",
       "    .dataframe thead th {\n",
       "        text-align: right;\n",
       "    }\n",
       "</style>\n",
       "<table border=\"1\" class=\"dataframe\">\n",
       "  <thead>\n",
       "    <tr style=\"text-align: right;\">\n",
       "      <th></th>\n",
       "      <th>Smartphone</th>\n",
       "      <th>Rating</th>\n",
       "      <th>Reviews count</th>\n",
       "      <th>Offer price</th>\n",
       "      <th>Actual price</th>\n",
       "      <th>Saving</th>\n",
       "      <th>Delivery</th>\n",
       "      <th>Status of stock &amp; more offers</th>\n",
       "    </tr>\n",
       "  </thead>\n",
       "  <tbody>\n",
       "    <tr>\n",
       "      <th>0</th>\n",
       "      <td>Redmi 9 (Sky Blue, 4GB RAM, 64GB Storage) | 2....</td>\n",
       "      <td>4.2</td>\n",
       "      <td>87809</td>\n",
       "      <td>₹9,499</td>\n",
       "      <td>₹10,999</td>\n",
       "      <td>Save ₹1,500 (14%)</td>\n",
       "      <td>FREE Delivery by Amazon</td>\n",
       "      <td>NaN</td>\n",
       "    </tr>\n",
       "    <tr>\n",
       "      <th>1</th>\n",
       "      <td>Redmi 9A (Nature Green, 2GB RAM, 32GB Storage)...</td>\n",
       "      <td>4.2</td>\n",
       "      <td>74587</td>\n",
       "      <td>₹6,999</td>\n",
       "      <td>₹8,499</td>\n",
       "      <td>Save ₹1,500 (18%)</td>\n",
       "      <td>FREE Delivery by Amazon</td>\n",
       "      <td>NaN</td>\n",
       "    </tr>\n",
       "    <tr>\n",
       "      <th>2</th>\n",
       "      <td>Redmi 9A (Sea Blue 2GB RAM 32GB Storage) | 2GH...</td>\n",
       "      <td>4.2</td>\n",
       "      <td>74587</td>\n",
       "      <td>₹6,999</td>\n",
       "      <td>₹8,499</td>\n",
       "      <td>Save ₹1,500 (18%)</td>\n",
       "      <td>FREE Delivery by Amazon</td>\n",
       "      <td>NaN</td>\n",
       "    </tr>\n",
       "    <tr>\n",
       "      <th>3</th>\n",
       "      <td>Redmi Note 10 (Aqua Green, 4GB RAM, 64GB Stora...</td>\n",
       "      <td>4.2</td>\n",
       "      <td>95519</td>\n",
       "      <td>₹13,999</td>\n",
       "      <td>₹15,999</td>\n",
       "      <td>Save ₹2,000 (13%)</td>\n",
       "      <td>FREE Delivery by Amazon</td>\n",
       "      <td>NaN</td>\n",
       "    </tr>\n",
       "    <tr>\n",
       "      <th>4</th>\n",
       "      <td>Redmi 9 (Carbon Black, 4GB RAM, 64GB Storage) ...</td>\n",
       "      <td>4.2</td>\n",
       "      <td>87809</td>\n",
       "      <td>₹9,499</td>\n",
       "      <td>₹10,999</td>\n",
       "      <td>Save ₹1,500 (14%)</td>\n",
       "      <td>FREE Delivery by Amazon</td>\n",
       "      <td>NaN</td>\n",
       "    </tr>\n",
       "    <tr>\n",
       "      <th>...</th>\n",
       "      <td>...</td>\n",
       "      <td>...</td>\n",
       "      <td>...</td>\n",
       "      <td>...</td>\n",
       "      <td>...</td>\n",
       "      <td>...</td>\n",
       "      <td>...</td>\n",
       "      <td>...</td>\n",
       "    </tr>\n",
       "    <tr>\n",
       "      <th>1362</th>\n",
       "      <td>Nillkin Case for Apple iPhone 12 / iPhone 12 P...</td>\n",
       "      <td>5.0</td>\n",
       "      <td>1</td>\n",
       "      <td>₹4,499</td>\n",
       "      <td>₹5,999</td>\n",
       "      <td>Save ₹1,500 (25%)</td>\n",
       "      <td>FREE Delivery by Amazon</td>\n",
       "      <td>Only 1 left in stock.</td>\n",
       "    </tr>\n",
       "    <tr>\n",
       "      <th>1363</th>\n",
       "      <td>Nillkin Case for Apple iPhone 12 / iPhone 12 P...</td>\n",
       "      <td>5.0</td>\n",
       "      <td>1</td>\n",
       "      <td>₹3,999</td>\n",
       "      <td>₹4,999</td>\n",
       "      <td>Save ₹1,000 (20%)</td>\n",
       "      <td>FREE Delivery by Amazon</td>\n",
       "      <td>Only 2 left in stock.</td>\n",
       "    </tr>\n",
       "    <tr>\n",
       "      <th>1364</th>\n",
       "      <td>Nillkin Case for Samsung Galaxy F62 F 62 / Sam...</td>\n",
       "      <td>5.0</td>\n",
       "      <td>1</td>\n",
       "      <td>₹1,099</td>\n",
       "      <td>₹1,699</td>\n",
       "      <td>Save ₹600 (35%)</td>\n",
       "      <td>FREE Delivery by Amazon</td>\n",
       "      <td>Only 1 left in stock.</td>\n",
       "    </tr>\n",
       "    <tr>\n",
       "      <th>1365</th>\n",
       "      <td>Nillkin Case for Xiaomi Redmi Note 10 / Note 1...</td>\n",
       "      <td>5.0</td>\n",
       "      <td>1</td>\n",
       "      <td>₹1,299</td>\n",
       "      <td>₹1,699</td>\n",
       "      <td>Save ₹400 (24%)</td>\n",
       "      <td>FREE Delivery by Amazon</td>\n",
       "      <td>Only 1 left in stock.</td>\n",
       "    </tr>\n",
       "    <tr>\n",
       "      <th>1366</th>\n",
       "      <td>Nillkin Case for Samsung Galaxy A72 A 72 (6.7\"...</td>\n",
       "      <td>5.0</td>\n",
       "      <td>1</td>\n",
       "      <td>₹1,199</td>\n",
       "      <td>₹2,499</td>\n",
       "      <td>Save ₹1,300 (52%)</td>\n",
       "      <td>FREE Delivery by Amazon</td>\n",
       "      <td>Only 2 left in stock.</td>\n",
       "    </tr>\n",
       "  </tbody>\n",
       "</table>\n",
       "<p>1307 rows × 8 columns</p>\n",
       "</div>"
      ],
      "text/plain": [
       "                                             Smartphone  Rating  \\\n",
       "0     Redmi 9 (Sky Blue, 4GB RAM, 64GB Storage) | 2....     4.2   \n",
       "1     Redmi 9A (Nature Green, 2GB RAM, 32GB Storage)...     4.2   \n",
       "2     Redmi 9A (Sea Blue 2GB RAM 32GB Storage) | 2GH...     4.2   \n",
       "3     Redmi Note 10 (Aqua Green, 4GB RAM, 64GB Stora...     4.2   \n",
       "4     Redmi 9 (Carbon Black, 4GB RAM, 64GB Storage) ...     4.2   \n",
       "...                                                 ...     ...   \n",
       "1362  Nillkin Case for Apple iPhone 12 / iPhone 12 P...     5.0   \n",
       "1363  Nillkin Case for Apple iPhone 12 / iPhone 12 P...     5.0   \n",
       "1364  Nillkin Case for Samsung Galaxy F62 F 62 / Sam...     5.0   \n",
       "1365  Nillkin Case for Xiaomi Redmi Note 10 / Note 1...     5.0   \n",
       "1366  Nillkin Case for Samsung Galaxy A72 A 72 (6.7\"...     5.0   \n",
       "\n",
       "      Reviews count Offer price Actual price             Saving  \\\n",
       "0             87809      ₹9,499      ₹10,999  Save ₹1,500 (14%)   \n",
       "1             74587      ₹6,999       ₹8,499  Save ₹1,500 (18%)   \n",
       "2             74587      ₹6,999       ₹8,499  Save ₹1,500 (18%)   \n",
       "3             95519     ₹13,999      ₹15,999  Save ₹2,000 (13%)   \n",
       "4             87809      ₹9,499      ₹10,999  Save ₹1,500 (14%)   \n",
       "...             ...         ...          ...                ...   \n",
       "1362              1      ₹4,499       ₹5,999  Save ₹1,500 (25%)   \n",
       "1363              1      ₹3,999       ₹4,999  Save ₹1,000 (20%)   \n",
       "1364              1      ₹1,099       ₹1,699    Save ₹600 (35%)   \n",
       "1365              1      ₹1,299       ₹1,699    Save ₹400 (24%)   \n",
       "1366              1      ₹1,199       ₹2,499  Save ₹1,300 (52%)   \n",
       "\n",
       "                     Delivery Status of stock & more offers  \n",
       "0     FREE Delivery by Amazon                           NaN  \n",
       "1     FREE Delivery by Amazon                           NaN  \n",
       "2     FREE Delivery by Amazon                           NaN  \n",
       "3     FREE Delivery by Amazon                           NaN  \n",
       "4     FREE Delivery by Amazon                           NaN  \n",
       "...                       ...                           ...  \n",
       "1362  FREE Delivery by Amazon         Only 1 left in stock.  \n",
       "1363  FREE Delivery by Amazon         Only 2 left in stock.  \n",
       "1364  FREE Delivery by Amazon         Only 1 left in stock.  \n",
       "1365  FREE Delivery by Amazon         Only 1 left in stock.  \n",
       "1366  FREE Delivery by Amazon         Only 2 left in stock.  \n",
       "\n",
       "[1307 rows x 8 columns]"
      ]
     },
     "execution_count": 172,
     "metadata": {},
     "output_type": "execute_result"
    }
   ],
   "source": [
    "data['Reviews count']=data['Reviews count'].str.replace(',','').astype(int)\n",
    "data"
   ]
  },
  {
   "cell_type": "markdown",
   "metadata": {
    "id": "YhduScScMi2i"
   },
   "source": [
    "#### 5.2.3 Let's deal with Price columns"
   ]
  },
  {
   "cell_type": "code",
   "execution_count": 173,
   "metadata": {
    "id": "pw8bFxmG5wrv"
   },
   "outputs": [
    {
     "data": {
      "text/html": [
       "<div>\n",
       "<style scoped>\n",
       "    .dataframe tbody tr th:only-of-type {\n",
       "        vertical-align: middle;\n",
       "    }\n",
       "\n",
       "    .dataframe tbody tr th {\n",
       "        vertical-align: top;\n",
       "    }\n",
       "\n",
       "    .dataframe thead th {\n",
       "        text-align: right;\n",
       "    }\n",
       "</style>\n",
       "<table border=\"1\" class=\"dataframe\">\n",
       "  <thead>\n",
       "    <tr style=\"text-align: right;\">\n",
       "      <th></th>\n",
       "      <th>Smartphone</th>\n",
       "      <th>Rating</th>\n",
       "      <th>Reviews count</th>\n",
       "      <th>Offer price</th>\n",
       "      <th>Actual price</th>\n",
       "      <th>Saving</th>\n",
       "      <th>Delivery</th>\n",
       "      <th>Status of stock &amp; more offers</th>\n",
       "    </tr>\n",
       "  </thead>\n",
       "  <tbody>\n",
       "    <tr>\n",
       "      <th>0</th>\n",
       "      <td>Redmi 9 (Sky Blue, 4GB RAM, 64GB Storage) | 2....</td>\n",
       "      <td>4.2</td>\n",
       "      <td>87809</td>\n",
       "      <td>9499.0</td>\n",
       "      <td>₹10,999</td>\n",
       "      <td>Save ₹1,500 (14%)</td>\n",
       "      <td>FREE Delivery by Amazon</td>\n",
       "      <td>NaN</td>\n",
       "    </tr>\n",
       "    <tr>\n",
       "      <th>1</th>\n",
       "      <td>Redmi 9A (Nature Green, 2GB RAM, 32GB Storage)...</td>\n",
       "      <td>4.2</td>\n",
       "      <td>74587</td>\n",
       "      <td>6999.0</td>\n",
       "      <td>₹8,499</td>\n",
       "      <td>Save ₹1,500 (18%)</td>\n",
       "      <td>FREE Delivery by Amazon</td>\n",
       "      <td>NaN</td>\n",
       "    </tr>\n",
       "    <tr>\n",
       "      <th>2</th>\n",
       "      <td>Redmi 9A (Sea Blue 2GB RAM 32GB Storage) | 2GH...</td>\n",
       "      <td>4.2</td>\n",
       "      <td>74587</td>\n",
       "      <td>6999.0</td>\n",
       "      <td>₹8,499</td>\n",
       "      <td>Save ₹1,500 (18%)</td>\n",
       "      <td>FREE Delivery by Amazon</td>\n",
       "      <td>NaN</td>\n",
       "    </tr>\n",
       "    <tr>\n",
       "      <th>3</th>\n",
       "      <td>Redmi Note 10 (Aqua Green, 4GB RAM, 64GB Stora...</td>\n",
       "      <td>4.2</td>\n",
       "      <td>95519</td>\n",
       "      <td>13999.0</td>\n",
       "      <td>₹15,999</td>\n",
       "      <td>Save ₹2,000 (13%)</td>\n",
       "      <td>FREE Delivery by Amazon</td>\n",
       "      <td>NaN</td>\n",
       "    </tr>\n",
       "    <tr>\n",
       "      <th>4</th>\n",
       "      <td>Redmi 9 (Carbon Black, 4GB RAM, 64GB Storage) ...</td>\n",
       "      <td>4.2</td>\n",
       "      <td>87809</td>\n",
       "      <td>9499.0</td>\n",
       "      <td>₹10,999</td>\n",
       "      <td>Save ₹1,500 (14%)</td>\n",
       "      <td>FREE Delivery by Amazon</td>\n",
       "      <td>NaN</td>\n",
       "    </tr>\n",
       "    <tr>\n",
       "      <th>...</th>\n",
       "      <td>...</td>\n",
       "      <td>...</td>\n",
       "      <td>...</td>\n",
       "      <td>...</td>\n",
       "      <td>...</td>\n",
       "      <td>...</td>\n",
       "      <td>...</td>\n",
       "      <td>...</td>\n",
       "    </tr>\n",
       "    <tr>\n",
       "      <th>1362</th>\n",
       "      <td>Nillkin Case for Apple iPhone 12 / iPhone 12 P...</td>\n",
       "      <td>5.0</td>\n",
       "      <td>1</td>\n",
       "      <td>4499.0</td>\n",
       "      <td>₹5,999</td>\n",
       "      <td>Save ₹1,500 (25%)</td>\n",
       "      <td>FREE Delivery by Amazon</td>\n",
       "      <td>Only 1 left in stock.</td>\n",
       "    </tr>\n",
       "    <tr>\n",
       "      <th>1363</th>\n",
       "      <td>Nillkin Case for Apple iPhone 12 / iPhone 12 P...</td>\n",
       "      <td>5.0</td>\n",
       "      <td>1</td>\n",
       "      <td>3999.0</td>\n",
       "      <td>₹4,999</td>\n",
       "      <td>Save ₹1,000 (20%)</td>\n",
       "      <td>FREE Delivery by Amazon</td>\n",
       "      <td>Only 2 left in stock.</td>\n",
       "    </tr>\n",
       "    <tr>\n",
       "      <th>1364</th>\n",
       "      <td>Nillkin Case for Samsung Galaxy F62 F 62 / Sam...</td>\n",
       "      <td>5.0</td>\n",
       "      <td>1</td>\n",
       "      <td>1099.0</td>\n",
       "      <td>₹1,699</td>\n",
       "      <td>Save ₹600 (35%)</td>\n",
       "      <td>FREE Delivery by Amazon</td>\n",
       "      <td>Only 1 left in stock.</td>\n",
       "    </tr>\n",
       "    <tr>\n",
       "      <th>1365</th>\n",
       "      <td>Nillkin Case for Xiaomi Redmi Note 10 / Note 1...</td>\n",
       "      <td>5.0</td>\n",
       "      <td>1</td>\n",
       "      <td>1299.0</td>\n",
       "      <td>₹1,699</td>\n",
       "      <td>Save ₹400 (24%)</td>\n",
       "      <td>FREE Delivery by Amazon</td>\n",
       "      <td>Only 1 left in stock.</td>\n",
       "    </tr>\n",
       "    <tr>\n",
       "      <th>1366</th>\n",
       "      <td>Nillkin Case for Samsung Galaxy A72 A 72 (6.7\"...</td>\n",
       "      <td>5.0</td>\n",
       "      <td>1</td>\n",
       "      <td>1199.0</td>\n",
       "      <td>₹2,499</td>\n",
       "      <td>Save ₹1,300 (52%)</td>\n",
       "      <td>FREE Delivery by Amazon</td>\n",
       "      <td>Only 2 left in stock.</td>\n",
       "    </tr>\n",
       "  </tbody>\n",
       "</table>\n",
       "<p>1307 rows × 8 columns</p>\n",
       "</div>"
      ],
      "text/plain": [
       "                                             Smartphone  Rating  \\\n",
       "0     Redmi 9 (Sky Blue, 4GB RAM, 64GB Storage) | 2....     4.2   \n",
       "1     Redmi 9A (Nature Green, 2GB RAM, 32GB Storage)...     4.2   \n",
       "2     Redmi 9A (Sea Blue 2GB RAM 32GB Storage) | 2GH...     4.2   \n",
       "3     Redmi Note 10 (Aqua Green, 4GB RAM, 64GB Stora...     4.2   \n",
       "4     Redmi 9 (Carbon Black, 4GB RAM, 64GB Storage) ...     4.2   \n",
       "...                                                 ...     ...   \n",
       "1362  Nillkin Case for Apple iPhone 12 / iPhone 12 P...     5.0   \n",
       "1363  Nillkin Case for Apple iPhone 12 / iPhone 12 P...     5.0   \n",
       "1364  Nillkin Case for Samsung Galaxy F62 F 62 / Sam...     5.0   \n",
       "1365  Nillkin Case for Xiaomi Redmi Note 10 / Note 1...     5.0   \n",
       "1366  Nillkin Case for Samsung Galaxy A72 A 72 (6.7\"...     5.0   \n",
       "\n",
       "      Reviews count  Offer price Actual price             Saving  \\\n",
       "0             87809       9499.0      ₹10,999  Save ₹1,500 (14%)   \n",
       "1             74587       6999.0       ₹8,499  Save ₹1,500 (18%)   \n",
       "2             74587       6999.0       ₹8,499  Save ₹1,500 (18%)   \n",
       "3             95519      13999.0      ₹15,999  Save ₹2,000 (13%)   \n",
       "4             87809       9499.0      ₹10,999  Save ₹1,500 (14%)   \n",
       "...             ...          ...          ...                ...   \n",
       "1362              1       4499.0       ₹5,999  Save ₹1,500 (25%)   \n",
       "1363              1       3999.0       ₹4,999  Save ₹1,000 (20%)   \n",
       "1364              1       1099.0       ₹1,699    Save ₹600 (35%)   \n",
       "1365              1       1299.0       ₹1,699    Save ₹400 (24%)   \n",
       "1366              1       1199.0       ₹2,499  Save ₹1,300 (52%)   \n",
       "\n",
       "                     Delivery Status of stock & more offers  \n",
       "0     FREE Delivery by Amazon                           NaN  \n",
       "1     FREE Delivery by Amazon                           NaN  \n",
       "2     FREE Delivery by Amazon                           NaN  \n",
       "3     FREE Delivery by Amazon                           NaN  \n",
       "4     FREE Delivery by Amazon                           NaN  \n",
       "...                       ...                           ...  \n",
       "1362  FREE Delivery by Amazon         Only 1 left in stock.  \n",
       "1363  FREE Delivery by Amazon         Only 2 left in stock.  \n",
       "1364  FREE Delivery by Amazon         Only 1 left in stock.  \n",
       "1365  FREE Delivery by Amazon         Only 1 left in stock.  \n",
       "1366  FREE Delivery by Amazon         Only 2 left in stock.  \n",
       "\n",
       "[1307 rows x 8 columns]"
      ]
     },
     "execution_count": 173,
     "metadata": {},
     "output_type": "execute_result"
    }
   ],
   "source": [
    "data['Offer price']=data['Offer price'].str.replace('₹','').str.replace(',','').astype(float)\n",
    "data"
   ]
  },
  {
   "cell_type": "code",
   "execution_count": 174,
   "metadata": {
    "id": "MJTMyut05wrw"
   },
   "outputs": [
    {
     "data": {
      "text/html": [
       "<div>\n",
       "<style scoped>\n",
       "    .dataframe tbody tr th:only-of-type {\n",
       "        vertical-align: middle;\n",
       "    }\n",
       "\n",
       "    .dataframe tbody tr th {\n",
       "        vertical-align: top;\n",
       "    }\n",
       "\n",
       "    .dataframe thead th {\n",
       "        text-align: right;\n",
       "    }\n",
       "</style>\n",
       "<table border=\"1\" class=\"dataframe\">\n",
       "  <thead>\n",
       "    <tr style=\"text-align: right;\">\n",
       "      <th></th>\n",
       "      <th>Smartphone</th>\n",
       "      <th>Rating</th>\n",
       "      <th>Reviews count</th>\n",
       "      <th>Offer price</th>\n",
       "      <th>Actual price</th>\n",
       "      <th>Saving</th>\n",
       "      <th>Delivery</th>\n",
       "      <th>Status of stock &amp; more offers</th>\n",
       "    </tr>\n",
       "  </thead>\n",
       "  <tbody>\n",
       "    <tr>\n",
       "      <th>0</th>\n",
       "      <td>Redmi 9 (Sky Blue, 4GB RAM, 64GB Storage) | 2....</td>\n",
       "      <td>4.2</td>\n",
       "      <td>87809</td>\n",
       "      <td>9499.0</td>\n",
       "      <td>10999.0</td>\n",
       "      <td>Save ₹1,500 (14%)</td>\n",
       "      <td>FREE Delivery by Amazon</td>\n",
       "      <td>NaN</td>\n",
       "    </tr>\n",
       "    <tr>\n",
       "      <th>1</th>\n",
       "      <td>Redmi 9A (Nature Green, 2GB RAM, 32GB Storage)...</td>\n",
       "      <td>4.2</td>\n",
       "      <td>74587</td>\n",
       "      <td>6999.0</td>\n",
       "      <td>8499.0</td>\n",
       "      <td>Save ₹1,500 (18%)</td>\n",
       "      <td>FREE Delivery by Amazon</td>\n",
       "      <td>NaN</td>\n",
       "    </tr>\n",
       "    <tr>\n",
       "      <th>2</th>\n",
       "      <td>Redmi 9A (Sea Blue 2GB RAM 32GB Storage) | 2GH...</td>\n",
       "      <td>4.2</td>\n",
       "      <td>74587</td>\n",
       "      <td>6999.0</td>\n",
       "      <td>8499.0</td>\n",
       "      <td>Save ₹1,500 (18%)</td>\n",
       "      <td>FREE Delivery by Amazon</td>\n",
       "      <td>NaN</td>\n",
       "    </tr>\n",
       "    <tr>\n",
       "      <th>3</th>\n",
       "      <td>Redmi Note 10 (Aqua Green, 4GB RAM, 64GB Stora...</td>\n",
       "      <td>4.2</td>\n",
       "      <td>95519</td>\n",
       "      <td>13999.0</td>\n",
       "      <td>15999.0</td>\n",
       "      <td>Save ₹2,000 (13%)</td>\n",
       "      <td>FREE Delivery by Amazon</td>\n",
       "      <td>NaN</td>\n",
       "    </tr>\n",
       "    <tr>\n",
       "      <th>4</th>\n",
       "      <td>Redmi 9 (Carbon Black, 4GB RAM, 64GB Storage) ...</td>\n",
       "      <td>4.2</td>\n",
       "      <td>87809</td>\n",
       "      <td>9499.0</td>\n",
       "      <td>10999.0</td>\n",
       "      <td>Save ₹1,500 (14%)</td>\n",
       "      <td>FREE Delivery by Amazon</td>\n",
       "      <td>NaN</td>\n",
       "    </tr>\n",
       "    <tr>\n",
       "      <th>...</th>\n",
       "      <td>...</td>\n",
       "      <td>...</td>\n",
       "      <td>...</td>\n",
       "      <td>...</td>\n",
       "      <td>...</td>\n",
       "      <td>...</td>\n",
       "      <td>...</td>\n",
       "      <td>...</td>\n",
       "    </tr>\n",
       "    <tr>\n",
       "      <th>1362</th>\n",
       "      <td>Nillkin Case for Apple iPhone 12 / iPhone 12 P...</td>\n",
       "      <td>5.0</td>\n",
       "      <td>1</td>\n",
       "      <td>4499.0</td>\n",
       "      <td>5999.0</td>\n",
       "      <td>Save ₹1,500 (25%)</td>\n",
       "      <td>FREE Delivery by Amazon</td>\n",
       "      <td>Only 1 left in stock.</td>\n",
       "    </tr>\n",
       "    <tr>\n",
       "      <th>1363</th>\n",
       "      <td>Nillkin Case for Apple iPhone 12 / iPhone 12 P...</td>\n",
       "      <td>5.0</td>\n",
       "      <td>1</td>\n",
       "      <td>3999.0</td>\n",
       "      <td>4999.0</td>\n",
       "      <td>Save ₹1,000 (20%)</td>\n",
       "      <td>FREE Delivery by Amazon</td>\n",
       "      <td>Only 2 left in stock.</td>\n",
       "    </tr>\n",
       "    <tr>\n",
       "      <th>1364</th>\n",
       "      <td>Nillkin Case for Samsung Galaxy F62 F 62 / Sam...</td>\n",
       "      <td>5.0</td>\n",
       "      <td>1</td>\n",
       "      <td>1099.0</td>\n",
       "      <td>1699.0</td>\n",
       "      <td>Save ₹600 (35%)</td>\n",
       "      <td>FREE Delivery by Amazon</td>\n",
       "      <td>Only 1 left in stock.</td>\n",
       "    </tr>\n",
       "    <tr>\n",
       "      <th>1365</th>\n",
       "      <td>Nillkin Case for Xiaomi Redmi Note 10 / Note 1...</td>\n",
       "      <td>5.0</td>\n",
       "      <td>1</td>\n",
       "      <td>1299.0</td>\n",
       "      <td>1699.0</td>\n",
       "      <td>Save ₹400 (24%)</td>\n",
       "      <td>FREE Delivery by Amazon</td>\n",
       "      <td>Only 1 left in stock.</td>\n",
       "    </tr>\n",
       "    <tr>\n",
       "      <th>1366</th>\n",
       "      <td>Nillkin Case for Samsung Galaxy A72 A 72 (6.7\"...</td>\n",
       "      <td>5.0</td>\n",
       "      <td>1</td>\n",
       "      <td>1199.0</td>\n",
       "      <td>2499.0</td>\n",
       "      <td>Save ₹1,300 (52%)</td>\n",
       "      <td>FREE Delivery by Amazon</td>\n",
       "      <td>Only 2 left in stock.</td>\n",
       "    </tr>\n",
       "  </tbody>\n",
       "</table>\n",
       "<p>1307 rows × 8 columns</p>\n",
       "</div>"
      ],
      "text/plain": [
       "                                             Smartphone  Rating  \\\n",
       "0     Redmi 9 (Sky Blue, 4GB RAM, 64GB Storage) | 2....     4.2   \n",
       "1     Redmi 9A (Nature Green, 2GB RAM, 32GB Storage)...     4.2   \n",
       "2     Redmi 9A (Sea Blue 2GB RAM 32GB Storage) | 2GH...     4.2   \n",
       "3     Redmi Note 10 (Aqua Green, 4GB RAM, 64GB Stora...     4.2   \n",
       "4     Redmi 9 (Carbon Black, 4GB RAM, 64GB Storage) ...     4.2   \n",
       "...                                                 ...     ...   \n",
       "1362  Nillkin Case for Apple iPhone 12 / iPhone 12 P...     5.0   \n",
       "1363  Nillkin Case for Apple iPhone 12 / iPhone 12 P...     5.0   \n",
       "1364  Nillkin Case for Samsung Galaxy F62 F 62 / Sam...     5.0   \n",
       "1365  Nillkin Case for Xiaomi Redmi Note 10 / Note 1...     5.0   \n",
       "1366  Nillkin Case for Samsung Galaxy A72 A 72 (6.7\"...     5.0   \n",
       "\n",
       "      Reviews count  Offer price  Actual price             Saving  \\\n",
       "0             87809       9499.0       10999.0  Save ₹1,500 (14%)   \n",
       "1             74587       6999.0        8499.0  Save ₹1,500 (18%)   \n",
       "2             74587       6999.0        8499.0  Save ₹1,500 (18%)   \n",
       "3             95519      13999.0       15999.0  Save ₹2,000 (13%)   \n",
       "4             87809       9499.0       10999.0  Save ₹1,500 (14%)   \n",
       "...             ...          ...           ...                ...   \n",
       "1362              1       4499.0        5999.0  Save ₹1,500 (25%)   \n",
       "1363              1       3999.0        4999.0  Save ₹1,000 (20%)   \n",
       "1364              1       1099.0        1699.0    Save ₹600 (35%)   \n",
       "1365              1       1299.0        1699.0    Save ₹400 (24%)   \n",
       "1366              1       1199.0        2499.0  Save ₹1,300 (52%)   \n",
       "\n",
       "                     Delivery Status of stock & more offers  \n",
       "0     FREE Delivery by Amazon                           NaN  \n",
       "1     FREE Delivery by Amazon                           NaN  \n",
       "2     FREE Delivery by Amazon                           NaN  \n",
       "3     FREE Delivery by Amazon                           NaN  \n",
       "4     FREE Delivery by Amazon                           NaN  \n",
       "...                       ...                           ...  \n",
       "1362  FREE Delivery by Amazon         Only 1 left in stock.  \n",
       "1363  FREE Delivery by Amazon         Only 2 left in stock.  \n",
       "1364  FREE Delivery by Amazon         Only 1 left in stock.  \n",
       "1365  FREE Delivery by Amazon         Only 1 left in stock.  \n",
       "1366  FREE Delivery by Amazon         Only 2 left in stock.  \n",
       "\n",
       "[1307 rows x 8 columns]"
      ]
     },
     "execution_count": 174,
     "metadata": {},
     "output_type": "execute_result"
    }
   ],
   "source": [
    "data['Actual price']=data['Actual price'].str.replace('₹','').str.replace(',','').astype(float)\n",
    "data"
   ]
  },
  {
   "cell_type": "markdown",
   "metadata": {
    "id": "KE3oXAyLMnP-"
   },
   "source": [
    "#### 5.2.4 Let's handle Saving feature"
   ]
  },
  {
   "cell_type": "code",
   "execution_count": 175,
   "metadata": {
    "id": "vp3whab95wrw"
   },
   "outputs": [
    {
     "name": "stdout",
     "output_type": "stream",
     "text": [
      "['Save ₹1,500 (14%)' 'Save ₹1,500 (18%)' 'Save ₹2,000 (13%)'\n",
      " 'Save ₹2,500 (18%)' 'Get it by' nan 'Save ₹1,500 (13%)'\n",
      " 'Save ₹2,000 (12%)' 'Save ₹5,000 (23%)' 'Save ₹1,500 (10%)'\n",
      " 'Save ₹2,000 (10%)' 'Save ₹1,500 (16%)' 'Save ₹50 (4%)'\n",
      " 'Save ₹3,000 (20%)' 'Save ₹700 (9%)' 'Save ₹3,500 (21%)'\n",
      " 'Save ₹3,500 (22%)' 'FREE Delivery by Amazon' 'Save ₹6,000 (29%)'\n",
      " 'Save ₹2,500 (13%)' 'Save ₹3,000 (13%)' 'Save ₹500 (4%)'\n",
      " 'Save ₹2,000 (11%)' 'Save ₹1,500 (9%)' 'Save ₹2,000 (15%)'\n",
      " 'Save ₹4,000 (16%)' 'Save ₹3,000 (12%)' 'Save ₹3,000 (14%)'\n",
      " 'Save ₹6,000 (18%)' 'Save ₹675 (17%)' 'Save ₹3,000 (18%)'\n",
      " 'Save ₹1,000 (9%)' 'Save ₹172 (15%)' 'Save ₹8,000 (32%)'\n",
      " 'Save ₹4,000 (19%)' 'Save ₹2,500 (19%)' 'Save ₹5,000 (14%)'\n",
      " 'Save ₹85 (6%)' 'Save ₹209 (13%)' 'Save ₹4,000 (14%)' 'Save ₹3,000 (9%)'\n",
      " 'Save ₹247 (12%)' 'Save ₹91 (5%)' 'Save ₹273 (15%)' 'Save ₹158 (5%)'\n",
      " 'Save ₹4,000 (15%)' 'Save ₹295 (24%)' 'Save ₹2,000 (17%)'\n",
      " 'Save ₹2,500 (16%)' 'Save ₹3,000 (16%)' 'Save ₹1,000 (7%)'\n",
      " 'Save ₹1,700 (19%)' 'Save ₹175 (16%)' 'Save ₹3,901 (7%)' 'Save ₹393 (9%)'\n",
      " 'Save ₹274 (15%)' 'Save ₹4,000 (18%)' 'Save ₹6,000 (19%)'\n",
      " 'Save ₹3,000 (11%)' 'Save ₹90 (4%)' 'Save ₹4,500 (30%)'\n",
      " 'Save ₹3,000 (21%)' 'Save ₹3,000 (5%)' 'Save ₹2,500 (21%)'\n",
      " 'Save ₹4,999 (22%)' 'Save ₹4,000 (9%)' 'Save ₹250 (20%)'\n",
      " 'Save ₹188 (14%)' 'Save ₹4,000 (22%)' 'Save ₹4,901 (10%)'\n",
      " 'Save ₹280 (8%)' 'Save ₹4,000 (11%)' 'Save ₹4,000 (10%)'\n",
      " 'Save ₹3,000 (10%)' 'Save ₹2,901 (5%)' 'Save ₹63 (1%)' 'Save ₹169 (11%)'\n",
      " 'Save ₹109 (2%)' 'Save ₹316 (10%)' 'Save ₹3,551 (23%)'\n",
      " 'Save ₹5,000 (11%)' 'Save ₹4,000 (13%)' 'Save ₹2,000 (9%)'\n",
      " 'Save ₹6,529 (26%)' 'Save ₹26,001 (30%)' 'Save ₹249 (6%)'\n",
      " 'Save ₹508 (12%)' 'Save ₹5,004 (17%)' 'Save ₹1,208 (50%)'\n",
      " 'Save ₹30,000 (45%)' 'Save ₹14,000 (10%)' 'Save ₹8,000 (19%)'\n",
      " 'Save ₹13,000 (11%)' 'Save ₹943 (18%)' 'Save ₹5,499 (27%)'\n",
      " 'Save ₹30,200 (40%)' 'Save ₹6,000 (23%)' 'Save ₹14,000 (11%)'\n",
      " 'Save ₹170 (13%)' 'Save ₹2,000 (18%)' 'Save ₹1,550 (14%)'\n",
      " 'Save ₹1,109 (10%)' 'Save ₹2,090 (9%)' 'Save ₹4,901 (9%)'\n",
      " 'Save ₹13,009 (34%)' 'Save ₹5,306 (27%)' 'Save ₹200 (1%)'\n",
      " 'Save ₹5,950 (7%)' 'Save ₹14 (1%)' 'Save ₹5,000 (10%)'\n",
      " 'Save ₹5,169 (26%)' 'Save ₹500 (3%)' 'Save ₹4,500 (23%)'\n",
      " 'Save ₹8,245 (18%)' 'Save ₹164 (8%)' 'Save ₹550 (37%)' 'Save ₹3,000 (8%)'\n",
      " 'Save ₹1,999 (12%)' 'Save ₹4,300 (25%)' 'Save ₹1,096 (11%)'\n",
      " 'Save ₹1,000 (10%)' 'Save ₹1,000 (13%)' 'Save ₹5,000 (9%)'\n",
      " 'Save ₹5,148 (17%)' 'Save ₹351 (2%)' 'Save ₹1,509 (14%)' 'Save ₹362 (8%)'\n",
      " 'Save ₹58 (4%)' 'Save ₹2,000 (8%)' 'Save ₹1,509 (5%)' 'Save ₹6,401 (12%)'\n",
      " 'Save ₹4,509 (27%)' 'Save ₹7,000 (17%)' 'Save ₹1,000 (6%)'\n",
      " 'Save ₹100 (10%)' 'Save ₹40 (3%)' 'Save ₹1,149 (13%)' 'Save ₹1,500 (8%)'\n",
      " 'Save ₹2,009 (10%)' 'Save ₹7,053 (47%)' 'Save ₹2,490 (15%)'\n",
      " 'Save ₹28,908.36 (28%)' 'Save ₹2,500 (10%)' 'Save ₹223 (12%)'\n",
      " 'Save ₹7,000 (15%)' 'Save ₹11,000 (8%)' 'Save ₹1,058 (20%)'\n",
      " 'Save ₹500 (38%)' 'Save ₹29,520 (39%)' 'Save ₹3,054 (9%)'\n",
      " 'Save ₹2,114 (11%)' 'Save ₹217 (17%)' 'Save ₹499.10 (4%)'\n",
      " 'Save ₹3,910 (2%)' 'Save ₹8,000 (7%)' 'Save ₹1,009 (7%)' 'Save ₹150 (8%)'\n",
      " 'Save ₹1,319 (53%)' 'Save ₹220 (15%)' 'Save ₹50 (3%)'\n",
      " 'Save ₹13,000 (10%)' 'Save ₹10,000 (8%)' 'Save ₹800 (11%)'\n",
      " 'Save ₹650 (8%)' 'Save ₹20,949 (16%)' 'Save ₹1,700 (16%)' 'Save ₹1'\n",
      " 'Save ₹5,181 (26%)' 'Save ₹11,000 (23%)' 'Save ₹1,000 (3%)'\n",
      " 'Save ₹4,500 (26%)' 'Save ₹3,500 (15%)' 'Save ₹146 (19%)'\n",
      " 'Save ₹3,000 (15%)' 'Save ₹499 (4%)' 'Save ₹901 (1%)' 'Save ₹900 (12%)'\n",
      " 'Save ₹350 (27%)' 'Save ₹2,149 (17%)' 'Save ₹56,301 (47%)'\n",
      " 'Save ₹13,100 (10%)' 'Save ₹8,000 (21%)' 'Save ₹5,601 (7%)'\n",
      " 'Save ₹3,009 (15%)' 'Save ₹449 (3%)' 'Save ₹500 (5%)' 'Save ₹3,009 (60%)'\n",
      " 'Save ₹300 (23%)' 'Save ₹3,799 (12%)' 'Save ₹99 (1%)' 'Save ₹280 (28%)'\n",
      " 'Save ₹8,000 (40%)' 'Save ₹1,600 (14%)' 'Save ₹160 (8%)' 'Save ₹943 (9%)'\n",
      " 'Save ₹250 (17%)' 'Save ₹809 (48%)' 'Save ₹1,991 (7%)'\n",
      " 'Save ₹30,659 (30%)' 'Save ₹100 (5%)' 'Save ₹24,901 (17%)'\n",
      " 'Save ₹7,000 (18%)' 'Save ₹8,000 (26%)' 'Save ₹4,199 (20%)'\n",
      " 'Save ₹3,509 (18%)' 'Save ₹6,491 (21%)' 'Save ₹3,991 (17%)'\n",
      " 'Save ₹550 (29%)' 'Save ₹8,000 (6%)' 'Save ₹10,249 (12%)'\n",
      " 'Save ₹10,000 (7%)' 'Save ₹26,190 (25%)' 'Save ₹8,000 (24%)'\n",
      " 'Save ₹17,910 (10%)' 'Save ₹7,000 (28%)' 'Save ₹6,150 (38%)'\n",
      " 'Save ₹2,300 (14%)' 'Save ₹1,997 (12%)' 'Save ₹4,000 (20%)'\n",
      " 'Save ₹213 (22%)' 'Save ₹27,010 (26%)' 'Save ₹9,210 (30%)'\n",
      " 'Save ₹1,019 (51%)' 'Save ₹7,269 (29%)' 'Save ₹10,100 (7%)'\n",
      " 'Save ₹7,910 (4%)' 'Save ₹249 (19%)' 'Save ₹39,001 (42%)'\n",
      " 'Save ₹650 (41%)' 'Save ₹174 (8%)' 'Save ₹912 (17%)' 'Save ₹1,025 (51%)'\n",
      " 'Save ₹6,580 (24%)' 'Save ₹8,090 (43%)' 'Save ₹17,910 (11%)'\n",
      " 'Save ₹1,600 (13%)' 'Save ₹3,000 (19%)' 'Save ₹2,009 (8%)'\n",
      " 'Save ₹200 (15%)' 'Save ₹1,509 (6%)' 'Save ₹1,019 (6%)' 'Save ₹440 (31%)'\n",
      " 'Save ₹1,500 (11%)' 'Save ₹491 (50%)' 'Save ₹1,551 (10%)'\n",
      " 'Save ₹350 (32%)' 'Save ₹10,609 (29%)' 'Save ₹39,969 (40%)'\n",
      " 'Save ₹5,160 (21%)' 'Save ₹8,400 (7%)' 'Save ₹4,000 (3%)'\n",
      " 'Save ₹600 (40%)' 'Save ₹1,300 (12%)' 'Save ₹8,000 (15%)'\n",
      " 'Save ₹1,499 (11%)' 'Save ₹2,991 (15%)' 'Save ₹1,500 (6%)'\n",
      " 'Save ₹2,077 (13%)' 'Save ₹237 (15%)' 'Save ₹21,010 (27%)'\n",
      " 'Save ₹11,100 (8%)' 'Save ₹3,165 (19%)' 'Save ₹12,000 (27%)'\n",
      " 'Save ₹21,440 (17%)' 'Save ₹510 (2%)' 'Save ₹13,100 (9%)'\n",
      " 'Save ₹2,501 (12%)' 'Save ₹309 (26%)' 'Save ₹2,168 (14%)'\n",
      " 'Save ₹850 (43%)' 'Save ₹5,590 (29%)' 'Save ₹20,000 (22%)'\n",
      " 'Save ₹756 (50%)' 'Save ₹441 (22%)' 'Save ₹2,095 (9%)'\n",
      " 'Save ₹34,010 (33%)' 'Save ₹8,100 (6%)' 'Save ₹6,050 (6%)'\n",
      " 'Save ₹801 (40%)' 'Save ₹5,600 (7%)' 'Save ₹4,901 (20%)'\n",
      " 'Save ₹1,209 (3%)' 'Save ₹10,000 (14%)' 'Save ₹3,140 (11%)'\n",
      " 'Save ₹1,474 (74%)' 'Save ₹151 (11%)' 'Save ₹100 (1%)'\n",
      " 'Save ₹29,100 (42%)' 'Save ₹4,500 (20%)' 'Save ₹474 (32%)'\n",
      " 'Save ₹12,990 (37%)' 'Save ₹17,610 (21%)' 'Save ₹8,100 (5%)'\n",
      " 'Save ₹14,950 (11%)' 'Save ₹999 (10%)' 'Save ₹7,500 (21%)'\n",
      " 'Save ₹190 (1%)' 'Save ₹1,991 (14%)' 'Save ₹12,084 (32%)'\n",
      " 'Save ₹1,300 (65%)' 'Save ₹10,005 (35%)' 'Save ₹4,304 (12%)'\n",
      " 'Save ₹4,500 (15%)' 'Save ₹335 (22%)' 'Save ₹422.75 (4%)'\n",
      " 'Save ₹155 (2%)' 'Save ₹12,749 (15%)' 'Save ₹11,330 (44%)'\n",
      " 'Save ₹1,000 (4%)' 'Save ₹379 (27%)' 'Save ₹400 (33%)' 'Save ₹160 (13%)'\n",
      " 'Save ₹2,500 (36%)' 'Save ₹6,009 (30%)' 'Save ₹25,851 (30%)'\n",
      " 'Save ₹810 (8%)' 'Save ₹5,000 (25%)' 'Save ₹159 (9%)' 'Save ₹4,009 (22%)'\n",
      " 'Save ₹1,950 (15%)' 'Save ₹1,875 (15%)' 'Save ₹1,491 (17%)'\n",
      " 'Save ₹16,910 (10%)' 'Save ₹14,991 (37%)' 'Save ₹11,991 (30%)'\n",
      " 'Save ₹6,059 (26%)' 'Save ₹10,010 (12%)' 'Save ₹2,779 (17%)'\n",
      " 'Save ₹12,991 (32%)' 'Save ₹64 (5%)' 'Save ₹13,010 (8%)'\n",
      " 'Save ₹8,048 (32%)' 'Save ₹720 (40%)' 'Save ₹4,000 (17%)'\n",
      " 'Save ₹299 (3%)' 'Save ₹9,200 (6%)' 'Save ₹8,790 (27%)' 'Save ₹99 (9%)'\n",
      " 'Save ₹1,000 (14%)' 'Save ₹4,100 (2%)' 'Save ₹1,009 (8%)'\n",
      " 'Save ₹1,000 (5%)' 'Save ₹25,001 (15%)' 'Save ₹400 (17%)'\n",
      " 'Save ₹1,100 (55%)' 'Save ₹3,910 (3%)' 'Save ₹550 (34%)'\n",
      " 'Save ₹12,510 (32%)' 'Save ₹14,010 (37%)' 'Save ₹6,000 (22%)'\n",
      " 'Save ₹3,701 (17%)' 'Save ₹5,000 (29%)' 'Save ₹454 (30%)'\n",
      " 'Save ₹7,000 (35%)' 'Save ₹20 (1%)' 'Save ₹17,001 (31%)'\n",
      " 'Save ₹300 (30%)' 'Save ₹7,009 (35%)' 'Save ₹700 (35%)'\n",
      " 'Save ₹17,750 (41%)' 'Save ₹4,019 (13%)' 'Save ₹9,991 (28%)'\n",
      " 'Save ₹30,549 (34%)' 'Save ₹2,499 (14%)' 'Save ₹2,450 (70%)'\n",
      " 'Save ₹500 (29%)' 'Save ₹6,069 (14%)' 'Save ₹1,000 (50%)'\n",
      " 'Save ₹11,990 (30%)' 'Save ₹351 (23%)' 'Save ₹5,000 (28%)'\n",
      " 'Save ₹101 (1%)' 'Save ₹14,100 (10%)' 'Save ₹450 (35%)'\n",
      " 'Save ₹1,000 (25%)' 'Save ₹7,503 (24%)' 'Save ₹300 (20%)'\n",
      " 'Save ₹5,000 (33%)' 'Save ₹400 (27%)' 'Save ₹3,910 (4%)'\n",
      " 'Save ₹3,020 (12%)' 'Save ₹610 (2%)' 'Save ₹6,610 (26%)' 'Save ₹45 (2%)'\n",
      " 'Save ₹1,864 (9%)' 'Save ₹500 (20%)' 'Save ₹549 (37%)'\n",
      " 'Save ₹1,050 (46%)' 'Save ₹5,093 (20%)' 'Save ₹5,250 (32%)'\n",
      " 'Save ₹12,190 (35%)' 'Save ₹422 (28%)' 'Save ₹499 (5%)'\n",
      " 'Save ₹3,000 (23%)' 'Save ₹1,195 (60%)' 'Save ₹5,050 (20%)'\n",
      " 'Save ₹15,090 (52%)' 'Save ₹566 (28%)' 'Save ₹8,000 (33%)'\n",
      " 'Save ₹1,000 (20%)' 'Save ₹1,150 (10%)' 'Save ₹600 (46%)'\n",
      " 'Save ₹1,491 (75%)' 'Save ₹1,700 (57%)' 'Save ₹600 (33%)'\n",
      " 'Save ₹3,009 (18%)' 'Save ₹10,000 (42%)' 'Save ₹5,701 (6%)'\n",
      " 'Save ₹1,090 (5%)' 'Save ₹13,910 (7%)' 'Save ₹13,490 (34%)'\n",
      " 'Save ₹3,110 (12%)' 'Save ₹100 (9%)' 'Save ₹1,140 (57%)'\n",
      " 'Save ₹4,009 (24%)' 'Save ₹800 (7%)' 'Save ₹649 (43%)' 'Save ₹203 (15%)'\n",
      " 'Save ₹1,000 (33%)' 'Save ₹10,010 (24%)' 'Save ₹70 (4%)' 'Get it'\n",
      " 'Save ₹12,009 (32%)' 'Save ₹400 (24%)' 'Save ₹1,100 (58%)'\n",
      " 'Save ₹1,491 (10%)' 'Save ₹130 (43%)' 'Save ₹659 (5%)' 'Save ₹152 (8%)'\n",
      " 'Save ₹6,009 (21%)' 'Save ₹2,600 (16%)' 'Save ₹490 (2%)'\n",
      " 'Save ₹2,009 (9%)' 'Save ₹1,630 (65%)' 'Save ₹18,310 (49%)'\n",
      " 'Save ₹8,500 (6%)' 'Save ₹26,530 (27%)' 'Save ₹236 (13%)'\n",
      " 'Save ₹10,100 (6%)' 'Save ₹5,950 (6%)' 'Save ₹6,000 (41%)'\n",
      " 'Save ₹1,000 (11%)' 'Save ₹1,997 (15%)' 'Save ₹500 (22%)'\n",
      " 'Save ₹16,910 (11%)' 'Save ₹109 (1%)' 'Save ₹9,000 (14%)'\n",
      " 'Save ₹28,811 (16%)' 'Save ₹200 (17%)' 'Save ₹22,010 (26%)'\n",
      " 'Save ₹1,000 (48%)' 'Save ₹5,000 (30%)' 'Save ₹10,100 (8%)'\n",
      " 'Save ₹509 (3%)' 'Save ₹4,800 (18%)' 'Save ₹2,501 (6%)' 'Save ₹400 (20%)'\n",
      " 'Save ₹4,400 (49%)' 'Save ₹3,700 (12%)' 'Save ₹1,950 (65%)'\n",
      " 'Save ₹503 (34%)' 'Save ₹3,470 (17%)' 'Save ₹10,000 (6%)'\n",
      " 'Save ₹2,090 (10%)' 'Save ₹749 (37%)' 'Save ₹11,910 (8%)'\n",
      " 'Save ₹3,210 (10%)' 'Save ₹1,050 (53%)' 'Save ₹6,250 (28%)'\n",
      " 'Save ₹300 (21%)' 'Save ₹5,500 (22%)' 'Save ₹10,000 (29%)'\n",
      " 'Save ₹200 (20%)' 'Save ₹2,500 (9%)' 'Save ₹9,991 (25%)'\n",
      " 'Save ₹229 (15%)' 'Save ₹1,602 (64%)' 'Save ₹300 (17%)'\n",
      " 'Save ₹1,850 (62%)' 'Save ₹12,310 (8%)' 'Save ₹7,000 (11%)'\n",
      " 'Save ₹24,001 (41%)' 'Save ₹10,591 (30%)' 'Save ₹199 (10%)'\n",
      " 'Save ₹1,400 (7%)' 'Save ₹349 (27%)' 'Save ₹4,000 (29%)'\n",
      " 'Save ₹11,910 (7%)' 'Save ₹2,000 (67%)' 'Save ₹2,000 (50%)'\n",
      " 'Save ₹900 (36%)' 'Save ₹100 (7%)' 'Save ₹3,551 (18%)' 'Save ₹500 (10%)'\n",
      " 'Save ₹1,064 (43%)' 'Save ₹200 (18%)' 'Save ₹700 (21%)'\n",
      " 'Save ₹5,500 (15%)' 'Save ₹9,860 (8%)' 'Save ₹1,004 (50%)'\n",
      " 'Save ₹600 (30%)' 'Save ₹100 (6%)' 'Save ₹724 (56%)' 'Save ₹3,200 (8%)'\n",
      " 'Save ₹1,200 (40%)' 'Save ₹11,000 (24%)' 'Save ₹3,019 (38%)'\n",
      " 'Save ₹2,510 (11%)' 'Save ₹2,700 (68%)' 'Save ₹1,200 (48%)'\n",
      " 'Save ₹1,000 (40%)' 'Save ₹400 (22%)' 'Save ₹7,000 (16%)'\n",
      " 'Save ₹1,300 (37%)' 'Save ₹560 (43%)' 'Save ₹1,334 (40%)'\n",
      " 'Save ₹500 (28%)' 'Save ₹5,250 (20%)' 'Save ₹1,600 (53%)'\n",
      " 'Save ₹700 (28%)' 'Save ₹34 (3%)' 'Save ₹6,000 (30%)' 'Save ₹500 (14%)'\n",
      " 'Save ₹5,601 (6%)' 'Save ₹240 (24%)' 'Save ₹14,910 (9%)'\n",
      " 'Save ₹1,800 (60%)' 'Save ₹3,600 (19%)' 'Save ₹800 (40%)'\n",
      " 'Save ₹1,704 (57%)' 'Save ₹630 (33%)' 'Save ₹15,000 (30%)'\n",
      " 'Save ₹8,400 (6%)' 'Save ₹1,240 (62%)' 'Save ₹9,000 (53%)'\n",
      " 'Save ₹1,049 (26%)' 'Save ₹1,000 (8%)' 'Save ₹3,300 (61%)'\n",
      " 'Save ₹550 (22%)' 'Save ₹2,991 (10%)' 'Save ₹7,000 (22%)'\n",
      " 'Save ₹2,331 (19%)' 'Save ₹549 (42%)' 'Save ₹210 (14%)' 'Save ₹700 (70%)'\n",
      " 'Save ₹791 (53%)' 'Save ₹970 (20%)' 'Save ₹280 (17%)' 'Save ₹1,500 (30%)'\n",
      " 'Save ₹4,490 (14%)' 'Save ₹52,000 (68%)' 'Save ₹2,009 (17%)'\n",
      " 'Save ₹2,000 (33%)' 'Save ₹15,000 (38%)' 'Save ₹4,000 (67%)'\n",
      " 'Save ₹349 (22%)' 'Save ₹6,991 (17%)' 'Save ₹880 (80%)'\n",
      " 'Save ₹2,000 (22%)' 'Save ₹7,991 (22%)' 'Save ₹991 (2%)'\n",
      " 'Save ₹13,910 (9%)' 'Save ₹1,100 (24%)' 'Save ₹2,000 (7%)'\n",
      " 'Save ₹1,500 (50%)' 'Save ₹900 (19%)' 'Save ₹449 (35%)'\n",
      " 'Save ₹2,000 (29%)' 'Save ₹991 (67%)' 'Save ₹800 (32%)'\n",
      " 'Save ₹1,745 (23%)' 'Save ₹550 (55%)' 'Save ₹709 (51%)' 'Save ₹113 (7%)'\n",
      " 'Save ₹2,200 (55%)' 'Save ₹1,400 (47%)' 'Save ₹2,010 (41%)'\n",
      " 'Save ₹300 (25%)' 'Save ₹62,000 (50%)' 'Save ₹6,000 (33%)'\n",
      " 'Save ₹22 (2%)' 'Save ₹600 (38%)' 'Save ₹400 (31%)' 'Save ₹30,000 (33%)'\n",
      " 'Save ₹9,511 (9%)' 'Save ₹1,500 (38%)' 'Save ₹1,524 (61%)'\n",
      " 'Save ₹500 (17%)' 'Save ₹500 (33%)' 'Save ₹200 (7%)' 'Save ₹500 (13%)'\n",
      " 'Save ₹100 (8%)' 'Save ₹820 (48%)' 'Save ₹49 (9%)' 'Save ₹721 (72%)'\n",
      " 'Save ₹7,500 (19%)' 'Save ₹1,300 (52%)' 'Save ₹900 (69%)'\n",
      " 'Save ₹1,880 (63%)' 'Save ₹2,430 (43%)' 'Save ₹1,484 (59%)'\n",
      " 'Save ₹300 (27%)' 'Save ₹2,100 (70%)' 'Save ₹814 (58%)'\n",
      " 'Save ₹2,200 (63%)' 'Save ₹3,597.50 (76%)' 'Save ₹139 (16%)'\n",
      " 'Save ₹1,547 (12%)' 'Save ₹1,500 (25%)' 'Save ₹600 (35%)']\n"
     ]
    }
   ],
   "source": [
    "print(data['Saving'].unique())"
   ]
  },
  {
   "cell_type": "code",
   "execution_count": 176,
   "metadata": {
    "colab": {
     "base_uri": "https://localhost:8080/",
     "height": 208
    },
    "executionInfo": {
     "elapsed": 18,
     "status": "ok",
     "timestamp": 1665620762246,
     "user": {
      "displayName": "V. Arun Kumar",
      "userId": "02991517788843717529"
     },
     "user_tz": -330
    },
    "id": "tll6ldno5wrw",
    "outputId": "8032cfbf-4fa1-4312-80b7-73d15de072a2"
   },
   "outputs": [
    {
     "data": {
      "text/html": [
       "<div>\n",
       "<style scoped>\n",
       "    .dataframe tbody tr th:only-of-type {\n",
       "        vertical-align: middle;\n",
       "    }\n",
       "\n",
       "    .dataframe tbody tr th {\n",
       "        vertical-align: top;\n",
       "    }\n",
       "\n",
       "    .dataframe thead th {\n",
       "        text-align: right;\n",
       "    }\n",
       "</style>\n",
       "<table border=\"1\" class=\"dataframe\">\n",
       "  <thead>\n",
       "    <tr style=\"text-align: right;\">\n",
       "      <th></th>\n",
       "      <th>Smartphone</th>\n",
       "      <th>Rating</th>\n",
       "      <th>Reviews count</th>\n",
       "      <th>Offer price</th>\n",
       "      <th>Actual price</th>\n",
       "      <th>Saving</th>\n",
       "      <th>Delivery</th>\n",
       "      <th>Status of stock &amp; more offers</th>\n",
       "    </tr>\n",
       "  </thead>\n",
       "  <tbody>\n",
       "    <tr>\n",
       "      <th>0</th>\n",
       "      <td>Redmi 9 (Sky Blue, 4GB RAM, 64GB Storage) | 2....</td>\n",
       "      <td>4.2</td>\n",
       "      <td>87809</td>\n",
       "      <td>9499.0</td>\n",
       "      <td>10999.0</td>\n",
       "      <td>1500.0</td>\n",
       "      <td>FREE Delivery by Amazon</td>\n",
       "      <td>NaN</td>\n",
       "    </tr>\n",
       "    <tr>\n",
       "      <th>1</th>\n",
       "      <td>Redmi 9A (Nature Green, 2GB RAM, 32GB Storage)...</td>\n",
       "      <td>4.2</td>\n",
       "      <td>74587</td>\n",
       "      <td>6999.0</td>\n",
       "      <td>8499.0</td>\n",
       "      <td>1500.0</td>\n",
       "      <td>FREE Delivery by Amazon</td>\n",
       "      <td>NaN</td>\n",
       "    </tr>\n",
       "    <tr>\n",
       "      <th>2</th>\n",
       "      <td>Redmi 9A (Sea Blue 2GB RAM 32GB Storage) | 2GH...</td>\n",
       "      <td>4.2</td>\n",
       "      <td>74587</td>\n",
       "      <td>6999.0</td>\n",
       "      <td>8499.0</td>\n",
       "      <td>1500.0</td>\n",
       "      <td>FREE Delivery by Amazon</td>\n",
       "      <td>NaN</td>\n",
       "    </tr>\n",
       "    <tr>\n",
       "      <th>3</th>\n",
       "      <td>Redmi Note 10 (Aqua Green, 4GB RAM, 64GB Stora...</td>\n",
       "      <td>4.2</td>\n",
       "      <td>95519</td>\n",
       "      <td>13999.0</td>\n",
       "      <td>15999.0</td>\n",
       "      <td>2000.0</td>\n",
       "      <td>FREE Delivery by Amazon</td>\n",
       "      <td>NaN</td>\n",
       "    </tr>\n",
       "    <tr>\n",
       "      <th>4</th>\n",
       "      <td>Redmi 9 (Carbon Black, 4GB RAM, 64GB Storage) ...</td>\n",
       "      <td>4.2</td>\n",
       "      <td>87809</td>\n",
       "      <td>9499.0</td>\n",
       "      <td>10999.0</td>\n",
       "      <td>1500.0</td>\n",
       "      <td>FREE Delivery by Amazon</td>\n",
       "      <td>NaN</td>\n",
       "    </tr>\n",
       "    <tr>\n",
       "      <th>...</th>\n",
       "      <td>...</td>\n",
       "      <td>...</td>\n",
       "      <td>...</td>\n",
       "      <td>...</td>\n",
       "      <td>...</td>\n",
       "      <td>...</td>\n",
       "      <td>...</td>\n",
       "      <td>...</td>\n",
       "    </tr>\n",
       "    <tr>\n",
       "      <th>1362</th>\n",
       "      <td>Nillkin Case for Apple iPhone 12 / iPhone 12 P...</td>\n",
       "      <td>5.0</td>\n",
       "      <td>1</td>\n",
       "      <td>4499.0</td>\n",
       "      <td>5999.0</td>\n",
       "      <td>1500.0</td>\n",
       "      <td>FREE Delivery by Amazon</td>\n",
       "      <td>Only 1 left in stock.</td>\n",
       "    </tr>\n",
       "    <tr>\n",
       "      <th>1363</th>\n",
       "      <td>Nillkin Case for Apple iPhone 12 / iPhone 12 P...</td>\n",
       "      <td>5.0</td>\n",
       "      <td>1</td>\n",
       "      <td>3999.0</td>\n",
       "      <td>4999.0</td>\n",
       "      <td>1000.0</td>\n",
       "      <td>FREE Delivery by Amazon</td>\n",
       "      <td>Only 2 left in stock.</td>\n",
       "    </tr>\n",
       "    <tr>\n",
       "      <th>1364</th>\n",
       "      <td>Nillkin Case for Samsung Galaxy F62 F 62 / Sam...</td>\n",
       "      <td>5.0</td>\n",
       "      <td>1</td>\n",
       "      <td>1099.0</td>\n",
       "      <td>1699.0</td>\n",
       "      <td>600.0</td>\n",
       "      <td>FREE Delivery by Amazon</td>\n",
       "      <td>Only 1 left in stock.</td>\n",
       "    </tr>\n",
       "    <tr>\n",
       "      <th>1365</th>\n",
       "      <td>Nillkin Case for Xiaomi Redmi Note 10 / Note 1...</td>\n",
       "      <td>5.0</td>\n",
       "      <td>1</td>\n",
       "      <td>1299.0</td>\n",
       "      <td>1699.0</td>\n",
       "      <td>400.0</td>\n",
       "      <td>FREE Delivery by Amazon</td>\n",
       "      <td>Only 1 left in stock.</td>\n",
       "    </tr>\n",
       "    <tr>\n",
       "      <th>1366</th>\n",
       "      <td>Nillkin Case for Samsung Galaxy A72 A 72 (6.7\"...</td>\n",
       "      <td>5.0</td>\n",
       "      <td>1</td>\n",
       "      <td>1199.0</td>\n",
       "      <td>2499.0</td>\n",
       "      <td>1300.0</td>\n",
       "      <td>FREE Delivery by Amazon</td>\n",
       "      <td>Only 2 left in stock.</td>\n",
       "    </tr>\n",
       "  </tbody>\n",
       "</table>\n",
       "<p>1307 rows × 8 columns</p>\n",
       "</div>"
      ],
      "text/plain": [
       "                                             Smartphone  Rating  \\\n",
       "0     Redmi 9 (Sky Blue, 4GB RAM, 64GB Storage) | 2....     4.2   \n",
       "1     Redmi 9A (Nature Green, 2GB RAM, 32GB Storage)...     4.2   \n",
       "2     Redmi 9A (Sea Blue 2GB RAM 32GB Storage) | 2GH...     4.2   \n",
       "3     Redmi Note 10 (Aqua Green, 4GB RAM, 64GB Stora...     4.2   \n",
       "4     Redmi 9 (Carbon Black, 4GB RAM, 64GB Storage) ...     4.2   \n",
       "...                                                 ...     ...   \n",
       "1362  Nillkin Case for Apple iPhone 12 / iPhone 12 P...     5.0   \n",
       "1363  Nillkin Case for Apple iPhone 12 / iPhone 12 P...     5.0   \n",
       "1364  Nillkin Case for Samsung Galaxy F62 F 62 / Sam...     5.0   \n",
       "1365  Nillkin Case for Xiaomi Redmi Note 10 / Note 1...     5.0   \n",
       "1366  Nillkin Case for Samsung Galaxy A72 A 72 (6.7\"...     5.0   \n",
       "\n",
       "      Reviews count  Offer price  Actual price  Saving  \\\n",
       "0             87809       9499.0       10999.0  1500.0   \n",
       "1             74587       6999.0        8499.0  1500.0   \n",
       "2             74587       6999.0        8499.0  1500.0   \n",
       "3             95519      13999.0       15999.0  2000.0   \n",
       "4             87809       9499.0       10999.0  1500.0   \n",
       "...             ...          ...           ...     ...   \n",
       "1362              1       4499.0        5999.0  1500.0   \n",
       "1363              1       3999.0        4999.0  1000.0   \n",
       "1364              1       1099.0        1699.0   600.0   \n",
       "1365              1       1299.0        1699.0   400.0   \n",
       "1366              1       1199.0        2499.0  1300.0   \n",
       "\n",
       "                     Delivery Status of stock & more offers  \n",
       "0     FREE Delivery by Amazon                           NaN  \n",
       "1     FREE Delivery by Amazon                           NaN  \n",
       "2     FREE Delivery by Amazon                           NaN  \n",
       "3     FREE Delivery by Amazon                           NaN  \n",
       "4     FREE Delivery by Amazon                           NaN  \n",
       "...                       ...                           ...  \n",
       "1362  FREE Delivery by Amazon         Only 1 left in stock.  \n",
       "1363  FREE Delivery by Amazon         Only 2 left in stock.  \n",
       "1364  FREE Delivery by Amazon         Only 1 left in stock.  \n",
       "1365  FREE Delivery by Amazon         Only 1 left in stock.  \n",
       "1366  FREE Delivery by Amazon         Only 2 left in stock.  \n",
       "\n",
       "[1307 rows x 8 columns]"
      ]
     },
     "execution_count": 176,
     "metadata": {},
     "output_type": "execute_result"
    }
   ],
   "source": [
    "data['Saving']=data['Saving'].str.split().str.get(1).str.replace(',','').str.replace('₹','').str.replace('it','nan').str.replace('Delivery','nan').astype(float)\n",
    "data"
   ]
  },
  {
   "cell_type": "markdown",
   "metadata": {
    "id": "g_GYBJ-u5wrw"
   },
   "source": [
    "### 5.3 Dealing with missing values."
   ]
  },
  {
   "cell_type": "code",
   "execution_count": 177,
   "metadata": {
    "colab": {
     "base_uri": "https://localhost:8080/"
    },
    "executionInfo": {
     "elapsed": 19,
     "status": "ok",
     "timestamp": 1665620762247,
     "user": {
      "displayName": "V. Arun Kumar",
      "userId": "02991517788843717529"
     },
     "user_tz": -330
    },
    "id": "Qh758tHINBZi",
    "outputId": "0e7aa0f5-dce7-4522-9e32-8f5bf4fac543"
   },
   "outputs": [
    {
     "data": {
      "text/plain": [
       "Smartphone                        0.000000\n",
       "Rating                            0.000000\n",
       "Reviews count                     0.000000\n",
       "Offer price                      15.761285\n",
       "Actual price                     23.947972\n",
       "Saving                           23.947972\n",
       "Delivery                          0.000000\n",
       "Status of stock & more offers    63.963275\n",
       "dtype: float64"
      ]
     },
     "execution_count": 177,
     "metadata": {},
     "output_type": "execute_result"
    }
   ],
   "source": [
    "data.isna().sum()*100/len(data)"
   ]
  },
  {
   "cell_type": "code",
   "execution_count": 178,
   "metadata": {
    "colab": {
     "base_uri": "https://localhost:8080/"
    },
    "executionInfo": {
     "elapsed": 16,
     "status": "ok",
     "timestamp": 1665620762247,
     "user": {
      "displayName": "V. Arun Kumar",
      "userId": "02991517788843717529"
     },
     "user_tz": -330
    },
    "id": "UmN-EoQ85wrw",
    "outputId": "1286a610-9ac8-414a-b7e7-516115d42b77"
   },
   "outputs": [
    {
     "data": {
      "text/html": [
       "<div>\n",
       "<style scoped>\n",
       "    .dataframe tbody tr th:only-of-type {\n",
       "        vertical-align: middle;\n",
       "    }\n",
       "\n",
       "    .dataframe tbody tr th {\n",
       "        vertical-align: top;\n",
       "    }\n",
       "\n",
       "    .dataframe thead th {\n",
       "        text-align: right;\n",
       "    }\n",
       "</style>\n",
       "<table border=\"1\" class=\"dataframe\">\n",
       "  <thead>\n",
       "    <tr style=\"text-align: right;\">\n",
       "      <th></th>\n",
       "      <th>Smartphone</th>\n",
       "      <th>Rating</th>\n",
       "      <th>Reviews count</th>\n",
       "      <th>Offer price</th>\n",
       "      <th>Actual price</th>\n",
       "      <th>Saving</th>\n",
       "      <th>Delivery</th>\n",
       "    </tr>\n",
       "  </thead>\n",
       "  <tbody>\n",
       "    <tr>\n",
       "      <th>0</th>\n",
       "      <td>Redmi 9 (Sky Blue, 4GB RAM, 64GB Storage) | 2....</td>\n",
       "      <td>4.2</td>\n",
       "      <td>87809</td>\n",
       "      <td>9499.0</td>\n",
       "      <td>10999.0</td>\n",
       "      <td>1500.0</td>\n",
       "      <td>FREE Delivery by Amazon</td>\n",
       "    </tr>\n",
       "    <tr>\n",
       "      <th>1</th>\n",
       "      <td>Redmi 9A (Nature Green, 2GB RAM, 32GB Storage)...</td>\n",
       "      <td>4.2</td>\n",
       "      <td>74587</td>\n",
       "      <td>6999.0</td>\n",
       "      <td>8499.0</td>\n",
       "      <td>1500.0</td>\n",
       "      <td>FREE Delivery by Amazon</td>\n",
       "    </tr>\n",
       "    <tr>\n",
       "      <th>2</th>\n",
       "      <td>Redmi 9A (Sea Blue 2GB RAM 32GB Storage) | 2GH...</td>\n",
       "      <td>4.2</td>\n",
       "      <td>74587</td>\n",
       "      <td>6999.0</td>\n",
       "      <td>8499.0</td>\n",
       "      <td>1500.0</td>\n",
       "      <td>FREE Delivery by Amazon</td>\n",
       "    </tr>\n",
       "    <tr>\n",
       "      <th>3</th>\n",
       "      <td>Redmi Note 10 (Aqua Green, 4GB RAM, 64GB Stora...</td>\n",
       "      <td>4.2</td>\n",
       "      <td>95519</td>\n",
       "      <td>13999.0</td>\n",
       "      <td>15999.0</td>\n",
       "      <td>2000.0</td>\n",
       "      <td>FREE Delivery by Amazon</td>\n",
       "    </tr>\n",
       "    <tr>\n",
       "      <th>4</th>\n",
       "      <td>Redmi 9 (Carbon Black, 4GB RAM, 64GB Storage) ...</td>\n",
       "      <td>4.2</td>\n",
       "      <td>87809</td>\n",
       "      <td>9499.0</td>\n",
       "      <td>10999.0</td>\n",
       "      <td>1500.0</td>\n",
       "      <td>FREE Delivery by Amazon</td>\n",
       "    </tr>\n",
       "    <tr>\n",
       "      <th>...</th>\n",
       "      <td>...</td>\n",
       "      <td>...</td>\n",
       "      <td>...</td>\n",
       "      <td>...</td>\n",
       "      <td>...</td>\n",
       "      <td>...</td>\n",
       "      <td>...</td>\n",
       "    </tr>\n",
       "    <tr>\n",
       "      <th>1362</th>\n",
       "      <td>Nillkin Case for Apple iPhone 12 / iPhone 12 P...</td>\n",
       "      <td>5.0</td>\n",
       "      <td>1</td>\n",
       "      <td>4499.0</td>\n",
       "      <td>5999.0</td>\n",
       "      <td>1500.0</td>\n",
       "      <td>FREE Delivery by Amazon</td>\n",
       "    </tr>\n",
       "    <tr>\n",
       "      <th>1363</th>\n",
       "      <td>Nillkin Case for Apple iPhone 12 / iPhone 12 P...</td>\n",
       "      <td>5.0</td>\n",
       "      <td>1</td>\n",
       "      <td>3999.0</td>\n",
       "      <td>4999.0</td>\n",
       "      <td>1000.0</td>\n",
       "      <td>FREE Delivery by Amazon</td>\n",
       "    </tr>\n",
       "    <tr>\n",
       "      <th>1364</th>\n",
       "      <td>Nillkin Case for Samsung Galaxy F62 F 62 / Sam...</td>\n",
       "      <td>5.0</td>\n",
       "      <td>1</td>\n",
       "      <td>1099.0</td>\n",
       "      <td>1699.0</td>\n",
       "      <td>600.0</td>\n",
       "      <td>FREE Delivery by Amazon</td>\n",
       "    </tr>\n",
       "    <tr>\n",
       "      <th>1365</th>\n",
       "      <td>Nillkin Case for Xiaomi Redmi Note 10 / Note 1...</td>\n",
       "      <td>5.0</td>\n",
       "      <td>1</td>\n",
       "      <td>1299.0</td>\n",
       "      <td>1699.0</td>\n",
       "      <td>400.0</td>\n",
       "      <td>FREE Delivery by Amazon</td>\n",
       "    </tr>\n",
       "    <tr>\n",
       "      <th>1366</th>\n",
       "      <td>Nillkin Case for Samsung Galaxy A72 A 72 (6.7\"...</td>\n",
       "      <td>5.0</td>\n",
       "      <td>1</td>\n",
       "      <td>1199.0</td>\n",
       "      <td>2499.0</td>\n",
       "      <td>1300.0</td>\n",
       "      <td>FREE Delivery by Amazon</td>\n",
       "    </tr>\n",
       "  </tbody>\n",
       "</table>\n",
       "<p>1307 rows × 7 columns</p>\n",
       "</div>"
      ],
      "text/plain": [
       "                                             Smartphone  Rating  \\\n",
       "0     Redmi 9 (Sky Blue, 4GB RAM, 64GB Storage) | 2....     4.2   \n",
       "1     Redmi 9A (Nature Green, 2GB RAM, 32GB Storage)...     4.2   \n",
       "2     Redmi 9A (Sea Blue 2GB RAM 32GB Storage) | 2GH...     4.2   \n",
       "3     Redmi Note 10 (Aqua Green, 4GB RAM, 64GB Stora...     4.2   \n",
       "4     Redmi 9 (Carbon Black, 4GB RAM, 64GB Storage) ...     4.2   \n",
       "...                                                 ...     ...   \n",
       "1362  Nillkin Case for Apple iPhone 12 / iPhone 12 P...     5.0   \n",
       "1363  Nillkin Case for Apple iPhone 12 / iPhone 12 P...     5.0   \n",
       "1364  Nillkin Case for Samsung Galaxy F62 F 62 / Sam...     5.0   \n",
       "1365  Nillkin Case for Xiaomi Redmi Note 10 / Note 1...     5.0   \n",
       "1366  Nillkin Case for Samsung Galaxy A72 A 72 (6.7\"...     5.0   \n",
       "\n",
       "      Reviews count  Offer price  Actual price  Saving  \\\n",
       "0             87809       9499.0       10999.0  1500.0   \n",
       "1             74587       6999.0        8499.0  1500.0   \n",
       "2             74587       6999.0        8499.0  1500.0   \n",
       "3             95519      13999.0       15999.0  2000.0   \n",
       "4             87809       9499.0       10999.0  1500.0   \n",
       "...             ...          ...           ...     ...   \n",
       "1362              1       4499.0        5999.0  1500.0   \n",
       "1363              1       3999.0        4999.0  1000.0   \n",
       "1364              1       1099.0        1699.0   600.0   \n",
       "1365              1       1299.0        1699.0   400.0   \n",
       "1366              1       1199.0        2499.0  1300.0   \n",
       "\n",
       "                     Delivery  \n",
       "0     FREE Delivery by Amazon  \n",
       "1     FREE Delivery by Amazon  \n",
       "2     FREE Delivery by Amazon  \n",
       "3     FREE Delivery by Amazon  \n",
       "4     FREE Delivery by Amazon  \n",
       "...                       ...  \n",
       "1362  FREE Delivery by Amazon  \n",
       "1363  FREE Delivery by Amazon  \n",
       "1364  FREE Delivery by Amazon  \n",
       "1365  FREE Delivery by Amazon  \n",
       "1366  FREE Delivery by Amazon  \n",
       "\n",
       "[1307 rows x 7 columns]"
      ]
     },
     "execution_count": 178,
     "metadata": {},
     "output_type": "execute_result"
    }
   ],
   "source": [
    "data.drop('Status of stock & more offers',axis=1,inplace=True)\n",
    "data"
   ]
  },
  {
   "cell_type": "markdown",
   "metadata": {
    "id": "c5a7cHL8JgC6"
   },
   "source": [
    "#### 5.3.1 Standard and Non standard Null values\n",
    "-  What isnull() function recognises as missing value"
   ]
  },
  {
   "cell_type": "code",
   "execution_count": 179,
   "metadata": {
    "colab": {
     "base_uri": "https://localhost:8080/",
     "height": 363
    },
    "executionInfo": {
     "elapsed": 16,
     "status": "ok",
     "timestamp": 1665620762247,
     "user": {
      "displayName": "V. Arun Kumar",
      "userId": "02991517788843717529"
     },
     "user_tz": -330
    },
    "id": "xdh-8dTGNHUW",
    "outputId": "9ae5f124-5ab9-4a6d-e94b-5f1ae748a6c9"
   },
   "outputs": [
    {
     "data": {
      "text/plain": [
       "Smartphone         0\n",
       "Rating             0\n",
       "Reviews count      0\n",
       "Offer price      206\n",
       "Actual price     313\n",
       "Saving           313\n",
       "Delivery           0\n",
       "dtype: int64"
      ]
     },
     "execution_count": 179,
     "metadata": {},
     "output_type": "execute_result"
    }
   ],
   "source": [
    "data.isnull().sum()"
   ]
  },
  {
   "cell_type": "markdown",
   "metadata": {
    "id": "qf9j5i7EN7ee"
   },
   "source": [
    "#### 5.3.2 Dropping features having more than 45% null values"
   ]
  },
  {
   "cell_type": "code",
   "execution_count": 180,
   "metadata": {},
   "outputs": [
    {
     "data": {
      "text/html": [
       "<div>\n",
       "<style scoped>\n",
       "    .dataframe tbody tr th:only-of-type {\n",
       "        vertical-align: middle;\n",
       "    }\n",
       "\n",
       "    .dataframe tbody tr th {\n",
       "        vertical-align: top;\n",
       "    }\n",
       "\n",
       "    .dataframe thead th {\n",
       "        text-align: right;\n",
       "    }\n",
       "</style>\n",
       "<table border=\"1\" class=\"dataframe\">\n",
       "  <thead>\n",
       "    <tr style=\"text-align: right;\">\n",
       "      <th></th>\n",
       "      <th>Categories</th>\n",
       "      <th>Percentange_of_missing_values</th>\n",
       "    </tr>\n",
       "  </thead>\n",
       "  <tbody>\n",
       "    <tr>\n",
       "      <th>0</th>\n",
       "      <td>Smartphone</td>\n",
       "      <td>0.000000</td>\n",
       "    </tr>\n",
       "    <tr>\n",
       "      <th>1</th>\n",
       "      <td>Rating</td>\n",
       "      <td>0.000000</td>\n",
       "    </tr>\n",
       "    <tr>\n",
       "      <th>2</th>\n",
       "      <td>Reviews count</td>\n",
       "      <td>0.000000</td>\n",
       "    </tr>\n",
       "    <tr>\n",
       "      <th>3</th>\n",
       "      <td>Offer price</td>\n",
       "      <td>15.761285</td>\n",
       "    </tr>\n",
       "    <tr>\n",
       "      <th>4</th>\n",
       "      <td>Actual price</td>\n",
       "      <td>23.947972</td>\n",
       "    </tr>\n",
       "    <tr>\n",
       "      <th>5</th>\n",
       "      <td>Saving</td>\n",
       "      <td>23.947972</td>\n",
       "    </tr>\n",
       "    <tr>\n",
       "      <th>6</th>\n",
       "      <td>Delivery</td>\n",
       "      <td>0.000000</td>\n",
       "    </tr>\n",
       "  </tbody>\n",
       "</table>\n",
       "</div>"
      ],
      "text/plain": [
       "      Categories  Percentange_of_missing_values\n",
       "0     Smartphone                       0.000000\n",
       "1         Rating                       0.000000\n",
       "2  Reviews count                       0.000000\n",
       "3    Offer price                      15.761285\n",
       "4   Actual price                      23.947972\n",
       "5         Saving                      23.947972\n",
       "6       Delivery                       0.000000"
      ]
     },
     "execution_count": 180,
     "metadata": {},
     "output_type": "execute_result"
    }
   ],
   "source": [
    "x=data.isna().sum()*100/len(data)\n",
    "x=x.reset_index()\n",
    "x.columns=['Categories',\"Percentange_of_missing_values\"]\n",
    "x"
   ]
  },
  {
   "cell_type": "code",
   "execution_count": 181,
   "metadata": {
    "id": "VvSwFLTw5wrw"
   },
   "outputs": [
    {
     "data": {
      "text/html": [
       "<div>\n",
       "<style scoped>\n",
       "    .dataframe tbody tr th:only-of-type {\n",
       "        vertical-align: middle;\n",
       "    }\n",
       "\n",
       "    .dataframe tbody tr th {\n",
       "        vertical-align: top;\n",
       "    }\n",
       "\n",
       "    .dataframe thead th {\n",
       "        text-align: right;\n",
       "    }\n",
       "</style>\n",
       "<table border=\"1\" class=\"dataframe\">\n",
       "  <thead>\n",
       "    <tr style=\"text-align: right;\">\n",
       "      <th></th>\n",
       "      <th>Smartphone</th>\n",
       "      <th>Rating</th>\n",
       "      <th>Reviews count</th>\n",
       "      <th>Offer price</th>\n",
       "      <th>Actual price</th>\n",
       "      <th>Saving</th>\n",
       "      <th>Delivery</th>\n",
       "    </tr>\n",
       "  </thead>\n",
       "  <tbody>\n",
       "    <tr>\n",
       "      <th>0</th>\n",
       "      <td>Redmi 9 (Sky Blue, 4GB RAM, 64GB Storage) | 2....</td>\n",
       "      <td>4.2</td>\n",
       "      <td>87809</td>\n",
       "      <td>9499.0</td>\n",
       "      <td>10999.0</td>\n",
       "      <td>1500.0</td>\n",
       "      <td>FREE Delivery by Amazon</td>\n",
       "    </tr>\n",
       "    <tr>\n",
       "      <th>1</th>\n",
       "      <td>Redmi 9A (Nature Green, 2GB RAM, 32GB Storage)...</td>\n",
       "      <td>4.2</td>\n",
       "      <td>74587</td>\n",
       "      <td>6999.0</td>\n",
       "      <td>8499.0</td>\n",
       "      <td>1500.0</td>\n",
       "      <td>FREE Delivery by Amazon</td>\n",
       "    </tr>\n",
       "    <tr>\n",
       "      <th>2</th>\n",
       "      <td>Redmi 9A (Sea Blue 2GB RAM 32GB Storage) | 2GH...</td>\n",
       "      <td>4.2</td>\n",
       "      <td>74587</td>\n",
       "      <td>6999.0</td>\n",
       "      <td>8499.0</td>\n",
       "      <td>1500.0</td>\n",
       "      <td>FREE Delivery by Amazon</td>\n",
       "    </tr>\n",
       "    <tr>\n",
       "      <th>3</th>\n",
       "      <td>Redmi Note 10 (Aqua Green, 4GB RAM, 64GB Stora...</td>\n",
       "      <td>4.2</td>\n",
       "      <td>95519</td>\n",
       "      <td>13999.0</td>\n",
       "      <td>15999.0</td>\n",
       "      <td>2000.0</td>\n",
       "      <td>FREE Delivery by Amazon</td>\n",
       "    </tr>\n",
       "    <tr>\n",
       "      <th>4</th>\n",
       "      <td>Redmi 9 (Carbon Black, 4GB RAM, 64GB Storage) ...</td>\n",
       "      <td>4.2</td>\n",
       "      <td>87809</td>\n",
       "      <td>9499.0</td>\n",
       "      <td>10999.0</td>\n",
       "      <td>1500.0</td>\n",
       "      <td>FREE Delivery by Amazon</td>\n",
       "    </tr>\n",
       "    <tr>\n",
       "      <th>...</th>\n",
       "      <td>...</td>\n",
       "      <td>...</td>\n",
       "      <td>...</td>\n",
       "      <td>...</td>\n",
       "      <td>...</td>\n",
       "      <td>...</td>\n",
       "      <td>...</td>\n",
       "    </tr>\n",
       "    <tr>\n",
       "      <th>1362</th>\n",
       "      <td>Nillkin Case for Apple iPhone 12 / iPhone 12 P...</td>\n",
       "      <td>5.0</td>\n",
       "      <td>1</td>\n",
       "      <td>4499.0</td>\n",
       "      <td>5999.0</td>\n",
       "      <td>1500.0</td>\n",
       "      <td>FREE Delivery by Amazon</td>\n",
       "    </tr>\n",
       "    <tr>\n",
       "      <th>1363</th>\n",
       "      <td>Nillkin Case for Apple iPhone 12 / iPhone 12 P...</td>\n",
       "      <td>5.0</td>\n",
       "      <td>1</td>\n",
       "      <td>3999.0</td>\n",
       "      <td>4999.0</td>\n",
       "      <td>1000.0</td>\n",
       "      <td>FREE Delivery by Amazon</td>\n",
       "    </tr>\n",
       "    <tr>\n",
       "      <th>1364</th>\n",
       "      <td>Nillkin Case for Samsung Galaxy F62 F 62 / Sam...</td>\n",
       "      <td>5.0</td>\n",
       "      <td>1</td>\n",
       "      <td>1099.0</td>\n",
       "      <td>1699.0</td>\n",
       "      <td>600.0</td>\n",
       "      <td>FREE Delivery by Amazon</td>\n",
       "    </tr>\n",
       "    <tr>\n",
       "      <th>1365</th>\n",
       "      <td>Nillkin Case for Xiaomi Redmi Note 10 / Note 1...</td>\n",
       "      <td>5.0</td>\n",
       "      <td>1</td>\n",
       "      <td>1299.0</td>\n",
       "      <td>1699.0</td>\n",
       "      <td>400.0</td>\n",
       "      <td>FREE Delivery by Amazon</td>\n",
       "    </tr>\n",
       "    <tr>\n",
       "      <th>1366</th>\n",
       "      <td>Nillkin Case for Samsung Galaxy A72 A 72 (6.7\"...</td>\n",
       "      <td>5.0</td>\n",
       "      <td>1</td>\n",
       "      <td>1199.0</td>\n",
       "      <td>2499.0</td>\n",
       "      <td>1300.0</td>\n",
       "      <td>FREE Delivery by Amazon</td>\n",
       "    </tr>\n",
       "  </tbody>\n",
       "</table>\n",
       "<p>1307 rows × 7 columns</p>\n",
       "</div>"
      ],
      "text/plain": [
       "                                             Smartphone  Rating  \\\n",
       "0     Redmi 9 (Sky Blue, 4GB RAM, 64GB Storage) | 2....     4.2   \n",
       "1     Redmi 9A (Nature Green, 2GB RAM, 32GB Storage)...     4.2   \n",
       "2     Redmi 9A (Sea Blue 2GB RAM 32GB Storage) | 2GH...     4.2   \n",
       "3     Redmi Note 10 (Aqua Green, 4GB RAM, 64GB Stora...     4.2   \n",
       "4     Redmi 9 (Carbon Black, 4GB RAM, 64GB Storage) ...     4.2   \n",
       "...                                                 ...     ...   \n",
       "1362  Nillkin Case for Apple iPhone 12 / iPhone 12 P...     5.0   \n",
       "1363  Nillkin Case for Apple iPhone 12 / iPhone 12 P...     5.0   \n",
       "1364  Nillkin Case for Samsung Galaxy F62 F 62 / Sam...     5.0   \n",
       "1365  Nillkin Case for Xiaomi Redmi Note 10 / Note 1...     5.0   \n",
       "1366  Nillkin Case for Samsung Galaxy A72 A 72 (6.7\"...     5.0   \n",
       "\n",
       "      Reviews count  Offer price  Actual price  Saving  \\\n",
       "0             87809       9499.0       10999.0  1500.0   \n",
       "1             74587       6999.0        8499.0  1500.0   \n",
       "2             74587       6999.0        8499.0  1500.0   \n",
       "3             95519      13999.0       15999.0  2000.0   \n",
       "4             87809       9499.0       10999.0  1500.0   \n",
       "...             ...          ...           ...     ...   \n",
       "1362              1       4499.0        5999.0  1500.0   \n",
       "1363              1       3999.0        4999.0  1000.0   \n",
       "1364              1       1099.0        1699.0   600.0   \n",
       "1365              1       1299.0        1699.0   400.0   \n",
       "1366              1       1199.0        2499.0  1300.0   \n",
       "\n",
       "                     Delivery  \n",
       "0     FREE Delivery by Amazon  \n",
       "1     FREE Delivery by Amazon  \n",
       "2     FREE Delivery by Amazon  \n",
       "3     FREE Delivery by Amazon  \n",
       "4     FREE Delivery by Amazon  \n",
       "...                       ...  \n",
       "1362  FREE Delivery by Amazon  \n",
       "1363  FREE Delivery by Amazon  \n",
       "1364  FREE Delivery by Amazon  \n",
       "1365  FREE Delivery by Amazon  \n",
       "1366  FREE Delivery by Amazon  \n",
       "\n",
       "[1307 rows x 7 columns]"
      ]
     },
     "execution_count": 181,
     "metadata": {},
     "output_type": "execute_result"
    }
   ],
   "source": [
    "data['Saving']=data['Actual price']-data['Offer price']\n",
    "data"
   ]
  },
  {
   "cell_type": "markdown",
   "metadata": {
    "id": "l6KyTcBoOA0v"
   },
   "source": [
    "#### 5.3.3 Let's analyse price columns"
   ]
  },
  {
   "cell_type": "code",
   "execution_count": 182,
   "metadata": {},
   "outputs": [],
   "source": [
    "data['Actual price'].fillna(data['Actual price'].median(),inplace=True)\n",
    "data['Offer price'].fillna(data['Offer price'].median(),inplace=True)"
   ]
  },
  {
   "cell_type": "code",
   "execution_count": 183,
   "metadata": {},
   "outputs": [
    {
     "data": {
      "text/plain": [
       "Smartphone         0\n",
       "Rating             0\n",
       "Reviews count      0\n",
       "Offer price        0\n",
       "Actual price       0\n",
       "Saving           313\n",
       "Delivery           0\n",
       "dtype: int64"
      ]
     },
     "execution_count": 183,
     "metadata": {},
     "output_type": "execute_result"
    }
   ],
   "source": [
    "data.isnull().sum()"
   ]
  },
  {
   "cell_type": "markdown",
   "metadata": {
    "id": "pZNXZBl8Tdag"
   },
   "source": [
    "---------------------------------------------------------------------------------------------"
   ]
  },
  {
   "cell_type": "markdown",
   "metadata": {
    "id": "J4R61nai5wrx"
   },
   "source": [
    "### 5.4 Dealing with Outliers\n",
    "Outliers are extreme values that tend to influce the data distribution significantly without adding much information.\n",
    "- Sometimes they might be valid values\n",
    "- Handling outliers becomes very crucial to build a good model"
   ]
  },
  {
   "cell_type": "markdown",
   "metadata": {
    "id": "8T6i_1hbOvnN"
   },
   "source": [
    "#### 5.4.1 Identify outliers with visualization tools"
   ]
  },
  {
   "cell_type": "code",
   "execution_count": 184,
   "metadata": {
    "colab": {
     "base_uri": "https://localhost:8080/",
     "height": 112
    },
    "executionInfo": {
     "elapsed": 13,
     "status": "ok",
     "timestamp": 1665620762947,
     "user": {
      "displayName": "V. Arun Kumar",
      "userId": "02991517788843717529"
     },
     "user_tz": -330
    },
    "id": "t2MNyZ0h5wrx",
    "outputId": "6ed808e1-0411-4415-ef63-3cf9a8d8692a"
   },
   "outputs": [],
   "source": [
    "# Make use of the Boxplot"
   ]
  },
  {
   "cell_type": "code",
   "execution_count": 185,
   "metadata": {
    "colab": {
     "base_uri": "https://localhost:8080/",
     "height": 1000
    },
    "executionInfo": {
     "elapsed": 722,
     "status": "ok",
     "timestamp": 1665620763657,
     "user": {
      "displayName": "V. Arun Kumar",
      "userId": "02991517788843717529"
     },
     "user_tz": -330
    },
    "id": "MVUv71Uq5wrx",
    "outputId": "38d97b4b-552c-427a-e01b-aa8461b5bb41",
    "scrolled": true
   },
   "outputs": [
    {
     "data": {
      "image/png": "[encoded data removed]",
      "text/plain": [
       "<Figure size 640x480 with 1 Axes>"
      ]
     },
     "metadata": {},
     "output_type": "display_data"
    }
   ],
   "source": [
    "data.boxplot('Rating')\n",
    "plt.show()"
   ]
  },
  {
   "cell_type": "code",
   "execution_count": 186,
   "metadata": {},
   "outputs": [
    {
     "data": {
      "image/png": "[encoded data removed]",
      "text/plain": [
       "<Figure size 640x480 with 1 Axes>"
      ]
     },
     "metadata": {},
     "output_type": "display_data"
    }
   ],
   "source": [
    "data.boxplot('Reviews count')\n",
    "plt.show()"
   ]
  },
  {
   "cell_type": "code",
   "execution_count": 187,
   "metadata": {},
   "outputs": [
    {
     "data": {
      "image/png": "[encoded data removed]",
      "text/plain": [
       "<Figure size 640x480 with 1 Axes>"
      ]
     },
     "metadata": {},
     "output_type": "display_data"
    }
   ],
   "source": [
    "data.boxplot('Offer price')\n",
    "plt.show()"
   ]
  },
  {
   "cell_type": "code",
   "execution_count": 188,
   "metadata": {},
   "outputs": [
    {
     "data": {
      "image/png": "[encoded data removed]",
      "text/plain": [
       "<Figure size 640x480 with 1 Axes>"
      ]
     },
     "metadata": {},
     "output_type": "display_data"
    }
   ],
   "source": [
    "data.boxplot('Actual price')\n",
    "plt.show()"
   ]
  },
  {
   "cell_type": "markdown",
   "metadata": {
    "id": "IHEQvLmqO2nA"
   },
   "source": [
    "#### 5.4.2 Let's check the skewness"
   ]
  },
  {
   "cell_type": "code",
   "execution_count": 189,
   "metadata": {
    "colab": {
     "base_uri": "https://localhost:8080/"
    },
    "executionInfo": {
     "elapsed": 14,
     "status": "ok",
     "timestamp": 1665620763658,
     "user": {
      "displayName": "V. Arun Kumar",
      "userId": "02991517788843717529"
     },
     "user_tz": -330
    },
    "id": "67UN9j1N5wrx",
    "outputId": "b76e467a-5b43-4cfe-98cf-99eb6d5970e5"
   },
   "outputs": [
    {
     "data": {
      "text/plain": [
       "Rating           0.907410\n",
       "Reviews count    5.156072\n",
       "Offer price      2.492857\n",
       "Actual price     2.567285\n",
       "Saving           4.062536\n",
       "dtype: float64"
      ]
     },
     "execution_count": 189,
     "metadata": {},
     "output_type": "execute_result"
    }
   ],
   "source": [
    "data.skew(numeric_only=True)"
   ]
  },
  {
   "cell_type": "markdown",
   "metadata": {
    "id": "TetSAEKDPH3w"
   },
   "source": [
    "#### 5.4.3 Handling outliers\n",
    "There are various ways we can deal with outliers.\n",
    "- We can try transformations using log method, Z-score transformation\n",
    "- We can try capping using IQR method\n",
    "- We can impute the data using an appropriate value"
   ]
  },
  {
   "cell_type": "markdown",
   "metadata": {
    "id": "5sqJhcCdPsU9"
   },
   "source": [
    "#### 5.4.4 Using log transformation"
   ]
  },
  {
   "cell_type": "code",
   "execution_count": 190,
   "metadata": {
    "id": "UehBN5GqQUlj"
   },
   "outputs": [
    {
     "data": {
      "text/plain": [
       "-0.03422842386718137"
      ]
     },
     "execution_count": 190,
     "metadata": {},
     "output_type": "execute_result"
    }
   ],
   "source": [
    "np.log(data['Reviews count']).skew()"
   ]
  },
  {
   "cell_type": "markdown",
   "metadata": {
    "id": "lcukBYNB5wrx"
   },
   "source": [
    "- For feature *'Reviews count'*, lets apply Log transformation technique in order to reduce the skewness."
   ]
  },
  {
   "cell_type": "code",
   "execution_count": 191,
   "metadata": {
    "id": "fV0pgIl25wrx"
   },
   "outputs": [
    {
     "data": {
      "text/plain": [
       "0.06863570032730146"
      ]
     },
     "execution_count": 191,
     "metadata": {},
     "output_type": "execute_result"
    }
   ],
   "source": [
    "np.log1p(data['Reviews count']).skew()"
   ]
  },
  {
   "cell_type": "markdown",
   "metadata": {
    "id": "N6bn_i975wrx"
   },
   "source": [
    "- For feature *'Offer price'*, lets apply Log transformation technique in order to reduce the skewness."
   ]
  },
  {
   "cell_type": "code",
   "execution_count": 192,
   "metadata": {
    "id": "Z_dvpCAA5wry"
   },
   "outputs": [
    {
     "data": {
      "text/plain": [
       "-0.3426056893566926"
      ]
     },
     "execution_count": 192,
     "metadata": {},
     "output_type": "execute_result"
    }
   ],
   "source": [
    "np.log1p(data['Offer price']).skew()"
   ]
  },
  {
   "cell_type": "markdown",
   "metadata": {
    "id": "DHycyMab5wry"
   },
   "source": [
    "- For feature *'Actual price'*, lets apply Log transformation technique in order to reduce the skewness."
   ]
  },
  {
   "cell_type": "code",
   "execution_count": 193,
   "metadata": {
    "id": "4IO_u5Vq5wry"
   },
   "outputs": [
    {
     "data": {
      "text/plain": [
       "-0.3157813146267405"
      ]
     },
     "execution_count": 193,
     "metadata": {},
     "output_type": "execute_result"
    }
   ],
   "source": [
    "np.log1p(data['Actual price']).skew()"
   ]
  },
  {
   "cell_type": "markdown",
   "metadata": {
    "id": "OHzjEFD15wry"
   },
   "source": [
    "- For feature *'Saving'*, lets apply Log transformation technique in order to reduce the skewness."
   ]
  },
  {
   "cell_type": "code",
   "execution_count": 194,
   "metadata": {
    "colab": {
     "base_uri": "https://localhost:8080/",
     "height": 1000
    },
    "executionInfo": {
     "elapsed": 617,
     "status": "ok",
     "timestamp": 1665620764266,
     "user": {
      "displayName": "V. Arun Kumar",
      "userId": "02991517788843717529"
     },
     "user_tz": -330
    },
    "id": "9k52_l-N5wry",
    "outputId": "9f44f4e4-0b23-445b-a99c-c143e3f40075",
    "scrolled": true
   },
   "outputs": [
    {
     "data": {
      "text/plain": [
       "-0.42435066180399655"
      ]
     },
     "execution_count": 194,
     "metadata": {},
     "output_type": "execute_result"
    }
   ],
   "source": [
    "np.log1p(data['Saving']).skew()"
   ]
  },
  {
   "cell_type": "markdown",
   "metadata": {
    "id": "yAqJb_qTQCzA"
   },
   "source": [
    "#### 5.4.5 Using IQR Method"
   ]
  },
  {
   "cell_type": "code",
   "execution_count": 195,
   "metadata": {},
   "outputs": [
    {
     "name": "stdout",
     "output_type": "stream",
     "text": [
      "Rating              4.1\n",
      "Reviews count       7.0\n",
      "Offer price      2999.0\n",
      "Actual price     4999.0\n",
      "Saving            700.0\n",
      "Name: 0.25, dtype: float64\n",
      "Rating               4.6\n",
      "Reviews count     2323.0\n",
      "Offer price      22495.0\n",
      "Actual price     23994.5\n",
      "Saving            4901.0\n",
      "Name: 0.75, dtype: float64\n",
      "Rating               0.5\n",
      "Reviews count     2316.0\n",
      "Offer price      19496.0\n",
      "Actual price     18995.5\n",
      "Saving            4201.0\n",
      "dtype: float64\n"
     ]
    }
   ],
   "source": [
    "Q1=data.quantile(0.25,numeric_only=True)\n",
    "Q3=data.quantile(0.75,numeric_only=True)\n",
    "IQR=Q3-Q1\n",
    "print(Q1)\n",
    "print(Q3)\n",
    "print(IQR)"
   ]
  },
  {
   "cell_type": "code",
   "execution_count": 198,
   "metadata": {},
   "outputs": [
    {
     "data": {
      "image/png": "[encoded data removed]",
      "text/plain": [
       "<Figure size 640x480 with 1 Axes>"
      ]
     },
     "metadata": {},
     "output_type": "display_data"
    },
    {
     "data": {
      "image/png": "[encoded data removed]",
      "text/plain": [
       "<Figure size 640x480 with 1 Axes>"
      ]
     },
     "metadata": {},
     "output_type": "display_data"
    },
    {
     "data": {
      "image/png": "[encoded data removed]",
      "text/plain": [
       "<Figure size 640x480 with 1 Axes>"
      ]
     },
     "metadata": {},
     "output_type": "display_data"
    },
    {
     "data": {
      "image/png": "[encoded data removed]",
      "text/plain": [
       "<Figure size 640x480 with 1 Axes>"
      ]
     },
     "metadata": {},
     "output_type": "display_data"
    },
    {
     "data": {
      "image/png": "[encoded data removed]",
      "text/plain": [
       "<Figure size 640x480 with 1 Axes>"
      ]
     },
     "metadata": {},
     "output_type": "display_data"
    }
   ],
   "source": [
    "data_num=data.select_dtypes(include=np.number)\n",
    "for name,col in data_num.items():\n",
    "    sns.boxplot(data[name])\n",
    "    plt.show()"
   ]
  },
  {
   "cell_type": "markdown",
   "metadata": {
    "id": "vOAnbCldQSKV"
   },
   "source": [
    "#### 5.4.6 Using Capping Technique."
   ]
  },
  {
   "cell_type": "code",
   "execution_count": 197,
   "metadata": {
    "colab": {
     "base_uri": "https://localhost:8080/",
     "height": 282
    },
    "executionInfo": {
     "elapsed": 22,
     "status": "ok",
     "timestamp": 1665620765190,
     "user": {
      "displayName": "V. Arun Kumar",
      "userId": "02991517788843717529"
     },
     "user_tz": -330
    },
    "id": "V7jUIZOdQSKV",
    "outputId": "de12e3c2-f9f4-4f9c-dbae-dafb1e9e2c42"
   },
   "outputs": [],
   "source": [
    "data_num=data.select_dtypes(include=np.number)\n",
    "for name,col in data_num.items():\n",
    "    q1=col.quantile(0.25)\n",
    "    q3=col.quantile(0.75)\n",
    "    iqr=q3-q1\n",
    "    lower_whisker=q1-1.5*iqr\n",
    "    upper_whisker=q3+1.5*iqr\n",
    "    data[name]=np.where(col>upper_whisker,upper_whisker,col)\n",
    "    data[name]=np.where(data[name]<lower_whisker,lower_whisker,data[name])\n"
   ]
  },
  {
   "cell_type": "code",
   "execution_count": 199,
   "metadata": {},
   "outputs": [
    {
     "data": {
      "text/plain": [
       "Rating           0.907410\n",
       "Reviews count    1.134175\n",
       "Offer price      1.086881\n",
       "Actual price     0.972874\n",
       "Saving           1.219457\n",
       "dtype: float64"
      ]
     },
     "execution_count": 199,
     "metadata": {},
     "output_type": "execute_result"
    }
   ],
   "source": [
    "data.skew(numeric_only=True)"
   ]
  },
  {
   "cell_type": "code",
   "execution_count": 200,
   "metadata": {},
   "outputs": [
    {
     "data": {
      "text/html": [
       "<div>\n",
       "<style scoped>\n",
       "    .dataframe tbody tr th:only-of-type {\n",
       "        vertical-align: middle;\n",
       "    }\n",
       "\n",
       "    .dataframe tbody tr th {\n",
       "        vertical-align: top;\n",
       "    }\n",
       "\n",
       "    .dataframe thead th {\n",
       "        text-align: right;\n",
       "    }\n",
       "</style>\n",
       "<table border=\"1\" class=\"dataframe\">\n",
       "  <thead>\n",
       "    <tr style=\"text-align: right;\">\n",
       "      <th></th>\n",
       "      <th>Rating</th>\n",
       "      <th>Reviews count</th>\n",
       "      <th>Offer price</th>\n",
       "      <th>Actual price</th>\n",
       "      <th>Saving</th>\n",
       "    </tr>\n",
       "  </thead>\n",
       "  <tbody>\n",
       "    <tr>\n",
       "      <th>Rating</th>\n",
       "      <td>0.105693</td>\n",
       "      <td>-1.716793e+02</td>\n",
       "      <td>3.885722e+02</td>\n",
       "      <td>1.781257e+02</td>\n",
       "      <td>-9.142484e+00</td>\n",
       "    </tr>\n",
       "    <tr>\n",
       "      <th>Reviews count</th>\n",
       "      <td>-171.679285</td>\n",
       "      <td>4.989908e+06</td>\n",
       "      <td>6.425504e+06</td>\n",
       "      <td>4.963374e+06</td>\n",
       "      <td>-8.898279e+04</td>\n",
       "    </tr>\n",
       "    <tr>\n",
       "      <th>Offer price</th>\n",
       "      <td>388.572246</td>\n",
       "      <td>6.425504e+06</td>\n",
       "      <td>2.615210e+08</td>\n",
       "      <td>2.346680e+08</td>\n",
       "      <td>4.421348e+07</td>\n",
       "    </tr>\n",
       "    <tr>\n",
       "      <th>Actual price</th>\n",
       "      <td>178.125688</td>\n",
       "      <td>4.963374e+06</td>\n",
       "      <td>2.346680e+08</td>\n",
       "      <td>2.497672e+08</td>\n",
       "      <td>4.963750e+07</td>\n",
       "    </tr>\n",
       "    <tr>\n",
       "      <th>Saving</th>\n",
       "      <td>-9.142484</td>\n",
       "      <td>-8.898279e+04</td>\n",
       "      <td>4.421348e+07</td>\n",
       "      <td>4.963750e+07</td>\n",
       "      <td>1.129247e+07</td>\n",
       "    </tr>\n",
       "  </tbody>\n",
       "</table>\n",
       "</div>"
      ],
      "text/plain": [
       "                   Rating  Reviews count   Offer price  Actual price  \\\n",
       "Rating           0.105693  -1.716793e+02  3.885722e+02  1.781257e+02   \n",
       "Reviews count -171.679285   4.989908e+06  6.425504e+06  4.963374e+06   \n",
       "Offer price    388.572246   6.425504e+06  2.615210e+08  2.346680e+08   \n",
       "Actual price   178.125688   4.963374e+06  2.346680e+08  2.497672e+08   \n",
       "Saving          -9.142484  -8.898279e+04  4.421348e+07  4.963750e+07   \n",
       "\n",
       "                     Saving  \n",
       "Rating        -9.142484e+00  \n",
       "Reviews count -8.898279e+04  \n",
       "Offer price    4.421348e+07  \n",
       "Actual price   4.963750e+07  \n",
       "Saving         1.129247e+07  "
      ]
     },
     "execution_count": 200,
     "metadata": {},
     "output_type": "execute_result"
    }
   ],
   "source": [
    "data.cov(numeric_only=True)"
   ]
  },
  {
   "cell_type": "code",
   "execution_count": 201,
   "metadata": {},
   "outputs": [
    {
     "data": {
      "text/html": [
       "<div>\n",
       "<style scoped>\n",
       "    .dataframe tbody tr th:only-of-type {\n",
       "        vertical-align: middle;\n",
       "    }\n",
       "\n",
       "    .dataframe tbody tr th {\n",
       "        vertical-align: top;\n",
       "    }\n",
       "\n",
       "    .dataframe thead th {\n",
       "        text-align: right;\n",
       "    }\n",
       "</style>\n",
       "<table border=\"1\" class=\"dataframe\">\n",
       "  <thead>\n",
       "    <tr style=\"text-align: right;\">\n",
       "      <th></th>\n",
       "      <th>Rating</th>\n",
       "      <th>Reviews count</th>\n",
       "      <th>Offer price</th>\n",
       "      <th>Actual price</th>\n",
       "      <th>Saving</th>\n",
       "    </tr>\n",
       "  </thead>\n",
       "  <tbody>\n",
       "    <tr>\n",
       "      <th>Rating</th>\n",
       "      <td>1.000000</td>\n",
       "      <td>-0.236400</td>\n",
       "      <td>0.073909</td>\n",
       "      <td>0.034668</td>\n",
       "      <td>-0.008091</td>\n",
       "    </tr>\n",
       "    <tr>\n",
       "      <th>Reviews count</th>\n",
       "      <td>-0.236400</td>\n",
       "      <td>1.000000</td>\n",
       "      <td>0.177872</td>\n",
       "      <td>0.140593</td>\n",
       "      <td>-0.012217</td>\n",
       "    </tr>\n",
       "    <tr>\n",
       "      <th>Offer price</th>\n",
       "      <td>0.073909</td>\n",
       "      <td>0.177872</td>\n",
       "      <td>1.000000</td>\n",
       "      <td>0.918191</td>\n",
       "      <td>0.761942</td>\n",
       "    </tr>\n",
       "    <tr>\n",
       "      <th>Actual price</th>\n",
       "      <td>0.034668</td>\n",
       "      <td>0.140593</td>\n",
       "      <td>0.918191</td>\n",
       "      <td>1.000000</td>\n",
       "      <td>0.819573</td>\n",
       "    </tr>\n",
       "    <tr>\n",
       "      <th>Saving</th>\n",
       "      <td>-0.008091</td>\n",
       "      <td>-0.012217</td>\n",
       "      <td>0.761942</td>\n",
       "      <td>0.819573</td>\n",
       "      <td>1.000000</td>\n",
       "    </tr>\n",
       "  </tbody>\n",
       "</table>\n",
       "</div>"
      ],
      "text/plain": [
       "                 Rating  Reviews count  Offer price  Actual price    Saving\n",
       "Rating         1.000000      -0.236400     0.073909      0.034668 -0.008091\n",
       "Reviews count -0.236400       1.000000     0.177872      0.140593 -0.012217\n",
       "Offer price    0.073909       0.177872     1.000000      0.918191  0.761942\n",
       "Actual price   0.034668       0.140593     0.918191      1.000000  0.819573\n",
       "Saving        -0.008091      -0.012217     0.761942      0.819573  1.000000"
      ]
     },
     "execution_count": 201,
     "metadata": {},
     "output_type": "execute_result"
    }
   ],
   "source": [
    "data.corr(numeric_only=True)"
   ]
  },
  {
   "cell_type": "code",
   "execution_count": 203,
   "metadata": {},
   "outputs": [
    {
     "data": {
      "image/png": "[encoded data removed]",
      "text/plain": [
       "<Figure size 640x480 with 2 Axes>"
      ]
     },
     "metadata": {},
     "output_type": "display_data"
    }
   ],
   "source": [
    "sns.heatmap(data.corr(numeric_only=True),annot=True,fmt='.2f',cmap='cubehelix')\n",
    "plt.show()"
   ]
  },
  {
   "cell_type": "markdown",
   "metadata": {
    "id": "EJ65_OX9Rmp-"
   },
   "source": [
    "# Happy Learning :)"
   ]
  }
 ],
 "metadata": {
  "colab": {
   "collapsed_sections": [],
   "provenance": []
  },
  "kernelspec": {
   "display_name": "Python 3 (ipykernel)",
   "language": "python",
   "name": "python3"
  },
  "language_info": {
   "codemirror_mode": {
    "name": "ipython",
    "version": 3
   },
   "file_extension": ".py",
   "mimetype": "text/x-python",
   "name": "python",
   "nbconvert_exporter": "python",
   "pygments_lexer": "ipython3",
   "version": "3.11.5"
  }
 },
 "nbformat": 4,
 "nbformat_minor": 1
}
