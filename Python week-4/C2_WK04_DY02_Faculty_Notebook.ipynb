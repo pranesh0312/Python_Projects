{
 "cells": [
  {
   "cell_type": "markdown",
   "metadata": {
    "id": "SMvjE2BfnveG"
   },
   "source": [
    "![GL_Logo_new_1.png](data:image/png;base64,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)\n",
    "\n",
    "Proprietary content. © Great Learning. All Rights Reserved. Unauthorized use or distribution prohibited."
   ]
  },
  {
   "cell_type": "markdown",
   "metadata": {
    "id": "Y_0X8M-EKZno"
   },
   "source": [
    "# <font color='blue'>Table of Contents</font>\n",
    "- <font color='green'>Introduction to Visualisation Libraries</font>\n",
    "- <font color='green'>**[Plots using Seaborn](#seaborn)**</font>\n",
    "    - <font color='green'>**[Strip plot](#stripplot)**</font>\n",
    "    - <font color='green'>**[Swarn plot](#swarnplot)**</font>\n",
    "    - <font color='green'>**[Violin plot](#violinplot)**</font>\n",
    "    - <font color='green'>**[Pair plot](#pairplot)**</font>\n",
    "    - <font color='green'>**[Distribution plot](#distributionplot)**</font>\n",
    "    - <font color='green'>**[Count plot](#countplot)**</font>\n",
    "    - <font color='green'>**[Heat Map](#heatmap)**</font>\n",
    "\n",
    "\n",
    "**There are different visualization libraries in python, that provides an interface for drawing various graphics. Some most widely used libraries are Matplotlib, Seaborn, and Plotly.**"
   ]
  },
  {
   "cell_type": "markdown",
   "metadata": {
    "id": "vwmjGIhsKZnt"
   },
   "source": [
    "### <font color='green'>Import the required libraries</font>"
   ]
  },
  {
   "cell_type": "code",
   "execution_count": null,
   "metadata": {
    "id": "WKGuwUiGKZnu"
   },
   "outputs": [],
   "source": [
    "import pandas as pd\n",
    "import matplotlib.pyplot as plt\n",
    "import seaborn as sns\n",
    "\n",
    "\n",
    "# to suppress warnings\n",
    "import warnings\n",
    "warnings.filterwarnings('ignore')"
   ]
  },
  {
   "cell_type": "markdown",
   "metadata": {
    "id": "xFKMIdRSKZnv"
   },
   "source": [
    "***Seaborn library provides a variety of datasets. Plot different visualization plots using various libraries for the 'tips' dataset.***"
   ]
  },
  {
   "cell_type": "code",
   "execution_count": null,
   "metadata": {
    "id": "BceH7Z4vKZnw",
    "outputId": "8c19948e-8a6e-41e6-c564-553b19895c97"
   },
   "outputs": [
    {
     "data": {
      "text/html": [
       "<div>\n",
       "<style scoped>\n",
       "    .dataframe tbody tr th:only-of-type {\n",
       "        vertical-align: middle;\n",
       "    }\n",
       "\n",
       "    .dataframe tbody tr th {\n",
       "        vertical-align: top;\n",
       "    }\n",
       "\n",
       "    .dataframe thead th {\n",
       "        text-align: right;\n",
       "    }\n",
       "</style>\n",
       "<table border=\"1\" class=\"dataframe\">\n",
       "  <thead>\n",
       "    <tr style=\"text-align: right;\">\n",
       "      <th></th>\n",
       "      <th>total_bill</th>\n",
       "      <th>tip</th>\n",
       "      <th>sex</th>\n",
       "      <th>smoker</th>\n",
       "      <th>day</th>\n",
       "      <th>time</th>\n",
       "      <th>size</th>\n",
       "    </tr>\n",
       "  </thead>\n",
       "  <tbody>\n",
       "    <tr>\n",
       "      <th>0</th>\n",
       "      <td>16.99</td>\n",
       "      <td>1.01</td>\n",
       "      <td>Female</td>\n",
       "      <td>No</td>\n",
       "      <td>Sun</td>\n",
       "      <td>Dinner</td>\n",
       "      <td>2</td>\n",
       "    </tr>\n",
       "    <tr>\n",
       "      <th>1</th>\n",
       "      <td>10.34</td>\n",
       "      <td>1.66</td>\n",
       "      <td>Male</td>\n",
       "      <td>No</td>\n",
       "      <td>Sun</td>\n",
       "      <td>Dinner</td>\n",
       "      <td>3</td>\n",
       "    </tr>\n",
       "    <tr>\n",
       "      <th>2</th>\n",
       "      <td>21.01</td>\n",
       "      <td>3.50</td>\n",
       "      <td>Male</td>\n",
       "      <td>No</td>\n",
       "      <td>Sun</td>\n",
       "      <td>Dinner</td>\n",
       "      <td>3</td>\n",
       "    </tr>\n",
       "    <tr>\n",
       "      <th>3</th>\n",
       "      <td>23.68</td>\n",
       "      <td>3.31</td>\n",
       "      <td>Male</td>\n",
       "      <td>No</td>\n",
       "      <td>Sun</td>\n",
       "      <td>Dinner</td>\n",
       "      <td>2</td>\n",
       "    </tr>\n",
       "    <tr>\n",
       "      <th>4</th>\n",
       "      <td>24.59</td>\n",
       "      <td>3.61</td>\n",
       "      <td>Female</td>\n",
       "      <td>No</td>\n",
       "      <td>Sun</td>\n",
       "      <td>Dinner</td>\n",
       "      <td>4</td>\n",
       "    </tr>\n",
       "  </tbody>\n",
       "</table>\n",
       "</div>"
      ],
      "text/plain": [
       "   total_bill   tip     sex smoker  day    time  size\n",
       "0       16.99  1.01  Female     No  Sun  Dinner     2\n",
       "1       10.34  1.66    Male     No  Sun  Dinner     3\n",
       "2       21.01  3.50    Male     No  Sun  Dinner     3\n",
       "3       23.68  3.31    Male     No  Sun  Dinner     2\n",
       "4       24.59  3.61  Female     No  Sun  Dinner     4"
      ]
     },
     "execution_count": 3,
     "metadata": {},
     "output_type": "execute_result"
    }
   ],
   "source": [
    "# load the 'tips' dataset from seaborn\n",
    "tips_data = sns.load_dataset('tips')\n",
    "\n",
    "# display head() of the dataset\n",
    "tips_data.head()"
   ]
  },
  {
   "cell_type": "markdown",
   "metadata": {
    "id": "JAZbC8U2KZoB"
   },
   "source": [
    "<a id=\"seaborn\"> </a>\n",
    "### <font color='green'>2. Plots using Seaborn</font>\n",
    "<table align=\"left\">\n",
    "    <tr>\n",
    "        <td>\n",
    "            <div align=\"left\", style=\"font-size:120%\">\n",
    "                <font size=3>\n",
    "                    <b> Seaborn is a Python visualization library based on matplotlib. The library provides a high-level interface for plotting statistical graphics. As the library uses matplotlib in the backend, we can use the functions in matplotlib along with functions in seaborn.<br><br>\n",
    "Various functions in the seaborn library allow us to plot complex and advance statistical plots like linear/higher-order regression, univariate/multivariate distribution, violin, swarm, strip plots, correlations and so on.\n",
    "                    </b>\n",
    "                </font>\n",
    "            </div>\n",
    "        </td>\n",
    "    </tr>\n",
    "</table>"
   ]
  },
  {
   "cell_type": "markdown",
   "metadata": {
    "id": "FKNIF5cTKZoB"
   },
   "source": [
    "<font color='blue'>***How to install Seaborn?***</font><br>\n",
    "1. You can use-<br>`!pip install seaborn`<br>"
   ]
  },
  {
   "cell_type": "markdown",
   "metadata": {
    "id": "Um7HAZtTKZoC"
   },
   "source": [
    "<a id=\"stripplot\"> </a>\n",
    "### <font color='green'>2.1 Strip Plot</font>\n",
    "<table align=\"left\">\n",
    "    <tr>\n",
    "        <td>\n",
    "            <div align=\"left\", style=\"font-size:120%\">\n",
    "                <font size=3>\n",
    "                    <b>The strip plot resembles a scatterplot when one variable is categorical. This plot can help study the underlying distribution. </b>\n",
    "                </font>\n",
    "            </div>\n",
    "        </td>\n",
    "    </tr>\n",
    "</table>\n",
    "\n"
   ]
  },
  {
   "cell_type": "code",
   "execution_count": null,
   "metadata": {
    "id": "kuZZcEvaKZoC",
    "outputId": "7e3cbe15-faad-4238-e621-d8c61b22ffad"
   },
   "outputs": [
    {
     "data": {
      "text/html": [
       "<div>\n",
       "<style scoped>\n",
       "    .dataframe tbody tr th:only-of-type {\n",
       "        vertical-align: middle;\n",
       "    }\n",
       "\n",
       "    .dataframe tbody tr th {\n",
       "        vertical-align: top;\n",
       "    }\n",
       "\n",
       "    .dataframe thead th {\n",
       "        text-align: right;\n",
       "    }\n",
       "</style>\n",
       "<table border=\"1\" class=\"dataframe\">\n",
       "  <thead>\n",
       "    <tr style=\"text-align: right;\">\n",
       "      <th></th>\n",
       "      <th>total_bill</th>\n",
       "      <th>tip</th>\n",
       "      <th>sex</th>\n",
       "      <th>smoker</th>\n",
       "      <th>day</th>\n",
       "      <th>time</th>\n",
       "      <th>size</th>\n",
       "    </tr>\n",
       "  </thead>\n",
       "  <tbody>\n",
       "    <tr>\n",
       "      <th>0</th>\n",
       "      <td>16.99</td>\n",
       "      <td>1.01</td>\n",
       "      <td>Female</td>\n",
       "      <td>No</td>\n",
       "      <td>Sun</td>\n",
       "      <td>Dinner</td>\n",
       "      <td>2</td>\n",
       "    </tr>\n",
       "    <tr>\n",
       "      <th>1</th>\n",
       "      <td>10.34</td>\n",
       "      <td>1.66</td>\n",
       "      <td>Male</td>\n",
       "      <td>No</td>\n",
       "      <td>Sun</td>\n",
       "      <td>Dinner</td>\n",
       "      <td>3</td>\n",
       "    </tr>\n",
       "    <tr>\n",
       "      <th>2</th>\n",
       "      <td>21.01</td>\n",
       "      <td>3.50</td>\n",
       "      <td>Male</td>\n",
       "      <td>No</td>\n",
       "      <td>Sun</td>\n",
       "      <td>Dinner</td>\n",
       "      <td>3</td>\n",
       "    </tr>\n",
       "    <tr>\n",
       "      <th>3</th>\n",
       "      <td>23.68</td>\n",
       "      <td>3.31</td>\n",
       "      <td>Male</td>\n",
       "      <td>No</td>\n",
       "      <td>Sun</td>\n",
       "      <td>Dinner</td>\n",
       "      <td>2</td>\n",
       "    </tr>\n",
       "    <tr>\n",
       "      <th>4</th>\n",
       "      <td>24.59</td>\n",
       "      <td>3.61</td>\n",
       "      <td>Female</td>\n",
       "      <td>No</td>\n",
       "      <td>Sun</td>\n",
       "      <td>Dinner</td>\n",
       "      <td>4</td>\n",
       "    </tr>\n",
       "  </tbody>\n",
       "</table>\n",
       "</div>"
      ],
      "text/plain": [
       "   total_bill   tip     sex smoker  day    time  size\n",
       "0       16.99  1.01  Female     No  Sun  Dinner     2\n",
       "1       10.34  1.66    Male     No  Sun  Dinner     3\n",
       "2       21.01  3.50    Male     No  Sun  Dinner     3\n",
       "3       23.68  3.31    Male     No  Sun  Dinner     2\n",
       "4       24.59  3.61  Female     No  Sun  Dinner     4"
      ]
     },
     "execution_count": 4,
     "metadata": {},
     "output_type": "execute_result"
    }
   ],
   "source": [
    "# check the head() of the tips dataset\n",
    "tips_data.head()"
   ]
  },
  {
   "cell_type": "markdown",
   "metadata": {
    "id": "NrlvqRnlKZoC"
   },
   "source": [
    "### <font color='blue'>Plot a strip plot to check the relationship between the variables 'tip' and 'time'</font>"
   ]
  },
  {
   "cell_type": "code",
   "execution_count": null,
   "metadata": {
    "id": "ud5jb8nNKZoC",
    "outputId": "31e18273-4854-4791-b5b8-e75bbe7b738d"
   },
   "outputs": [
    {
     "data": {
      "image/png": "[encoded data removed]",
      "text/plain": [
       "<Figure size 432x288 with 1 Axes>"
      ]
     },
     "metadata": {
      "needs_background": "light"
     },
     "output_type": "display_data"
    }
   ],
   "source": [
    "# strip plot\n",
    "sns.stripplot(y = 'tip', x = 'time', data = tips_data)\n",
    "\n",
    "# display the plot\n",
    "plt.show()"
   ]
  },
  {
   "cell_type": "markdown",
   "metadata": {
    "id": "saZhPKvDKZoD"
   },
   "source": [
    "<font color='blue'>***Observations***</font>\n",
    "- It can be seen that the tip amount is more at dinner time than at lunchtime. But the above plot is unable to display the spread of the data. We can plot the points with spread using the 'jitter' parameter in the stripplot function.\n",
    "-----"
   ]
  },
  {
   "cell_type": "code",
   "execution_count": null,
   "metadata": {
    "id": "5lfY8vPtKZoD",
    "outputId": "3d52030f-b2ae-4094-8076-8982e5dd9712"
   },
   "outputs": [
    {
     "data": {
      "image/png": "[encoded data removed]",
      "text/plain": [
       "<Figure size 432x288 with 1 Axes>"
      ]
     },
     "metadata": {
      "needs_background": "light"
     },
     "output_type": "display_data"
    }
   ],
   "source": [
    "# strip plot with jitter to spread the points\n",
    "sns.stripplot(y = 'tip', x = 'time', data = tips_data, jitter = True)\n",
    "\n",
    "# display the plot\n",
    "plt.show()"
   ]
  },
  {
   "cell_type": "markdown",
   "metadata": {
    "id": "aPp67ls3KZoD"
   },
   "source": [
    "<font color='blue'>***Observations***</font>\n",
    "- The plot shows that for most of the observations the tip amount is in the range 1 to 3 irrespective of the time. \n",
    "-----"
   ]
  },
  {
   "cell_type": "markdown",
   "metadata": {
    "id": "UfCBB6V-KZoE"
   },
   "source": [
    "<a id=\"swarnplot\"> </a>\n",
    "### <font color='green'>2.2 Swarm Plot</font>\n",
    "<table align=\"left\">\n",
    "    <tr>\n",
    "        <td>\n",
    "            <div align=\"left\", style=\"font-size:120%\">\n",
    "                <font size=3>\n",
    "                    <b>The swarm plot is similar to the strip plot but it avoids the overlapping of the points. This can give a better representation of the distribution of the data.  </b>\n",
    "                </font>\n",
    "            </div>\n",
    "        </td>\n",
    "    </tr>\n",
    "</table>\n",
    "\n"
   ]
  },
  {
   "cell_type": "code",
   "execution_count": null,
   "metadata": {
    "id": "BsqkwxhcKZoE",
    "outputId": "de1bb881-2f5f-4467-9922-7a03e225b72d"
   },
   "outputs": [
    {
     "data": {
      "text/html": [
       "<div>\n",
       "<style scoped>\n",
       "    .dataframe tbody tr th:only-of-type {\n",
       "        vertical-align: middle;\n",
       "    }\n",
       "\n",
       "    .dataframe tbody tr th {\n",
       "        vertical-align: top;\n",
       "    }\n",
       "\n",
       "    .dataframe thead th {\n",
       "        text-align: right;\n",
       "    }\n",
       "</style>\n",
       "<table border=\"1\" class=\"dataframe\">\n",
       "  <thead>\n",
       "    <tr style=\"text-align: right;\">\n",
       "      <th></th>\n",
       "      <th>total_bill</th>\n",
       "      <th>tip</th>\n",
       "      <th>sex</th>\n",
       "      <th>smoker</th>\n",
       "      <th>day</th>\n",
       "      <th>time</th>\n",
       "      <th>size</th>\n",
       "    </tr>\n",
       "  </thead>\n",
       "  <tbody>\n",
       "    <tr>\n",
       "      <th>0</th>\n",
       "      <td>16.99</td>\n",
       "      <td>1.01</td>\n",
       "      <td>Female</td>\n",
       "      <td>No</td>\n",
       "      <td>Sun</td>\n",
       "      <td>Dinner</td>\n",
       "      <td>2</td>\n",
       "    </tr>\n",
       "    <tr>\n",
       "      <th>1</th>\n",
       "      <td>10.34</td>\n",
       "      <td>1.66</td>\n",
       "      <td>Male</td>\n",
       "      <td>No</td>\n",
       "      <td>Sun</td>\n",
       "      <td>Dinner</td>\n",
       "      <td>3</td>\n",
       "    </tr>\n",
       "    <tr>\n",
       "      <th>2</th>\n",
       "      <td>21.01</td>\n",
       "      <td>3.50</td>\n",
       "      <td>Male</td>\n",
       "      <td>No</td>\n",
       "      <td>Sun</td>\n",
       "      <td>Dinner</td>\n",
       "      <td>3</td>\n",
       "    </tr>\n",
       "    <tr>\n",
       "      <th>3</th>\n",
       "      <td>23.68</td>\n",
       "      <td>3.31</td>\n",
       "      <td>Male</td>\n",
       "      <td>No</td>\n",
       "      <td>Sun</td>\n",
       "      <td>Dinner</td>\n",
       "      <td>2</td>\n",
       "    </tr>\n",
       "    <tr>\n",
       "      <th>4</th>\n",
       "      <td>24.59</td>\n",
       "      <td>3.61</td>\n",
       "      <td>Female</td>\n",
       "      <td>No</td>\n",
       "      <td>Sun</td>\n",
       "      <td>Dinner</td>\n",
       "      <td>4</td>\n",
       "    </tr>\n",
       "  </tbody>\n",
       "</table>\n",
       "</div>"
      ],
      "text/plain": [
       "   total_bill   tip     sex smoker  day    time  size\n",
       "0       16.99  1.01  Female     No  Sun  Dinner     2\n",
       "1       10.34  1.66    Male     No  Sun  Dinner     3\n",
       "2       21.01  3.50    Male     No  Sun  Dinner     3\n",
       "3       23.68  3.31    Male     No  Sun  Dinner     2\n",
       "4       24.59  3.61  Female     No  Sun  Dinner     4"
      ]
     },
     "execution_count": 7,
     "metadata": {},
     "output_type": "execute_result"
    }
   ],
   "source": [
    "# check the head() of the tips dataset\n",
    "tips_data.head()"
   ]
  },
  {
   "cell_type": "markdown",
   "metadata": {
    "id": "vkf2K27OKZoE"
   },
   "source": [
    "### <font color='blue'>Plot the swarm plot for the variables 'tip' and 'time'. </font>"
   ]
  },
  {
   "cell_type": "code",
   "execution_count": null,
   "metadata": {
    "id": "Uvn8n5Z3KZoE",
    "outputId": "0332b27c-e89c-4ac7-931d-f3b51f1bd409"
   },
   "outputs": [
    {
     "data": {
      "image/png": "[encoded data removed]",
      "text/plain": [
       "<Figure size 432x288 with 1 Axes>"
      ]
     },
     "metadata": {
      "needs_background": "light"
     },
     "output_type": "display_data"
    }
   ],
   "source": [
    "# swarm plot\n",
    "sns.swarmplot(y = 'tip', x = 'time', data = tips_data)\n",
    "\n",
    "# display the plot\n",
    "plt.show()"
   ]
  },
  {
   "cell_type": "markdown",
   "metadata": {
    "id": "wh-2etTnKZoF"
   },
   "source": [
    "<font color='blue'>***Observations***</font>\n",
    "- The above plot gives a good representation of the tip amount for the time. \n",
    "- It can be seen that the tip amount is 2 for most of the observations. \n",
    "- We can see that the swarm plot gives a better understanding of the variables than the strip plot.  \n",
    "- We can add another categorical variable in the above plot by using a parameter 'hue'. \n",
    "\n",
    "--------"
   ]
  },
  {
   "cell_type": "code",
   "execution_count": null,
   "metadata": {
    "id": "hSmLe04TKZoF",
    "outputId": "1a57520c-fc08-4d64-941b-342c05103fae"
   },
   "outputs": [
    {
     "data": {
      "image/png": "[encoded data removed]",
      "text/plain": [
       "<Figure size 432x288 with 1 Axes>"
      ]
     },
     "metadata": {
      "needs_background": "light"
     },
     "output_type": "display_data"
    }
   ],
   "source": [
    "# swarm plot with one more categorical variable 'day'\n",
    "sns.swarmplot(y = 'tip', x = 'time', data = tips_data, hue = 'day')\n",
    "\n",
    "# display the plot\n",
    "plt.show()"
   ]
  },
  {
   "cell_type": "markdown",
   "metadata": {
    "id": "HTM1xRx1KZoF"
   },
   "source": [
    "<font color='blue'>***Observations***</font>\n",
    "- The plot shows that the tip was collected at lunchtime only on Thursday and Friday. The amount of tips collected at dinner time on Saturday is the highest.\n",
    "-----"
   ]
  },
  {
   "cell_type": "markdown",
   "metadata": {
    "id": "uGCOsICxKZoG"
   },
   "source": [
    "<a id=\"violinplot\"> </a>\n",
    "### <font color='green'>2.3 Violin Plot</font>\n",
    "<table align=\"left\">\n",
    "    <tr>\n",
    "        <td>\n",
    "            <div align=\"left\", style=\"font-size:120%\">\n",
    "                <font size=3>\n",
    "                    <b>The violin plot is similar to a box plot that features a kernel density estimation of the underlying distribution. The plot shows the distribution of numerical variables across categories of one (or more) categorical variables such that those distributions can be compared.</b>\n",
    "                </font>\n",
    "            </div>\n",
    "        </td>\n",
    "    </tr>\n",
    "</table>\n",
    "\n"
   ]
  },
  {
   "cell_type": "code",
   "execution_count": null,
   "metadata": {
    "id": "66flHthCKZoG",
    "outputId": "92bada0f-5876-47e6-91c9-17140e3cc78b"
   },
   "outputs": [
    {
     "data": {
      "text/html": [
       "<div>\n",
       "<style scoped>\n",
       "    .dataframe tbody tr th:only-of-type {\n",
       "        vertical-align: middle;\n",
       "    }\n",
       "\n",
       "    .dataframe tbody tr th {\n",
       "        vertical-align: top;\n",
       "    }\n",
       "\n",
       "    .dataframe thead th {\n",
       "        text-align: right;\n",
       "    }\n",
       "</style>\n",
       "<table border=\"1\" class=\"dataframe\">\n",
       "  <thead>\n",
       "    <tr style=\"text-align: right;\">\n",
       "      <th></th>\n",
       "      <th>total_bill</th>\n",
       "      <th>tip</th>\n",
       "      <th>sex</th>\n",
       "      <th>smoker</th>\n",
       "      <th>day</th>\n",
       "      <th>time</th>\n",
       "      <th>size</th>\n",
       "    </tr>\n",
       "  </thead>\n",
       "  <tbody>\n",
       "    <tr>\n",
       "      <th>0</th>\n",
       "      <td>16.99</td>\n",
       "      <td>1.01</td>\n",
       "      <td>Female</td>\n",
       "      <td>No</td>\n",
       "      <td>Sun</td>\n",
       "      <td>Dinner</td>\n",
       "      <td>2</td>\n",
       "    </tr>\n",
       "    <tr>\n",
       "      <th>1</th>\n",
       "      <td>10.34</td>\n",
       "      <td>1.66</td>\n",
       "      <td>Male</td>\n",
       "      <td>No</td>\n",
       "      <td>Sun</td>\n",
       "      <td>Dinner</td>\n",
       "      <td>3</td>\n",
       "    </tr>\n",
       "    <tr>\n",
       "      <th>2</th>\n",
       "      <td>21.01</td>\n",
       "      <td>3.50</td>\n",
       "      <td>Male</td>\n",
       "      <td>No</td>\n",
       "      <td>Sun</td>\n",
       "      <td>Dinner</td>\n",
       "      <td>3</td>\n",
       "    </tr>\n",
       "    <tr>\n",
       "      <th>3</th>\n",
       "      <td>23.68</td>\n",
       "      <td>3.31</td>\n",
       "      <td>Male</td>\n",
       "      <td>No</td>\n",
       "      <td>Sun</td>\n",
       "      <td>Dinner</td>\n",
       "      <td>2</td>\n",
       "    </tr>\n",
       "    <tr>\n",
       "      <th>4</th>\n",
       "      <td>24.59</td>\n",
       "      <td>3.61</td>\n",
       "      <td>Female</td>\n",
       "      <td>No</td>\n",
       "      <td>Sun</td>\n",
       "      <td>Dinner</td>\n",
       "      <td>4</td>\n",
       "    </tr>\n",
       "  </tbody>\n",
       "</table>\n",
       "</div>"
      ],
      "text/plain": [
       "   total_bill   tip     sex smoker  day    time  size\n",
       "0       16.99  1.01  Female     No  Sun  Dinner     2\n",
       "1       10.34  1.66    Male     No  Sun  Dinner     3\n",
       "2       21.01  3.50    Male     No  Sun  Dinner     3\n",
       "3       23.68  3.31    Male     No  Sun  Dinner     2\n",
       "4       24.59  3.61  Female     No  Sun  Dinner     4"
      ]
     },
     "execution_count": 10,
     "metadata": {},
     "output_type": "execute_result"
    }
   ],
   "source": [
    "# check the head() of the tips dataset\n",
    "tips_data.head()"
   ]
  },
  {
   "cell_type": "markdown",
   "metadata": {
    "id": "XyirUmbtKZoG"
   },
   "source": [
    "### <font color='blue'>Let's draw a violin plot for the numerical variable 'total_bill' and a categorical variable 'day'.</font>"
   ]
  },
  {
   "cell_type": "code",
   "execution_count": null,
   "metadata": {
    "id": "10ewdKK-KZoH",
    "outputId": "c5e86f9d-ab4a-47d8-ff79-819651153ab5"
   },
   "outputs": [
    {
     "data": {
      "image/png": "[encoded data removed]",
      "text/plain": [
       "<Figure size 432x288 with 1 Axes>"
      ]
     },
     "metadata": {
      "needs_background": "light"
     },
     "output_type": "display_data"
    }
   ],
   "source": [
    "# violin plot\n",
    "sns.violinplot(y = 'total_bill', x = 'day', data = tips_data)\n",
    "\n",
    "# display the plot\n",
    "plt.show()"
   ]
  },
  {
   "cell_type": "markdown",
   "metadata": {
    "id": "2G5DrXfwKZoH"
   },
   "source": [
    "<font color='blue'>***Observations***</font>\n",
    "- The above violin plot shows that the total bill distribution is nearly the same for different days. \n",
    "- We can add another categorical variable 'sex' to the above plot to get an insight into the bill amount distribution based on days as well as gender.\n",
    "\n",
    "-------"
   ]
  },
  {
   "cell_type": "code",
   "execution_count": null,
   "metadata": {
    "id": "uIpZufUeKZoH",
    "outputId": "94464955-3852-470b-af59-fc0e6aafc4e6"
   },
   "outputs": [
    {
     "data": {
      "image/png": "[encoded data removed]",
      "text/plain": [
       "<Figure size 576x360 with 1 Axes>"
      ]
     },
     "metadata": {
      "needs_background": "light"
     },
     "output_type": "display_data"
    }
   ],
   "source": [
    "# set the figure size\n",
    "plt.figure(figsize = (8,5))\n",
    "\n",
    "# violin plot with addition of the variable 'sex'  \n",
    "# 'split = True' draws half plot for each of the category of 'sex' \n",
    "sns.violinplot(y = 'total_bill', x = 'day', data = tips_data, hue = 'sex', split = True)\n",
    "\n",
    "# display the plot\n",
    "plt.show()"
   ]
  },
  {
   "cell_type": "markdown",
   "metadata": {
    "id": "pNCmAVmMKZoH"
   },
   "source": [
    "<font color='blue'>***Observations***</font>\n",
    "- There is no significant difference in the distribution of bill amount and sex.\n",
    "-----"
   ]
  },
  {
   "cell_type": "markdown",
   "metadata": {
    "id": "oPqbOzAlKZoI"
   },
   "source": [
    "<a id=\"pariplot\"> </a>\n",
    "### <font color='green'>2.4 Pair Plot</font>\n",
    "<table align=\"left\">\n",
    "    <tr>\n",
    "        <td>\n",
    "            <div align=\"left\", style=\"font-size:120%\">\n",
    "                <font size=3>\n",
    "                    <b>The pair plot gives a pairwise distribution of variables in the dataset. pairplot() function creates a matrix such that each grid shows the relationship between a pair of variables. On the diagonal axes, a plot shows the univariate distribution of each variable.</b>\n",
    "                </font>\n",
    "            </div>\n",
    "        </td>\n",
    "    </tr>\n",
    "</table>\n",
    "\n"
   ]
  },
  {
   "cell_type": "code",
   "execution_count": null,
   "metadata": {
    "id": "1odEA7N2KZoI",
    "outputId": "3b5305d1-a880-4609-a363-4bf1d36545d3"
   },
   "outputs": [
    {
     "data": {
      "text/html": [
       "<div>\n",
       "<style scoped>\n",
       "    .dataframe tbody tr th:only-of-type {\n",
       "        vertical-align: middle;\n",
       "    }\n",
       "\n",
       "    .dataframe tbody tr th {\n",
       "        vertical-align: top;\n",
       "    }\n",
       "\n",
       "    .dataframe thead th {\n",
       "        text-align: right;\n",
       "    }\n",
       "</style>\n",
       "<table border=\"1\" class=\"dataframe\">\n",
       "  <thead>\n",
       "    <tr style=\"text-align: right;\">\n",
       "      <th></th>\n",
       "      <th>total_bill</th>\n",
       "      <th>tip</th>\n",
       "      <th>sex</th>\n",
       "      <th>smoker</th>\n",
       "      <th>day</th>\n",
       "      <th>time</th>\n",
       "      <th>size</th>\n",
       "    </tr>\n",
       "  </thead>\n",
       "  <tbody>\n",
       "    <tr>\n",
       "      <th>0</th>\n",
       "      <td>16.99</td>\n",
       "      <td>1.01</td>\n",
       "      <td>Female</td>\n",
       "      <td>No</td>\n",
       "      <td>Sun</td>\n",
       "      <td>Dinner</td>\n",
       "      <td>2</td>\n",
       "    </tr>\n",
       "    <tr>\n",
       "      <th>1</th>\n",
       "      <td>10.34</td>\n",
       "      <td>1.66</td>\n",
       "      <td>Male</td>\n",
       "      <td>No</td>\n",
       "      <td>Sun</td>\n",
       "      <td>Dinner</td>\n",
       "      <td>3</td>\n",
       "    </tr>\n",
       "    <tr>\n",
       "      <th>2</th>\n",
       "      <td>21.01</td>\n",
       "      <td>3.50</td>\n",
       "      <td>Male</td>\n",
       "      <td>No</td>\n",
       "      <td>Sun</td>\n",
       "      <td>Dinner</td>\n",
       "      <td>3</td>\n",
       "    </tr>\n",
       "    <tr>\n",
       "      <th>3</th>\n",
       "      <td>23.68</td>\n",
       "      <td>3.31</td>\n",
       "      <td>Male</td>\n",
       "      <td>No</td>\n",
       "      <td>Sun</td>\n",
       "      <td>Dinner</td>\n",
       "      <td>2</td>\n",
       "    </tr>\n",
       "    <tr>\n",
       "      <th>4</th>\n",
       "      <td>24.59</td>\n",
       "      <td>3.61</td>\n",
       "      <td>Female</td>\n",
       "      <td>No</td>\n",
       "      <td>Sun</td>\n",
       "      <td>Dinner</td>\n",
       "      <td>4</td>\n",
       "    </tr>\n",
       "  </tbody>\n",
       "</table>\n",
       "</div>"
      ],
      "text/plain": [
       "   total_bill   tip     sex smoker  day    time  size\n",
       "0       16.99  1.01  Female     No  Sun  Dinner     2\n",
       "1       10.34  1.66    Male     No  Sun  Dinner     3\n",
       "2       21.01  3.50    Male     No  Sun  Dinner     3\n",
       "3       23.68  3.31    Male     No  Sun  Dinner     2\n",
       "4       24.59  3.61  Female     No  Sun  Dinner     4"
      ]
     },
     "execution_count": 13,
     "metadata": {},
     "output_type": "execute_result"
    }
   ],
   "source": [
    "# check the head() of the tips dataset\n",
    "tips_data.head()"
   ]
  },
  {
   "cell_type": "markdown",
   "metadata": {
    "id": "uxmvFDeQKZoI"
   },
   "source": [
    "### <font color='blue'>Plot a pair plot for the tips dataset</font>"
   ]
  },
  {
   "cell_type": "code",
   "execution_count": null,
   "metadata": {
    "id": "a13Rs7OEKZoI",
    "outputId": "07d3891e-ddf0-419a-e654-648d2e2573e1"
   },
   "outputs": [
    {
     "data": {
      "text/plain": [
       "<Figure size 576x576 with 0 Axes>"
      ]
     },
     "metadata": {},
     "output_type": "display_data"
    },
    {
     "data": {
      "image/png": "[encoded data removed]",
      "text/plain": [
       "<Figure size 540x540 with 12 Axes>"
      ]
     },
     "metadata": {
      "needs_background": "light"
     },
     "output_type": "display_data"
    }
   ],
   "source": [
    "# set the figure size\n",
    "plt.figure(figsize = (8,8))\n",
    "\n",
    "# plot a pair plot\n",
    "sns.pairplot(tips_data)\n",
    "\n",
    "# display the plot\n",
    "plt.show()"
   ]
  },
  {
   "cell_type": "markdown",
   "metadata": {
    "id": "AtsJSzUjKZoJ"
   },
   "source": [
    "<font color='blue'>***Observations***</font>\n",
    "- The above plot shows the relationship between all the numerical variables. \n",
    "- 'total_bill' and 'tip' has a positive linear relationship with each other. \n",
    "- Also, 'total_bill' and 'tip' are positively skewed. \n",
    "- 'size' has a significant impact on the 'total_bill', as the minimum bill amount is increasing with an increasing number of customers (size).\n",
    "\n",
    "-----"
   ]
  },
  {
   "cell_type": "markdown",
   "metadata": {
    "id": "Yji9TbHSKZoJ"
   },
   "source": [
    "<a id=\"distributionplott\"> </a>\n",
    "### <font color='green'>2.5 Distribution Plot</font>\n",
    "<table align=\"left\">\n",
    "    <tr>\n",
    "        <td>\n",
    "            <div align=\"left\", style=\"font-size:120%\">\n",
    "                <font size=3>\n",
    "                    <b>A seaborn provides a distplot() function which is used to visualize a distribution of the univariate variable. This function uses matplotlib to plot a histogram and fit a kernel density estimate (KDE).\n",
    " </b>\n",
    "                </font>\n",
    "            </div>\n",
    "        </td>\n",
    "    </tr>\n",
    "</table>\n",
    "\n"
   ]
  },
  {
   "cell_type": "code",
   "execution_count": null,
   "metadata": {
    "id": "wfTgNHPzKZoJ",
    "outputId": "a8b08ca0-c681-4446-c50f-49addf4e7b44"
   },
   "outputs": [
    {
     "data": {
      "text/html": [
       "<div>\n",
       "<style scoped>\n",
       "    .dataframe tbody tr th:only-of-type {\n",
       "        vertical-align: middle;\n",
       "    }\n",
       "\n",
       "    .dataframe tbody tr th {\n",
       "        vertical-align: top;\n",
       "    }\n",
       "\n",
       "    .dataframe thead th {\n",
       "        text-align: right;\n",
       "    }\n",
       "</style>\n",
       "<table border=\"1\" class=\"dataframe\">\n",
       "  <thead>\n",
       "    <tr style=\"text-align: right;\">\n",
       "      <th></th>\n",
       "      <th>total_bill</th>\n",
       "      <th>tip</th>\n",
       "      <th>sex</th>\n",
       "      <th>smoker</th>\n",
       "      <th>day</th>\n",
       "      <th>time</th>\n",
       "      <th>size</th>\n",
       "    </tr>\n",
       "  </thead>\n",
       "  <tbody>\n",
       "    <tr>\n",
       "      <th>0</th>\n",
       "      <td>16.99</td>\n",
       "      <td>1.01</td>\n",
       "      <td>Female</td>\n",
       "      <td>No</td>\n",
       "      <td>Sun</td>\n",
       "      <td>Dinner</td>\n",
       "      <td>2</td>\n",
       "    </tr>\n",
       "    <tr>\n",
       "      <th>1</th>\n",
       "      <td>10.34</td>\n",
       "      <td>1.66</td>\n",
       "      <td>Male</td>\n",
       "      <td>No</td>\n",
       "      <td>Sun</td>\n",
       "      <td>Dinner</td>\n",
       "      <td>3</td>\n",
       "    </tr>\n",
       "    <tr>\n",
       "      <th>2</th>\n",
       "      <td>21.01</td>\n",
       "      <td>3.50</td>\n",
       "      <td>Male</td>\n",
       "      <td>No</td>\n",
       "      <td>Sun</td>\n",
       "      <td>Dinner</td>\n",
       "      <td>3</td>\n",
       "    </tr>\n",
       "    <tr>\n",
       "      <th>3</th>\n",
       "      <td>23.68</td>\n",
       "      <td>3.31</td>\n",
       "      <td>Male</td>\n",
       "      <td>No</td>\n",
       "      <td>Sun</td>\n",
       "      <td>Dinner</td>\n",
       "      <td>2</td>\n",
       "    </tr>\n",
       "    <tr>\n",
       "      <th>4</th>\n",
       "      <td>24.59</td>\n",
       "      <td>3.61</td>\n",
       "      <td>Female</td>\n",
       "      <td>No</td>\n",
       "      <td>Sun</td>\n",
       "      <td>Dinner</td>\n",
       "      <td>4</td>\n",
       "    </tr>\n",
       "  </tbody>\n",
       "</table>\n",
       "</div>"
      ],
      "text/plain": [
       "   total_bill   tip     sex smoker  day    time  size\n",
       "0       16.99  1.01  Female     No  Sun  Dinner     2\n",
       "1       10.34  1.66    Male     No  Sun  Dinner     3\n",
       "2       21.01  3.50    Male     No  Sun  Dinner     3\n",
       "3       23.68  3.31    Male     No  Sun  Dinner     2\n",
       "4       24.59  3.61  Female     No  Sun  Dinner     4"
      ]
     },
     "execution_count": 15,
     "metadata": {},
     "output_type": "execute_result"
    }
   ],
   "source": [
    "# check the head() of the tips dataset\n",
    "tips_data.head()"
   ]
  },
  {
   "cell_type": "markdown",
   "metadata": {
    "id": "OzAc6JOEKZoK"
   },
   "source": [
    "### <font color='blue'>Lets plot a distribution plot of 'total_bill' </font>"
   ]
  },
  {
   "cell_type": "code",
   "execution_count": null,
   "metadata": {
    "id": "AfriHveaKZoK",
    "outputId": "c5637804-eb2c-4ad5-b967-c15b9443e374"
   },
   "outputs": [
    {
     "data": {
      "image/png": "[encoded data removed]",
      "text/plain": [
       "<Figure size 432x288 with 1 Axes>"
      ]
     },
     "metadata": {
      "needs_background": "light"
     },
     "output_type": "display_data"
    }
   ],
   "source": [
    "# plot a distribution plot\n",
    "sns.distplot(tips_data['total_bill'])\n",
    "\n",
    "# display the plot\n",
    "plt.show()"
   ]
  },
  {
   "cell_type": "markdown",
   "metadata": {
    "id": "pYme8iKgKZoL"
   },
   "source": [
    "<font color='blue'>***Observations***</font>\n",
    "- We can interpret from the above plot that the total bill amount is between the range 10 to 20 for a large number of observations. \n",
    "- The distribution plot can be used to visualize the total bill for different times of the day.\n",
    "\n",
    "----"
   ]
  },
  {
   "cell_type": "code",
   "execution_count": null,
   "metadata": {
    "id": "E9_Axaf7KZoL",
    "outputId": "0493b2a5-4463-43f5-ccc5-1d9f18421dec"
   },
   "outputs": [
    {
     "data": {
      "image/png": "[encoded data removed]",
      "text/plain": [
       "<Figure size 432x288 with 1 Axes>"
      ]
     },
     "metadata": {
      "needs_background": "light"
     },
     "output_type": "display_data"
    }
   ],
   "source": [
    "# iterate the distplot() function over the time\n",
    "\n",
    "# list of time\n",
    "time = ['Lunch', 'Dinner']\n",
    "\n",
    "# iterate through time\n",
    "for i in time:\n",
    "    subset = tips_data[tips_data['time'] == i]\n",
    "    \n",
    "# Draw the density plot\n",
    "# 'hist = False' will not plot a histogram\n",
    "# 'kde = True' plots density curve\n",
    "    sns.distplot(subset['total_bill'], hist = False, kde = True,\n",
    "                 kde_kws = {'shade':True},\n",
    "                 label = i)"
   ]
  },
  {
   "cell_type": "markdown",
   "metadata": {
    "id": "mLRN-KXKKZoM"
   },
   "source": [
    "<font color='blue'>***Observations***</font>\n",
    "- It can be seen that the distribution plot for lunch is more right-skewed than a plot for dinner. \n",
    "- This implies that the customers are spending more on dinner rather than lunch. \n",
    "\n",
    "----"
   ]
  },
  {
   "cell_type": "markdown",
   "metadata": {
    "id": "46sZJNV-KZoM"
   },
   "source": [
    "<a id=\"countplot\"> </a>\n",
    "### <font color='green'>2.6 Count Plot</font>\n",
    "<table align=\"left\">\n",
    "    <tr>\n",
    "        <td>\n",
    "            <div align=\"left\", style=\"font-size:120%\">\n",
    "                <font size=3>\n",
    "                    <b>Count plot shows the count of observations in each category of a categorical variable. We can add another variable using a parameter 'hue'. </b>\n",
    "                </font>\n",
    "            </div>\n",
    "        </td>\n",
    "    </tr>\n",
    "</table>\n",
    "\n"
   ]
  },
  {
   "cell_type": "code",
   "execution_count": null,
   "metadata": {
    "id": "QNcWUNM3KZoM",
    "outputId": "fbf57de5-c783-4184-9a53-369f3e968b14"
   },
   "outputs": [
    {
     "data": {
      "text/html": [
       "<div>\n",
       "<style scoped>\n",
       "    .dataframe tbody tr th:only-of-type {\n",
       "        vertical-align: middle;\n",
       "    }\n",
       "\n",
       "    .dataframe tbody tr th {\n",
       "        vertical-align: top;\n",
       "    }\n",
       "\n",
       "    .dataframe thead th {\n",
       "        text-align: right;\n",
       "    }\n",
       "</style>\n",
       "<table border=\"1\" class=\"dataframe\">\n",
       "  <thead>\n",
       "    <tr style=\"text-align: right;\">\n",
       "      <th></th>\n",
       "      <th>total_bill</th>\n",
       "      <th>tip</th>\n",
       "      <th>sex</th>\n",
       "      <th>smoker</th>\n",
       "      <th>day</th>\n",
       "      <th>time</th>\n",
       "      <th>size</th>\n",
       "    </tr>\n",
       "  </thead>\n",
       "  <tbody>\n",
       "    <tr>\n",
       "      <th>0</th>\n",
       "      <td>16.99</td>\n",
       "      <td>1.01</td>\n",
       "      <td>Female</td>\n",
       "      <td>No</td>\n",
       "      <td>Sun</td>\n",
       "      <td>Dinner</td>\n",
       "      <td>2</td>\n",
       "    </tr>\n",
       "    <tr>\n",
       "      <th>1</th>\n",
       "      <td>10.34</td>\n",
       "      <td>1.66</td>\n",
       "      <td>Male</td>\n",
       "      <td>No</td>\n",
       "      <td>Sun</td>\n",
       "      <td>Dinner</td>\n",
       "      <td>3</td>\n",
       "    </tr>\n",
       "    <tr>\n",
       "      <th>2</th>\n",
       "      <td>21.01</td>\n",
       "      <td>3.50</td>\n",
       "      <td>Male</td>\n",
       "      <td>No</td>\n",
       "      <td>Sun</td>\n",
       "      <td>Dinner</td>\n",
       "      <td>3</td>\n",
       "    </tr>\n",
       "    <tr>\n",
       "      <th>3</th>\n",
       "      <td>23.68</td>\n",
       "      <td>3.31</td>\n",
       "      <td>Male</td>\n",
       "      <td>No</td>\n",
       "      <td>Sun</td>\n",
       "      <td>Dinner</td>\n",
       "      <td>2</td>\n",
       "    </tr>\n",
       "    <tr>\n",
       "      <th>4</th>\n",
       "      <td>24.59</td>\n",
       "      <td>3.61</td>\n",
       "      <td>Female</td>\n",
       "      <td>No</td>\n",
       "      <td>Sun</td>\n",
       "      <td>Dinner</td>\n",
       "      <td>4</td>\n",
       "    </tr>\n",
       "  </tbody>\n",
       "</table>\n",
       "</div>"
      ],
      "text/plain": [
       "   total_bill   tip     sex smoker  day    time  size\n",
       "0       16.99  1.01  Female     No  Sun  Dinner     2\n",
       "1       10.34  1.66    Male     No  Sun  Dinner     3\n",
       "2       21.01  3.50    Male     No  Sun  Dinner     3\n",
       "3       23.68  3.31    Male     No  Sun  Dinner     2\n",
       "4       24.59  3.61  Female     No  Sun  Dinner     4"
      ]
     },
     "execution_count": 18,
     "metadata": {},
     "output_type": "execute_result"
    }
   ],
   "source": [
    "# check the head() of the tips dataset\n",
    "tips_data.head()"
   ]
  },
  {
   "cell_type": "markdown",
   "metadata": {
    "id": "hSvWAwiSKZoN"
   },
   "source": [
    "### <font color='blue'>Let us plot the count of observations for each day based on time</font>"
   ]
  },
  {
   "cell_type": "code",
   "execution_count": null,
   "metadata": {
    "id": "LzLIwH4_KZoN",
    "outputId": "5bd3c663-7e4c-423f-ef90-f924ef182002"
   },
   "outputs": [
    {
     "data": {
      "image/png": "[encoded data removed]",
      "text/plain": [
       "<Figure size 432x288 with 1 Axes>"
      ]
     },
     "metadata": {
      "needs_background": "light"
     },
     "output_type": "display_data"
    }
   ],
   "source": [
    "# count of observations for each day based on time\n",
    "# set 'time' as hue parameter\n",
    "sns.countplot(data = tips_data, x = 'day', hue = 'time')\n",
    "\n",
    "# display the plot\n",
    "plt.show()"
   ]
  },
  {
   "cell_type": "markdown",
   "metadata": {
    "id": "f0Fug-0tKZoN"
   },
   "source": [
    "<font color='blue'>***Observations***</font>\n",
    "- All the observations recorded on Saturday and Sunday are for dinner. Observations for lunch on Thursday is highest among lunchtime.\n",
    "\n",
    "----"
   ]
  },
  {
   "cell_type": "markdown",
   "metadata": {
    "id": "V1BNZSWzKZoO"
   },
   "source": [
    "<a id=\"heatmap\"> </a>\n",
    "### <font color='green'>2.7 Heatmap</font>\n",
    "<table align=\"left\">\n",
    "    <tr>\n",
    "        <td>\n",
    "            <div align=\"left\", style=\"font-size:120%\">\n",
    "                <font size=3>\n",
    "                    <b> Heatmap is a two-dimensional graphical representation of data where the individual values that are contained in a matrix are represented as colors. Each square in the heatmap shows the correlation between variables on each axis.<br> Correlation is a statistic that measures the degree to which two variables move with each other. </b>\n",
    "                </font>\n",
    "            </div>\n",
    "        </td>\n",
    "    </tr>\n",
    "</table>\n",
    "\n"
   ]
  },
  {
   "cell_type": "code",
   "execution_count": null,
   "metadata": {
    "id": "uZ6sMoKAKZoO",
    "outputId": "1df4333d-5809-4de7-b711-1dcad2b72066"
   },
   "outputs": [
    {
     "data": {
      "text/html": [
       "<div>\n",
       "<style scoped>\n",
       "    .dataframe tbody tr th:only-of-type {\n",
       "        vertical-align: middle;\n",
       "    }\n",
       "\n",
       "    .dataframe tbody tr th {\n",
       "        vertical-align: top;\n",
       "    }\n",
       "\n",
       "    .dataframe thead th {\n",
       "        text-align: right;\n",
       "    }\n",
       "</style>\n",
       "<table border=\"1\" class=\"dataframe\">\n",
       "  <thead>\n",
       "    <tr style=\"text-align: right;\">\n",
       "      <th></th>\n",
       "      <th>total_bill</th>\n",
       "      <th>tip</th>\n",
       "      <th>sex</th>\n",
       "      <th>smoker</th>\n",
       "      <th>day</th>\n",
       "      <th>time</th>\n",
       "      <th>size</th>\n",
       "    </tr>\n",
       "  </thead>\n",
       "  <tbody>\n",
       "    <tr>\n",
       "      <th>0</th>\n",
       "      <td>16.99</td>\n",
       "      <td>1.01</td>\n",
       "      <td>Female</td>\n",
       "      <td>No</td>\n",
       "      <td>Sun</td>\n",
       "      <td>Dinner</td>\n",
       "      <td>2</td>\n",
       "    </tr>\n",
       "    <tr>\n",
       "      <th>1</th>\n",
       "      <td>10.34</td>\n",
       "      <td>1.66</td>\n",
       "      <td>Male</td>\n",
       "      <td>No</td>\n",
       "      <td>Sun</td>\n",
       "      <td>Dinner</td>\n",
       "      <td>3</td>\n",
       "    </tr>\n",
       "    <tr>\n",
       "      <th>2</th>\n",
       "      <td>21.01</td>\n",
       "      <td>3.50</td>\n",
       "      <td>Male</td>\n",
       "      <td>No</td>\n",
       "      <td>Sun</td>\n",
       "      <td>Dinner</td>\n",
       "      <td>3</td>\n",
       "    </tr>\n",
       "    <tr>\n",
       "      <th>3</th>\n",
       "      <td>23.68</td>\n",
       "      <td>3.31</td>\n",
       "      <td>Male</td>\n",
       "      <td>No</td>\n",
       "      <td>Sun</td>\n",
       "      <td>Dinner</td>\n",
       "      <td>2</td>\n",
       "    </tr>\n",
       "    <tr>\n",
       "      <th>4</th>\n",
       "      <td>24.59</td>\n",
       "      <td>3.61</td>\n",
       "      <td>Female</td>\n",
       "      <td>No</td>\n",
       "      <td>Sun</td>\n",
       "      <td>Dinner</td>\n",
       "      <td>4</td>\n",
       "    </tr>\n",
       "  </tbody>\n",
       "</table>\n",
       "</div>"
      ],
      "text/plain": [
       "   total_bill   tip     sex smoker  day    time  size\n",
       "0       16.99  1.01  Female     No  Sun  Dinner     2\n",
       "1       10.34  1.66    Male     No  Sun  Dinner     3\n",
       "2       21.01  3.50    Male     No  Sun  Dinner     3\n",
       "3       23.68  3.31    Male     No  Sun  Dinner     2\n",
       "4       24.59  3.61  Female     No  Sun  Dinner     4"
      ]
     },
     "execution_count": 20,
     "metadata": {},
     "output_type": "execute_result"
    }
   ],
   "source": [
    "# check the head() of the tips dataset\n",
    "tips_data.head()"
   ]
  },
  {
   "cell_type": "markdown",
   "metadata": {
    "id": "NmMgXtxzKZoO"
   },
   "source": [
    "### <font color='blue'>Compute correlation between the variables using .corr() function. Plot a heatmap of the correlation matrix.</font>"
   ]
  },
  {
   "cell_type": "code",
   "execution_count": null,
   "metadata": {
    "id": "66yeLxDMKZoO",
    "outputId": "2a11c1e5-b7e7-4251-c3e1-10f45b3060bd"
   },
   "outputs": [
    {
     "data": {
      "text/html": [
       "<div>\n",
       "<style scoped>\n",
       "    .dataframe tbody tr th:only-of-type {\n",
       "        vertical-align: middle;\n",
       "    }\n",
       "\n",
       "    .dataframe tbody tr th {\n",
       "        vertical-align: top;\n",
       "    }\n",
       "\n",
       "    .dataframe thead th {\n",
       "        text-align: right;\n",
       "    }\n",
       "</style>\n",
       "<table border=\"1\" class=\"dataframe\">\n",
       "  <thead>\n",
       "    <tr style=\"text-align: right;\">\n",
       "      <th></th>\n",
       "      <th>total_bill</th>\n",
       "      <th>tip</th>\n",
       "      <th>size</th>\n",
       "    </tr>\n",
       "  </thead>\n",
       "  <tbody>\n",
       "    <tr>\n",
       "      <th>total_bill</th>\n",
       "      <td>1.000000</td>\n",
       "      <td>0.675734</td>\n",
       "      <td>0.598315</td>\n",
       "    </tr>\n",
       "    <tr>\n",
       "      <th>tip</th>\n",
       "      <td>0.675734</td>\n",
       "      <td>1.000000</td>\n",
       "      <td>0.489299</td>\n",
       "    </tr>\n",
       "    <tr>\n",
       "      <th>size</th>\n",
       "      <td>0.598315</td>\n",
       "      <td>0.489299</td>\n",
       "      <td>1.000000</td>\n",
       "    </tr>\n",
       "  </tbody>\n",
       "</table>\n",
       "</div>"
      ],
      "text/plain": [
       "            total_bill       tip      size\n",
       "total_bill    1.000000  0.675734  0.598315\n",
       "tip           0.675734  1.000000  0.489299\n",
       "size          0.598315  0.489299  1.000000"
      ]
     },
     "execution_count": 21,
     "metadata": {},
     "output_type": "execute_result"
    }
   ],
   "source": [
    "# compute correlation\n",
    "corr_matrix = tips_data.corr()\n",
    "\n",
    "corr_matrix"
   ]
  },
  {
   "cell_type": "code",
   "execution_count": null,
   "metadata": {
    "id": "6fHGq1BUKZoP",
    "outputId": "fae56401-e1ba-43e8-c014-4afc8fb8a86a"
   },
   "outputs": [
    {
     "data": {
      "image/png": "[encoded data removed]",
      "text/plain": [
       "<Figure size 432x288 with 2 Axes>"
      ]
     },
     "metadata": {
      "needs_background": "light"
     },
     "output_type": "display_data"
    }
   ],
   "source": [
    "# plot heatmap\n",
    "# 'annot=True' returns the correlation values \n",
    "sns.heatmap(corr_matrix, annot = True)\n",
    "\n",
    "# display the plot\n",
    "plt.show()"
   ]
  },
  {
   "cell_type": "markdown",
   "metadata": {
    "id": "HoF_hQdgKZoP"
   },
   "source": [
    "<font color='blue'>***Observations***</font>\n",
    "- The above plot shows that there is a moderate correlation between 'total_bill' and 'tip' (0.68). The diagonal values are '1' as it is the correlation of the variable with itself."
   ]
  },
  {
   "cell_type": "markdown",
   "metadata": {
    "id": "2VzUiRZznvep"
   },
   "source": [
    "-----\n",
    "### Happy Learning :)\n",
    "-----"
   ]
  }
 ],
 "metadata": {
  "colab": {
   "provenance": []
  },
  "kernelspec": {
   "display_name": "Python 3 (ipykernel)",
   "language": "python",
   "name": "python3"
  },
  "language_info": {
   "codemirror_mode": {
    "name": "ipython",
    "version": 3
   },
   "file_extension": ".py",
   "mimetype": "text/x-python",
   "name": "python",
   "nbconvert_exporter": "python",
   "pygments_lexer": "ipython3",
   "version": "3.11.5"
  },
  "vscode": {
   "interpreter": {
    "hash": "4ee46c0ac435a13a5109fc492ac6d01ef956c2b90ca38c06b1f312c432680a2e"
   }
  }
 },
 "nbformat": 4,
 "nbformat_minor": 1
}
