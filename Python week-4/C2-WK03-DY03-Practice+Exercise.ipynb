{
 "cells": [
  {
   "cell_type": "markdown",
   "metadata": {},
   "source": [
    "----\n",
    "# Course 2 - Week03 - Day03 - Practice Exercise\n",
    "----"
   ]
  },
  {
   "cell_type": "markdown",
   "metadata": {
    "id": "EDpU8PR45wrn"
   },
   "source": [
    "# Agenda\n",
    "\n",
    "- Exploratory Data Analysis\n",
    "- Data Preprocessing\n"
   ]
  },
  {
   "cell_type": "markdown",
   "metadata": {
    "id": "JP1ADKe8HgSQ"
   },
   "source": [
    "## Exploratory Data Analysis"
   ]
  },
  {
   "cell_type": "markdown",
   "metadata": {
    "id": "muRNrZOj5wrp"
   },
   "source": [
    "- Exploratory data analysis is an approach of analyzing data sets to summarize their main characteristics, often using statistical graphics and other data visualization methods.\n",
    "- It is a good practice to understand the data first and try to gather as many insights from it. EDA is all about making sense of data"
   ]
  },
  {
   "cell_type": "markdown",
   "metadata": {
    "id": "qHrxLBUcUuC1"
   },
   "source": [
    "## Data Preprocessing"
   ]
  },
  {
   "cell_type": "markdown",
   "metadata": {
    "id": "yQ2AV3o6Uxa3"
   },
   "source": [
    "-  Data Preprocessing focuses on processing the data and making it suitable for the model.\n",
    "\n",
    "- Before building any machine learning model it is crucial to perform data preprocessing to feed the correct data to the model to learn and predict. Model performance depends on the quality of data feeded to the model to train.\n",
    "\n",
    "- It involves various steps like \n",
    "  - Handling duplicates\n",
    "  - Handling missing values\n",
    "  - Handling outliers\n",
    "  - Handling garbage data, incorrect or invalid data \n",
    "  - Changing data types \n",
    "  - Converting features into numerical data type\n",
    "  - Standardising and normalising the data\n",
    "  - Making transformations of variables as needed - log tranformation, power transformation etc \n",
    "\n",
    "- These are some of the common steps. But most of these data preprocessing steps depend on case to case basis."
   ]
  },
  {
   "cell_type": "markdown",
   "metadata": {
    "id": "UvI8xpFh5wrq"
   },
   "source": [
    "## Table of Content\n",
    "\n",
    "1. About dataset\n",
    "\n",
    "2. Import necessary libraries\n",
    "\n",
    "3. Load the dataset\n",
    "\n",
    "4. Explore the data.\n",
    "\n",
    "5. Data Pre-processing\n",
    "\n",
    "  - 5.1 Identifying and removing Duplicates from your data\n",
    "  \n",
    "  - 5.2 Removing unwanted characters and changing datatypes\n",
    "  \n",
    "  - 5.3 Identifying and imputing missing values\n",
    "    - Ways of detecting missing values & Standard and non-standard missing values\n",
    "    - Basic imputation methods for replacing missing values\n",
    "\n",
    "  - 5.4 Outlier detection & Imputation- visually, and statistically  "
   ]
  },
  {
   "cell_type": "markdown",
   "metadata": {
    "id": "KNhaa0mG5wrq"
   },
   "source": [
    "<a id=\"ad\"> </a>\n",
    "## 1. About dataset"
   ]
  },
  {
   "cell_type": "markdown",
   "metadata": {
    "id": "ncgCAVQ95wrq"
   },
   "source": [
    "- Amazon.com, Inc. is an American multinational conglomerate that focuses on e-commerce, cloud computing, digital streaming, and artificial intelligence. It is one of the Big Five companies in the U.S. information technology industry, along with Google, Apple, Microsoft, and Facebook.\n",
    "\n",
    "\n",
    "- Amazon Top Rated Smartphones & Accessories 2021 Dataset was scraped from amazon.in website of the e-commerce amazon India. the dataset contains smartphones title with its specification according to its rating and number of review count in the dataset column. there is a piece of additional information about the smartphone. that is its offer price and actual price with its discount percentage and delivery options\n",
    "\n",
    "\n",
    "- Amazon Top Rated Smartphones & Accessories 2021 dataset is scraped from the e-commerce website."
   ]
  },
  {
   "cell_type": "markdown",
   "metadata": {
    "id": "rAerMfVN5wrr"
   },
   "source": [
    "<a id=\"inl\"> </a>\n",
    "## 2. Import the necessary libraries."
   ]
  },
  {
   "cell_type": "code",
   "execution_count": 7,
   "metadata": {
    "id": "qKpIBTcd5wrr"
   },
   "outputs": [],
   "source": [
    "import numpy as np\n",
    "import pandas as pd\n",
    "import matplotlib.pyplot as plt\n",
    "import seaborn as sns"
   ]
  },
  {
   "cell_type": "markdown",
   "metadata": {
    "id": "FPSEIaew5wrs"
   },
   "source": [
    "<a id=\"ld\"> </a>\n",
    "## 3. Load the dataset."
   ]
  },
  {
   "cell_type": "code",
   "execution_count": 8,
   "metadata": {
    "colab": {
     "base_uri": "https://localhost:8080/"
    },
    "executionInfo": {
     "elapsed": 763,
     "status": "ok",
     "timestamp": 1665620762243,
     "user": {
      "displayName": "V. Arun Kumar",
      "userId": "02991517788843717529"
     },
     "user_tz": -330
    },
    "id": "tJaXLzD65wrt",
    "outputId": "de0adc9d-97a5-421a-f697-586ba2a74b9c"
   },
   "outputs": [],
   "source": [
    "# Amazon_data.csv\n",
    "df= pd.read_csv('Amazon_data.csv')"
   ]
  },
  {
   "cell_type": "code",
   "execution_count": null,
   "metadata": {},
   "outputs": [],
   "source": []
  },
  {
   "cell_type": "code",
   "execution_count": 9,
   "metadata": {},
   "outputs": [
    {
     "data": {
      "text/html": [
       "<div>\n",
       "<style scoped>\n",
       "    .dataframe tbody tr th:only-of-type {\n",
       "        vertical-align: middle;\n",
       "    }\n",
       "\n",
       "    .dataframe tbody tr th {\n",
       "        vertical-align: top;\n",
       "    }\n",
       "\n",
       "    .dataframe thead th {\n",
       "        text-align: right;\n",
       "    }\n",
       "</style>\n",
       "<table border=\"1\" class=\"dataframe\">\n",
       "  <thead>\n",
       "    <tr style=\"text-align: right;\">\n",
       "      <th></th>\n",
       "      <th>Smartphone</th>\n",
       "      <th>Rating</th>\n",
       "      <th>Reviews count</th>\n",
       "      <th>Offer price</th>\n",
       "      <th>Actual price</th>\n",
       "      <th>Saving</th>\n",
       "      <th>Delivery</th>\n",
       "      <th>Status of stock &amp; more offers</th>\n",
       "    </tr>\n",
       "  </thead>\n",
       "  <tbody>\n",
       "    <tr>\n",
       "      <th>0</th>\n",
       "      <td>Redmi 9 (Sky Blue, 4GB RAM, 64GB Storage) | 2....</td>\n",
       "      <td>4.2 out of 5 stars</td>\n",
       "      <td>87,809</td>\n",
       "      <td>₹9,499</td>\n",
       "      <td>₹10,999</td>\n",
       "      <td>Save ₹1,500 (14%)</td>\n",
       "      <td>FREE Delivery by Amazon</td>\n",
       "      <td>NaN</td>\n",
       "    </tr>\n",
       "    <tr>\n",
       "      <th>1</th>\n",
       "      <td>Redmi 9A (Nature Green, 2GB RAM, 32GB Storage)...</td>\n",
       "      <td>4.2 out of 5 stars</td>\n",
       "      <td>74,587</td>\n",
       "      <td>₹6,999</td>\n",
       "      <td>₹8,499</td>\n",
       "      <td>Save ₹1,500 (18%)</td>\n",
       "      <td>FREE Delivery by Amazon</td>\n",
       "      <td>NaN</td>\n",
       "    </tr>\n",
       "    <tr>\n",
       "      <th>2</th>\n",
       "      <td>Redmi 9A (Sea Blue 2GB RAM 32GB Storage) | 2GH...</td>\n",
       "      <td>4.2 out of 5 stars</td>\n",
       "      <td>74,587</td>\n",
       "      <td>₹6,999</td>\n",
       "      <td>₹8,499</td>\n",
       "      <td>Save ₹1,500 (18%)</td>\n",
       "      <td>FREE Delivery by Amazon</td>\n",
       "      <td>NaN</td>\n",
       "    </tr>\n",
       "    <tr>\n",
       "      <th>3</th>\n",
       "      <td>Redmi Note 10 (Aqua Green, 4GB RAM, 64GB Stora...</td>\n",
       "      <td>4.2 out of 5 stars</td>\n",
       "      <td>95,519</td>\n",
       "      <td>₹13,999</td>\n",
       "      <td>₹15,999</td>\n",
       "      <td>Save ₹2,000 (13%)</td>\n",
       "      <td>FREE Delivery by Amazon</td>\n",
       "      <td>NaN</td>\n",
       "    </tr>\n",
       "    <tr>\n",
       "      <th>4</th>\n",
       "      <td>Redmi 9 (Carbon Black, 4GB RAM, 64GB Storage) ...</td>\n",
       "      <td>4.2 out of 5 stars</td>\n",
       "      <td>87,809</td>\n",
       "      <td>₹9,499</td>\n",
       "      <td>₹10,999</td>\n",
       "      <td>Save ₹1,500 (14%)</td>\n",
       "      <td>FREE Delivery by Amazon</td>\n",
       "      <td>NaN</td>\n",
       "    </tr>\n",
       "  </tbody>\n",
       "</table>\n",
       "</div>"
      ],
      "text/plain": [
       "                                          Smartphone              Rating  \\\n",
       "0  Redmi 9 (Sky Blue, 4GB RAM, 64GB Storage) | 2....  4.2 out of 5 stars   \n",
       "1  Redmi 9A (Nature Green, 2GB RAM, 32GB Storage)...  4.2 out of 5 stars   \n",
       "2  Redmi 9A (Sea Blue 2GB RAM 32GB Storage) | 2GH...  4.2 out of 5 stars   \n",
       "3  Redmi Note 10 (Aqua Green, 4GB RAM, 64GB Stora...  4.2 out of 5 stars   \n",
       "4  Redmi 9 (Carbon Black, 4GB RAM, 64GB Storage) ...  4.2 out of 5 stars   \n",
       "\n",
       "  Reviews count Offer price Actual price             Saving  \\\n",
       "0        87,809      ₹9,499      ₹10,999  Save ₹1,500 (14%)   \n",
       "1        74,587      ₹6,999       ₹8,499  Save ₹1,500 (18%)   \n",
       "2        74,587      ₹6,999       ₹8,499  Save ₹1,500 (18%)   \n",
       "3        95,519     ₹13,999      ₹15,999  Save ₹2,000 (13%)   \n",
       "4        87,809      ₹9,499      ₹10,999  Save ₹1,500 (14%)   \n",
       "\n",
       "                  Delivery Status of stock & more offers  \n",
       "0  FREE Delivery by Amazon                           NaN  \n",
       "1  FREE Delivery by Amazon                           NaN  \n",
       "2  FREE Delivery by Amazon                           NaN  \n",
       "3  FREE Delivery by Amazon                           NaN  \n",
       "4  FREE Delivery by Amazon                           NaN  "
      ]
     },
     "execution_count": 9,
     "metadata": {},
     "output_type": "execute_result"
    }
   ],
   "source": [
    "df.head()"
   ]
  },
  {
   "cell_type": "code",
   "execution_count": null,
   "metadata": {},
   "outputs": [],
   "source": [
    "\n"
   ]
  },
  {
   "cell_type": "code",
   "execution_count": null,
   "metadata": {},
   "outputs": [],
   "source": []
  },
  {
   "cell_type": "markdown",
   "metadata": {},
   "source": [
    "## 4. Explore the data."
   ]
  },
  {
   "cell_type": "code",
   "execution_count": null,
   "metadata": {},
   "outputs": [],
   "source": [
    "# check info, shape, columns, datatypes and more....and write your inferences."
   ]
  },
  {
   "cell_type": "code",
   "execution_count": 10,
   "metadata": {},
   "outputs": [
    {
     "name": "stdout",
     "output_type": "stream",
     "text": [
      "<class 'pandas.core.frame.DataFrame'>\n",
      "RangeIndex: 1367 entries, 0 to 1366\n",
      "Data columns (total 8 columns):\n",
      " #   Column                         Non-Null Count  Dtype \n",
      "---  ------                         --------------  ----- \n",
      " 0   Smartphone                     1367 non-null   object\n",
      " 1   Rating                         1367 non-null   object\n",
      " 2   Reviews count                  1367 non-null   object\n",
      " 3   Offer price                    1153 non-null   object\n",
      " 4   Actual price                   1041 non-null   object\n",
      " 5   Saving                         1150 non-null   object\n",
      " 6   Delivery                       1367 non-null   object\n",
      " 7   Status of stock & more offers  498 non-null    object\n",
      "dtypes: object(8)\n",
      "memory usage: 85.6+ KB\n"
     ]
    }
   ],
   "source": [
    "df.info()"
   ]
  },
  {
   "cell_type": "code",
   "execution_count": 12,
   "metadata": {},
   "outputs": [
    {
     "data": {
      "text/plain": [
       "(1367, 8)"
      ]
     },
     "execution_count": 12,
     "metadata": {},
     "output_type": "execute_result"
    }
   ],
   "source": [
    "df.shape"
   ]
  },
  {
   "cell_type": "code",
   "execution_count": 14,
   "metadata": {},
   "outputs": [
    {
     "data": {
      "text/plain": [
       "Index(['Smartphone', 'Rating', 'Reviews count', 'Offer price', 'Actual price',\n",
       "       'Saving', 'Delivery', 'Status of stock & more offers'],\n",
       "      dtype='object')"
      ]
     },
     "execution_count": 14,
     "metadata": {},
     "output_type": "execute_result"
    }
   ],
   "source": [
    "df.columns"
   ]
  },
  {
   "cell_type": "code",
   "execution_count": 16,
   "metadata": {},
   "outputs": [
    {
     "data": {
      "text/plain": [
       "Smartphone                       object\n",
       "Rating                           object\n",
       "Reviews count                    object\n",
       "Offer price                      object\n",
       "Actual price                     object\n",
       "Saving                           object\n",
       "Delivery                         object\n",
       "Status of stock & more offers    object\n",
       "dtype: object"
      ]
     },
     "execution_count": 16,
     "metadata": {},
     "output_type": "execute_result"
    }
   ],
   "source": [
    "df.dtypes"
   ]
  },
  {
   "cell_type": "markdown",
   "metadata": {
    "id": "L_QB39kx5wru"
   },
   "source": [
    "<a id=\"dp\"> </a>\n",
    "## 5. Data Pre-processing"
   ]
  },
  {
   "cell_type": "markdown",
   "metadata": {
    "id": "RbZ1n5Bd5wru"
   },
   "source": [
    "<a id=\"fdd\"> </a>\n",
    "### 5.1 Find and drop duplicate values."
   ]
  },
  {
   "cell_type": "markdown",
   "metadata": {
    "id": "0yuesqEX5wru"
   },
   "source": [
    "###### Lets check for the duplicate rows in the data and drop those."
   ]
  },
  {
   "cell_type": "code",
   "execution_count": 21,
   "metadata": {
    "colab": {
     "base_uri": "https://localhost:8080/"
    },
    "executionInfo": {
     "elapsed": 27,
     "status": "ok",
     "timestamp": 1665620762244,
     "user": {
      "displayName": "V. Arun Kumar",
      "userId": "02991517788843717529"
     },
     "user_tz": -330
    },
    "id": "8McKl8xw5wru",
    "outputId": "da9b1cac-01a3-4013-9bbe-6bb46eda0f56"
   },
   "outputs": [
    {
     "data": {
      "text/plain": [
       "60"
      ]
     },
     "execution_count": 21,
     "metadata": {},
     "output_type": "execute_result"
    }
   ],
   "source": [
    "##Identify duplicates records in the data\n",
    "df.duplicated('Smartphone').sum()"
   ]
  },
  {
   "cell_type": "code",
   "execution_count": 22,
   "metadata": {
    "id": "1JkJzhb75wrv"
   },
   "outputs": [],
   "source": [
    "#Removing Duplicates\n",
    "df.drop_duplicates('Smartphone',keep='last',inplace=True)"
   ]
  },
  {
   "cell_type": "code",
   "execution_count": 23,
   "metadata": {
    "colab": {
     "base_uri": "https://localhost:8080/"
    },
    "executionInfo": {
     "elapsed": 26,
     "status": "ok",
     "timestamp": 1665620762245,
     "user": {
      "displayName": "V. Arun Kumar",
      "userId": "02991517788843717529"
     },
     "user_tz": -330
    },
    "id": "mIRyMgow5wrv",
    "outputId": "bb8ca4e6-81c2-4c08-8ab5-8f2cf72eab79"
   },
   "outputs": [
    {
     "data": {
      "text/plain": [
       "0"
      ]
     },
     "execution_count": 23,
     "metadata": {},
     "output_type": "execute_result"
    }
   ],
   "source": [
    "## Check for duplicate values again\n",
    "df.duplicated().sum()"
   ]
  },
  {
   "cell_type": "markdown",
   "metadata": {
    "id": "_8IdqQ8s5wrv"
   },
   "source": [
    "<a id=\"ru\"> </a>\n",
    "### 5.2 Removing unwanted characters and changing the datatype"
   ]
  },
  {
   "cell_type": "code",
   "execution_count": 26,
   "metadata": {},
   "outputs": [
    {
     "data": {
      "text/html": [
       "<div>\n",
       "<style scoped>\n",
       "    .dataframe tbody tr th:only-of-type {\n",
       "        vertical-align: middle;\n",
       "    }\n",
       "\n",
       "    .dataframe tbody tr th {\n",
       "        vertical-align: top;\n",
       "    }\n",
       "\n",
       "    .dataframe thead th {\n",
       "        text-align: right;\n",
       "    }\n",
       "</style>\n",
       "<table border=\"1\" class=\"dataframe\">\n",
       "  <thead>\n",
       "    <tr style=\"text-align: right;\">\n",
       "      <th></th>\n",
       "      <th>Smartphone</th>\n",
       "      <th>Rating</th>\n",
       "      <th>Reviews count</th>\n",
       "      <th>Offer price</th>\n",
       "      <th>Actual price</th>\n",
       "      <th>Saving</th>\n",
       "      <th>Delivery</th>\n",
       "      <th>Status of stock &amp; more offers</th>\n",
       "    </tr>\n",
       "  </thead>\n",
       "  <tbody>\n",
       "    <tr>\n",
       "      <th>0</th>\n",
       "      <td>Redmi 9 (Sky Blue, 4GB RAM, 64GB Storage) | 2....</td>\n",
       "      <td>4.2 out of 5 stars</td>\n",
       "      <td>87,809</td>\n",
       "      <td>₹9,499</td>\n",
       "      <td>₹10,999</td>\n",
       "      <td>Save ₹1,500 (14%)</td>\n",
       "      <td>FREE Delivery by Amazon</td>\n",
       "      <td>NaN</td>\n",
       "    </tr>\n",
       "    <tr>\n",
       "      <th>1</th>\n",
       "      <td>Redmi 9A (Nature Green, 2GB RAM, 32GB Storage)...</td>\n",
       "      <td>4.2 out of 5 stars</td>\n",
       "      <td>74,587</td>\n",
       "      <td>₹6,999</td>\n",
       "      <td>₹8,499</td>\n",
       "      <td>Save ₹1,500 (18%)</td>\n",
       "      <td>FREE Delivery by Amazon</td>\n",
       "      <td>NaN</td>\n",
       "    </tr>\n",
       "    <tr>\n",
       "      <th>2</th>\n",
       "      <td>Redmi 9A (Sea Blue 2GB RAM 32GB Storage) | 2GH...</td>\n",
       "      <td>4.2 out of 5 stars</td>\n",
       "      <td>74,587</td>\n",
       "      <td>₹6,999</td>\n",
       "      <td>₹8,499</td>\n",
       "      <td>Save ₹1,500 (18%)</td>\n",
       "      <td>FREE Delivery by Amazon</td>\n",
       "      <td>NaN</td>\n",
       "    </tr>\n",
       "    <tr>\n",
       "      <th>3</th>\n",
       "      <td>Redmi Note 10 (Aqua Green, 4GB RAM, 64GB Stora...</td>\n",
       "      <td>4.2 out of 5 stars</td>\n",
       "      <td>95,519</td>\n",
       "      <td>₹13,999</td>\n",
       "      <td>₹15,999</td>\n",
       "      <td>Save ₹2,000 (13%)</td>\n",
       "      <td>FREE Delivery by Amazon</td>\n",
       "      <td>NaN</td>\n",
       "    </tr>\n",
       "    <tr>\n",
       "      <th>4</th>\n",
       "      <td>Redmi 9 (Carbon Black, 4GB RAM, 64GB Storage) ...</td>\n",
       "      <td>4.2 out of 5 stars</td>\n",
       "      <td>87,809</td>\n",
       "      <td>₹9,499</td>\n",
       "      <td>₹10,999</td>\n",
       "      <td>Save ₹1,500 (14%)</td>\n",
       "      <td>FREE Delivery by Amazon</td>\n",
       "      <td>NaN</td>\n",
       "    </tr>\n",
       "  </tbody>\n",
       "</table>\n",
       "</div>"
      ],
      "text/plain": [
       "                                          Smartphone              Rating  \\\n",
       "0  Redmi 9 (Sky Blue, 4GB RAM, 64GB Storage) | 2....  4.2 out of 5 stars   \n",
       "1  Redmi 9A (Nature Green, 2GB RAM, 32GB Storage)...  4.2 out of 5 stars   \n",
       "2  Redmi 9A (Sea Blue 2GB RAM 32GB Storage) | 2GH...  4.2 out of 5 stars   \n",
       "3  Redmi Note 10 (Aqua Green, 4GB RAM, 64GB Stora...  4.2 out of 5 stars   \n",
       "4  Redmi 9 (Carbon Black, 4GB RAM, 64GB Storage) ...  4.2 out of 5 stars   \n",
       "\n",
       "  Reviews count Offer price Actual price             Saving  \\\n",
       "0        87,809      ₹9,499      ₹10,999  Save ₹1,500 (14%)   \n",
       "1        74,587      ₹6,999       ₹8,499  Save ₹1,500 (18%)   \n",
       "2        74,587      ₹6,999       ₹8,499  Save ₹1,500 (18%)   \n",
       "3        95,519     ₹13,999      ₹15,999  Save ₹2,000 (13%)   \n",
       "4        87,809      ₹9,499      ₹10,999  Save ₹1,500 (14%)   \n",
       "\n",
       "                  Delivery Status of stock & more offers  \n",
       "0  FREE Delivery by Amazon                           NaN  \n",
       "1  FREE Delivery by Amazon                           NaN  \n",
       "2  FREE Delivery by Amazon                           NaN  \n",
       "3  FREE Delivery by Amazon                           NaN  \n",
       "4  FREE Delivery by Amazon                           NaN  "
      ]
     },
     "execution_count": 26,
     "metadata": {},
     "output_type": "execute_result"
    }
   ],
   "source": [
    "df.head()"
   ]
  },
  {
   "cell_type": "markdown",
   "metadata": {
    "id": "IH1uz-U6MW6n"
   },
   "source": [
    "#### 5.2.1 Let's handle Rating column"
   ]
  },
  {
   "cell_type": "code",
   "execution_count": 46,
   "metadata": {
    "id": "YmSJpqjP5wrv"
   },
   "outputs": [
    {
     "ename": "AttributeError",
     "evalue": "Can only use .str accessor with string values!",
     "output_type": "error",
     "traceback": [
      "\u001b[1;31m---------------------------------------------------------------------------\u001b[0m",
      "\u001b[1;31mAttributeError\u001b[0m                            Traceback (most recent call last)",
      "Cell \u001b[1;32mIn[46], line 1\u001b[0m\n\u001b[1;32m----> 1\u001b[0m df[\u001b[38;5;124m'\u001b[39m\u001b[38;5;124mRating\u001b[39m\u001b[38;5;124m'\u001b[39m]\u001b[38;5;241m=\u001b[39mdf[\u001b[38;5;124m'\u001b[39m\u001b[38;5;124mRating\u001b[39m\u001b[38;5;124m'\u001b[39m]\u001b[38;5;241m.\u001b[39mstr\u001b[38;5;241m.\u001b[39mreplace(\u001b[38;5;124m'\u001b[39m\u001b[38;5;124mout of 5 stars\u001b[39m\u001b[38;5;124m'\u001b[39m,\u001b[38;5;124m'\u001b[39m\u001b[38;5;124m'\u001b[39m)\u001b[38;5;241m.\u001b[39mastype(\u001b[38;5;28mfloat\u001b[39m)\n",
      "File \u001b[1;32mC:\\Anaconda\\Lib\\site-packages\\pandas\\core\\generic.py:5989\u001b[0m, in \u001b[0;36mNDFrame.__getattr__\u001b[1;34m(self, name)\u001b[0m\n\u001b[0;32m   5982\u001b[0m \u001b[38;5;28;01mif\u001b[39;00m (\n\u001b[0;32m   5983\u001b[0m     name \u001b[38;5;129;01mnot\u001b[39;00m \u001b[38;5;129;01min\u001b[39;00m \u001b[38;5;28mself\u001b[39m\u001b[38;5;241m.\u001b[39m_internal_names_set\n\u001b[0;32m   5984\u001b[0m     \u001b[38;5;129;01mand\u001b[39;00m name \u001b[38;5;129;01mnot\u001b[39;00m \u001b[38;5;129;01min\u001b[39;00m \u001b[38;5;28mself\u001b[39m\u001b[38;5;241m.\u001b[39m_metadata\n\u001b[0;32m   5985\u001b[0m     \u001b[38;5;129;01mand\u001b[39;00m name \u001b[38;5;129;01mnot\u001b[39;00m \u001b[38;5;129;01min\u001b[39;00m \u001b[38;5;28mself\u001b[39m\u001b[38;5;241m.\u001b[39m_accessors\n\u001b[0;32m   5986\u001b[0m     \u001b[38;5;129;01mand\u001b[39;00m \u001b[38;5;28mself\u001b[39m\u001b[38;5;241m.\u001b[39m_info_axis\u001b[38;5;241m.\u001b[39m_can_hold_identifiers_and_holds_name(name)\n\u001b[0;32m   5987\u001b[0m ):\n\u001b[0;32m   5988\u001b[0m     \u001b[38;5;28;01mreturn\u001b[39;00m \u001b[38;5;28mself\u001b[39m[name]\n\u001b[1;32m-> 5989\u001b[0m \u001b[38;5;28;01mreturn\u001b[39;00m \u001b[38;5;28mobject\u001b[39m\u001b[38;5;241m.\u001b[39m\u001b[38;5;21m__getattribute__\u001b[39m(\u001b[38;5;28mself\u001b[39m, name)\n",
      "File \u001b[1;32mC:\\Anaconda\\Lib\\site-packages\\pandas\\core\\accessor.py:224\u001b[0m, in \u001b[0;36mCachedAccessor.__get__\u001b[1;34m(self, obj, cls)\u001b[0m\n\u001b[0;32m    221\u001b[0m \u001b[38;5;28;01mif\u001b[39;00m obj \u001b[38;5;129;01mis\u001b[39;00m \u001b[38;5;28;01mNone\u001b[39;00m:\n\u001b[0;32m    222\u001b[0m     \u001b[38;5;66;03m# we're accessing the attribute of the class, i.e., Dataset.geo\u001b[39;00m\n\u001b[0;32m    223\u001b[0m     \u001b[38;5;28;01mreturn\u001b[39;00m \u001b[38;5;28mself\u001b[39m\u001b[38;5;241m.\u001b[39m_accessor\n\u001b[1;32m--> 224\u001b[0m accessor_obj \u001b[38;5;241m=\u001b[39m \u001b[38;5;28mself\u001b[39m\u001b[38;5;241m.\u001b[39m_accessor(obj)\n\u001b[0;32m    225\u001b[0m \u001b[38;5;66;03m# Replace the property with the accessor object. Inspired by:\u001b[39;00m\n\u001b[0;32m    226\u001b[0m \u001b[38;5;66;03m# https://www.pydanny.com/cached-property.html\u001b[39;00m\n\u001b[0;32m    227\u001b[0m \u001b[38;5;66;03m# We need to use object.__setattr__ because we overwrite __setattr__ on\u001b[39;00m\n\u001b[0;32m    228\u001b[0m \u001b[38;5;66;03m# NDFrame\u001b[39;00m\n\u001b[0;32m    229\u001b[0m \u001b[38;5;28mobject\u001b[39m\u001b[38;5;241m.\u001b[39m\u001b[38;5;21m__setattr__\u001b[39m(obj, \u001b[38;5;28mself\u001b[39m\u001b[38;5;241m.\u001b[39m_name, accessor_obj)\n",
      "File \u001b[1;32mC:\\Anaconda\\Lib\\site-packages\\pandas\\core\\strings\\accessor.py:181\u001b[0m, in \u001b[0;36mStringMethods.__init__\u001b[1;34m(self, data)\u001b[0m\n\u001b[0;32m    178\u001b[0m \u001b[38;5;28;01mdef\u001b[39;00m \u001b[38;5;21m__init__\u001b[39m(\u001b[38;5;28mself\u001b[39m, data) \u001b[38;5;241m-\u001b[39m\u001b[38;5;241m>\u001b[39m \u001b[38;5;28;01mNone\u001b[39;00m:\n\u001b[0;32m    179\u001b[0m     \u001b[38;5;28;01mfrom\u001b[39;00m \u001b[38;5;21;01mpandas\u001b[39;00m\u001b[38;5;21;01m.\u001b[39;00m\u001b[38;5;21;01mcore\u001b[39;00m\u001b[38;5;21;01m.\u001b[39;00m\u001b[38;5;21;01marrays\u001b[39;00m\u001b[38;5;21;01m.\u001b[39;00m\u001b[38;5;21;01mstring_\u001b[39;00m \u001b[38;5;28;01mimport\u001b[39;00m StringDtype\n\u001b[1;32m--> 181\u001b[0m     \u001b[38;5;28mself\u001b[39m\u001b[38;5;241m.\u001b[39m_inferred_dtype \u001b[38;5;241m=\u001b[39m \u001b[38;5;28mself\u001b[39m\u001b[38;5;241m.\u001b[39m_validate(data)\n\u001b[0;32m    182\u001b[0m     \u001b[38;5;28mself\u001b[39m\u001b[38;5;241m.\u001b[39m_is_categorical \u001b[38;5;241m=\u001b[39m is_categorical_dtype(data\u001b[38;5;241m.\u001b[39mdtype)\n\u001b[0;32m    183\u001b[0m     \u001b[38;5;28mself\u001b[39m\u001b[38;5;241m.\u001b[39m_is_string \u001b[38;5;241m=\u001b[39m \u001b[38;5;28misinstance\u001b[39m(data\u001b[38;5;241m.\u001b[39mdtype, StringDtype)\n",
      "File \u001b[1;32mC:\\Anaconda\\Lib\\site-packages\\pandas\\core\\strings\\accessor.py:235\u001b[0m, in \u001b[0;36mStringMethods._validate\u001b[1;34m(data)\u001b[0m\n\u001b[0;32m    232\u001b[0m inferred_dtype \u001b[38;5;241m=\u001b[39m lib\u001b[38;5;241m.\u001b[39minfer_dtype(values, skipna\u001b[38;5;241m=\u001b[39m\u001b[38;5;28;01mTrue\u001b[39;00m)\n\u001b[0;32m    234\u001b[0m \u001b[38;5;28;01mif\u001b[39;00m inferred_dtype \u001b[38;5;129;01mnot\u001b[39;00m \u001b[38;5;129;01min\u001b[39;00m allowed_types:\n\u001b[1;32m--> 235\u001b[0m     \u001b[38;5;28;01mraise\u001b[39;00m \u001b[38;5;167;01mAttributeError\u001b[39;00m(\u001b[38;5;124m\"\u001b[39m\u001b[38;5;124mCan only use .str accessor with string values!\u001b[39m\u001b[38;5;124m\"\u001b[39m)\n\u001b[0;32m    236\u001b[0m \u001b[38;5;28;01mreturn\u001b[39;00m inferred_dtype\n",
      "\u001b[1;31mAttributeError\u001b[0m: Can only use .str accessor with string values!"
     ]
    }
   ],
   "source": [
    "df['Rating']=df['Rating'].str.replace('out of 5 stars','').astype(float)"
   ]
  },
  {
   "cell_type": "code",
   "execution_count": null,
   "metadata": {},
   "outputs": [],
   "source": []
  },
  {
   "cell_type": "code",
   "execution_count": null,
   "metadata": {},
   "outputs": [],
   "source": [
    "#Another method to handle Rating column\n",
    "'''\n",
    "df['Rating'].str.split().str.get(0).astype(float)\n",
    "'''"
   ]
  },
  {
   "cell_type": "code",
   "execution_count": 47,
   "metadata": {},
   "outputs": [
    {
     "data": {
      "text/html": [
       "<div>\n",
       "<style scoped>\n",
       "    .dataframe tbody tr th:only-of-type {\n",
       "        vertical-align: middle;\n",
       "    }\n",
       "\n",
       "    .dataframe tbody tr th {\n",
       "        vertical-align: top;\n",
       "    }\n",
       "\n",
       "    .dataframe thead th {\n",
       "        text-align: right;\n",
       "    }\n",
       "</style>\n",
       "<table border=\"1\" class=\"dataframe\">\n",
       "  <thead>\n",
       "    <tr style=\"text-align: right;\">\n",
       "      <th></th>\n",
       "      <th>Smartphone</th>\n",
       "      <th>Rating</th>\n",
       "      <th>Reviews count</th>\n",
       "      <th>Offer price</th>\n",
       "      <th>Actual price</th>\n",
       "      <th>Saving</th>\n",
       "      <th>Delivery</th>\n",
       "      <th>Status of stock &amp; more offers</th>\n",
       "      <th>rating</th>\n",
       "    </tr>\n",
       "  </thead>\n",
       "  <tbody>\n",
       "    <tr>\n",
       "      <th>0</th>\n",
       "      <td>Redmi 9 (Sky Blue, 4GB RAM, 64GB Storage) | 2....</td>\n",
       "      <td>4.2</td>\n",
       "      <td>87,809</td>\n",
       "      <td>₹9,499</td>\n",
       "      <td>₹10,999</td>\n",
       "      <td>Save ₹1,500 (14%)</td>\n",
       "      <td>FREE Delivery by Amazon</td>\n",
       "      <td>NaN</td>\n",
       "      <td>4.2</td>\n",
       "    </tr>\n",
       "    <tr>\n",
       "      <th>1</th>\n",
       "      <td>Redmi 9A (Nature Green, 2GB RAM, 32GB Storage)...</td>\n",
       "      <td>4.2</td>\n",
       "      <td>74,587</td>\n",
       "      <td>₹6,999</td>\n",
       "      <td>₹8,499</td>\n",
       "      <td>Save ₹1,500 (18%)</td>\n",
       "      <td>FREE Delivery by Amazon</td>\n",
       "      <td>NaN</td>\n",
       "      <td>4.2</td>\n",
       "    </tr>\n",
       "    <tr>\n",
       "      <th>2</th>\n",
       "      <td>Redmi 9A (Sea Blue 2GB RAM 32GB Storage) | 2GH...</td>\n",
       "      <td>4.2</td>\n",
       "      <td>74,587</td>\n",
       "      <td>₹6,999</td>\n",
       "      <td>₹8,499</td>\n",
       "      <td>Save ₹1,500 (18%)</td>\n",
       "      <td>FREE Delivery by Amazon</td>\n",
       "      <td>NaN</td>\n",
       "      <td>4.2</td>\n",
       "    </tr>\n",
       "    <tr>\n",
       "      <th>3</th>\n",
       "      <td>Redmi Note 10 (Aqua Green, 4GB RAM, 64GB Stora...</td>\n",
       "      <td>4.2</td>\n",
       "      <td>95,519</td>\n",
       "      <td>₹13,999</td>\n",
       "      <td>₹15,999</td>\n",
       "      <td>Save ₹2,000 (13%)</td>\n",
       "      <td>FREE Delivery by Amazon</td>\n",
       "      <td>NaN</td>\n",
       "      <td>4.2</td>\n",
       "    </tr>\n",
       "    <tr>\n",
       "      <th>4</th>\n",
       "      <td>Redmi 9 (Carbon Black, 4GB RAM, 64GB Storage) ...</td>\n",
       "      <td>4.2</td>\n",
       "      <td>87,809</td>\n",
       "      <td>₹9,499</td>\n",
       "      <td>₹10,999</td>\n",
       "      <td>Save ₹1,500 (14%)</td>\n",
       "      <td>FREE Delivery by Amazon</td>\n",
       "      <td>NaN</td>\n",
       "      <td>4.2</td>\n",
       "    </tr>\n",
       "  </tbody>\n",
       "</table>\n",
       "</div>"
      ],
      "text/plain": [
       "                                          Smartphone  Rating Reviews count  \\\n",
       "0  Redmi 9 (Sky Blue, 4GB RAM, 64GB Storage) | 2....     4.2        87,809   \n",
       "1  Redmi 9A (Nature Green, 2GB RAM, 32GB Storage)...     4.2        74,587   \n",
       "2  Redmi 9A (Sea Blue 2GB RAM 32GB Storage) | 2GH...     4.2        74,587   \n",
       "3  Redmi Note 10 (Aqua Green, 4GB RAM, 64GB Stora...     4.2        95,519   \n",
       "4  Redmi 9 (Carbon Black, 4GB RAM, 64GB Storage) ...     4.2        87,809   \n",
       "\n",
       "  Offer price Actual price             Saving                 Delivery  \\\n",
       "0      ₹9,499      ₹10,999  Save ₹1,500 (14%)  FREE Delivery by Amazon   \n",
       "1      ₹6,999       ₹8,499  Save ₹1,500 (18%)  FREE Delivery by Amazon   \n",
       "2      ₹6,999       ₹8,499  Save ₹1,500 (18%)  FREE Delivery by Amazon   \n",
       "3     ₹13,999      ₹15,999  Save ₹2,000 (13%)  FREE Delivery by Amazon   \n",
       "4      ₹9,499      ₹10,999  Save ₹1,500 (14%)  FREE Delivery by Amazon   \n",
       "\n",
       "  Status of stock & more offers  rating  \n",
       "0                           NaN     4.2  \n",
       "1                           NaN     4.2  \n",
       "2                           NaN     4.2  \n",
       "3                           NaN     4.2  \n",
       "4                           NaN     4.2  "
      ]
     },
     "execution_count": 47,
     "metadata": {},
     "output_type": "execute_result"
    }
   ],
   "source": [
    "df.head()"
   ]
  },
  {
   "cell_type": "code",
   "execution_count": null,
   "metadata": {},
   "outputs": [],
   "source": []
  },
  {
   "cell_type": "code",
   "execution_count": null,
   "metadata": {},
   "outputs": [],
   "source": []
  },
  {
   "cell_type": "markdown",
   "metadata": {
    "id": "TfdBcy8sMcHn"
   },
   "source": [
    "#### 5.2.2 Let's handle Reviews count column"
   ]
  },
  {
   "cell_type": "code",
   "execution_count": 162,
   "metadata": {
    "id": "FyyP_GXH5wrv"
   },
   "outputs": [
    {
     "ename": "AttributeError",
     "evalue": "Can only use .str accessor with string values!",
     "output_type": "error",
     "traceback": [
      "\u001b[1;31m---------------------------------------------------------------------------\u001b[0m",
      "\u001b[1;31mAttributeError\u001b[0m                            Traceback (most recent call last)",
      "Cell \u001b[1;32mIn[162], line 2\u001b[0m\n\u001b[0;32m      1\u001b[0m \u001b[38;5;66;03m#df['Reviews count'].str.split().str.get(0)\u001b[39;00m\n\u001b[1;32m----> 2\u001b[0m df[\u001b[38;5;124m'\u001b[39m\u001b[38;5;124mReviews count\u001b[39m\u001b[38;5;124m'\u001b[39m]\u001b[38;5;241m=\u001b[39mdf[\u001b[38;5;124m'\u001b[39m\u001b[38;5;124mReviews count\u001b[39m\u001b[38;5;124m'\u001b[39m]\u001b[38;5;241m.\u001b[39mstr\u001b[38;5;241m.\u001b[39mreplace(\u001b[38;5;124m'\u001b[39m\u001b[38;5;124m,\u001b[39m\u001b[38;5;124m'\u001b[39m,\u001b[38;5;124m'\u001b[39m\u001b[38;5;124m'\u001b[39m)\u001b[38;5;241m.\u001b[39mastype(\u001b[38;5;28mfloat\u001b[39m)\n\u001b[0;32m      3\u001b[0m df\u001b[38;5;241m.\u001b[39mhead()\n",
      "File \u001b[1;32mC:\\Anaconda\\Lib\\site-packages\\pandas\\core\\generic.py:5989\u001b[0m, in \u001b[0;36mNDFrame.__getattr__\u001b[1;34m(self, name)\u001b[0m\n\u001b[0;32m   5982\u001b[0m \u001b[38;5;28;01mif\u001b[39;00m (\n\u001b[0;32m   5983\u001b[0m     name \u001b[38;5;129;01mnot\u001b[39;00m \u001b[38;5;129;01min\u001b[39;00m \u001b[38;5;28mself\u001b[39m\u001b[38;5;241m.\u001b[39m_internal_names_set\n\u001b[0;32m   5984\u001b[0m     \u001b[38;5;129;01mand\u001b[39;00m name \u001b[38;5;129;01mnot\u001b[39;00m \u001b[38;5;129;01min\u001b[39;00m \u001b[38;5;28mself\u001b[39m\u001b[38;5;241m.\u001b[39m_metadata\n\u001b[0;32m   5985\u001b[0m     \u001b[38;5;129;01mand\u001b[39;00m name \u001b[38;5;129;01mnot\u001b[39;00m \u001b[38;5;129;01min\u001b[39;00m \u001b[38;5;28mself\u001b[39m\u001b[38;5;241m.\u001b[39m_accessors\n\u001b[0;32m   5986\u001b[0m     \u001b[38;5;129;01mand\u001b[39;00m \u001b[38;5;28mself\u001b[39m\u001b[38;5;241m.\u001b[39m_info_axis\u001b[38;5;241m.\u001b[39m_can_hold_identifiers_and_holds_name(name)\n\u001b[0;32m   5987\u001b[0m ):\n\u001b[0;32m   5988\u001b[0m     \u001b[38;5;28;01mreturn\u001b[39;00m \u001b[38;5;28mself\u001b[39m[name]\n\u001b[1;32m-> 5989\u001b[0m \u001b[38;5;28;01mreturn\u001b[39;00m \u001b[38;5;28mobject\u001b[39m\u001b[38;5;241m.\u001b[39m\u001b[38;5;21m__getattribute__\u001b[39m(\u001b[38;5;28mself\u001b[39m, name)\n",
      "File \u001b[1;32mC:\\Anaconda\\Lib\\site-packages\\pandas\\core\\accessor.py:224\u001b[0m, in \u001b[0;36mCachedAccessor.__get__\u001b[1;34m(self, obj, cls)\u001b[0m\n\u001b[0;32m    221\u001b[0m \u001b[38;5;28;01mif\u001b[39;00m obj \u001b[38;5;129;01mis\u001b[39;00m \u001b[38;5;28;01mNone\u001b[39;00m:\n\u001b[0;32m    222\u001b[0m     \u001b[38;5;66;03m# we're accessing the attribute of the class, i.e., Dataset.geo\u001b[39;00m\n\u001b[0;32m    223\u001b[0m     \u001b[38;5;28;01mreturn\u001b[39;00m \u001b[38;5;28mself\u001b[39m\u001b[38;5;241m.\u001b[39m_accessor\n\u001b[1;32m--> 224\u001b[0m accessor_obj \u001b[38;5;241m=\u001b[39m \u001b[38;5;28mself\u001b[39m\u001b[38;5;241m.\u001b[39m_accessor(obj)\n\u001b[0;32m    225\u001b[0m \u001b[38;5;66;03m# Replace the property with the accessor object. Inspired by:\u001b[39;00m\n\u001b[0;32m    226\u001b[0m \u001b[38;5;66;03m# https://www.pydanny.com/cached-property.html\u001b[39;00m\n\u001b[0;32m    227\u001b[0m \u001b[38;5;66;03m# We need to use object.__setattr__ because we overwrite __setattr__ on\u001b[39;00m\n\u001b[0;32m    228\u001b[0m \u001b[38;5;66;03m# NDFrame\u001b[39;00m\n\u001b[0;32m    229\u001b[0m \u001b[38;5;28mobject\u001b[39m\u001b[38;5;241m.\u001b[39m\u001b[38;5;21m__setattr__\u001b[39m(obj, \u001b[38;5;28mself\u001b[39m\u001b[38;5;241m.\u001b[39m_name, accessor_obj)\n",
      "File \u001b[1;32mC:\\Anaconda\\Lib\\site-packages\\pandas\\core\\strings\\accessor.py:181\u001b[0m, in \u001b[0;36mStringMethods.__init__\u001b[1;34m(self, data)\u001b[0m\n\u001b[0;32m    178\u001b[0m \u001b[38;5;28;01mdef\u001b[39;00m \u001b[38;5;21m__init__\u001b[39m(\u001b[38;5;28mself\u001b[39m, data) \u001b[38;5;241m-\u001b[39m\u001b[38;5;241m>\u001b[39m \u001b[38;5;28;01mNone\u001b[39;00m:\n\u001b[0;32m    179\u001b[0m     \u001b[38;5;28;01mfrom\u001b[39;00m \u001b[38;5;21;01mpandas\u001b[39;00m\u001b[38;5;21;01m.\u001b[39;00m\u001b[38;5;21;01mcore\u001b[39;00m\u001b[38;5;21;01m.\u001b[39;00m\u001b[38;5;21;01marrays\u001b[39;00m\u001b[38;5;21;01m.\u001b[39;00m\u001b[38;5;21;01mstring_\u001b[39;00m \u001b[38;5;28;01mimport\u001b[39;00m StringDtype\n\u001b[1;32m--> 181\u001b[0m     \u001b[38;5;28mself\u001b[39m\u001b[38;5;241m.\u001b[39m_inferred_dtype \u001b[38;5;241m=\u001b[39m \u001b[38;5;28mself\u001b[39m\u001b[38;5;241m.\u001b[39m_validate(data)\n\u001b[0;32m    182\u001b[0m     \u001b[38;5;28mself\u001b[39m\u001b[38;5;241m.\u001b[39m_is_categorical \u001b[38;5;241m=\u001b[39m is_categorical_dtype(data\u001b[38;5;241m.\u001b[39mdtype)\n\u001b[0;32m    183\u001b[0m     \u001b[38;5;28mself\u001b[39m\u001b[38;5;241m.\u001b[39m_is_string \u001b[38;5;241m=\u001b[39m \u001b[38;5;28misinstance\u001b[39m(data\u001b[38;5;241m.\u001b[39mdtype, StringDtype)\n",
      "File \u001b[1;32mC:\\Anaconda\\Lib\\site-packages\\pandas\\core\\strings\\accessor.py:235\u001b[0m, in \u001b[0;36mStringMethods._validate\u001b[1;34m(data)\u001b[0m\n\u001b[0;32m    232\u001b[0m inferred_dtype \u001b[38;5;241m=\u001b[39m lib\u001b[38;5;241m.\u001b[39minfer_dtype(values, skipna\u001b[38;5;241m=\u001b[39m\u001b[38;5;28;01mTrue\u001b[39;00m)\n\u001b[0;32m    234\u001b[0m \u001b[38;5;28;01mif\u001b[39;00m inferred_dtype \u001b[38;5;129;01mnot\u001b[39;00m \u001b[38;5;129;01min\u001b[39;00m allowed_types:\n\u001b[1;32m--> 235\u001b[0m     \u001b[38;5;28;01mraise\u001b[39;00m \u001b[38;5;167;01mAttributeError\u001b[39;00m(\u001b[38;5;124m\"\u001b[39m\u001b[38;5;124mCan only use .str accessor with string values!\u001b[39m\u001b[38;5;124m\"\u001b[39m)\n\u001b[0;32m    236\u001b[0m \u001b[38;5;28;01mreturn\u001b[39;00m inferred_dtype\n",
      "\u001b[1;31mAttributeError\u001b[0m: Can only use .str accessor with string values!"
     ]
    }
   ],
   "source": [
    "#df['Reviews count'].str.split().str.get(0)\n",
    "df['Reviews count']=df['Reviews count'].str.replace(',','').astype(float)\n",
    "df.head()"
   ]
  },
  {
   "cell_type": "markdown",
   "metadata": {
    "id": "YhduScScMi2i"
   },
   "source": [
    "#### 5.2.3 Let's deal with Price columns"
   ]
  },
  {
   "cell_type": "code",
   "execution_count": 158,
   "metadata": {
    "id": "pw8bFxmG5wrv"
   },
   "outputs": [
    {
     "ename": "AttributeError",
     "evalue": "Can only use .str accessor with string values!",
     "output_type": "error",
     "traceback": [
      "\u001b[1;31m---------------------------------------------------------------------------\u001b[0m",
      "\u001b[1;31mAttributeError\u001b[0m                            Traceback (most recent call last)",
      "Cell \u001b[1;32mIn[158], line 1\u001b[0m\n\u001b[1;32m----> 1\u001b[0m df[\u001b[38;5;124m'\u001b[39m\u001b[38;5;124mOffer price\u001b[39m\u001b[38;5;124m'\u001b[39m]\u001b[38;5;241m=\u001b[39mdf[\u001b[38;5;124m'\u001b[39m\u001b[38;5;124mOffer price\u001b[39m\u001b[38;5;124m'\u001b[39m]\u001b[38;5;241m.\u001b[39mstr\u001b[38;5;241m.\u001b[39mreplace(\u001b[38;5;124m'\u001b[39m\u001b[38;5;124m,\u001b[39m\u001b[38;5;124m'\u001b[39m,\u001b[38;5;124m'\u001b[39m\u001b[38;5;124m'\u001b[39m)\u001b[38;5;241m.\u001b[39mstr\u001b[38;5;241m.\u001b[39mreplace(\u001b[38;5;124m'\u001b[39m\u001b[38;5;124m₹\u001b[39m\u001b[38;5;124m'\u001b[39m,\u001b[38;5;124m'\u001b[39m\u001b[38;5;124m'\u001b[39m)\u001b[38;5;241m.\u001b[39mastype(\u001b[38;5;28mfloat\u001b[39m)\n\u001b[0;32m      2\u001b[0m df\u001b[38;5;241m.\u001b[39mhead()\n",
      "File \u001b[1;32mC:\\Anaconda\\Lib\\site-packages\\pandas\\core\\generic.py:5989\u001b[0m, in \u001b[0;36mNDFrame.__getattr__\u001b[1;34m(self, name)\u001b[0m\n\u001b[0;32m   5982\u001b[0m \u001b[38;5;28;01mif\u001b[39;00m (\n\u001b[0;32m   5983\u001b[0m     name \u001b[38;5;129;01mnot\u001b[39;00m \u001b[38;5;129;01min\u001b[39;00m \u001b[38;5;28mself\u001b[39m\u001b[38;5;241m.\u001b[39m_internal_names_set\n\u001b[0;32m   5984\u001b[0m     \u001b[38;5;129;01mand\u001b[39;00m name \u001b[38;5;129;01mnot\u001b[39;00m \u001b[38;5;129;01min\u001b[39;00m \u001b[38;5;28mself\u001b[39m\u001b[38;5;241m.\u001b[39m_metadata\n\u001b[0;32m   5985\u001b[0m     \u001b[38;5;129;01mand\u001b[39;00m name \u001b[38;5;129;01mnot\u001b[39;00m \u001b[38;5;129;01min\u001b[39;00m \u001b[38;5;28mself\u001b[39m\u001b[38;5;241m.\u001b[39m_accessors\n\u001b[0;32m   5986\u001b[0m     \u001b[38;5;129;01mand\u001b[39;00m \u001b[38;5;28mself\u001b[39m\u001b[38;5;241m.\u001b[39m_info_axis\u001b[38;5;241m.\u001b[39m_can_hold_identifiers_and_holds_name(name)\n\u001b[0;32m   5987\u001b[0m ):\n\u001b[0;32m   5988\u001b[0m     \u001b[38;5;28;01mreturn\u001b[39;00m \u001b[38;5;28mself\u001b[39m[name]\n\u001b[1;32m-> 5989\u001b[0m \u001b[38;5;28;01mreturn\u001b[39;00m \u001b[38;5;28mobject\u001b[39m\u001b[38;5;241m.\u001b[39m\u001b[38;5;21m__getattribute__\u001b[39m(\u001b[38;5;28mself\u001b[39m, name)\n",
      "File \u001b[1;32mC:\\Anaconda\\Lib\\site-packages\\pandas\\core\\accessor.py:224\u001b[0m, in \u001b[0;36mCachedAccessor.__get__\u001b[1;34m(self, obj, cls)\u001b[0m\n\u001b[0;32m    221\u001b[0m \u001b[38;5;28;01mif\u001b[39;00m obj \u001b[38;5;129;01mis\u001b[39;00m \u001b[38;5;28;01mNone\u001b[39;00m:\n\u001b[0;32m    222\u001b[0m     \u001b[38;5;66;03m# we're accessing the attribute of the class, i.e., Dataset.geo\u001b[39;00m\n\u001b[0;32m    223\u001b[0m     \u001b[38;5;28;01mreturn\u001b[39;00m \u001b[38;5;28mself\u001b[39m\u001b[38;5;241m.\u001b[39m_accessor\n\u001b[1;32m--> 224\u001b[0m accessor_obj \u001b[38;5;241m=\u001b[39m \u001b[38;5;28mself\u001b[39m\u001b[38;5;241m.\u001b[39m_accessor(obj)\n\u001b[0;32m    225\u001b[0m \u001b[38;5;66;03m# Replace the property with the accessor object. Inspired by:\u001b[39;00m\n\u001b[0;32m    226\u001b[0m \u001b[38;5;66;03m# https://www.pydanny.com/cached-property.html\u001b[39;00m\n\u001b[0;32m    227\u001b[0m \u001b[38;5;66;03m# We need to use object.__setattr__ because we overwrite __setattr__ on\u001b[39;00m\n\u001b[0;32m    228\u001b[0m \u001b[38;5;66;03m# NDFrame\u001b[39;00m\n\u001b[0;32m    229\u001b[0m \u001b[38;5;28mobject\u001b[39m\u001b[38;5;241m.\u001b[39m\u001b[38;5;21m__setattr__\u001b[39m(obj, \u001b[38;5;28mself\u001b[39m\u001b[38;5;241m.\u001b[39m_name, accessor_obj)\n",
      "File \u001b[1;32mC:\\Anaconda\\Lib\\site-packages\\pandas\\core\\strings\\accessor.py:181\u001b[0m, in \u001b[0;36mStringMethods.__init__\u001b[1;34m(self, data)\u001b[0m\n\u001b[0;32m    178\u001b[0m \u001b[38;5;28;01mdef\u001b[39;00m \u001b[38;5;21m__init__\u001b[39m(\u001b[38;5;28mself\u001b[39m, data) \u001b[38;5;241m-\u001b[39m\u001b[38;5;241m>\u001b[39m \u001b[38;5;28;01mNone\u001b[39;00m:\n\u001b[0;32m    179\u001b[0m     \u001b[38;5;28;01mfrom\u001b[39;00m \u001b[38;5;21;01mpandas\u001b[39;00m\u001b[38;5;21;01m.\u001b[39;00m\u001b[38;5;21;01mcore\u001b[39;00m\u001b[38;5;21;01m.\u001b[39;00m\u001b[38;5;21;01marrays\u001b[39;00m\u001b[38;5;21;01m.\u001b[39;00m\u001b[38;5;21;01mstring_\u001b[39;00m \u001b[38;5;28;01mimport\u001b[39;00m StringDtype\n\u001b[1;32m--> 181\u001b[0m     \u001b[38;5;28mself\u001b[39m\u001b[38;5;241m.\u001b[39m_inferred_dtype \u001b[38;5;241m=\u001b[39m \u001b[38;5;28mself\u001b[39m\u001b[38;5;241m.\u001b[39m_validate(data)\n\u001b[0;32m    182\u001b[0m     \u001b[38;5;28mself\u001b[39m\u001b[38;5;241m.\u001b[39m_is_categorical \u001b[38;5;241m=\u001b[39m is_categorical_dtype(data\u001b[38;5;241m.\u001b[39mdtype)\n\u001b[0;32m    183\u001b[0m     \u001b[38;5;28mself\u001b[39m\u001b[38;5;241m.\u001b[39m_is_string \u001b[38;5;241m=\u001b[39m \u001b[38;5;28misinstance\u001b[39m(data\u001b[38;5;241m.\u001b[39mdtype, StringDtype)\n",
      "File \u001b[1;32mC:\\Anaconda\\Lib\\site-packages\\pandas\\core\\strings\\accessor.py:235\u001b[0m, in \u001b[0;36mStringMethods._validate\u001b[1;34m(data)\u001b[0m\n\u001b[0;32m    232\u001b[0m inferred_dtype \u001b[38;5;241m=\u001b[39m lib\u001b[38;5;241m.\u001b[39minfer_dtype(values, skipna\u001b[38;5;241m=\u001b[39m\u001b[38;5;28;01mTrue\u001b[39;00m)\n\u001b[0;32m    234\u001b[0m \u001b[38;5;28;01mif\u001b[39;00m inferred_dtype \u001b[38;5;129;01mnot\u001b[39;00m \u001b[38;5;129;01min\u001b[39;00m allowed_types:\n\u001b[1;32m--> 235\u001b[0m     \u001b[38;5;28;01mraise\u001b[39;00m \u001b[38;5;167;01mAttributeError\u001b[39;00m(\u001b[38;5;124m\"\u001b[39m\u001b[38;5;124mCan only use .str accessor with string values!\u001b[39m\u001b[38;5;124m\"\u001b[39m)\n\u001b[0;32m    236\u001b[0m \u001b[38;5;28;01mreturn\u001b[39;00m inferred_dtype\n",
      "\u001b[1;31mAttributeError\u001b[0m: Can only use .str accessor with string values!"
     ]
    }
   ],
   "source": [
    "df['Offer price']=df['Offer price'].str.replace(',','').str.replace('₹','').astype(float)\n",
    "df.head()"
   ]
  },
  {
   "cell_type": "code",
   "execution_count": 157,
   "metadata": {},
   "outputs": [
    {
     "ename": "AttributeError",
     "evalue": "Can only use .str accessor with string values!",
     "output_type": "error",
     "traceback": [
      "\u001b[1;31m---------------------------------------------------------------------------\u001b[0m",
      "\u001b[1;31mAttributeError\u001b[0m                            Traceback (most recent call last)",
      "Cell \u001b[1;32mIn[157], line 1\u001b[0m\n\u001b[1;32m----> 1\u001b[0m df[\u001b[38;5;124m'\u001b[39m\u001b[38;5;124mActual price\u001b[39m\u001b[38;5;124m'\u001b[39m]\u001b[38;5;241m=\u001b[39mdf[\u001b[38;5;124m'\u001b[39m\u001b[38;5;124mActual price\u001b[39m\u001b[38;5;124m'\u001b[39m]\u001b[38;5;241m.\u001b[39mstr\u001b[38;5;241m.\u001b[39mreplace(\u001b[38;5;124m'\u001b[39m\u001b[38;5;124m,\u001b[39m\u001b[38;5;124m'\u001b[39m,\u001b[38;5;124m'\u001b[39m\u001b[38;5;124m'\u001b[39m)\u001b[38;5;241m.\u001b[39mstr\u001b[38;5;241m.\u001b[39mreplace(\u001b[38;5;124m'\u001b[39m\u001b[38;5;124m₹\u001b[39m\u001b[38;5;124m'\u001b[39m,\u001b[38;5;124m'\u001b[39m\u001b[38;5;124m'\u001b[39m)\u001b[38;5;241m.\u001b[39mastype(\u001b[38;5;28mfloat\u001b[39m)\n\u001b[0;32m      2\u001b[0m df\u001b[38;5;241m.\u001b[39mhead()\n",
      "File \u001b[1;32mC:\\Anaconda\\Lib\\site-packages\\pandas\\core\\generic.py:5989\u001b[0m, in \u001b[0;36mNDFrame.__getattr__\u001b[1;34m(self, name)\u001b[0m\n\u001b[0;32m   5982\u001b[0m \u001b[38;5;28;01mif\u001b[39;00m (\n\u001b[0;32m   5983\u001b[0m     name \u001b[38;5;129;01mnot\u001b[39;00m \u001b[38;5;129;01min\u001b[39;00m \u001b[38;5;28mself\u001b[39m\u001b[38;5;241m.\u001b[39m_internal_names_set\n\u001b[0;32m   5984\u001b[0m     \u001b[38;5;129;01mand\u001b[39;00m name \u001b[38;5;129;01mnot\u001b[39;00m \u001b[38;5;129;01min\u001b[39;00m \u001b[38;5;28mself\u001b[39m\u001b[38;5;241m.\u001b[39m_metadata\n\u001b[0;32m   5985\u001b[0m     \u001b[38;5;129;01mand\u001b[39;00m name \u001b[38;5;129;01mnot\u001b[39;00m \u001b[38;5;129;01min\u001b[39;00m \u001b[38;5;28mself\u001b[39m\u001b[38;5;241m.\u001b[39m_accessors\n\u001b[0;32m   5986\u001b[0m     \u001b[38;5;129;01mand\u001b[39;00m \u001b[38;5;28mself\u001b[39m\u001b[38;5;241m.\u001b[39m_info_axis\u001b[38;5;241m.\u001b[39m_can_hold_identifiers_and_holds_name(name)\n\u001b[0;32m   5987\u001b[0m ):\n\u001b[0;32m   5988\u001b[0m     \u001b[38;5;28;01mreturn\u001b[39;00m \u001b[38;5;28mself\u001b[39m[name]\n\u001b[1;32m-> 5989\u001b[0m \u001b[38;5;28;01mreturn\u001b[39;00m \u001b[38;5;28mobject\u001b[39m\u001b[38;5;241m.\u001b[39m\u001b[38;5;21m__getattribute__\u001b[39m(\u001b[38;5;28mself\u001b[39m, name)\n",
      "File \u001b[1;32mC:\\Anaconda\\Lib\\site-packages\\pandas\\core\\accessor.py:224\u001b[0m, in \u001b[0;36mCachedAccessor.__get__\u001b[1;34m(self, obj, cls)\u001b[0m\n\u001b[0;32m    221\u001b[0m \u001b[38;5;28;01mif\u001b[39;00m obj \u001b[38;5;129;01mis\u001b[39;00m \u001b[38;5;28;01mNone\u001b[39;00m:\n\u001b[0;32m    222\u001b[0m     \u001b[38;5;66;03m# we're accessing the attribute of the class, i.e., Dataset.geo\u001b[39;00m\n\u001b[0;32m    223\u001b[0m     \u001b[38;5;28;01mreturn\u001b[39;00m \u001b[38;5;28mself\u001b[39m\u001b[38;5;241m.\u001b[39m_accessor\n\u001b[1;32m--> 224\u001b[0m accessor_obj \u001b[38;5;241m=\u001b[39m \u001b[38;5;28mself\u001b[39m\u001b[38;5;241m.\u001b[39m_accessor(obj)\n\u001b[0;32m    225\u001b[0m \u001b[38;5;66;03m# Replace the property with the accessor object. Inspired by:\u001b[39;00m\n\u001b[0;32m    226\u001b[0m \u001b[38;5;66;03m# https://www.pydanny.com/cached-property.html\u001b[39;00m\n\u001b[0;32m    227\u001b[0m \u001b[38;5;66;03m# We need to use object.__setattr__ because we overwrite __setattr__ on\u001b[39;00m\n\u001b[0;32m    228\u001b[0m \u001b[38;5;66;03m# NDFrame\u001b[39;00m\n\u001b[0;32m    229\u001b[0m \u001b[38;5;28mobject\u001b[39m\u001b[38;5;241m.\u001b[39m\u001b[38;5;21m__setattr__\u001b[39m(obj, \u001b[38;5;28mself\u001b[39m\u001b[38;5;241m.\u001b[39m_name, accessor_obj)\n",
      "File \u001b[1;32mC:\\Anaconda\\Lib\\site-packages\\pandas\\core\\strings\\accessor.py:181\u001b[0m, in \u001b[0;36mStringMethods.__init__\u001b[1;34m(self, data)\u001b[0m\n\u001b[0;32m    178\u001b[0m \u001b[38;5;28;01mdef\u001b[39;00m \u001b[38;5;21m__init__\u001b[39m(\u001b[38;5;28mself\u001b[39m, data) \u001b[38;5;241m-\u001b[39m\u001b[38;5;241m>\u001b[39m \u001b[38;5;28;01mNone\u001b[39;00m:\n\u001b[0;32m    179\u001b[0m     \u001b[38;5;28;01mfrom\u001b[39;00m \u001b[38;5;21;01mpandas\u001b[39;00m\u001b[38;5;21;01m.\u001b[39;00m\u001b[38;5;21;01mcore\u001b[39;00m\u001b[38;5;21;01m.\u001b[39;00m\u001b[38;5;21;01marrays\u001b[39;00m\u001b[38;5;21;01m.\u001b[39;00m\u001b[38;5;21;01mstring_\u001b[39;00m \u001b[38;5;28;01mimport\u001b[39;00m StringDtype\n\u001b[1;32m--> 181\u001b[0m     \u001b[38;5;28mself\u001b[39m\u001b[38;5;241m.\u001b[39m_inferred_dtype \u001b[38;5;241m=\u001b[39m \u001b[38;5;28mself\u001b[39m\u001b[38;5;241m.\u001b[39m_validate(data)\n\u001b[0;32m    182\u001b[0m     \u001b[38;5;28mself\u001b[39m\u001b[38;5;241m.\u001b[39m_is_categorical \u001b[38;5;241m=\u001b[39m is_categorical_dtype(data\u001b[38;5;241m.\u001b[39mdtype)\n\u001b[0;32m    183\u001b[0m     \u001b[38;5;28mself\u001b[39m\u001b[38;5;241m.\u001b[39m_is_string \u001b[38;5;241m=\u001b[39m \u001b[38;5;28misinstance\u001b[39m(data\u001b[38;5;241m.\u001b[39mdtype, StringDtype)\n",
      "File \u001b[1;32mC:\\Anaconda\\Lib\\site-packages\\pandas\\core\\strings\\accessor.py:235\u001b[0m, in \u001b[0;36mStringMethods._validate\u001b[1;34m(data)\u001b[0m\n\u001b[0;32m    232\u001b[0m inferred_dtype \u001b[38;5;241m=\u001b[39m lib\u001b[38;5;241m.\u001b[39minfer_dtype(values, skipna\u001b[38;5;241m=\u001b[39m\u001b[38;5;28;01mTrue\u001b[39;00m)\n\u001b[0;32m    234\u001b[0m \u001b[38;5;28;01mif\u001b[39;00m inferred_dtype \u001b[38;5;129;01mnot\u001b[39;00m \u001b[38;5;129;01min\u001b[39;00m allowed_types:\n\u001b[1;32m--> 235\u001b[0m     \u001b[38;5;28;01mraise\u001b[39;00m \u001b[38;5;167;01mAttributeError\u001b[39;00m(\u001b[38;5;124m\"\u001b[39m\u001b[38;5;124mCan only use .str accessor with string values!\u001b[39m\u001b[38;5;124m\"\u001b[39m)\n\u001b[0;32m    236\u001b[0m \u001b[38;5;28;01mreturn\u001b[39;00m inferred_dtype\n",
      "\u001b[1;31mAttributeError\u001b[0m: Can only use .str accessor with string values!"
     ]
    }
   ],
   "source": [
    "df['Actual price']=df['Actual price'].str.replace(',','').str.replace('₹','').astype(float)\n",
    "df.head()"
   ]
  },
  {
   "cell_type": "code",
   "execution_count": null,
   "metadata": {
    "id": "MJTMyut05wrw"
   },
   "outputs": [],
   "source": []
  },
  {
   "cell_type": "markdown",
   "metadata": {
    "id": "KE3oXAyLMnP-"
   },
   "source": [
    "#### 5.2.4 Let's handle Saving feature"
   ]
  },
  {
   "cell_type": "code",
   "execution_count": 67,
   "metadata": {
    "id": "vp3whab95wrw"
   },
   "outputs": [
    {
     "data": {
      "text/plain": [
       "array(['Save ₹1,500 (14%)', 'Save ₹1,500 (18%)', 'Save ₹2,000 (13%)',\n",
       "       'Save ₹2,500 (18%)', 'Get it by', nan, 'Save ₹1,500 (13%)',\n",
       "       'Save ₹2,000 (12%)', 'Save ₹5,000 (23%)', 'Save ₹1,500 (10%)',\n",
       "       'Save ₹2,000 (10%)', 'Save ₹1,500 (16%)', 'Save ₹50 (4%)',\n",
       "       'Save ₹3,000 (20%)', 'Save ₹700 (9%)', 'Save ₹3,500 (21%)',\n",
       "       'Save ₹3,500 (22%)', 'FREE Delivery by Amazon',\n",
       "       'Save ₹6,000 (29%)', 'Save ₹2,500 (13%)', 'Save ₹3,000 (13%)',\n",
       "       'Save ₹500 (4%)', 'Save ₹2,000 (11%)', 'Save ₹1,500 (9%)',\n",
       "       'Save ₹2,000 (15%)', 'Save ₹4,000 (16%)', 'Save ₹3,000 (12%)',\n",
       "       'Save ₹3,000 (14%)', 'Save ₹6,000 (18%)', 'Save ₹675 (17%)',\n",
       "       'Save ₹3,000 (18%)', 'Save ₹1,000 (9%)', 'Save ₹172 (15%)',\n",
       "       'Save ₹8,000 (32%)', 'Save ₹4,000 (19%)', 'Save ₹2,500 (19%)',\n",
       "       'Save ₹5,000 (14%)', 'Save ₹85 (6%)', 'Save ₹209 (13%)',\n",
       "       'Save ₹4,000 (14%)', 'Save ₹3,000 (9%)', 'Save ₹247 (12%)',\n",
       "       'Save ₹91 (5%)', 'Save ₹273 (15%)', 'Save ₹158 (5%)',\n",
       "       'Save ₹4,000 (15%)', 'Save ₹295 (24%)', 'Save ₹2,000 (17%)',\n",
       "       'Save ₹2,500 (16%)', 'Save ₹3,000 (16%)', 'Save ₹1,000 (7%)',\n",
       "       'Save ₹1,700 (19%)', 'Save ₹175 (16%)', 'Save ₹3,901 (7%)',\n",
       "       'Save ₹393 (9%)', 'Save ₹274 (15%)', 'Save ₹4,000 (18%)',\n",
       "       'Save ₹6,000 (19%)', 'Save ₹3,000 (11%)', 'Save ₹90 (4%)',\n",
       "       'Save ₹4,500 (30%)', 'Save ₹3,000 (21%)', 'Save ₹3,000 (5%)',\n",
       "       'Save ₹2,500 (21%)', 'Save ₹4,999 (22%)', 'Save ₹4,000 (9%)',\n",
       "       'Save ₹250 (20%)', 'Save ₹188 (14%)', 'Save ₹4,000 (22%)',\n",
       "       'Save ₹4,901 (10%)', 'Save ₹280 (8%)', 'Save ₹4,000 (11%)',\n",
       "       'Save ₹4,000 (10%)', 'Save ₹3,000 (10%)', 'Save ₹2,901 (5%)',\n",
       "       'Save ₹63 (1%)', 'Save ₹169 (11%)', 'Save ₹109 (2%)',\n",
       "       'Save ₹316 (10%)', 'Save ₹3,551 (23%)', 'Save ₹5,000 (11%)',\n",
       "       'Save ₹4,000 (13%)', 'Save ₹2,000 (9%)', 'Save ₹6,529 (26%)',\n",
       "       'Save ₹26,001 (30%)', 'Save ₹249 (6%)', 'Save ₹508 (12%)',\n",
       "       'Save ₹5,004 (17%)', 'Save ₹1,208 (50%)', 'Save ₹30,000 (45%)',\n",
       "       'Save ₹14,000 (10%)', 'Save ₹8,000 (19%)', 'Save ₹13,000 (11%)',\n",
       "       'Save ₹943 (18%)', 'Save ₹5,499 (27%)', 'Save ₹30,200 (40%)',\n",
       "       'Save ₹6,000 (23%)', 'Save ₹14,000 (11%)', 'Save ₹170 (13%)',\n",
       "       'Save ₹2,000 (18%)', 'Save ₹1,550 (14%)', 'Save ₹1,109 (10%)',\n",
       "       'Save ₹2,090 (9%)', 'Save ₹4,901 (9%)', 'Save ₹13,009 (34%)',\n",
       "       'Save ₹5,306 (27%)', 'Save ₹200 (1%)', 'Save ₹5,950 (7%)',\n",
       "       'Save ₹14 (1%)', 'Save ₹5,000 (10%)', 'Save ₹5,169 (26%)',\n",
       "       'Save ₹500 (3%)', 'Save ₹4,500 (23%)', 'Save ₹8,245 (18%)',\n",
       "       'Save ₹164 (8%)', 'Save ₹550 (37%)', 'Save ₹3,000 (8%)',\n",
       "       'Save ₹1,999 (12%)', 'Save ₹4,300 (25%)', 'Save ₹1,096 (11%)',\n",
       "       'Save ₹1,000 (10%)', 'Save ₹1,000 (13%)', 'Save ₹5,000 (9%)',\n",
       "       'Save ₹5,148 (17%)', 'Save ₹351 (2%)', 'Save ₹1,509 (14%)',\n",
       "       'Save ₹362 (8%)', 'Save ₹58 (4%)', 'Save ₹2,000 (8%)',\n",
       "       'Save ₹1,509 (5%)', 'Save ₹6,401 (12%)', 'Save ₹4,509 (27%)',\n",
       "       'Save ₹7,000 (17%)', 'Save ₹1,000 (6%)', 'Save ₹100 (10%)',\n",
       "       'Save ₹40 (3%)', 'Save ₹1,149 (13%)', 'Save ₹1,500 (8%)',\n",
       "       'Save ₹2,009 (10%)', 'Save ₹7,053 (47%)', 'Save ₹2,490 (15%)',\n",
       "       'Save ₹28,908.36 (28%)', 'Save ₹2,500 (10%)', 'Save ₹223 (12%)',\n",
       "       'Save ₹7,000 (15%)', 'Save ₹11,000 (8%)', 'Save ₹1,058 (20%)',\n",
       "       'Save ₹500 (38%)', 'Save ₹29,520 (39%)', 'Save ₹3,054 (9%)',\n",
       "       'Save ₹2,114 (11%)', 'Save ₹217 (17%)', 'Save ₹499.10 (4%)',\n",
       "       'Save ₹3,910 (2%)', 'Save ₹8,000 (7%)', 'Save ₹1,009 (7%)',\n",
       "       'Save ₹150 (8%)', 'Save ₹1,319 (53%)', 'Save ₹220 (15%)',\n",
       "       'Save ₹50 (3%)', 'Save ₹13,000 (10%)', 'Save ₹10,000 (8%)',\n",
       "       'Save ₹800 (11%)', 'Save ₹650 (8%)', 'Save ₹20,949 (16%)',\n",
       "       'Save ₹1,700 (16%)', 'Save ₹1', 'Save ₹5,181 (26%)',\n",
       "       'Save ₹11,000 (23%)', 'Save ₹1,000 (3%)', 'Save ₹4,500 (26%)',\n",
       "       'Save ₹3,500 (15%)', 'Save ₹146 (19%)', 'Save ₹3,000 (15%)',\n",
       "       'Save ₹499 (4%)', 'Save ₹901 (1%)', 'Save ₹900 (12%)',\n",
       "       'Save ₹350 (27%)', 'Save ₹2,149 (17%)', 'Save ₹56,301 (47%)',\n",
       "       'Save ₹13,100 (10%)', 'Save ₹8,000 (21%)', 'Save ₹5,601 (7%)',\n",
       "       'Save ₹3,009 (15%)', 'Save ₹449 (3%)', 'Save ₹500 (5%)',\n",
       "       'Save ₹3,009 (60%)', 'Save ₹300 (23%)', 'Save ₹3,799 (12%)',\n",
       "       'Save ₹99 (1%)', 'Save ₹280 (28%)', 'Save ₹8,000 (40%)',\n",
       "       'Save ₹1,600 (14%)', 'Save ₹160 (8%)', 'Save ₹943 (9%)',\n",
       "       'Save ₹250 (17%)', 'Save ₹809 (48%)', 'Save ₹1,991 (7%)',\n",
       "       'Save ₹30,659 (30%)', 'Save ₹100 (5%)', 'Save ₹24,901 (17%)',\n",
       "       'Save ₹7,000 (18%)', 'Save ₹8,000 (26%)', 'Save ₹4,199 (20%)',\n",
       "       'Save ₹3,509 (18%)', 'Save ₹6,491 (21%)', 'Save ₹3,991 (17%)',\n",
       "       'Save ₹550 (29%)', 'Save ₹8,000 (6%)', 'Save ₹10,249 (12%)',\n",
       "       'Save ₹10,000 (7%)', 'Save ₹26,190 (25%)', 'Save ₹8,000 (24%)',\n",
       "       'Save ₹17,910 (10%)', 'Save ₹7,000 (28%)', 'Save ₹6,150 (38%)',\n",
       "       'Save ₹2,300 (14%)', 'Save ₹1,997 (12%)', 'Save ₹4,000 (20%)',\n",
       "       'Save ₹213 (22%)', 'Save ₹27,010 (26%)', 'Save ₹9,210 (30%)',\n",
       "       'Save ₹1,019 (51%)', 'Save ₹7,269 (29%)', 'Save ₹10,100 (7%)',\n",
       "       'Save ₹7,910 (4%)', 'Save ₹249 (19%)', 'Save ₹39,001 (42%)',\n",
       "       'Save ₹650 (41%)', 'Save ₹174 (8%)', 'Save ₹912 (17%)',\n",
       "       'Save ₹1,025 (51%)', 'Save ₹6,580 (24%)', 'Save ₹8,090 (43%)',\n",
       "       'Save ₹17,910 (11%)', 'Save ₹1,600 (13%)', 'Save ₹3,000 (19%)',\n",
       "       'Save ₹2,009 (8%)', 'Save ₹200 (15%)', 'Save ₹1,509 (6%)',\n",
       "       'Save ₹1,019 (6%)', 'Save ₹440 (31%)', 'Save ₹1,500 (11%)',\n",
       "       'Save ₹491 (50%)', 'Save ₹1,551 (10%)', 'Save ₹350 (32%)',\n",
       "       'Save ₹10,609 (29%)', 'Save ₹39,969 (40%)', 'Save ₹5,160 (21%)',\n",
       "       'Save ₹8,400 (7%)', 'Save ₹4,000 (3%)', 'Save ₹600 (40%)',\n",
       "       'Save ₹1,300 (12%)', 'Save ₹8,000 (15%)', 'Save ₹1,499 (11%)',\n",
       "       'Save ₹2,991 (15%)', 'Save ₹1,500 (6%)', 'Save ₹2,077 (13%)',\n",
       "       'Save ₹237 (15%)', 'Save ₹21,010 (27%)', 'Save ₹11,100 (8%)',\n",
       "       'Save ₹3,165 (19%)', 'Save ₹12,000 (27%)', 'Save ₹21,440 (17%)',\n",
       "       'Save ₹510 (2%)', 'Save ₹13,100 (9%)', 'Save ₹2,501 (12%)',\n",
       "       'Save ₹309 (26%)', 'Save ₹2,168 (14%)', 'Save ₹850 (43%)',\n",
       "       'Save ₹5,590 (29%)', 'Save ₹20,000 (22%)', 'Save ₹756 (50%)',\n",
       "       'Save ₹441 (22%)', 'Save ₹2,095 (9%)', 'Save ₹34,010 (33%)',\n",
       "       'Save ₹8,100 (6%)', 'Save ₹6,050 (6%)', 'Save ₹801 (40%)',\n",
       "       'Save ₹5,600 (7%)', 'Save ₹4,901 (20%)', 'Save ₹1,209 (3%)',\n",
       "       'Save ₹10,000 (14%)', 'Save ₹3,140 (11%)', 'Save ₹1,474 (74%)',\n",
       "       'Save ₹151 (11%)', 'Save ₹100 (1%)', 'Save ₹29,100 (42%)',\n",
       "       'Save ₹4,500 (20%)', 'Save ₹474 (32%)', 'Save ₹12,990 (37%)',\n",
       "       'Save ₹17,610 (21%)', 'Save ₹8,100 (5%)', 'Save ₹14,950 (11%)',\n",
       "       'Save ₹999 (10%)', 'Save ₹7,500 (21%)', 'Save ₹190 (1%)',\n",
       "       'Save ₹1,991 (14%)', 'Save ₹12,084 (32%)', 'Save ₹1,300 (65%)',\n",
       "       'Save ₹10,005 (35%)', 'Save ₹4,304 (12%)', 'Save ₹4,500 (15%)',\n",
       "       'Save ₹335 (22%)', 'Save ₹422.75 (4%)', 'Save ₹155 (2%)',\n",
       "       'Save ₹12,749 (15%)', 'Save ₹11,330 (44%)', 'Save ₹1,000 (4%)',\n",
       "       'Save ₹379 (27%)', 'Save ₹400 (33%)', 'Save ₹160 (13%)',\n",
       "       'Save ₹2,500 (36%)', 'Save ₹6,009 (30%)', 'Save ₹25,851 (30%)',\n",
       "       'Save ₹810 (8%)', 'Save ₹5,000 (25%)', 'Save ₹159 (9%)',\n",
       "       'Save ₹4,009 (22%)', 'Save ₹1,950 (15%)', 'Save ₹1,875 (15%)',\n",
       "       'Save ₹1,491 (17%)', 'Save ₹16,910 (10%)', 'Save ₹14,991 (37%)',\n",
       "       'Save ₹11,991 (30%)', 'Save ₹6,059 (26%)', 'Save ₹10,010 (12%)',\n",
       "       'Save ₹2,779 (17%)', 'Save ₹12,991 (32%)', 'Save ₹64 (5%)',\n",
       "       'Save ₹13,010 (8%)', 'Save ₹8,048 (32%)', 'Save ₹720 (40%)',\n",
       "       'Save ₹4,000 (17%)', 'Save ₹299 (3%)', 'Save ₹9,200 (6%)',\n",
       "       'Save ₹8,790 (27%)', 'Save ₹99 (9%)', 'Save ₹1,000 (14%)',\n",
       "       'Save ₹4,100 (2%)', 'Save ₹1,009 (8%)', 'Save ₹1,000 (5%)',\n",
       "       'Save ₹25,001 (15%)', 'Save ₹400 (17%)', 'Save ₹1,100 (55%)',\n",
       "       'Save ₹3,910 (3%)', 'Save ₹550 (34%)', 'Save ₹12,510 (32%)',\n",
       "       'Save ₹14,010 (37%)', 'Save ₹6,000 (22%)', 'Save ₹3,701 (17%)',\n",
       "       'Save ₹5,000 (29%)', 'Save ₹454 (30%)', 'Save ₹7,000 (35%)',\n",
       "       'Save ₹20 (1%)', 'Save ₹17,001 (31%)', 'Save ₹300 (30%)',\n",
       "       'Save ₹7,009 (35%)', 'Save ₹700 (35%)', 'Save ₹17,750 (41%)',\n",
       "       'Save ₹4,019 (13%)', 'Save ₹9,991 (28%)', 'Save ₹30,549 (34%)',\n",
       "       'Save ₹2,499 (14%)', 'Save ₹2,450 (70%)', 'Save ₹500 (29%)',\n",
       "       'Save ₹6,069 (14%)', 'Save ₹1,000 (50%)', 'Save ₹11,990 (30%)',\n",
       "       'Save ₹351 (23%)', 'Save ₹5,000 (28%)', 'Save ₹101 (1%)',\n",
       "       'Save ₹14,100 (10%)', 'Save ₹450 (35%)', 'Save ₹1,000 (25%)',\n",
       "       'Save ₹7,503 (24%)', 'Save ₹300 (20%)', 'Save ₹5,000 (33%)',\n",
       "       'Save ₹400 (27%)', 'Save ₹3,910 (4%)', 'Save ₹3,020 (12%)',\n",
       "       'Save ₹610 (2%)', 'Save ₹6,610 (26%)', 'Save ₹45 (2%)',\n",
       "       'Save ₹1,864 (9%)', 'Save ₹500 (20%)', 'Save ₹549 (37%)',\n",
       "       'Save ₹1,050 (46%)', 'Save ₹5,093 (20%)', 'Save ₹5,250 (32%)',\n",
       "       'Save ₹12,190 (35%)', 'Save ₹422 (28%)', 'Save ₹499 (5%)',\n",
       "       'Save ₹3,000 (23%)', 'Save ₹1,195 (60%)', 'Save ₹5,050 (20%)',\n",
       "       'Save ₹15,090 (52%)', 'Save ₹566 (28%)', 'Save ₹8,000 (33%)',\n",
       "       'Save ₹1,000 (20%)', 'Save ₹1,150 (10%)', 'Save ₹600 (46%)',\n",
       "       'Save ₹1,491 (75%)', 'Save ₹1,700 (57%)', 'Save ₹600 (33%)',\n",
       "       'Save ₹3,009 (18%)', 'Save ₹10,000 (42%)', 'Save ₹5,701 (6%)',\n",
       "       'Save ₹1,090 (5%)', 'Save ₹13,910 (7%)', 'Save ₹13,490 (34%)',\n",
       "       'Save ₹3,110 (12%)', 'Save ₹100 (9%)', 'Save ₹1,140 (57%)',\n",
       "       'Save ₹4,009 (24%)', 'Save ₹800 (7%)', 'Save ₹649 (43%)',\n",
       "       'Save ₹203 (15%)', 'Save ₹1,000 (33%)', 'Save ₹10,010 (24%)',\n",
       "       'Save ₹70 (4%)', 'Get it', 'Save ₹12,009 (32%)', 'Save ₹400 (24%)',\n",
       "       'Save ₹1,100 (58%)', 'Save ₹1,491 (10%)', 'Save ₹130 (43%)',\n",
       "       'Save ₹659 (5%)', 'Save ₹152 (8%)', 'Save ₹6,009 (21%)',\n",
       "       'Save ₹2,600 (16%)', 'Save ₹490 (2%)', 'Save ₹2,009 (9%)',\n",
       "       'Save ₹1,630 (65%)', 'Save ₹18,310 (49%)', 'Save ₹8,500 (6%)',\n",
       "       'Save ₹26,530 (27%)', 'Save ₹236 (13%)', 'Save ₹10,100 (6%)',\n",
       "       'Save ₹5,950 (6%)', 'Save ₹6,000 (41%)', 'Save ₹1,000 (11%)',\n",
       "       'Save ₹1,997 (15%)', 'Save ₹500 (22%)', 'Save ₹16,910 (11%)',\n",
       "       'Save ₹109 (1%)', 'Save ₹9,000 (14%)', 'Save ₹28,811 (16%)',\n",
       "       'Save ₹200 (17%)', 'Save ₹22,010 (26%)', 'Save ₹1,000 (48%)',\n",
       "       'Save ₹5,000 (30%)', 'Save ₹10,100 (8%)', 'Save ₹509 (3%)',\n",
       "       'Save ₹4,800 (18%)', 'Save ₹2,501 (6%)', 'Save ₹400 (20%)',\n",
       "       'Save ₹4,400 (49%)', 'Save ₹3,700 (12%)', 'Save ₹1,950 (65%)',\n",
       "       'Save ₹503 (34%)', 'Save ₹3,470 (17%)', 'Save ₹10,000 (6%)',\n",
       "       'Save ₹2,090 (10%)', 'Save ₹749 (37%)', 'Save ₹11,910 (8%)',\n",
       "       'Save ₹3,210 (10%)', 'Save ₹1,050 (53%)', 'Save ₹6,250 (28%)',\n",
       "       'Save ₹300 (21%)', 'Save ₹5,500 (22%)', 'Save ₹10,000 (29%)',\n",
       "       'Save ₹200 (20%)', 'Save ₹2,500 (9%)', 'Save ₹9,991 (25%)',\n",
       "       'Save ₹229 (15%)', 'Save ₹1,602 (64%)', 'Save ₹300 (17%)',\n",
       "       'Save ₹1,850 (62%)', 'Save ₹12,310 (8%)', 'Save ₹7,000 (11%)',\n",
       "       'Save ₹24,001 (41%)', 'Save ₹10,591 (30%)', 'Save ₹199 (10%)',\n",
       "       'Save ₹1,400 (7%)', 'Save ₹349 (27%)', 'Save ₹4,000 (29%)',\n",
       "       'Save ₹11,910 (7%)', 'Save ₹2,000 (67%)', 'Save ₹2,000 (50%)',\n",
       "       'Save ₹900 (36%)', 'Save ₹100 (7%)', 'Save ₹3,551 (18%)',\n",
       "       'Save ₹500 (10%)', 'Save ₹1,064 (43%)', 'Save ₹200 (18%)',\n",
       "       'Save ₹700 (21%)', 'Save ₹5,500 (15%)', 'Save ₹9,860 (8%)',\n",
       "       'Save ₹1,004 (50%)', 'Save ₹600 (30%)', 'Save ₹100 (6%)',\n",
       "       'Save ₹724 (56%)', 'Save ₹3,200 (8%)', 'Save ₹1,200 (40%)',\n",
       "       'Save ₹11,000 (24%)', 'Save ₹3,019 (38%)', 'Save ₹2,510 (11%)',\n",
       "       'Save ₹2,700 (68%)', 'Save ₹1,200 (48%)', 'Save ₹1,000 (40%)',\n",
       "       'Save ₹400 (22%)', 'Save ₹7,000 (16%)', 'Save ₹1,300 (37%)',\n",
       "       'Save ₹560 (43%)', 'Save ₹1,334 (40%)', 'Save ₹500 (28%)',\n",
       "       'Save ₹5,250 (20%)', 'Save ₹1,600 (53%)', 'Save ₹700 (28%)',\n",
       "       'Save ₹34 (3%)', 'Save ₹6,000 (30%)', 'Save ₹500 (14%)',\n",
       "       'Save ₹5,601 (6%)', 'Save ₹240 (24%)', 'Save ₹14,910 (9%)',\n",
       "       'Save ₹1,800 (60%)', 'Save ₹3,600 (19%)', 'Save ₹800 (40%)',\n",
       "       'Save ₹1,704 (57%)', 'Save ₹630 (33%)', 'Save ₹15,000 (30%)',\n",
       "       'Save ₹8,400 (6%)', 'Save ₹1,240 (62%)', 'Save ₹9,000 (53%)',\n",
       "       'Save ₹1,049 (26%)', 'Save ₹1,000 (8%)', 'Save ₹3,300 (61%)',\n",
       "       'Save ₹550 (22%)', 'Save ₹2,991 (10%)', 'Save ₹7,000 (22%)',\n",
       "       'Save ₹2,331 (19%)', 'Save ₹549 (42%)', 'Save ₹210 (14%)',\n",
       "       'Save ₹700 (70%)', 'Save ₹791 (53%)', 'Save ₹970 (20%)',\n",
       "       'Save ₹280 (17%)', 'Save ₹1,500 (30%)', 'Save ₹4,490 (14%)',\n",
       "       'Save ₹52,000 (68%)', 'Save ₹2,009 (17%)', 'Save ₹2,000 (33%)',\n",
       "       'Save ₹15,000 (38%)', 'Save ₹4,000 (67%)', 'Save ₹349 (22%)',\n",
       "       'Save ₹6,991 (17%)', 'Save ₹880 (80%)', 'Save ₹2,000 (22%)',\n",
       "       'Save ₹7,991 (22%)', 'Save ₹991 (2%)', 'Save ₹13,910 (9%)',\n",
       "       'Save ₹1,100 (24%)', 'Save ₹2,000 (7%)', 'Save ₹1,500 (50%)',\n",
       "       'Save ₹900 (19%)', 'Save ₹449 (35%)', 'Save ₹2,000 (29%)',\n",
       "       'Save ₹991 (67%)', 'Save ₹800 (32%)', 'Save ₹1,745 (23%)',\n",
       "       'Save ₹550 (55%)', 'Save ₹709 (51%)', 'Save ₹113 (7%)',\n",
       "       'Save ₹2,200 (55%)', 'Save ₹1,400 (47%)', 'Save ₹2,010 (41%)',\n",
       "       'Save ₹300 (25%)', 'Save ₹62,000 (50%)', 'Save ₹6,000 (33%)',\n",
       "       'Save ₹22 (2%)', 'Save ₹600 (38%)', 'Save ₹400 (31%)',\n",
       "       'Save ₹30,000 (33%)', 'Save ₹9,511 (9%)', 'Save ₹1,500 (38%)',\n",
       "       'Save ₹1,524 (61%)', 'Save ₹500 (17%)', 'Save ₹500 (33%)',\n",
       "       'Save ₹200 (7%)', 'Save ₹500 (13%)', 'Save ₹100 (8%)',\n",
       "       'Save ₹820 (48%)', 'Save ₹49 (9%)', 'Save ₹721 (72%)',\n",
       "       'Save ₹7,500 (19%)', 'Save ₹1,300 (52%)', 'Save ₹900 (69%)',\n",
       "       'Save ₹1,880 (63%)', 'Save ₹2,430 (43%)', 'Save ₹1,484 (59%)',\n",
       "       'Save ₹300 (27%)', 'Save ₹2,100 (70%)', 'Save ₹814 (58%)',\n",
       "       'Save ₹2,200 (63%)', 'Save ₹3,597.50 (76%)', 'Save ₹139 (16%)',\n",
       "       'Save ₹1,547 (12%)', 'Save ₹1,500 (25%)', 'Save ₹600 (35%)'],\n",
       "      dtype=object)"
      ]
     },
     "execution_count": 67,
     "metadata": {},
     "output_type": "execute_result"
    }
   ],
   "source": [
    "df['Saving'].unique()"
   ]
  },
  {
   "cell_type": "code",
   "execution_count": 86,
   "metadata": {
    "colab": {
     "base_uri": "https://localhost:8080/",
     "height": 208
    },
    "executionInfo": {
     "elapsed": 18,
     "status": "ok",
     "timestamp": 1665620762246,
     "user": {
      "displayName": "V. Arun Kumar",
      "userId": "02991517788843717529"
     },
     "user_tz": -330
    },
    "id": "tll6ldno5wrw",
    "outputId": "8032cfbf-4fa1-4312-80b7-73d15de072a2"
   },
   "outputs": [
    {
     "ename": "AttributeError",
     "evalue": "Can only use .str accessor with string values!",
     "output_type": "error",
     "traceback": [
      "\u001b[1;31m---------------------------------------------------------------------------\u001b[0m",
      "\u001b[1;31mAttributeError\u001b[0m                            Traceback (most recent call last)",
      "Cell \u001b[1;32mIn[86], line 1\u001b[0m\n\u001b[1;32m----> 1\u001b[0m df[\u001b[38;5;124m'\u001b[39m\u001b[38;5;124mSaving\u001b[39m\u001b[38;5;124m'\u001b[39m]\u001b[38;5;241m.\u001b[39mstr\u001b[38;5;241m.\u001b[39msplit()\u001b[38;5;241m.\u001b[39mstr\u001b[38;5;241m.\u001b[39mget(\u001b[38;5;241m1\u001b[39m)\u001b[38;5;241m.\u001b[39mstr\u001b[38;5;241m.\u001b[39mreplace(\u001b[38;5;124m'\u001b[39m\u001b[38;5;124m,\u001b[39m\u001b[38;5;124m'\u001b[39m,\u001b[38;5;124m'\u001b[39m\u001b[38;5;124m'\u001b[39m)\u001b[38;5;241m.\u001b[39mstr\u001b[38;5;241m.\u001b[39mreplace(\u001b[38;5;124m'\u001b[39m\u001b[38;5;124m₹\u001b[39m\u001b[38;5;124m'\u001b[39m,\u001b[38;5;124m'\u001b[39m\u001b[38;5;124m'\u001b[39m)\u001b[38;5;241m.\u001b[39mstr\u001b[38;5;241m.\u001b[39mreplace(\u001b[38;5;124m'\u001b[39m\u001b[38;5;124mit\u001b[39m\u001b[38;5;124m'\u001b[39m,\u001b[38;5;124m'\u001b[39m\u001b[38;5;124mnan\u001b[39m\u001b[38;5;124m'\u001b[39m)\u001b[38;5;241m.\u001b[39mstr\u001b[38;5;241m.\u001b[39mreplace(\u001b[38;5;124m'\u001b[39m\u001b[38;5;124mDelivery\u001b[39m\u001b[38;5;124m'\u001b[39m,\u001b[38;5;124m'\u001b[39m\u001b[38;5;124m0\u001b[39m\u001b[38;5;124m'\u001b[39m)\u001b[38;5;241m.\u001b[39mastype(\u001b[38;5;28mfloat\u001b[39m)\n",
      "File \u001b[1;32mC:\\Anaconda\\Lib\\site-packages\\pandas\\core\\generic.py:5989\u001b[0m, in \u001b[0;36mNDFrame.__getattr__\u001b[1;34m(self, name)\u001b[0m\n\u001b[0;32m   5982\u001b[0m \u001b[38;5;28;01mif\u001b[39;00m (\n\u001b[0;32m   5983\u001b[0m     name \u001b[38;5;129;01mnot\u001b[39;00m \u001b[38;5;129;01min\u001b[39;00m \u001b[38;5;28mself\u001b[39m\u001b[38;5;241m.\u001b[39m_internal_names_set\n\u001b[0;32m   5984\u001b[0m     \u001b[38;5;129;01mand\u001b[39;00m name \u001b[38;5;129;01mnot\u001b[39;00m \u001b[38;5;129;01min\u001b[39;00m \u001b[38;5;28mself\u001b[39m\u001b[38;5;241m.\u001b[39m_metadata\n\u001b[0;32m   5985\u001b[0m     \u001b[38;5;129;01mand\u001b[39;00m name \u001b[38;5;129;01mnot\u001b[39;00m \u001b[38;5;129;01min\u001b[39;00m \u001b[38;5;28mself\u001b[39m\u001b[38;5;241m.\u001b[39m_accessors\n\u001b[0;32m   5986\u001b[0m     \u001b[38;5;129;01mand\u001b[39;00m \u001b[38;5;28mself\u001b[39m\u001b[38;5;241m.\u001b[39m_info_axis\u001b[38;5;241m.\u001b[39m_can_hold_identifiers_and_holds_name(name)\n\u001b[0;32m   5987\u001b[0m ):\n\u001b[0;32m   5988\u001b[0m     \u001b[38;5;28;01mreturn\u001b[39;00m \u001b[38;5;28mself\u001b[39m[name]\n\u001b[1;32m-> 5989\u001b[0m \u001b[38;5;28;01mreturn\u001b[39;00m \u001b[38;5;28mobject\u001b[39m\u001b[38;5;241m.\u001b[39m\u001b[38;5;21m__getattribute__\u001b[39m(\u001b[38;5;28mself\u001b[39m, name)\n",
      "File \u001b[1;32mC:\\Anaconda\\Lib\\site-packages\\pandas\\core\\accessor.py:224\u001b[0m, in \u001b[0;36mCachedAccessor.__get__\u001b[1;34m(self, obj, cls)\u001b[0m\n\u001b[0;32m    221\u001b[0m \u001b[38;5;28;01mif\u001b[39;00m obj \u001b[38;5;129;01mis\u001b[39;00m \u001b[38;5;28;01mNone\u001b[39;00m:\n\u001b[0;32m    222\u001b[0m     \u001b[38;5;66;03m# we're accessing the attribute of the class, i.e., Dataset.geo\u001b[39;00m\n\u001b[0;32m    223\u001b[0m     \u001b[38;5;28;01mreturn\u001b[39;00m \u001b[38;5;28mself\u001b[39m\u001b[38;5;241m.\u001b[39m_accessor\n\u001b[1;32m--> 224\u001b[0m accessor_obj \u001b[38;5;241m=\u001b[39m \u001b[38;5;28mself\u001b[39m\u001b[38;5;241m.\u001b[39m_accessor(obj)\n\u001b[0;32m    225\u001b[0m \u001b[38;5;66;03m# Replace the property with the accessor object. Inspired by:\u001b[39;00m\n\u001b[0;32m    226\u001b[0m \u001b[38;5;66;03m# https://www.pydanny.com/cached-property.html\u001b[39;00m\n\u001b[0;32m    227\u001b[0m \u001b[38;5;66;03m# We need to use object.__setattr__ because we overwrite __setattr__ on\u001b[39;00m\n\u001b[0;32m    228\u001b[0m \u001b[38;5;66;03m# NDFrame\u001b[39;00m\n\u001b[0;32m    229\u001b[0m \u001b[38;5;28mobject\u001b[39m\u001b[38;5;241m.\u001b[39m\u001b[38;5;21m__setattr__\u001b[39m(obj, \u001b[38;5;28mself\u001b[39m\u001b[38;5;241m.\u001b[39m_name, accessor_obj)\n",
      "File \u001b[1;32mC:\\Anaconda\\Lib\\site-packages\\pandas\\core\\strings\\accessor.py:181\u001b[0m, in \u001b[0;36mStringMethods.__init__\u001b[1;34m(self, data)\u001b[0m\n\u001b[0;32m    178\u001b[0m \u001b[38;5;28;01mdef\u001b[39;00m \u001b[38;5;21m__init__\u001b[39m(\u001b[38;5;28mself\u001b[39m, data) \u001b[38;5;241m-\u001b[39m\u001b[38;5;241m>\u001b[39m \u001b[38;5;28;01mNone\u001b[39;00m:\n\u001b[0;32m    179\u001b[0m     \u001b[38;5;28;01mfrom\u001b[39;00m \u001b[38;5;21;01mpandas\u001b[39;00m\u001b[38;5;21;01m.\u001b[39;00m\u001b[38;5;21;01mcore\u001b[39;00m\u001b[38;5;21;01m.\u001b[39;00m\u001b[38;5;21;01marrays\u001b[39;00m\u001b[38;5;21;01m.\u001b[39;00m\u001b[38;5;21;01mstring_\u001b[39;00m \u001b[38;5;28;01mimport\u001b[39;00m StringDtype\n\u001b[1;32m--> 181\u001b[0m     \u001b[38;5;28mself\u001b[39m\u001b[38;5;241m.\u001b[39m_inferred_dtype \u001b[38;5;241m=\u001b[39m \u001b[38;5;28mself\u001b[39m\u001b[38;5;241m.\u001b[39m_validate(data)\n\u001b[0;32m    182\u001b[0m     \u001b[38;5;28mself\u001b[39m\u001b[38;5;241m.\u001b[39m_is_categorical \u001b[38;5;241m=\u001b[39m is_categorical_dtype(data\u001b[38;5;241m.\u001b[39mdtype)\n\u001b[0;32m    183\u001b[0m     \u001b[38;5;28mself\u001b[39m\u001b[38;5;241m.\u001b[39m_is_string \u001b[38;5;241m=\u001b[39m \u001b[38;5;28misinstance\u001b[39m(data\u001b[38;5;241m.\u001b[39mdtype, StringDtype)\n",
      "File \u001b[1;32mC:\\Anaconda\\Lib\\site-packages\\pandas\\core\\strings\\accessor.py:235\u001b[0m, in \u001b[0;36mStringMethods._validate\u001b[1;34m(data)\u001b[0m\n\u001b[0;32m    232\u001b[0m inferred_dtype \u001b[38;5;241m=\u001b[39m lib\u001b[38;5;241m.\u001b[39minfer_dtype(values, skipna\u001b[38;5;241m=\u001b[39m\u001b[38;5;28;01mTrue\u001b[39;00m)\n\u001b[0;32m    234\u001b[0m \u001b[38;5;28;01mif\u001b[39;00m inferred_dtype \u001b[38;5;129;01mnot\u001b[39;00m \u001b[38;5;129;01min\u001b[39;00m allowed_types:\n\u001b[1;32m--> 235\u001b[0m     \u001b[38;5;28;01mraise\u001b[39;00m \u001b[38;5;167;01mAttributeError\u001b[39;00m(\u001b[38;5;124m\"\u001b[39m\u001b[38;5;124mCan only use .str accessor with string values!\u001b[39m\u001b[38;5;124m\"\u001b[39m)\n\u001b[0;32m    236\u001b[0m \u001b[38;5;28;01mreturn\u001b[39;00m inferred_dtype\n",
      "\u001b[1;31mAttributeError\u001b[0m: Can only use .str accessor with string values!"
     ]
    }
   ],
   "source": [
    "#df['Saving'].str.split().str.get(1).str.replace(',','').str.replace('₹','').str.replace('it','nan').str.replace('Delivery','0').astype(float)"
   ]
  },
  {
   "cell_type": "code",
   "execution_count": 156,
   "metadata": {},
   "outputs": [
    {
     "data": {
      "text/html": [
       "<div>\n",
       "<style scoped>\n",
       "    .dataframe tbody tr th:only-of-type {\n",
       "        vertical-align: middle;\n",
       "    }\n",
       "\n",
       "    .dataframe tbody tr th {\n",
       "        vertical-align: top;\n",
       "    }\n",
       "\n",
       "    .dataframe thead th {\n",
       "        text-align: right;\n",
       "    }\n",
       "</style>\n",
       "<table border=\"1\" class=\"dataframe\">\n",
       "  <thead>\n",
       "    <tr style=\"text-align: right;\">\n",
       "      <th></th>\n",
       "      <th>Smartphone</th>\n",
       "      <th>Rating</th>\n",
       "      <th>Reviews count</th>\n",
       "      <th>Offer price</th>\n",
       "      <th>Actual price</th>\n",
       "      <th>Saving</th>\n",
       "      <th>Delivery</th>\n",
       "      <th>rating</th>\n",
       "    </tr>\n",
       "  </thead>\n",
       "  <tbody>\n",
       "    <tr>\n",
       "      <th>0</th>\n",
       "      <td>Redmi 9 (Sky Blue, 4GB RAM, 64GB Storage) | 2....</td>\n",
       "      <td>4.2</td>\n",
       "      <td>NaN</td>\n",
       "      <td>9499.0</td>\n",
       "      <td>10999.0</td>\n",
       "      <td>1500.0</td>\n",
       "      <td>FREE Delivery by Amazon</td>\n",
       "      <td>4.2</td>\n",
       "    </tr>\n",
       "    <tr>\n",
       "      <th>1</th>\n",
       "      <td>Redmi 9A (Nature Green, 2GB RAM, 32GB Storage)...</td>\n",
       "      <td>4.2</td>\n",
       "      <td>NaN</td>\n",
       "      <td>6999.0</td>\n",
       "      <td>8499.0</td>\n",
       "      <td>1500.0</td>\n",
       "      <td>FREE Delivery by Amazon</td>\n",
       "      <td>4.2</td>\n",
       "    </tr>\n",
       "    <tr>\n",
       "      <th>2</th>\n",
       "      <td>Redmi 9A (Sea Blue 2GB RAM 32GB Storage) | 2GH...</td>\n",
       "      <td>4.2</td>\n",
       "      <td>NaN</td>\n",
       "      <td>6999.0</td>\n",
       "      <td>8499.0</td>\n",
       "      <td>1500.0</td>\n",
       "      <td>FREE Delivery by Amazon</td>\n",
       "      <td>4.2</td>\n",
       "    </tr>\n",
       "    <tr>\n",
       "      <th>3</th>\n",
       "      <td>Redmi Note 10 (Aqua Green, 4GB RAM, 64GB Stora...</td>\n",
       "      <td>4.2</td>\n",
       "      <td>NaN</td>\n",
       "      <td>13999.0</td>\n",
       "      <td>15999.0</td>\n",
       "      <td>2000.0</td>\n",
       "      <td>FREE Delivery by Amazon</td>\n",
       "      <td>4.2</td>\n",
       "    </tr>\n",
       "    <tr>\n",
       "      <th>4</th>\n",
       "      <td>Redmi 9 (Carbon Black, 4GB RAM, 64GB Storage) ...</td>\n",
       "      <td>4.2</td>\n",
       "      <td>NaN</td>\n",
       "      <td>9499.0</td>\n",
       "      <td>10999.0</td>\n",
       "      <td>1500.0</td>\n",
       "      <td>FREE Delivery by Amazon</td>\n",
       "      <td>4.2</td>\n",
       "    </tr>\n",
       "  </tbody>\n",
       "</table>\n",
       "</div>"
      ],
      "text/plain": [
       "                                          Smartphone  Rating  Reviews count  \\\n",
       "0  Redmi 9 (Sky Blue, 4GB RAM, 64GB Storage) | 2....     4.2            NaN   \n",
       "1  Redmi 9A (Nature Green, 2GB RAM, 32GB Storage)...     4.2            NaN   \n",
       "2  Redmi 9A (Sea Blue 2GB RAM 32GB Storage) | 2GH...     4.2            NaN   \n",
       "3  Redmi Note 10 (Aqua Green, 4GB RAM, 64GB Stora...     4.2            NaN   \n",
       "4  Redmi 9 (Carbon Black, 4GB RAM, 64GB Storage) ...     4.2            NaN   \n",
       "\n",
       "   Offer price  Actual price  Saving                 Delivery  rating  \n",
       "0       9499.0       10999.0  1500.0  FREE Delivery by Amazon     4.2  \n",
       "1       6999.0        8499.0  1500.0  FREE Delivery by Amazon     4.2  \n",
       "2       6999.0        8499.0  1500.0  FREE Delivery by Amazon     4.2  \n",
       "3      13999.0       15999.0  2000.0  FREE Delivery by Amazon     4.2  \n",
       "4       9499.0       10999.0  1500.0  FREE Delivery by Amazon     4.2  "
      ]
     },
     "execution_count": 156,
     "metadata": {},
     "output_type": "execute_result"
    }
   ],
   "source": [
    "#Another method\n",
    "df['Saving']=df['Saving']=df['Actual price']-df['Offer price']\n",
    "df.head()"
   ]
  },
  {
   "cell_type": "markdown",
   "metadata": {
    "id": "g_GYBJ-u5wrw"
   },
   "source": [
    "### 5.3 Dealing with missing values."
   ]
  },
  {
   "cell_type": "code",
   "execution_count": 94,
   "metadata": {
    "colab": {
     "base_uri": "https://localhost:8080/"
    },
    "executionInfo": {
     "elapsed": 19,
     "status": "ok",
     "timestamp": 1665620762247,
     "user": {
      "displayName": "V. Arun Kumar",
      "userId": "02991517788843717529"
     },
     "user_tz": -330
    },
    "id": "Qh758tHINBZi",
    "outputId": "0e7aa0f5-dce7-4522-9e32-8f5bf4fac543"
   },
   "outputs": [
    {
     "data": {
      "text/plain": [
       "Smartphone                         0\n",
       "Rating                             0\n",
       "Reviews count                      0\n",
       "Offer price                      206\n",
       "Actual price                     313\n",
       "Saving                           313\n",
       "Delivery                           0\n",
       "Status of stock & more offers    836\n",
       "rating                             0\n",
       "dtype: int64"
      ]
     },
     "execution_count": 94,
     "metadata": {},
     "output_type": "execute_result"
    }
   ],
   "source": [
    "df.isnull().sum()"
   ]
  },
  {
   "cell_type": "code",
   "execution_count": 95,
   "metadata": {
    "colab": {
     "base_uri": "https://localhost:8080/"
    },
    "executionInfo": {
     "elapsed": 16,
     "status": "ok",
     "timestamp": 1665620762247,
     "user": {
      "displayName": "V. Arun Kumar",
      "userId": "02991517788843717529"
     },
     "user_tz": -330
    },
    "id": "UmN-EoQ85wrw",
    "outputId": "1286a610-9ac8-414a-b7e7-516115d42b77"
   },
   "outputs": [
    {
     "data": {
      "text/plain": [
       "Smartphone                        0.000000\n",
       "Rating                            0.000000\n",
       "Reviews count                     0.000000\n",
       "Offer price                      15.761285\n",
       "Actual price                     23.947972\n",
       "Saving                           23.947972\n",
       "Delivery                          0.000000\n",
       "Status of stock & more offers    63.963275\n",
       "rating                            0.000000\n",
       "dtype: float64"
      ]
     },
     "execution_count": 95,
     "metadata": {},
     "output_type": "execute_result"
    }
   ],
   "source": [
    "df.isnull().sum()*100/len(df)"
   ]
  },
  {
   "cell_type": "markdown",
   "metadata": {
    "id": "c5a7cHL8JgC6"
   },
   "source": [
    "#### 5.3.1 Standard and Non standard Null values\n",
    "-  What isnull() function recognises as missing value"
   ]
  },
  {
   "cell_type": "code",
   "execution_count": 97,
   "metadata": {
    "colab": {
     "base_uri": "https://localhost:8080/",
     "height": 363
    },
    "executionInfo": {
     "elapsed": 16,
     "status": "ok",
     "timestamp": 1665620762247,
     "user": {
      "displayName": "V. Arun Kumar",
      "userId": "02991517788843717529"
     },
     "user_tz": -330
    },
    "id": "xdh-8dTGNHUW",
    "outputId": "9ae5f124-5ab9-4a6d-e94b-5f1ae748a6c9"
   },
   "outputs": [
    {
     "data": {
      "text/plain": [
       "array(['FREE Delivery by Amazon', 'Paid', 'First Order Free Delivery'],\n",
       "      dtype=object)"
      ]
     },
     "execution_count": 97,
     "metadata": {},
     "output_type": "execute_result"
    }
   ],
   "source": [
    "df['Delivery'].unique()"
   ]
  },
  {
   "cell_type": "markdown",
   "metadata": {
    "id": "qf9j5i7EN7ee"
   },
   "source": [
    "#### 5.3.2 Dropping features having more than 45% null values"
   ]
  },
  {
   "cell_type": "code",
   "execution_count": 104,
   "metadata": {
    "id": "VvSwFLTw5wrw"
   },
   "outputs": [
    {
     "ename": "KeyError",
     "evalue": "\"['Status of stock & more offers'] not found in axis\"",
     "output_type": "error",
     "traceback": [
      "\u001b[1;31m---------------------------------------------------------------------------\u001b[0m",
      "\u001b[1;31mKeyError\u001b[0m                                  Traceback (most recent call last)",
      "Cell \u001b[1;32mIn[104], line 1\u001b[0m\n\u001b[1;32m----> 1\u001b[0m df\u001b[38;5;241m.\u001b[39mdrop(\u001b[38;5;124m'\u001b[39m\u001b[38;5;124mStatus of stock & more offers\u001b[39m\u001b[38;5;124m'\u001b[39m,axis\u001b[38;5;241m=\u001b[39m\u001b[38;5;241m1\u001b[39m,inplace\u001b[38;5;241m=\u001b[39m\u001b[38;5;28;01mTrue\u001b[39;00m)\n\u001b[0;32m      2\u001b[0m df\u001b[38;5;241m.\u001b[39mhead()\n",
      "File \u001b[1;32mC:\\Anaconda\\Lib\\site-packages\\pandas\\core\\frame.py:5258\u001b[0m, in \u001b[0;36mDataFrame.drop\u001b[1;34m(self, labels, axis, index, columns, level, inplace, errors)\u001b[0m\n\u001b[0;32m   5110\u001b[0m \u001b[38;5;28;01mdef\u001b[39;00m \u001b[38;5;21mdrop\u001b[39m(\n\u001b[0;32m   5111\u001b[0m     \u001b[38;5;28mself\u001b[39m,\n\u001b[0;32m   5112\u001b[0m     labels: IndexLabel \u001b[38;5;241m=\u001b[39m \u001b[38;5;28;01mNone\u001b[39;00m,\n\u001b[1;32m   (...)\u001b[0m\n\u001b[0;32m   5119\u001b[0m     errors: IgnoreRaise \u001b[38;5;241m=\u001b[39m \u001b[38;5;124m\"\u001b[39m\u001b[38;5;124mraise\u001b[39m\u001b[38;5;124m\"\u001b[39m,\n\u001b[0;32m   5120\u001b[0m ) \u001b[38;5;241m-\u001b[39m\u001b[38;5;241m>\u001b[39m DataFrame \u001b[38;5;241m|\u001b[39m \u001b[38;5;28;01mNone\u001b[39;00m:\n\u001b[0;32m   5121\u001b[0m \u001b[38;5;250m    \u001b[39m\u001b[38;5;124;03m\"\"\"\u001b[39;00m\n\u001b[0;32m   5122\u001b[0m \u001b[38;5;124;03m    Drop specified labels from rows or columns.\u001b[39;00m\n\u001b[0;32m   5123\u001b[0m \n\u001b[1;32m   (...)\u001b[0m\n\u001b[0;32m   5256\u001b[0m \u001b[38;5;124;03m            weight  1.0     0.8\u001b[39;00m\n\u001b[0;32m   5257\u001b[0m \u001b[38;5;124;03m    \"\"\"\u001b[39;00m\n\u001b[1;32m-> 5258\u001b[0m     \u001b[38;5;28;01mreturn\u001b[39;00m \u001b[38;5;28msuper\u001b[39m()\u001b[38;5;241m.\u001b[39mdrop(\n\u001b[0;32m   5259\u001b[0m         labels\u001b[38;5;241m=\u001b[39mlabels,\n\u001b[0;32m   5260\u001b[0m         axis\u001b[38;5;241m=\u001b[39maxis,\n\u001b[0;32m   5261\u001b[0m         index\u001b[38;5;241m=\u001b[39mindex,\n\u001b[0;32m   5262\u001b[0m         columns\u001b[38;5;241m=\u001b[39mcolumns,\n\u001b[0;32m   5263\u001b[0m         level\u001b[38;5;241m=\u001b[39mlevel,\n\u001b[0;32m   5264\u001b[0m         inplace\u001b[38;5;241m=\u001b[39minplace,\n\u001b[0;32m   5265\u001b[0m         errors\u001b[38;5;241m=\u001b[39merrors,\n\u001b[0;32m   5266\u001b[0m     )\n",
      "File \u001b[1;32mC:\\Anaconda\\Lib\\site-packages\\pandas\\core\\generic.py:4549\u001b[0m, in \u001b[0;36mNDFrame.drop\u001b[1;34m(self, labels, axis, index, columns, level, inplace, errors)\u001b[0m\n\u001b[0;32m   4547\u001b[0m \u001b[38;5;28;01mfor\u001b[39;00m axis, labels \u001b[38;5;129;01min\u001b[39;00m axes\u001b[38;5;241m.\u001b[39mitems():\n\u001b[0;32m   4548\u001b[0m     \u001b[38;5;28;01mif\u001b[39;00m labels \u001b[38;5;129;01mis\u001b[39;00m \u001b[38;5;129;01mnot\u001b[39;00m \u001b[38;5;28;01mNone\u001b[39;00m:\n\u001b[1;32m-> 4549\u001b[0m         obj \u001b[38;5;241m=\u001b[39m obj\u001b[38;5;241m.\u001b[39m_drop_axis(labels, axis, level\u001b[38;5;241m=\u001b[39mlevel, errors\u001b[38;5;241m=\u001b[39merrors)\n\u001b[0;32m   4551\u001b[0m \u001b[38;5;28;01mif\u001b[39;00m inplace:\n\u001b[0;32m   4552\u001b[0m     \u001b[38;5;28mself\u001b[39m\u001b[38;5;241m.\u001b[39m_update_inplace(obj)\n",
      "File \u001b[1;32mC:\\Anaconda\\Lib\\site-packages\\pandas\\core\\generic.py:4591\u001b[0m, in \u001b[0;36mNDFrame._drop_axis\u001b[1;34m(self, labels, axis, level, errors, only_slice)\u001b[0m\n\u001b[0;32m   4589\u001b[0m         new_axis \u001b[38;5;241m=\u001b[39m axis\u001b[38;5;241m.\u001b[39mdrop(labels, level\u001b[38;5;241m=\u001b[39mlevel, errors\u001b[38;5;241m=\u001b[39merrors)\n\u001b[0;32m   4590\u001b[0m     \u001b[38;5;28;01melse\u001b[39;00m:\n\u001b[1;32m-> 4591\u001b[0m         new_axis \u001b[38;5;241m=\u001b[39m axis\u001b[38;5;241m.\u001b[39mdrop(labels, errors\u001b[38;5;241m=\u001b[39merrors)\n\u001b[0;32m   4592\u001b[0m     indexer \u001b[38;5;241m=\u001b[39m axis\u001b[38;5;241m.\u001b[39mget_indexer(new_axis)\n\u001b[0;32m   4594\u001b[0m \u001b[38;5;66;03m# Case for non-unique axis\u001b[39;00m\n\u001b[0;32m   4595\u001b[0m \u001b[38;5;28;01melse\u001b[39;00m:\n",
      "File \u001b[1;32mC:\\Anaconda\\Lib\\site-packages\\pandas\\core\\indexes\\base.py:6699\u001b[0m, in \u001b[0;36mIndex.drop\u001b[1;34m(self, labels, errors)\u001b[0m\n\u001b[0;32m   6697\u001b[0m \u001b[38;5;28;01mif\u001b[39;00m mask\u001b[38;5;241m.\u001b[39many():\n\u001b[0;32m   6698\u001b[0m     \u001b[38;5;28;01mif\u001b[39;00m errors \u001b[38;5;241m!=\u001b[39m \u001b[38;5;124m\"\u001b[39m\u001b[38;5;124mignore\u001b[39m\u001b[38;5;124m\"\u001b[39m:\n\u001b[1;32m-> 6699\u001b[0m         \u001b[38;5;28;01mraise\u001b[39;00m \u001b[38;5;167;01mKeyError\u001b[39;00m(\u001b[38;5;124mf\u001b[39m\u001b[38;5;124m\"\u001b[39m\u001b[38;5;132;01m{\u001b[39;00m\u001b[38;5;28mlist\u001b[39m(labels[mask])\u001b[38;5;132;01m}\u001b[39;00m\u001b[38;5;124m not found in axis\u001b[39m\u001b[38;5;124m\"\u001b[39m)\n\u001b[0;32m   6700\u001b[0m     indexer \u001b[38;5;241m=\u001b[39m indexer[\u001b[38;5;241m~\u001b[39mmask]\n\u001b[0;32m   6701\u001b[0m \u001b[38;5;28;01mreturn\u001b[39;00m \u001b[38;5;28mself\u001b[39m\u001b[38;5;241m.\u001b[39mdelete(indexer)\n",
      "\u001b[1;31mKeyError\u001b[0m: \"['Status of stock & more offers'] not found in axis\""
     ]
    }
   ],
   "source": [
    "df.drop('Status of stock & more offers',axis=1,inplace=True)\n",
    "df.head()"
   ]
  },
  {
   "cell_type": "code",
   "execution_count": null,
   "metadata": {},
   "outputs": [],
   "source": []
  },
  {
   "cell_type": "code",
   "execution_count": null,
   "metadata": {},
   "outputs": [],
   "source": []
  },
  {
   "cell_type": "markdown",
   "metadata": {
    "id": "l6KyTcBoOA0v"
   },
   "source": [
    "#### 5.3.3 Let's analyse price columns"
   ]
  },
  {
   "cell_type": "code",
   "execution_count": 108,
   "metadata": {},
   "outputs": [
    {
     "data": {
      "text/plain": [
       "count      1101.000000\n",
       "mean      24793.492543\n",
       "std       34487.146879\n",
       "min          50.000000\n",
       "25%        1899.000000\n",
       "50%       13199.000000\n",
       "75%       25990.000000\n",
       "max      180890.000000\n",
       "Name: Offer price, dtype: float64"
      ]
     },
     "execution_count": 108,
     "metadata": {},
     "output_type": "execute_result"
    }
   ],
   "source": [
    "df['Offer price'].describe()"
   ]
  },
  {
   "cell_type": "code",
   "execution_count": 111,
   "metadata": {},
   "outputs": [],
   "source": [
    "df['Offer price'].fillna(df['Offer price'].median(),inplace=True)"
   ]
  },
  {
   "cell_type": "code",
   "execution_count": null,
   "metadata": {},
   "outputs": [],
   "source": []
  },
  {
   "cell_type": "code",
   "execution_count": 109,
   "metadata": {},
   "outputs": [
    {
     "data": {
      "text/plain": [
       "count       994.000000\n",
       "mean      28037.673038\n",
       "std       37556.973863\n",
       "min         299.000000\n",
       "25%        2574.000000\n",
       "50%       15990.000000\n",
       "75%       31749.250000\n",
       "max      184800.000000\n",
       "Name: Actual price, dtype: float64"
      ]
     },
     "execution_count": 109,
     "metadata": {},
     "output_type": "execute_result"
    }
   ],
   "source": [
    "df['Actual price'].describe()"
   ]
  },
  {
   "cell_type": "code",
   "execution_count": 112,
   "metadata": {},
   "outputs": [],
   "source": [
    "df['Actual price'].fillna(df['Actual price'].median(),inplace=True)"
   ]
  },
  {
   "cell_type": "code",
   "execution_count": 114,
   "metadata": {},
   "outputs": [
    {
     "data": {
      "text/plain": [
       "Smartphone         0\n",
       "Rating             0\n",
       "Reviews count      0\n",
       "Offer price        0\n",
       "Actual price       0\n",
       "Saving           313\n",
       "Delivery           0\n",
       "rating             0\n",
       "dtype: int64"
      ]
     },
     "execution_count": 114,
     "metadata": {},
     "output_type": "execute_result"
    }
   ],
   "source": [
    "df.isnull().sum()"
   ]
  },
  {
   "cell_type": "code",
   "execution_count": 148,
   "metadata": {},
   "outputs": [],
   "source": [
    "df['Saving'].fillna(df['Saving'].median(),inplace=True)"
   ]
  },
  {
   "cell_type": "code",
   "execution_count": 149,
   "metadata": {},
   "outputs": [
    {
     "data": {
      "text/html": [
       "<div>\n",
       "<style scoped>\n",
       "    .dataframe tbody tr th:only-of-type {\n",
       "        vertical-align: middle;\n",
       "    }\n",
       "\n",
       "    .dataframe tbody tr th {\n",
       "        vertical-align: top;\n",
       "    }\n",
       "\n",
       "    .dataframe thead th {\n",
       "        text-align: right;\n",
       "    }\n",
       "</style>\n",
       "<table border=\"1\" class=\"dataframe\">\n",
       "  <thead>\n",
       "    <tr style=\"text-align: right;\">\n",
       "      <th></th>\n",
       "      <th>Smartphone</th>\n",
       "      <th>Rating</th>\n",
       "      <th>Reviews count</th>\n",
       "      <th>Offer price</th>\n",
       "      <th>Actual price</th>\n",
       "      <th>Saving</th>\n",
       "      <th>Delivery</th>\n",
       "      <th>rating</th>\n",
       "    </tr>\n",
       "  </thead>\n",
       "  <tbody>\n",
       "    <tr>\n",
       "      <th>0</th>\n",
       "      <td>Redmi 9 (Sky Blue, 4GB RAM, 64GB Storage) | 2....</td>\n",
       "      <td>4.2</td>\n",
       "      <td>NaN</td>\n",
       "      <td>9499.0</td>\n",
       "      <td>10999.0</td>\n",
       "      <td>1500.0</td>\n",
       "      <td>FREE Delivery by Amazon</td>\n",
       "      <td>4.2</td>\n",
       "    </tr>\n",
       "    <tr>\n",
       "      <th>1</th>\n",
       "      <td>Redmi 9A (Nature Green, 2GB RAM, 32GB Storage)...</td>\n",
       "      <td>4.2</td>\n",
       "      <td>NaN</td>\n",
       "      <td>6999.0</td>\n",
       "      <td>8499.0</td>\n",
       "      <td>1500.0</td>\n",
       "      <td>FREE Delivery by Amazon</td>\n",
       "      <td>4.2</td>\n",
       "    </tr>\n",
       "    <tr>\n",
       "      <th>2</th>\n",
       "      <td>Redmi 9A (Sea Blue 2GB RAM 32GB Storage) | 2GH...</td>\n",
       "      <td>4.2</td>\n",
       "      <td>NaN</td>\n",
       "      <td>6999.0</td>\n",
       "      <td>8499.0</td>\n",
       "      <td>1500.0</td>\n",
       "      <td>FREE Delivery by Amazon</td>\n",
       "      <td>4.2</td>\n",
       "    </tr>\n",
       "    <tr>\n",
       "      <th>3</th>\n",
       "      <td>Redmi Note 10 (Aqua Green, 4GB RAM, 64GB Stora...</td>\n",
       "      <td>4.2</td>\n",
       "      <td>NaN</td>\n",
       "      <td>13999.0</td>\n",
       "      <td>15999.0</td>\n",
       "      <td>2000.0</td>\n",
       "      <td>FREE Delivery by Amazon</td>\n",
       "      <td>4.2</td>\n",
       "    </tr>\n",
       "    <tr>\n",
       "      <th>4</th>\n",
       "      <td>Redmi 9 (Carbon Black, 4GB RAM, 64GB Storage) ...</td>\n",
       "      <td>4.2</td>\n",
       "      <td>NaN</td>\n",
       "      <td>9499.0</td>\n",
       "      <td>10999.0</td>\n",
       "      <td>1500.0</td>\n",
       "      <td>FREE Delivery by Amazon</td>\n",
       "      <td>4.2</td>\n",
       "    </tr>\n",
       "  </tbody>\n",
       "</table>\n",
       "</div>"
      ],
      "text/plain": [
       "                                          Smartphone  Rating  Reviews count  \\\n",
       "0  Redmi 9 (Sky Blue, 4GB RAM, 64GB Storage) | 2....     4.2            NaN   \n",
       "1  Redmi 9A (Nature Green, 2GB RAM, 32GB Storage)...     4.2            NaN   \n",
       "2  Redmi 9A (Sea Blue 2GB RAM 32GB Storage) | 2GH...     4.2            NaN   \n",
       "3  Redmi Note 10 (Aqua Green, 4GB RAM, 64GB Stora...     4.2            NaN   \n",
       "4  Redmi 9 (Carbon Black, 4GB RAM, 64GB Storage) ...     4.2            NaN   \n",
       "\n",
       "   Offer price  Actual price  Saving                 Delivery  rating  \n",
       "0       9499.0       10999.0  1500.0  FREE Delivery by Amazon     4.2  \n",
       "1       6999.0        8499.0  1500.0  FREE Delivery by Amazon     4.2  \n",
       "2       6999.0        8499.0  1500.0  FREE Delivery by Amazon     4.2  \n",
       "3      13999.0       15999.0  2000.0  FREE Delivery by Amazon     4.2  \n",
       "4       9499.0       10999.0  1500.0  FREE Delivery by Amazon     4.2  "
      ]
     },
     "execution_count": 149,
     "metadata": {},
     "output_type": "execute_result"
    }
   ],
   "source": [
    "df.head()"
   ]
  },
  {
   "cell_type": "code",
   "execution_count": 150,
   "metadata": {},
   "outputs": [
    {
     "data": {
      "text/plain": [
       "Smartphone        object\n",
       "Rating           float64\n",
       "Reviews count    float64\n",
       "Offer price      float64\n",
       "Actual price     float64\n",
       "Saving           float64\n",
       "Delivery          object\n",
       "rating           float64\n",
       "dtype: object"
      ]
     },
     "execution_count": 150,
     "metadata": {},
     "output_type": "execute_result"
    }
   ],
   "source": [
    "df.dtypes"
   ]
  },
  {
   "cell_type": "code",
   "execution_count": 127,
   "metadata": {},
   "outputs": [
    {
     "data": {
      "image/png": "[encoded data removed]",
      "text/plain": [
       "<Figure size 640x480 with 1 Axes>"
      ]
     },
     "metadata": {},
     "output_type": "display_data"
    }
   ],
   "source": []
  },
  {
   "cell_type": "markdown",
   "metadata": {
    "id": "pZNXZBl8Tdag"
   },
   "source": [
    "---------------------------------------------------------------------------------------------"
   ]
  },
  {
   "cell_type": "markdown",
   "metadata": {
    "id": "J4R61nai5wrx"
   },
   "source": [
    "### 5.4 Dealing with Outliers\n",
    "Outliers are extreme values that tend to influce the data distribution significantly without adding much information.\n",
    "- Sometimes they might be valid values\n",
    "- Handling outliers becomes very crucial to build a good model"
   ]
  },
  {
   "cell_type": "markdown",
   "metadata": {
    "id": "8T6i_1hbOvnN"
   },
   "source": [
    "#### 5.4.1 Identify outliers with visualization tools"
   ]
  },
  {
   "cell_type": "code",
   "execution_count": null,
   "metadata": {
    "colab": {
     "base_uri": "https://localhost:8080/",
     "height": 112
    },
    "executionInfo": {
     "elapsed": 13,
     "status": "ok",
     "timestamp": 1665620762947,
     "user": {
      "displayName": "V. Arun Kumar",
      "userId": "02991517788843717529"
     },
     "user_tz": -330
    },
    "id": "t2MNyZ0h5wrx",
    "outputId": "6ed808e1-0411-4415-ef63-3cf9a8d8692a"
   },
   "outputs": [],
   "source": [
    "# Make use of the Boxplot"
   ]
  },
  {
   "cell_type": "code",
   "execution_count": 129,
   "metadata": {
    "colab": {
     "base_uri": "https://localhost:8080/",
     "height": 1000
    },
    "executionInfo": {
     "elapsed": 722,
     "status": "ok",
     "timestamp": 1665620763657,
     "user": {
      "displayName": "V. Arun Kumar",
      "userId": "02991517788843717529"
     },
     "user_tz": -330
    },
    "id": "MVUv71Uq5wrx",
    "outputId": "38d97b4b-552c-427a-e01b-aa8461b5bb41",
    "scrolled": true
   },
   "outputs": [
    {
     "data": {
      "image/png": "[encoded data removed]",
      "text/plain": [
       "<Figure size 640x480 with 1 Axes>"
      ]
     },
     "metadata": {},
     "output_type": "display_data"
    }
   ],
   "source": [
    "df.boxplot('Reviews count')\n",
    "plt.show()"
   ]
  },
  {
   "cell_type": "markdown",
   "metadata": {
    "id": "IHEQvLmqO2nA"
   },
   "source": [
    "#### 5.4.2 Let's check the skewness"
   ]
  },
  {
   "cell_type": "code",
   "execution_count": 131,
   "metadata": {
    "colab": {
     "base_uri": "https://localhost:8080/"
    },
    "executionInfo": {
     "elapsed": 14,
     "status": "ok",
     "timestamp": 1665620763658,
     "user": {
      "displayName": "V. Arun Kumar",
      "userId": "02991517788843717529"
     },
     "user_tz": -330
    },
    "id": "67UN9j1N5wrx",
    "outputId": "b76e467a-5b43-4cfe-98cf-99eb6d5970e5"
   },
   "outputs": [
    {
     "data": {
      "text/plain": [
       "Rating           0.907410\n",
       "Reviews count    5.156072\n",
       "Offer price      2.492857\n",
       "Actual price     2.567285\n",
       "Saving           4.062536\n",
       "rating           0.907410\n",
       "dtype: float64"
      ]
     },
     "execution_count": 131,
     "metadata": {},
     "output_type": "execute_result"
    }
   ],
   "source": [
    "df.skew(numeric_only=True)"
   ]
  },
  {
   "cell_type": "markdown",
   "metadata": {
    "id": "TetSAEKDPH3w"
   },
   "source": [
    "#### 5.4.3 Handling outliers\n",
    "There are various ways we can deal with outliers.\n",
    "- We can try transformations using log method, Z-score transformation\n",
    "- We can try capping using IQR method\n",
    "- We can impute the data using an appropriate value"
   ]
  },
  {
   "cell_type": "markdown",
   "metadata": {
    "id": "5sqJhcCdPsU9"
   },
   "source": [
    "#### 5.4.4 Using log transformation"
   ]
  },
  {
   "cell_type": "code",
   "execution_count": 135,
   "metadata": {
    "id": "UehBN5GqQUlj"
   },
   "outputs": [
    {
     "data": {
      "text/plain": [
       "0       11.382919\n",
       "1       11.219722\n",
       "2       11.219722\n",
       "3       11.467080\n",
       "4       11.382919\n",
       "          ...    \n",
       "1362     0.000000\n",
       "1363     0.000000\n",
       "1364     0.000000\n",
       "1365     0.000000\n",
       "1366     0.000000\n",
       "Name: Reviews count, Length: 1307, dtype: float64"
      ]
     },
     "execution_count": 135,
     "metadata": {},
     "output_type": "execute_result"
    }
   ],
   "source": [
    "df['Reviews count']=np.log(df['Reviews count'])"
   ]
  },
  {
   "cell_type": "code",
   "execution_count": null,
   "metadata": {},
   "outputs": [],
   "source": [
    "#when there is 0 in value\n",
    "np.log1p"
   ]
  },
  {
   "cell_type": "markdown",
   "metadata": {
    "id": "lcukBYNB5wrx"
   },
   "source": [
    "- For feature *'Reviews count'*, lets apply Log transformation technique in order to reduce the skewness."
   ]
  },
  {
   "cell_type": "code",
   "execution_count": 141,
   "metadata": {
    "id": "fV0pgIl25wrx"
   },
   "outputs": [
    {
     "data": {
      "text/plain": [
       "nan"
      ]
     },
     "execution_count": 141,
     "metadata": {},
     "output_type": "execute_result"
    }
   ],
   "source": [
    "np.log(df['Reviews count']).skew()"
   ]
  },
  {
   "cell_type": "markdown",
   "metadata": {
    "id": "N6bn_i975wrx"
   },
   "source": [
    "- For feature *'Offer price'*, lets apply Log transformation technique in order to reduce the skewness."
   ]
  },
  {
   "cell_type": "code",
   "execution_count": 143,
   "metadata": {
    "id": "Z_dvpCAA5wry"
   },
   "outputs": [
    {
     "data": {
      "text/plain": [
       "-0.343444857464617"
      ]
     },
     "execution_count": 143,
     "metadata": {},
     "output_type": "execute_result"
    }
   ],
   "source": [
    "np.log(df['Offer price']).skew()"
   ]
  },
  {
   "cell_type": "markdown",
   "metadata": {
    "id": "DHycyMab5wry"
   },
   "source": [
    "- For feature *'Actual price'*, lets apply Log transformation technique in order to reduce the skewness."
   ]
  },
  {
   "cell_type": "code",
   "execution_count": 160,
   "metadata": {
    "id": "4IO_u5Vq5wry"
   },
   "outputs": [
    {
     "data": {
      "text/plain": [
       "Smartphone          0\n",
       "Rating              0\n",
       "Reviews count    1307\n",
       "Offer price         0\n",
       "Actual price        0\n",
       "Saving              0\n",
       "Delivery            0\n",
       "rating              0\n",
       "dtype: int64"
      ]
     },
     "execution_count": 160,
     "metadata": {},
     "output_type": "execute_result"
    }
   ],
   "source": [
    "df.isnull().sum()"
   ]
  },
  {
   "cell_type": "markdown",
   "metadata": {
    "id": "OHzjEFD15wry"
   },
   "source": [
    "- For feature *'Saving'*, lets apply Log transformation technique in order to reduce the skewness."
   ]
  },
  {
   "cell_type": "code",
   "execution_count": null,
   "metadata": {
    "colab": {
     "base_uri": "https://localhost:8080/",
     "height": 1000
    },
    "executionInfo": {
     "elapsed": 617,
     "status": "ok",
     "timestamp": 1665620764266,
     "user": {
      "displayName": "V. Arun Kumar",
      "userId": "02991517788843717529"
     },
     "user_tz": -330
    },
    "id": "9k52_l-N5wry",
    "outputId": "9f44f4e4-0b23-445b-a99c-c143e3f40075",
    "scrolled": true
   },
   "outputs": [],
   "source": []
  },
  {
   "cell_type": "markdown",
   "metadata": {
    "id": "yAqJb_qTQCzA"
   },
   "source": [
    "#### 5.4.5 Using IQR Method"
   ]
  },
  {
   "cell_type": "code",
   "execution_count": 151,
   "metadata": {},
   "outputs": [
    {
     "name": "stdout",
     "output_type": "stream",
     "text": [
      "Rating               0.5\n",
      "Reviews count        NaN\n",
      "Offer price      19496.0\n",
      "Actual price     18995.5\n",
      "Saving            2750.0\n",
      "rating               0.5\n",
      "dtype: float64\n"
     ]
    }
   ],
   "source": [
    "q1=df.quantile(0.25,numeric_only=True)\n",
    "q3=df.quantile(0.75,numeric_only=True)\n",
    "iqr=q3-q1\n",
    "print(iqr)"
   ]
  },
  {
   "cell_type": "code",
   "execution_count": null,
   "metadata": {},
   "outputs": [],
   "source": []
  },
  {
   "cell_type": "markdown",
   "metadata": {
    "id": "vOAnbCldQSKV"
   },
   "source": [
    "#### 5.4.6 Using Capping Technique."
   ]
  },
  {
   "cell_type": "code",
   "execution_count": null,
   "metadata": {
    "colab": {
     "base_uri": "https://localhost:8080/",
     "height": 282
    },
    "executionInfo": {
     "elapsed": 22,
     "status": "ok",
     "timestamp": 1665620765190,
     "user": {
      "displayName": "V. Arun Kumar",
      "userId": "02991517788843717529"
     },
     "user_tz": -330
    },
    "id": "V7jUIZOdQSKV",
    "outputId": "de12e3c2-f9f4-4f9c-dbae-dafb1e9e2c42"
   },
   "outputs": [],
   "source": []
  },
  {
   "cell_type": "code",
   "execution_count": null,
   "metadata": {},
   "outputs": [],
   "source": []
  },
  {
   "cell_type": "code",
   "execution_count": 165,
   "metadata": {},
   "outputs": [],
   "source": [
    "df.cov(numeric_only=True)"
   ]
  },
  {
   "cell_type": "code",
   "execution_count": 171,
   "metadata": {},
   "outputs": [
    {
     "data": {
      "image/png": "[encoded data removed]",
      "text/plain": [
       "<Figure size 640x480 with 2 Axes>"
      ]
     },
     "metadata": {},
     "output_type": "display_data"
    }
   ],
   "source": [
    "sns.heatmap(df.cov(numeric_only=True),annot=True,fmt='.2f',cmap='viridis')\n",
    "plt.show()"
   ]
  },
  {
   "cell_type": "code",
   "execution_count": null,
   "metadata": {},
   "outputs": [],
   "source": []
  },
  {
   "cell_type": "code",
   "execution_count": null,
   "metadata": {},
   "outputs": [],
   "source": []
  },
  {
   "cell_type": "code",
   "execution_count": null,
   "metadata": {},
   "outputs": [],
   "source": []
  },
  {
   "cell_type": "markdown",
   "metadata": {
    "id": "EJ65_OX9Rmp-"
   },
   "source": [
    "# Happy Learning :)"
   ]
  }
 ],
 "metadata": {
  "colab": {
   "collapsed_sections": [],
   "provenance": []
  },
  "kernelspec": {
   "display_name": "Python 3 (ipykernel)",
   "language": "python",
   "name": "python3"
  },
  "language_info": {
   "codemirror_mode": {
    "name": "ipython",
    "version": 3
   },
   "file_extension": ".py",
   "mimetype": "text/x-python",
   "name": "python",
   "nbconvert_exporter": "python",
   "pygments_lexer": "ipython3",
   "version": "3.11.5"
  }
 },
 "nbformat": 4,
 "nbformat_minor": 1
}
