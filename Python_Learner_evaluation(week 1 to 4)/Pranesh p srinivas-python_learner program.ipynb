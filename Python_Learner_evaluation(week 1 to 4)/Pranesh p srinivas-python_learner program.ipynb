{
 "cells": [
  {
   "cell_type": "markdown",
   "id": "b4472782",
   "metadata": {
    "id": "b4472782"
   },
   "source": [
    "# Generate Synthetic data"
   ]
  },
  {
   "cell_type": "code",
   "execution_count": 157,
   "id": "762a2bcf",
   "metadata": {
    "id": "762a2bcf",
    "outputId": "d1550794-7ec7-429c-f82e-e3fe8efc2381"
   },
   "outputs": [
    {
     "name": "stdout",
     "output_type": "stream",
     "text": [
      "    Name  Age  Gender  Test 1  Test 2  Test 3  Height  Weight\n",
      "0  Name1   56    Male     NaN    98.0    81.0     NaN    54.0\n",
      "1  Name2   46    Male     NaN    91.0    98.0   185.0    51.0\n",
      "2  Name3   32  Female    95.0    77.0    82.0   154.0    95.0\n",
      "3  Name4   25  Female    94.0    76.0    89.0   188.0    73.0\n",
      "4  Name5   38  Female    91.0    93.0     NaN   155.0    67.0\n"
     ]
    }
   ],
   "source": [
    "import pandas as pd\n",
    "import numpy as np\n",
    "import random\n",
    "\n",
    "# Set a random seed for reproducibility\n",
    "np.random.seed(42)\n",
    "\n",
    "# Generate synthetic data\n",
    "data = {\n",
    "    'Name': ['Name' + str(i) for i in range(1, 5001)],\n",
    "    'Age': np.random.randint(18, 60, 5000),\n",
    "    'Gender': random.choices(['Male', 'Female'], k=5000),\n",
    "    'Test 1': np.random.randint(60, 100, 5000),\n",
    "    'Test 2': np.random.randint(60, 100, 5000),\n",
    "    'Test 3': np.random.randint(60, 100, 5000),\n",
    "    'Height': np.random.randint(150, 200, 5000),\n",
    "    'Weight': np.random.randint(50, 100, 5000)\n",
    "}\n",
    "\n",
    "# Create a DataFrame\n",
    "df = pd.DataFrame(data)\n",
    "\n",
    "# Insert some missing values\n",
    "for col in 'Test 1', 'Test 2', 'Test 3', 'Height', 'Weight':\n",
    "    df.loc[df.sample(frac=0.1).index, col] = np.nan\n",
    "\n",
    "# Save the DataFrame to a CSV file\n",
    "df.to_csv('synthetic_data.csv', index=False)\n",
    "\n",
    "print(df.head())\n"
   ]
  },
  {
   "cell_type": "markdown",
   "id": "72940eb5",
   "metadata": {
    "id": "72940eb5"
   },
   "source": [
    "# Questions (1 marks each)"
   ]
  },
  {
   "cell_type": "markdown",
   "id": "pezI7pAJN4fm",
   "metadata": {
    "id": "pezI7pAJN4fm"
   },
   "source": [
    "# Questions\n",
    "\n",
    "Part - A\n",
    "\n",
    "Question 1:\n",
    "Load the synthetic data CSV file into a pandas DataFrame and display the first 10 rows of the DataFrame.\n",
    "\n",
    "Question 2:\n",
    "Check for any missing values in the DataFrame.\n",
    "\n",
    "Question 3:\n",
    "Fill the missing values in each column with the mean of that column.\n",
    "\n",
    "Question 4:\n",
    "Create a new column in the DataFrame called 'Average' which is the average of 'Test 1', 'Test 2', and 'Test 3' for each student.\n",
    "\n",
    "Question 5:\n",
    "Find the total number of Male and Female students.\n",
    "\n",
    "Question 6:\n",
    "Find the average age of Male and Female students.\n",
    "\n",
    "Question 7:\n",
    "Find the students with the top 10 highest average marks.\n",
    "\n",
    "Question 8:\n",
    "Create a histogram to visualize the distribution of the 'Average' marks.\n",
    "\n",
    "Question 9:\n",
    "Create a bar plot to visualize the number of Male and Female students.\n",
    "\n",
    "Question 10:\n",
    "Create a box plot to visualize the distribution of the 'Age' of the students.\n",
    "\n",
    "Question 11:\n",
    "Create a multivariate line plot to visualize the average scores of 'Test 1', 'Test 2', and 'Test 3' for males and females.\n",
    "\n",
    "Question 12:\n",
    "Save the updated DataFrame with the 'Average' column to a new CSV file.\n",
    "\n",
    "\n",
    "Part - B\n",
    "\n",
    "Question 13:\n",
    "Convert the following lists into a single pandas DataFrame.\n",
    "\n",
    "names = ['Alice', 'Bob', 'Charlie', 'David']\n",
    "ages = [25, 30, 35, 40]\n",
    "\n",
    "\n",
    "Question 14:\n",
    "Create a list of squares of all even numbers between 1 and 20 using list comprehension.\n",
    "\n",
    "Question 15:\n",
    "Use a lambda function to create a list of odd numbers between 1 and 50.\n",
    "\n",
    "Question 16:\n",
    "Write a Python program to print a right angle triangle using \"*\""
   ]
  },
  {
   "cell_type": "raw",
   "id": "c073ab2a",
   "metadata": {
    "id": "c073ab2a"
   },
   "source": [
    "Part - A\n",
    "\n",
    "Question 1:\n",
    "Load the synthetic data CSV file into a pandas DataFrame and display the first 10 rows of the DataFrame.\n",
    "\n",
    "Question 2:\n",
    "Check for any missing values in the DataFrame.\n",
    "\n",
    "Question 3:\n",
    "Fill the missing values in each column with the mean of that column.\n",
    "\n",
    "Question 4:\n",
    "Create a new column in the DataFrame called 'Average' which is the average of 'Test 1', 'Test 2', and 'Test 3' for each student.\n",
    "\n",
    "Question 5:\n",
    "Find the total number of Male and Female students.\n",
    "\n",
    "Question 6:\n",
    "Gender\t\n",
    "\n",
    "Question 7:\n",
    "Find the students with the top 10 highest average marks.\n",
    "\n",
    "Question 8:\n",
    "Create a histogram to visualize the distribution of the 'Average' marks.\n",
    "\n",
    "Question 9:\n",
    "Create a bar plot to visualize the number of Male and Female students.\n",
    "\n",
    "Question 10:\n",
    "Create a box plot to visualize the distribution of the 'Age' of the students.\n",
    "\n",
    "Question 11:\n",
    "Create a multivariate line plot to visualize the average scores of 'Test 1', 'Test 2', and 'Test 3' for males and females.\n",
    "\n",
    "Question 12:\n",
    "Save the updated DataFrame with the 'Average' column to a new CSV file.\n",
    "\n",
    "\n",
    "Part - B\n",
    "\n",
    "Question 13:\n",
    "Convert the following lists into a single pandas DataFrame.\n",
    "\n",
    "names = ['Alice', 'Bob', 'Charlie', 'David']\n",
    "ages = [25, 30, 35, 40]\n",
    "\n",
    "\n",
    "Question 14:\n",
    "Create a list of squares of all even numbers between 1 and 20 using list comprehension.\n",
    "\n",
    "Question 15:\n",
    "Use a lambda function to create a list of odd numbers between 1 and 50.\n",
    "\n",
    "Question 16:\n",
    "Write a Python program to print the following star pattern:\n",
    "\n",
    "*\n",
    "**\n",
    "***\n",
    "****\n",
    "*****"
   ]
  },
  {
   "cell_type": "code",
   "execution_count": 158,
   "id": "cFxJNemSeSjd",
   "metadata": {
    "id": "cFxJNemSeSjd"
   },
   "outputs": [],
   "source": [
    "#1)Reading the data\n",
    "\n",
    "data=pd.read_csv('synthetic_data.csv')"
   ]
  },
  {
   "cell_type": "code",
   "execution_count": 159,
   "id": "2203645c",
   "metadata": {
    "id": "Cz1sXbK6Nzbw"
   },
   "outputs": [
    {
     "data": {
      "text/html": [
       "<div>\n",
       "<style scoped>\n",
       "    .dataframe tbody tr th:only-of-type {\n",
       "        vertical-align: middle;\n",
       "    }\n",
       "\n",
       "    .dataframe tbody tr th {\n",
       "        vertical-align: top;\n",
       "    }\n",
       "\n",
       "    .dataframe thead th {\n",
       "        text-align: right;\n",
       "    }\n",
       "</style>\n",
       "<table border=\"1\" class=\"dataframe\">\n",
       "  <thead>\n",
       "    <tr style=\"text-align: right;\">\n",
       "      <th></th>\n",
       "      <th>Name</th>\n",
       "      <th>Age</th>\n",
       "      <th>Gender</th>\n",
       "      <th>Test 1</th>\n",
       "      <th>Test 2</th>\n",
       "      <th>Test 3</th>\n",
       "      <th>Height</th>\n",
       "      <th>Weight</th>\n",
       "    </tr>\n",
       "  </thead>\n",
       "  <tbody>\n",
       "    <tr>\n",
       "      <th>0</th>\n",
       "      <td>Name1</td>\n",
       "      <td>56</td>\n",
       "      <td>Male</td>\n",
       "      <td>NaN</td>\n",
       "      <td>98.0</td>\n",
       "      <td>81.0</td>\n",
       "      <td>NaN</td>\n",
       "      <td>54.0</td>\n",
       "    </tr>\n",
       "    <tr>\n",
       "      <th>1</th>\n",
       "      <td>Name2</td>\n",
       "      <td>46</td>\n",
       "      <td>Male</td>\n",
       "      <td>NaN</td>\n",
       "      <td>91.0</td>\n",
       "      <td>98.0</td>\n",
       "      <td>185.0</td>\n",
       "      <td>51.0</td>\n",
       "    </tr>\n",
       "    <tr>\n",
       "      <th>2</th>\n",
       "      <td>Name3</td>\n",
       "      <td>32</td>\n",
       "      <td>Female</td>\n",
       "      <td>95.0</td>\n",
       "      <td>77.0</td>\n",
       "      <td>82.0</td>\n",
       "      <td>154.0</td>\n",
       "      <td>95.0</td>\n",
       "    </tr>\n",
       "    <tr>\n",
       "      <th>3</th>\n",
       "      <td>Name4</td>\n",
       "      <td>25</td>\n",
       "      <td>Female</td>\n",
       "      <td>94.0</td>\n",
       "      <td>76.0</td>\n",
       "      <td>89.0</td>\n",
       "      <td>188.0</td>\n",
       "      <td>73.0</td>\n",
       "    </tr>\n",
       "    <tr>\n",
       "      <th>4</th>\n",
       "      <td>Name5</td>\n",
       "      <td>38</td>\n",
       "      <td>Female</td>\n",
       "      <td>91.0</td>\n",
       "      <td>93.0</td>\n",
       "      <td>NaN</td>\n",
       "      <td>155.0</td>\n",
       "      <td>67.0</td>\n",
       "    </tr>\n",
       "    <tr>\n",
       "      <th>5</th>\n",
       "      <td>Name6</td>\n",
       "      <td>56</td>\n",
       "      <td>Female</td>\n",
       "      <td>99.0</td>\n",
       "      <td>98.0</td>\n",
       "      <td>77.0</td>\n",
       "      <td>194.0</td>\n",
       "      <td>76.0</td>\n",
       "    </tr>\n",
       "    <tr>\n",
       "      <th>6</th>\n",
       "      <td>Name7</td>\n",
       "      <td>36</td>\n",
       "      <td>Female</td>\n",
       "      <td>83.0</td>\n",
       "      <td>66.0</td>\n",
       "      <td>69.0</td>\n",
       "      <td>185.0</td>\n",
       "      <td>73.0</td>\n",
       "    </tr>\n",
       "    <tr>\n",
       "      <th>7</th>\n",
       "      <td>Name8</td>\n",
       "      <td>40</td>\n",
       "      <td>Male</td>\n",
       "      <td>76.0</td>\n",
       "      <td>94.0</td>\n",
       "      <td>98.0</td>\n",
       "      <td>194.0</td>\n",
       "      <td>78.0</td>\n",
       "    </tr>\n",
       "    <tr>\n",
       "      <th>8</th>\n",
       "      <td>Name9</td>\n",
       "      <td>28</td>\n",
       "      <td>Male</td>\n",
       "      <td>NaN</td>\n",
       "      <td>89.0</td>\n",
       "      <td>89.0</td>\n",
       "      <td>153.0</td>\n",
       "      <td>60.0</td>\n",
       "    </tr>\n",
       "    <tr>\n",
       "      <th>9</th>\n",
       "      <td>Name10</td>\n",
       "      <td>28</td>\n",
       "      <td>Female</td>\n",
       "      <td>NaN</td>\n",
       "      <td>71.0</td>\n",
       "      <td>85.0</td>\n",
       "      <td>159.0</td>\n",
       "      <td>97.0</td>\n",
       "    </tr>\n",
       "  </tbody>\n",
       "</table>\n",
       "</div>"
      ],
      "text/plain": [
       "     Name  Age  Gender  Test 1  Test 2  Test 3  Height  Weight\n",
       "0   Name1   56    Male     NaN    98.0    81.0     NaN    54.0\n",
       "1   Name2   46    Male     NaN    91.0    98.0   185.0    51.0\n",
       "2   Name3   32  Female    95.0    77.0    82.0   154.0    95.0\n",
       "3   Name4   25  Female    94.0    76.0    89.0   188.0    73.0\n",
       "4   Name5   38  Female    91.0    93.0     NaN   155.0    67.0\n",
       "5   Name6   56  Female    99.0    98.0    77.0   194.0    76.0\n",
       "6   Name7   36  Female    83.0    66.0    69.0   185.0    73.0\n",
       "7   Name8   40    Male    76.0    94.0    98.0   194.0    78.0\n",
       "8   Name9   28    Male     NaN    89.0    89.0   153.0    60.0\n",
       "9  Name10   28  Female     NaN    71.0    85.0   159.0    97.0"
      ]
     },
     "execution_count": 159,
     "metadata": {},
     "output_type": "execute_result"
    }
   ],
   "source": [
    "#To display the first 10 data\n",
    "data.head(10)"
   ]
  },
  {
   "cell_type": "code",
   "execution_count": 160,
   "id": "m7Uv4HAGN8Df",
   "metadata": {
    "id": "m7Uv4HAGN8Df"
   },
   "outputs": [
    {
     "data": {
      "text/plain": [
       "Name        0\n",
       "Age         0\n",
       "Gender      0\n",
       "Test 1    500\n",
       "Test 2    500\n",
       "Test 3    500\n",
       "Height    500\n",
       "Weight    500\n",
       "dtype: int64"
      ]
     },
     "execution_count": 160,
     "metadata": {},
     "output_type": "execute_result"
    }
   ],
   "source": [
    "#2)To find the missing values\n",
    "data.isnull().sum()"
   ]
  },
  {
   "cell_type": "code",
   "execution_count": 161,
   "id": "6cc00cc3",
   "metadata": {},
   "outputs": [],
   "source": [
    "#3)To fill the null values with mean\n",
    "data['Test 1']=data['Test 1'].fillna(data['Test 1'].mean())"
   ]
  },
  {
   "cell_type": "code",
   "execution_count": 162,
   "id": "045831d2",
   "metadata": {},
   "outputs": [],
   "source": [
    "data['Test 2']=data['Test 2'].fillna(data['Test 2'].mean())"
   ]
  },
  {
   "cell_type": "code",
   "execution_count": 163,
   "id": "97e1dc89",
   "metadata": {},
   "outputs": [],
   "source": [
    "data['Test 3']=data['Test 3'].fillna(data['Test 3'].mean())"
   ]
  },
  {
   "cell_type": "code",
   "execution_count": 164,
   "id": "7e46db2a",
   "metadata": {},
   "outputs": [],
   "source": [
    "data['Height']=data['Height'].fillna(data['Height'].mean())"
   ]
  },
  {
   "cell_type": "code",
   "execution_count": 165,
   "id": "fbb527a7",
   "metadata": {},
   "outputs": [],
   "source": [
    "data['Weight']=data['Weight'].fillna(data['Weight'].mean())"
   ]
  },
  {
   "cell_type": "code",
   "execution_count": 166,
   "id": "8c18417a",
   "metadata": {},
   "outputs": [
    {
     "data": {
      "text/plain": [
       "Name      0\n",
       "Age       0\n",
       "Gender    0\n",
       "Test 1    0\n",
       "Test 2    0\n",
       "Test 3    0\n",
       "Height    0\n",
       "Weight    0\n",
       "dtype: int64"
      ]
     },
     "execution_count": 166,
     "metadata": {},
     "output_type": "execute_result"
    }
   ],
   "source": [
    "data.isnull().sum()"
   ]
  },
  {
   "cell_type": "code",
   "execution_count": 167,
   "id": "46f72849",
   "metadata": {},
   "outputs": [],
   "source": [
    "#4)Creating a new column\n",
    "data['Average']=df[['Test 1','Test 2','Test 3']].mean(axis=1)"
   ]
  },
  {
   "cell_type": "code",
   "execution_count": 168,
   "id": "bd5e120c",
   "metadata": {},
   "outputs": [
    {
     "data": {
      "text/plain": [
       "7"
      ]
     },
     "execution_count": 168,
     "metadata": {},
     "output_type": "execute_result"
    }
   ],
   "source": [
    "#Checking the null values in Average column\n",
    "data['Average'].isnull().sum()"
   ]
  },
  {
   "cell_type": "code",
   "execution_count": 169,
   "id": "359e7705",
   "metadata": {},
   "outputs": [],
   "source": [
    "data['Average']=data['Average'].fillna(data['Average'].mean())"
   ]
  },
  {
   "cell_type": "code",
   "execution_count": 170,
   "id": "e7a32a9b",
   "metadata": {},
   "outputs": [
    {
     "data": {
      "text/plain": [
       "0"
      ]
     },
     "execution_count": 170,
     "metadata": {},
     "output_type": "execute_result"
    }
   ],
   "source": [
    "data['Average'].isnull().sum()"
   ]
  },
  {
   "cell_type": "code",
   "execution_count": 171,
   "id": "82edc1f0",
   "metadata": {},
   "outputs": [
    {
     "data": {
      "text/html": [
       "<div>\n",
       "<style scoped>\n",
       "    .dataframe tbody tr th:only-of-type {\n",
       "        vertical-align: middle;\n",
       "    }\n",
       "\n",
       "    .dataframe tbody tr th {\n",
       "        vertical-align: top;\n",
       "    }\n",
       "\n",
       "    .dataframe thead th {\n",
       "        text-align: right;\n",
       "    }\n",
       "</style>\n",
       "<table border=\"1\" class=\"dataframe\">\n",
       "  <thead>\n",
       "    <tr style=\"text-align: right;\">\n",
       "      <th></th>\n",
       "      <th>Name</th>\n",
       "      <th>Age</th>\n",
       "      <th>Gender</th>\n",
       "      <th>Test 1</th>\n",
       "      <th>Test 2</th>\n",
       "      <th>Test 3</th>\n",
       "      <th>Height</th>\n",
       "      <th>Weight</th>\n",
       "      <th>Average</th>\n",
       "    </tr>\n",
       "  </thead>\n",
       "  <tbody>\n",
       "    <tr>\n",
       "      <th>1479</th>\n",
       "      <td>Name1480</td>\n",
       "      <td>45</td>\n",
       "      <td>Female</td>\n",
       "      <td>67.0</td>\n",
       "      <td>93.000000</td>\n",
       "      <td>81.0</td>\n",
       "      <td>191.0</td>\n",
       "      <td>75.0</td>\n",
       "      <td>80.333333</td>\n",
       "    </tr>\n",
       "    <tr>\n",
       "      <th>4419</th>\n",
       "      <td>Name4420</td>\n",
       "      <td>24</td>\n",
       "      <td>Male</td>\n",
       "      <td>76.0</td>\n",
       "      <td>67.000000</td>\n",
       "      <td>69.0</td>\n",
       "      <td>185.0</td>\n",
       "      <td>69.0</td>\n",
       "      <td>70.666667</td>\n",
       "    </tr>\n",
       "    <tr>\n",
       "      <th>392</th>\n",
       "      <td>Name393</td>\n",
       "      <td>54</td>\n",
       "      <td>Female</td>\n",
       "      <td>81.0</td>\n",
       "      <td>69.000000</td>\n",
       "      <td>78.0</td>\n",
       "      <td>172.0</td>\n",
       "      <td>72.0</td>\n",
       "      <td>76.000000</td>\n",
       "    </tr>\n",
       "    <tr>\n",
       "      <th>4954</th>\n",
       "      <td>Name4955</td>\n",
       "      <td>39</td>\n",
       "      <td>Male</td>\n",
       "      <td>65.0</td>\n",
       "      <td>78.000000</td>\n",
       "      <td>76.0</td>\n",
       "      <td>172.0</td>\n",
       "      <td>64.0</td>\n",
       "      <td>73.000000</td>\n",
       "    </tr>\n",
       "    <tr>\n",
       "      <th>3838</th>\n",
       "      <td>Name3839</td>\n",
       "      <td>51</td>\n",
       "      <td>Female</td>\n",
       "      <td>99.0</td>\n",
       "      <td>79.543111</td>\n",
       "      <td>96.0</td>\n",
       "      <td>184.0</td>\n",
       "      <td>53.0</td>\n",
       "      <td>97.500000</td>\n",
       "    </tr>\n",
       "  </tbody>\n",
       "</table>\n",
       "</div>"
      ],
      "text/plain": [
       "          Name  Age  Gender  Test 1     Test 2  Test 3  Height  Weight  \\\n",
       "1479  Name1480   45  Female    67.0  93.000000    81.0   191.0    75.0   \n",
       "4419  Name4420   24    Male    76.0  67.000000    69.0   185.0    69.0   \n",
       "392    Name393   54  Female    81.0  69.000000    78.0   172.0    72.0   \n",
       "4954  Name4955   39    Male    65.0  78.000000    76.0   172.0    64.0   \n",
       "3838  Name3839   51  Female    99.0  79.543111    96.0   184.0    53.0   \n",
       "\n",
       "        Average  \n",
       "1479  80.333333  \n",
       "4419  70.666667  \n",
       "392   76.000000  \n",
       "4954  73.000000  \n",
       "3838  97.500000  "
      ]
     },
     "execution_count": 171,
     "metadata": {},
     "output_type": "execute_result"
    }
   ],
   "source": [
    "#Data after creating new column\n",
    "data.sample(5)"
   ]
  },
  {
   "cell_type": "code",
   "execution_count": 172,
   "id": "23b3d9fe",
   "metadata": {},
   "outputs": [
    {
     "data": {
      "text/plain": [
       "Gender\n",
       "Female    2579\n",
       "Male      2421\n",
       "Name: Gender, dtype: int64"
      ]
     },
     "execution_count": 172,
     "metadata": {},
     "output_type": "execute_result"
    }
   ],
   "source": [
    "#5)Find the total number of Male and Female students.\n",
    "data.groupby('Gender')['Gender'].count()"
   ]
  },
  {
   "cell_type": "code",
   "execution_count": 173,
   "id": "8f373cd0",
   "metadata": {},
   "outputs": [
    {
     "data": {
      "text/plain": [
       "Gender\n",
       "Female    38.622334\n",
       "Male      38.704667\n",
       "Name: Age, dtype: float64"
      ]
     },
     "execution_count": 173,
     "metadata": {},
     "output_type": "execute_result"
    }
   ],
   "source": [
    "#6)Find the average age of Male and Female students.\n",
    "\n",
    "data.groupby('Gender')['Age'].mean()"
   ]
  },
  {
   "cell_type": "code",
   "execution_count": 174,
   "id": "349a0ee2",
   "metadata": {},
   "outputs": [],
   "source": [
    "#7)Find the students with the top 10 highest average marks\n",
    "Top_10=data.groupby('Name')['Average'].mean().sort_values(ascending=False)"
   ]
  },
  {
   "cell_type": "code",
   "execution_count": 175,
   "id": "99a47c9b",
   "metadata": {},
   "outputs": [
    {
     "data": {
      "text/plain": [
       "Name\n",
       "Name4596    99.0\n",
       "Name3175    98.5\n",
       "Name2946    98.0\n",
       "Name2563    98.0\n",
       "Name3244    98.0\n",
       "Name4763    98.0\n",
       "Name3839    97.5\n",
       "Name2858    97.5\n",
       "Name3298    97.5\n",
       "Name1153    97.5\n",
       "Name: Average, dtype: float64"
      ]
     },
     "execution_count": 175,
     "metadata": {},
     "output_type": "execute_result"
    }
   ],
   "source": [
    "Top_10.head(10)"
   ]
  },
  {
   "cell_type": "code",
   "execution_count": 176,
   "id": "e630d199",
   "metadata": {},
   "outputs": [
    {
     "data": {
      "image/png": "[encoded data removed]",
      "text/plain": [
       "<Figure size 640x480 with 1 Axes>"
      ]
     },
     "metadata": {},
     "output_type": "display_data"
    }
   ],
   "source": [
    "#8)Create a histogram to visualize the distribution of the 'Average' marks.\n",
    "import seaborn as sns\n",
    "sns.histplot(data, x=\"Average\")\n",
    "plt.title('Distribution of Average')\n",
    "plt.show()"
   ]
  },
  {
   "cell_type": "code",
   "execution_count": 177,
   "id": "b68c9548",
   "metadata": {},
   "outputs": [
    {
     "data": {
      "image/png": "[encoded data removed]",
      "text/plain": [
       "<Figure size 640x480 with 1 Axes>"
      ]
     },
     "metadata": {},
     "output_type": "display_data"
    }
   ],
   "source": [
    "#9)Create a bar plot to visualize the number of Male and Female students.\n",
    "a=data['Gender'].value_counts()\n",
    "sns.barplot(data,x=a.index,y=a.values)\n",
    "plt.ylabel('Count of Gender')\n",
    "plt.title(\"Distribution Of Gender\")\n",
    "plt.show()"
   ]
  },
  {
   "cell_type": "code",
   "execution_count": 178,
   "id": "5c4d0be3",
   "metadata": {},
   "outputs": [
    {
     "data": {
      "image/png": "[encoded data removed]",
      "text/plain": [
       "<Figure size 640x480 with 1 Axes>"
      ]
     },
     "metadata": {},
     "output_type": "display_data"
    }
   ],
   "source": [
    "#10)Create a box plot to visualize the distribution of the 'Age' of the students.\n",
    "ax = sns.boxplot(data[\"Age\"]) \n",
    "plt.show()"
   ]
  },
  {
   "cell_type": "code",
   "execution_count": 191,
   "id": "18c2a491",
   "metadata": {},
   "outputs": [
    {
     "data": {
      "image/png": "[encoded data removed]",
      "text/plain": [
       "<Figure size 640x480 with 1 Axes>"
      ]
     },
     "metadata": {},
     "output_type": "display_data"
    }
   ],
   "source": [
    "#11)Create a multivariate line plot to visualize the average scores of 'Test 1', 'Test 2', and 'Test 3' for males and females.\n",
    "\n",
    "sns.lineplot(x=data[\"Average\"], y=data[\"Gender\"], data=data)\n",
    "plt.show()"
   ]
  },
  {
   "cell_type": "code",
   "execution_count": 180,
   "id": "c2372c99",
   "metadata": {},
   "outputs": [],
   "source": [
    "# Save the DataFrame to a CSV file\n",
    "data.to_csv('syn_data.csv', index=False)"
   ]
  },
  {
   "cell_type": "code",
   "execution_count": null,
   "id": "3f72bd32",
   "metadata": {},
   "outputs": [],
   "source": []
  },
  {
   "cell_type": "code",
   "execution_count": 181,
   "id": "2db5ff3f",
   "metadata": {},
   "outputs": [
    {
     "data": {
      "text/html": [
       "<div>\n",
       "<style scoped>\n",
       "    .dataframe tbody tr th:only-of-type {\n",
       "        vertical-align: middle;\n",
       "    }\n",
       "\n",
       "    .dataframe tbody tr th {\n",
       "        vertical-align: top;\n",
       "    }\n",
       "\n",
       "    .dataframe thead th {\n",
       "        text-align: right;\n",
       "    }\n",
       "</style>\n",
       "<table border=\"1\" class=\"dataframe\">\n",
       "  <thead>\n",
       "    <tr style=\"text-align: right;\">\n",
       "      <th></th>\n",
       "      <th>0</th>\n",
       "      <th>1</th>\n",
       "    </tr>\n",
       "  </thead>\n",
       "  <tbody>\n",
       "    <tr>\n",
       "      <th>0</th>\n",
       "      <td>Alice</td>\n",
       "      <td>25</td>\n",
       "    </tr>\n",
       "    <tr>\n",
       "      <th>1</th>\n",
       "      <td>Bob</td>\n",
       "      <td>30</td>\n",
       "    </tr>\n",
       "    <tr>\n",
       "      <th>2</th>\n",
       "      <td>Charlie</td>\n",
       "      <td>35</td>\n",
       "    </tr>\n",
       "    <tr>\n",
       "      <th>3</th>\n",
       "      <td>David</td>\n",
       "      <td>40</td>\n",
       "    </tr>\n",
       "  </tbody>\n",
       "</table>\n",
       "</div>"
      ],
      "text/plain": [
       "         0   1\n",
       "0    Alice  25\n",
       "1      Bob  30\n",
       "2  Charlie  35\n",
       "3    David  40"
      ]
     },
     "execution_count": 181,
     "metadata": {},
     "output_type": "execute_result"
    }
   ],
   "source": [
    "#Convert the following lists into a single pandas DataFrame.\n",
    "\n",
    "names = ['Alice', 'Bob', 'Charlie', 'David']\n",
    "ages = [25, 30, 35, 40]\n",
    "pd.DataFrame([names,ages]).T\n"
   ]
  },
  {
   "cell_type": "code",
   "execution_count": 182,
   "id": "c02e5c58",
   "metadata": {},
   "outputs": [
    {
     "name": "stdout",
     "output_type": "stream",
     "text": [
      "[4, 16, 36, 64, 100, 144, 196, 256, 324]\n"
     ]
    }
   ],
   "source": [
    "#Create a list of squares of all even numbers between 1 and 20 using list comprehension.\n",
    "\n",
    "l1=[x**2 for x in range(2,20) if x%2==0]\n",
    "print(l1)"
   ]
  },
  {
   "cell_type": "code",
   "execution_count": 183,
   "id": "d0fee027",
   "metadata": {},
   "outputs": [
    {
     "name": "stdout",
     "output_type": "stream",
     "text": [
      "[1, 3, 5, 7, 9, 11, 13, 15, 17, 19, 21, 23, 25, 27, 29, 31, 33, 35, 37, 39, 41, 43, 45, 47, 49]\n"
     ]
    }
   ],
   "source": [
    "#Use a lambda function to create a list of odd numbers between 1 and 50.\n",
    "l1=list(filter(lambda x:x%2!=0 ,range(1,50)))\n",
    "print(l1)"
   ]
  },
  {
   "cell_type": "code",
   "execution_count": 184,
   "id": "b8cb6a3c",
   "metadata": {},
   "outputs": [
    {
     "name": "stdout",
     "output_type": "stream",
     "text": [
      "*\n",
      "**\n",
      "***\n",
      "****\n",
      "*****\n"
     ]
    }
   ],
   "source": [
    "#Write a Python program to print the following star pattern:\n",
    "\n",
    "for i in range(1,6):\n",
    "    print(\"*\"*i)"
   ]
  }
 ],
 "metadata": {
  "colab": {
   "provenance": []
  },
  "kernelspec": {
   "display_name": "Python 3 (ipykernel)",
   "language": "python",
   "name": "python3"
  },
  "language_info": {
   "codemirror_mode": {
    "name": "ipython",
    "version": 3
   },
   "file_extension": ".py",
   "mimetype": "text/x-python",
   "name": "python",
   "nbconvert_exporter": "python",
   "pygments_lexer": "ipython3",
   "version": "3.11.5"
  }
 },
 "nbformat": 4,
 "nbformat_minor": 5
}
