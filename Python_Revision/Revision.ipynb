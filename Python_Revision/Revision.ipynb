{
 "cells": [
  {
   "cell_type": "code",
   "execution_count": 1,
   "id": "6c9030fc",
   "metadata": {},
   "outputs": [],
   "source": [
    "import numpy as np\n",
    "import pandas as pd"
   ]
  },
  {
   "cell_type": "code",
   "execution_count": 3,
   "id": "c7bc874a",
   "metadata": {},
   "outputs": [
    {
     "name": "stdout",
     "output_type": "stream",
     "text": [
      "20\n"
     ]
    }
   ],
   "source": [
    "arr1=np.array(20)\n",
    "print(arr1)"
   ]
  },
  {
   "cell_type": "code",
   "execution_count": 4,
   "id": "34fea926",
   "metadata": {},
   "outputs": [
    {
     "name": "stdout",
     "output_type": "stream",
     "text": [
      "[ 1  3  5  7  9 11 13 15 17 19 21 23 25 27 29 31 33 35 37 39 41 43 45 47\n",
      " 49]\n"
     ]
    }
   ],
   "source": [
    "arr4=np.arange(1,50,2)  #arrange accepts float value\n",
    "print(arr4)"
   ]
  },
  {
   "cell_type": "code",
   "execution_count": 8,
   "id": "301f3368",
   "metadata": {},
   "outputs": [
    {
     "name": "stdout",
     "output_type": "stream",
     "text": [
      "[0 0 0 0]\n",
      "[1. 1. 1. 1. 1.]\n"
     ]
    }
   ],
   "source": [
    "arr5=np.zeros(4,dtype=int)\n",
    "arr5_1=np.ones(5)\n",
    "print(arr5)\n",
    "print(arr5_1)"
   ]
  },
  {
   "cell_type": "code",
   "execution_count": 11,
   "id": "8179d5fe",
   "metadata": {},
   "outputs": [
    {
     "name": "stdout",
     "output_type": "stream",
     "text": [
      "[[0 0 0]\n",
      " [0 0 0]\n",
      " [0 0 0]\n",
      " [0 0 0]]\n"
     ]
    }
   ],
   "source": [
    "arr6=np.zeros((4,3),dtype=int)\n",
    "print(arr6)"
   ]
  },
  {
   "cell_type": "code",
   "execution_count": 20,
   "id": "9997c931",
   "metadata": {},
   "outputs": [
    {
     "name": "stdout",
     "output_type": "stream",
     "text": [
      "[[7 8]\n",
      " [2 1]]\n"
     ]
    }
   ],
   "source": [
    "arr7=np.random.randint(1,11,4).reshape(2,2)\n",
    "print(arr7)"
   ]
  },
  {
   "cell_type": "code",
   "execution_count": 31,
   "id": "e6913b47",
   "metadata": {},
   "outputs": [
    {
     "name": "stdout",
     "output_type": "stream",
     "text": [
      "[[0 0]\n",
      " [0 0]\n",
      " [0 0]\n",
      " [0 0]]\n",
      "[[1 1]\n",
      " [1 1]]\n"
     ]
    }
   ],
   "source": [
    "a=np.zeros((4,2),dtype=int)\n",
    "b=np.ones((2,2),dtype=int)\n",
    "print(a)\n",
    "print(b)"
   ]
  },
  {
   "cell_type": "code",
   "execution_count": 32,
   "id": "a02f3ed9",
   "metadata": {},
   "outputs": [
    {
     "name": "stdout",
     "output_type": "stream",
     "text": [
      "[[90 80 67 89 78]\n",
      " [11 22 54 67 98]\n",
      " [91 87 65 45 72]]\n"
     ]
    }
   ],
   "source": [
    "np_2d_array = np.array([[90, 80, 67, 89, 78],\n",
    "                       [11, 22, 54, 67, 98],\n",
    "                       [91, 87, 65, 45, 72]])\n",
    "print(np_2d_array)"
   ]
  },
  {
   "cell_type": "code",
   "execution_count": 35,
   "id": "08da4e92",
   "metadata": {},
   "outputs": [
    {
     "data": {
      "text/plain": [
       "array([2, 2, 2, 4, 2])"
      ]
     },
     "execution_count": 35,
     "metadata": {},
     "output_type": "execute_result"
    }
   ],
   "source": [
    "b=np.array([1,2,3,4,5])\n",
    "b[b%2!=0]=2\n",
    "b"
   ]
  },
  {
   "cell_type": "code",
   "execution_count": 39,
   "id": "d6ded2e0",
   "metadata": {},
   "outputs": [
    {
     "name": "stdout",
     "output_type": "stream",
     "text": [
      "[13 15 25]\n",
      "[12 30 28]\n"
     ]
    }
   ],
   "source": [
    "A = [[1, 4, 8], [5, 7, 3], [9, 14, 2]]\n",
    "b = [[1, 5, 7], [1,7, 4], [10, 18, 17]]\n",
    "arrr1=np.array(A)\n",
    "arrr2=np.array(b)\n",
    "print(arrr1.sum(axis=1))#to calculate only column\n",
    "print(arrr2.sum(axis=0))#to calculate only row"
   ]
  }
 ],
 "metadata": {
  "kernelspec": {
   "display_name": "Python 3 (ipykernel)",
   "language": "python",
   "name": "python3"
  },
  "language_info": {
   "codemirror_mode": {
    "name": "ipython",
    "version": 3
   },
   "file_extension": ".py",
   "mimetype": "text/x-python",
   "name": "python",
   "nbconvert_exporter": "python",
   "pygments_lexer": "ipython3",
   "version": "3.11.5"
  }
 },
 "nbformat": 4,
 "nbformat_minor": 5
}
