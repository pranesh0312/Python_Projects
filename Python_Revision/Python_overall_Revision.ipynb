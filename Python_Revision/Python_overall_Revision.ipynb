{
 "cells": [
  {
   "cell_type": "markdown",
   "id": "cf3e90bc",
   "metadata": {},
   "source": [
    "# DAY-1"
   ]
  },
  {
   "cell_type": "code",
   "execution_count": 12,
   "id": "01a75d6c",
   "metadata": {},
   "outputs": [],
   "source": [
    "name=\"Pranesh\""
   ]
  },
  {
   "cell_type": "code",
   "execution_count": 7,
   "id": "d69a1954",
   "metadata": {},
   "outputs": [
    {
     "name": "stdout",
     "output_type": "stream",
     "text": [
      "Pranesh\n"
     ]
    }
   ],
   "source": [
    "print(name)"
   ]
  },
  {
   "cell_type": "code",
   "execution_count": 13,
   "id": "9011a193",
   "metadata": {},
   "outputs": [
    {
     "data": {
      "text/plain": [
       "str"
      ]
     },
     "execution_count": 13,
     "metadata": {},
     "output_type": "execute_result"
    }
   ],
   "source": [
    "type(name)"
   ]
  },
  {
   "cell_type": "code",
   "execution_count": 17,
   "id": "68a73e57",
   "metadata": {},
   "outputs": [
    {
     "name": "stdout",
     "output_type": "stream",
     "text": [
      "Enter the age:Pranesh\n"
     ]
    }
   ],
   "source": [
    "age=input(\"Enter the age:\")"
   ]
  },
  {
   "cell_type": "code",
   "execution_count": 18,
   "id": "e6f815c3",
   "metadata": {},
   "outputs": [
    {
     "data": {
      "text/plain": [
       "False"
      ]
     },
     "execution_count": 18,
     "metadata": {},
     "output_type": "execute_result"
    }
   ],
   "source": [
    "age.isnumeric()"
   ]
  },
  {
   "cell_type": "code",
   "execution_count": 27,
   "id": "aeca5a40",
   "metadata": {},
   "outputs": [
    {
     "name": "stdout",
     "output_type": "stream",
     "text": [
      "3.3333333333333335 <class 'float'>\n"
     ]
    }
   ],
   "source": [
    "a=10\n",
    "b=3\n",
    "c=a/b\n",
    "d=a//b\n",
    "print (c,type(c))\n"
   ]
  },
  {
   "cell_type": "code",
   "execution_count": 29,
   "id": "d4f97379",
   "metadata": {},
   "outputs": [
    {
     "name": "stdout",
     "output_type": "stream",
     "text": [
      "3 <class 'int'>\n"
     ]
    }
   ],
   "source": [
    "print(d,type(d))"
   ]
  },
  {
   "cell_type": "code",
   "execution_count": 33,
   "id": "8154b39c",
   "metadata": {},
   "outputs": [
    {
     "name": "stdout",
     "output_type": "stream",
     "text": [
      "a is zero\n"
     ]
    }
   ],
   "source": [
    "a=0\n",
    "if a>0:\n",
    "    print(\"a is Positive\")\n",
    "elif a==0:\n",
    "    print(\"a is zero\")\n",
    "else:\n",
    "    print(\"a is Negative\")"
   ]
  },
  {
   "cell_type": "code",
   "execution_count": 40,
   "id": "d966343a",
   "metadata": {},
   "outputs": [
    {
     "name": "stdout",
     "output_type": "stream",
     "text": [
      "Enter the no :13\n",
      "a is odd\n"
     ]
    }
   ],
   "source": [
    "a=int(input(\"Enter the no :\"))\n",
    "if a%2==0:\n",
    "    print(\"a is even\")\n",
    "else:\n",
    "    print(\"a is odd\")"
   ]
  },
  {
   "cell_type": "code",
   "execution_count": 51,
   "id": "f2fb8a4e",
   "metadata": {},
   "outputs": [
    {
     "name": "stdout",
     "output_type": "stream",
     "text": [
      "1,3,5,7,9,11,13,15,17,19,21,23,25,27,29,31,33,35,37,39,41,43,45,47,49,"
     ]
    }
   ],
   "source": [
    "for i in range(1,50,2):\n",
    "        print(i,end=\",\")"
   ]
  },
  {
   "cell_type": "code",
   "execution_count": 57,
   "id": "1d3bd9ec",
   "metadata": {},
   "outputs": [
    {
     "name": "stdout",
     "output_type": "stream",
     "text": [
      "1,2,4,5,7,8,10,11,13,14,"
     ]
    }
   ],
   "source": [
    "for i in range(1,15):\n",
    "    if i%3!=0:\n",
    "        print(i,end=\",\")"
   ]
  },
  {
   "cell_type": "code",
   "execution_count": 60,
   "id": "9d86194f",
   "metadata": {},
   "outputs": [
    {
     "name": "stdout",
     "output_type": "stream",
     "text": [
      "0.1,0.3,0.5,0.7,0.9,1.1,1.3,"
     ]
    }
   ],
   "source": [
    "for i in range(1,14,2):\n",
    "    print(i/10,end=\",\")"
   ]
  },
  {
   "cell_type": "code",
   "execution_count": 73,
   "id": "f96782ac",
   "metadata": {},
   "outputs": [
    {
     "name": "stdout",
     "output_type": "stream",
     "text": [
      "True,False,True,False,True,False,False,True,False,False,"
     ]
    }
   ],
   "source": [
    "for i in range(1,6):\n",
    "    if i%2==0:\n",
    "        print(\"False\",end=',')\n",
    "    else:\n",
    "        print(\"True\",end=\",\")\n",
    "        \n",
    "#another method\n",
    "for i in range(1,5):\n",
    "    print(i%3==0,end=',')\n",
    "    \n"
   ]
  },
  {
   "cell_type": "code",
   "execution_count": 1,
   "id": "1a0ce096",
   "metadata": {},
   "outputs": [
    {
     "name": "stdout",
     "output_type": "stream",
     "text": [
      "False,False,True,False,"
     ]
    }
   ],
   "source": [
    "#another method\n",
    "for i in range(1,5):\n",
    "    print(i%3==0,end=',')"
   ]
  },
  {
   "cell_type": "code",
   "execution_count": 74,
   "id": "7e69677a",
   "metadata": {},
   "outputs": [
    {
     "name": "stdout",
     "output_type": "stream",
     "text": [
      "a\n",
      "e\n"
     ]
    }
   ],
   "source": [
    "name=\"Pranesh\"\n",
    "for i in name:\n",
    "    if i.lower() in 'aeiou':\n",
    "        print(i)"
   ]
  },
  {
   "cell_type": "code",
   "execution_count": 90,
   "id": "f56bdf9b",
   "metadata": {},
   "outputs": [
    {
     "name": "stdout",
     "output_type": "stream",
     "text": [
      "a,b,f,g,"
     ]
    }
   ],
   "source": [
    "string=\"a9b22f56g\"\n",
    "for i in string:\n",
    "    if i.isalpha():\n",
    "        print(i,end=\",\")\n",
    "    \n",
    "    "
   ]
  },
  {
   "cell_type": "code",
   "execution_count": 94,
   "id": "3c9c2b51",
   "metadata": {},
   "outputs": [
    {
     "name": "stdout",
     "output_type": "stream",
     "text": [
      "10,9,8,7,6,5,4,3,2,1,"
     ]
    }
   ],
   "source": [
    "for i in range(10,0,-1):\n",
    "    print (i,end=\",\")"
   ]
  },
  {
   "cell_type": "code",
   "execution_count": 97,
   "id": "017560b0",
   "metadata": {},
   "outputs": [
    {
     "name": "stdout",
     "output_type": "stream",
     "text": [
      "50,49,48,47,46,45,44,43,42,41,40,39,38,37,36,35,34,33,32,31,30,29,28,27,26,25,24,23,22,21,20,19,18,17,16,15,14,13,12,11,10,9,8,7,6,5,4,3,2,1,"
     ]
    }
   ],
   "source": [
    "for i in range(50,0,-1):\n",
    "    print (i,end=\",\")"
   ]
  },
  {
   "cell_type": "code",
   "execution_count": 102,
   "id": "ccc31ed1",
   "metadata": {},
   "outputs": [
    {
     "name": "stdout",
     "output_type": "stream",
     "text": [
      "*\n",
      "**\n",
      "***\n",
      "****\n",
      "*****\n"
     ]
    }
   ],
   "source": [
    "for i in range(1,6):\n",
    "    print(\"*\"*i)"
   ]
  },
  {
   "cell_type": "code",
   "execution_count": 111,
   "id": "dd856732",
   "metadata": {},
   "outputs": [
    {
     "name": "stdout",
     "output_type": "stream",
     "text": [
      "*****\n",
      "****\n",
      "***\n",
      "**\n",
      "*\n"
     ]
    }
   ],
   "source": [
    "for i in range(5,0,-1):\n",
    "    print(\"*\"*i)"
   ]
  },
  {
   "cell_type": "code",
   "execution_count": 114,
   "id": "4edbd044",
   "metadata": {},
   "outputs": [
    {
     "name": "stdout",
     "output_type": "stream",
     "text": [
      "*****\n",
      " ****\n",
      "  ***\n",
      "   **\n",
      "    *\n"
     ]
    }
   ],
   "source": [
    "for i in range(5,0,-1):\n",
    "    print(\" \"*(5-i)+\"*\"*i)"
   ]
  },
  {
   "cell_type": "code",
   "execution_count": 115,
   "id": "da8538d8",
   "metadata": {},
   "outputs": [
    {
     "name": "stdout",
     "output_type": "stream",
     "text": [
      "    * \n",
      "   * * \n",
      "  * * * \n",
      " * * * * \n",
      "* * * * * \n"
     ]
    }
   ],
   "source": [
    "for i in range (1,6):\n",
    "     print(\" \"*(5-i)+\"* \"*i)"
   ]
  },
  {
   "cell_type": "code",
   "execution_count": 143,
   "id": "faaef248",
   "metadata": {},
   "outputs": [
    {
     "name": "stdout",
     "output_type": "stream",
     "text": [
      "    *\n",
      "   ***\n",
      "  *****\n",
      " *******\n",
      "*********\n"
     ]
    }
   ],
   "source": [
    "for i,j in zip(range(4,-1,-1),range(1,10,2)):\n",
    "     print(\" \"*i+\"*\"*j) "
   ]
  },
  {
   "cell_type": "code",
   "execution_count": 110,
   "id": "b3b90899",
   "metadata": {},
   "outputs": [
    {
     "name": "stdout",
     "output_type": "stream",
     "text": [
      "     *\n",
      "    **\n",
      "   ***\n",
      "  ****\n",
      " *****\n"
     ]
    }
   ],
   "source": [
    "for i in range (1,6):\n",
    "    print(\" \"*(6-i)+\"*\"*i)"
   ]
  },
  {
   "cell_type": "code",
   "execution_count": 146,
   "id": "3d161fb3",
   "metadata": {},
   "outputs": [
    {
     "name": "stdout",
     "output_type": "stream",
     "text": [
      "Good \n"
     ]
    }
   ],
   "source": [
    "str1=\"Good Morning\"\n",
    "print(str1[0:5])"
   ]
  },
  {
   "cell_type": "code",
   "execution_count": 150,
   "id": "3766db33",
   "metadata": {},
   "outputs": [
    {
     "name": "stdout",
     "output_type": "stream",
     "text": [
      "Go \n"
     ]
    }
   ],
   "source": [
    "print(str1[0:5:2])"
   ]
  },
  {
   "cell_type": "code",
   "execution_count": 156,
   "id": "53b39791",
   "metadata": {},
   "outputs": [
    {
     "name": "stdout",
     "output_type": "stream",
     "text": [
      "rning\n"
     ]
    }
   ],
   "source": [
    "print(str1[-5:])"
   ]
  },
  {
   "cell_type": "code",
   "execution_count": 164,
   "id": "08dfa2e4",
   "metadata": {},
   "outputs": [
    {
     "name": "stdout",
     "output_type": "stream",
     "text": [
      "dooG\n"
     ]
    }
   ],
   "source": [
    "print(str1[3::-1])"
   ]
  },
  {
   "cell_type": "code",
   "execution_count": 166,
   "id": "fdea73d6",
   "metadata": {},
   "outputs": [
    {
     "name": "stdout",
     "output_type": "stream",
     "text": [
      "gninroM dooG\n"
     ]
    }
   ],
   "source": [
    "print(str1[-1::-1])"
   ]
  },
  {
   "cell_type": "code",
   "execution_count": 174,
   "id": "88978c7f",
   "metadata": {},
   "outputs": [
    {
     "name": "stdout",
     "output_type": "stream",
     "text": [
      "Enter the string :Rotor\n",
      "It is a palindrome\n"
     ]
    }
   ],
   "source": [
    "a=input(\"Enter the string :\").lower()\n",
    "if a==a[-1::-1]:\n",
    "    print(\"It is a palindrome\")\n",
    "else:\n",
    "    print(\"It is not a palindrome\")"
   ]
  },
  {
   "cell_type": "code",
   "execution_count": 176,
   "id": "ebb6a626",
   "metadata": {},
   "outputs": [
    {
     "name": "stdout",
     "output_type": "stream",
     "text": [
      "H\n",
      "W\n",
      "S\n"
     ]
    }
   ],
   "source": [
    "s1=\"Hello! Welcome to Sep 2023 batch\"\n",
    "for i in s1:\n",
    "    if i.isupper():\n",
    "        print(i)"
   ]
  },
  {
   "cell_type": "code",
   "execution_count": 194,
   "id": "f0aec697",
   "metadata": {},
   "outputs": [
    {
     "name": "stdout",
     "output_type": "stream",
     "text": [
      "3\n"
     ]
    }
   ],
   "source": [
    "count=0\n",
    "for i in s1:\n",
    "    if i.isupper():\n",
    "        count=count+1\n",
    "print(count)"
   ]
  },
  {
   "cell_type": "code",
   "execution_count": 196,
   "id": "5562ad11",
   "metadata": {},
   "outputs": [],
   "source": [
    "l1=[]"
   ]
  },
  {
   "cell_type": "code",
   "execution_count": 197,
   "id": "ac91d530",
   "metadata": {},
   "outputs": [],
   "source": [
    "l1.append(1)\n",
    "l1.append(2)\n",
    "l1.append(3)"
   ]
  },
  {
   "cell_type": "code",
   "execution_count": 198,
   "id": "cb1cc4c7",
   "metadata": {},
   "outputs": [
    {
     "name": "stdout",
     "output_type": "stream",
     "text": [
      "[1, 2, 3]\n"
     ]
    }
   ],
   "source": [
    "print(l1)"
   ]
  },
  {
   "cell_type": "code",
   "execution_count": 210,
   "id": "d8655c94",
   "metadata": {},
   "outputs": [],
   "source": [
    "l_2=[4,5,6,9]"
   ]
  },
  {
   "cell_type": "code",
   "execution_count": 211,
   "id": "0e86ab87",
   "metadata": {},
   "outputs": [],
   "source": [
    "l1.extend(l_2)"
   ]
  },
  {
   "cell_type": "code",
   "execution_count": 212,
   "id": "5018c7ab",
   "metadata": {},
   "outputs": [
    {
     "name": "stdout",
     "output_type": "stream",
     "text": [
      "[3, 5, 4, 5, 6, 9, 4, 5, 6, 9, 4, 5, 6, 4, 5, 6, 9]\n"
     ]
    }
   ],
   "source": [
    "print(l1)"
   ]
  },
  {
   "cell_type": "code",
   "execution_count": 217,
   "id": "3c8f4b3b",
   "metadata": {},
   "outputs": [
    {
     "name": "stdout",
     "output_type": "stream",
     "text": [
      "[4, 5, 6, 9, 4, 5, 6, 9, 4, 5, 6, 4, 5, 6, 9]\n"
     ]
    }
   ],
   "source": [
    "l1.remove(5)\n",
    "print(l1)"
   ]
  },
  {
   "cell_type": "code",
   "execution_count": 218,
   "id": "36d7918a",
   "metadata": {},
   "outputs": [
    {
     "name": "stdout",
     "output_type": "stream",
     "text": [
      "[4, 5, 5, 6, 9, 4, 5, 6, 9, 4, 5, 6, 4, 5, 6, 9]\n"
     ]
    }
   ],
   "source": [
    "l1.insert(2,5)\n",
    "print(l1)"
   ]
  },
  {
   "cell_type": "code",
   "execution_count": 219,
   "id": "6ecce1ea",
   "metadata": {},
   "outputs": [
    {
     "data": {
      "text/plain": [
       "9"
      ]
     },
     "execution_count": 219,
     "metadata": {},
     "output_type": "execute_result"
    }
   ],
   "source": [
    "l1.pop()"
   ]
  },
  {
   "cell_type": "code",
   "execution_count": 220,
   "id": "b80aacc8",
   "metadata": {},
   "outputs": [
    {
     "name": "stdout",
     "output_type": "stream",
     "text": [
      "[4, 5, 5, 6, 9, 4, 5, 6, 9, 4, 5, 6, 4, 5, 6]\n"
     ]
    }
   ],
   "source": [
    "print(l1)"
   ]
  },
  {
   "cell_type": "code",
   "execution_count": 221,
   "id": "1dcea130",
   "metadata": {},
   "outputs": [
    {
     "data": {
      "text/plain": [
       "4"
      ]
     },
     "execution_count": 221,
     "metadata": {},
     "output_type": "execute_result"
    }
   ],
   "source": [
    "l1.pop(0)"
   ]
  },
  {
   "cell_type": "code",
   "execution_count": 222,
   "id": "4510c007",
   "metadata": {},
   "outputs": [
    {
     "name": "stdout",
     "output_type": "stream",
     "text": [
      "[5, 5, 6, 9, 4, 5, 6, 9, 4, 5, 6, 4, 5, 6]\n"
     ]
    }
   ],
   "source": [
    "print(l1)"
   ]
  },
  {
   "cell_type": "code",
   "execution_count": 227,
   "id": "96ad1da4",
   "metadata": {},
   "outputs": [],
   "source": [
    "s2=\"Hello! Welcome to this python course\""
   ]
  },
  {
   "cell_type": "code",
   "execution_count": 228,
   "id": "4d61196c",
   "metadata": {},
   "outputs": [
    {
     "name": "stdout",
     "output_type": "stream",
     "text": [
      "['H', 'e', 'l', 'l', 'o', '!', ' ', 'W', 'e', 'l', 'c', 'o', 'm', 'e', ' ', 't', 'o', ' ', 't', 'h', 'i', 's', ' ', 'p', 'y', 't', 'h', 'o', 'n', ' ', 'c', 'o', 'u', 'r', 's', 'e']\n"
     ]
    }
   ],
   "source": [
    "l3=list(s2)\n",
    "print(l3)#character wise (string to list)"
   ]
  },
  {
   "cell_type": "code",
   "execution_count": 229,
   "id": "7fac0342",
   "metadata": {},
   "outputs": [
    {
     "name": "stdout",
     "output_type": "stream",
     "text": [
      "14\n"
     ]
    }
   ],
   "source": [
    "print(len(l1))"
   ]
  },
  {
   "cell_type": "code",
   "execution_count": 231,
   "id": "127774a4",
   "metadata": {},
   "outputs": [
    {
     "name": "stdout",
     "output_type": "stream",
     "text": [
      "['Hello!', 'Welcome', 'to', 'this', 'python', 'course']\n"
     ]
    }
   ],
   "source": [
    "l4=s2.split(' ')#to convert string to list\n",
    "print(l4)"
   ]
  },
  {
   "cell_type": "code",
   "execution_count": 233,
   "id": "8503f24b",
   "metadata": {},
   "outputs": [
    {
     "data": {
      "text/plain": [
       "'Hello! Welcome to this python course'"
      ]
     },
     "execution_count": 233,
     "metadata": {},
     "output_type": "execute_result"
    }
   ],
   "source": [
    "\" \".join(l4)#to convert list to string"
   ]
  },
  {
   "cell_type": "code",
   "execution_count": 2,
   "id": "82fe660d",
   "metadata": {},
   "outputs": [],
   "source": [
    "l_1=[1,5,3,9,21,4,63,22,7,14]   #list comphrension\n",
    "l_2=[i for i in l_1 if i%2==0]"
   ]
  },
  {
   "cell_type": "code",
   "execution_count": 238,
   "id": "a1c12a45",
   "metadata": {},
   "outputs": [
    {
     "name": "stdout",
     "output_type": "stream",
     "text": [
      "[4, 22, 14]\n"
     ]
    }
   ],
   "source": [
    "print(l_2)"
   ]
  },
  {
   "cell_type": "code",
   "execution_count": 243,
   "id": "8ed1248d",
   "metadata": {},
   "outputs": [
    {
     "name": "stdout",
     "output_type": "stream",
     "text": [
      "[5, 25, 15, 45, 105, 20, 315, 110, 35, 70]\n"
     ]
    }
   ],
   "source": [
    "l_3=[i*5 for i in l_1]\n",
    "print(l_3)"
   ]
  },
  {
   "cell_type": "code",
   "execution_count": 257,
   "id": "cff956f6",
   "metadata": {},
   "outputs": [],
   "source": [
    "l_1=[1,5,3,9,21,4,63,22,7,14]"
   ]
  },
  {
   "cell_type": "code",
   "execution_count": 262,
   "id": "618caf26",
   "metadata": {},
   "outputs": [
    {
     "name": "stdout",
     "output_type": "stream",
     "text": [
      "[4, 22, 14] [1, 5, 3, 9, 21, 63, 7]\n"
     ]
    }
   ],
   "source": [
    "l1_even=[i for i in l_1 if i%2==0]\n",
    "l1__odd=[i for i in l_1 if i%2!=0]\n",
    "print(l1_even,l1__odd)"
   ]
  },
  {
   "cell_type": "code",
   "execution_count": 247,
   "id": "045e47a8",
   "metadata": {},
   "outputs": [
    {
     "name": "stdout",
     "output_type": "stream",
     "text": [
      "[21, 63, 22, 14]\n"
     ]
    }
   ],
   "source": [
    "above_10=[i for i in l_1 if i>10]\n",
    "print (above_10)"
   ]
  },
  {
   "cell_type": "code",
   "execution_count": 2,
   "id": "a7346db2",
   "metadata": {},
   "outputs": [],
   "source": [
    "string_2=\"I wish everyone a happy and joyful weekend\"\n"
   ]
  },
  {
   "cell_type": "code",
   "execution_count": 3,
   "id": "e8b5dfb9",
   "metadata": {},
   "outputs": [],
   "source": [
    "new_list=[i for i in string_2.split() if i[0] in \"aeiouAEIOU\" ]"
   ]
  },
  {
   "cell_type": "code",
   "execution_count": 4,
   "id": "085ea0b6",
   "metadata": {},
   "outputs": [
    {
     "name": "stdout",
     "output_type": "stream",
     "text": [
      "['I', 'everyone', 'a', 'and']\n"
     ]
    }
   ],
   "source": [
    "print(new_list)"
   ]
  },
  {
   "cell_type": "code",
   "execution_count": null,
   "id": "9028cf1d",
   "metadata": {},
   "outputs": [],
   "source": [
    "l_1=[1,5,3,9,21,4,63,22,7,14]"
   ]
  },
  {
   "cell_type": "code",
   "execution_count": 7,
   "id": "bccd8da1",
   "metadata": {},
   "outputs": [
    {
     "name": "stdout",
     "output_type": "stream",
     "text": [
      "[1, 2, 9, 4, 25]\n"
     ]
    }
   ],
   "source": [
    "l3=[i if i%2==0 else i*i for i in range(1,6)]\n",
    "print(l3)"
   ]
  },
  {
   "cell_type": "code",
   "execution_count": 276,
   "id": "2260304d",
   "metadata": {},
   "outputs": [
    {
     "name": "stdout",
     "output_type": "stream",
     "text": [
      "[1, 25, 9, 81, 441, 4, 3969, 22, 49, 14]\n"
     ]
    }
   ],
   "source": [
    "list_2=[i if i%2==0 else i*i for i in l_1]\n",
    "print(list_2)"
   ]
  },
  {
   "cell_type": "code",
   "execution_count": 278,
   "id": "512c6587",
   "metadata": {},
   "outputs": [],
   "source": [
    "string_2=\"I wish everyone a happy and joyful weekend\""
   ]
  },
  {
   "cell_type": "code",
   "execution_count": 281,
   "id": "e80ff7fc",
   "metadata": {},
   "outputs": [
    {
     "name": "stdout",
     "output_type": "stream",
     "text": [
      "['I', 'wish', 'EVERYONE', 'a', 'HAPPY', 'and', 'JOYFUL', 'WEEKEND']\n"
     ]
    }
   ],
   "source": [
    "four_letters=[i.upper() if len(i)>4 else i for i in string_2.split()]\n",
    "print(four_letters)"
   ]
  },
  {
   "cell_type": "code",
   "execution_count": 287,
   "id": "051cd02f",
   "metadata": {},
   "outputs": [
    {
     "name": "stdout",
     "output_type": "stream",
     "text": [
      "[2, 4, 6, 8, 10, 12, 14, 16, 18, 20, 22, 24, 26, 28, 30, 32, 34, 36, 38, 40, 42, 44, 46, 48, 50, 52, 54, 56, 58, 60, 62, 64, 66, 68, 70, 72, 74, 76, 78, 80, 82, 84, 86, 88, 90, 92, 94, 96, 98, 100]\n"
     ]
    }
   ],
   "source": [
    "n=[i for i in range(2,101,2)]\n",
    "print(n)"
   ]
  },
  {
   "cell_type": "code",
   "execution_count": 6,
   "id": "ab4ff120",
   "metadata": {},
   "outputs": [
    {
     "name": "stdout",
     "output_type": "stream",
     "text": [
      "[5, 34, 11, 10, 9]\n"
     ]
    }
   ],
   "source": [
    "l1=[1,2,4,6,7]\n",
    "l2=(4,32,7,4,2)\n",
    "l3=[i+j for i,j in zip(l1,l2)]\n",
    "print(l3)"
   ]
  },
  {
   "cell_type": "code",
   "execution_count": 7,
   "id": "0ab89386",
   "metadata": {},
   "outputs": [
    {
     "name": "stdout",
     "output_type": "stream",
     "text": [
      "((1, 4), (2, 32), (4, 7), (6, 4), (7, 2))\n"
     ]
    }
   ],
   "source": [
    "t1=tuple(zip(l1,l2))\n",
    "print(t1)"
   ]
  },
  {
   "cell_type": "code",
   "execution_count": 305,
   "id": "c4ecef6d",
   "metadata": {},
   "outputs": [
    {
     "name": "stdout",
     "output_type": "stream",
     "text": [
      "[(1, 4), (2, 32), (4, 7), (6, 4), (7, 2)]\n"
     ]
    }
   ],
   "source": [
    "l4=[(i,j) for i,j in zip(l1,l2)]\n",
    "print(l4)"
   ]
  },
  {
   "cell_type": "code",
   "execution_count": 312,
   "id": "f94d9a31",
   "metadata": {},
   "outputs": [],
   "source": [
    "common_eleme=[i for i in l1 if i in l2]"
   ]
  },
  {
   "cell_type": "code",
   "execution_count": 316,
   "id": "7ea7ee46",
   "metadata": {},
   "outputs": [
    {
     "name": "stdout",
     "output_type": "stream",
     "text": [
      "[2, 4, 7]\n"
     ]
    }
   ],
   "source": [
    "print(common_eleme)"
   ]
  },
  {
   "cell_type": "code",
   "execution_count": 318,
   "id": "d35d6a55",
   "metadata": {},
   "outputs": [
    {
     "name": "stdout",
     "output_type": "stream",
     "text": [
      "25\n"
     ]
    }
   ],
   "source": [
    "#lambda functions\n",
    "square=lambda x:x**2\n",
    "print(square(5))"
   ]
  },
  {
   "cell_type": "code",
   "execution_count": 14,
   "id": "07ec2f39",
   "metadata": {},
   "outputs": [
    {
     "name": "stdout",
     "output_type": "stream",
     "text": [
      "15\n"
     ]
    }
   ],
   "source": [
    "add=lambda a,b:a+b\n",
    "print(add(10,5))"
   ]
  },
  {
   "cell_type": "code",
   "execution_count": null,
   "id": "8af23876",
   "metadata": {},
   "outputs": [],
   "source": [
    "mul=lambda x:x*2\n",
    "print(square(5))"
   ]
  },
  {
   "cell_type": "code",
   "execution_count": 12,
   "id": "d83c7395",
   "metadata": {},
   "outputs": [
    {
     "name": "stdout",
     "output_type": "stream",
     "text": [
      "[3, 15, 9, 27, 63, 12, 189, 66, 21, 42]\n"
     ]
    }
   ],
   "source": [
    "#map--->no of elements in input=no of elements in o/p\n",
    "l_1=[1,5,3,9,21,4,63,22,7,14]\n",
    "map_1=list(map(lambda x:x*3,l_1))\n",
    "print(map_1)"
   ]
  },
  {
   "cell_type": "code",
   "execution_count": 324,
   "id": "6e74f1e4",
   "metadata": {},
   "outputs": [],
   "source": [
    "string_2=\"I wish everyone a happy and joyful weekend\"\n",
    "l_2=string_2.split()"
   ]
  },
  {
   "cell_type": "code",
   "execution_count": 326,
   "id": "3094dae8",
   "metadata": {},
   "outputs": [
    {
     "name": "stdout",
     "output_type": "stream",
     "text": [
      "['I', 'WISH', 'EVERYONE', 'A', 'HAPPY', 'AND', 'JOYFUL', 'WEEKEND']\n"
     ]
    }
   ],
   "source": [
    "map_2=list(map(lambda x:x.upper(),l_2))  #with map\n",
    "print(map_2)"
   ]
  },
  {
   "cell_type": "code",
   "execution_count": 331,
   "id": "494cfd80",
   "metadata": {},
   "outputs": [
    {
     "name": "stdout",
     "output_type": "stream",
     "text": [
      "['I', 'WISH', 'EVERYONE', 'A', 'HAPPY', 'AND', 'JOYFUL', 'WEEKEND']\n"
     ]
    }
   ],
   "source": [
    "map_2a=[i.upper() for i in l_2]#Without map\n",
    "print(map_2a)"
   ]
  },
  {
   "cell_type": "code",
   "execution_count": 332,
   "id": "494f89b3",
   "metadata": {},
   "outputs": [
    {
     "name": "stdout",
     "output_type": "stream",
     "text": [
      "[5, 34, 11, 10, 9]\n"
     ]
    }
   ],
   "source": [
    "l1=[1,2,4,6,7]\n",
    "l2=(4,32,7,4,2)\n",
    "map_3=list(map(lambda x,y:x+y,l1,l2))\n",
    "print(map_3)"
   ]
  },
  {
   "cell_type": "code",
   "execution_count": 15,
   "id": "f727b0c5",
   "metadata": {},
   "outputs": [
    {
     "name": "stdout",
     "output_type": "stream",
     "text": [
      "[(1, 4), (2, 32), (4, 7), (6, 4), (7, 2)]\n"
     ]
    }
   ],
   "source": [
    "l1=[1,2,4,6,7]\n",
    "l2=(4,32,7,4,2)\n",
    "map_4=list(map(lambda x,y:(x,y),l1,l2))\n",
    "print(map_4)"
   ]
  },
  {
   "cell_type": "code",
   "execution_count": null,
   "id": "7f4d9c78",
   "metadata": {},
   "outputs": [],
   "source": [
    "#Filter -->to filter certain value based on given condition\n",
    "#(i/p elements > o/p elements)"
   ]
  },
  {
   "cell_type": "code",
   "execution_count": 335,
   "id": "554b65c7",
   "metadata": {},
   "outputs": [
    {
     "name": "stdout",
     "output_type": "stream",
     "text": [
      "[1, 5, 3, 9, 21, 63, 7]\n"
     ]
    }
   ],
   "source": [
    "l_1=[1,5,3,9,21,4,63,22,7,14]\n",
    "ftr_1=list(filter(lambda x:x%2!=0,l_1))\n",
    "#ftr_ 1=[i for i in l_1 if i%2!=0]\n",
    "print(ftr_1)"
   ]
  },
  {
   "cell_type": "code",
   "execution_count": null,
   "id": "c148c0e0",
   "metadata": {},
   "outputs": [],
   "source": [
    "#reduce-->output value-->1"
   ]
  },
  {
   "cell_type": "code",
   "execution_count": 336,
   "id": "0a1ea920",
   "metadata": {},
   "outputs": [],
   "source": [
    "from functools import reduce #To inport reduce function"
   ]
  },
  {
   "cell_type": "code",
   "execution_count": 337,
   "id": "5dfcffcd",
   "metadata": {},
   "outputs": [
    {
     "name": "stdout",
     "output_type": "stream",
     "text": [
      "63\n"
     ]
    }
   ],
   "source": [
    "l_1=[1,5,3,9,21,4,63,22,7,14]\n",
    "rde_1=reduce(lambda x,y:x if x>y else y,l_1)\n",
    "print(rde_1)"
   ]
  },
  {
   "cell_type": "code",
   "execution_count": 338,
   "id": "cf3a793f",
   "metadata": {},
   "outputs": [
    {
     "name": "stdout",
     "output_type": "stream",
     "text": [
      "149\n"
     ]
    }
   ],
   "source": [
    "rde_2=reduce(lambda x,y:x+y,l_1)\n",
    "print(rde_2)"
   ]
  },
  {
   "cell_type": "code",
   "execution_count": 340,
   "id": "d36dde0c",
   "metadata": {},
   "outputs": [
    {
     "name": "stdout",
     "output_type": "stream",
     "text": [
      "[1, 2, 3, 4, 5]\n"
     ]
    }
   ],
   "source": [
    "l1=[1,2,2,3,2,1,4,4,5]\n",
    "print(list(set(l1)))"
   ]
  },
  {
   "cell_type": "code",
   "execution_count": 342,
   "id": "9b93bf19",
   "metadata": {},
   "outputs": [
    {
     "data": {
      "text/plain": [
       "{2}"
      ]
     },
     "execution_count": 342,
     "metadata": {},
     "output_type": "execute_result"
    }
   ],
   "source": [
    "set1={1,2,3}\n",
    "set2={2,4,6}\n",
    "set1.intersection(set2)#common elements"
   ]
  },
  {
   "cell_type": "code",
   "execution_count": 343,
   "id": "b468d7cc",
   "metadata": {},
   "outputs": [
    {
     "data": {
      "text/plain": [
       "{1, 2, 3, 4, 6}"
      ]
     },
     "execution_count": 343,
     "metadata": {},
     "output_type": "execute_result"
    }
   ],
   "source": [
    "set1.union(set2)#all the elements"
   ]
  },
  {
   "cell_type": "code",
   "execution_count": 344,
   "id": "31ea2b5d",
   "metadata": {},
   "outputs": [
    {
     "data": {
      "text/plain": [
       "{1, 3}"
      ]
     },
     "execution_count": 344,
     "metadata": {},
     "output_type": "execute_result"
    }
   ],
   "source": [
    "set1.difference(set2)#To print the set1 values those are not in set2"
   ]
  },
  {
   "cell_type": "code",
   "execution_count": 345,
   "id": "a0d6522a",
   "metadata": {},
   "outputs": [],
   "source": [
    "#NUMPY ARRAY"
   ]
  },
  {
   "cell_type": "code",
   "execution_count": 1,
   "id": "7f5876f0",
   "metadata": {},
   "outputs": [],
   "source": [
    "import numpy as np  #To inport NUMPY ARRAY"
   ]
  },
  {
   "cell_type": "code",
   "execution_count": null,
   "id": "1048f1a1",
   "metadata": {},
   "outputs": [],
   "source": [
    "l1=[1,2,2,3,2,1,4,4,5]"
   ]
  },
  {
   "cell_type": "code",
   "execution_count": 352,
   "id": "d8cd899d",
   "metadata": {},
   "outputs": [
    {
     "data": {
      "text/plain": [
       "array([[1, 2, 2],\n",
       "       [3, 2, 1],\n",
       "       [4, 4, 5]])"
      ]
     },
     "execution_count": 352,
     "metadata": {},
     "output_type": "execute_result"
    }
   ],
   "source": [
    "arr=np.array(l1)\n",
    "arr.reshape(3,3)"
   ]
  },
  {
   "cell_type": "code",
   "execution_count": 356,
   "id": "020620fe",
   "metadata": {},
   "outputs": [
    {
     "name": "stdout",
     "output_type": "stream",
     "text": [
      "[ 3  6  9 12 15 18 21 24 27 30]\n"
     ]
    }
   ],
   "source": [
    "arr=np.arange(1,11)\n",
    "print(arr*3)"
   ]
  },
  {
   "cell_type": "code",
   "execution_count": 358,
   "id": "54d17aee",
   "metadata": {},
   "outputs": [
    {
     "data": {
      "text/plain": [
       "array([ 5,  7, 11,  9, 10])"
      ]
     },
     "execution_count": 358,
     "metadata": {},
     "output_type": "execute_result"
    }
   ],
   "source": [
    "arr1=np.array([1,2,3,4,5])\n",
    "arr2=np.array([4,5,8,5,5])\n",
    "arr1+arr2"
   ]
  },
  {
   "cell_type": "code",
   "execution_count": 359,
   "id": "59614a0b",
   "metadata": {},
   "outputs": [
    {
     "data": {
      "text/plain": [
       "array([2.5, 3.5, 5.5, 4.5, 5. ])"
      ]
     },
     "execution_count": 359,
     "metadata": {},
     "output_type": "execute_result"
    }
   ],
   "source": [
    "arr1=np.array([1,2,3,4,5])\n",
    "arr2=np.array([4,5,8,5,5])\n",
    "(arr1+arr2)/2"
   ]
  },
  {
   "cell_type": "markdown",
   "id": "43af53fe",
   "metadata": {},
   "source": [
    "# DAY-2"
   ]
  },
  {
   "cell_type": "code",
   "execution_count": null,
   "id": "d08fad4e",
   "metadata": {},
   "outputs": [],
   "source": [
    "#NUMPY ARRAY"
   ]
  },
  {
   "cell_type": "code",
   "execution_count": 6,
   "id": "78e73b17",
   "metadata": {},
   "outputs": [
    {
     "data": {
      "text/plain": [
       "array([[1, 2, 3, 4],\n",
       "       [5, 6, 7, 8]])"
      ]
     },
     "execution_count": 6,
     "metadata": {},
     "output_type": "execute_result"
    }
   ],
   "source": [
    "np.arange(1,9).reshape(2,4)"
   ]
  },
  {
   "cell_type": "code",
   "execution_count": 7,
   "id": "c40fafd4",
   "metadata": {},
   "outputs": [
    {
     "data": {
      "text/plain": [
       "array([[1, 1, 1],\n",
       "       [1, 1, 1],\n",
       "       [1, 1, 1]])"
      ]
     },
     "execution_count": 7,
     "metadata": {},
     "output_type": "execute_result"
    }
   ],
   "source": [
    "np.repeat(1,9).reshape(3,3)"
   ]
  },
  {
   "cell_type": "code",
   "execution_count": 8,
   "id": "fd58a6ef",
   "metadata": {},
   "outputs": [
    {
     "data": {
      "text/plain": [
       "array([[1., 0., 0.],\n",
       "       [0., 1., 0.],\n",
       "       [0., 0., 1.]])"
      ]
     },
     "execution_count": 8,
     "metadata": {},
     "output_type": "execute_result"
    }
   ],
   "source": [
    "np.eye(3)"
   ]
  },
  {
   "cell_type": "code",
   "execution_count": 15,
   "id": "9d667daf",
   "metadata": {},
   "outputs": [],
   "source": [
    "arr=np.zeros(9)\n",
    "arr[0::4]=1"
   ]
  },
  {
   "cell_type": "code",
   "execution_count": 17,
   "id": "8447360c",
   "metadata": {},
   "outputs": [
    {
     "data": {
      "text/plain": [
       "array([[1., 0., 0.],\n",
       "       [0., 1., 0.],\n",
       "       [0., 0., 1.]])"
      ]
     },
     "execution_count": 17,
     "metadata": {},
     "output_type": "execute_result"
    }
   ],
   "source": [
    "arr.reshape((3,3))"
   ]
  },
  {
   "cell_type": "code",
   "execution_count": 19,
   "id": "f1549d46",
   "metadata": {},
   "outputs": [
    {
     "data": {
      "text/plain": [
       "array([[1, 0, 0],\n",
       "       [0, 1, 0],\n",
       "       [0, 0, 1]])"
      ]
     },
     "execution_count": 19,
     "metadata": {},
     "output_type": "execute_result"
    }
   ],
   "source": [
    "np.array([[1 if i==j else 0 for j in range(3)]for i in range(3)])"
   ]
  },
  {
   "cell_type": "code",
   "execution_count": 24,
   "id": "ac48aa53",
   "metadata": {},
   "outputs": [
    {
     "data": {
      "text/plain": [
       "array([[1, 0, 1],\n",
       "       [0, 1, 0],\n",
       "       [1, 0, 1]])"
      ]
     },
     "execution_count": 24,
     "metadata": {},
     "output_type": "execute_result"
    }
   ],
   "source": [
    "arr=np.zeros(9,dtype=int)\n",
    "arr[0::2]=1\n",
    "arr.reshape(3,3)"
   ]
  },
  {
   "cell_type": "code",
   "execution_count": 27,
   "id": "a720b44e",
   "metadata": {},
   "outputs": [
    {
     "data": {
      "text/plain": [
       "array([[1, 1, 1, 1],\n",
       "       [2, 2, 2, 2],\n",
       "       [3, 3, 3, 3],\n",
       "       [4, 4, 4, 4]])"
      ]
     },
     "execution_count": 27,
     "metadata": {},
     "output_type": "execute_result"
    }
   ],
   "source": [
    "np.array([[i+1 for j in range(4)]for i in range(4)])"
   ]
  },
  {
   "cell_type": "code",
   "execution_count": 28,
   "id": "df2fdb5b",
   "metadata": {},
   "outputs": [
    {
     "data": {
      "text/plain": [
       "array([[1, 1, 1, 1],\n",
       "       [2, 2, 2, 2],\n",
       "       [3, 3, 3, 3],\n",
       "       [4, 4, 4, 4]])"
      ]
     },
     "execution_count": 28,
     "metadata": {},
     "output_type": "execute_result"
    }
   ],
   "source": [
    "arr=np.repeat(1,4)\n",
    "np.vstack([arr,arr*2,arr*3,arr*4])"
   ]
  },
  {
   "cell_type": "code",
   "execution_count": 35,
   "id": "cfa949c1",
   "metadata": {},
   "outputs": [
    {
     "data": {
      "text/plain": [
       "array([[1, 1, 1, 1],\n",
       "       [1, 0, 0, 1],\n",
       "       [1, 0, 0, 1],\n",
       "       [1, 1, 1, 1]])"
      ]
     },
     "execution_count": 35,
     "metadata": {},
     "output_type": "execute_result"
    }
   ],
   "source": [
    "arr=np.ones((4,4),dtype=int)\n",
    "arr[1:3,1:3]=0\n",
    "arr"
   ]
  },
  {
   "cell_type": "code",
   "execution_count": 36,
   "id": "e65af983",
   "metadata": {},
   "outputs": [
    {
     "data": {
      "text/plain": [
       "array([[5, 5, 5, 5, 5],\n",
       "       [5, 0, 0, 0, 5],\n",
       "       [5, 0, 0, 0, 5],\n",
       "       [5, 0, 0, 0, 5],\n",
       "       [5, 5, 5, 5, 5]])"
      ]
     },
     "execution_count": 36,
     "metadata": {},
     "output_type": "execute_result"
    }
   ],
   "source": [
    "arr=np.ones((5,5),dtype=int)*5\n",
    "arr[1:4,1:4]=0\n",
    "arr"
   ]
  },
  {
   "cell_type": "code",
   "execution_count": null,
   "id": "8ada8a0c",
   "metadata": {},
   "outputs": [],
   "source": [
    "#Dictionary"
   ]
  },
  {
   "cell_type": "code",
   "execution_count": 38,
   "id": "8aa6c8ee",
   "metadata": {},
   "outputs": [
    {
     "name": "stdout",
     "output_type": "stream",
     "text": [
      "{'name': 'Raj', 'Age': 27, 'Degree': 'B.A'}\n"
     ]
    }
   ],
   "source": [
    "dict1={\"name\":\"Raj\",\"Age\":27,\"Degree\":\"B.A\"}\n",
    "print(dict1)"
   ]
  },
  {
   "cell_type": "code",
   "execution_count": 41,
   "id": "3612cc7b",
   "metadata": {},
   "outputs": [
    {
     "name": "stdout",
     "output_type": "stream",
     "text": [
      "{'name': 'Raj', 'Age': 27, 'Degree': 'B.A', 'salary': 20000}\n"
     ]
    }
   ],
   "source": [
    "dict1[\"salary\"]=20000\n",
    "print(dict1)"
   ]
  },
  {
   "cell_type": "code",
   "execution_count": 53,
   "id": "364f8dba",
   "metadata": {},
   "outputs": [
    {
     "name": "stdout",
     "output_type": "stream",
     "text": [
      "Raj 30 B.A 20000 30 Pune "
     ]
    }
   ],
   "source": [
    "for i in dict1.values():\n",
    "    print(i,end=\" \")"
   ]
  },
  {
   "cell_type": "code",
   "execution_count": 55,
   "id": "b058c01b",
   "metadata": {},
   "outputs": [
    {
     "name": "stdout",
     "output_type": "stream",
     "text": [
      "['Raj', 30, 'B.A', 20000, 30, 'Pune']\n"
     ]
    }
   ],
   "source": [
    "print(list(dict1.values()))"
   ]
  },
  {
   "cell_type": "code",
   "execution_count": 48,
   "id": "1d076af5",
   "metadata": {},
   "outputs": [
    {
     "name": "stdout",
     "output_type": "stream",
     "text": [
      "{'name': 'Raj', 'Age': 30, 'Degree': 'B.A', 'salary': 20000, 'age': 30}\n"
     ]
    }
   ],
   "source": [
    "dict1[\"Age\"]=30\n",
    "print(dict1)"
   ]
  },
  {
   "cell_type": "code",
   "execution_count": 56,
   "id": "6067dac1",
   "metadata": {},
   "outputs": [
    {
     "data": {
      "text/plain": [
       "{'name': 'Raj',\n",
       " 'Age': 30,\n",
       " 'Degree': 'B.A',\n",
       " 'salary': 20000,\n",
       " 'age': 30,\n",
       " 'location': 'Pune'}"
      ]
     },
     "execution_count": 56,
     "metadata": {},
     "output_type": "execute_result"
    }
   ],
   "source": [
    "dict1[\"location\"]=\"Pune\"\n",
    "(dict1)"
   ]
  },
  {
   "cell_type": "code",
   "execution_count": 59,
   "id": "9a798f5e",
   "metadata": {},
   "outputs": [
    {
     "name": "stdout",
     "output_type": "stream",
     "text": [
      "name is Raj,Age is 30,Degree is B.A,salary is 20000,age is 30,location is Pune,"
     ]
    }
   ],
   "source": [
    "for key,value in dict1.items():\n",
    "    print(key ,\"is\", value,end=\",\")"
   ]
  },
  {
   "cell_type": "code",
   "execution_count": 69,
   "id": "33cc2667",
   "metadata": {},
   "outputs": [
    {
     "ename": "KeyError",
     "evalue": "'location'",
     "output_type": "error",
     "traceback": [
      "\u001b[1;31m---------------------------------------------------------------------------\u001b[0m",
      "\u001b[1;31mKeyError\u001b[0m                                  Traceback (most recent call last)",
      "Cell \u001b[1;32mIn[69], line 1\u001b[0m\n\u001b[1;32m----> 1\u001b[0m \u001b[38;5;28;01mdel\u001b[39;00m(dict1[\u001b[38;5;124m\"\u001b[39m\u001b[38;5;124mlocation\u001b[39m\u001b[38;5;124m\"\u001b[39m])\n",
      "\u001b[1;31mKeyError\u001b[0m: 'location'"
     ]
    }
   ],
   "source": [
    "del(dict1[\"location\"])"
   ]
  },
  {
   "cell_type": "code",
   "execution_count": 68,
   "id": "03c29a54",
   "metadata": {},
   "outputs": [
    {
     "data": {
      "text/plain": [
       "{'name': 'Raj', 'Age': 30, 'Degree': 'B.A', 'salary': 20000, 'age': 30}"
      ]
     },
     "execution_count": 68,
     "metadata": {},
     "output_type": "execute_result"
    }
   ],
   "source": [
    "dict1"
   ]
  },
  {
   "cell_type": "code",
   "execution_count": null,
   "id": "035f5828",
   "metadata": {},
   "outputs": [],
   "source": [
    "#dictionary comprehension"
   ]
  },
  {
   "cell_type": "code",
   "execution_count": 70,
   "id": "408650fc",
   "metadata": {},
   "outputs": [
    {
     "data": {
      "text/plain": [
       "{1: 1, 2: 4, 3: 9, 4: 16, 5: 25}"
      ]
     },
     "execution_count": 70,
     "metadata": {},
     "output_type": "execute_result"
    }
   ],
   "source": [
    "d1={i:i*i for i in range(1,6)}\n",
    "d1"
   ]
  },
  {
   "cell_type": "code",
   "execution_count": 71,
   "id": "923a18f6",
   "metadata": {},
   "outputs": [],
   "source": [
    "l1=['Name','Age','Salary']\n",
    "l2=['Raj',28,30000]"
   ]
  },
  {
   "cell_type": "code",
   "execution_count": 77,
   "id": "c08d2fce",
   "metadata": {},
   "outputs": [
    {
     "data": {
      "text/plain": [
       "{'Name': 'Raj', 'Age': 28, 'Salary': 30000}"
      ]
     },
     "execution_count": 77,
     "metadata": {},
     "output_type": "execute_result"
    }
   ],
   "source": [
    "d2={i:j for i,j in zip(l1,l2)}\n",
    "d2"
   ]
  },
  {
   "cell_type": "code",
   "execution_count": 78,
   "id": "2f281218",
   "metadata": {},
   "outputs": [
    {
     "data": {
      "text/plain": [
       "{1: 1, 2: 8, 3: 27, 4: 64, 5: 125}"
      ]
     },
     "execution_count": 78,
     "metadata": {},
     "output_type": "execute_result"
    }
   ],
   "source": [
    "d3={i:i**3 for i in range(1,6)}\n",
    "d3"
   ]
  },
  {
   "cell_type": "code",
   "execution_count": 80,
   "id": "df95f92b",
   "metadata": {},
   "outputs": [],
   "source": [
    "l1=[1,2,3,6,7]\n",
    "l2=[2,2,3,6,2,1]"
   ]
  },
  {
   "cell_type": "code",
   "execution_count": 81,
   "id": "a8e5a703",
   "metadata": {},
   "outputs": [
    {
     "data": {
      "text/plain": [
       "{1: 2, 2: 2, 3: 3, 6: 6, 7: 2}"
      ]
     },
     "execution_count": 81,
     "metadata": {},
     "output_type": "execute_result"
    }
   ],
   "source": [
    "d4={i:j for i,j in zip(l1,l2)}\n",
    "d4"
   ]
  },
  {
   "cell_type": "code",
   "execution_count": 88,
   "id": "68da42a3",
   "metadata": {},
   "outputs": [],
   "source": [
    "l3=['My','Age','is','twenty','two']"
   ]
  },
  {
   "cell_type": "code",
   "execution_count": 109,
   "id": "dbe24c52",
   "metadata": {},
   "outputs": [
    {
     "data": {
      "text/plain": [
       "{'My': False, 'Age': True, 'is': True, 'twenty': False, 'two': False}"
      ]
     },
     "execution_count": 109,
     "metadata": {},
     "output_type": "execute_result"
    }
   ],
   "source": [
    "d5={i:i[0] in 'aeiouAEIOU' for i in l3}\n",
    "d5"
   ]
  },
  {
   "cell_type": "code",
   "execution_count": 113,
   "id": "24c5d145",
   "metadata": {},
   "outputs": [
    {
     "data": {
      "text/plain": [
       "{'My': 2, 'Age': 3, 'is': 2, 'twenty': 6, 'two': 3}"
      ]
     },
     "execution_count": 113,
     "metadata": {},
     "output_type": "execute_result"
    }
   ],
   "source": [
    "d6={i:len(i) for i in l3}\n",
    "d6"
   ]
  },
  {
   "cell_type": "code",
   "execution_count": 115,
   "id": "1fee3d92",
   "metadata": {},
   "outputs": [],
   "source": [
    "#Data Frame"
   ]
  },
  {
   "cell_type": "code",
   "execution_count": 1,
   "id": "31580d2b",
   "metadata": {},
   "outputs": [],
   "source": [
    "import pandas as pd"
   ]
  },
  {
   "cell_type": "code",
   "execution_count": 2,
   "id": "d2359b9d",
   "metadata": {},
   "outputs": [],
   "source": [
    "data={'subject':['english','maths','science','Arts'],\n",
    "'marks':[80,75,91,84]}"
   ]
  },
  {
   "cell_type": "code",
   "execution_count": 3,
   "id": "a133fc1b",
   "metadata": {},
   "outputs": [
    {
     "data": {
      "text/html": [
       "<div>\n",
       "<style scoped>\n",
       "    .dataframe tbody tr th:only-of-type {\n",
       "        vertical-align: middle;\n",
       "    }\n",
       "\n",
       "    .dataframe tbody tr th {\n",
       "        vertical-align: top;\n",
       "    }\n",
       "\n",
       "    .dataframe thead th {\n",
       "        text-align: right;\n",
       "    }\n",
       "</style>\n",
       "<table border=\"1\" class=\"dataframe\">\n",
       "  <thead>\n",
       "    <tr style=\"text-align: right;\">\n",
       "      <th></th>\n",
       "      <th>subject</th>\n",
       "      <th>marks</th>\n",
       "    </tr>\n",
       "  </thead>\n",
       "  <tbody>\n",
       "    <tr>\n",
       "      <th>0</th>\n",
       "      <td>english</td>\n",
       "      <td>80</td>\n",
       "    </tr>\n",
       "    <tr>\n",
       "      <th>1</th>\n",
       "      <td>maths</td>\n",
       "      <td>75</td>\n",
       "    </tr>\n",
       "    <tr>\n",
       "      <th>2</th>\n",
       "      <td>science</td>\n",
       "      <td>91</td>\n",
       "    </tr>\n",
       "    <tr>\n",
       "      <th>3</th>\n",
       "      <td>Arts</td>\n",
       "      <td>84</td>\n",
       "    </tr>\n",
       "  </tbody>\n",
       "</table>\n",
       "</div>"
      ],
      "text/plain": [
       "   subject  marks\n",
       "0  english     80\n",
       "1    maths     75\n",
       "2  science     91\n",
       "3     Arts     84"
      ]
     },
     "execution_count": 3,
     "metadata": {},
     "output_type": "execute_result"
    }
   ],
   "source": [
    "df1=pd.DataFrame(data)\n",
    "df1"
   ]
  },
  {
   "cell_type": "code",
   "execution_count": 127,
   "id": "34c89735",
   "metadata": {},
   "outputs": [
    {
     "data": {
      "text/plain": [
       "330"
      ]
     },
     "execution_count": 127,
     "metadata": {},
     "output_type": "execute_result"
    }
   ],
   "source": [
    "df1['marks'].sum()"
   ]
  },
  {
   "cell_type": "code",
   "execution_count": 129,
   "id": "4a60bdc9",
   "metadata": {},
   "outputs": [
    {
     "data": {
      "text/plain": [
       "82.5"
      ]
     },
     "execution_count": 129,
     "metadata": {},
     "output_type": "execute_result"
    }
   ],
   "source": [
    "df1['marks'].mean()"
   ]
  },
  {
   "cell_type": "code",
   "execution_count": 131,
   "id": "d108e25b",
   "metadata": {},
   "outputs": [
    {
     "data": {
      "text/plain": [
       "82.0"
      ]
     },
     "execution_count": 131,
     "metadata": {},
     "output_type": "execute_result"
    }
   ],
   "source": [
    "df1['marks'].median()"
   ]
  },
  {
   "cell_type": "code",
   "execution_count": 132,
   "id": "71bb9541",
   "metadata": {},
   "outputs": [
    {
     "data": {
      "text/plain": [
       "4"
      ]
     },
     "execution_count": 132,
     "metadata": {},
     "output_type": "execute_result"
    }
   ],
   "source": [
    "df1['marks'].count()"
   ]
  },
  {
   "cell_type": "code",
   "execution_count": 136,
   "id": "fc0fd5fc",
   "metadata": {},
   "outputs": [
    {
     "data": {
      "text/html": [
       "<div>\n",
       "<style scoped>\n",
       "    .dataframe tbody tr th:only-of-type {\n",
       "        vertical-align: middle;\n",
       "    }\n",
       "\n",
       "    .dataframe tbody tr th {\n",
       "        vertical-align: top;\n",
       "    }\n",
       "\n",
       "    .dataframe thead th {\n",
       "        text-align: right;\n",
       "    }\n",
       "</style>\n",
       "<table border=\"1\" class=\"dataframe\">\n",
       "  <thead>\n",
       "    <tr style=\"text-align: right;\">\n",
       "      <th></th>\n",
       "      <th>subject</th>\n",
       "      <th>marks</th>\n",
       "    </tr>\n",
       "  </thead>\n",
       "  <tbody>\n",
       "    <tr>\n",
       "      <th>2</th>\n",
       "      <td>science</td>\n",
       "      <td>91</td>\n",
       "    </tr>\n",
       "    <tr>\n",
       "      <th>3</th>\n",
       "      <td>Arts</td>\n",
       "      <td>84</td>\n",
       "    </tr>\n",
       "  </tbody>\n",
       "</table>\n",
       "</div>"
      ],
      "text/plain": [
       "   subject  marks\n",
       "2  science     91\n",
       "3     Arts     84"
      ]
     },
     "execution_count": 136,
     "metadata": {},
     "output_type": "execute_result"
    }
   ],
   "source": [
    "df1[df1['marks']>80]"
   ]
  },
  {
   "cell_type": "code",
   "execution_count": 137,
   "id": "0be3844e",
   "metadata": {},
   "outputs": [
    {
     "data": {
      "text/html": [
       "<div>\n",
       "<style scoped>\n",
       "    .dataframe tbody tr th:only-of-type {\n",
       "        vertical-align: middle;\n",
       "    }\n",
       "\n",
       "    .dataframe tbody tr th {\n",
       "        vertical-align: top;\n",
       "    }\n",
       "\n",
       "    .dataframe thead th {\n",
       "        text-align: right;\n",
       "    }\n",
       "</style>\n",
       "<table border=\"1\" class=\"dataframe\">\n",
       "  <thead>\n",
       "    <tr style=\"text-align: right;\">\n",
       "      <th></th>\n",
       "      <th>subject</th>\n",
       "      <th>marks</th>\n",
       "    </tr>\n",
       "  </thead>\n",
       "  <tbody>\n",
       "    <tr>\n",
       "      <th>0</th>\n",
       "      <td>english</td>\n",
       "      <td>80</td>\n",
       "    </tr>\n",
       "    <tr>\n",
       "      <th>1</th>\n",
       "      <td>maths</td>\n",
       "      <td>75</td>\n",
       "    </tr>\n",
       "    <tr>\n",
       "      <th>3</th>\n",
       "      <td>Arts</td>\n",
       "      <td>84</td>\n",
       "    </tr>\n",
       "  </tbody>\n",
       "</table>\n",
       "</div>"
      ],
      "text/plain": [
       "   subject  marks\n",
       "0  english     80\n",
       "1    maths     75\n",
       "3     Arts     84"
      ]
     },
     "execution_count": 137,
     "metadata": {},
     "output_type": "execute_result"
    }
   ],
   "source": [
    "df1[(df1['marks']>=70) & (df1['marks']<=85)]"
   ]
  },
  {
   "cell_type": "code",
   "execution_count": 20,
   "id": "377861e8",
   "metadata": {},
   "outputs": [
    {
     "data": {
      "text/html": [
       "<div>\n",
       "<style scoped>\n",
       "    .dataframe tbody tr th:only-of-type {\n",
       "        vertical-align: middle;\n",
       "    }\n",
       "\n",
       "    .dataframe tbody tr th {\n",
       "        vertical-align: top;\n",
       "    }\n",
       "\n",
       "    .dataframe thead th {\n",
       "        text-align: right;\n",
       "    }\n",
       "</style>\n",
       "<table border=\"1\" class=\"dataframe\">\n",
       "  <thead>\n",
       "    <tr style=\"text-align: right;\">\n",
       "      <th></th>\n",
       "      <th>subject</th>\n",
       "      <th>marks</th>\n",
       "    </tr>\n",
       "  </thead>\n",
       "  <tbody>\n",
       "    <tr>\n",
       "      <th>0</th>\n",
       "      <td>english</td>\n",
       "      <td>80</td>\n",
       "    </tr>\n",
       "    <tr>\n",
       "      <th>1</th>\n",
       "      <td>maths</td>\n",
       "      <td>75</td>\n",
       "    </tr>\n",
       "    <tr>\n",
       "      <th>2</th>\n",
       "      <td>science</td>\n",
       "      <td>91</td>\n",
       "    </tr>\n",
       "    <tr>\n",
       "      <th>3</th>\n",
       "      <td>Arts</td>\n",
       "      <td>84</td>\n",
       "    </tr>\n",
       "  </tbody>\n",
       "</table>\n",
       "</div>"
      ],
      "text/plain": [
       "   subject  marks\n",
       "0  english     80\n",
       "1    maths     75\n",
       "2  science     91\n",
       "3     Arts     84"
      ]
     },
     "execution_count": 20,
     "metadata": {},
     "output_type": "execute_result"
    }
   ],
   "source": [
    "df1"
   ]
  },
  {
   "cell_type": "code",
   "execution_count": 25,
   "id": "f0eb2c5e",
   "metadata": {},
   "outputs": [
    {
     "data": {
      "text/html": [
       "<div>\n",
       "<style scoped>\n",
       "    .dataframe tbody tr th:only-of-type {\n",
       "        vertical-align: middle;\n",
       "    }\n",
       "\n",
       "    .dataframe tbody tr th {\n",
       "        vertical-align: top;\n",
       "    }\n",
       "\n",
       "    .dataframe thead th {\n",
       "        text-align: right;\n",
       "    }\n",
       "</style>\n",
       "<table border=\"1\" class=\"dataframe\">\n",
       "  <thead>\n",
       "    <tr style=\"text-align: right;\">\n",
       "      <th></th>\n",
       "      <th>subject</th>\n",
       "      <th>marks</th>\n",
       "    </tr>\n",
       "  </thead>\n",
       "  <tbody>\n",
       "    <tr>\n",
       "      <th>2</th>\n",
       "      <td>science</td>\n",
       "      <td>91</td>\n",
       "    </tr>\n",
       "  </tbody>\n",
       "</table>\n",
       "</div>"
      ],
      "text/plain": [
       "   subject  marks\n",
       "2  science     91"
      ]
     },
     "execution_count": 25,
     "metadata": {},
     "output_type": "execute_result"
    }
   ],
   "source": [
    "df1.loc[2:2]"
   ]
  },
  {
   "cell_type": "code",
   "execution_count": 30,
   "id": "18e9190b",
   "metadata": {},
   "outputs": [],
   "source": [
    "df=pd.read_excel('People+Attrition.xlsx')"
   ]
  },
  {
   "cell_type": "code",
   "execution_count": 33,
   "id": "d107e053",
   "metadata": {},
   "outputs": [
    {
     "data": {
      "text/html": [
       "<div>\n",
       "<style scoped>\n",
       "    .dataframe tbody tr th:only-of-type {\n",
       "        vertical-align: middle;\n",
       "    }\n",
       "\n",
       "    .dataframe tbody tr th {\n",
       "        vertical-align: top;\n",
       "    }\n",
       "\n",
       "    .dataframe thead th {\n",
       "        text-align: right;\n",
       "    }\n",
       "</style>\n",
       "<table border=\"1\" class=\"dataframe\">\n",
       "  <thead>\n",
       "    <tr style=\"text-align: right;\">\n",
       "      <th></th>\n",
       "      <th>S.No.</th>\n",
       "      <th>Gender</th>\n",
       "      <th>Department</th>\n",
       "      <th>JobRole</th>\n",
       "      <th>MaritalStatus</th>\n",
       "      <th>JobSatisfaction</th>\n",
       "      <th>HourlyRate</th>\n",
       "      <th>MonthlyIncome</th>\n",
       "      <th>PercentSalaryHike</th>\n",
       "      <th>PerformanceRating</th>\n",
       "      <th>TotalWorkingYears</th>\n",
       "      <th>EnvironmentRating</th>\n",
       "      <th>YearsAtCompany</th>\n",
       "      <th>YearsInCurrentRole</th>\n",
       "      <th>Age</th>\n",
       "      <th>DistanceFromHome</th>\n",
       "      <th>YearsWithCurrManager</th>\n",
       "      <th>Attrition</th>\n",
       "    </tr>\n",
       "  </thead>\n",
       "  <tbody>\n",
       "    <tr>\n",
       "      <th>0</th>\n",
       "      <td>1</td>\n",
       "      <td>Female</td>\n",
       "      <td>Sales</td>\n",
       "      <td>Sales Executive</td>\n",
       "      <td>Single</td>\n",
       "      <td>4</td>\n",
       "      <td>94.0</td>\n",
       "      <td>5993</td>\n",
       "      <td>11</td>\n",
       "      <td>3.0</td>\n",
       "      <td>8</td>\n",
       "      <td>1</td>\n",
       "      <td>6</td>\n",
       "      <td>4</td>\n",
       "      <td>41</td>\n",
       "      <td>1</td>\n",
       "      <td>5</td>\n",
       "      <td>Yes</td>\n",
       "    </tr>\n",
       "    <tr>\n",
       "      <th>1</th>\n",
       "      <td>2</td>\n",
       "      <td>Male</td>\n",
       "      <td>Research &amp; Development</td>\n",
       "      <td>Research Scientist</td>\n",
       "      <td>Married</td>\n",
       "      <td>2</td>\n",
       "      <td>61.0</td>\n",
       "      <td>5130</td>\n",
       "      <td>23</td>\n",
       "      <td>4.0</td>\n",
       "      <td>10</td>\n",
       "      <td>3</td>\n",
       "      <td>10</td>\n",
       "      <td>7</td>\n",
       "      <td>49</td>\n",
       "      <td>8</td>\n",
       "      <td>7</td>\n",
       "      <td>No</td>\n",
       "    </tr>\n",
       "    <tr>\n",
       "      <th>2</th>\n",
       "      <td>4</td>\n",
       "      <td>Male</td>\n",
       "      <td>Research &amp; Development</td>\n",
       "      <td>Laboratory Technician</td>\n",
       "      <td>Single</td>\n",
       "      <td>3</td>\n",
       "      <td>92.0</td>\n",
       "      <td>2090</td>\n",
       "      <td>15</td>\n",
       "      <td>3.0</td>\n",
       "      <td>7</td>\n",
       "      <td>3</td>\n",
       "      <td>0</td>\n",
       "      <td>0</td>\n",
       "      <td>37</td>\n",
       "      <td>2</td>\n",
       "      <td>0</td>\n",
       "      <td>Yes</td>\n",
       "    </tr>\n",
       "    <tr>\n",
       "      <th>3</th>\n",
       "      <td>5</td>\n",
       "      <td>Female</td>\n",
       "      <td>Research &amp; Development</td>\n",
       "      <td>Research Scientist</td>\n",
       "      <td>Married</td>\n",
       "      <td>3</td>\n",
       "      <td>56.0</td>\n",
       "      <td>2909</td>\n",
       "      <td>11</td>\n",
       "      <td>3.0</td>\n",
       "      <td>8</td>\n",
       "      <td>3</td>\n",
       "      <td>8</td>\n",
       "      <td>7</td>\n",
       "      <td>33</td>\n",
       "      <td>3</td>\n",
       "      <td>0</td>\n",
       "      <td>No</td>\n",
       "    </tr>\n",
       "    <tr>\n",
       "      <th>4</th>\n",
       "      <td>7</td>\n",
       "      <td>Male</td>\n",
       "      <td>Research &amp; Development</td>\n",
       "      <td>Laboratory Technician</td>\n",
       "      <td>Married</td>\n",
       "      <td>2</td>\n",
       "      <td>40.0</td>\n",
       "      <td>3468</td>\n",
       "      <td>12</td>\n",
       "      <td>3.0</td>\n",
       "      <td>6</td>\n",
       "      <td>3</td>\n",
       "      <td>2</td>\n",
       "      <td>2</td>\n",
       "      <td>27</td>\n",
       "      <td>2</td>\n",
       "      <td>2</td>\n",
       "      <td>No</td>\n",
       "    </tr>\n",
       "  </tbody>\n",
       "</table>\n",
       "</div>"
      ],
      "text/plain": [
       "   S.No.  Gender              Department                JobRole MaritalStatus  \\\n",
       "0      1  Female                   Sales        Sales Executive        Single   \n",
       "1      2    Male  Research & Development     Research Scientist       Married   \n",
       "2      4    Male  Research & Development  Laboratory Technician        Single   \n",
       "3      5  Female  Research & Development     Research Scientist       Married   \n",
       "4      7    Male  Research & Development  Laboratory Technician       Married   \n",
       "\n",
       "   JobSatisfaction  HourlyRate  MonthlyIncome  PercentSalaryHike  \\\n",
       "0                4        94.0           5993                 11   \n",
       "1                2        61.0           5130                 23   \n",
       "2                3        92.0           2090                 15   \n",
       "3                3        56.0           2909                 11   \n",
       "4                2        40.0           3468                 12   \n",
       "\n",
       "   PerformanceRating  TotalWorkingYears  EnvironmentRating  YearsAtCompany  \\\n",
       "0                3.0                  8                  1               6   \n",
       "1                4.0                 10                  3              10   \n",
       "2                3.0                  7                  3               0   \n",
       "3                3.0                  8                  3               8   \n",
       "4                3.0                  6                  3               2   \n",
       "\n",
       "   YearsInCurrentRole  Age  DistanceFromHome  YearsWithCurrManager Attrition  \n",
       "0                   4   41                 1                     5       Yes  \n",
       "1                   7   49                 8                     7        No  \n",
       "2                   0   37                 2                     0       Yes  \n",
       "3                   7   33                 3                     0        No  \n",
       "4                   2   27                 2                     2        No  "
      ]
     },
     "execution_count": 33,
     "metadata": {},
     "output_type": "execute_result"
    }
   ],
   "source": [
    "df.head()"
   ]
  },
  {
   "cell_type": "code",
   "execution_count": 34,
   "id": "3f14a70a",
   "metadata": {},
   "outputs": [
    {
     "name": "stdout",
     "output_type": "stream",
     "text": [
      "<class 'pandas.core.frame.DataFrame'>\n",
      "RangeIndex: 1470 entries, 0 to 1469\n",
      "Data columns (total 18 columns):\n",
      " #   Column                Non-Null Count  Dtype  \n",
      "---  ------                --------------  -----  \n",
      " 0   S.No.                 1470 non-null   int64  \n",
      " 1   Gender                1470 non-null   object \n",
      " 2   Department            1470 non-null   object \n",
      " 3   JobRole               1470 non-null   object \n",
      " 4   MaritalStatus         1470 non-null   object \n",
      " 5   JobSatisfaction       1470 non-null   int64  \n",
      " 6   HourlyRate            1469 non-null   float64\n",
      " 7   MonthlyIncome         1470 non-null   int64  \n",
      " 8   PercentSalaryHike     1470 non-null   int64  \n",
      " 9   PerformanceRating     1469 non-null   float64\n",
      " 10  TotalWorkingYears     1470 non-null   int64  \n",
      " 11  EnvironmentRating     1470 non-null   int64  \n",
      " 12  YearsAtCompany        1470 non-null   int64  \n",
      " 13  YearsInCurrentRole    1470 non-null   int64  \n",
      " 14  Age                   1470 non-null   int64  \n",
      " 15  DistanceFromHome      1470 non-null   int64  \n",
      " 16  YearsWithCurrManager  1470 non-null   int64  \n",
      " 17  Attrition             1470 non-null   object \n",
      "dtypes: float64(2), int64(11), object(5)\n",
      "memory usage: 206.8+ KB\n"
     ]
    }
   ],
   "source": [
    "df.info()"
   ]
  },
  {
   "cell_type": "code",
   "execution_count": 153,
   "id": "e76734c6",
   "metadata": {},
   "outputs": [
    {
     "data": {
      "text/plain": [
       "S.No.                     int64\n",
       "Gender                   object\n",
       "Department               object\n",
       "JobRole                  object\n",
       "MaritalStatus            object\n",
       "JobSatisfaction           int64\n",
       "HourlyRate              float64\n",
       "MonthlyIncome             int64\n",
       "PercentSalaryHike         int64\n",
       "PerformanceRating       float64\n",
       "TotalWorkingYears         int64\n",
       "EnvironmentRating         int64\n",
       "YearsAtCompany            int64\n",
       "YearsInCurrentRole        int64\n",
       "Age                       int64\n",
       "DistanceFromHome          int64\n",
       "YearsWithCurrManager      int64\n",
       "Attrition                object\n",
       "dtype: object"
      ]
     },
     "execution_count": 153,
     "metadata": {},
     "output_type": "execute_result"
    }
   ],
   "source": [
    "df.dtypes"
   ]
  },
  {
   "cell_type": "code",
   "execution_count": 35,
   "id": "bd34af60",
   "metadata": {},
   "outputs": [
    {
     "data": {
      "text/html": [
       "<div>\n",
       "<style scoped>\n",
       "    .dataframe tbody tr th:only-of-type {\n",
       "        vertical-align: middle;\n",
       "    }\n",
       "\n",
       "    .dataframe tbody tr th {\n",
       "        vertical-align: top;\n",
       "    }\n",
       "\n",
       "    .dataframe thead th {\n",
       "        text-align: right;\n",
       "    }\n",
       "</style>\n",
       "<table border=\"1\" class=\"dataframe\">\n",
       "  <thead>\n",
       "    <tr style=\"text-align: right;\">\n",
       "      <th></th>\n",
       "      <th>S.No.</th>\n",
       "      <th>JobSatisfaction</th>\n",
       "      <th>HourlyRate</th>\n",
       "      <th>MonthlyIncome</th>\n",
       "      <th>PercentSalaryHike</th>\n",
       "      <th>PerformanceRating</th>\n",
       "      <th>TotalWorkingYears</th>\n",
       "      <th>EnvironmentRating</th>\n",
       "      <th>YearsAtCompany</th>\n",
       "      <th>YearsInCurrentRole</th>\n",
       "      <th>Age</th>\n",
       "      <th>DistanceFromHome</th>\n",
       "      <th>YearsWithCurrManager</th>\n",
       "    </tr>\n",
       "  </thead>\n",
       "  <tbody>\n",
       "    <tr>\n",
       "      <th>count</th>\n",
       "      <td>1470.000000</td>\n",
       "      <td>1470.000000</td>\n",
       "      <td>1469.000000</td>\n",
       "      <td>1470.000000</td>\n",
       "      <td>1470.000000</td>\n",
       "      <td>1469.000000</td>\n",
       "      <td>1470.000000</td>\n",
       "      <td>1470.000000</td>\n",
       "      <td>1470.000000</td>\n",
       "      <td>1470.000000</td>\n",
       "      <td>1470.000000</td>\n",
       "      <td>1470.000000</td>\n",
       "      <td>1470.000000</td>\n",
       "    </tr>\n",
       "    <tr>\n",
       "      <th>mean</th>\n",
       "      <td>1024.865306</td>\n",
       "      <td>2.808163</td>\n",
       "      <td>65.886998</td>\n",
       "      <td>6502.931293</td>\n",
       "      <td>15.209524</td>\n",
       "      <td>3.153846</td>\n",
       "      <td>11.279592</td>\n",
       "      <td>2.761224</td>\n",
       "      <td>7.008163</td>\n",
       "      <td>4.229252</td>\n",
       "      <td>36.923810</td>\n",
       "      <td>9.192517</td>\n",
       "      <td>4.123129</td>\n",
       "    </tr>\n",
       "    <tr>\n",
       "      <th>std</th>\n",
       "      <td>602.024335</td>\n",
       "      <td>1.083292</td>\n",
       "      <td>20.335725</td>\n",
       "      <td>4707.956783</td>\n",
       "      <td>3.659938</td>\n",
       "      <td>0.360924</td>\n",
       "      <td>7.780782</td>\n",
       "      <td>0.706476</td>\n",
       "      <td>6.126525</td>\n",
       "      <td>3.623137</td>\n",
       "      <td>9.135373</td>\n",
       "      <td>8.106864</td>\n",
       "      <td>3.568136</td>\n",
       "    </tr>\n",
       "    <tr>\n",
       "      <th>min</th>\n",
       "      <td>1.000000</td>\n",
       "      <td>1.000000</td>\n",
       "      <td>30.000000</td>\n",
       "      <td>1009.000000</td>\n",
       "      <td>11.000000</td>\n",
       "      <td>3.000000</td>\n",
       "      <td>0.000000</td>\n",
       "      <td>1.000000</td>\n",
       "      <td>0.000000</td>\n",
       "      <td>0.000000</td>\n",
       "      <td>18.000000</td>\n",
       "      <td>1.000000</td>\n",
       "      <td>0.000000</td>\n",
       "    </tr>\n",
       "    <tr>\n",
       "      <th>25%</th>\n",
       "      <td>491.250000</td>\n",
       "      <td>2.000000</td>\n",
       "      <td>48.000000</td>\n",
       "      <td>2911.000000</td>\n",
       "      <td>12.000000</td>\n",
       "      <td>3.000000</td>\n",
       "      <td>6.000000</td>\n",
       "      <td>2.000000</td>\n",
       "      <td>3.000000</td>\n",
       "      <td>2.000000</td>\n",
       "      <td>30.000000</td>\n",
       "      <td>2.000000</td>\n",
       "      <td>2.000000</td>\n",
       "    </tr>\n",
       "    <tr>\n",
       "      <th>50%</th>\n",
       "      <td>1020.500000</td>\n",
       "      <td>3.000000</td>\n",
       "      <td>66.000000</td>\n",
       "      <td>4919.000000</td>\n",
       "      <td>14.000000</td>\n",
       "      <td>3.000000</td>\n",
       "      <td>10.000000</td>\n",
       "      <td>3.000000</td>\n",
       "      <td>5.000000</td>\n",
       "      <td>3.000000</td>\n",
       "      <td>36.000000</td>\n",
       "      <td>7.000000</td>\n",
       "      <td>3.000000</td>\n",
       "    </tr>\n",
       "    <tr>\n",
       "      <th>75%</th>\n",
       "      <td>1555.750000</td>\n",
       "      <td>4.000000</td>\n",
       "      <td>84.000000</td>\n",
       "      <td>8379.000000</td>\n",
       "      <td>18.000000</td>\n",
       "      <td>3.000000</td>\n",
       "      <td>15.000000</td>\n",
       "      <td>3.000000</td>\n",
       "      <td>9.000000</td>\n",
       "      <td>7.000000</td>\n",
       "      <td>43.000000</td>\n",
       "      <td>14.000000</td>\n",
       "      <td>7.000000</td>\n",
       "    </tr>\n",
       "    <tr>\n",
       "      <th>max</th>\n",
       "      <td>2068.000000</td>\n",
       "      <td>4.000000</td>\n",
       "      <td>100.000000</td>\n",
       "      <td>19999.000000</td>\n",
       "      <td>25.000000</td>\n",
       "      <td>4.000000</td>\n",
       "      <td>40.000000</td>\n",
       "      <td>4.000000</td>\n",
       "      <td>40.000000</td>\n",
       "      <td>18.000000</td>\n",
       "      <td>60.000000</td>\n",
       "      <td>29.000000</td>\n",
       "      <td>17.000000</td>\n",
       "    </tr>\n",
       "  </tbody>\n",
       "</table>\n",
       "</div>"
      ],
      "text/plain": [
       "             S.No.  JobSatisfaction   HourlyRate  MonthlyIncome  \\\n",
       "count  1470.000000      1470.000000  1469.000000    1470.000000   \n",
       "mean   1024.865306         2.808163    65.886998    6502.931293   \n",
       "std     602.024335         1.083292    20.335725    4707.956783   \n",
       "min       1.000000         1.000000    30.000000    1009.000000   \n",
       "25%     491.250000         2.000000    48.000000    2911.000000   \n",
       "50%    1020.500000         3.000000    66.000000    4919.000000   \n",
       "75%    1555.750000         4.000000    84.000000    8379.000000   \n",
       "max    2068.000000         4.000000   100.000000   19999.000000   \n",
       "\n",
       "       PercentSalaryHike  PerformanceRating  TotalWorkingYears  \\\n",
       "count        1470.000000        1469.000000        1470.000000   \n",
       "mean           15.209524           3.153846          11.279592   \n",
       "std             3.659938           0.360924           7.780782   \n",
       "min            11.000000           3.000000           0.000000   \n",
       "25%            12.000000           3.000000           6.000000   \n",
       "50%            14.000000           3.000000          10.000000   \n",
       "75%            18.000000           3.000000          15.000000   \n",
       "max            25.000000           4.000000          40.000000   \n",
       "\n",
       "       EnvironmentRating  YearsAtCompany  YearsInCurrentRole          Age  \\\n",
       "count        1470.000000     1470.000000         1470.000000  1470.000000   \n",
       "mean            2.761224        7.008163            4.229252    36.923810   \n",
       "std             0.706476        6.126525            3.623137     9.135373   \n",
       "min             1.000000        0.000000            0.000000    18.000000   \n",
       "25%             2.000000        3.000000            2.000000    30.000000   \n",
       "50%             3.000000        5.000000            3.000000    36.000000   \n",
       "75%             3.000000        9.000000            7.000000    43.000000   \n",
       "max             4.000000       40.000000           18.000000    60.000000   \n",
       "\n",
       "       DistanceFromHome  YearsWithCurrManager  \n",
       "count       1470.000000           1470.000000  \n",
       "mean           9.192517              4.123129  \n",
       "std            8.106864              3.568136  \n",
       "min            1.000000              0.000000  \n",
       "25%            2.000000              2.000000  \n",
       "50%            7.000000              3.000000  \n",
       "75%           14.000000              7.000000  \n",
       "max           29.000000             17.000000  "
      ]
     },
     "execution_count": 35,
     "metadata": {},
     "output_type": "execute_result"
    }
   ],
   "source": [
    "df.describe()"
   ]
  },
  {
   "cell_type": "code",
   "execution_count": 36,
   "id": "763b26b2",
   "metadata": {},
   "outputs": [
    {
     "data": {
      "text/html": [
       "<div>\n",
       "<style scoped>\n",
       "    .dataframe tbody tr th:only-of-type {\n",
       "        vertical-align: middle;\n",
       "    }\n",
       "\n",
       "    .dataframe tbody tr th {\n",
       "        vertical-align: top;\n",
       "    }\n",
       "\n",
       "    .dataframe thead th {\n",
       "        text-align: right;\n",
       "    }\n",
       "</style>\n",
       "<table border=\"1\" class=\"dataframe\">\n",
       "  <thead>\n",
       "    <tr style=\"text-align: right;\">\n",
       "      <th></th>\n",
       "      <th>Gender</th>\n",
       "      <th>Department</th>\n",
       "      <th>JobRole</th>\n",
       "      <th>MaritalStatus</th>\n",
       "      <th>Attrition</th>\n",
       "    </tr>\n",
       "  </thead>\n",
       "  <tbody>\n",
       "    <tr>\n",
       "      <th>count</th>\n",
       "      <td>1470</td>\n",
       "      <td>1470</td>\n",
       "      <td>1470</td>\n",
       "      <td>1470</td>\n",
       "      <td>1470</td>\n",
       "    </tr>\n",
       "    <tr>\n",
       "      <th>unique</th>\n",
       "      <td>2</td>\n",
       "      <td>3</td>\n",
       "      <td>9</td>\n",
       "      <td>3</td>\n",
       "      <td>2</td>\n",
       "    </tr>\n",
       "    <tr>\n",
       "      <th>top</th>\n",
       "      <td>Male</td>\n",
       "      <td>Research &amp; Development</td>\n",
       "      <td>Sales Executive</td>\n",
       "      <td>Married</td>\n",
       "      <td>No</td>\n",
       "    </tr>\n",
       "    <tr>\n",
       "      <th>freq</th>\n",
       "      <td>882</td>\n",
       "      <td>961</td>\n",
       "      <td>326</td>\n",
       "      <td>673</td>\n",
       "      <td>1233</td>\n",
       "    </tr>\n",
       "  </tbody>\n",
       "</table>\n",
       "</div>"
      ],
      "text/plain": [
       "       Gender              Department          JobRole MaritalStatus Attrition\n",
       "count    1470                    1470             1470          1470      1470\n",
       "unique      2                       3                9             3         2\n",
       "top      Male  Research & Development  Sales Executive       Married        No\n",
       "freq      882                     961              326           673      1233"
      ]
     },
     "execution_count": 36,
     "metadata": {},
     "output_type": "execute_result"
    }
   ],
   "source": [
    "df.describe(include='object')"
   ]
  },
  {
   "cell_type": "code",
   "execution_count": 157,
   "id": "e7c81c29",
   "metadata": {},
   "outputs": [
    {
     "data": {
      "text/html": [
       "<div>\n",
       "<style scoped>\n",
       "    .dataframe tbody tr th:only-of-type {\n",
       "        vertical-align: middle;\n",
       "    }\n",
       "\n",
       "    .dataframe tbody tr th {\n",
       "        vertical-align: top;\n",
       "    }\n",
       "\n",
       "    .dataframe thead th {\n",
       "        text-align: right;\n",
       "    }\n",
       "</style>\n",
       "<table border=\"1\" class=\"dataframe\">\n",
       "  <thead>\n",
       "    <tr style=\"text-align: right;\">\n",
       "      <th></th>\n",
       "      <th>S.No.</th>\n",
       "      <th>Gender</th>\n",
       "      <th>Department</th>\n",
       "      <th>JobRole</th>\n",
       "      <th>MaritalStatus</th>\n",
       "      <th>JobSatisfaction</th>\n",
       "      <th>HourlyRate</th>\n",
       "      <th>MonthlyIncome</th>\n",
       "      <th>PercentSalaryHike</th>\n",
       "      <th>PerformanceRating</th>\n",
       "      <th>TotalWorkingYears</th>\n",
       "      <th>EnvironmentRating</th>\n",
       "      <th>YearsAtCompany</th>\n",
       "      <th>YearsInCurrentRole</th>\n",
       "      <th>Age</th>\n",
       "      <th>DistanceFromHome</th>\n",
       "      <th>YearsWithCurrManager</th>\n",
       "      <th>Attrition</th>\n",
       "    </tr>\n",
       "  </thead>\n",
       "  <tbody>\n",
       "    <tr>\n",
       "      <th>0</th>\n",
       "      <td>1</td>\n",
       "      <td>Female</td>\n",
       "      <td>Sales</td>\n",
       "      <td>Sales Executive</td>\n",
       "      <td>Single</td>\n",
       "      <td>4</td>\n",
       "      <td>94.0</td>\n",
       "      <td>5993</td>\n",
       "      <td>11</td>\n",
       "      <td>3.0</td>\n",
       "      <td>8</td>\n",
       "      <td>1</td>\n",
       "      <td>6</td>\n",
       "      <td>4</td>\n",
       "      <td>41</td>\n",
       "      <td>1</td>\n",
       "      <td>5</td>\n",
       "      <td>Yes</td>\n",
       "    </tr>\n",
       "    <tr>\n",
       "      <th>1</th>\n",
       "      <td>2</td>\n",
       "      <td>Male</td>\n",
       "      <td>Research &amp; Development</td>\n",
       "      <td>Research Scientist</td>\n",
       "      <td>Married</td>\n",
       "      <td>2</td>\n",
       "      <td>61.0</td>\n",
       "      <td>5130</td>\n",
       "      <td>23</td>\n",
       "      <td>4.0</td>\n",
       "      <td>10</td>\n",
       "      <td>3</td>\n",
       "      <td>10</td>\n",
       "      <td>7</td>\n",
       "      <td>49</td>\n",
       "      <td>8</td>\n",
       "      <td>7</td>\n",
       "      <td>No</td>\n",
       "    </tr>\n",
       "    <tr>\n",
       "      <th>2</th>\n",
       "      <td>4</td>\n",
       "      <td>Male</td>\n",
       "      <td>Research &amp; Development</td>\n",
       "      <td>Laboratory Technician</td>\n",
       "      <td>Single</td>\n",
       "      <td>3</td>\n",
       "      <td>92.0</td>\n",
       "      <td>2090</td>\n",
       "      <td>15</td>\n",
       "      <td>3.0</td>\n",
       "      <td>7</td>\n",
       "      <td>3</td>\n",
       "      <td>0</td>\n",
       "      <td>0</td>\n",
       "      <td>37</td>\n",
       "      <td>2</td>\n",
       "      <td>0</td>\n",
       "      <td>Yes</td>\n",
       "    </tr>\n",
       "    <tr>\n",
       "      <th>3</th>\n",
       "      <td>5</td>\n",
       "      <td>Female</td>\n",
       "      <td>Research &amp; Development</td>\n",
       "      <td>Research Scientist</td>\n",
       "      <td>Married</td>\n",
       "      <td>3</td>\n",
       "      <td>56.0</td>\n",
       "      <td>2909</td>\n",
       "      <td>11</td>\n",
       "      <td>3.0</td>\n",
       "      <td>8</td>\n",
       "      <td>3</td>\n",
       "      <td>8</td>\n",
       "      <td>7</td>\n",
       "      <td>33</td>\n",
       "      <td>3</td>\n",
       "      <td>0</td>\n",
       "      <td>No</td>\n",
       "    </tr>\n",
       "    <tr>\n",
       "      <th>4</th>\n",
       "      <td>7</td>\n",
       "      <td>Male</td>\n",
       "      <td>Research &amp; Development</td>\n",
       "      <td>Laboratory Technician</td>\n",
       "      <td>Married</td>\n",
       "      <td>2</td>\n",
       "      <td>40.0</td>\n",
       "      <td>3468</td>\n",
       "      <td>12</td>\n",
       "      <td>3.0</td>\n",
       "      <td>6</td>\n",
       "      <td>3</td>\n",
       "      <td>2</td>\n",
       "      <td>2</td>\n",
       "      <td>27</td>\n",
       "      <td>2</td>\n",
       "      <td>2</td>\n",
       "      <td>No</td>\n",
       "    </tr>\n",
       "  </tbody>\n",
       "</table>\n",
       "</div>"
      ],
      "text/plain": [
       "   S.No.  Gender              Department                JobRole MaritalStatus  \\\n",
       "0      1  Female                   Sales        Sales Executive        Single   \n",
       "1      2    Male  Research & Development     Research Scientist       Married   \n",
       "2      4    Male  Research & Development  Laboratory Technician        Single   \n",
       "3      5  Female  Research & Development     Research Scientist       Married   \n",
       "4      7    Male  Research & Development  Laboratory Technician       Married   \n",
       "\n",
       "   JobSatisfaction  HourlyRate  MonthlyIncome  PercentSalaryHike  \\\n",
       "0                4        94.0           5993                 11   \n",
       "1                2        61.0           5130                 23   \n",
       "2                3        92.0           2090                 15   \n",
       "3                3        56.0           2909                 11   \n",
       "4                2        40.0           3468                 12   \n",
       "\n",
       "   PerformanceRating  TotalWorkingYears  EnvironmentRating  YearsAtCompany  \\\n",
       "0                3.0                  8                  1               6   \n",
       "1                4.0                 10                  3              10   \n",
       "2                3.0                  7                  3               0   \n",
       "3                3.0                  8                  3               8   \n",
       "4                3.0                  6                  3               2   \n",
       "\n",
       "   YearsInCurrentRole  Age  DistanceFromHome  YearsWithCurrManager Attrition  \n",
       "0                   4   41                 1                     5       Yes  \n",
       "1                   7   49                 8                     7        No  \n",
       "2                   0   37                 2                     0       Yes  \n",
       "3                   7   33                 3                     0        No  \n",
       "4                   2   27                 2                     2        No  "
      ]
     },
     "execution_count": 157,
     "metadata": {},
     "output_type": "execute_result"
    }
   ],
   "source": [
    "df.head()"
   ]
  },
  {
   "cell_type": "code",
   "execution_count": 37,
   "id": "d26d4599",
   "metadata": {},
   "outputs": [
    {
     "data": {
      "text/html": [
       "<div>\n",
       "<style scoped>\n",
       "    .dataframe tbody tr th:only-of-type {\n",
       "        vertical-align: middle;\n",
       "    }\n",
       "\n",
       "    .dataframe tbody tr th {\n",
       "        vertical-align: top;\n",
       "    }\n",
       "\n",
       "    .dataframe thead th {\n",
       "        text-align: right;\n",
       "    }\n",
       "</style>\n",
       "<table border=\"1\" class=\"dataframe\">\n",
       "  <thead>\n",
       "    <tr style=\"text-align: right;\">\n",
       "      <th></th>\n",
       "      <th>S.No.</th>\n",
       "      <th>Gender</th>\n",
       "      <th>Department</th>\n",
       "      <th>JobRole</th>\n",
       "      <th>MaritalStatus</th>\n",
       "      <th>JobSatisfaction</th>\n",
       "      <th>HourlyRate</th>\n",
       "      <th>MonthlyIncome</th>\n",
       "      <th>PercentSalaryHike</th>\n",
       "      <th>PerformanceRating</th>\n",
       "      <th>TotalWorkingYears</th>\n",
       "      <th>EnvironmentRating</th>\n",
       "      <th>YearsAtCompany</th>\n",
       "      <th>YearsInCurrentRole</th>\n",
       "      <th>Age</th>\n",
       "      <th>DistanceFromHome</th>\n",
       "      <th>YearsWithCurrManager</th>\n",
       "      <th>Attrition</th>\n",
       "    </tr>\n",
       "  </thead>\n",
       "  <tbody>\n",
       "    <tr>\n",
       "      <th>0</th>\n",
       "      <td>1</td>\n",
       "      <td>Female</td>\n",
       "      <td>Sales</td>\n",
       "      <td>Sales Executive</td>\n",
       "      <td>Single</td>\n",
       "      <td>4</td>\n",
       "      <td>94.0</td>\n",
       "      <td>5993</td>\n",
       "      <td>11</td>\n",
       "      <td>3.0</td>\n",
       "      <td>8</td>\n",
       "      <td>1</td>\n",
       "      <td>6</td>\n",
       "      <td>4</td>\n",
       "      <td>41</td>\n",
       "      <td>1</td>\n",
       "      <td>5</td>\n",
       "      <td>Yes</td>\n",
       "    </tr>\n",
       "    <tr>\n",
       "      <th>18</th>\n",
       "      <td>23</td>\n",
       "      <td>Female</td>\n",
       "      <td>Sales</td>\n",
       "      <td>Manager</td>\n",
       "      <td>Married</td>\n",
       "      <td>4</td>\n",
       "      <td>78.0</td>\n",
       "      <td>15427</td>\n",
       "      <td>16</td>\n",
       "      <td>3.0</td>\n",
       "      <td>31</td>\n",
       "      <td>3</td>\n",
       "      <td>25</td>\n",
       "      <td>8</td>\n",
       "      <td>53</td>\n",
       "      <td>2</td>\n",
       "      <td>7</td>\n",
       "      <td>No</td>\n",
       "    </tr>\n",
       "    <tr>\n",
       "      <th>21</th>\n",
       "      <td>27</td>\n",
       "      <td>Male</td>\n",
       "      <td>Sales</td>\n",
       "      <td>Sales Representative</td>\n",
       "      <td>Single</td>\n",
       "      <td>1</td>\n",
       "      <td>82.0</td>\n",
       "      <td>3407</td>\n",
       "      <td>23</td>\n",
       "      <td>4.0</td>\n",
       "      <td>10</td>\n",
       "      <td>3</td>\n",
       "      <td>5</td>\n",
       "      <td>3</td>\n",
       "      <td>36</td>\n",
       "      <td>9</td>\n",
       "      <td>3</td>\n",
       "      <td>Yes</td>\n",
       "    </tr>\n",
       "    <tr>\n",
       "      <th>27</th>\n",
       "      <td>35</td>\n",
       "      <td>Male</td>\n",
       "      <td>Sales</td>\n",
       "      <td>Sales Executive</td>\n",
       "      <td>Married</td>\n",
       "      <td>2</td>\n",
       "      <td>48.0</td>\n",
       "      <td>6825</td>\n",
       "      <td>11</td>\n",
       "      <td>3.0</td>\n",
       "      <td>10</td>\n",
       "      <td>3</td>\n",
       "      <td>9</td>\n",
       "      <td>7</td>\n",
       "      <td>42</td>\n",
       "      <td>8</td>\n",
       "      <td>2</td>\n",
       "      <td>No</td>\n",
       "    </tr>\n",
       "    <tr>\n",
       "      <th>29</th>\n",
       "      <td>38</td>\n",
       "      <td>Female</td>\n",
       "      <td>Sales</td>\n",
       "      <td>Manager</td>\n",
       "      <td>Single</td>\n",
       "      <td>4</td>\n",
       "      <td>83.0</td>\n",
       "      <td>18947</td>\n",
       "      <td>12</td>\n",
       "      <td>3.0</td>\n",
       "      <td>22</td>\n",
       "      <td>2</td>\n",
       "      <td>2</td>\n",
       "      <td>2</td>\n",
       "      <td>46</td>\n",
       "      <td>2</td>\n",
       "      <td>1</td>\n",
       "      <td>No</td>\n",
       "    </tr>\n",
       "    <tr>\n",
       "      <th>...</th>\n",
       "      <td>...</td>\n",
       "      <td>...</td>\n",
       "      <td>...</td>\n",
       "      <td>...</td>\n",
       "      <td>...</td>\n",
       "      <td>...</td>\n",
       "      <td>...</td>\n",
       "      <td>...</td>\n",
       "      <td>...</td>\n",
       "      <td>...</td>\n",
       "      <td>...</td>\n",
       "      <td>...</td>\n",
       "      <td>...</td>\n",
       "      <td>...</td>\n",
       "      <td>...</td>\n",
       "      <td>...</td>\n",
       "      <td>...</td>\n",
       "      <td>...</td>\n",
       "    </tr>\n",
       "    <tr>\n",
       "      <th>1454</th>\n",
       "      <td>2046</td>\n",
       "      <td>Female</td>\n",
       "      <td>Sales</td>\n",
       "      <td>Sales Executive</td>\n",
       "      <td>Single</td>\n",
       "      <td>3</td>\n",
       "      <td>50.0</td>\n",
       "      <td>4850</td>\n",
       "      <td>15</td>\n",
       "      <td>3.0</td>\n",
       "      <td>8</td>\n",
       "      <td>3</td>\n",
       "      <td>5</td>\n",
       "      <td>3</td>\n",
       "      <td>45</td>\n",
       "      <td>20</td>\n",
       "      <td>1</td>\n",
       "      <td>No</td>\n",
       "    </tr>\n",
       "    <tr>\n",
       "      <th>1461</th>\n",
       "      <td>2055</td>\n",
       "      <td>Male</td>\n",
       "      <td>Sales</td>\n",
       "      <td>Sales Executive</td>\n",
       "      <td>Divorced</td>\n",
       "      <td>1</td>\n",
       "      <td>39.0</td>\n",
       "      <td>10854</td>\n",
       "      <td>13</td>\n",
       "      <td>3.0</td>\n",
       "      <td>20</td>\n",
       "      <td>3</td>\n",
       "      <td>3</td>\n",
       "      <td>2</td>\n",
       "      <td>50</td>\n",
       "      <td>28</td>\n",
       "      <td>0</td>\n",
       "      <td>Yes</td>\n",
       "    </tr>\n",
       "    <tr>\n",
       "      <th>1462</th>\n",
       "      <td>2056</td>\n",
       "      <td>Female</td>\n",
       "      <td>Sales</td>\n",
       "      <td>Sales Executive</td>\n",
       "      <td>Married</td>\n",
       "      <td>4</td>\n",
       "      <td>60.0</td>\n",
       "      <td>12031</td>\n",
       "      <td>11</td>\n",
       "      <td>3.0</td>\n",
       "      <td>21</td>\n",
       "      <td>2</td>\n",
       "      <td>20</td>\n",
       "      <td>9</td>\n",
       "      <td>39</td>\n",
       "      <td>24</td>\n",
       "      <td>6</td>\n",
       "      <td>No</td>\n",
       "    </tr>\n",
       "    <tr>\n",
       "      <th>1464</th>\n",
       "      <td>2060</td>\n",
       "      <td>Female</td>\n",
       "      <td>Sales</td>\n",
       "      <td>Sales Representative</td>\n",
       "      <td>Single</td>\n",
       "      <td>3</td>\n",
       "      <td>30.0</td>\n",
       "      <td>2966</td>\n",
       "      <td>18</td>\n",
       "      <td>3.0</td>\n",
       "      <td>5</td>\n",
       "      <td>3</td>\n",
       "      <td>4</td>\n",
       "      <td>2</td>\n",
       "      <td>26</td>\n",
       "      <td>5</td>\n",
       "      <td>0</td>\n",
       "      <td>No</td>\n",
       "    </tr>\n",
       "    <tr>\n",
       "      <th>1468</th>\n",
       "      <td>2065</td>\n",
       "      <td>Male</td>\n",
       "      <td>Sales</td>\n",
       "      <td>Sales Executive</td>\n",
       "      <td>Married</td>\n",
       "      <td>2</td>\n",
       "      <td>63.0</td>\n",
       "      <td>5390</td>\n",
       "      <td>14</td>\n",
       "      <td>3.0</td>\n",
       "      <td>17</td>\n",
       "      <td>2</td>\n",
       "      <td>9</td>\n",
       "      <td>6</td>\n",
       "      <td>49</td>\n",
       "      <td>2</td>\n",
       "      <td>8</td>\n",
       "      <td>No</td>\n",
       "    </tr>\n",
       "  </tbody>\n",
       "</table>\n",
       "<p>446 rows × 18 columns</p>\n",
       "</div>"
      ],
      "text/plain": [
       "      S.No.  Gender Department               JobRole MaritalStatus  \\\n",
       "0         1  Female      Sales       Sales Executive        Single   \n",
       "18       23  Female      Sales               Manager       Married   \n",
       "21       27    Male      Sales  Sales Representative        Single   \n",
       "27       35    Male      Sales       Sales Executive       Married   \n",
       "29       38  Female      Sales               Manager        Single   \n",
       "...     ...     ...        ...                   ...           ...   \n",
       "1454   2046  Female      Sales       Sales Executive        Single   \n",
       "1461   2055    Male      Sales       Sales Executive      Divorced   \n",
       "1462   2056  Female      Sales       Sales Executive       Married   \n",
       "1464   2060  Female      Sales  Sales Representative        Single   \n",
       "1468   2065    Male      Sales       Sales Executive       Married   \n",
       "\n",
       "      JobSatisfaction  HourlyRate  MonthlyIncome  PercentSalaryHike  \\\n",
       "0                   4        94.0           5993                 11   \n",
       "18                  4        78.0          15427                 16   \n",
       "21                  1        82.0           3407                 23   \n",
       "27                  2        48.0           6825                 11   \n",
       "29                  4        83.0          18947                 12   \n",
       "...               ...         ...            ...                ...   \n",
       "1454                3        50.0           4850                 15   \n",
       "1461                1        39.0          10854                 13   \n",
       "1462                4        60.0          12031                 11   \n",
       "1464                3        30.0           2966                 18   \n",
       "1468                2        63.0           5390                 14   \n",
       "\n",
       "      PerformanceRating  TotalWorkingYears  EnvironmentRating  YearsAtCompany  \\\n",
       "0                   3.0                  8                  1               6   \n",
       "18                  3.0                 31                  3              25   \n",
       "21                  4.0                 10                  3               5   \n",
       "27                  3.0                 10                  3               9   \n",
       "29                  3.0                 22                  2               2   \n",
       "...                 ...                ...                ...             ...   \n",
       "1454                3.0                  8                  3               5   \n",
       "1461                3.0                 20                  3               3   \n",
       "1462                3.0                 21                  2              20   \n",
       "1464                3.0                  5                  3               4   \n",
       "1468                3.0                 17                  2               9   \n",
       "\n",
       "      YearsInCurrentRole  Age  DistanceFromHome  YearsWithCurrManager  \\\n",
       "0                      4   41                 1                     5   \n",
       "18                     8   53                 2                     7   \n",
       "21                     3   36                 9                     3   \n",
       "27                     7   42                 8                     2   \n",
       "29                     2   46                 2                     1   \n",
       "...                  ...  ...               ...                   ...   \n",
       "1454                   3   45                20                     1   \n",
       "1461                   2   50                28                     0   \n",
       "1462                   9   39                24                     6   \n",
       "1464                   2   26                 5                     0   \n",
       "1468                   6   49                 2                     8   \n",
       "\n",
       "     Attrition  \n",
       "0          Yes  \n",
       "18          No  \n",
       "21         Yes  \n",
       "27          No  \n",
       "29          No  \n",
       "...        ...  \n",
       "1454        No  \n",
       "1461       Yes  \n",
       "1462        No  \n",
       "1464        No  \n",
       "1468        No  \n",
       "\n",
       "[446 rows x 18 columns]"
      ]
     },
     "execution_count": 37,
     "metadata": {},
     "output_type": "execute_result"
    }
   ],
   "source": [
    "df_sales=df[df['Department']=='Sales']\n",
    "df_sales"
   ]
  },
  {
   "cell_type": "code",
   "execution_count": 174,
   "id": "efaac922",
   "metadata": {},
   "outputs": [
    {
     "data": {
      "text/html": [
       "<div>\n",
       "<style scoped>\n",
       "    .dataframe tbody tr th:only-of-type {\n",
       "        vertical-align: middle;\n",
       "    }\n",
       "\n",
       "    .dataframe tbody tr th {\n",
       "        vertical-align: top;\n",
       "    }\n",
       "\n",
       "    .dataframe thead th {\n",
       "        text-align: right;\n",
       "    }\n",
       "</style>\n",
       "<table border=\"1\" class=\"dataframe\">\n",
       "  <thead>\n",
       "    <tr style=\"text-align: right;\">\n",
       "      <th></th>\n",
       "      <th>S.No.</th>\n",
       "      <th>Gender</th>\n",
       "      <th>Department</th>\n",
       "      <th>JobRole</th>\n",
       "      <th>MaritalStatus</th>\n",
       "      <th>JobSatisfaction</th>\n",
       "      <th>HourlyRate</th>\n",
       "      <th>MonthlyIncome</th>\n",
       "      <th>PercentSalaryHike</th>\n",
       "      <th>PerformanceRating</th>\n",
       "      <th>TotalWorkingYears</th>\n",
       "      <th>EnvironmentRating</th>\n",
       "      <th>YearsAtCompany</th>\n",
       "      <th>YearsInCurrentRole</th>\n",
       "      <th>Age</th>\n",
       "      <th>DistanceFromHome</th>\n",
       "      <th>YearsWithCurrManager</th>\n",
       "      <th>Attrition</th>\n",
       "    </tr>\n",
       "  </thead>\n",
       "  <tbody>\n",
       "    <tr>\n",
       "      <th>0</th>\n",
       "      <td>1</td>\n",
       "      <td>Female</td>\n",
       "      <td>Sales</td>\n",
       "      <td>Sales Executive</td>\n",
       "      <td>Single</td>\n",
       "      <td>4</td>\n",
       "      <td>94.0</td>\n",
       "      <td>5993</td>\n",
       "      <td>11</td>\n",
       "      <td>3.0</td>\n",
       "      <td>8</td>\n",
       "      <td>1</td>\n",
       "      <td>6</td>\n",
       "      <td>4</td>\n",
       "      <td>41</td>\n",
       "      <td>1</td>\n",
       "      <td>5</td>\n",
       "      <td>Yes</td>\n",
       "    </tr>\n",
       "    <tr>\n",
       "      <th>11</th>\n",
       "      <td>15</td>\n",
       "      <td>Female</td>\n",
       "      <td>Research &amp; Development</td>\n",
       "      <td>Laboratory Technician</td>\n",
       "      <td>Single</td>\n",
       "      <td>3</td>\n",
       "      <td>49.0</td>\n",
       "      <td>4193</td>\n",
       "      <td>12</td>\n",
       "      <td>3.0</td>\n",
       "      <td>10</td>\n",
       "      <td>3</td>\n",
       "      <td>9</td>\n",
       "      <td>5</td>\n",
       "      <td>29</td>\n",
       "      <td>15</td>\n",
       "      <td>8</td>\n",
       "      <td>No</td>\n",
       "    </tr>\n",
       "    <tr>\n",
       "      <th>22</th>\n",
       "      <td>28</td>\n",
       "      <td>Female</td>\n",
       "      <td>Research &amp; Development</td>\n",
       "      <td>Research Director</td>\n",
       "      <td>Single</td>\n",
       "      <td>2</td>\n",
       "      <td>53.0</td>\n",
       "      <td>11994</td>\n",
       "      <td>11</td>\n",
       "      <td>3.0</td>\n",
       "      <td>13</td>\n",
       "      <td>3</td>\n",
       "      <td>12</td>\n",
       "      <td>6</td>\n",
       "      <td>34</td>\n",
       "      <td>7</td>\n",
       "      <td>11</td>\n",
       "      <td>No</td>\n",
       "    </tr>\n",
       "    <tr>\n",
       "      <th>26</th>\n",
       "      <td>33</td>\n",
       "      <td>Female</td>\n",
       "      <td>Research &amp; Development</td>\n",
       "      <td>Research Scientist</td>\n",
       "      <td>Single</td>\n",
       "      <td>1</td>\n",
       "      <td>72.0</td>\n",
       "      <td>3919</td>\n",
       "      <td>22</td>\n",
       "      <td>4.0</td>\n",
       "      <td>10</td>\n",
       "      <td>3</td>\n",
       "      <td>10</td>\n",
       "      <td>2</td>\n",
       "      <td>32</td>\n",
       "      <td>16</td>\n",
       "      <td>7</td>\n",
       "      <td>Yes</td>\n",
       "    </tr>\n",
       "    <tr>\n",
       "      <th>29</th>\n",
       "      <td>38</td>\n",
       "      <td>Female</td>\n",
       "      <td>Sales</td>\n",
       "      <td>Manager</td>\n",
       "      <td>Single</td>\n",
       "      <td>4</td>\n",
       "      <td>83.0</td>\n",
       "      <td>18947</td>\n",
       "      <td>12</td>\n",
       "      <td>3.0</td>\n",
       "      <td>22</td>\n",
       "      <td>2</td>\n",
       "      <td>2</td>\n",
       "      <td>2</td>\n",
       "      <td>46</td>\n",
       "      <td>2</td>\n",
       "      <td>1</td>\n",
       "      <td>No</td>\n",
       "    </tr>\n",
       "    <tr>\n",
       "      <th>...</th>\n",
       "      <td>...</td>\n",
       "      <td>...</td>\n",
       "      <td>...</td>\n",
       "      <td>...</td>\n",
       "      <td>...</td>\n",
       "      <td>...</td>\n",
       "      <td>...</td>\n",
       "      <td>...</td>\n",
       "      <td>...</td>\n",
       "      <td>...</td>\n",
       "      <td>...</td>\n",
       "      <td>...</td>\n",
       "      <td>...</td>\n",
       "      <td>...</td>\n",
       "      <td>...</td>\n",
       "      <td>...</td>\n",
       "      <td>...</td>\n",
       "      <td>...</td>\n",
       "    </tr>\n",
       "    <tr>\n",
       "      <th>1426</th>\n",
       "      <td>2010</td>\n",
       "      <td>Female</td>\n",
       "      <td>Research &amp; Development</td>\n",
       "      <td>Laboratory Technician</td>\n",
       "      <td>Single</td>\n",
       "      <td>2</td>\n",
       "      <td>49.0</td>\n",
       "      <td>2837</td>\n",
       "      <td>13</td>\n",
       "      <td>3.0</td>\n",
       "      <td>6</td>\n",
       "      <td>3</td>\n",
       "      <td>6</td>\n",
       "      <td>2</td>\n",
       "      <td>32</td>\n",
       "      <td>29</td>\n",
       "      <td>1</td>\n",
       "      <td>No</td>\n",
       "    </tr>\n",
       "    <tr>\n",
       "      <th>1450</th>\n",
       "      <td>2040</td>\n",
       "      <td>Female</td>\n",
       "      <td>Human Resources</td>\n",
       "      <td>Human Resources</td>\n",
       "      <td>Single</td>\n",
       "      <td>4</td>\n",
       "      <td>31.0</td>\n",
       "      <td>8837</td>\n",
       "      <td>16</td>\n",
       "      <td>3.0</td>\n",
       "      <td>9</td>\n",
       "      <td>3</td>\n",
       "      <td>9</td>\n",
       "      <td>0</td>\n",
       "      <td>35</td>\n",
       "      <td>26</td>\n",
       "      <td>7</td>\n",
       "      <td>No</td>\n",
       "    </tr>\n",
       "    <tr>\n",
       "      <th>1454</th>\n",
       "      <td>2046</td>\n",
       "      <td>Female</td>\n",
       "      <td>Sales</td>\n",
       "      <td>Sales Executive</td>\n",
       "      <td>Single</td>\n",
       "      <td>3</td>\n",
       "      <td>50.0</td>\n",
       "      <td>4850</td>\n",
       "      <td>15</td>\n",
       "      <td>3.0</td>\n",
       "      <td>8</td>\n",
       "      <td>3</td>\n",
       "      <td>5</td>\n",
       "      <td>3</td>\n",
       "      <td>45</td>\n",
       "      <td>20</td>\n",
       "      <td>1</td>\n",
       "      <td>No</td>\n",
       "    </tr>\n",
       "    <tr>\n",
       "      <th>1460</th>\n",
       "      <td>2054</td>\n",
       "      <td>Female</td>\n",
       "      <td>Research &amp; Development</td>\n",
       "      <td>Research Scientist</td>\n",
       "      <td>Single</td>\n",
       "      <td>1</td>\n",
       "      <td>73.0</td>\n",
       "      <td>3785</td>\n",
       "      <td>14</td>\n",
       "      <td>3.0</td>\n",
       "      <td>5</td>\n",
       "      <td>1</td>\n",
       "      <td>5</td>\n",
       "      <td>4</td>\n",
       "      <td>29</td>\n",
       "      <td>28</td>\n",
       "      <td>4</td>\n",
       "      <td>No</td>\n",
       "    </tr>\n",
       "    <tr>\n",
       "      <th>1464</th>\n",
       "      <td>2060</td>\n",
       "      <td>Female</td>\n",
       "      <td>Sales</td>\n",
       "      <td>Sales Representative</td>\n",
       "      <td>Single</td>\n",
       "      <td>3</td>\n",
       "      <td>30.0</td>\n",
       "      <td>2966</td>\n",
       "      <td>18</td>\n",
       "      <td>3.0</td>\n",
       "      <td>5</td>\n",
       "      <td>3</td>\n",
       "      <td>4</td>\n",
       "      <td>2</td>\n",
       "      <td>26</td>\n",
       "      <td>5</td>\n",
       "      <td>0</td>\n",
       "      <td>No</td>\n",
       "    </tr>\n",
       "  </tbody>\n",
       "</table>\n",
       "<p>199 rows × 18 columns</p>\n",
       "</div>"
      ],
      "text/plain": [
       "      S.No.  Gender              Department                JobRole  \\\n",
       "0         1  Female                   Sales        Sales Executive   \n",
       "11       15  Female  Research & Development  Laboratory Technician   \n",
       "22       28  Female  Research & Development      Research Director   \n",
       "26       33  Female  Research & Development     Research Scientist   \n",
       "29       38  Female                   Sales                Manager   \n",
       "...     ...     ...                     ...                    ...   \n",
       "1426   2010  Female  Research & Development  Laboratory Technician   \n",
       "1450   2040  Female         Human Resources        Human Resources   \n",
       "1454   2046  Female                   Sales        Sales Executive   \n",
       "1460   2054  Female  Research & Development     Research Scientist   \n",
       "1464   2060  Female                   Sales   Sales Representative   \n",
       "\n",
       "     MaritalStatus  JobSatisfaction  HourlyRate  MonthlyIncome  \\\n",
       "0           Single                4        94.0           5993   \n",
       "11          Single                3        49.0           4193   \n",
       "22          Single                2        53.0          11994   \n",
       "26          Single                1        72.0           3919   \n",
       "29          Single                4        83.0          18947   \n",
       "...            ...              ...         ...            ...   \n",
       "1426        Single                2        49.0           2837   \n",
       "1450        Single                4        31.0           8837   \n",
       "1454        Single                3        50.0           4850   \n",
       "1460        Single                1        73.0           3785   \n",
       "1464        Single                3        30.0           2966   \n",
       "\n",
       "      PercentSalaryHike  PerformanceRating  TotalWorkingYears  \\\n",
       "0                    11                3.0                  8   \n",
       "11                   12                3.0                 10   \n",
       "22                   11                3.0                 13   \n",
       "26                   22                4.0                 10   \n",
       "29                   12                3.0                 22   \n",
       "...                 ...                ...                ...   \n",
       "1426                 13                3.0                  6   \n",
       "1450                 16                3.0                  9   \n",
       "1454                 15                3.0                  8   \n",
       "1460                 14                3.0                  5   \n",
       "1464                 18                3.0                  5   \n",
       "\n",
       "      EnvironmentRating  YearsAtCompany  YearsInCurrentRole  Age  \\\n",
       "0                     1               6                   4   41   \n",
       "11                    3               9                   5   29   \n",
       "22                    3              12                   6   34   \n",
       "26                    3              10                   2   32   \n",
       "29                    2               2                   2   46   \n",
       "...                 ...             ...                 ...  ...   \n",
       "1426                  3               6                   2   32   \n",
       "1450                  3               9                   0   35   \n",
       "1454                  3               5                   3   45   \n",
       "1460                  1               5                   4   29   \n",
       "1464                  3               4                   2   26   \n",
       "\n",
       "      DistanceFromHome  YearsWithCurrManager Attrition  \n",
       "0                    1                     5       Yes  \n",
       "11                  15                     8        No  \n",
       "22                   7                    11        No  \n",
       "26                  16                     7       Yes  \n",
       "29                   2                     1        No  \n",
       "...                ...                   ...       ...  \n",
       "1426                29                     1        No  \n",
       "1450                26                     7        No  \n",
       "1454                20                     1        No  \n",
       "1460                28                     4        No  \n",
       "1464                 5                     0        No  \n",
       "\n",
       "[199 rows x 18 columns]"
      ]
     },
     "execution_count": 174,
     "metadata": {},
     "output_type": "execute_result"
    }
   ],
   "source": [
    "df_female_single=df[(df['Gender']=='Female')&(df['MaritalStatus']=='Single')]\n",
    "df_female_single"
   ]
  },
  {
   "cell_type": "code",
   "execution_count": 177,
   "id": "11403cf7",
   "metadata": {},
   "outputs": [
    {
     "data": {
      "text/html": [
       "<div>\n",
       "<style scoped>\n",
       "    .dataframe tbody tr th:only-of-type {\n",
       "        vertical-align: middle;\n",
       "    }\n",
       "\n",
       "    .dataframe tbody tr th {\n",
       "        vertical-align: top;\n",
       "    }\n",
       "\n",
       "    .dataframe thead th {\n",
       "        text-align: right;\n",
       "    }\n",
       "</style>\n",
       "<table border=\"1\" class=\"dataframe\">\n",
       "  <thead>\n",
       "    <tr style=\"text-align: right;\">\n",
       "      <th></th>\n",
       "      <th>S.No.</th>\n",
       "      <th>Gender</th>\n",
       "      <th>Department</th>\n",
       "      <th>JobRole</th>\n",
       "      <th>MaritalStatus</th>\n",
       "      <th>JobSatisfaction</th>\n",
       "      <th>HourlyRate</th>\n",
       "      <th>MonthlyIncome</th>\n",
       "      <th>PercentSalaryHike</th>\n",
       "      <th>PerformanceRating</th>\n",
       "      <th>TotalWorkingYears</th>\n",
       "      <th>EnvironmentRating</th>\n",
       "      <th>YearsAtCompany</th>\n",
       "      <th>YearsInCurrentRole</th>\n",
       "      <th>Age</th>\n",
       "      <th>DistanceFromHome</th>\n",
       "      <th>YearsWithCurrManager</th>\n",
       "      <th>Attrition</th>\n",
       "    </tr>\n",
       "  </thead>\n",
       "  <tbody>\n",
       "    <tr>\n",
       "      <th>0</th>\n",
       "      <td>1</td>\n",
       "      <td>Female</td>\n",
       "      <td>Sales</td>\n",
       "      <td>Sales Executive</td>\n",
       "      <td>Single</td>\n",
       "      <td>4</td>\n",
       "      <td>94.0</td>\n",
       "      <td>5993</td>\n",
       "      <td>11</td>\n",
       "      <td>3.0</td>\n",
       "      <td>8</td>\n",
       "      <td>1</td>\n",
       "      <td>6</td>\n",
       "      <td>4</td>\n",
       "      <td>41</td>\n",
       "      <td>1</td>\n",
       "      <td>5</td>\n",
       "      <td>Yes</td>\n",
       "    </tr>\n",
       "    <tr>\n",
       "      <th>1</th>\n",
       "      <td>2</td>\n",
       "      <td>Male</td>\n",
       "      <td>Research &amp; Development</td>\n",
       "      <td>Research Scientist</td>\n",
       "      <td>Married</td>\n",
       "      <td>2</td>\n",
       "      <td>61.0</td>\n",
       "      <td>5130</td>\n",
       "      <td>23</td>\n",
       "      <td>4.0</td>\n",
       "      <td>10</td>\n",
       "      <td>3</td>\n",
       "      <td>10</td>\n",
       "      <td>7</td>\n",
       "      <td>49</td>\n",
       "      <td>8</td>\n",
       "      <td>7</td>\n",
       "      <td>No</td>\n",
       "    </tr>\n",
       "    <tr>\n",
       "      <th>2</th>\n",
       "      <td>4</td>\n",
       "      <td>Male</td>\n",
       "      <td>Research &amp; Development</td>\n",
       "      <td>Laboratory Technician</td>\n",
       "      <td>Single</td>\n",
       "      <td>3</td>\n",
       "      <td>92.0</td>\n",
       "      <td>2090</td>\n",
       "      <td>15</td>\n",
       "      <td>3.0</td>\n",
       "      <td>7</td>\n",
       "      <td>3</td>\n",
       "      <td>0</td>\n",
       "      <td>0</td>\n",
       "      <td>37</td>\n",
       "      <td>2</td>\n",
       "      <td>0</td>\n",
       "      <td>Yes</td>\n",
       "    </tr>\n",
       "    <tr>\n",
       "      <th>3</th>\n",
       "      <td>5</td>\n",
       "      <td>Female</td>\n",
       "      <td>Research &amp; Development</td>\n",
       "      <td>Research Scientist</td>\n",
       "      <td>Married</td>\n",
       "      <td>3</td>\n",
       "      <td>56.0</td>\n",
       "      <td>2909</td>\n",
       "      <td>11</td>\n",
       "      <td>3.0</td>\n",
       "      <td>8</td>\n",
       "      <td>3</td>\n",
       "      <td>8</td>\n",
       "      <td>7</td>\n",
       "      <td>33</td>\n",
       "      <td>3</td>\n",
       "      <td>0</td>\n",
       "      <td>No</td>\n",
       "    </tr>\n",
       "    <tr>\n",
       "      <th>4</th>\n",
       "      <td>7</td>\n",
       "      <td>Male</td>\n",
       "      <td>Research &amp; Development</td>\n",
       "      <td>Laboratory Technician</td>\n",
       "      <td>Married</td>\n",
       "      <td>2</td>\n",
       "      <td>40.0</td>\n",
       "      <td>3468</td>\n",
       "      <td>12</td>\n",
       "      <td>3.0</td>\n",
       "      <td>6</td>\n",
       "      <td>3</td>\n",
       "      <td>2</td>\n",
       "      <td>2</td>\n",
       "      <td>27</td>\n",
       "      <td>2</td>\n",
       "      <td>2</td>\n",
       "      <td>No</td>\n",
       "    </tr>\n",
       "    <tr>\n",
       "      <th>...</th>\n",
       "      <td>...</td>\n",
       "      <td>...</td>\n",
       "      <td>...</td>\n",
       "      <td>...</td>\n",
       "      <td>...</td>\n",
       "      <td>...</td>\n",
       "      <td>...</td>\n",
       "      <td>...</td>\n",
       "      <td>...</td>\n",
       "      <td>...</td>\n",
       "      <td>...</td>\n",
       "      <td>...</td>\n",
       "      <td>...</td>\n",
       "      <td>...</td>\n",
       "      <td>...</td>\n",
       "      <td>...</td>\n",
       "      <td>...</td>\n",
       "      <td>...</td>\n",
       "    </tr>\n",
       "    <tr>\n",
       "      <th>1465</th>\n",
       "      <td>2061</td>\n",
       "      <td>Male</td>\n",
       "      <td>Research &amp; Development</td>\n",
       "      <td>Laboratory Technician</td>\n",
       "      <td>Married</td>\n",
       "      <td>4</td>\n",
       "      <td>41.0</td>\n",
       "      <td>2571</td>\n",
       "      <td>17</td>\n",
       "      <td>3.0</td>\n",
       "      <td>17</td>\n",
       "      <td>3</td>\n",
       "      <td>5</td>\n",
       "      <td>2</td>\n",
       "      <td>36</td>\n",
       "      <td>23</td>\n",
       "      <td>3</td>\n",
       "      <td>No</td>\n",
       "    </tr>\n",
       "    <tr>\n",
       "      <th>1466</th>\n",
       "      <td>2062</td>\n",
       "      <td>Male</td>\n",
       "      <td>Research &amp; Development</td>\n",
       "      <td>Healthcare Representative</td>\n",
       "      <td>Married</td>\n",
       "      <td>1</td>\n",
       "      <td>42.0</td>\n",
       "      <td>9991</td>\n",
       "      <td>15</td>\n",
       "      <td>3.0</td>\n",
       "      <td>9</td>\n",
       "      <td>3</td>\n",
       "      <td>7</td>\n",
       "      <td>7</td>\n",
       "      <td>39</td>\n",
       "      <td>6</td>\n",
       "      <td>7</td>\n",
       "      <td>No</td>\n",
       "    </tr>\n",
       "    <tr>\n",
       "      <th>1467</th>\n",
       "      <td>2064</td>\n",
       "      <td>Male</td>\n",
       "      <td>Research &amp; Development</td>\n",
       "      <td>Manufacturing Director</td>\n",
       "      <td>Married</td>\n",
       "      <td>2</td>\n",
       "      <td>87.0</td>\n",
       "      <td>6142</td>\n",
       "      <td>20</td>\n",
       "      <td>4.0</td>\n",
       "      <td>6</td>\n",
       "      <td>3</td>\n",
       "      <td>6</td>\n",
       "      <td>2</td>\n",
       "      <td>27</td>\n",
       "      <td>4</td>\n",
       "      <td>3</td>\n",
       "      <td>No</td>\n",
       "    </tr>\n",
       "    <tr>\n",
       "      <th>1468</th>\n",
       "      <td>2065</td>\n",
       "      <td>Male</td>\n",
       "      <td>Sales</td>\n",
       "      <td>Sales Executive</td>\n",
       "      <td>Married</td>\n",
       "      <td>2</td>\n",
       "      <td>63.0</td>\n",
       "      <td>5390</td>\n",
       "      <td>14</td>\n",
       "      <td>3.0</td>\n",
       "      <td>17</td>\n",
       "      <td>2</td>\n",
       "      <td>9</td>\n",
       "      <td>6</td>\n",
       "      <td>49</td>\n",
       "      <td>2</td>\n",
       "      <td>8</td>\n",
       "      <td>No</td>\n",
       "    </tr>\n",
       "    <tr>\n",
       "      <th>1469</th>\n",
       "      <td>2068</td>\n",
       "      <td>Male</td>\n",
       "      <td>Research &amp; Development</td>\n",
       "      <td>Laboratory Technician</td>\n",
       "      <td>Married</td>\n",
       "      <td>3</td>\n",
       "      <td>82.0</td>\n",
       "      <td>4404</td>\n",
       "      <td>12</td>\n",
       "      <td>3.0</td>\n",
       "      <td>6</td>\n",
       "      <td>4</td>\n",
       "      <td>4</td>\n",
       "      <td>3</td>\n",
       "      <td>34</td>\n",
       "      <td>8</td>\n",
       "      <td>2</td>\n",
       "      <td>No</td>\n",
       "    </tr>\n",
       "  </tbody>\n",
       "</table>\n",
       "<p>1470 rows × 18 columns</p>\n",
       "</div>"
      ],
      "text/plain": [
       "      S.No.  Gender              Department                    JobRole  \\\n",
       "0         1  Female                   Sales            Sales Executive   \n",
       "1         2    Male  Research & Development         Research Scientist   \n",
       "2         4    Male  Research & Development      Laboratory Technician   \n",
       "3         5  Female  Research & Development         Research Scientist   \n",
       "4         7    Male  Research & Development      Laboratory Technician   \n",
       "...     ...     ...                     ...                        ...   \n",
       "1465   2061    Male  Research & Development      Laboratory Technician   \n",
       "1466   2062    Male  Research & Development  Healthcare Representative   \n",
       "1467   2064    Male  Research & Development     Manufacturing Director   \n",
       "1468   2065    Male                   Sales            Sales Executive   \n",
       "1469   2068    Male  Research & Development      Laboratory Technician   \n",
       "\n",
       "     MaritalStatus  JobSatisfaction  HourlyRate  MonthlyIncome  \\\n",
       "0           Single                4        94.0           5993   \n",
       "1          Married                2        61.0           5130   \n",
       "2           Single                3        92.0           2090   \n",
       "3          Married                3        56.0           2909   \n",
       "4          Married                2        40.0           3468   \n",
       "...            ...              ...         ...            ...   \n",
       "1465       Married                4        41.0           2571   \n",
       "1466       Married                1        42.0           9991   \n",
       "1467       Married                2        87.0           6142   \n",
       "1468       Married                2        63.0           5390   \n",
       "1469       Married                3        82.0           4404   \n",
       "\n",
       "      PercentSalaryHike  PerformanceRating  TotalWorkingYears  \\\n",
       "0                    11                3.0                  8   \n",
       "1                    23                4.0                 10   \n",
       "2                    15                3.0                  7   \n",
       "3                    11                3.0                  8   \n",
       "4                    12                3.0                  6   \n",
       "...                 ...                ...                ...   \n",
       "1465                 17                3.0                 17   \n",
       "1466                 15                3.0                  9   \n",
       "1467                 20                4.0                  6   \n",
       "1468                 14                3.0                 17   \n",
       "1469                 12                3.0                  6   \n",
       "\n",
       "      EnvironmentRating  YearsAtCompany  YearsInCurrentRole  Age  \\\n",
       "0                     1               6                   4   41   \n",
       "1                     3              10                   7   49   \n",
       "2                     3               0                   0   37   \n",
       "3                     3               8                   7   33   \n",
       "4                     3               2                   2   27   \n",
       "...                 ...             ...                 ...  ...   \n",
       "1465                  3               5                   2   36   \n",
       "1466                  3               7                   7   39   \n",
       "1467                  3               6                   2   27   \n",
       "1468                  2               9                   6   49   \n",
       "1469                  4               4                   3   34   \n",
       "\n",
       "      DistanceFromHome  YearsWithCurrManager Attrition  \n",
       "0                    1                     5       Yes  \n",
       "1                    8                     7        No  \n",
       "2                    2                     0       Yes  \n",
       "3                    3                     0        No  \n",
       "4                    2                     2        No  \n",
       "...                ...                   ...       ...  \n",
       "1465                23                     3        No  \n",
       "1466                 6                     7        No  \n",
       "1467                 4                     3        No  \n",
       "1468                 2                     8        No  \n",
       "1469                 8                     2        No  \n",
       "\n",
       "[1470 rows x 18 columns]"
      ]
     },
     "execution_count": 177,
     "metadata": {},
     "output_type": "execute_result"
    }
   ],
   "source": [
    "df_mid=df[(df['Age']>=45 & (df['Age']<=35))]\n",
    "df_mid"
   ]
  },
  {
   "cell_type": "code",
   "execution_count": 188,
   "id": "60bac5b2",
   "metadata": {},
   "outputs": [
    {
     "data": {
      "text/html": [
       "<div>\n",
       "<style scoped>\n",
       "    .dataframe tbody tr th:only-of-type {\n",
       "        vertical-align: middle;\n",
       "    }\n",
       "\n",
       "    .dataframe tbody tr th {\n",
       "        vertical-align: top;\n",
       "    }\n",
       "\n",
       "    .dataframe thead th {\n",
       "        text-align: right;\n",
       "    }\n",
       "</style>\n",
       "<table border=\"1\" class=\"dataframe\">\n",
       "  <thead>\n",
       "    <tr style=\"text-align: right;\">\n",
       "      <th></th>\n",
       "      <th>S.No.</th>\n",
       "      <th>Gender</th>\n",
       "      <th>Department</th>\n",
       "      <th>JobRole</th>\n",
       "      <th>MaritalStatus</th>\n",
       "      <th>JobSatisfaction</th>\n",
       "      <th>HourlyRate</th>\n",
       "      <th>MonthlyIncome</th>\n",
       "      <th>PercentSalaryHike</th>\n",
       "      <th>PerformanceRating</th>\n",
       "      <th>TotalWorkingYears</th>\n",
       "      <th>EnvironmentRating</th>\n",
       "      <th>YearsAtCompany</th>\n",
       "      <th>YearsInCurrentRole</th>\n",
       "      <th>Age</th>\n",
       "      <th>DistanceFromHome</th>\n",
       "      <th>YearsWithCurrManager</th>\n",
       "      <th>Attrition</th>\n",
       "    </tr>\n",
       "  </thead>\n",
       "  <tbody>\n",
       "    <tr>\n",
       "      <th>190</th>\n",
       "      <td>259</td>\n",
       "      <td>Male</td>\n",
       "      <td>Research &amp; Development</td>\n",
       "      <td>Manager</td>\n",
       "      <td>Married</td>\n",
       "      <td>3</td>\n",
       "      <td>65.0</td>\n",
       "      <td>19999</td>\n",
       "      <td>14</td>\n",
       "      <td>3.0</td>\n",
       "      <td>34</td>\n",
       "      <td>3</td>\n",
       "      <td>33</td>\n",
       "      <td>18</td>\n",
       "      <td>52</td>\n",
       "      <td>1</td>\n",
       "      <td>9</td>\n",
       "      <td>No</td>\n",
       "    </tr>\n",
       "    <tr>\n",
       "      <th>746</th>\n",
       "      <td>1035</td>\n",
       "      <td>Female</td>\n",
       "      <td>Research &amp; Development</td>\n",
       "      <td>Research Director</td>\n",
       "      <td>Divorced</td>\n",
       "      <td>3</td>\n",
       "      <td>55.0</td>\n",
       "      <td>19973</td>\n",
       "      <td>22</td>\n",
       "      <td>4.0</td>\n",
       "      <td>21</td>\n",
       "      <td>3</td>\n",
       "      <td>21</td>\n",
       "      <td>16</td>\n",
       "      <td>41</td>\n",
       "      <td>7</td>\n",
       "      <td>10</td>\n",
       "      <td>No</td>\n",
       "    </tr>\n",
       "    <tr>\n",
       "      <th>851</th>\n",
       "      <td>1191</td>\n",
       "      <td>Female</td>\n",
       "      <td>Research &amp; Development</td>\n",
       "      <td>Manager</td>\n",
       "      <td>Divorced</td>\n",
       "      <td>1</td>\n",
       "      <td>92.0</td>\n",
       "      <td>19943</td>\n",
       "      <td>13</td>\n",
       "      <td>3.0</td>\n",
       "      <td>28</td>\n",
       "      <td>3</td>\n",
       "      <td>5</td>\n",
       "      <td>2</td>\n",
       "      <td>56</td>\n",
       "      <td>4</td>\n",
       "      <td>2</td>\n",
       "      <td>No</td>\n",
       "    </tr>\n",
       "    <tr>\n",
       "      <th>165</th>\n",
       "      <td>226</td>\n",
       "      <td>Female</td>\n",
       "      <td>Research &amp; Development</td>\n",
       "      <td>Manager</td>\n",
       "      <td>Single</td>\n",
       "      <td>2</td>\n",
       "      <td>53.0</td>\n",
       "      <td>19926</td>\n",
       "      <td>15</td>\n",
       "      <td>3.0</td>\n",
       "      <td>21</td>\n",
       "      <td>3</td>\n",
       "      <td>5</td>\n",
       "      <td>4</td>\n",
       "      <td>50</td>\n",
       "      <td>11</td>\n",
       "      <td>4</td>\n",
       "      <td>No</td>\n",
       "    </tr>\n",
       "    <tr>\n",
       "      <th>568</th>\n",
       "      <td>787</td>\n",
       "      <td>Male</td>\n",
       "      <td>Research &amp; Development</td>\n",
       "      <td>Manager</td>\n",
       "      <td>Married</td>\n",
       "      <td>1</td>\n",
       "      <td>78.0</td>\n",
       "      <td>19859</td>\n",
       "      <td>13</td>\n",
       "      <td>3.0</td>\n",
       "      <td>24</td>\n",
       "      <td>3</td>\n",
       "      <td>5</td>\n",
       "      <td>2</td>\n",
       "      <td>55</td>\n",
       "      <td>2</td>\n",
       "      <td>4</td>\n",
       "      <td>Yes</td>\n",
       "    </tr>\n",
       "    <tr>\n",
       "      <th>918</th>\n",
       "      <td>1282</td>\n",
       "      <td>Male</td>\n",
       "      <td>Sales</td>\n",
       "      <td>Manager</td>\n",
       "      <td>Divorced</td>\n",
       "      <td>2</td>\n",
       "      <td>83.0</td>\n",
       "      <td>19847</td>\n",
       "      <td>24</td>\n",
       "      <td>4.0</td>\n",
       "      <td>31</td>\n",
       "      <td>2</td>\n",
       "      <td>29</td>\n",
       "      <td>10</td>\n",
       "      <td>51</td>\n",
       "      <td>9</td>\n",
       "      <td>10</td>\n",
       "      <td>No</td>\n",
       "    </tr>\n",
       "    <tr>\n",
       "      <th>749</th>\n",
       "      <td>1038</td>\n",
       "      <td>Female</td>\n",
       "      <td>Sales</td>\n",
       "      <td>Manager</td>\n",
       "      <td>Married</td>\n",
       "      <td>4</td>\n",
       "      <td>57.0</td>\n",
       "      <td>19845</td>\n",
       "      <td>15</td>\n",
       "      <td>3.0</td>\n",
       "      <td>33</td>\n",
       "      <td>3</td>\n",
       "      <td>32</td>\n",
       "      <td>14</td>\n",
       "      <td>52</td>\n",
       "      <td>2</td>\n",
       "      <td>9</td>\n",
       "      <td>Yes</td>\n",
       "    </tr>\n",
       "    <tr>\n",
       "      <th>1242</th>\n",
       "      <td>1740</td>\n",
       "      <td>Male</td>\n",
       "      <td>Sales</td>\n",
       "      <td>Manager</td>\n",
       "      <td>Single</td>\n",
       "      <td>2</td>\n",
       "      <td>88.0</td>\n",
       "      <td>19833</td>\n",
       "      <td>14</td>\n",
       "      <td>3.0</td>\n",
       "      <td>21</td>\n",
       "      <td>2</td>\n",
       "      <td>21</td>\n",
       "      <td>8</td>\n",
       "      <td>40</td>\n",
       "      <td>7</td>\n",
       "      <td>8</td>\n",
       "      <td>No</td>\n",
       "    </tr>\n",
       "    <tr>\n",
       "      <th>898</th>\n",
       "      <td>1255</td>\n",
       "      <td>Male</td>\n",
       "      <td>Research &amp; Development</td>\n",
       "      <td>Research Director</td>\n",
       "      <td>Married</td>\n",
       "      <td>4</td>\n",
       "      <td>96.0</td>\n",
       "      <td>19740</td>\n",
       "      <td>14</td>\n",
       "      <td>3.0</td>\n",
       "      <td>25</td>\n",
       "      <td>3</td>\n",
       "      <td>8</td>\n",
       "      <td>7</td>\n",
       "      <td>43</td>\n",
       "      <td>3</td>\n",
       "      <td>7</td>\n",
       "      <td>No</td>\n",
       "    </tr>\n",
       "    <tr>\n",
       "      <th>956</th>\n",
       "      <td>1338</td>\n",
       "      <td>Male</td>\n",
       "      <td>Human Resources</td>\n",
       "      <td>Manager</td>\n",
       "      <td>Single</td>\n",
       "      <td>2</td>\n",
       "      <td>99.0</td>\n",
       "      <td>19717</td>\n",
       "      <td>14</td>\n",
       "      <td>3.0</td>\n",
       "      <td>36</td>\n",
       "      <td>3</td>\n",
       "      <td>7</td>\n",
       "      <td>3</td>\n",
       "      <td>56</td>\n",
       "      <td>8</td>\n",
       "      <td>7</td>\n",
       "      <td>No</td>\n",
       "    </tr>\n",
       "  </tbody>\n",
       "</table>\n",
       "</div>"
      ],
      "text/plain": [
       "      S.No.  Gender              Department            JobRole MaritalStatus  \\\n",
       "190     259    Male  Research & Development            Manager       Married   \n",
       "746    1035  Female  Research & Development  Research Director      Divorced   \n",
       "851    1191  Female  Research & Development            Manager      Divorced   \n",
       "165     226  Female  Research & Development            Manager        Single   \n",
       "568     787    Male  Research & Development            Manager       Married   \n",
       "918    1282    Male                   Sales            Manager      Divorced   \n",
       "749    1038  Female                   Sales            Manager       Married   \n",
       "1242   1740    Male                   Sales            Manager        Single   \n",
       "898    1255    Male  Research & Development  Research Director       Married   \n",
       "956    1338    Male         Human Resources            Manager        Single   \n",
       "\n",
       "      JobSatisfaction  HourlyRate  MonthlyIncome  PercentSalaryHike  \\\n",
       "190                 3        65.0          19999                 14   \n",
       "746                 3        55.0          19973                 22   \n",
       "851                 1        92.0          19943                 13   \n",
       "165                 2        53.0          19926                 15   \n",
       "568                 1        78.0          19859                 13   \n",
       "918                 2        83.0          19847                 24   \n",
       "749                 4        57.0          19845                 15   \n",
       "1242                2        88.0          19833                 14   \n",
       "898                 4        96.0          19740                 14   \n",
       "956                 2        99.0          19717                 14   \n",
       "\n",
       "      PerformanceRating  TotalWorkingYears  EnvironmentRating  YearsAtCompany  \\\n",
       "190                 3.0                 34                  3              33   \n",
       "746                 4.0                 21                  3              21   \n",
       "851                 3.0                 28                  3               5   \n",
       "165                 3.0                 21                  3               5   \n",
       "568                 3.0                 24                  3               5   \n",
       "918                 4.0                 31                  2              29   \n",
       "749                 3.0                 33                  3              32   \n",
       "1242                3.0                 21                  2              21   \n",
       "898                 3.0                 25                  3               8   \n",
       "956                 3.0                 36                  3               7   \n",
       "\n",
       "      YearsInCurrentRole  Age  DistanceFromHome  YearsWithCurrManager  \\\n",
       "190                   18   52                 1                     9   \n",
       "746                   16   41                 7                    10   \n",
       "851                    2   56                 4                     2   \n",
       "165                    4   50                11                     4   \n",
       "568                    2   55                 2                     4   \n",
       "918                   10   51                 9                    10   \n",
       "749                   14   52                 2                     9   \n",
       "1242                   8   40                 7                     8   \n",
       "898                    7   43                 3                     7   \n",
       "956                    3   56                 8                     7   \n",
       "\n",
       "     Attrition  \n",
       "190         No  \n",
       "746         No  \n",
       "851         No  \n",
       "165         No  \n",
       "568        Yes  \n",
       "918         No  \n",
       "749        Yes  \n",
       "1242        No  \n",
       "898         No  \n",
       "956         No  "
      ]
     },
     "execution_count": 188,
     "metadata": {},
     "output_type": "execute_result"
    }
   ],
   "source": [
    "df_rich=df.sort_values(by=['MonthlyIncome'],ascending=False).head(10)\n",
    "df_rich"
   ]
  },
  {
   "cell_type": "code",
   "execution_count": 181,
   "id": "76837174",
   "metadata": {},
   "outputs": [
    {
     "data": {
      "text/plain": [
       "9.19251700680272"
      ]
     },
     "execution_count": 181,
     "metadata": {},
     "output_type": "execute_result"
    }
   ],
   "source": [
    "df['DistanceFromHome'].mean()"
   ]
  },
  {
   "cell_type": "code",
   "execution_count": 182,
   "id": "fce97067",
   "metadata": {},
   "outputs": [
    {
     "data": {
      "text/plain": [
       "237"
      ]
     },
     "execution_count": 182,
     "metadata": {},
     "output_type": "execute_result"
    }
   ],
   "source": [
    "(df['Attrition']==\"Yes\").sum()"
   ]
  },
  {
   "cell_type": "code",
   "execution_count": 184,
   "id": "cfe3ea4c",
   "metadata": {},
   "outputs": [
    {
     "data": {
      "text/plain": [
       "237"
      ]
     },
     "execution_count": 184,
     "metadata": {},
     "output_type": "execute_result"
    }
   ],
   "source": [
    "len(df[df['Attrition']==\"Yes\"])"
   ]
  },
  {
   "cell_type": "code",
   "execution_count": null,
   "id": "0d16d916",
   "metadata": {},
   "outputs": [],
   "source": [
    "#groupby"
   ]
  },
  {
   "cell_type": "code",
   "execution_count": 39,
   "id": "d9e4d7a5",
   "metadata": {},
   "outputs": [
    {
     "data": {
      "text/html": [
       "<div>\n",
       "<style scoped>\n",
       "    .dataframe tbody tr th:only-of-type {\n",
       "        vertical-align: middle;\n",
       "    }\n",
       "\n",
       "    .dataframe tbody tr th {\n",
       "        vertical-align: top;\n",
       "    }\n",
       "\n",
       "    .dataframe thead th {\n",
       "        text-align: right;\n",
       "    }\n",
       "</style>\n",
       "<table border=\"1\" class=\"dataframe\">\n",
       "  <thead>\n",
       "    <tr style=\"text-align: right;\">\n",
       "      <th></th>\n",
       "      <th></th>\n",
       "      <th>Age</th>\n",
       "    </tr>\n",
       "    <tr>\n",
       "      <th>Department</th>\n",
       "      <th>JobRole</th>\n",
       "      <th></th>\n",
       "    </tr>\n",
       "  </thead>\n",
       "  <tbody>\n",
       "    <tr>\n",
       "      <th rowspan=\"2\" valign=\"top\">Human Resources</th>\n",
       "      <th>Human Resources</th>\n",
       "      <td>35.500000</td>\n",
       "    </tr>\n",
       "    <tr>\n",
       "      <th>Manager</th>\n",
       "      <td>48.727273</td>\n",
       "    </tr>\n",
       "    <tr>\n",
       "      <th rowspan=\"6\" valign=\"top\">Research &amp; Development</th>\n",
       "      <th>Healthcare Representative</th>\n",
       "      <td>39.809160</td>\n",
       "    </tr>\n",
       "    <tr>\n",
       "      <th>Laboratory Technician</th>\n",
       "      <td>34.096525</td>\n",
       "    </tr>\n",
       "    <tr>\n",
       "      <th>Manager</th>\n",
       "      <td>45.962963</td>\n",
       "    </tr>\n",
       "    <tr>\n",
       "      <th>Manufacturing Director</th>\n",
       "      <td>38.296552</td>\n",
       "    </tr>\n",
       "    <tr>\n",
       "      <th>Research Director</th>\n",
       "      <td>44.000000</td>\n",
       "    </tr>\n",
       "    <tr>\n",
       "      <th>Research Scientist</th>\n",
       "      <td>34.236301</td>\n",
       "    </tr>\n",
       "    <tr>\n",
       "      <th rowspan=\"3\" valign=\"top\">Sales</th>\n",
       "      <th>Manager</th>\n",
       "      <td>47.351351</td>\n",
       "    </tr>\n",
       "    <tr>\n",
       "      <th>Sales Executive</th>\n",
       "      <td>36.889571</td>\n",
       "    </tr>\n",
       "    <tr>\n",
       "      <th>Sales Representative</th>\n",
       "      <td>30.361446</td>\n",
       "    </tr>\n",
       "  </tbody>\n",
       "</table>\n",
       "</div>"
      ],
      "text/plain": [
       "                                                        Age\n",
       "Department             JobRole                             \n",
       "Human Resources        Human Resources            35.500000\n",
       "                       Manager                    48.727273\n",
       "Research & Development Healthcare Representative  39.809160\n",
       "                       Laboratory Technician      34.096525\n",
       "                       Manager                    45.962963\n",
       "                       Manufacturing Director     38.296552\n",
       "                       Research Director          44.000000\n",
       "                       Research Scientist         34.236301\n",
       "Sales                  Manager                    47.351351\n",
       "                       Sales Executive            36.889571\n",
       "                       Sales Representative       30.361446"
      ]
     },
     "execution_count": 39,
     "metadata": {},
     "output_type": "execute_result"
    }
   ],
   "source": [
    "df.groupby([\"Department\",\"JobRole\"])[\"Age\"].mean().to_frame()"
   ]
  },
  {
   "cell_type": "code",
   "execution_count": 193,
   "id": "66ddbff5",
   "metadata": {},
   "outputs": [
    {
     "data": {
      "text/html": [
       "<div>\n",
       "<style scoped>\n",
       "    .dataframe tbody tr th:only-of-type {\n",
       "        vertical-align: middle;\n",
       "    }\n",
       "\n",
       "    .dataframe tbody tr th {\n",
       "        vertical-align: top;\n",
       "    }\n",
       "\n",
       "    .dataframe thead th {\n",
       "        text-align: right;\n",
       "    }\n",
       "</style>\n",
       "<table border=\"1\" class=\"dataframe\">\n",
       "  <thead>\n",
       "    <tr style=\"text-align: right;\">\n",
       "      <th></th>\n",
       "      <th>Age</th>\n",
       "      <th>MonthlyIncome</th>\n",
       "    </tr>\n",
       "    <tr>\n",
       "      <th>Department</th>\n",
       "      <th></th>\n",
       "      <th></th>\n",
       "    </tr>\n",
       "  </thead>\n",
       "  <tbody>\n",
       "    <tr>\n",
       "      <th>Human Resources</th>\n",
       "      <td>37.809524</td>\n",
       "      <td>6654.507937</td>\n",
       "    </tr>\n",
       "    <tr>\n",
       "      <th>Research &amp; Development</th>\n",
       "      <td>37.042664</td>\n",
       "      <td>6281.252862</td>\n",
       "    </tr>\n",
       "    <tr>\n",
       "      <th>Sales</th>\n",
       "      <td>36.542601</td>\n",
       "      <td>6959.172646</td>\n",
       "    </tr>\n",
       "  </tbody>\n",
       "</table>\n",
       "</div>"
      ],
      "text/plain": [
       "                              Age  MonthlyIncome\n",
       "Department                                      \n",
       "Human Resources         37.809524    6654.507937\n",
       "Research & Development  37.042664    6281.252862\n",
       "Sales                   36.542601    6959.172646"
      ]
     },
     "execution_count": 193,
     "metadata": {},
     "output_type": "execute_result"
    }
   ],
   "source": [
    "df.groupby([\"Department\"])[[\"Age\",\"MonthlyIncome\"]].mean()"
   ]
  },
  {
   "cell_type": "code",
   "execution_count": 200,
   "id": "1a55f75d",
   "metadata": {},
   "outputs": [
    {
     "data": {
      "text/html": [
       "<div>\n",
       "<style scoped>\n",
       "    .dataframe tbody tr th:only-of-type {\n",
       "        vertical-align: middle;\n",
       "    }\n",
       "\n",
       "    .dataframe tbody tr th {\n",
       "        vertical-align: top;\n",
       "    }\n",
       "\n",
       "    .dataframe thead th {\n",
       "        text-align: right;\n",
       "    }\n",
       "</style>\n",
       "<table border=\"1\" class=\"dataframe\">\n",
       "  <thead>\n",
       "    <tr style=\"text-align: right;\">\n",
       "      <th></th>\n",
       "      <th>mean</th>\n",
       "      <th>min</th>\n",
       "      <th>max</th>\n",
       "    </tr>\n",
       "    <tr>\n",
       "      <th>Department</th>\n",
       "      <th></th>\n",
       "      <th></th>\n",
       "      <th></th>\n",
       "    </tr>\n",
       "  </thead>\n",
       "  <tbody>\n",
       "    <tr>\n",
       "      <th>Human Resources</th>\n",
       "      <td>37.809524</td>\n",
       "      <td>19</td>\n",
       "      <td>59</td>\n",
       "    </tr>\n",
       "    <tr>\n",
       "      <th>Research &amp; Development</th>\n",
       "      <td>37.042664</td>\n",
       "      <td>18</td>\n",
       "      <td>60</td>\n",
       "    </tr>\n",
       "    <tr>\n",
       "      <th>Sales</th>\n",
       "      <td>36.542601</td>\n",
       "      <td>18</td>\n",
       "      <td>60</td>\n",
       "    </tr>\n",
       "  </tbody>\n",
       "</table>\n",
       "</div>"
      ],
      "text/plain": [
       "                             mean  min  max\n",
       "Department                                 \n",
       "Human Resources         37.809524   19   59\n",
       "Research & Development  37.042664   18   60\n",
       "Sales                   36.542601   18   60"
      ]
     },
     "execution_count": 200,
     "metadata": {},
     "output_type": "execute_result"
    }
   ],
   "source": [
    "df.groupby([\"Department\"])[\"Age\"].agg(['mean','min','max'])"
   ]
  },
  {
   "cell_type": "code",
   "execution_count": 202,
   "id": "2c40e6cd",
   "metadata": {},
   "outputs": [
    {
     "data": {
      "text/html": [
       "<div>\n",
       "<style scoped>\n",
       "    .dataframe tbody tr th:only-of-type {\n",
       "        vertical-align: middle;\n",
       "    }\n",
       "\n",
       "    .dataframe tbody tr th {\n",
       "        vertical-align: top;\n",
       "    }\n",
       "\n",
       "    .dataframe thead th {\n",
       "        text-align: right;\n",
       "    }\n",
       "</style>\n",
       "<table border=\"1\" class=\"dataframe\">\n",
       "  <thead>\n",
       "    <tr style=\"text-align: right;\">\n",
       "      <th></th>\n",
       "      <th>Age</th>\n",
       "      <th>MonthlyIncome</th>\n",
       "    </tr>\n",
       "    <tr>\n",
       "      <th>Department</th>\n",
       "      <th></th>\n",
       "      <th></th>\n",
       "    </tr>\n",
       "  </thead>\n",
       "  <tbody>\n",
       "    <tr>\n",
       "      <th>Human Resources</th>\n",
       "      <td>37.809524</td>\n",
       "      <td>419234</td>\n",
       "    </tr>\n",
       "    <tr>\n",
       "      <th>Research &amp; Development</th>\n",
       "      <td>37.042664</td>\n",
       "      <td>6036284</td>\n",
       "    </tr>\n",
       "    <tr>\n",
       "      <th>Sales</th>\n",
       "      <td>36.542601</td>\n",
       "      <td>3103791</td>\n",
       "    </tr>\n",
       "  </tbody>\n",
       "</table>\n",
       "</div>"
      ],
      "text/plain": [
       "                              Age  MonthlyIncome\n",
       "Department                                      \n",
       "Human Resources         37.809524         419234\n",
       "Research & Development  37.042664        6036284\n",
       "Sales                   36.542601        3103791"
      ]
     },
     "execution_count": 202,
     "metadata": {},
     "output_type": "execute_result"
    }
   ],
   "source": [
    "df.groupby([\"Department\"])[[\"Age\",\"MonthlyIncome\"]].agg({'Age':'mean','MonthlyIncome':'sum'})"
   ]
  },
  {
   "cell_type": "code",
   "execution_count": null,
   "id": "9a583533",
   "metadata": {},
   "outputs": [],
   "source": [
    "#Pivot table"
   ]
  },
  {
   "cell_type": "code",
   "execution_count": 205,
   "id": "e0ac8528",
   "metadata": {},
   "outputs": [
    {
     "data": {
      "text/html": [
       "<div>\n",
       "<style scoped>\n",
       "    .dataframe tbody tr th:only-of-type {\n",
       "        vertical-align: middle;\n",
       "    }\n",
       "\n",
       "    .dataframe tbody tr th {\n",
       "        vertical-align: top;\n",
       "    }\n",
       "\n",
       "    .dataframe thead th {\n",
       "        text-align: right;\n",
       "    }\n",
       "</style>\n",
       "<table border=\"1\" class=\"dataframe\">\n",
       "  <thead>\n",
       "    <tr style=\"text-align: right;\">\n",
       "      <th></th>\n",
       "      <th>Age</th>\n",
       "      <th>MonthlyIncome</th>\n",
       "    </tr>\n",
       "    <tr>\n",
       "      <th>Department</th>\n",
       "      <th></th>\n",
       "      <th></th>\n",
       "    </tr>\n",
       "  </thead>\n",
       "  <tbody>\n",
       "    <tr>\n",
       "      <th>Human Resources</th>\n",
       "      <td>37.809524</td>\n",
       "      <td>419234</td>\n",
       "    </tr>\n",
       "    <tr>\n",
       "      <th>Research &amp; Development</th>\n",
       "      <td>37.042664</td>\n",
       "      <td>6036284</td>\n",
       "    </tr>\n",
       "    <tr>\n",
       "      <th>Sales</th>\n",
       "      <td>36.542601</td>\n",
       "      <td>3103791</td>\n",
       "    </tr>\n",
       "  </tbody>\n",
       "</table>\n",
       "</div>"
      ],
      "text/plain": [
       "                              Age  MonthlyIncome\n",
       "Department                                      \n",
       "Human Resources         37.809524         419234\n",
       "Research & Development  37.042664        6036284\n",
       "Sales                   36.542601        3103791"
      ]
     },
     "execution_count": 205,
     "metadata": {},
     "output_type": "execute_result"
    }
   ],
   "source": [
    "pd.pivot_table(df,index=[\"Department\"],values=[\"Age\",\"MonthlyIncome\"], aggfunc={'Age':'mean','MonthlyIncome':'sum'})"
   ]
  },
  {
   "cell_type": "code",
   "execution_count": 42,
   "id": "948ec38f",
   "metadata": {},
   "outputs": [
    {
     "data": {
      "text/html": [
       "<div>\n",
       "<style scoped>\n",
       "    .dataframe tbody tr th:only-of-type {\n",
       "        vertical-align: middle;\n",
       "    }\n",
       "\n",
       "    .dataframe tbody tr th {\n",
       "        vertical-align: top;\n",
       "    }\n",
       "\n",
       "    .dataframe thead th {\n",
       "        text-align: right;\n",
       "    }\n",
       "</style>\n",
       "<table border=\"1\" class=\"dataframe\">\n",
       "  <thead>\n",
       "    <tr style=\"text-align: right;\">\n",
       "      <th></th>\n",
       "      <th>S.No.</th>\n",
       "      <th>Gender</th>\n",
       "      <th>Department</th>\n",
       "      <th>JobRole</th>\n",
       "      <th>MaritalStatus</th>\n",
       "      <th>JobSatisfaction</th>\n",
       "      <th>HourlyRate</th>\n",
       "      <th>MonthlyIncome</th>\n",
       "      <th>PercentSalaryHike</th>\n",
       "      <th>PerformanceRating</th>\n",
       "      <th>TotalWorkingYears</th>\n",
       "      <th>EnvironmentRating</th>\n",
       "      <th>YearsAtCompany</th>\n",
       "      <th>YearsInCurrentRole</th>\n",
       "      <th>Age</th>\n",
       "      <th>DistanceFromHome</th>\n",
       "      <th>YearsWithCurrManager</th>\n",
       "      <th>Attrition</th>\n",
       "    </tr>\n",
       "  </thead>\n",
       "  <tbody>\n",
       "    <tr>\n",
       "      <th>0</th>\n",
       "      <td>1</td>\n",
       "      <td>Female</td>\n",
       "      <td>Sales</td>\n",
       "      <td>Sales Executive</td>\n",
       "      <td>Single</td>\n",
       "      <td>4</td>\n",
       "      <td>94.0</td>\n",
       "      <td>5993</td>\n",
       "      <td>11</td>\n",
       "      <td>3.0</td>\n",
       "      <td>8</td>\n",
       "      <td>1</td>\n",
       "      <td>6</td>\n",
       "      <td>4</td>\n",
       "      <td>41</td>\n",
       "      <td>1</td>\n",
       "      <td>5</td>\n",
       "      <td>Yes</td>\n",
       "    </tr>\n",
       "    <tr>\n",
       "      <th>1</th>\n",
       "      <td>2</td>\n",
       "      <td>Male</td>\n",
       "      <td>Research &amp; Development</td>\n",
       "      <td>Research Scientist</td>\n",
       "      <td>Married</td>\n",
       "      <td>2</td>\n",
       "      <td>61.0</td>\n",
       "      <td>5130</td>\n",
       "      <td>23</td>\n",
       "      <td>4.0</td>\n",
       "      <td>10</td>\n",
       "      <td>3</td>\n",
       "      <td>10</td>\n",
       "      <td>7</td>\n",
       "      <td>49</td>\n",
       "      <td>8</td>\n",
       "      <td>7</td>\n",
       "      <td>No</td>\n",
       "    </tr>\n",
       "  </tbody>\n",
       "</table>\n",
       "</div>"
      ],
      "text/plain": [
       "   S.No.  Gender              Department             JobRole MaritalStatus  \\\n",
       "0      1  Female                   Sales     Sales Executive        Single   \n",
       "1      2    Male  Research & Development  Research Scientist       Married   \n",
       "\n",
       "   JobSatisfaction  HourlyRate  MonthlyIncome  PercentSalaryHike  \\\n",
       "0                4        94.0           5993                 11   \n",
       "1                2        61.0           5130                 23   \n",
       "\n",
       "   PerformanceRating  TotalWorkingYears  EnvironmentRating  YearsAtCompany  \\\n",
       "0                3.0                  8                  1               6   \n",
       "1                4.0                 10                  3              10   \n",
       "\n",
       "   YearsInCurrentRole  Age  DistanceFromHome  YearsWithCurrManager Attrition  \n",
       "0                   4   41                 1                     5       Yes  \n",
       "1                   7   49                 8                     7        No  "
      ]
     },
     "execution_count": 42,
     "metadata": {},
     "output_type": "execute_result"
    }
   ],
   "source": [
    "df.head(2)"
   ]
  },
  {
   "cell_type": "code",
   "execution_count": 40,
   "id": "f0156a34",
   "metadata": {},
   "outputs": [
    {
     "data": {
      "text/html": [
       "<div>\n",
       "<style scoped>\n",
       "    .dataframe tbody tr th:only-of-type {\n",
       "        vertical-align: middle;\n",
       "    }\n",
       "\n",
       "    .dataframe tbody tr th {\n",
       "        vertical-align: top;\n",
       "    }\n",
       "\n",
       "    .dataframe thead th {\n",
       "        text-align: right;\n",
       "    }\n",
       "</style>\n",
       "<table border=\"1\" class=\"dataframe\">\n",
       "  <thead>\n",
       "    <tr style=\"text-align: right;\">\n",
       "      <th></th>\n",
       "      <th>S.No.</th>\n",
       "      <th>Gender</th>\n",
       "      <th>Department</th>\n",
       "    </tr>\n",
       "  </thead>\n",
       "  <tbody>\n",
       "    <tr>\n",
       "      <th>0</th>\n",
       "      <td>1</td>\n",
       "      <td>Female</td>\n",
       "      <td>Sales</td>\n",
       "    </tr>\n",
       "    <tr>\n",
       "      <th>1</th>\n",
       "      <td>2</td>\n",
       "      <td>Male</td>\n",
       "      <td>Research &amp; Development</td>\n",
       "    </tr>\n",
       "    <tr>\n",
       "      <th>2</th>\n",
       "      <td>4</td>\n",
       "      <td>Male</td>\n",
       "      <td>Research &amp; Development</td>\n",
       "    </tr>\n",
       "    <tr>\n",
       "      <th>3</th>\n",
       "      <td>5</td>\n",
       "      <td>Female</td>\n",
       "      <td>Research &amp; Development</td>\n",
       "    </tr>\n",
       "    <tr>\n",
       "      <th>4</th>\n",
       "      <td>7</td>\n",
       "      <td>Male</td>\n",
       "      <td>Research &amp; Development</td>\n",
       "    </tr>\n",
       "    <tr>\n",
       "      <th>...</th>\n",
       "      <td>...</td>\n",
       "      <td>...</td>\n",
       "      <td>...</td>\n",
       "    </tr>\n",
       "    <tr>\n",
       "      <th>1465</th>\n",
       "      <td>2061</td>\n",
       "      <td>Male</td>\n",
       "      <td>Research &amp; Development</td>\n",
       "    </tr>\n",
       "    <tr>\n",
       "      <th>1466</th>\n",
       "      <td>2062</td>\n",
       "      <td>Male</td>\n",
       "      <td>Research &amp; Development</td>\n",
       "    </tr>\n",
       "    <tr>\n",
       "      <th>1467</th>\n",
       "      <td>2064</td>\n",
       "      <td>Male</td>\n",
       "      <td>Research &amp; Development</td>\n",
       "    </tr>\n",
       "    <tr>\n",
       "      <th>1468</th>\n",
       "      <td>2065</td>\n",
       "      <td>Male</td>\n",
       "      <td>Sales</td>\n",
       "    </tr>\n",
       "    <tr>\n",
       "      <th>1469</th>\n",
       "      <td>2068</td>\n",
       "      <td>Male</td>\n",
       "      <td>Research &amp; Development</td>\n",
       "    </tr>\n",
       "  </tbody>\n",
       "</table>\n",
       "<p>1470 rows × 3 columns</p>\n",
       "</div>"
      ],
      "text/plain": [
       "      S.No.  Gender              Department\n",
       "0         1  Female                   Sales\n",
       "1         2    Male  Research & Development\n",
       "2         4    Male  Research & Development\n",
       "3         5  Female  Research & Development\n",
       "4         7    Male  Research & Development\n",
       "...     ...     ...                     ...\n",
       "1465   2061    Male  Research & Development\n",
       "1466   2062    Male  Research & Development\n",
       "1467   2064    Male  Research & Development\n",
       "1468   2065    Male                   Sales\n",
       "1469   2068    Male  Research & Development\n",
       "\n",
       "[1470 rows x 3 columns]"
      ]
     },
     "execution_count": 40,
     "metadata": {},
     "output_type": "execute_result"
    }
   ],
   "source": [
    "df.iloc[:,0:3]"
   ]
  },
  {
   "cell_type": "code",
   "execution_count": 41,
   "id": "eba5a525",
   "metadata": {},
   "outputs": [
    {
     "data": {
      "text/html": [
       "<div>\n",
       "<style scoped>\n",
       "    .dataframe tbody tr th:only-of-type {\n",
       "        vertical-align: middle;\n",
       "    }\n",
       "\n",
       "    .dataframe tbody tr th {\n",
       "        vertical-align: top;\n",
       "    }\n",
       "\n",
       "    .dataframe thead th {\n",
       "        text-align: right;\n",
       "    }\n",
       "</style>\n",
       "<table border=\"1\" class=\"dataframe\">\n",
       "  <thead>\n",
       "    <tr style=\"text-align: right;\">\n",
       "      <th></th>\n",
       "      <th>S.No.</th>\n",
       "      <th>Gender</th>\n",
       "    </tr>\n",
       "  </thead>\n",
       "  <tbody>\n",
       "    <tr>\n",
       "      <th>0</th>\n",
       "      <td>1</td>\n",
       "      <td>Female</td>\n",
       "    </tr>\n",
       "    <tr>\n",
       "      <th>1</th>\n",
       "      <td>2</td>\n",
       "      <td>Male</td>\n",
       "    </tr>\n",
       "    <tr>\n",
       "      <th>2</th>\n",
       "      <td>4</td>\n",
       "      <td>Male</td>\n",
       "    </tr>\n",
       "    <tr>\n",
       "      <th>3</th>\n",
       "      <td>5</td>\n",
       "      <td>Female</td>\n",
       "    </tr>\n",
       "    <tr>\n",
       "      <th>4</th>\n",
       "      <td>7</td>\n",
       "      <td>Male</td>\n",
       "    </tr>\n",
       "    <tr>\n",
       "      <th>...</th>\n",
       "      <td>...</td>\n",
       "      <td>...</td>\n",
       "    </tr>\n",
       "    <tr>\n",
       "      <th>1465</th>\n",
       "      <td>2061</td>\n",
       "      <td>Male</td>\n",
       "    </tr>\n",
       "    <tr>\n",
       "      <th>1466</th>\n",
       "      <td>2062</td>\n",
       "      <td>Male</td>\n",
       "    </tr>\n",
       "    <tr>\n",
       "      <th>1467</th>\n",
       "      <td>2064</td>\n",
       "      <td>Male</td>\n",
       "    </tr>\n",
       "    <tr>\n",
       "      <th>1468</th>\n",
       "      <td>2065</td>\n",
       "      <td>Male</td>\n",
       "    </tr>\n",
       "    <tr>\n",
       "      <th>1469</th>\n",
       "      <td>2068</td>\n",
       "      <td>Male</td>\n",
       "    </tr>\n",
       "  </tbody>\n",
       "</table>\n",
       "<p>1470 rows × 2 columns</p>\n",
       "</div>"
      ],
      "text/plain": [
       "      S.No.  Gender\n",
       "0         1  Female\n",
       "1         2    Male\n",
       "2         4    Male\n",
       "3         5  Female\n",
       "4         7    Male\n",
       "...     ...     ...\n",
       "1465   2061    Male\n",
       "1466   2062    Male\n",
       "1467   2064    Male\n",
       "1468   2065    Male\n",
       "1469   2068    Male\n",
       "\n",
       "[1470 rows x 2 columns]"
      ]
     },
     "execution_count": 41,
     "metadata": {},
     "output_type": "execute_result"
    }
   ],
   "source": [
    "df.loc[:,['S.No.','Gender']]"
   ]
  },
  {
   "cell_type": "code",
   "execution_count": 213,
   "id": "40d155fb",
   "metadata": {},
   "outputs": [],
   "source": [
    "first_100=df.head(100)\n",
    "remaining=df.iloc[100:,:]"
   ]
  },
  {
   "cell_type": "code",
   "execution_count": 215,
   "id": "2b7e011a",
   "metadata": {},
   "outputs": [],
   "source": [
    "df_new=pd.concat([remaining,first_100],axis=0)"
   ]
  },
  {
   "cell_type": "code",
   "execution_count": 216,
   "id": "d26ce0c3",
   "metadata": {},
   "outputs": [
    {
     "data": {
      "text/html": [
       "<div>\n",
       "<style scoped>\n",
       "    .dataframe tbody tr th:only-of-type {\n",
       "        vertical-align: middle;\n",
       "    }\n",
       "\n",
       "    .dataframe tbody tr th {\n",
       "        vertical-align: top;\n",
       "    }\n",
       "\n",
       "    .dataframe thead th {\n",
       "        text-align: right;\n",
       "    }\n",
       "</style>\n",
       "<table border=\"1\" class=\"dataframe\">\n",
       "  <thead>\n",
       "    <tr style=\"text-align: right;\">\n",
       "      <th></th>\n",
       "      <th>S.No.</th>\n",
       "      <th>Gender</th>\n",
       "      <th>Department</th>\n",
       "      <th>JobRole</th>\n",
       "      <th>MaritalStatus</th>\n",
       "      <th>JobSatisfaction</th>\n",
       "      <th>HourlyRate</th>\n",
       "      <th>MonthlyIncome</th>\n",
       "      <th>PercentSalaryHike</th>\n",
       "      <th>PerformanceRating</th>\n",
       "      <th>TotalWorkingYears</th>\n",
       "      <th>EnvironmentRating</th>\n",
       "      <th>YearsAtCompany</th>\n",
       "      <th>YearsInCurrentRole</th>\n",
       "      <th>Age</th>\n",
       "      <th>DistanceFromHome</th>\n",
       "      <th>YearsWithCurrManager</th>\n",
       "      <th>Attrition</th>\n",
       "    </tr>\n",
       "  </thead>\n",
       "  <tbody>\n",
       "    <tr>\n",
       "      <th>100</th>\n",
       "      <td>133</td>\n",
       "      <td>Male</td>\n",
       "      <td>Human Resources</td>\n",
       "      <td>Human Resources</td>\n",
       "      <td>Divorced</td>\n",
       "      <td>1</td>\n",
       "      <td>63.0</td>\n",
       "      <td>2073</td>\n",
       "      <td>22</td>\n",
       "      <td>4.0</td>\n",
       "      <td>7</td>\n",
       "      <td>3</td>\n",
       "      <td>3</td>\n",
       "      <td>2</td>\n",
       "      <td>37</td>\n",
       "      <td>6</td>\n",
       "      <td>2</td>\n",
       "      <td>Yes</td>\n",
       "    </tr>\n",
       "    <tr>\n",
       "      <th>101</th>\n",
       "      <td>134</td>\n",
       "      <td>Male</td>\n",
       "      <td>Research &amp; Development</td>\n",
       "      <td>Research Scientist</td>\n",
       "      <td>Single</td>\n",
       "      <td>1</td>\n",
       "      <td>71.0</td>\n",
       "      <td>2956</td>\n",
       "      <td>13</td>\n",
       "      <td>3.0</td>\n",
       "      <td>1</td>\n",
       "      <td>3</td>\n",
       "      <td>1</td>\n",
       "      <td>0</td>\n",
       "      <td>32</td>\n",
       "      <td>1</td>\n",
       "      <td>0</td>\n",
       "      <td>No</td>\n",
       "    </tr>\n",
       "    <tr>\n",
       "      <th>102</th>\n",
       "      <td>137</td>\n",
       "      <td>Female</td>\n",
       "      <td>Research &amp; Development</td>\n",
       "      <td>Laboratory Technician</td>\n",
       "      <td>Single</td>\n",
       "      <td>4</td>\n",
       "      <td>66.0</td>\n",
       "      <td>2926</td>\n",
       "      <td>18</td>\n",
       "      <td>3.0</td>\n",
       "      <td>1</td>\n",
       "      <td>3</td>\n",
       "      <td>1</td>\n",
       "      <td>0</td>\n",
       "      <td>20</td>\n",
       "      <td>6</td>\n",
       "      <td>0</td>\n",
       "      <td>Yes</td>\n",
       "    </tr>\n",
       "    <tr>\n",
       "      <th>103</th>\n",
       "      <td>138</td>\n",
       "      <td>Female</td>\n",
       "      <td>Research &amp; Development</td>\n",
       "      <td>Research Scientist</td>\n",
       "      <td>Single</td>\n",
       "      <td>3</td>\n",
       "      <td>41.0</td>\n",
       "      <td>4809</td>\n",
       "      <td>14</td>\n",
       "      <td>3.0</td>\n",
       "      <td>16</td>\n",
       "      <td>3</td>\n",
       "      <td>16</td>\n",
       "      <td>13</td>\n",
       "      <td>34</td>\n",
       "      <td>6</td>\n",
       "      <td>10</td>\n",
       "      <td>No</td>\n",
       "    </tr>\n",
       "    <tr>\n",
       "      <th>104</th>\n",
       "      <td>139</td>\n",
       "      <td>Male</td>\n",
       "      <td>Research &amp; Development</td>\n",
       "      <td>Healthcare Representative</td>\n",
       "      <td>Divorced</td>\n",
       "      <td>4</td>\n",
       "      <td>100.0</td>\n",
       "      <td>5163</td>\n",
       "      <td>14</td>\n",
       "      <td>3.0</td>\n",
       "      <td>17</td>\n",
       "      <td>4</td>\n",
       "      <td>1</td>\n",
       "      <td>0</td>\n",
       "      <td>37</td>\n",
       "      <td>2</td>\n",
       "      <td>0</td>\n",
       "      <td>No</td>\n",
       "    </tr>\n",
       "    <tr>\n",
       "      <th>...</th>\n",
       "      <td>...</td>\n",
       "      <td>...</td>\n",
       "      <td>...</td>\n",
       "      <td>...</td>\n",
       "      <td>...</td>\n",
       "      <td>...</td>\n",
       "      <td>...</td>\n",
       "      <td>...</td>\n",
       "      <td>...</td>\n",
       "      <td>...</td>\n",
       "      <td>...</td>\n",
       "      <td>...</td>\n",
       "      <td>...</td>\n",
       "      <td>...</td>\n",
       "      <td>...</td>\n",
       "      <td>...</td>\n",
       "      <td>...</td>\n",
       "      <td>...</td>\n",
       "    </tr>\n",
       "    <tr>\n",
       "      <th>95</th>\n",
       "      <td>126</td>\n",
       "      <td>Female</td>\n",
       "      <td>Research &amp; Development</td>\n",
       "      <td>Research Director</td>\n",
       "      <td>Married</td>\n",
       "      <td>3</td>\n",
       "      <td>60.0</td>\n",
       "      <td>13549</td>\n",
       "      <td>12</td>\n",
       "      <td>3.0</td>\n",
       "      <td>16</td>\n",
       "      <td>1</td>\n",
       "      <td>4</td>\n",
       "      <td>3</td>\n",
       "      <td>54</td>\n",
       "      <td>2</td>\n",
       "      <td>3</td>\n",
       "      <td>No</td>\n",
       "    </tr>\n",
       "    <tr>\n",
       "      <th>96</th>\n",
       "      <td>128</td>\n",
       "      <td>Female</td>\n",
       "      <td>Sales</td>\n",
       "      <td>Sales Executive</td>\n",
       "      <td>Married</td>\n",
       "      <td>3</td>\n",
       "      <td>33.0</td>\n",
       "      <td>4999</td>\n",
       "      <td>21</td>\n",
       "      <td>4.0</td>\n",
       "      <td>4</td>\n",
       "      <td>2</td>\n",
       "      <td>3</td>\n",
       "      <td>2</td>\n",
       "      <td>24</td>\n",
       "      <td>3</td>\n",
       "      <td>2</td>\n",
       "      <td>No</td>\n",
       "    </tr>\n",
       "    <tr>\n",
       "      <th>97</th>\n",
       "      <td>129</td>\n",
       "      <td>Male</td>\n",
       "      <td>Sales</td>\n",
       "      <td>Sales Executive</td>\n",
       "      <td>Married</td>\n",
       "      <td>3</td>\n",
       "      <td>43.0</td>\n",
       "      <td>4221</td>\n",
       "      <td>15</td>\n",
       "      <td>3.0</td>\n",
       "      <td>5</td>\n",
       "      <td>4</td>\n",
       "      <td>5</td>\n",
       "      <td>4</td>\n",
       "      <td>28</td>\n",
       "      <td>4</td>\n",
       "      <td>4</td>\n",
       "      <td>No</td>\n",
       "    </tr>\n",
       "    <tr>\n",
       "      <th>98</th>\n",
       "      <td>131</td>\n",
       "      <td>Male</td>\n",
       "      <td>Sales</td>\n",
       "      <td>Sales Executive</td>\n",
       "      <td>Single</td>\n",
       "      <td>3</td>\n",
       "      <td>37.0</td>\n",
       "      <td>13872</td>\n",
       "      <td>13</td>\n",
       "      <td>3.0</td>\n",
       "      <td>38</td>\n",
       "      <td>2</td>\n",
       "      <td>37</td>\n",
       "      <td>10</td>\n",
       "      <td>58</td>\n",
       "      <td>10</td>\n",
       "      <td>8</td>\n",
       "      <td>No</td>\n",
       "    </tr>\n",
       "    <tr>\n",
       "      <th>99</th>\n",
       "      <td>132</td>\n",
       "      <td>Male</td>\n",
       "      <td>Research &amp; Development</td>\n",
       "      <td>Laboratory Technician</td>\n",
       "      <td>Married</td>\n",
       "      <td>2</td>\n",
       "      <td>67.0</td>\n",
       "      <td>2042</td>\n",
       "      <td>12</td>\n",
       "      <td>3.0</td>\n",
       "      <td>17</td>\n",
       "      <td>4</td>\n",
       "      <td>3</td>\n",
       "      <td>2</td>\n",
       "      <td>44</td>\n",
       "      <td>23</td>\n",
       "      <td>2</td>\n",
       "      <td>No</td>\n",
       "    </tr>\n",
       "  </tbody>\n",
       "</table>\n",
       "<p>1470 rows × 18 columns</p>\n",
       "</div>"
      ],
      "text/plain": [
       "     S.No.  Gender              Department                    JobRole  \\\n",
       "100    133    Male         Human Resources            Human Resources   \n",
       "101    134    Male  Research & Development         Research Scientist   \n",
       "102    137  Female  Research & Development      Laboratory Technician   \n",
       "103    138  Female  Research & Development         Research Scientist   \n",
       "104    139    Male  Research & Development  Healthcare Representative   \n",
       "..     ...     ...                     ...                        ...   \n",
       "95     126  Female  Research & Development          Research Director   \n",
       "96     128  Female                   Sales            Sales Executive   \n",
       "97     129    Male                   Sales            Sales Executive   \n",
       "98     131    Male                   Sales            Sales Executive   \n",
       "99     132    Male  Research & Development      Laboratory Technician   \n",
       "\n",
       "    MaritalStatus  JobSatisfaction  HourlyRate  MonthlyIncome  \\\n",
       "100      Divorced                1        63.0           2073   \n",
       "101        Single                1        71.0           2956   \n",
       "102        Single                4        66.0           2926   \n",
       "103        Single                3        41.0           4809   \n",
       "104      Divorced                4       100.0           5163   \n",
       "..            ...              ...         ...            ...   \n",
       "95        Married                3        60.0          13549   \n",
       "96        Married                3        33.0           4999   \n",
       "97        Married                3        43.0           4221   \n",
       "98         Single                3        37.0          13872   \n",
       "99        Married                2        67.0           2042   \n",
       "\n",
       "     PercentSalaryHike  PerformanceRating  TotalWorkingYears  \\\n",
       "100                 22                4.0                  7   \n",
       "101                 13                3.0                  1   \n",
       "102                 18                3.0                  1   \n",
       "103                 14                3.0                 16   \n",
       "104                 14                3.0                 17   \n",
       "..                 ...                ...                ...   \n",
       "95                  12                3.0                 16   \n",
       "96                  21                4.0                  4   \n",
       "97                  15                3.0                  5   \n",
       "98                  13                3.0                 38   \n",
       "99                  12                3.0                 17   \n",
       "\n",
       "     EnvironmentRating  YearsAtCompany  YearsInCurrentRole  Age  \\\n",
       "100                  3               3                   2   37   \n",
       "101                  3               1                   0   32   \n",
       "102                  3               1                   0   20   \n",
       "103                  3              16                  13   34   \n",
       "104                  4               1                   0   37   \n",
       "..                 ...             ...                 ...  ...   \n",
       "95                   1               4                   3   54   \n",
       "96                   2               3                   2   24   \n",
       "97                   4               5                   4   28   \n",
       "98                   2              37                  10   58   \n",
       "99                   4               3                   2   44   \n",
       "\n",
       "     DistanceFromHome  YearsWithCurrManager Attrition  \n",
       "100                 6                     2       Yes  \n",
       "101                 1                     0        No  \n",
       "102                 6                     0       Yes  \n",
       "103                 6                    10        No  \n",
       "104                 2                     0        No  \n",
       "..                ...                   ...       ...  \n",
       "95                  2                     3        No  \n",
       "96                  3                     2        No  \n",
       "97                  4                     4        No  \n",
       "98                 10                     8        No  \n",
       "99                 23                     2        No  \n",
       "\n",
       "[1470 rows x 18 columns]"
      ]
     },
     "execution_count": 216,
     "metadata": {},
     "output_type": "execute_result"
    }
   ],
   "source": [
    "df_new"
   ]
  },
  {
   "cell_type": "code",
   "execution_count": 224,
   "id": "9480dbcd",
   "metadata": {},
   "outputs": [],
   "source": [
    "s1={'subject':['english','maths','science'],\n",
    "'marks':[68,75,84]}\n",
    "\n",
    "s2={'subject':['tamil','maths','science','Arts'],\n",
    "'marks':[61,78,81,89]}\n"
   ]
  },
  {
   "cell_type": "code",
   "execution_count": 225,
   "id": "61353f3d",
   "metadata": {},
   "outputs": [],
   "source": [
    "df2=pd.DataFrame(s1)\n",
    "df3=pd.DataFrame(s2)"
   ]
  },
  {
   "cell_type": "code",
   "execution_count": 228,
   "id": "8602c7ea",
   "metadata": {},
   "outputs": [
    {
     "data": {
      "text/html": [
       "<div>\n",
       "<style scoped>\n",
       "    .dataframe tbody tr th:only-of-type {\n",
       "        vertical-align: middle;\n",
       "    }\n",
       "\n",
       "    .dataframe tbody tr th {\n",
       "        vertical-align: top;\n",
       "    }\n",
       "\n",
       "    .dataframe thead th {\n",
       "        text-align: right;\n",
       "    }\n",
       "</style>\n",
       "<table border=\"1\" class=\"dataframe\">\n",
       "  <thead>\n",
       "    <tr style=\"text-align: right;\">\n",
       "      <th></th>\n",
       "      <th>subject</th>\n",
       "      <th>marks</th>\n",
       "    </tr>\n",
       "  </thead>\n",
       "  <tbody>\n",
       "    <tr>\n",
       "      <th>0</th>\n",
       "      <td>english</td>\n",
       "      <td>68</td>\n",
       "    </tr>\n",
       "    <tr>\n",
       "      <th>1</th>\n",
       "      <td>maths</td>\n",
       "      <td>75</td>\n",
       "    </tr>\n",
       "    <tr>\n",
       "      <th>2</th>\n",
       "      <td>science</td>\n",
       "      <td>84</td>\n",
       "    </tr>\n",
       "  </tbody>\n",
       "</table>\n",
       "</div>"
      ],
      "text/plain": [
       "   subject  marks\n",
       "0  english     68\n",
       "1    maths     75\n",
       "2  science     84"
      ]
     },
     "execution_count": 228,
     "metadata": {},
     "output_type": "execute_result"
    }
   ],
   "source": [
    "df2"
   ]
  },
  {
   "cell_type": "code",
   "execution_count": 229,
   "id": "3c18dcd9",
   "metadata": {},
   "outputs": [
    {
     "data": {
      "text/html": [
       "<div>\n",
       "<style scoped>\n",
       "    .dataframe tbody tr th:only-of-type {\n",
       "        vertical-align: middle;\n",
       "    }\n",
       "\n",
       "    .dataframe tbody tr th {\n",
       "        vertical-align: top;\n",
       "    }\n",
       "\n",
       "    .dataframe thead th {\n",
       "        text-align: right;\n",
       "    }\n",
       "</style>\n",
       "<table border=\"1\" class=\"dataframe\">\n",
       "  <thead>\n",
       "    <tr style=\"text-align: right;\">\n",
       "      <th></th>\n",
       "      <th>subject</th>\n",
       "      <th>marks</th>\n",
       "    </tr>\n",
       "  </thead>\n",
       "  <tbody>\n",
       "    <tr>\n",
       "      <th>0</th>\n",
       "      <td>tamil</td>\n",
       "      <td>61</td>\n",
       "    </tr>\n",
       "    <tr>\n",
       "      <th>1</th>\n",
       "      <td>maths</td>\n",
       "      <td>78</td>\n",
       "    </tr>\n",
       "    <tr>\n",
       "      <th>2</th>\n",
       "      <td>science</td>\n",
       "      <td>81</td>\n",
       "    </tr>\n",
       "    <tr>\n",
       "      <th>3</th>\n",
       "      <td>Arts</td>\n",
       "      <td>89</td>\n",
       "    </tr>\n",
       "  </tbody>\n",
       "</table>\n",
       "</div>"
      ],
      "text/plain": [
       "   subject  marks\n",
       "0    tamil     61\n",
       "1    maths     78\n",
       "2  science     81\n",
       "3     Arts     89"
      ]
     },
     "execution_count": 229,
     "metadata": {},
     "output_type": "execute_result"
    }
   ],
   "source": [
    "df3"
   ]
  },
  {
   "cell_type": "code",
   "execution_count": 230,
   "id": "476da5a4",
   "metadata": {},
   "outputs": [
    {
     "data": {
      "text/html": [
       "<div>\n",
       "<style scoped>\n",
       "    .dataframe tbody tr th:only-of-type {\n",
       "        vertical-align: middle;\n",
       "    }\n",
       "\n",
       "    .dataframe tbody tr th {\n",
       "        vertical-align: top;\n",
       "    }\n",
       "\n",
       "    .dataframe thead th {\n",
       "        text-align: right;\n",
       "    }\n",
       "</style>\n",
       "<table border=\"1\" class=\"dataframe\">\n",
       "  <thead>\n",
       "    <tr style=\"text-align: right;\">\n",
       "      <th></th>\n",
       "      <th>subject</th>\n",
       "      <th>marks_x</th>\n",
       "      <th>marks_y</th>\n",
       "    </tr>\n",
       "  </thead>\n",
       "  <tbody>\n",
       "    <tr>\n",
       "      <th>0</th>\n",
       "      <td>maths</td>\n",
       "      <td>75</td>\n",
       "      <td>78</td>\n",
       "    </tr>\n",
       "    <tr>\n",
       "      <th>1</th>\n",
       "      <td>science</td>\n",
       "      <td>84</td>\n",
       "      <td>81</td>\n",
       "    </tr>\n",
       "  </tbody>\n",
       "</table>\n",
       "</div>"
      ],
      "text/plain": [
       "   subject  marks_x  marks_y\n",
       "0    maths       75       78\n",
       "1  science       84       81"
      ]
     },
     "execution_count": 230,
     "metadata": {},
     "output_type": "execute_result"
    }
   ],
   "source": [
    "df2.merge(df3,on='subject',how=\"inner\")"
   ]
  },
  {
   "cell_type": "code",
   "execution_count": 232,
   "id": "9a600460",
   "metadata": {},
   "outputs": [
    {
     "data": {
      "text/html": [
       "<div>\n",
       "<style scoped>\n",
       "    .dataframe tbody tr th:only-of-type {\n",
       "        vertical-align: middle;\n",
       "    }\n",
       "\n",
       "    .dataframe tbody tr th {\n",
       "        vertical-align: top;\n",
       "    }\n",
       "\n",
       "    .dataframe thead th {\n",
       "        text-align: right;\n",
       "    }\n",
       "</style>\n",
       "<table border=\"1\" class=\"dataframe\">\n",
       "  <thead>\n",
       "    <tr style=\"text-align: right;\">\n",
       "      <th></th>\n",
       "      <th>subject</th>\n",
       "      <th>marks_x</th>\n",
       "      <th>marks_y</th>\n",
       "    </tr>\n",
       "  </thead>\n",
       "  <tbody>\n",
       "    <tr>\n",
       "      <th>0</th>\n",
       "      <td>english</td>\n",
       "      <td>68</td>\n",
       "      <td>NaN</td>\n",
       "    </tr>\n",
       "    <tr>\n",
       "      <th>1</th>\n",
       "      <td>maths</td>\n",
       "      <td>75</td>\n",
       "      <td>78.0</td>\n",
       "    </tr>\n",
       "    <tr>\n",
       "      <th>2</th>\n",
       "      <td>science</td>\n",
       "      <td>84</td>\n",
       "      <td>81.0</td>\n",
       "    </tr>\n",
       "  </tbody>\n",
       "</table>\n",
       "</div>"
      ],
      "text/plain": [
       "   subject  marks_x  marks_y\n",
       "0  english       68      NaN\n",
       "1    maths       75     78.0\n",
       "2  science       84     81.0"
      ]
     },
     "execution_count": 232,
     "metadata": {},
     "output_type": "execute_result"
    }
   ],
   "source": [
    "df2.merge(df3,on='subject',how=\"left\")"
   ]
  },
  {
   "cell_type": "code",
   "execution_count": 233,
   "id": "ea2a2095",
   "metadata": {},
   "outputs": [
    {
     "data": {
      "text/html": [
       "<div>\n",
       "<style scoped>\n",
       "    .dataframe tbody tr th:only-of-type {\n",
       "        vertical-align: middle;\n",
       "    }\n",
       "\n",
       "    .dataframe tbody tr th {\n",
       "        vertical-align: top;\n",
       "    }\n",
       "\n",
       "    .dataframe thead th {\n",
       "        text-align: right;\n",
       "    }\n",
       "</style>\n",
       "<table border=\"1\" class=\"dataframe\">\n",
       "  <thead>\n",
       "    <tr style=\"text-align: right;\">\n",
       "      <th></th>\n",
       "      <th>subject</th>\n",
       "      <th>marks_x</th>\n",
       "      <th>marks_y</th>\n",
       "    </tr>\n",
       "  </thead>\n",
       "  <tbody>\n",
       "    <tr>\n",
       "      <th>0</th>\n",
       "      <td>tamil</td>\n",
       "      <td>NaN</td>\n",
       "      <td>61</td>\n",
       "    </tr>\n",
       "    <tr>\n",
       "      <th>1</th>\n",
       "      <td>maths</td>\n",
       "      <td>75.0</td>\n",
       "      <td>78</td>\n",
       "    </tr>\n",
       "    <tr>\n",
       "      <th>2</th>\n",
       "      <td>science</td>\n",
       "      <td>84.0</td>\n",
       "      <td>81</td>\n",
       "    </tr>\n",
       "    <tr>\n",
       "      <th>3</th>\n",
       "      <td>Arts</td>\n",
       "      <td>NaN</td>\n",
       "      <td>89</td>\n",
       "    </tr>\n",
       "  </tbody>\n",
       "</table>\n",
       "</div>"
      ],
      "text/plain": [
       "   subject  marks_x  marks_y\n",
       "0    tamil      NaN       61\n",
       "1    maths     75.0       78\n",
       "2  science     84.0       81\n",
       "3     Arts      NaN       89"
      ]
     },
     "execution_count": 233,
     "metadata": {},
     "output_type": "execute_result"
    }
   ],
   "source": [
    "df2.merge(df3,on='subject',how=\"right\")"
   ]
  },
  {
   "cell_type": "code",
   "execution_count": 234,
   "id": "defdd7f3",
   "metadata": {},
   "outputs": [
    {
     "data": {
      "text/html": [
       "<div>\n",
       "<style scoped>\n",
       "    .dataframe tbody tr th:only-of-type {\n",
       "        vertical-align: middle;\n",
       "    }\n",
       "\n",
       "    .dataframe tbody tr th {\n",
       "        vertical-align: top;\n",
       "    }\n",
       "\n",
       "    .dataframe thead th {\n",
       "        text-align: right;\n",
       "    }\n",
       "</style>\n",
       "<table border=\"1\" class=\"dataframe\">\n",
       "  <thead>\n",
       "    <tr style=\"text-align: right;\">\n",
       "      <th></th>\n",
       "      <th>subject</th>\n",
       "      <th>marks_x</th>\n",
       "      <th>marks_y</th>\n",
       "    </tr>\n",
       "  </thead>\n",
       "  <tbody>\n",
       "    <tr>\n",
       "      <th>0</th>\n",
       "      <td>english</td>\n",
       "      <td>68.0</td>\n",
       "      <td>NaN</td>\n",
       "    </tr>\n",
       "    <tr>\n",
       "      <th>1</th>\n",
       "      <td>maths</td>\n",
       "      <td>75.0</td>\n",
       "      <td>78.0</td>\n",
       "    </tr>\n",
       "    <tr>\n",
       "      <th>2</th>\n",
       "      <td>science</td>\n",
       "      <td>84.0</td>\n",
       "      <td>81.0</td>\n",
       "    </tr>\n",
       "    <tr>\n",
       "      <th>3</th>\n",
       "      <td>tamil</td>\n",
       "      <td>NaN</td>\n",
       "      <td>61.0</td>\n",
       "    </tr>\n",
       "    <tr>\n",
       "      <th>4</th>\n",
       "      <td>Arts</td>\n",
       "      <td>NaN</td>\n",
       "      <td>89.0</td>\n",
       "    </tr>\n",
       "  </tbody>\n",
       "</table>\n",
       "</div>"
      ],
      "text/plain": [
       "   subject  marks_x  marks_y\n",
       "0  english     68.0      NaN\n",
       "1    maths     75.0     78.0\n",
       "2  science     84.0     81.0\n",
       "3    tamil      NaN     61.0\n",
       "4     Arts      NaN     89.0"
      ]
     },
     "execution_count": 234,
     "metadata": {},
     "output_type": "execute_result"
    }
   ],
   "source": [
    "df2.merge(df3,on='subject',how=\"outer\")"
   ]
  },
  {
   "cell_type": "code",
   "execution_count": 235,
   "id": "b0b9e920",
   "metadata": {},
   "outputs": [
    {
     "data": {
      "text/html": [
       "<div>\n",
       "<style scoped>\n",
       "    .dataframe tbody tr th:only-of-type {\n",
       "        vertical-align: middle;\n",
       "    }\n",
       "\n",
       "    .dataframe tbody tr th {\n",
       "        vertical-align: top;\n",
       "    }\n",
       "\n",
       "    .dataframe thead th {\n",
       "        text-align: right;\n",
       "    }\n",
       "</style>\n",
       "<table border=\"1\" class=\"dataframe\">\n",
       "  <thead>\n",
       "    <tr style=\"text-align: right;\">\n",
       "      <th></th>\n",
       "      <th>subject_x</th>\n",
       "      <th>marks_x</th>\n",
       "      <th>subject_y</th>\n",
       "      <th>marks_y</th>\n",
       "    </tr>\n",
       "  </thead>\n",
       "  <tbody>\n",
       "    <tr>\n",
       "      <th>0</th>\n",
       "      <td>english</td>\n",
       "      <td>68</td>\n",
       "      <td>tamil</td>\n",
       "      <td>61</td>\n",
       "    </tr>\n",
       "    <tr>\n",
       "      <th>1</th>\n",
       "      <td>english</td>\n",
       "      <td>68</td>\n",
       "      <td>maths</td>\n",
       "      <td>78</td>\n",
       "    </tr>\n",
       "    <tr>\n",
       "      <th>2</th>\n",
       "      <td>english</td>\n",
       "      <td>68</td>\n",
       "      <td>science</td>\n",
       "      <td>81</td>\n",
       "    </tr>\n",
       "    <tr>\n",
       "      <th>3</th>\n",
       "      <td>english</td>\n",
       "      <td>68</td>\n",
       "      <td>Arts</td>\n",
       "      <td>89</td>\n",
       "    </tr>\n",
       "    <tr>\n",
       "      <th>4</th>\n",
       "      <td>maths</td>\n",
       "      <td>75</td>\n",
       "      <td>tamil</td>\n",
       "      <td>61</td>\n",
       "    </tr>\n",
       "    <tr>\n",
       "      <th>5</th>\n",
       "      <td>maths</td>\n",
       "      <td>75</td>\n",
       "      <td>maths</td>\n",
       "      <td>78</td>\n",
       "    </tr>\n",
       "    <tr>\n",
       "      <th>6</th>\n",
       "      <td>maths</td>\n",
       "      <td>75</td>\n",
       "      <td>science</td>\n",
       "      <td>81</td>\n",
       "    </tr>\n",
       "    <tr>\n",
       "      <th>7</th>\n",
       "      <td>maths</td>\n",
       "      <td>75</td>\n",
       "      <td>Arts</td>\n",
       "      <td>89</td>\n",
       "    </tr>\n",
       "    <tr>\n",
       "      <th>8</th>\n",
       "      <td>science</td>\n",
       "      <td>84</td>\n",
       "      <td>tamil</td>\n",
       "      <td>61</td>\n",
       "    </tr>\n",
       "    <tr>\n",
       "      <th>9</th>\n",
       "      <td>science</td>\n",
       "      <td>84</td>\n",
       "      <td>maths</td>\n",
       "      <td>78</td>\n",
       "    </tr>\n",
       "    <tr>\n",
       "      <th>10</th>\n",
       "      <td>science</td>\n",
       "      <td>84</td>\n",
       "      <td>science</td>\n",
       "      <td>81</td>\n",
       "    </tr>\n",
       "    <tr>\n",
       "      <th>11</th>\n",
       "      <td>science</td>\n",
       "      <td>84</td>\n",
       "      <td>Arts</td>\n",
       "      <td>89</td>\n",
       "    </tr>\n",
       "  </tbody>\n",
       "</table>\n",
       "</div>"
      ],
      "text/plain": [
       "   subject_x  marks_x subject_y  marks_y\n",
       "0    english       68     tamil       61\n",
       "1    english       68     maths       78\n",
       "2    english       68   science       81\n",
       "3    english       68      Arts       89\n",
       "4      maths       75     tamil       61\n",
       "5      maths       75     maths       78\n",
       "6      maths       75   science       81\n",
       "7      maths       75      Arts       89\n",
       "8    science       84     tamil       61\n",
       "9    science       84     maths       78\n",
       "10   science       84   science       81\n",
       "11   science       84      Arts       89"
      ]
     },
     "execution_count": 235,
     "metadata": {},
     "output_type": "execute_result"
    }
   ],
   "source": [
    "df2.merge(df3,how=\"cross\")"
   ]
  },
  {
   "cell_type": "code",
   "execution_count": 238,
   "id": "db7a741f",
   "metadata": {},
   "outputs": [
    {
     "data": {
      "text/html": [
       "<div>\n",
       "<style scoped>\n",
       "    .dataframe tbody tr th:only-of-type {\n",
       "        vertical-align: middle;\n",
       "    }\n",
       "\n",
       "    .dataframe tbody tr th {\n",
       "        vertical-align: top;\n",
       "    }\n",
       "\n",
       "    .dataframe thead th {\n",
       "        text-align: right;\n",
       "    }\n",
       "</style>\n",
       "<table border=\"1\" class=\"dataframe\">\n",
       "  <thead>\n",
       "    <tr style=\"text-align: right;\">\n",
       "      <th></th>\n",
       "      <th>subject</th>\n",
       "      <th>marks_x</th>\n",
       "      <th>marks_y</th>\n",
       "    </tr>\n",
       "  </thead>\n",
       "  <tbody>\n",
       "    <tr>\n",
       "      <th>0</th>\n",
       "      <td>english</td>\n",
       "      <td>80</td>\n",
       "      <td>80</td>\n",
       "    </tr>\n",
       "    <tr>\n",
       "      <th>1</th>\n",
       "      <td>maths</td>\n",
       "      <td>75</td>\n",
       "      <td>75</td>\n",
       "    </tr>\n",
       "    <tr>\n",
       "      <th>2</th>\n",
       "      <td>science</td>\n",
       "      <td>91</td>\n",
       "      <td>91</td>\n",
       "    </tr>\n",
       "    <tr>\n",
       "      <th>3</th>\n",
       "      <td>Arts</td>\n",
       "      <td>84</td>\n",
       "      <td>84</td>\n",
       "    </tr>\n",
       "  </tbody>\n",
       "</table>\n",
       "</div>"
      ],
      "text/plain": [
       "   subject  marks_x  marks_y\n",
       "0  english       80       80\n",
       "1    maths       75       75\n",
       "2  science       91       91\n",
       "3     Arts       84       84"
      ]
     },
     "execution_count": 238,
     "metadata": {},
     "output_type": "execute_result"
    }
   ],
   "source": [
    "df1.merge(df1,left_on= 'subject',right_on= \"subject\",how='inner')"
   ]
  },
  {
   "cell_type": "code",
   "execution_count": 243,
   "id": "63d9bc04",
   "metadata": {},
   "outputs": [
    {
     "data": {
      "text/html": [
       "<div>\n",
       "<style scoped>\n",
       "    .dataframe tbody tr th:only-of-type {\n",
       "        vertical-align: middle;\n",
       "    }\n",
       "\n",
       "    .dataframe tbody tr th {\n",
       "        vertical-align: top;\n",
       "    }\n",
       "\n",
       "    .dataframe thead th {\n",
       "        text-align: right;\n",
       "    }\n",
       "</style>\n",
       "<table border=\"1\" class=\"dataframe\">\n",
       "  <thead>\n",
       "    <tr style=\"text-align: right;\">\n",
       "      <th></th>\n",
       "      <th>subject</th>\n",
       "      <th>marks</th>\n",
       "    </tr>\n",
       "  </thead>\n",
       "  <tbody>\n",
       "    <tr>\n",
       "      <th>0</th>\n",
       "      <td>english</td>\n",
       "      <td>80</td>\n",
       "    </tr>\n",
       "    <tr>\n",
       "      <th>1</th>\n",
       "      <td>maths</td>\n",
       "      <td>75</td>\n",
       "    </tr>\n",
       "    <tr>\n",
       "      <th>2</th>\n",
       "      <td>science</td>\n",
       "      <td>91</td>\n",
       "    </tr>\n",
       "    <tr>\n",
       "      <th>3</th>\n",
       "      <td>Arts</td>\n",
       "      <td>84</td>\n",
       "    </tr>\n",
       "  </tbody>\n",
       "</table>\n",
       "</div>"
      ],
      "text/plain": [
       "   subject  marks\n",
       "0  english     80\n",
       "1    maths     75\n",
       "2  science     91\n",
       "3     Arts     84"
      ]
     },
     "execution_count": 243,
     "metadata": {},
     "output_type": "execute_result"
    }
   ],
   "source": [
    "df1"
   ]
  },
  {
   "cell_type": "code",
   "execution_count": 246,
   "id": "19c6d4dc",
   "metadata": {},
   "outputs": [
    {
     "data": {
      "text/html": [
       "<div>\n",
       "<style scoped>\n",
       "    .dataframe tbody tr th:only-of-type {\n",
       "        vertical-align: middle;\n",
       "    }\n",
       "\n",
       "    .dataframe tbody tr th {\n",
       "        vertical-align: top;\n",
       "    }\n",
       "\n",
       "    .dataframe thead th {\n",
       "        text-align: right;\n",
       "    }\n",
       "</style>\n",
       "<table border=\"1\" class=\"dataframe\">\n",
       "  <thead>\n",
       "    <tr style=\"text-align: right;\">\n",
       "      <th></th>\n",
       "      <th>subject</th>\n",
       "      <th>marks</th>\n",
       "    </tr>\n",
       "  </thead>\n",
       "  <tbody>\n",
       "    <tr>\n",
       "      <th>1</th>\n",
       "      <td>maths</td>\n",
       "      <td>75</td>\n",
       "    </tr>\n",
       "    <tr>\n",
       "      <th>2</th>\n",
       "      <td>science</td>\n",
       "      <td>91</td>\n",
       "    </tr>\n",
       "    <tr>\n",
       "      <th>3</th>\n",
       "      <td>Arts</td>\n",
       "      <td>84</td>\n",
       "    </tr>\n",
       "  </tbody>\n",
       "</table>\n",
       "</div>"
      ],
      "text/plain": [
       "   subject  marks\n",
       "1    maths     75\n",
       "2  science     91\n",
       "3     Arts     84"
      ]
     },
     "execution_count": 246,
     "metadata": {},
     "output_type": "execute_result"
    }
   ],
   "source": [
    "df1.drop(0)#row wise"
   ]
  },
  {
   "cell_type": "code",
   "execution_count": 247,
   "id": "291783fb",
   "metadata": {},
   "outputs": [
    {
     "data": {
      "text/html": [
       "<div>\n",
       "<style scoped>\n",
       "    .dataframe tbody tr th:only-of-type {\n",
       "        vertical-align: middle;\n",
       "    }\n",
       "\n",
       "    .dataframe tbody tr th {\n",
       "        vertical-align: top;\n",
       "    }\n",
       "\n",
       "    .dataframe thead th {\n",
       "        text-align: right;\n",
       "    }\n",
       "</style>\n",
       "<table border=\"1\" class=\"dataframe\">\n",
       "  <thead>\n",
       "    <tr style=\"text-align: right;\">\n",
       "      <th></th>\n",
       "      <th>marks</th>\n",
       "    </tr>\n",
       "  </thead>\n",
       "  <tbody>\n",
       "    <tr>\n",
       "      <th>0</th>\n",
       "      <td>68</td>\n",
       "    </tr>\n",
       "    <tr>\n",
       "      <th>1</th>\n",
       "      <td>75</td>\n",
       "    </tr>\n",
       "    <tr>\n",
       "      <th>2</th>\n",
       "      <td>84</td>\n",
       "    </tr>\n",
       "  </tbody>\n",
       "</table>\n",
       "</div>"
      ],
      "text/plain": [
       "   marks\n",
       "0     68\n",
       "1     75\n",
       "2     84"
      ]
     },
     "execution_count": 247,
     "metadata": {},
     "output_type": "execute_result"
    }
   ],
   "source": [
    "df2.drop('subject',axis=1)#column wise"
   ]
  },
  {
   "cell_type": "code",
   "execution_count": null,
   "id": "ebb79167",
   "metadata": {},
   "outputs": [],
   "source": []
  },
  {
   "cell_type": "code",
   "execution_count": null,
   "id": "c980d1ba",
   "metadata": {},
   "outputs": [],
   "source": []
  },
  {
   "cell_type": "code",
   "execution_count": null,
   "id": "a9b10063",
   "metadata": {},
   "outputs": [],
   "source": []
  },
  {
   "cell_type": "code",
   "execution_count": null,
   "id": "7d7101ec",
   "metadata": {},
   "outputs": [],
   "source": []
  },
  {
   "cell_type": "code",
   "execution_count": null,
   "id": "db0ea5d3",
   "metadata": {},
   "outputs": [],
   "source": []
  },
  {
   "cell_type": "code",
   "execution_count": null,
   "id": "fc1384d8",
   "metadata": {},
   "outputs": [],
   "source": []
  },
  {
   "cell_type": "code",
   "execution_count": null,
   "id": "14c1bbbc",
   "metadata": {},
   "outputs": [],
   "source": []
  },
  {
   "cell_type": "code",
   "execution_count": null,
   "id": "282e01f3",
   "metadata": {},
   "outputs": [],
   "source": []
  },
  {
   "cell_type": "code",
   "execution_count": null,
   "id": "3c5a7c84",
   "metadata": {},
   "outputs": [],
   "source": []
  }
 ],
 "metadata": {
  "kernelspec": {
   "display_name": "Python 3 (ipykernel)",
   "language": "python",
   "name": "python3"
  },
  "language_info": {
   "codemirror_mode": {
    "name": "ipython",
    "version": 3
   },
   "file_extension": ".py",
   "mimetype": "text/x-python",
   "name": "python",
   "nbconvert_exporter": "python",
   "pygments_lexer": "ipython3",
   "version": "3.11.5"
  }
 },
 "nbformat": 4,
 "nbformat_minor": 5
}
