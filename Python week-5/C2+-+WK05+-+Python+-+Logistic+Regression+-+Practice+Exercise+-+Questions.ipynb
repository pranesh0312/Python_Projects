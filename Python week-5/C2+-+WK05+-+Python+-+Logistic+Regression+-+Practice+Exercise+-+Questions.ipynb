{
 "cells": [
  {
   "cell_type": "markdown",
   "metadata": {
    "id": "2Eub91YRwz4N"
   },
   "source": [
    "![New_GL_logo.png](data:image/png;base64,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)\n",
    "\n",
    "Proprietary content. © Great Learning. All Rights Reserved. Unauthorized use or distribution prohibited.\n",
    "\n",
    "# Course 2: Week05 - Logistic Regression - Practice Exercise"
   ]
  },
  {
   "cell_type": "markdown",
   "metadata": {
    "id": "E_6h5Ey5wz4S"
   },
   "source": [
    "---------------"
   ]
  },
  {
   "cell_type": "markdown",
   "metadata": {
    "id": "-43-hc9pwz4T"
   },
   "source": [
    "##  <font color='blue'> Table Of Contents </font>\n",
    "- ### <font color='blue'> Problem Statement </font>   \n",
    "- ### <font color='blue'> Importing necessary libraries and reading the dataset </font>\n",
    "- ### <font color='blue'> Exploratory Data Analysis</font>\n",
    "- ### <font color='blue'> Data Preparation for Model Building</font>\n",
    "- ### <font color='blue'> Model Building and Evaluation</font>"
   ]
  },
  {
   "cell_type": "markdown",
   "metadata": {
    "id": "1Wjm1w_Twz4U"
   },
   "source": [
    "### <font color = 'green'> **Problem-Statement**"
   ]
  },
  {
   "cell_type": "markdown",
   "metadata": {
    "id": "qDLvZkR-wz4U"
   },
   "source": [
    "**Predicting the risk of CHD ten years in advance.**\n",
    "\n",
    "Framingham Heart Study - In 1948, scientists and participants embarked on an ambitious project to identify risk factors for heart disease. Today, the study remains a world-class epicenter for cutting-edge heart, brain, bone, and sleep research.\n",
    "The 10-year cardiovascular risk of an individual can be estimated with the Framingham Risk Score, including for individuals without known cardiovascular disease. The Framingham Risk Score is based on findings of the Framingham Heart Study.\n",
    "\n",
    "You can refer to the research website here: https://www.framinghamheartstudy.org/fhs-risk-functions/hard-coronary-heart-disease-10-year-risk/\n",
    "\n",
    "#### <font color = 'green'> **Attribute Information**\n",
    "Variables used in this study:-\n",
    "- **Demographic Variables** - Gender, Age in Years, Education.\n",
    "- **Behavioral Factors** - Current Smoker, No. of cigarettes per day.\n",
    "- **Medical History** - BP Medication, Prevalent Stroke, Prevalent Hypertension, Diabetes\n",
    "\n",
    "In addition, data from the first medical examination was taken into account. This\n",
    "included: Total Cholesterol, Blood Pressure, BMI, Heart Rate, and Glucose."
   ]
  },
  {
   "cell_type": "markdown",
   "metadata": {
    "id": "VQK91zl5wz4V"
   },
   "source": [
    "### <font color = 'green'> **Import necessary libraries and read the dataset.**"
   ]
  },
  {
   "cell_type": "code",
   "execution_count": 249,
   "metadata": {
    "id": "0F9B-Otzwz4V"
   },
   "outputs": [],
   "source": [
    "# data analysis tools\n",
    "import pandas as pd\n",
    "import numpy as np\n",
    "\n",
    "# importing ploting libraries\n",
    "import matplotlib.pyplot as plt   \n",
    "\n",
    "# importing seaborn for statistical plots\n",
    "import seaborn as sns\n",
    "\n",
    "# Let us break the X and y dataframes into training set and test set. For this we will use\n",
    "# Sklearn package's data splitting function which is based on random function\n",
    "from sklearn.model_selection import train_test_split\n",
    "\n",
    "# model implementation\n",
    "from sklearn.linear_model import LogisticRegression\n",
    "\n",
    "# calculate accuracy measures and confusion matrix\n",
    "from sklearn import metrics\n",
    "\n",
    "# To enable plotting graphs in Jupyter notebook\n",
    "# %matplotlib inline  # !pip install imblearn"
   ]
  },
  {
   "cell_type": "code",
   "execution_count": 250,
   "metadata": {
    "id": "wuMS6Ku7wz4W"
   },
   "outputs": [],
   "source": [
    "df = pd.read_csv(\"framingham.csv\")"
   ]
  },
  {
   "cell_type": "code",
   "execution_count": 251,
   "metadata": {},
   "outputs": [
    {
     "data": {
      "text/html": [
       "<div>\n",
       "<style scoped>\n",
       "    .dataframe tbody tr th:only-of-type {\n",
       "        vertical-align: middle;\n",
       "    }\n",
       "\n",
       "    .dataframe tbody tr th {\n",
       "        vertical-align: top;\n",
       "    }\n",
       "\n",
       "    .dataframe thead th {\n",
       "        text-align: right;\n",
       "    }\n",
       "</style>\n",
       "<table border=\"1\" class=\"dataframe\">\n",
       "  <thead>\n",
       "    <tr style=\"text-align: right;\">\n",
       "      <th></th>\n",
       "      <th>male</th>\n",
       "      <th>age</th>\n",
       "      <th>education</th>\n",
       "      <th>currentSmoker</th>\n",
       "      <th>cigsPerDay</th>\n",
       "      <th>BPMeds</th>\n",
       "      <th>prevalentStroke</th>\n",
       "      <th>prevalentHyp</th>\n",
       "      <th>diabetes</th>\n",
       "      <th>totChol</th>\n",
       "      <th>sysBP</th>\n",
       "      <th>diaBP</th>\n",
       "      <th>BMI</th>\n",
       "      <th>heartRate</th>\n",
       "      <th>glucose</th>\n",
       "      <th>TenYearCHD</th>\n",
       "    </tr>\n",
       "  </thead>\n",
       "  <tbody>\n",
       "    <tr>\n",
       "      <th>0</th>\n",
       "      <td>1</td>\n",
       "      <td>39</td>\n",
       "      <td>4.0</td>\n",
       "      <td>0</td>\n",
       "      <td>0.0</td>\n",
       "      <td>0.0</td>\n",
       "      <td>0</td>\n",
       "      <td>0</td>\n",
       "      <td>0</td>\n",
       "      <td>195.0</td>\n",
       "      <td>106.0</td>\n",
       "      <td>70.0</td>\n",
       "      <td>26.97</td>\n",
       "      <td>80.0</td>\n",
       "      <td>77.0</td>\n",
       "      <td>0</td>\n",
       "    </tr>\n",
       "    <tr>\n",
       "      <th>1</th>\n",
       "      <td>0</td>\n",
       "      <td>46</td>\n",
       "      <td>2.0</td>\n",
       "      <td>0</td>\n",
       "      <td>0.0</td>\n",
       "      <td>0.0</td>\n",
       "      <td>0</td>\n",
       "      <td>0</td>\n",
       "      <td>0</td>\n",
       "      <td>250.0</td>\n",
       "      <td>121.0</td>\n",
       "      <td>81.0</td>\n",
       "      <td>28.73</td>\n",
       "      <td>95.0</td>\n",
       "      <td>76.0</td>\n",
       "      <td>0</td>\n",
       "    </tr>\n",
       "    <tr>\n",
       "      <th>2</th>\n",
       "      <td>1</td>\n",
       "      <td>48</td>\n",
       "      <td>1.0</td>\n",
       "      <td>1</td>\n",
       "      <td>20.0</td>\n",
       "      <td>0.0</td>\n",
       "      <td>0</td>\n",
       "      <td>0</td>\n",
       "      <td>0</td>\n",
       "      <td>245.0</td>\n",
       "      <td>127.5</td>\n",
       "      <td>80.0</td>\n",
       "      <td>25.34</td>\n",
       "      <td>75.0</td>\n",
       "      <td>70.0</td>\n",
       "      <td>0</td>\n",
       "    </tr>\n",
       "    <tr>\n",
       "      <th>3</th>\n",
       "      <td>0</td>\n",
       "      <td>61</td>\n",
       "      <td>3.0</td>\n",
       "      <td>1</td>\n",
       "      <td>30.0</td>\n",
       "      <td>0.0</td>\n",
       "      <td>0</td>\n",
       "      <td>1</td>\n",
       "      <td>0</td>\n",
       "      <td>225.0</td>\n",
       "      <td>150.0</td>\n",
       "      <td>95.0</td>\n",
       "      <td>28.58</td>\n",
       "      <td>65.0</td>\n",
       "      <td>103.0</td>\n",
       "      <td>1</td>\n",
       "    </tr>\n",
       "    <tr>\n",
       "      <th>4</th>\n",
       "      <td>0</td>\n",
       "      <td>46</td>\n",
       "      <td>3.0</td>\n",
       "      <td>1</td>\n",
       "      <td>23.0</td>\n",
       "      <td>0.0</td>\n",
       "      <td>0</td>\n",
       "      <td>0</td>\n",
       "      <td>0</td>\n",
       "      <td>285.0</td>\n",
       "      <td>130.0</td>\n",
       "      <td>84.0</td>\n",
       "      <td>23.10</td>\n",
       "      <td>85.0</td>\n",
       "      <td>85.0</td>\n",
       "      <td>0</td>\n",
       "    </tr>\n",
       "  </tbody>\n",
       "</table>\n",
       "</div>"
      ],
      "text/plain": [
       "   male  age  education  currentSmoker  cigsPerDay  BPMeds  prevalentStroke  \\\n",
       "0     1   39        4.0              0         0.0     0.0                0   \n",
       "1     0   46        2.0              0         0.0     0.0                0   \n",
       "2     1   48        1.0              1        20.0     0.0                0   \n",
       "3     0   61        3.0              1        30.0     0.0                0   \n",
       "4     0   46        3.0              1        23.0     0.0                0   \n",
       "\n",
       "   prevalentHyp  diabetes  totChol  sysBP  diaBP    BMI  heartRate  glucose  \\\n",
       "0             0         0    195.0  106.0   70.0  26.97       80.0     77.0   \n",
       "1             0         0    250.0  121.0   81.0  28.73       95.0     76.0   \n",
       "2             0         0    245.0  127.5   80.0  25.34       75.0     70.0   \n",
       "3             1         0    225.0  150.0   95.0  28.58       65.0    103.0   \n",
       "4             0         0    285.0  130.0   84.0  23.10       85.0     85.0   \n",
       "\n",
       "   TenYearCHD  \n",
       "0           0  \n",
       "1           0  \n",
       "2           0  \n",
       "3           1  \n",
       "4           0  "
      ]
     },
     "execution_count": 251,
     "metadata": {},
     "output_type": "execute_result"
    }
   ],
   "source": [
    "df.head()"
   ]
  },
  {
   "cell_type": "markdown",
   "metadata": {
    "id": "sHNpgfEywz4W"
   },
   "source": [
    "\n",
    "### <font color = 'green'> **Exploratory Data Analysis**"
   ]
  },
  {
   "cell_type": "markdown",
   "metadata": {
    "id": "3CS9sehAwz4X"
   },
   "source": [
    "<font size=3> Perform Necessary Exploratory Data Analysis."
   ]
  },
  {
   "cell_type": "code",
   "execution_count": 252,
   "metadata": {
    "id": "DxRKMi-nwz4X"
   },
   "outputs": [
    {
     "name": "stdout",
     "output_type": "stream",
     "text": [
      "<class 'pandas.core.frame.DataFrame'>\n",
      "RangeIndex: 4240 entries, 0 to 4239\n",
      "Data columns (total 16 columns):\n",
      " #   Column           Non-Null Count  Dtype  \n",
      "---  ------           --------------  -----  \n",
      " 0   male             4240 non-null   int64  \n",
      " 1   age              4240 non-null   int64  \n",
      " 2   education        4135 non-null   float64\n",
      " 3   currentSmoker    4240 non-null   int64  \n",
      " 4   cigsPerDay       4211 non-null   float64\n",
      " 5   BPMeds           4187 non-null   float64\n",
      " 6   prevalentStroke  4240 non-null   int64  \n",
      " 7   prevalentHyp     4240 non-null   int64  \n",
      " 8   diabetes         4240 non-null   int64  \n",
      " 9   totChol          4190 non-null   float64\n",
      " 10  sysBP            4240 non-null   float64\n",
      " 11  diaBP            4240 non-null   float64\n",
      " 12  BMI              4221 non-null   float64\n",
      " 13  heartRate        4239 non-null   float64\n",
      " 14  glucose          3852 non-null   float64\n",
      " 15  TenYearCHD       4240 non-null   int64  \n",
      "dtypes: float64(9), int64(7)\n",
      "memory usage: 530.1 KB\n"
     ]
    }
   ],
   "source": [
    "df.info()"
   ]
  },
  {
   "cell_type": "code",
   "execution_count": 253,
   "metadata": {
    "id": "jKrgn4Xswz4X"
   },
   "outputs": [
    {
     "data": {
      "text/html": [
       "<div>\n",
       "<style scoped>\n",
       "    .dataframe tbody tr th:only-of-type {\n",
       "        vertical-align: middle;\n",
       "    }\n",
       "\n",
       "    .dataframe tbody tr th {\n",
       "        vertical-align: top;\n",
       "    }\n",
       "\n",
       "    .dataframe thead th {\n",
       "        text-align: right;\n",
       "    }\n",
       "</style>\n",
       "<table border=\"1\" class=\"dataframe\">\n",
       "  <thead>\n",
       "    <tr style=\"text-align: right;\">\n",
       "      <th></th>\n",
       "      <th>male</th>\n",
       "      <th>age</th>\n",
       "      <th>education</th>\n",
       "      <th>currentSmoker</th>\n",
       "      <th>cigsPerDay</th>\n",
       "      <th>BPMeds</th>\n",
       "      <th>prevalentStroke</th>\n",
       "      <th>prevalentHyp</th>\n",
       "      <th>diabetes</th>\n",
       "      <th>totChol</th>\n",
       "      <th>sysBP</th>\n",
       "      <th>diaBP</th>\n",
       "      <th>BMI</th>\n",
       "      <th>heartRate</th>\n",
       "      <th>glucose</th>\n",
       "      <th>TenYearCHD</th>\n",
       "    </tr>\n",
       "  </thead>\n",
       "  <tbody>\n",
       "    <tr>\n",
       "      <th>count</th>\n",
       "      <td>4240.000000</td>\n",
       "      <td>4240.000000</td>\n",
       "      <td>4135.000000</td>\n",
       "      <td>4240.000000</td>\n",
       "      <td>4211.000000</td>\n",
       "      <td>4187.000000</td>\n",
       "      <td>4240.000000</td>\n",
       "      <td>4240.000000</td>\n",
       "      <td>4240.000000</td>\n",
       "      <td>4190.000000</td>\n",
       "      <td>4240.000000</td>\n",
       "      <td>4240.000000</td>\n",
       "      <td>4221.000000</td>\n",
       "      <td>4239.000000</td>\n",
       "      <td>3852.000000</td>\n",
       "      <td>4240.000000</td>\n",
       "    </tr>\n",
       "    <tr>\n",
       "      <th>mean</th>\n",
       "      <td>0.429245</td>\n",
       "      <td>49.580189</td>\n",
       "      <td>1.979444</td>\n",
       "      <td>0.494104</td>\n",
       "      <td>9.005937</td>\n",
       "      <td>0.029615</td>\n",
       "      <td>0.005896</td>\n",
       "      <td>0.310613</td>\n",
       "      <td>0.025708</td>\n",
       "      <td>236.699523</td>\n",
       "      <td>132.354599</td>\n",
       "      <td>82.897759</td>\n",
       "      <td>25.800801</td>\n",
       "      <td>75.878981</td>\n",
       "      <td>81.963655</td>\n",
       "      <td>0.151887</td>\n",
       "    </tr>\n",
       "    <tr>\n",
       "      <th>std</th>\n",
       "      <td>0.495027</td>\n",
       "      <td>8.572942</td>\n",
       "      <td>1.019791</td>\n",
       "      <td>0.500024</td>\n",
       "      <td>11.922462</td>\n",
       "      <td>0.169544</td>\n",
       "      <td>0.076569</td>\n",
       "      <td>0.462799</td>\n",
       "      <td>0.158280</td>\n",
       "      <td>44.591284</td>\n",
       "      <td>22.033300</td>\n",
       "      <td>11.910394</td>\n",
       "      <td>4.079840</td>\n",
       "      <td>12.025348</td>\n",
       "      <td>23.954335</td>\n",
       "      <td>0.358953</td>\n",
       "    </tr>\n",
       "    <tr>\n",
       "      <th>min</th>\n",
       "      <td>0.000000</td>\n",
       "      <td>32.000000</td>\n",
       "      <td>1.000000</td>\n",
       "      <td>0.000000</td>\n",
       "      <td>0.000000</td>\n",
       "      <td>0.000000</td>\n",
       "      <td>0.000000</td>\n",
       "      <td>0.000000</td>\n",
       "      <td>0.000000</td>\n",
       "      <td>107.000000</td>\n",
       "      <td>83.500000</td>\n",
       "      <td>48.000000</td>\n",
       "      <td>15.540000</td>\n",
       "      <td>44.000000</td>\n",
       "      <td>40.000000</td>\n",
       "      <td>0.000000</td>\n",
       "    </tr>\n",
       "    <tr>\n",
       "      <th>25%</th>\n",
       "      <td>0.000000</td>\n",
       "      <td>42.000000</td>\n",
       "      <td>1.000000</td>\n",
       "      <td>0.000000</td>\n",
       "      <td>0.000000</td>\n",
       "      <td>0.000000</td>\n",
       "      <td>0.000000</td>\n",
       "      <td>0.000000</td>\n",
       "      <td>0.000000</td>\n",
       "      <td>206.000000</td>\n",
       "      <td>117.000000</td>\n",
       "      <td>75.000000</td>\n",
       "      <td>23.070000</td>\n",
       "      <td>68.000000</td>\n",
       "      <td>71.000000</td>\n",
       "      <td>0.000000</td>\n",
       "    </tr>\n",
       "    <tr>\n",
       "      <th>50%</th>\n",
       "      <td>0.000000</td>\n",
       "      <td>49.000000</td>\n",
       "      <td>2.000000</td>\n",
       "      <td>0.000000</td>\n",
       "      <td>0.000000</td>\n",
       "      <td>0.000000</td>\n",
       "      <td>0.000000</td>\n",
       "      <td>0.000000</td>\n",
       "      <td>0.000000</td>\n",
       "      <td>234.000000</td>\n",
       "      <td>128.000000</td>\n",
       "      <td>82.000000</td>\n",
       "      <td>25.400000</td>\n",
       "      <td>75.000000</td>\n",
       "      <td>78.000000</td>\n",
       "      <td>0.000000</td>\n",
       "    </tr>\n",
       "    <tr>\n",
       "      <th>75%</th>\n",
       "      <td>1.000000</td>\n",
       "      <td>56.000000</td>\n",
       "      <td>3.000000</td>\n",
       "      <td>1.000000</td>\n",
       "      <td>20.000000</td>\n",
       "      <td>0.000000</td>\n",
       "      <td>0.000000</td>\n",
       "      <td>1.000000</td>\n",
       "      <td>0.000000</td>\n",
       "      <td>263.000000</td>\n",
       "      <td>144.000000</td>\n",
       "      <td>90.000000</td>\n",
       "      <td>28.040000</td>\n",
       "      <td>83.000000</td>\n",
       "      <td>87.000000</td>\n",
       "      <td>0.000000</td>\n",
       "    </tr>\n",
       "    <tr>\n",
       "      <th>max</th>\n",
       "      <td>1.000000</td>\n",
       "      <td>70.000000</td>\n",
       "      <td>4.000000</td>\n",
       "      <td>1.000000</td>\n",
       "      <td>70.000000</td>\n",
       "      <td>1.000000</td>\n",
       "      <td>1.000000</td>\n",
       "      <td>1.000000</td>\n",
       "      <td>1.000000</td>\n",
       "      <td>696.000000</td>\n",
       "      <td>295.000000</td>\n",
       "      <td>142.500000</td>\n",
       "      <td>56.800000</td>\n",
       "      <td>143.000000</td>\n",
       "      <td>394.000000</td>\n",
       "      <td>1.000000</td>\n",
       "    </tr>\n",
       "  </tbody>\n",
       "</table>\n",
       "</div>"
      ],
      "text/plain": [
       "              male          age    education  currentSmoker   cigsPerDay  \\\n",
       "count  4240.000000  4240.000000  4135.000000    4240.000000  4211.000000   \n",
       "mean      0.429245    49.580189     1.979444       0.494104     9.005937   \n",
       "std       0.495027     8.572942     1.019791       0.500024    11.922462   \n",
       "min       0.000000    32.000000     1.000000       0.000000     0.000000   \n",
       "25%       0.000000    42.000000     1.000000       0.000000     0.000000   \n",
       "50%       0.000000    49.000000     2.000000       0.000000     0.000000   \n",
       "75%       1.000000    56.000000     3.000000       1.000000    20.000000   \n",
       "max       1.000000    70.000000     4.000000       1.000000    70.000000   \n",
       "\n",
       "            BPMeds  prevalentStroke  prevalentHyp     diabetes      totChol  \\\n",
       "count  4187.000000      4240.000000   4240.000000  4240.000000  4190.000000   \n",
       "mean      0.029615         0.005896      0.310613     0.025708   236.699523   \n",
       "std       0.169544         0.076569      0.462799     0.158280    44.591284   \n",
       "min       0.000000         0.000000      0.000000     0.000000   107.000000   \n",
       "25%       0.000000         0.000000      0.000000     0.000000   206.000000   \n",
       "50%       0.000000         0.000000      0.000000     0.000000   234.000000   \n",
       "75%       0.000000         0.000000      1.000000     0.000000   263.000000   \n",
       "max       1.000000         1.000000      1.000000     1.000000   696.000000   \n",
       "\n",
       "             sysBP        diaBP          BMI    heartRate      glucose  \\\n",
       "count  4240.000000  4240.000000  4221.000000  4239.000000  3852.000000   \n",
       "mean    132.354599    82.897759    25.800801    75.878981    81.963655   \n",
       "std      22.033300    11.910394     4.079840    12.025348    23.954335   \n",
       "min      83.500000    48.000000    15.540000    44.000000    40.000000   \n",
       "25%     117.000000    75.000000    23.070000    68.000000    71.000000   \n",
       "50%     128.000000    82.000000    25.400000    75.000000    78.000000   \n",
       "75%     144.000000    90.000000    28.040000    83.000000    87.000000   \n",
       "max     295.000000   142.500000    56.800000   143.000000   394.000000   \n",
       "\n",
       "        TenYearCHD  \n",
       "count  4240.000000  \n",
       "mean      0.151887  \n",
       "std       0.358953  \n",
       "min       0.000000  \n",
       "25%       0.000000  \n",
       "50%       0.000000  \n",
       "75%       0.000000  \n",
       "max       1.000000  "
      ]
     },
     "execution_count": 253,
     "metadata": {},
     "output_type": "execute_result"
    }
   ],
   "source": [
    "df.describe()"
   ]
  },
  {
   "cell_type": "code",
   "execution_count": 254,
   "metadata": {
    "id": "U4dKWmE1wz4X"
   },
   "outputs": [
    {
     "data": {
      "text/plain": [
       "TenYearCHD\n",
       "0    3596\n",
       "1     644\n",
       "Name: count, dtype: int64"
      ]
     },
     "execution_count": 254,
     "metadata": {},
     "output_type": "execute_result"
    }
   ],
   "source": [
    "df['TenYearCHD'].value_counts()"
   ]
  },
  {
   "cell_type": "code",
   "execution_count": 255,
   "metadata": {
    "id": "ejJ2yvONwz4Y"
   },
   "outputs": [],
   "source": [
    "#using undersampling to fix class imbalance\n",
    "df_us=pd.concat([df[df['TenYearCHD']==0].sample(644),df[df['TenYearCHD']==1]])"
   ]
  },
  {
   "cell_type": "code",
   "execution_count": 256,
   "metadata": {},
   "outputs": [
    {
     "data": {
      "text/plain": [
       "TenYearCHD\n",
       "0    644\n",
       "1    644\n",
       "Name: count, dtype: int64"
      ]
     },
     "execution_count": 256,
     "metadata": {},
     "output_type": "execute_result"
    }
   ],
   "source": [
    "df_us['TenYearCHD'].value_counts()"
   ]
  },
  {
   "cell_type": "markdown",
   "metadata": {
    "id": "7J98eZuKwz4Y"
   },
   "source": [
    "### <font color = 'green'> **Data Preparation for model buidling.**"
   ]
  },
  {
   "cell_type": "markdown",
   "metadata": {
    "id": "vhMTiHFgwz4Y"
   },
   "source": [
    "<font size=3> Q. Check for missing values and handle them with appropriate methods."
   ]
  },
  {
   "cell_type": "code",
   "execution_count": 257,
   "metadata": {
    "id": "HWSvXCagwz4Y"
   },
   "outputs": [
    {
     "data": {
      "text/plain": [
       "male               0.000000\n",
       "age                0.000000\n",
       "education          2.476415\n",
       "currentSmoker      0.000000\n",
       "cigsPerDay         0.683962\n",
       "BPMeds             1.250000\n",
       "prevalentStroke    0.000000\n",
       "prevalentHyp       0.000000\n",
       "diabetes           0.000000\n",
       "totChol            1.179245\n",
       "sysBP              0.000000\n",
       "diaBP              0.000000\n",
       "BMI                0.448113\n",
       "heartRate          0.023585\n",
       "glucose            9.150943\n",
       "TenYearCHD         0.000000\n",
       "dtype: float64"
      ]
     },
     "execution_count": 257,
     "metadata": {},
     "output_type": "execute_result"
    }
   ],
   "source": [
    "df.isnull().sum()*100/len(df)"
   ]
  },
  {
   "cell_type": "code",
   "execution_count": 258,
   "metadata": {
    "id": "yimIAnaYwz4Y"
   },
   "outputs": [],
   "source": [
    "df=df.fillna(df.mean())"
   ]
  },
  {
   "cell_type": "code",
   "execution_count": 259,
   "metadata": {},
   "outputs": [
    {
     "data": {
      "text/plain": [
       "male               0\n",
       "age                0\n",
       "education          0\n",
       "currentSmoker      0\n",
       "cigsPerDay         0\n",
       "BPMeds             0\n",
       "prevalentStroke    0\n",
       "prevalentHyp       0\n",
       "diabetes           0\n",
       "totChol            0\n",
       "sysBP              0\n",
       "diaBP              0\n",
       "BMI                0\n",
       "heartRate          0\n",
       "glucose            0\n",
       "TenYearCHD         0\n",
       "dtype: int64"
      ]
     },
     "execution_count": 259,
     "metadata": {},
     "output_type": "execute_result"
    }
   ],
   "source": [
    "df.isnull().sum()"
   ]
  },
  {
   "cell_type": "markdown",
   "metadata": {
    "id": "KJsJ0u3iwz4Y"
   },
   "source": [
    "<font size=3> Q. Check for duplicate records and drop them."
   ]
  },
  {
   "cell_type": "code",
   "execution_count": 260,
   "metadata": {
    "id": "HFV5Shw7wz4Z"
   },
   "outputs": [],
   "source": [
    "df=df.drop_duplicates()"
   ]
  },
  {
   "cell_type": "code",
   "execution_count": null,
   "metadata": {},
   "outputs": [],
   "source": []
  },
  {
   "cell_type": "code",
   "execution_count": null,
   "metadata": {
    "id": "bj3tSuZkwz4Z"
   },
   "outputs": [],
   "source": []
  },
  {
   "cell_type": "markdown",
   "metadata": {
    "id": "7rgvcR1Iwz4Z"
   },
   "source": [
    "<font size=3> Q. Check for the presence of outliers and handle them with appropriate techniques."
   ]
  },
  {
   "cell_type": "code",
   "execution_count": 261,
   "metadata": {
    "id": "54O0-Xrjwz4Z"
   },
   "outputs": [
    {
     "data": {
      "text/plain": [
       "<Axes: >"
      ]
     },
     "execution_count": 261,
     "metadata": {},
     "output_type": "execute_result"
    },
    {
     "data": {
      "image/png": "[encoded data removed]",
      "text/plain": [
       "<Figure size 640x480 with 1 Axes>"
      ]
     },
     "metadata": {},
     "output_type": "display_data"
    }
   ],
   "source": [
    "sns.boxplot(df[['male','age','education','currentSmoker','cigsPerDay']])"
   ]
  },
  {
   "cell_type": "code",
   "execution_count": 262,
   "metadata": {},
   "outputs": [
    {
     "data": {
      "text/plain": [
       "<Axes: >"
      ]
     },
     "execution_count": 262,
     "metadata": {},
     "output_type": "execute_result"
    },
    {
     "data": {
      "image/png": "[encoded data removed]",
      "text/plain": [
       "<Figure size 640x480 with 1 Axes>"
      ]
     },
     "metadata": {},
     "output_type": "display_data"
    }
   ],
   "source": [
    "sns.boxplot(df_us[['BPMeds','prevalentStroke','prevalentHyp','diabetes','totChol','sysBP','diaBP','BMI','heartRate','glucose','TenYearCHD']])"
   ]
  },
  {
   "cell_type": "code",
   "execution_count": 263,
   "metadata": {},
   "outputs": [],
   "source": [
    "cat=df.columns"
   ]
  },
  {
   "cell_type": "code",
   "execution_count": 264,
   "metadata": {
    "id": "pl1eUBVewz4Z"
   },
   "outputs": [],
   "source": [
    "for col in cat: #['male','age','education','currentSmoker','cigsPerDay','BPMeds','prevalentStroke','prevalentHyp','diabetes','totChol','sysBP','diaBP','BMI','heartRate','glucose','TenYearCHD']:\n",
    "    q1=df[col].quantile(0.25)\n",
    "    q3=df[col].quantile(0.75)\n",
    "    iqr=q3-q1\n",
    "    lower_whisker=q1-1.5*iqr\n",
    "    upper_whisker=q3-1.5*iqr\n",
    "    ser=df[col].copy()\n",
    "    ser[ser<lower_whisker]=lower_whisker\n",
    "    ser[ser<upper_whisker]=upper_whisker\n",
    "    df[col]=ser"
   ]
  },
  {
   "cell_type": "code",
   "execution_count": 265,
   "metadata": {},
   "outputs": [
    {
     "data": {
      "image/png": "[encoded data removed]",
      "text/plain": [
       "<Figure size 2000x800 with 1 Axes>"
      ]
     },
     "metadata": {},
     "output_type": "display_data"
    }
   ],
   "source": [
    "df.boxplot(figsize=(20,8))\n",
    "plt.show()"
   ]
  },
  {
   "cell_type": "markdown",
   "metadata": {
    "id": "WBGh220Mwz4Z"
   },
   "source": [
    "<font size=3> Q. Split the dataset into two parts (i.e. 70% train and 30% test)."
   ]
  },
  {
   "cell_type": "code",
   "execution_count": 266,
   "metadata": {
    "id": "b1cH_uRbwz4Z"
   },
   "outputs": [],
   "source": [
    "X=df.drop('TenYearCHD',axis=1)\n",
    "y=df[['TenYearCHD']]"
   ]
  },
  {
   "cell_type": "code",
   "execution_count": 267,
   "metadata": {
    "id": "msC6SGMTwz4Z"
   },
   "outputs": [],
   "source": [
    "X_train,X_test,y_train,y_test=train_test_split(X,y,test_size=0.30,random_state=1)"
   ]
  },
  {
   "cell_type": "markdown",
   "metadata": {
    "id": "oyXK2qr5wz4a"
   },
   "source": [
    "<font size=3> Q. Scale the data using appropriate approach."
   ]
  },
  {
   "cell_type": "code",
   "execution_count": 268,
   "metadata": {
    "id": "Lp_hBByLwz4a"
   },
   "outputs": [],
   "source": [
    "from sklearn.preprocessing import StandardScaler\n",
    "ss=StandardScaler()\n",
    "X_train.iloc[:,:]=ss.fit_transform(X_train.iloc[:,:])\n",
    "X_test.iloc[:,:]=ss.fit_transform(X_test.iloc[:,:])"
   ]
  },
  {
   "cell_type": "code",
   "execution_count": 269,
   "metadata": {
    "id": "SINddKDOwz4a"
   },
   "outputs": [
    {
     "data": {
      "text/html": [
       "<div>\n",
       "<style scoped>\n",
       "    .dataframe tbody tr th:only-of-type {\n",
       "        vertical-align: middle;\n",
       "    }\n",
       "\n",
       "    .dataframe tbody tr th {\n",
       "        vertical-align: top;\n",
       "    }\n",
       "\n",
       "    .dataframe thead th {\n",
       "        text-align: right;\n",
       "    }\n",
       "</style>\n",
       "<table border=\"1\" class=\"dataframe\">\n",
       "  <thead>\n",
       "    <tr style=\"text-align: right;\">\n",
       "      <th></th>\n",
       "      <th>male</th>\n",
       "      <th>age</th>\n",
       "      <th>education</th>\n",
       "      <th>currentSmoker</th>\n",
       "      <th>cigsPerDay</th>\n",
       "      <th>BPMeds</th>\n",
       "      <th>prevalentStroke</th>\n",
       "      <th>prevalentHyp</th>\n",
       "      <th>diabetes</th>\n",
       "      <th>totChol</th>\n",
       "      <th>sysBP</th>\n",
       "      <th>diaBP</th>\n",
       "      <th>BMI</th>\n",
       "      <th>heartRate</th>\n",
       "      <th>glucose</th>\n",
       "    </tr>\n",
       "  </thead>\n",
       "  <tbody>\n",
       "    <tr>\n",
       "      <th>4033</th>\n",
       "      <td>-0.854168</td>\n",
       "      <td>-0.085044</td>\n",
       "      <td>-0.964550</td>\n",
       "      <td>1.012886</td>\n",
       "      <td>0.496530</td>\n",
       "      <td>-0.177665</td>\n",
       "      <td>-0.068843</td>\n",
       "      <td>-0.668655</td>\n",
       "      <td>-0.156551</td>\n",
       "      <td>-0.108805</td>\n",
       "      <td>-0.924885</td>\n",
       "      <td>-0.273720</td>\n",
       "      <td>0.515116</td>\n",
       "      <td>1.690397</td>\n",
       "      <td>-0.093024</td>\n",
       "    </tr>\n",
       "    <tr>\n",
       "      <th>3710</th>\n",
       "      <td>1.170729</td>\n",
       "      <td>-0.435128</td>\n",
       "      <td>1.013508</td>\n",
       "      <td>1.012886</td>\n",
       "      <td>1.751397</td>\n",
       "      <td>-0.177665</td>\n",
       "      <td>-0.068843</td>\n",
       "      <td>1.495540</td>\n",
       "      <td>-0.156551</td>\n",
       "      <td>-1.384441</td>\n",
       "      <td>0.395735</td>\n",
       "      <td>0.609756</td>\n",
       "      <td>-0.792940</td>\n",
       "      <td>-0.971489</td>\n",
       "      <td>-0.790486</td>\n",
       "    </tr>\n",
       "    <tr>\n",
       "      <th>1453</th>\n",
       "      <td>1.170729</td>\n",
       "      <td>-0.435128</td>\n",
       "      <td>-0.964550</td>\n",
       "      <td>1.012886</td>\n",
       "      <td>0.914819</td>\n",
       "      <td>-0.177665</td>\n",
       "      <td>-0.068843</td>\n",
       "      <td>-0.668655</td>\n",
       "      <td>-0.156551</td>\n",
       "      <td>0.958091</td>\n",
       "      <td>-0.670029</td>\n",
       "      <td>-0.097025</td>\n",
       "      <td>-0.787820</td>\n",
       "      <td>-1.357892</td>\n",
       "      <td>-0.381629</td>\n",
       "    </tr>\n",
       "    <tr>\n",
       "      <th>2425</th>\n",
       "      <td>-0.854168</td>\n",
       "      <td>1.548681</td>\n",
       "      <td>-0.964550</td>\n",
       "      <td>-0.987278</td>\n",
       "      <td>-0.758336</td>\n",
       "      <td>-0.177665</td>\n",
       "      <td>-0.068843</td>\n",
       "      <td>-0.668655</td>\n",
       "      <td>-0.156551</td>\n",
       "      <td>-0.201578</td>\n",
       "      <td>-0.577354</td>\n",
       "      <td>-0.097025</td>\n",
       "      <td>-0.071078</td>\n",
       "      <td>0.144785</td>\n",
       "      <td>-0.429729</td>\n",
       "    </tr>\n",
       "    <tr>\n",
       "      <th>1010</th>\n",
       "      <td>1.170729</td>\n",
       "      <td>-0.901906</td>\n",
       "      <td>-0.964550</td>\n",
       "      <td>1.012886</td>\n",
       "      <td>1.751397</td>\n",
       "      <td>-0.177665</td>\n",
       "      <td>-0.068843</td>\n",
       "      <td>-0.668655</td>\n",
       "      <td>-0.156551</td>\n",
       "      <td>-0.131998</td>\n",
       "      <td>-0.971223</td>\n",
       "      <td>-1.157195</td>\n",
       "      <td>0.625187</td>\n",
       "      <td>1.175193</td>\n",
       "      <td>-0.093024</td>\n",
       "    </tr>\n",
       "  </tbody>\n",
       "</table>\n",
       "</div>"
      ],
      "text/plain": [
       "          male       age  education  currentSmoker  cigsPerDay    BPMeds  \\\n",
       "4033 -0.854168 -0.085044  -0.964550       1.012886    0.496530 -0.177665   \n",
       "3710  1.170729 -0.435128   1.013508       1.012886    1.751397 -0.177665   \n",
       "1453  1.170729 -0.435128  -0.964550       1.012886    0.914819 -0.177665   \n",
       "2425 -0.854168  1.548681  -0.964550      -0.987278   -0.758336 -0.177665   \n",
       "1010  1.170729 -0.901906  -0.964550       1.012886    1.751397 -0.177665   \n",
       "\n",
       "      prevalentStroke  prevalentHyp  diabetes   totChol     sysBP     diaBP  \\\n",
       "4033        -0.068843     -0.668655 -0.156551 -0.108805 -0.924885 -0.273720   \n",
       "3710        -0.068843      1.495540 -0.156551 -1.384441  0.395735  0.609756   \n",
       "1453        -0.068843     -0.668655 -0.156551  0.958091 -0.670029 -0.097025   \n",
       "2425        -0.068843     -0.668655 -0.156551 -0.201578 -0.577354 -0.097025   \n",
       "1010        -0.068843     -0.668655 -0.156551 -0.131998 -0.971223 -1.157195   \n",
       "\n",
       "           BMI  heartRate   glucose  \n",
       "4033  0.515116   1.690397 -0.093024  \n",
       "3710 -0.792940  -0.971489 -0.790486  \n",
       "1453 -0.787820  -1.357892 -0.381629  \n",
       "2425 -0.071078   0.144785 -0.429729  \n",
       "1010  0.625187   1.175193 -0.093024  "
      ]
     },
     "execution_count": 269,
     "metadata": {},
     "output_type": "execute_result"
    }
   ],
   "source": [
    "X_train.head()"
   ]
  },
  {
   "cell_type": "markdown",
   "metadata": {
    "id": "WGzf7TUAwz4a"
   },
   "source": [
    "### <font color = 'green'> **Model buidling - Logistic Regression Model**"
   ]
  },
  {
   "cell_type": "markdown",
   "metadata": {
    "id": "D_DPIMcDwz4a"
   },
   "source": [
    "<font size=3> Q. Buid a logistic regression model and evaluate the model performance."
   ]
  },
  {
   "cell_type": "code",
   "execution_count": 270,
   "metadata": {
    "id": "yL2pU9Rqwz4a"
   },
   "outputs": [
    {
     "name": "stderr",
     "output_type": "stream",
     "text": [
      "C:\\Anaconda\\Lib\\site-packages\\sklearn\\utils\\validation.py:1184: DataConversionWarning: A column-vector y was passed when a 1d array was expected. Please change the shape of y to (n_samples, ), for example using ravel().\n",
      "  y = column_or_1d(y, warn=True)\n"
     ]
    },
    {
     "data": {
      "text/html": [
       "<style>#sk-container-id-5 {color: black;}#sk-container-id-5 pre{padding: 0;}#sk-container-id-5 div.sk-toggleable {background-color: white;}#sk-container-id-5 label.sk-toggleable__label {cursor: pointer;display: block;width: 100%;margin-bottom: 0;padding: 0.3em;box-sizing: border-box;text-align: center;}#sk-container-id-5 label.sk-toggleable__label-arrow:before {content: \"▸\";float: left;margin-right: 0.25em;color: #696969;}#sk-container-id-5 label.sk-toggleable__label-arrow:hover:before {color: black;}#sk-container-id-5 div.sk-estimator:hover label.sk-toggleable__label-arrow:before {color: black;}#sk-container-id-5 div.sk-toggleable__content {max-height: 0;max-width: 0;overflow: hidden;text-align: left;background-color: #f0f8ff;}#sk-container-id-5 div.sk-toggleable__content pre {margin: 0.2em;color: black;border-radius: 0.25em;background-color: #f0f8ff;}#sk-container-id-5 input.sk-toggleable__control:checked~div.sk-toggleable__content {max-height: 200px;max-width: 100%;overflow: auto;}#sk-container-id-5 input.sk-toggleable__control:checked~label.sk-toggleable__label-arrow:before {content: \"▾\";}#sk-container-id-5 div.sk-estimator input.sk-toggleable__control:checked~label.sk-toggleable__label {background-color: #d4ebff;}#sk-container-id-5 div.sk-label input.sk-toggleable__control:checked~label.sk-toggleable__label {background-color: #d4ebff;}#sk-container-id-5 input.sk-hidden--visually {border: 0;clip: rect(1px 1px 1px 1px);clip: rect(1px, 1px, 1px, 1px);height: 1px;margin: -1px;overflow: hidden;padding: 0;position: absolute;width: 1px;}#sk-container-id-5 div.sk-estimator {font-family: monospace;background-color: #f0f8ff;border: 1px dotted black;border-radius: 0.25em;box-sizing: border-box;margin-bottom: 0.5em;}#sk-container-id-5 div.sk-estimator:hover {background-color: #d4ebff;}#sk-container-id-5 div.sk-parallel-item::after {content: \"\";width: 100%;border-bottom: 1px solid gray;flex-grow: 1;}#sk-container-id-5 div.sk-label:hover label.sk-toggleable__label {background-color: #d4ebff;}#sk-container-id-5 div.sk-serial::before {content: \"\";position: absolute;border-left: 1px solid gray;box-sizing: border-box;top: 0;bottom: 0;left: 50%;z-index: 0;}#sk-container-id-5 div.sk-serial {display: flex;flex-direction: column;align-items: center;background-color: white;padding-right: 0.2em;padding-left: 0.2em;position: relative;}#sk-container-id-5 div.sk-item {position: relative;z-index: 1;}#sk-container-id-5 div.sk-parallel {display: flex;align-items: stretch;justify-content: center;background-color: white;position: relative;}#sk-container-id-5 div.sk-item::before, #sk-container-id-5 div.sk-parallel-item::before {content: \"\";position: absolute;border-left: 1px solid gray;box-sizing: border-box;top: 0;bottom: 0;left: 50%;z-index: -1;}#sk-container-id-5 div.sk-parallel-item {display: flex;flex-direction: column;z-index: 1;position: relative;background-color: white;}#sk-container-id-5 div.sk-parallel-item:first-child::after {align-self: flex-end;width: 50%;}#sk-container-id-5 div.sk-parallel-item:last-child::after {align-self: flex-start;width: 50%;}#sk-container-id-5 div.sk-parallel-item:only-child::after {width: 0;}#sk-container-id-5 div.sk-dashed-wrapped {border: 1px dashed gray;margin: 0 0.4em 0.5em 0.4em;box-sizing: border-box;padding-bottom: 0.4em;background-color: white;}#sk-container-id-5 div.sk-label label {font-family: monospace;font-weight: bold;display: inline-block;line-height: 1.2em;}#sk-container-id-5 div.sk-label-container {text-align: center;}#sk-container-id-5 div.sk-container {/* jupyter's `normalize.less` sets `[hidden] { display: none; }` but bootstrap.min.css set `[hidden] { display: none !important; }` so we also need the `!important` here to be able to override the default hidden behavior on the sphinx rendered scikit-learn.org. See: https://github.com/scikit-learn/scikit-learn/issues/21755 */display: inline-block !important;position: relative;}#sk-container-id-5 div.sk-text-repr-fallback {display: none;}</style><div id=\"sk-container-id-5\" class=\"sk-top-container\"><div class=\"sk-text-repr-fallback\"><pre>LogisticRegression()</pre><b>In a Jupyter environment, please rerun this cell to show the HTML representation or trust the notebook. <br />On GitHub, the HTML representation is unable to render, please try loading this page with nbviewer.org.</b></div><div class=\"sk-container\" hidden><div class=\"sk-item\"><div class=\"sk-estimator sk-toggleable\"><input class=\"sk-toggleable__control sk-hidden--visually\" id=\"sk-estimator-id-5\" type=\"checkbox\" checked><label for=\"sk-estimator-id-5\" class=\"sk-toggleable__label sk-toggleable__label-arrow\">LogisticRegression</label><div class=\"sk-toggleable__content\"><pre>LogisticRegression()</pre></div></div></div></div></div>"
      ],
      "text/plain": [
       "LogisticRegression()"
      ]
     },
     "execution_count": 270,
     "metadata": {},
     "output_type": "execute_result"
    }
   ],
   "source": [
    "log_reg=LogisticRegression()\n",
    "log_reg.fit(X_train,y_train)"
   ]
  },
  {
   "cell_type": "code",
   "execution_count": 271,
   "metadata": {
    "id": "MeHZwl54wz4a"
   },
   "outputs": [],
   "source": [
    "y_pred=log_reg.predict(X_test)"
   ]
  },
  {
   "cell_type": "code",
   "execution_count": 272,
   "metadata": {
    "id": "WAre2czOwz4a"
   },
   "outputs": [
    {
     "name": "stdout",
     "output_type": "stream",
     "text": [
      "[-1.93772213]\n",
      "[[ 0.28114765  0.46644196 -0.03915576  0.02586662  0.22713763  0.04801377\n",
      "   0.044319    0.05385284  0.03007451  0.09780022  0.33391549 -0.03762735\n",
      "   0.02071297 -0.00344086  0.14522   ]]\n"
     ]
    }
   ],
   "source": [
    "print(log_reg.intercept_)\n",
    "print(log_reg.coef_)"
   ]
  },
  {
   "cell_type": "code",
   "execution_count": 273,
   "metadata": {
    "id": "RlmzYDiDwz4a"
   },
   "outputs": [
    {
     "data": {
      "text/plain": [
       "0.8584905660377359"
      ]
     },
     "execution_count": 273,
     "metadata": {},
     "output_type": "execute_result"
    }
   ],
   "source": [
    "metrics.accuracy_score(y_test,y_pred)"
   ]
  },
  {
   "cell_type": "code",
   "execution_count": 274,
   "metadata": {},
   "outputs": [
    {
     "name": "stdout",
     "output_type": "stream",
     "text": [
      "[[1080    5]\n",
      " [ 175   12]]\n"
     ]
    }
   ],
   "source": [
    "from sklearn .metrics import confusion_matrix\n",
    "print(confusion_matrix(y_test,y_pred))"
   ]
  },
  {
   "cell_type": "code",
   "execution_count": 275,
   "metadata": {},
   "outputs": [
    {
     "data": {
      "text/plain": [
       "<sklearn.metrics._plot.confusion_matrix.ConfusionMatrixDisplay at 0x1a564eb5e50>"
      ]
     },
     "execution_count": 275,
     "metadata": {},
     "output_type": "execute_result"
    },
    {
     "data": {
      "image/png": "[encoded data removed]",
      "text/plain": [
       "<Figure size 640x480 with 2 Axes>"
      ]
     },
     "metadata": {},
     "output_type": "display_data"
    }
   ],
   "source": [
    "from sklearn .metrics import ConfusionMatrixDisplay\n",
    "ConfusionMatrixDisplay.from_predictions(y_test,y_pred)"
   ]
  },
  {
   "cell_type": "code",
   "execution_count": 276,
   "metadata": {},
   "outputs": [
    {
     "ename": "SyntaxError",
     "evalue": "invalid syntax (4069176203.py, line 2)",
     "output_type": "error",
     "traceback": [
      "\u001b[1;36m  Cell \u001b[1;32mIn[276], line 2\u001b[1;36m\u001b[0m\n\u001b[1;33m    classification_report.(y_test,y_pred)\u001b[0m\n\u001b[1;37m                          ^\u001b[0m\n\u001b[1;31mSyntaxError\u001b[0m\u001b[1;31m:\u001b[0m invalid syntax\n"
     ]
    }
   ],
   "source": [
    "from sklearn .metrics import classification_report\n",
    "classification_report.(y_test,y_pred)"
   ]
  },
  {
   "cell_type": "markdown",
   "metadata": {
    "id": "OEq9oTvJwz4a"
   },
   "source": [
    "------\n",
    "### Happy Learning :)\n",
    "------"
   ]
  }
 ],
 "metadata": {
  "colab": {
   "provenance": []
  },
  "kernelspec": {
   "display_name": "Python 3 (ipykernel)",
   "language": "python",
   "name": "python3"
  },
  "language_info": {
   "codemirror_mode": {
    "name": "ipython",
    "version": 3
   },
   "file_extension": ".py",
   "mimetype": "text/x-python",
   "name": "python",
   "nbconvert_exporter": "python",
   "pygments_lexer": "ipython3",
   "version": "3.11.5"
  }
 },
 "nbformat": 4,
 "nbformat_minor": 1
}
