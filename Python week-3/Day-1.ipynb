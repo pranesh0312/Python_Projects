{
 "cells": [
  {
   "cell_type": "markdown",
   "id": "772c61ff",
   "metadata": {},
   "source": [
    "# Numpy_arrays(concatenation and splitting)"
   ]
  },
  {
   "cell_type": "code",
   "execution_count": 7,
   "id": "3ef1125d",
   "metadata": {},
   "outputs": [
    {
     "name": "stdout",
     "output_type": "stream",
     "text": [
      "['g', 'r', 'e', 'a', 't', ' ', 'l', 'e', 'a', 'r', 'n', 'i', 'n', 'g', 5, True]\n",
      "['g' 'r' 'e' 'a' 't' ' ' 'l' 'e' 'a' 'r' 'n' 'i' 'n' 'g' '5' 'True']\n"
     ]
    }
   ],
   "source": [
    "list1=list(\"great learning\")\n",
    "list1.append(5)\n",
    "list1.append(True)\n",
    "print(list1)\n",
    "\n",
    "#Converting the list to array\n",
    "import numpy as np\n",
    "arr1=np.array(list1)\n",
    "print(arr1)\n"
   ]
  },
  {
   "cell_type": "code",
   "execution_count": 2,
   "id": "9e87cfd5",
   "metadata": {},
   "outputs": [
    {
     "name": "stdout",
     "output_type": "stream",
     "text": [
      "[11 22 13 23 22 12]\n"
     ]
    }
   ],
   "source": [
    "# concatenate two 1D arrays\n",
    "import numpy as np\n",
    "array_x = np.array([11, 22, 13])\n",
    "array_y = np.array([23, 22, 12])\n",
    "print(np.concatenate([array_x, array_y]))"
   ]
  },
  {
   "cell_type": "code",
   "execution_count": 11,
   "id": "f187ca64",
   "metadata": {},
   "outputs": [
    {
     "name": "stdout",
     "output_type": "stream",
     "text": [
      "[11 22 13 23 22 12 23 45]\n"
     ]
    }
   ],
   "source": [
    "#You can also concatenate more than two arrays at once.\n",
    "array_z = np.array([23,45])\n",
    "print(np.concatenate([array_x, array_y, array_z]))"
   ]
  },
  {
   "cell_type": "code",
   "execution_count": 13,
   "id": "d17c40e0",
   "metadata": {},
   "outputs": [
    {
     "data": {
      "text/plain": [
       "array([[1, 2, 3],\n",
       "       [4, 5, 6]])"
      ]
     },
     "execution_count": 13,
     "metadata": {},
     "output_type": "execute_result"
    }
   ],
   "source": [
    "# create a 2D array\n",
    "my_array = np.array([[1, 2, 3],\n",
    "                 [4, 5, 6]])\n",
    "my_array"
   ]
  },
  {
   "cell_type": "code",
   "execution_count": 15,
   "id": "f39bb2a5",
   "metadata": {},
   "outputs": [
    {
     "data": {
      "text/plain": [
       "array([[1, 2, 3],\n",
       "       [4, 5, 6],\n",
       "       [1, 2, 3],\n",
       "       [4, 5, 6]])"
      ]
     },
     "execution_count": 15,
     "metadata": {},
     "output_type": "execute_result"
    }
   ],
   "source": [
    "#by default concatenate() is along 'axis = 0'\n",
    "np.concatenate([my_array, my_array])"
   ]
  },
  {
   "cell_type": "code",
   "execution_count": 17,
   "id": "8ec7e37b",
   "metadata": {},
   "outputs": [
    {
     "data": {
      "text/plain": [
       "array([[1, 2, 3, 1, 2, 3],\n",
       "       [4, 5, 6, 4, 5, 6]])"
      ]
     },
     "execution_count": 17,
     "metadata": {},
     "output_type": "execute_result"
    }
   ],
   "source": [
    "np.concatenate([my_array, my_array], axis=1)"
   ]
  },
  {
   "cell_type": "code",
   "execution_count": 20,
   "id": "f2a97ed0",
   "metadata": {},
   "outputs": [
    {
     "ename": "AxisError",
     "evalue": "axis 1 is out of bounds for array of dimension 1",
     "output_type": "error",
     "traceback": [
      "\u001b[1;31m---------------------------------------------------------------------------\u001b[0m",
      "\u001b[1;31mAxisError\u001b[0m                                 Traceback (most recent call last)",
      "Cell \u001b[1;32mIn[20], line 4\u001b[0m\n\u001b[0;32m      1\u001b[0m \u001b[38;5;66;03m# concatenate the 1D and 2D arrays\u001b[39;00m\n\u001b[0;32m      2\u001b[0m \u001b[38;5;66;03m# consider a 1D array -- 'array_x'  \u001b[39;00m\n\u001b[0;32m      3\u001b[0m \u001b[38;5;66;03m# consider a 2D array -- 'my_array'\u001b[39;00m\n\u001b[1;32m----> 4\u001b[0m np\u001b[38;5;241m.\u001b[39mconcatenate((array_x, my_array), axis \u001b[38;5;241m=\u001b[39m \u001b[38;5;241m1\u001b[39m)\n",
      "File \u001b[1;32m<__array_function__ internals>:200\u001b[0m, in \u001b[0;36mconcatenate\u001b[1;34m(*args, **kwargs)\u001b[0m\n",
      "\u001b[1;31mAxisError\u001b[0m: axis 1 is out of bounds for array of dimension 1"
     ]
    }
   ],
   "source": [
    "# concatenate the 1D and 2D arrays\n",
    "# consider a 1D array -- 'array_x'  \n",
    "# consider a 2D array -- 'my_array'\n",
    "np.concatenate((array_x, my_array), axis = 1)#error-dimension must be same"
   ]
  },
  {
   "cell_type": "code",
   "execution_count": 22,
   "id": "b8e937c2",
   "metadata": {},
   "outputs": [
    {
     "data": {
      "text/plain": [
       "[array([0, 1, 2, 3]), array([4, 5, 6, 7])]"
      ]
     },
     "execution_count": 22,
     "metadata": {},
     "output_type": "execute_result"
    }
   ],
   "source": [
    "# split the array into sub-arrays\n",
    "array_x = np.arange(8) \n",
    "np.split(array_x, 2)"
   ]
  },
  {
   "cell_type": "code",
   "execution_count": 24,
   "id": "ef09636d",
   "metadata": {},
   "outputs": [
    {
     "name": "stdout",
     "output_type": "stream",
     "text": [
      "[array([0, 1, 2, 3, 4]), array([5, 6]), array([7])]\n"
     ]
    }
   ],
   "source": [
    "# the split occurs at 5th and 7th indices\n",
    "array_y = np.split(array_x,[5,7])\n",
    "print(array_y)"
   ]
  },
  {
   "cell_type": "code",
   "execution_count": 26,
   "id": "15a0350e",
   "metadata": {},
   "outputs": [
    {
     "ename": "ValueError",
     "evalue": "array split does not result in an equal division",
     "output_type": "error",
     "traceback": [
      "\u001b[1;31m---------------------------------------------------------------------------\u001b[0m",
      "\u001b[1;31mValueError\u001b[0m                                Traceback (most recent call last)",
      "Cell \u001b[1;32mIn[26], line 2\u001b[0m\n\u001b[0;32m      1\u001b[0m \u001b[38;5;66;03m# split 'array_x' into 3 sub-arrays\u001b[39;00m\n\u001b[1;32m----> 2\u001b[0m np\u001b[38;5;241m.\u001b[39msplit(array_x, \u001b[38;5;241m3\u001b[39m)\n",
      "File \u001b[1;32m<__array_function__ internals>:200\u001b[0m, in \u001b[0;36msplit\u001b[1;34m(*args, **kwargs)\u001b[0m\n",
      "File \u001b[1;32mC:\\Anaconda\\Lib\\site-packages\\numpy\\lib\\shape_base.py:872\u001b[0m, in \u001b[0;36msplit\u001b[1;34m(ary, indices_or_sections, axis)\u001b[0m\n\u001b[0;32m    870\u001b[0m     N \u001b[38;5;241m=\u001b[39m ary\u001b[38;5;241m.\u001b[39mshape[axis]\n\u001b[0;32m    871\u001b[0m     \u001b[38;5;28;01mif\u001b[39;00m N \u001b[38;5;241m%\u001b[39m sections:\n\u001b[1;32m--> 872\u001b[0m         \u001b[38;5;28;01mraise\u001b[39;00m \u001b[38;5;167;01mValueError\u001b[39;00m(\n\u001b[0;32m    873\u001b[0m             \u001b[38;5;124m'\u001b[39m\u001b[38;5;124marray split does not result in an equal division\u001b[39m\u001b[38;5;124m'\u001b[39m) \u001b[38;5;28;01mfrom\u001b[39;00m \u001b[38;5;28;01mNone\u001b[39;00m\n\u001b[0;32m    874\u001b[0m \u001b[38;5;28;01mreturn\u001b[39;00m array_split(ary, indices_or_sections, axis)\n",
      "\u001b[1;31mValueError\u001b[0m: array split does not result in an equal division"
     ]
    }
   ],
   "source": [
    "# split 'array_x' into 3 sub-arrays\n",
    "np.split(array_x, 3)   #error-->The split() function does not allow the integer (N) as number of splits, if N does not divide the array into sub-arrays of equal length "
   ]
  },
  {
   "cell_type": "code",
   "execution_count": 29,
   "id": "fe1c84af",
   "metadata": {},
   "outputs": [
    {
     "data": {
      "text/plain": [
       "[array([0, 1, 2]), array([3, 4, 5]), array([6, 7])]"
      ]
     },
     "execution_count": 29,
     "metadata": {},
     "output_type": "execute_result"
    }
   ],
   "source": [
    "#array_split():It is used to split the array into sub-arrays. It takes the integer 'N' as the input for the number of splits, even if 'N' does not divide the array into sub-arrays of equal length\n",
    "\n",
    "np.array_split(array_x, 3)\n",
    "\n",
    "\n",
    "#We split the array of length 8 into 3 sub-arrays; the function 'array_split()' returns <i>8 % 3 (=2)</i> sub-arrays of size <i>8//3 + 1 (=3)</i> and the rest (i.e. one sub-array) of size <i>8//3 (=2)</i>.\n"
   ]
  },
  {
   "cell_type": "code",
   "execution_count": 31,
   "id": "225f27e6",
   "metadata": {},
   "outputs": [
    {
     "data": {
      "text/plain": [
       "array([[ 0.,  1.,  2.,  3.,  4.],\n",
       "       [ 5.,  6.,  7.,  8.,  9.],\n",
       "       [10., 11., 12., 13., 14.],\n",
       "       [15., 16., 17., 18., 19.]])"
      ]
     },
     "execution_count": 31,
     "metadata": {},
     "output_type": "execute_result"
    }
   ],
   "source": [
    "'''\n",
    "The vsplit() function is used to split an array into multiple sub-arrays vertically (row-wise).'''\n",
    "\n",
    "my_array = np.arange(20.0).reshape(4,5)\n",
    "my_array"
   ]
  },
  {
   "cell_type": "code",
   "execution_count": 33,
   "id": "f4311e52",
   "metadata": {},
   "outputs": [
    {
     "data": {
      "text/plain": [
       "[array([[0., 1., 2., 3., 4.],\n",
       "        [5., 6., 7., 8., 9.]]),\n",
       " array([[10., 11., 12., 13., 14.],\n",
       "        [15., 16., 17., 18., 19.]])]"
      ]
     },
     "execution_count": 33,
     "metadata": {},
     "output_type": "execute_result"
    }
   ],
   "source": [
    "np.vsplit(my_array, 2)"
   ]
  },
  {
   "cell_type": "code",
   "execution_count": 35,
   "id": "49513eab",
   "metadata": {},
   "outputs": [
    {
     "data": {
      "text/plain": [
       "array([[ 0.,  1.,  2.,  3.],\n",
       "       [ 4.,  5.,  6.,  7.],\n",
       "       [ 8.,  9., 10., 11.],\n",
       "       [12., 13., 14., 15.]])"
      ]
     },
     "execution_count": 35,
     "metadata": {},
     "output_type": "execute_result"
    }
   ],
   "source": [
    "#The hsplit() function is used to split an array into multiple sub-arrays horizontally (column-wise).\n",
    "\n",
    "my_array = np.arange(16.0).reshape(4,4)\n",
    "my_array"
   ]
  },
  {
   "cell_type": "code",
   "execution_count": 37,
   "id": "49860d1e",
   "metadata": {},
   "outputs": [
    {
     "data": {
      "text/plain": [
       "[array([[ 0.,  1.],\n",
       "        [ 4.,  5.],\n",
       "        [ 8.,  9.],\n",
       "        [12., 13.]]),\n",
       " array([[ 2.,  3.],\n",
       "        [ 6.,  7.],\n",
       "        [10., 11.],\n",
       "        [14., 15.]])]"
      ]
     },
     "execution_count": 37,
     "metadata": {},
     "output_type": "execute_result"
    }
   ],
   "source": [
    "np.hsplit(my_array, 2)"
   ]
  },
  {
   "cell_type": "markdown",
   "id": "ff8cfed5",
   "metadata": {},
   "source": [
    "# Practise excercise"
   ]
  },
  {
   "cell_type": "code",
   "execution_count": null,
   "id": "58a306ed",
   "metadata": {},
   "outputs": [],
   "source": [
    "#Write a code to divide the array into three sub-arrays containing an equal number of rows. \n",
    "A = [[4, 7], [2, -3], [8, 1], [0, 9], [5,-1], [8, 3]]"
   ]
  },
  {
   "cell_type": "code",
   "execution_count": 46,
   "id": "eb604dd6",
   "metadata": {},
   "outputs": [
    {
     "name": "stdout",
     "output_type": "stream",
     "text": [
      "(3, 4)\n",
      "[[ 8  7]\n",
      " [ 2 -3]\n",
      " [ 8  5]]\n",
      "[[ 0  9]\n",
      " [ 5 10]\n",
      " [-1  3]]\n"
     ]
    }
   ],
   "source": [
    "# Write a program to divide the array into two sub-arrays containing an equal number of columns\n",
    "\n",
    "B =np.array([[8, 7, 0, 9], [2, -3, 5, 10], [8, 5, -1,3]])\n",
    "print(B.shape)\n",
    "B1,B2=np.hsplit(B,2)\n",
    "print(B1)\n",
    "print(B2)"
   ]
  },
  {
   "cell_type": "code",
   "execution_count": 49,
   "id": "7e9f4053",
   "metadata": {},
   "outputs": [
    {
     "name": "stdout",
     "output_type": "stream",
     "text": [
      "(2, 5)\n",
      "(2, 5)\n"
     ]
    },
    {
     "data": {
      "text/plain": [
       "array([[0, 1, 2, 3, 4],\n",
       "       [5, 6, 7, 8, 9],\n",
       "       [1, 1, 1, 1, 1],\n",
       "       [1, 1, 1, 1, 1]])"
      ]
     },
     "execution_count": 49,
     "metadata": {},
     "output_type": "execute_result"
    }
   ],
   "source": [
    "#Stack two arrays vertically\n",
    "array1 = np.arange(10).reshape(2,-1)\n",
    "\n",
    "array2 = np.repeat(1, 10).reshape(2,-1)\n",
    "print(array1.shape)\n",
    "print(array2.shape)\n",
    "np.concatenate([array1,array2])#default axis=0"
   ]
  },
  {
   "cell_type": "code",
   "execution_count": 56,
   "id": "f3a2b26f",
   "metadata": {},
   "outputs": [
    {
     "name": "stdout",
     "output_type": "stream",
     "text": [
      "(4, 5)\n",
      "(4, 5)\n"
     ]
    },
    {
     "data": {
      "text/plain": [
       "array([[ 0,  1,  2,  3,  4, 20, 21, 22, 23, 24],\n",
       "       [ 5,  6,  7,  8,  9, 25, 26, 27, 28, 29],\n",
       "       [10, 11, 12, 13, 14, 30, 31, 32, 33, 34],\n",
       "       [15, 16, 17, 18, 19, 35, 36, 37, 38, 39]])"
      ]
     },
     "execution_count": 56,
     "metadata": {},
     "output_type": "execute_result"
    }
   ],
   "source": [
    "#Stack two arrays horizontally\n",
    "array3 = np.arange(20).reshape(4,-1)\n",
    "\n",
    "array4 = np.arange(20, 40, 1).reshape(4,-1)\n",
    "print(array3.shape)\n",
    "print(array4.shape)\n",
    "np.concatenate([array3,array4],axis=1)\n"
   ]
  },
  {
   "cell_type": "code",
   "execution_count": 71,
   "id": "8ebc91e8",
   "metadata": {},
   "outputs": [
    {
     "name": "stdout",
     "output_type": "stream",
     "text": [
      "[[ 0  1  2  3  4  5  6  7  8  9]\n",
      " [10 11 12 13 14 15 16 17 18 19]\n",
      " [20 21 22 23 24 20 21 22 23 24]\n",
      " [25 26 27 28 29 25 26 27 28 29]\n",
      " [30 31 32 33 34 30 31 32 33 34]\n",
      " [35 36 37 38 39 35 36 37 38 39]]\n",
      "[[ 0  1  2  3  4]\n",
      " [10 11 12 13 14]\n",
      " [ 5  6  7  8  9]\n",
      " [15 16 17 18 19]\n",
      " [20 21 22 23 24]\n",
      " [25 26 27 28 29]\n",
      " [30 31 32 33 34]\n",
      " [35 36 37 38 39]]\n"
     ]
    }
   ],
   "source": [
    "#Stack the arrays horizontally and vertically\n",
    "array5 = np.arange(20).reshape(2,-1)\n",
    "\n",
    "array6 = np.arange(20, 40, 1).reshape(4,-1)\n",
    "\n",
    "#print(array5.shape)\n",
    "#print(array6.shape)\n",
    "\n",
    "#when the dimension differ\n",
    "#print(array5)\n",
    "#print(array6)\n",
    "#First method\n",
    "print(np.concatenate([array5,np.concatenate([array6,array6],axis=1)]))\n",
    "#second method\n",
    "array3=np.concatenate(np.hsplit(array5,2))\n",
    "print(np.concatenate([array3,array6]))\n",
    "\n"
   ]
  },
  {
   "cell_type": "markdown",
   "id": "6328f82f",
   "metadata": {},
   "source": [
    "# Hand's on Excercise"
   ]
  },
  {
   "cell_type": "code",
   "execution_count": 78,
   "id": "0620aa95",
   "metadata": {},
   "outputs": [
    {
     "name": "stdout",
     "output_type": "stream",
     "text": [
      "[42 50 30 12 45 42 47 15 30 18 48 50 16  0 34 28 14 25  5 16 25  1  3  6\n",
      " 47 11 19 28 47 31 12 35  2 30 16 28 32 11  9 46 28 44  9 14 32 28 45 22\n",
      " 34  6 47  7 35 33 31 50 17 21 10 37 21  2 44 33  4 18  9 24 50 39 15 34\n",
      "  1 37 29 24  8 46 36 50 47 40 10 48 29 22 45 25 43  9 48 33 17 18 48 40\n",
      " 10 21 34 46]\n"
     ]
    }
   ],
   "source": [
    "#Write a program to create a 1D array having 100 random numbers between 0 to 50.\n",
    "\n",
    "arr_1=np.random.randint(0,51,100)\n",
    "print(arr_1)"
   ]
  },
  {
   "cell_type": "code",
   "execution_count": 80,
   "id": "6572be0a",
   "metadata": {},
   "outputs": [
    {
     "name": "stdout",
     "output_type": "stream",
     "text": [
      "shape (100,)\n",
      "Dimension 1\n"
     ]
    }
   ],
   "source": [
    "#Check the size and shape of the array\n",
    "print(\"shape\",arr_1.shape)\n",
    "print(\"Dimension\",arr_1.ndim)"
   ]
  },
  {
   "cell_type": "code",
   "execution_count": 110,
   "id": "45018aae",
   "metadata": {},
   "outputs": [
    {
     "name": "stdout",
     "output_type": "stream",
     "text": [
      "[[50 46 34 46 13]\n",
      " [11  2 25 28 29]\n",
      " [45 34  5 46  1]\n",
      " [35  8 35 47 43]\n",
      " [11 39 33 31 37]\n",
      " [35  5 32 31  0]\n",
      " [31 35 29 20  7]\n",
      " [12 10 41 22 44]\n",
      " [ 8 31 25 11 48]\n",
      " [ 0 18 34 15 15]\n",
      " [38 13 10 10 15]\n",
      " [17 21 10 29 21]\n",
      " [25 42 29 48 43]\n",
      " [36  3 21 30 49]\n",
      " [20  4 46  8 13]\n",
      " [ 2 45  2 17 31]\n",
      " [27 44 20 49  3]\n",
      " [23 45  9 43 11]\n",
      " [42 48 13 18 11]\n",
      " [37 35 44 22 17]]\n",
      "shape (20, 5)\n",
      "Dimension 2\n"
     ]
    }
   ],
   "source": [
    "#Reshape the above array into 20*5 shape and check the shape and size\n",
    "arr_1=np.random.randint(0,51,100).reshape(20,5)\n",
    "print(arr_1)\n",
    "print(\"shape\",arr_1.shape)\n",
    "print(\"Dimension\",arr_1.ndim)"
   ]
  },
  {
   "cell_type": "code",
   "execution_count": null,
   "id": "73030730",
   "metadata": {},
   "outputs": [],
   "source": []
  },
  {
   "cell_type": "code",
   "execution_count": 130,
   "id": "bf5ecf16",
   "metadata": {},
   "outputs": [
    {
     "name": "stdout",
     "output_type": "stream",
     "text": [
      "[[50 46 34 46 13]\n",
      " [11 10 25 28 29]\n",
      " [45 34 10 46 10]\n",
      " [35 10 35 47 43]\n",
      " [11 39 33 31 37]\n",
      " [35 10 32 31 10]\n",
      " [31 35 29 20 10]\n",
      " [12 10 41 22 44]\n",
      " [10 31 25 11 48]\n",
      " [10 18 34 15 15]\n",
      " [38 13 10 10 15]\n",
      " [17 21 10 29 21]\n",
      " [25 42 29 48 43]\n",
      " [36 10 21 30 49]\n",
      " [20 10 46 10 13]\n",
      " [10 45 10 17 31]\n",
      " [27 44 20 49 10]\n",
      " [23 45 10 43 11]\n",
      " [42 48 13 18 11]\n",
      " [37 35 44 22 17]]\n"
     ]
    }
   ],
   "source": [
    "#Replace the values less than 10 as 10.\n",
    "arr_1[arr_1<10]=10\n",
    "print(arr_1)"
   ]
  },
  {
   "cell_type": "code",
   "execution_count": 112,
   "id": "b9ed706c",
   "metadata": {},
   "outputs": [
    {
     "name": "stdout",
     "output_type": "stream",
     "text": [
      "50\n",
      "10\n",
      "26.45\n"
     ]
    }
   ],
   "source": [
    "#Write a code to check statistical details (min, max, mean values) of the above array\n",
    "print(arr_1.max())\n",
    "print(arr_1.min())\n",
    "print(arr_1.mean())"
   ]
  },
  {
   "cell_type": "markdown",
   "id": "fd885012",
   "metadata": {},
   "source": [
    "# Operations in Array"
   ]
  },
  {
   "cell_type": "code",
   "execution_count": 8,
   "id": "e74bff19",
   "metadata": {},
   "outputs": [
    {
     "name": "stdout",
     "output_type": "stream",
     "text": [
      "The BMI Values are : [1225. 1521. 1024. 1369. 1849. 1296. 1296.]\n"
     ]
    }
   ],
   "source": [
    "# Write a program to find BMI of the patients whose height and weight is provided in the list given below\n",
    "import numpy as np\n",
    "weights = [57, 69, 54, 65 ,71, 62, 56]\n",
    "heights = [1.59, 1.75, 1.66, 1.74, 1.64, 1.72, 1.53]\n",
    "weight_array=np.array(weights)\n",
    "height_array=np.array(heights)\n",
    "bmi=(weight_array//height_array)**2\n",
    "print(\"The BMI Values are :\",bmi)\n"
   ]
  },
  {
   "cell_type": "markdown",
   "id": "3946b0b4",
   "metadata": {},
   "source": [
    "# Arthamatic operations in array"
   ]
  },
  {
   "cell_type": "code",
   "execution_count": 132,
   "id": "3f3b2e40",
   "metadata": {},
   "outputs": [
    {
     "name": "stdout",
     "output_type": "stream",
     "text": [
      "[ 0 -2 42 -2 34 -2 26 -2 38 94 -2 78 76]\n"
     ]
    }
   ],
   "source": [
    "#Replace all odd numbers in array with -2\n",
    "arr = np.array([0, 31, 42, 43, 34, 45, 26, 27, 38, 94, 65, 78, 76])\n",
    "arr[arr%2!=0]=-2\n",
    "print(arr)"
   ]
  },
  {
   "cell_type": "code",
   "execution_count": 135,
   "id": "911701ce",
   "metadata": {},
   "outputs": [
    {
     "name": "stdout",
     "output_type": "stream",
     "text": [
      "[15 25 13]\n"
     ]
    }
   ],
   "source": [
    "#Write a program to calculate the sum of each column\n",
    "A = [[1, 4, 8], [5, 7, 3], [9, 14, 2]]\n",
    "A=np.array(A)\n",
    "print(A.sum(axis=0))"
   ]
  },
  {
   "cell_type": "code",
   "execution_count": 138,
   "id": "99c1b78c",
   "metadata": {},
   "outputs": [
    {
     "name": "stdout",
     "output_type": "stream",
     "text": [
      "[2 7 2 6 0 3 5 0 4]\n"
     ]
    }
   ],
   "source": [
    "#Write a code to get the element-wise remainder of an array after division by 8\n",
    "num = [42, 87, 90, 14, 32, 75, 61, 80, 92]\n",
    "num=np.array(num)\n",
    "print(num%8)"
   ]
  },
  {
   "cell_type": "markdown",
   "id": "b9aed796",
   "metadata": {},
   "source": [
    "# Concatenation of array"
   ]
  },
  {
   "cell_type": "code",
   "execution_count": 142,
   "id": "2e41dca4",
   "metadata": {},
   "outputs": [
    {
     "name": "stdout",
     "output_type": "stream",
     "text": [
      "(2, 5)\n",
      "(2, 5)\n"
     ]
    },
    {
     "data": {
      "text/plain": [
       "array([[0, 1, 2, 3, 4],\n",
       "       [5, 6, 7, 8, 9],\n",
       "       [1, 1, 1, 1, 1],\n",
       "       [1, 1, 1, 1, 1]])"
      ]
     },
     "execution_count": 142,
     "metadata": {},
     "output_type": "execute_result"
    }
   ],
   "source": [
    "#Stack two arrays vertically\n",
    "array1 = np.arange(10).reshape(2,-1)\n",
    "array2 = np.repeat(1, 10).reshape(2,-1)\n",
    "print(array1.shape)\n",
    "print(array2.shape)\n",
    "np.concatenate([array1,array2])"
   ]
  },
  {
   "cell_type": "markdown",
   "id": "0d5eee28",
   "metadata": {},
   "source": [
    "# Spliting of array"
   ]
  },
  {
   "cell_type": "code",
   "execution_count": 156,
   "id": "91ae02ad",
   "metadata": {},
   "outputs": [
    {
     "name": "stdout",
     "output_type": "stream",
     "text": [
      "(6, 2)\n"
     ]
    },
    {
     "data": {
      "text/plain": [
       "[array([[ 4,  7],\n",
       "        [ 2, -3]]),\n",
       " array([[8, 1],\n",
       "        [0, 9]]),\n",
       " array([[ 5, -1],\n",
       "        [ 8,  3]])]"
      ]
     },
     "execution_count": 156,
     "metadata": {},
     "output_type": "execute_result"
    }
   ],
   "source": [
    "#Write a code to divide the array into three sub-arrays containing an equal number of rows\n",
    "A = [[4, 7], [2, -3], [8, 1], [0, 9], [5,-1], [8, 3]]\n",
    "A = np.array(A)\n",
    "print(A.shape)\n",
    "np.vsplit(A,3)"
   ]
  },
  {
   "cell_type": "code",
   "execution_count": 159,
   "id": "ab02f2a4",
   "metadata": {},
   "outputs": [
    {
     "name": "stdout",
     "output_type": "stream",
     "text": [
      "(3, 4)\n",
      "[array([[ 8,  7],\n",
      "       [ 2, -3],\n",
      "       [ 8,  5]]), array([[ 0,  9],\n",
      "       [ 5, 10],\n",
      "       [-1,  3]])]\n",
      "[array([[ 8,  7],\n",
      "       [ 2, -3],\n",
      "       [ 8,  5]]), array([[ 0,  9],\n",
      "       [ 5, 10],\n",
      "       [-1,  3]])]\n"
     ]
    }
   ],
   "source": [
    "#Write a program to divide the array into two sub-arrays containing an equal number of columns\n",
    "B = [[8, 7, 0, 9], [2, -3, 5, 10], [8, 5, -1,3]]\n",
    "B = np.array(B)\n",
    "print(B.shape)\n",
    "print(np.split(B,2,axis=1))\n",
    "print(np.hsplit(B,2))\n"
   ]
  },
  {
   "cell_type": "markdown",
   "id": "3c32c7e4",
   "metadata": {},
   "source": [
    "# Data from url"
   ]
  },
  {
   "cell_type": "code",
   "execution_count": 15,
   "id": "b96058d9",
   "metadata": {},
   "outputs": [
    {
     "name": "stdout",
     "output_type": "stream",
     "text": [
      "************************************************************\n",
      "shape (5, 4)\n",
      "************************************************************\n",
      "[5.1 4.9 4.7 4.6 5.  5.4 4.6 5.  4.4 4.9 5.4 4.8 4.8 4.3 5.8 5.7 5.4 5.1\n",
      " 5.7 5.1 5.4 5.1 4.6 5.1 4.8 5.  5.  5.2 5.2 4.7 4.8 5.4 5.2 5.5 4.9 5.\n",
      " 5.5 4.9 4.4 5.1 5.  4.5 4.4 5.  5.1 4.8 5.1 4.6 5.3 5.  7.  6.4 6.9 5.5\n",
      " 6.5 5.7 6.3 4.9 6.6 5.2 5.  5.9 6.  6.1 5.6 6.7 5.6 5.8 6.2 5.6 5.9 6.1\n",
      " 6.3 6.1 6.4 6.6 6.8 6.7 6.  5.7 5.5 5.5 5.8 6.  5.4 6.  6.7 6.3 5.6 5.5\n",
      " 5.5 6.1 5.8 5.  5.6 5.7 5.7 6.2 5.1 5.7 6.3 5.8 7.1 6.3 6.5 7.6 4.9 7.3\n",
      " 6.7 7.2 6.5 6.4 6.8 5.7 5.8 6.4 6.5 7.7 7.7 6.  6.9 5.6 7.7 6.3 6.7 7.2\n",
      " 6.2 6.1 6.4 7.2 7.4 7.9 6.4 6.3 6.1 7.7 6.3 6.4 6.  6.9 6.7 6.9 5.8 6.8\n",
      " 6.7 6.7 6.3 6.5 6.2 5.9]\n",
      "************************************************************\n",
      "max and min: 7.9 4.3\n",
      "[0.22222222 0.16666667 0.11111111 0.08333333 0.19444444 0.30555556\n",
      " 0.08333333 0.19444444 0.02777778 0.16666667]\n",
      "************************************************************\n",
      "[5.1 5.8 6.4]\n",
      "************************************************************\n",
      "50\n",
      "************************************************************\n",
      "no of missing values 14\n",
      "Position of missing values: \n",
      " (array([  4,  15,  23,  25,  26,  70,  76,  85,  96, 105, 109, 126, 132,\n",
      "       142], dtype=int64),)\n",
      "************************************************************\n",
      "[[4.9 3.  1.4 0.2]\n",
      " [4.7 3.2 1.3 0.2]\n",
      " [4.6 3.1 1.5 0.2]\n",
      " [4.6 3.4 1.4 0.3]\n",
      " [4.4 2.9 1.4 0.2]\n",
      " [4.9 3.1 1.5 0.1]\n",
      " [4.8 3.4 nan 0.2]\n",
      " [4.8 3.  1.4 0.1]\n",
      " [4.3 3.  1.1 0.1]\n",
      " [4.6 3.6 1.  0.2]\n",
      " [4.8 3.4 1.9 0.2]\n",
      " [4.7 nan 1.6 0.2]\n",
      " [4.8 3.1 1.6 0.2]\n",
      " [4.9 3.1 1.5 nan]\n",
      " [4.9 3.1 1.5 0.1]\n",
      " [4.4 3.  1.3 0.2]\n",
      " [4.5 2.3 nan 0.3]\n",
      " [4.4 3.2 1.3 0.2]\n",
      " [4.8 3.  1.4 0.3]\n",
      " [4.6 nan 1.4 0.2]\n",
      " [4.9 nan 3.3 1. ]\n",
      " [4.9 2.5 4.5 1.7]]\n",
      "************************************************************\n"
     ]
    }
   ],
   "source": [
    "#Load a data from the given url as a numpy array\n",
    "# load the dataset and while loading the data pass 'float' to the dtype parameter\n",
    "url = 'https://archive.ics.uci.edu/ml/machine-learning-databases/iris/iris.data'\n",
    "import numpy as np\n",
    "#to load the data from url\n",
    "iris=np.genfromtxt(url,delimiter=',',dtype=float,usecols=[0,1,2,3])\n",
    "names=('sepallength','sepalwidth','petallength','petalwidth')\n",
    "#print(iris)\n",
    "\n",
    "#Check the shape and first 5 rows\n",
    "print(\"******\"*10)\n",
    "hape=iris[0:5]\n",
    "print(\"shape\",hape.shape)\n",
    "\n",
    "# Write a code to extract text column \"sepallength\" from the imported iris array.\n",
    "print(\"******\"*10)\n",
    "arr1=iris[:,0]\n",
    "print(arr1)\n",
    "\n",
    "#Write a code to normalize an array so the values range exactly between 0 and 1.\n",
    "print(\"******\"*10)\n",
    "sl_max=arr1.max()\n",
    "sl_min=arr1.min()\n",
    "print(\"max and min:\",sl_max,sl_min)\n",
    "Normalize=(arr1-sl_min)/(sl_max-sl_min)\n",
    "print(Normalize[:10])\n",
    "\n",
    "#Find the 25th, 50th, and 75th percentile of iris's sepallength.\n",
    "print(\"******\"*10)\n",
    "print(np.percentile(arr1,q=[25,50,75]))\n",
    "\n",
    "#Insert np.nan values at 50 random positions in iris datatset.\n",
    "print(\"******\"*10)\n",
    "index_nan=np.random.choice(iris.size,50,replace=False)#adding nan to the data\n",
    "iris.ravel()[index_nan]=np.nan#1d array of iris data\n",
    "print(np.isnan(iris).sum())\n",
    "\n",
    "#Find the number and position of missing values in the column 'sepallength'.\n",
    "print(\"******\"*10)\n",
    "print(\"no of missing values\",np.isnan(iris[:,0]).sum())\n",
    "print(\"Position of missing values: \\n\",np.where(np.isnan(iris[:,0])))#where-to find the index\n",
    "\n",
    "#Retrieve the rows of iris that has sepallength(1st column) < 5\n",
    "print(\"******\"*10)\n",
    "print(iris[iris[:,0]<5])\n",
    "\n",
    "#Select rows that does not contain any missing values.\n",
    "print(\"******\"*10)\n",
    "\n"
   ]
  },
  {
   "cell_type": "code",
   "execution_count": 21,
   "id": "1c838711",
   "metadata": {},
   "outputs": [
    {
     "name": "stdout",
     "output_type": "stream",
     "text": [
      "[ True  True  True  True False  True  True  True  True  True  True False\n",
      "  True  True  True False  True  True False False  True  True  True False\n",
      "  True False False  True  True False  True  True  True False False  True\n",
      "  True  True  True  True  True False  True False False  True False False\n",
      "  True  True False False  True False False  True  True False False  True\n",
      "  True  True  True  True False  True  True  True  True  True False False\n",
      "  True  True  True  True False  True False  True  True  True  True  True\n",
      "  True False False  True False  True  True  True  True  True  True  True\n",
      " False  True  True  True  True  True  True  True  True False  True  True\n",
      "  True False  True  True  True  True  True  True  True  True  True  True\n",
      "  True False  True  True False  True False  True False  True  True  True\n",
      " False False  True  True  True  True  True  True  True  True False False\n",
      "  True  True  True  True False False]\n",
      "[[5.1 3.5 1.4 0.2]\n",
      " [4.9 3.  1.4 0.2]\n",
      " [4.7 3.2 1.3 0.2]\n",
      " [4.6 3.1 1.5 0.2]\n",
      " [5.4 3.9 1.7 0.4]\n",
      " [4.6 3.4 1.4 0.3]\n",
      " [5.  3.4 1.5 0.2]\n",
      " [4.4 2.9 1.4 0.2]\n",
      " [4.9 3.1 1.5 0.1]\n",
      " [5.4 3.7 1.5 0.2]\n",
      " [4.8 3.  1.4 0.1]\n",
      " [4.3 3.  1.1 0.1]\n",
      " [5.8 4.  1.2 0.2]\n",
      " [5.4 3.9 1.3 0.4]\n",
      " [5.1 3.5 1.4 0.3]\n",
      " [5.4 3.4 1.7 0.2]\n",
      " [5.1 3.7 1.5 0.4]\n",
      " [4.6 3.6 1.  0.2]\n",
      " [4.8 3.4 1.9 0.2]\n",
      " [5.2 3.5 1.5 0.2]\n",
      " [5.2 3.4 1.4 0.2]\n",
      " [4.8 3.1 1.6 0.2]\n",
      " [5.4 3.4 1.5 0.4]\n",
      " [5.2 4.1 1.5 0.1]\n",
      " [5.  3.2 1.2 0.2]\n",
      " [5.5 3.5 1.3 0.2]\n",
      " [4.9 3.1 1.5 0.1]\n",
      " [4.4 3.  1.3 0.2]\n",
      " [5.1 3.4 1.5 0.2]\n",
      " [5.  3.5 1.3 0.3]\n",
      " [4.4 3.2 1.3 0.2]\n",
      " [4.8 3.  1.4 0.3]\n",
      " [5.3 3.7 1.5 0.2]\n",
      " [5.  3.3 1.4 0.2]\n",
      " [6.9 3.1 4.9 1.5]\n",
      " [5.7 2.8 4.5 1.3]\n",
      " [6.3 3.3 4.7 1.6]\n",
      " [5.2 2.7 3.9 1.4]\n",
      " [5.  2.  3.5 1. ]\n",
      " [5.9 3.  4.2 1.5]\n",
      " [6.  2.2 4.  1. ]\n",
      " [6.1 2.9 4.7 1.4]\n",
      " [6.7 3.1 4.4 1.4]\n",
      " [5.6 3.  4.5 1.5]\n",
      " [5.8 2.7 4.1 1. ]\n",
      " [6.2 2.2 4.5 1.5]\n",
      " [5.6 2.5 3.9 1.1]\n",
      " [6.3 2.5 4.9 1.5]\n",
      " [6.1 2.8 4.7 1.2]\n",
      " [6.4 2.9 4.3 1.3]\n",
      " [6.6 3.  4.4 1.4]\n",
      " [6.7 3.  5.  1.7]\n",
      " [5.7 2.6 3.5 1. ]\n",
      " [5.5 2.4 3.8 1.1]\n",
      " [5.5 2.4 3.7 1. ]\n",
      " [5.8 2.7 3.9 1.2]\n",
      " [6.  2.7 5.1 1.6]\n",
      " [5.4 3.  4.5 1.5]\n",
      " [6.3 2.3 4.4 1.3]\n",
      " [5.5 2.5 4.  1.3]\n",
      " [5.5 2.6 4.4 1.2]\n",
      " [6.1 3.  4.6 1.4]\n",
      " [5.8 2.6 4.  1.2]\n",
      " [5.  2.3 3.3 1. ]\n",
      " [5.6 2.7 4.2 1.3]\n",
      " [5.7 3.  4.2 1.2]\n",
      " [6.2 2.9 4.3 1.3]\n",
      " [5.1 2.5 3.  1.1]\n",
      " [5.7 2.8 4.1 1.3]\n",
      " [6.3 3.3 6.  2.5]\n",
      " [5.8 2.7 5.1 1.9]\n",
      " [7.1 3.  5.9 2.1]\n",
      " [6.3 2.9 5.6 1.8]\n",
      " [6.5 3.  5.8 2.2]\n",
      " [4.9 2.5 4.5 1.7]\n",
      " [7.3 2.9 6.3 1.8]\n",
      " [6.7 2.5 5.8 1.8]\n",
      " [6.5 3.2 5.1 2. ]\n",
      " [6.4 2.7 5.3 1.9]\n",
      " [6.8 3.  5.5 2.1]\n",
      " [5.7 2.5 5.  2. ]\n",
      " [5.8 2.8 5.1 2.4]\n",
      " [6.4 3.2 5.3 2.3]\n",
      " [6.5 3.  5.5 1.8]\n",
      " [7.7 3.8 6.7 2.2]\n",
      " [7.7 2.6 6.9 2.3]\n",
      " [6.  2.2 5.  1.5]\n",
      " [6.9 3.2 5.7 2.3]\n",
      " [7.7 2.8 6.7 2. ]\n",
      " [6.3 2.7 4.9 1.8]\n",
      " [7.2 3.2 6.  1.8]\n",
      " [6.1 3.  4.9 1.8]\n",
      " [7.2 3.  5.8 1.6]\n",
      " [7.4 2.8 6.1 1.9]\n",
      " [7.9 3.8 6.4 2. ]\n",
      " [6.1 2.6 5.6 1.4]\n",
      " [7.7 3.  6.1 2.3]\n",
      " [6.3 3.4 5.6 2.4]\n",
      " [6.4 3.1 5.5 1.8]\n",
      " [6.  3.  4.8 1.8]\n",
      " [6.9 3.1 5.4 2.1]\n",
      " [6.7 3.1 5.6 2.4]\n",
      " [6.9 3.1 5.1 2.3]\n",
      " [6.7 3.3 5.7 2.5]\n",
      " [6.7 3.  5.2 2.3]\n",
      " [6.3 2.5 5.  1.9]\n",
      " [6.5 3.  5.2 2. ]]\n"
     ]
    }
   ],
   "source": [
    "#Select rows that does not contain any missing values.\n",
    "drop_na=np.array([~np.any(np.isnan(row)) for row in iris])\n",
    "print(drop_na)\n",
    "print(iris[drop_na])"
   ]
  },
  {
   "cell_type": "code",
   "execution_count": 28,
   "id": "5d7c77e6",
   "metadata": {},
   "outputs": [
    {
     "name": "stdout",
     "output_type": "stream",
     "text": [
      "[[False False  True]\n",
      " [False False False]\n",
      " [False  True False]]\n",
      "(array([0, 2], dtype=int64), array([2, 1], dtype=int64))\n"
     ]
    }
   ],
   "source": [
    "#use of isnan and where \n",
    "a=np.array([[1,2,np.nan],[4,8,6],[2,np.nan,2]])\n",
    "print(np.isnan(a)) #to verify non values\n",
    "print(np.where(np.isnan(a)))#Position of non values\n"
   ]
  },
  {
   "cell_type": "code",
   "execution_count": 29,
   "id": "af75dd85",
   "metadata": {},
   "outputs": [
    {
     "name": "stdout",
     "output_type": "stream",
     "text": [
      "True\n",
      "False\n",
      "True\n"
     ]
    }
   ],
   "source": [
    "#use of any and all\n",
    "b=np.array([0,1,5,4,6,10])\n",
    "print(np.any(b%2!=0))\n",
    "print(np.all(b%2!=0))\n",
    "print(np.any(b>=0))"
   ]
  },
  {
   "cell_type": "code",
   "execution_count": 31,
   "id": "be76693e",
   "metadata": {},
   "outputs": [
    {
     "name": "stdout",
     "output_type": "stream",
     "text": [
      "[ 1.  2. nan  4.  8.  6.  2. nan  2.]\n",
      "[[ 1.  2. nan]\n",
      " [ 4.  8.  6.]\n",
      " [ 2. nan  2.]]\n"
     ]
    }
   ],
   "source": [
    "print(a.ravel()) #use of ravel\n",
    "print(a)"
   ]
  },
  {
   "cell_type": "code",
   "execution_count": null,
   "id": "a7568136",
   "metadata": {},
   "outputs": [],
   "source": []
  }
 ],
 "metadata": {
  "kernelspec": {
   "display_name": "Python 3 (ipykernel)",
   "language": "python",
   "name": "python3"
  },
  "language_info": {
   "codemirror_mode": {
    "name": "ipython",
    "version": 3
   },
   "file_extension": ".py",
   "mimetype": "text/x-python",
   "name": "python",
   "nbconvert_exporter": "python",
   "pygments_lexer": "ipython3",
   "version": "3.11.5"
  }
 },
 "nbformat": 4,
 "nbformat_minor": 5
}
