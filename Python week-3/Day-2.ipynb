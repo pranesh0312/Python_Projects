{
 "cells": [
  {
   "cell_type": "markdown",
   "id": "9bdd19e1",
   "metadata": {},
   "source": [
    "# Week-2-->Revision"
   ]
  },
  {
   "cell_type": "markdown",
   "id": "3f1f25f9",
   "metadata": {},
   "source": [
    "# Functions"
   ]
  },
  {
   "cell_type": "code",
   "execution_count": 1,
   "id": "7d821a37",
   "metadata": {},
   "outputs": [
    {
     "name": "stdout",
     "output_type": "stream",
     "text": [
      "672\n"
     ]
    }
   ],
   "source": [
    "#Write a Python function to multiply all the numbers in a list.\n",
    "def mul(list):\n",
    "    output=1\n",
    "    for i in list:\n",
    "        output=output*i\n",
    "    return output\n",
    "li=[1,4,8,7,3]\n",
    "print(mul(li))\n",
    "\n"
   ]
  },
  {
   "cell_type": "code",
   "execution_count": 27,
   "id": "73c30c3e",
   "metadata": {},
   "outputs": [
    {
     "ename": "IndentationError",
     "evalue": "expected an indented block after 'for' statement on line 7 (1092754203.py, line 9)",
     "output_type": "error",
     "traceback": [
      "\u001b[1;36m  Cell \u001b[1;32mIn[27], line 9\u001b[1;36m\u001b[0m\n\u001b[1;33m    for_loop(\"pranesh\")\u001b[0m\n\u001b[1;37m                       ^\u001b[0m\n\u001b[1;31mIndentationError\u001b[0m\u001b[1;31m:\u001b[0m expected an indented block after 'for' statement on line 7\n"
     ]
    }
   ],
   "source": [
    "#Write a Python function to reverse a string \n",
    "# i) use for loop\n",
    "# ii) use while loop \n",
    "\n",
    "'''def for_loop(str):\n",
    "    output=\"\"\n",
    "    for i in str:\n",
    "        \n",
    "        \n",
    "for_loop(\"pranesh\")'''\n",
    "\n",
    "def while_loop(s2):\n",
    "    output=\"\"\n",
    "    i=0\n",
    "    while i<len(s2):\n",
    "        output=s1[i]+output\n",
    "        i=i+1\n",
    "    return output\n",
    "while_loop\n",
    "\n",
    "    \n",
    "\n",
    "    \n",
    "    \n",
    "    \n",
    "    "
   ]
  },
  {
   "cell_type": "code",
   "execution_count": 19,
   "id": "84177738",
   "metadata": {},
   "outputs": [
    {
     "name": "stdout",
     "output_type": "stream",
     "text": [
      "add: 50\n",
      "subtract: 10\n"
     ]
    },
    {
     "data": {
      "text/plain": [
       "<function __main__.add_subtract(n1, n2)>"
      ]
     },
     "execution_count": 19,
     "metadata": {},
     "output_type": "execute_result"
    }
   ],
   "source": [
    "#Write a function to add and subtract two variables\n",
    "def add_subtract(n1,n2):\n",
    "    print(\"add:\",n1+n2)\n",
    "    print(\"subtract:\",n1-n2)\n",
    "    return add_subtract\n",
    "add_subtract(30,20)\n",
    "    "
   ]
  },
  {
   "cell_type": "code",
   "execution_count": 88,
   "id": "87ee865e",
   "metadata": {},
   "outputs": [
    {
     "name": "stdout",
     "output_type": "stream",
     "text": [
      "number divisible by 12\n",
      "not divisible by 12\n"
     ]
    },
    {
     "data": {
      "text/plain": [
       "True"
      ]
     },
     "execution_count": 88,
     "metadata": {},
     "output_type": "execute_result"
    }
   ],
   "source": [
    "#Write a function to check whether the given number is divisible by 12 or not\n",
    "def divisible_by_12(num):\n",
    "    if(num%12==0):\n",
    "        print(\"number divisible by 12\")\n",
    "    else:\n",
    "        print(\"not divisible by 12\")\n",
    "    return num%2==0\n",
    "divisible_by_12(72)\n",
    "divisible_by_12(62)"
   ]
  },
  {
   "cell_type": "code",
   "execution_count": 60,
   "id": "f5e068e6",
   "metadata": {},
   "outputs": [
    {
     "name": "stdout",
     "output_type": "stream",
     "text": [
      "no of days: 150\n",
      "no of weeks: 20\n"
     ]
    }
   ],
   "source": [
    "#Write a function to calculate the number of days and weeks given the number of months\n",
    "def day_week(month):\n",
    "    print(\"no of days:\",month*30)\n",
    "    print(\"no of weeks:\",month*4)\n",
    "day_week(5)\n"
   ]
  },
  {
   "cell_type": "code",
   "execution_count": 106,
   "id": "87f002f4",
   "metadata": {},
   "outputs": [
    {
     "name": "stdout",
     "output_type": "stream",
     "text": [
      "120\n",
      "[1, 2, 3, 4, 5, 6]\n"
     ]
    }
   ],
   "source": [
    "#Write a Python function to calculate the factorial of a given argument?\n",
    "def factorial(number):\n",
    "    fact=1\n",
    "    for i in range(1,number+1):\n",
    "        fact=fact*i\n",
    "    return fact\n",
    "print(factorial(5))\n",
    "\n",
    "'''by list comphrension\n",
    "num=6\n",
    "l1=[i for i in range(1,num+1)]\n",
    "print(l1)'''\n",
    "\n",
    "#By using recursion function\n",
    "\n"
   ]
  },
  {
   "cell_type": "code",
   "execution_count": 82,
   "id": "7e2693e7",
   "metadata": {},
   "outputs": [
    {
     "name": "stdout",
     "output_type": "stream",
     "text": [
      "[1, 2, 3, 4, 5, 34, 7, 6, 654]\n"
     ]
    }
   ],
   "source": [
    "#Write a Python function to find the unique elements from the list\n",
    "l1=[1, 2, 3, 3, 3, 3, 4, 5, 4, 2, 4, 2, 4, 4, 2, 4, 5, 4, 34, 654, 5, 7, 6, 5, 4, 3]\n",
    "def unique(numbers):\n",
    "        s1=set(l1)\n",
    "        l2=list(s1)\n",
    "        print(l2)\n",
    "unique(l1)\n"
   ]
  },
  {
   "cell_type": "code",
   "execution_count": 86,
   "id": "4f0f6e39",
   "metadata": {},
   "outputs": [
    {
     "name": "stdout",
     "output_type": "stream",
     "text": [
      "The simple interest is : 2625.0\n"
     ]
    },
    {
     "data": {
      "text/plain": [
       "2625.0"
      ]
     },
     "execution_count": 86,
     "metadata": {},
     "output_type": "execute_result"
    }
   ],
   "source": [
    "#Required arguments: - Write a function to calculate Simple Interest which accepts three arguments and returns the simple interest accordingly\n",
    "def simple_intrest(principle,intrest,time):\n",
    "    SI=(principle*intrest*time)/100\n",
    "    print(\"The simple interest is :\",SI)\n",
    "    return SI\n",
    "simple_intrest(35000,2.5,3)"
   ]
  },
  {
   "cell_type": "code",
   "execution_count": 149,
   "id": "89289927",
   "metadata": {},
   "outputs": [
    {
     "name": "stdout",
     "output_type": "stream",
     "text": [
      "pranesh ,how are you?\n"
     ]
    }
   ],
   "source": [
    "#Keyword arguments: - Write a function which accepts arguments as keyword arguments. The two arguments are are **name** and **message.** Expected output is \"printing the message with 'name' and  'message'\"\n",
    "def keyword_argument(name,message):\n",
    "    print(name,message)\n",
    "    \n",
    "keyword_argument(name=\"pranesh\",message=\",how are you?\")\n"
   ]
  },
  {
   "cell_type": "code",
   "execution_count": 99,
   "id": "59c7f3e9",
   "metadata": {},
   "outputs": [
    {
     "name": "stdout",
     "output_type": "stream",
     "text": [
      "my name is  Pranesh and my age is  23\n"
     ]
    }
   ],
   "source": [
    "#Default Arguments: - Write a function which will accept first argument **name** as a keyword argument and age as the default argument. Expected output is \"My name is 'name' and age is '75'\"\n",
    "def default_argument(name,age=23):\n",
    "    print(\"my name is \",name+ \" and my age is \",age)\n",
    "default_argument(\"Pranesh\")\n"
   ]
  },
  {
   "cell_type": "markdown",
   "id": "c87db9f4",
   "metadata": {},
   "source": [
    "# Lambda Function"
   ]
  },
  {
   "cell_type": "code",
   "execution_count": 124,
   "id": "a5a0d649",
   "metadata": {},
   "outputs": [
    {
     "name": "stdout",
     "output_type": "stream",
     "text": [
      "enter the value25\n",
      "odd\n"
     ]
    }
   ],
   "source": [
    "#Get a number as an input from a user, identify whether it is odd or even? Print the message \"odd\" or \"even\" accordingly.\n",
    "odd_even=lambda x:'even' if x%2==0 else 'odd'\n",
    "num=(int(input(\"enter the value\")))\n",
    "print(odd_even(num))"
   ]
  },
  {
   "cell_type": "code",
   "execution_count": 128,
   "id": "a50d4f4d",
   "metadata": {},
   "outputs": [
    {
     "name": "stdout",
     "output_type": "stream",
     "text": [
      "enter the number:4\n",
      "16\n"
     ]
    }
   ],
   "source": [
    "#Accept an input from user and square it\n",
    "square=lambda x:x**2\n",
    "nu1=(int(input(\"enter the number:\")))\n",
    "print(square(nu1))"
   ]
  },
  {
   "cell_type": "code",
   "execution_count": 152,
   "id": "ec1a213b",
   "metadata": {},
   "outputs": [
    {
     "name": "stdout",
     "output_type": "stream",
     "text": [
      "enter the number:25\n",
      "False\n"
     ]
    }
   ],
   "source": [
    "#Using logical operators, write a function that accepts an input from a user. If the input is between 0 and 10 print **True** otherwise print **False** \n",
    "op=lambda x:x>0 and x<10 \n",
    "num2=(int(input(\"enter the number:\")))\n",
    "print(op(num2))\n"
   ]
  },
  {
   "cell_type": "code",
   "execution_count": 137,
   "id": "e81e4b01",
   "metadata": {},
   "outputs": [
    {
     "name": "stdout",
     "output_type": "stream",
     "text": [
      "enter the number:4\n",
      "9\n"
     ]
    }
   ],
   "source": [
    "#Accept an integer input from a user, add 5 to it and print it back?\n",
    "add=lambda x:x+5\n",
    "num3=(int(input(\"enter the number:\")))\n",
    "print(add(num3))"
   ]
  },
  {
   "cell_type": "markdown",
   "id": "acb3b5e1",
   "metadata": {},
   "source": [
    "# MAP"
   ]
  },
  {
   "cell_type": "code",
   "execution_count": 139,
   "id": "f710e6d0",
   "metadata": {},
   "outputs": [
    {
     "name": "stdout",
     "output_type": "stream",
     "text": [
      "[53, 78, 105]\n"
     ]
    }
   ],
   "source": [
    "#Add the following two lists using map() \n",
    "l1=[12,24,36]\n",
    "l2=[41,54,69]\n",
    "add1=list(map(lambda x,y:x+y,l1,l2))\n",
    "print(add1)"
   ]
  },
  {
   "cell_type": "code",
   "execution_count": 141,
   "id": "c2ecfbb7",
   "metadata": {},
   "outputs": [
    {
     "name": "stdout",
     "output_type": "stream",
     "text": [
      "[1, 4, 9, 16, 25, 36, 49]\n"
     ]
    }
   ],
   "source": [
    "# Use Lambda and map functions to square each element in the given list\n",
    "\n",
    "l3=[1, 2, 3, 4, 5, 6, 7]\n",
    "square_num=list(map(lambda x:x**2,l3))\n",
    "print(square_num)\n"
   ]
  },
  {
   "cell_type": "code",
   "execution_count": 143,
   "id": "9a4b85d2",
   "metadata": {},
   "outputs": [
    {
     "name": "stdout",
     "output_type": "stream",
     "text": [
      "['odd', 'even', 'odd', 'even', 'odd', 'even', 'odd']\n"
     ]
    }
   ],
   "source": [
    "#From the given list, using map function, identify odd and even numbers  \n",
    "l4=[1, 2, 3, 4, 5, 6, 7]\n",
    "ev_od=list(map(lambda x:\"even\" if x%2==0 else \"odd\",l4))\n",
    "print(ev_od)\n"
   ]
  },
  {
   "cell_type": "code",
   "execution_count": 145,
   "id": "b2fd4d9c",
   "metadata": {},
   "outputs": [
    {
     "name": "stdout",
     "output_type": "stream",
     "text": [
      "[1, 1, 1, 2, 62, 0, 3]\n"
     ]
    }
   ],
   "source": [
    "#From the given list below, perform the Floor division using 7 on each elements of the list  \n",
    "l5=[11, 12, 13, 14, 435, 6, 27]\n",
    "floor_div=list(map(lambda x:x//7,l5))\n",
    "print(floor_div)"
   ]
  },
  {
   "cell_type": "markdown",
   "id": "a2f049e7",
   "metadata": {},
   "source": [
    "# FILTER"
   ]
  },
  {
   "cell_type": "code",
   "execution_count": 147,
   "id": "7f78d483",
   "metadata": {},
   "outputs": [
    {
     "name": "stdout",
     "output_type": "stream",
     "text": [
      "[3, 43, 455, 43, 543]\n"
     ]
    }
   ],
   "source": [
    "#Using the given list filter the numbers which are not divisible by 2  \n",
    "l_1=[3,12, 24, 36,43,654,65432,2,654,455,43,543]\n",
    "divisible_2=list(filter(lambda x:x%2==1,l_1))\n",
    "print(divisible_2)"
   ]
  },
  {
   "cell_type": "code",
   "execution_count": 150,
   "id": "8c5a2977",
   "metadata": {},
   "outputs": [
    {
     "name": "stdout",
     "output_type": "stream",
     "text": [
      "[2, 4, 6]\n"
     ]
    }
   ],
   "source": [
    "#For a given list filter the even numbers.  \n",
    "l_2=[1, 2, 3, 4, 5, 6]\n",
    "even_num=list(filter(lambda x:x%2==0,l_2))\n",
    "print(even_num)"
   ]
  },
  {
   "cell_type": "code",
   "execution_count": 190,
   "id": "5e34fa0d",
   "metadata": {},
   "outputs": [
    {
     "ename": "TypeError",
     "evalue": "unsupported operand type(s) for %: 'list' and 'int'",
     "output_type": "error",
     "traceback": [
      "\u001b[1;31m---------------------------------------------------------------------------\u001b[0m",
      "\u001b[1;31mTypeError\u001b[0m                                 Traceback (most recent call last)",
      "Cell \u001b[1;32mIn[190], line 8\u001b[0m\n\u001b[0;32m      6\u001b[0m     \u001b[38;5;28;01melse\u001b[39;00m:\n\u001b[0;32m      7\u001b[0m         \u001b[38;5;28;01mreturn\u001b[39;00m \u001b[38;5;28;01mFalse\u001b[39;00m\n\u001b[1;32m----> 8\u001b[0m Even_value\u001b[38;5;241m=\u001b[39m\u001b[38;5;28mlist\u001b[39m(\u001b[38;5;28mfilter\u001b[39m(even(l_3)))\n\u001b[0;32m      9\u001b[0m \u001b[38;5;28mprint\u001b[39m(Even_value)\n",
      "Cell \u001b[1;32mIn[190], line 4\u001b[0m, in \u001b[0;36meven\u001b[1;34m(list_1)\u001b[0m\n\u001b[0;32m      3\u001b[0m \u001b[38;5;28;01mdef\u001b[39;00m \u001b[38;5;21meven\u001b[39m(list_1):\n\u001b[1;32m----> 4\u001b[0m     \u001b[38;5;28;01mif\u001b[39;00m (list_1)\u001b[38;5;241m%\u001b[39m\u001b[38;5;241m2\u001b[39m\u001b[38;5;241m==\u001b[39m\u001b[38;5;241m0\u001b[39m:\n\u001b[0;32m      5\u001b[0m         \u001b[38;5;28;01mreturn\u001b[39;00m \u001b[38;5;28;01mTrue\u001b[39;00m\n\u001b[0;32m      6\u001b[0m     \u001b[38;5;28;01melse\u001b[39;00m:\n",
      "\u001b[1;31mTypeError\u001b[0m: unsupported operand type(s) for %: 'list' and 'int'"
     ]
    }
   ],
   "source": [
    "#For a given list  filter the even numbers using a user defined function.\n",
    "l_3=[2,3,5,3,6,3,7,4,6,7]\n",
    "def even(list_1):\n",
    "    if (list_1)%2==0:\n",
    "        return True\n",
    "    else:\n",
    "        return False\n",
    "Even_value=list(filter(even(l_3)))\n",
    "print(Even_value)\n",
    "    \n",
    "    \n"
   ]
  },
  {
   "cell_type": "code",
   "execution_count": 158,
   "id": "0beb4647",
   "metadata": {},
   "outputs": [
    {
     "name": "stdout",
     "output_type": "stream",
     "text": [
      "[1, 31, 15, 7]\n"
     ]
    }
   ],
   "source": [
    "#For a given list filter the odd numbers using a user defined function.\n",
    "l_4=[1, 12, 31, 4, 15, 6, 7]\n",
    "def odd(list2):\n",
    "    \n",
    "    return x%2!=0\n",
    "list(filter x,y:)\n"
   ]
  },
  {
   "cell_type": "markdown",
   "id": "b1622d97",
   "metadata": {},
   "source": [
    "# REDUCE"
   ]
  },
  {
   "cell_type": "code",
   "execution_count": 162,
   "id": "1e129fee",
   "metadata": {},
   "outputs": [
    {
     "name": "stdout",
     "output_type": "stream",
     "text": [
      "24\n"
     ]
    }
   ],
   "source": [
    "#Multiply all the elements of a list.  \n",
    "L1=[1, 2, 3, 4]\n",
    "from functools import reduce \n",
    "mul=reduce(lambda x,y:x*y,L1)\n",
    "print(mul)"
   ]
  },
  {
   "cell_type": "code",
   "execution_count": 164,
   "id": "cac98461",
   "metadata": {},
   "outputs": [
    {
     "name": "stdout",
     "output_type": "stream",
     "text": [
      "100\n"
     ]
    }
   ],
   "source": [
    "#Add all the elements of the list given below (use reduce function)   \n",
    "L2=[11, 13, 15, 16, 2, 43]\n",
    "add=reduce(lambda x,y:x+y,L2)\n",
    "print(add)"
   ]
  },
  {
   "cell_type": "code",
   "execution_count": 167,
   "id": "6bc3a80e",
   "metadata": {},
   "outputs": [
    {
     "name": "stdout",
     "output_type": "stream",
     "text": [
      "4567\n"
     ]
    }
   ],
   "source": [
    "#Find the maximum value in the list   \n",
    "L3=[543, 7, 6, 4567, 7, 78, 6, 6, 78, 765, 678]\n",
    "max=reduce(lambda x,y:x if x>y else y,L3)\n",
    "print(max)"
   ]
  },
  {
   "cell_type": "code",
   "execution_count": 177,
   "id": "22f9f797",
   "metadata": {},
   "outputs": [
    {
     "name": "stdout",
     "output_type": "stream",
     "text": [
      "6\n"
     ]
    }
   ],
   "source": [
    "#Find the minimum value in the list   \n",
    "L5=[543, 7, 6, 4567, 7, 78, 6, 6, 78, 765, 678]\n",
    "min=reduce(lambda x,y:x if x<y else y,L5)\n",
    "print(min)\n"
   ]
  },
  {
   "cell_type": "markdown",
   "id": "21c05fdf",
   "metadata": {},
   "source": [
    "# Numpy"
   ]
  },
  {
   "cell_type": "code",
   "execution_count": 192,
   "id": "4e65d565",
   "metadata": {},
   "outputs": [
    {
     "name": "stdout",
     "output_type": "stream",
     "text": [
      "[1 2 3 4 5]\n"
     ]
    }
   ],
   "source": [
    "#Write a NumPy program to convert a list of numeric values into a one-dimensional NumPy array\n",
    "import numpy as np \n",
    "l1=[1,2,3,4,5]\n",
    "arr=np.array(l1)\n",
    "print(arr)"
   ]
  },
  {
   "cell_type": "code",
   "execution_count": 242,
   "id": "0eaebe1a",
   "metadata": {},
   "outputs": [
    {
     "name": "stdout",
     "output_type": "stream",
     "text": [
      "[[3 4]\n",
      " [8 2]\n",
      " [5 9]\n",
      " [5 7]]\n"
     ]
    }
   ],
   "source": [
    "#2. Write a program to add a new column ([[5,7]]) at the last position in the array given below\n",
    "\n",
    "arr_1 = [[3, 4], [8, 2],[5, 9]]\n",
    "arr_2=([[5,7]])\n",
    "arr_1=np.array(arr_1)\n",
    "arr_2=np.array(arr_2)\n",
    "arr_3=np.append(arr_1,arr_2,axis=0)\n",
    "print(arr_3)\n",
    "#np.concatenate(arr_1,arr1_2)-->works only when dimensions are same\n"
   ]
  },
  {
   "cell_type": "code",
   "execution_count": 249,
   "id": "3f56109e",
   "metadata": {},
   "outputs": [
    {
     "name": "stdout",
     "output_type": "stream",
     "text": [
      "[20 18 16 14 12 10  8  6  4  2]\n"
     ]
    }
   ],
   "source": [
    "#Create an array of integers from 20 to 2 with a step of -2\n",
    "arr=np.arange(20,1,-2)\n",
    "print(arr)"
   ]
  },
  {
   "cell_type": "code",
   "execution_count": 260,
   "id": "a1b11bcb",
   "metadata": {},
   "outputs": [
    {
     "name": "stdout",
     "output_type": "stream",
     "text": [
      "[[110 102 183]\n",
      " [140 175 106]\n",
      " [170 195 117]\n",
      " [192 140 195]]\n",
      "dim: 2\n",
      "shape (4, 3)\n"
     ]
    }
   ],
   "source": [
    "# Create a 2D Numpy array from list of lists\n",
    "\n",
    "l1=[[110, 102, 183], [140, 175, 106], [170, 195, 117], [192, 140, 195]]\n",
    "arr1=np.array(l1)\n",
    "print(arr1)\n",
    "print(\"dim:\",arr1.ndim)\n",
    "print(\"shape\",arr1.shape)"
   ]
  },
  {
   "cell_type": "code",
   "execution_count": 265,
   "id": "ab5d3815",
   "metadata": {},
   "outputs": [
    {
     "name": "stdout",
     "output_type": "stream",
     "text": [
      "[102 106 117 140]\n"
     ]
    }
   ],
   "source": [
    "#Find the minimum value along each of the rows\n",
    "min=np.min(arr1,axis=1)\n",
    "print(min)"
   ]
  },
  {
   "cell_type": "code",
   "execution_count": 269,
   "id": "96de3b14",
   "metadata": {},
   "outputs": [
    {
     "name": "stdout",
     "output_type": "stream",
     "text": [
      "[ 0 -2 42 -2 34 -2 26 -2 38 94 -2 78 76]\n"
     ]
    }
   ],
   "source": [
    "# Replace all odd numbers in the array with -2\n",
    "num_array_1 = np.array([0, 31, 42, 43, 34, 45, 26, 27, 38, 94, 65, 78, 76])\n",
    "num_array_1[num_array_1%2==1]=-2\n",
    "print(num_array_1)"
   ]
  },
  {
   "cell_type": "code",
   "execution_count": 280,
   "id": "4cfeeccd",
   "metadata": {},
   "outputs": [
    {
     "name": "stdout",
     "output_type": "stream",
     "text": [
      "(2, 5)\n",
      "(2, 5)\n",
      "[[0 1 2 3 4]\n",
      " [5 6 7 8 9]\n",
      " [1 1 1 1 1]\n",
      " [1 1 1 1 1]]\n"
     ]
    }
   ],
   "source": [
    "#Stack two arrays vertically\n",
    "quantity1 = np.arange(10).reshape(2,-1)\n",
    "quantity2 = np.repeat(1, 10).reshape(2,-1)\n",
    "print(quantity1.shape)\n",
    "print(quantity2.shape)\n",
    "print(np.concatenate([quantity1,quantity2],axis=0))"
   ]
  },
  {
   "cell_type": "code",
   "execution_count": 283,
   "id": "199b7e34",
   "metadata": {},
   "outputs": [
    {
     "name": "stdout",
     "output_type": "stream",
     "text": [
      "[13 22 44]\n"
     ]
    }
   ],
   "source": [
    "#Get common elements from the two arrays\n",
    "age_a = np.array([11,12,13,22,23,44,43,24,45,36])\n",
    "age_b = np.array([17,22,13,22,47,34,39,44,29,28])\n",
    "print(np.intersect1d(age_a,age_b))"
   ]
  },
  {
   "cell_type": "code",
   "execution_count": 286,
   "id": "015005b2",
   "metadata": {},
   "outputs": [
    {
     "name": "stdout",
     "output_type": "stream",
     "text": [
      "[1 2 3 4]\n"
     ]
    }
   ],
   "source": [
    "#Remove all the elements from num_array1 that are present in num_array2\n",
    "num_array1 = np.array([1,2,3,4,5])\n",
    "num_array2 = np.array([5,6,7,8,9])\n",
    "print(np.setdiff1d(num_array1,num_array2))\n"
   ]
  },
  {
   "cell_type": "code",
   "execution_count": 3,
   "id": "f1cedc17",
   "metadata": {},
   "outputs": [
    {
     "name": "stdout",
     "output_type": "stream",
     "text": [
      "(array([1, 3, 5, 7], dtype=int64),)\n"
     ]
    }
   ],
   "source": [
    "#Get the positions where elements of two arrays match\n",
    "import numpy as np \n",
    "num_array1 = np.array([1,2,3,2,3,4,3,4,5,6])\n",
    "num_array2 = np.array([7,2,10,2,7,4,9,4,9,8])\n",
    "Position_of_values=np.where(num_array1==num_array2)\n",
    "print(Position_of_values)\n"
   ]
  },
  {
   "cell_type": "code",
   "execution_count": 4,
   "id": "f96a8fc3",
   "metadata": {},
   "outputs": [
    {
     "name": "stdout",
     "output_type": "stream",
     "text": [
      "[[ 0  1  2  3]\n",
      " [ 4  5  6  7]\n",
      " [ 8  9 10 11]\n",
      " [12 13 14 15]]\n",
      "[[ 3  2  1  0]\n",
      " [ 7  6  5  4]\n",
      " [11 10  9  8]\n",
      " [15 14 13 12]]\n"
     ]
    }
   ],
   "source": [
    "#Reverse each of the rows of the 2D array\n",
    "num_array1 = np.arange(16).reshape(4,4)\n",
    "print(num_array1)\n",
    "reverse=np.fliplr(num_array1)\n",
    "print(reverse)"
   ]
  },
  {
   "cell_type": "code",
   "execution_count": 3,
   "id": "b7bc7fbc",
   "metadata": {},
   "outputs": [
    {
     "name": "stdout",
     "output_type": "stream",
     "text": [
      "[[0 1 2]\n",
      " [3 4 5]\n",
      " [6 7 8]]\n"
     ]
    },
    {
     "data": {
      "text/plain": [
       "array([[3, 4, 5],\n",
       "       [0, 1, 2],\n",
       "       [6, 7, 8]])"
      ]
     },
     "execution_count": 3,
     "metadata": {},
     "output_type": "execute_result"
    }
   ],
   "source": [
    "#Swap row 1 and row 2 in the given array\n",
    "import numpy as np\n",
    "num_array1 = np.arange(9).reshape(3,3)\n",
    "print(num_array1 )\n",
    "num_array1[[0,1]]=num_array1[[1,0]]\n",
    "(num_array1)"
   ]
  },
  {
   "cell_type": "code",
   "execution_count": 5,
   "id": "dffd4c6d",
   "metadata": {},
   "outputs": [
    {
     "name": "stdout",
     "output_type": "stream",
     "text": [
      "[[ 21  42]\n",
      " [ 63  78]\n",
      " [ 22  55]\n",
      " [124 567]]\n",
      "(4, 2)\n",
      "[[   13    45]\n",
      " [   37    99]\n",
      " [ 1456  2356]\n",
      " [ 2567 45890]]\n",
      "(4, 2)\n",
      "[[   21    42]\n",
      " [   63    78]\n",
      " [   22    55]\n",
      " [  124   567]\n",
      " [   13    45]\n",
      " [   37    99]\n",
      " [ 1456  2356]\n",
      " [ 2567 45890]]\n"
     ]
    },
    {
     "data": {
      "text/plain": [
       "array([[   21,    42,    13,    45],\n",
       "       [   63,    78,    37,    99],\n",
       "       [   22,    55,  1456,  2356],\n",
       "       [  124,   567,  2567, 45890]])"
      ]
     },
     "execution_count": 5,
     "metadata": {},
     "output_type": "execute_result"
    }
   ],
   "source": [
    "#Given the array \n",
    "#1)Concatenate the arrays along the rows\n",
    "#2)Concatenate the arrays along the columns\n",
    "\n",
    "a1 = np.array([[21, 42], [63, 78],[22,55],[124,567]])\n",
    "print(a1)\n",
    "print(a1.shape)\n",
    "a2 = np.array([[13, 45], [37, 99],[1456, 2356],[2567,45890]])\n",
    "print(a2)\n",
    "print(a2.shape)\n",
    "print(np.concatenate([a1,a2],axis=0))\n",
    "np.concatenate([a1,a2],axis=1)"
   ]
  },
  {
   "cell_type": "code",
   "execution_count": 6,
   "id": "9eaf777d",
   "metadata": {},
   "outputs": [
    {
     "data": {
      "text/plain": [
       "19"
      ]
     },
     "execution_count": 6,
     "metadata": {},
     "output_type": "execute_result"
    }
   ],
   "source": [
    "str='19.5'\n",
    "int(float(str))#to convert to int -->first convert to float and to int"
   ]
  }
 ],
 "metadata": {
  "kernelspec": {
   "display_name": "Python 3 (ipykernel)",
   "language": "python",
   "name": "python3"
  },
  "language_info": {
   "codemirror_mode": {
    "name": "ipython",
    "version": 3
   },
   "file_extension": ".py",
   "mimetype": "text/x-python",
   "name": "python",
   "nbconvert_exporter": "python",
   "pygments_lexer": "ipython3",
   "version": "3.11.5"
  }
 },
 "nbformat": 4,
 "nbformat_minor": 5
}
