{
 "cells": [
  {
   "cell_type": "code",
   "execution_count": 5,
   "id": "01e040c2",
   "metadata": {},
   "outputs": [
    {
     "name": "stdout",
     "output_type": "stream",
     "text": [
      "Enter the name25\n",
      "25 <class 'int'>\n"
     ]
    }
   ],
   "source": [
    "name=int(input(\"Enter the name\"))\n",
    "print(name,type(name))"
   ]
  },
  {
   "cell_type": "code",
   "execution_count": null,
   "id": "d640bed2",
   "metadata": {},
   "outputs": [],
   "source": []
  },
  {
   "cell_type": "code",
   "execution_count": 10,
   "id": "4d87d302",
   "metadata": {},
   "outputs": [
    {
     "name": "stdout",
     "output_type": "stream",
     "text": [
      "b is greater\n"
     ]
    }
   ],
   "source": [
    "a=20\n",
    "b=50\n",
    "c=40\n",
    "if(a>b and a>c):\n",
    "    print(\"a is greater\")\n",
    "elif(b>c):\n",
    "    print(\"b is greater\")\n",
    "else:\n",
    "    print(\"c is greater\")"
   ]
  },
  {
   "cell_type": "code",
   "execution_count": 16,
   "id": "cc3a4d98",
   "metadata": {},
   "outputs": [
    {
     "name": "stdout",
     "output_type": "stream",
     "text": [
      "2,4,6,8,10,"
     ]
    }
   ],
   "source": [
    "for i in range(1,11):\n",
    "    if (i%2==0):\n",
    "        print(i,end=\",\")"
   ]
  },
  {
   "cell_type": "code",
   "execution_count": 20,
   "id": "59b7de64",
   "metadata": {},
   "outputs": [
    {
     "name": "stdout",
     "output_type": "stream",
     "text": [
      "hct\n"
     ]
    }
   ],
   "source": [
    "s1=\"Hello! Welcome to Sep 2023 batch\"  \n",
    "print(s1[-1:-4:-1])"
   ]
  },
  {
   "cell_type": "code",
   "execution_count": null,
   "id": "d77708a1",
   "metadata": {},
   "outputs": [],
   "source": []
  },
  {
   "cell_type": "code",
   "execution_count": null,
   "id": "5c7dbedf",
   "metadata": {},
   "outputs": [],
   "source": []
  },
  {
   "cell_type": "code",
   "execution_count": null,
   "id": "95b660d9",
   "metadata": {},
   "outputs": [],
   "source": []
  },
  {
   "cell_type": "code",
   "execution_count": 23,
   "id": "0fd17bba",
   "metadata": {},
   "outputs": [
    {
     "name": "stdout",
     "output_type": "stream",
     "text": [
      "[(1, 4), (2, 32), (4, 7), (6, 4), (7, 2)]\n",
      "((1, 4), (2, 32), (4, 7), (6, 4), (7, 2))\n"
     ]
    }
   ],
   "source": [
    "l1=[1,2,4,6,7]\n",
    "l2=(4,32,7,4,2)\n",
    "l3=[(i,j) for i,j in zip(l1,l2)]\n",
    "print(l3)\n",
    "t1=tuple(l3)\n",
    "print(t1)"
   ]
  },
  {
   "cell_type": "code",
   "execution_count": null,
   "id": "95c0f9d9",
   "metadata": {},
   "outputs": [],
   "source": [
    "a=10\n"
   ]
  },
  {
   "cell_type": "code",
   "execution_count": 24,
   "id": "9eed8508",
   "metadata": {},
   "outputs": [],
   "source": [
    "string_2=\"I wish everyone a happy and joyful weekend\""
   ]
  },
  {
   "cell_type": "code",
   "execution_count": 25,
   "id": "50837e3f",
   "metadata": {},
   "outputs": [],
   "source": [
    "string_3=list(map(lambda x: x.upper(),string_2))"
   ]
  },
  {
   "cell_type": "code",
   "execution_count": 26,
   "id": "bd272603",
   "metadata": {},
   "outputs": [
    {
     "name": "stdout",
     "output_type": "stream",
     "text": [
      "['I', ' ', 'W', 'I', 'S', 'H', ' ', 'E', 'V', 'E', 'R', 'Y', 'O', 'N', 'E', ' ', 'A', ' ', 'H', 'A', 'P', 'P', 'Y', ' ', 'A', 'N', 'D', ' ', 'J', 'O', 'Y', 'F', 'U', 'L', ' ', 'W', 'E', 'E', 'K', 'E', 'N', 'D']\n"
     ]
    }
   ],
   "source": [
    "print(string_3)"
   ]
  },
  {
   "cell_type": "code",
   "execution_count": null,
   "id": "739ec973",
   "metadata": {},
   "outputs": [],
   "source": []
  },
  {
   "cell_type": "code",
   "execution_count": null,
   "id": "027d0a08",
   "metadata": {},
   "outputs": [],
   "source": [
    "l1=[1,2,4,6,7]"
   ]
  },
  {
   "cell_type": "code",
   "execution_count": 29,
   "id": "46a6ef4d",
   "metadata": {},
   "outputs": [
    {
     "data": {
      "text/plain": [
       "[1, 7]"
      ]
     },
     "execution_count": 29,
     "metadata": {},
     "output_type": "execute_result"
    }
   ],
   "source": [
    "f1=list(filter(lambda x:x%2!=0,l1))\n",
    "f1"
   ]
  },
  {
   "cell_type": "code",
   "execution_count": null,
   "id": "e539d6b0",
   "metadata": {},
   "outputs": [],
   "source": []
  },
  {
   "cell_type": "code",
   "execution_count": 30,
   "id": "ea4e7bd0",
   "metadata": {},
   "outputs": [
    {
     "name": "stdout",
     "output_type": "stream",
     "text": [
      "{'english': '100', 'maths': 27, 'science': '50'}\n"
     ]
    }
   ],
   "source": [
    "dict1={\"english\":\"100\",\"maths\":27,\"science\":\"50\"}\n",
    "print(dict1)"
   ]
  }
 ],
 "metadata": {
  "kernelspec": {
   "display_name": "Python 3 (ipykernel)",
   "language": "python",
   "name": "python3"
  },
  "language_info": {
   "codemirror_mode": {
    "name": "ipython",
    "version": 3
   },
   "file_extension": ".py",
   "mimetype": "text/x-python",
   "name": "python",
   "nbconvert_exporter": "python",
   "pygments_lexer": "ipython3",
   "version": "3.11.5"
  }
 },
 "nbformat": 4,
 "nbformat_minor": 5
}
