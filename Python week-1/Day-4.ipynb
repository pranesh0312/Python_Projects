{
 "cells": [
  {
   "cell_type": "code",
   "execution_count": null,
   "id": "9daeee6d",
   "metadata": {},
   "outputs": [],
   "source": [
    "salary=int(input(\"Enter the salary:\"))\n",
    "tax=0\n",
    "if (salary<=250000):\n",
    "    print(\"No Tax for you\")\n",
    "    tax=0\n",
    "elif (salary<=500000):\n",
    "    print(\"5% tax\")\n",
    "    tax=salary*0.05\n",
    "elif (salary<=750000):\n",
    "    print(salary<=100000):\n",
    "        tax=\n"
   ]
  },
  {
   "cell_type": "code",
   "execution_count": 3,
   "id": "03ad0422",
   "metadata": {},
   "outputs": [
    {
     "name": "stdout",
     "output_type": "stream",
     "text": [
      "1 1\n",
      "2 4\n",
      "3 9\n",
      "4 16\n",
      "5 25\n",
      "6 36\n",
      "7 49\n",
      "8 64\n",
      "9 81\n",
      "10 100\n"
     ]
    }
   ],
   "source": [
    "x=[1,2,3,4,5,6,7,8,9,10]\n",
    "for i in x:\n",
    "    print(i,i**2)"
   ]
  },
  {
   "cell_type": "code",
   "execution_count": 6,
   "id": "74f971bd",
   "metadata": {},
   "outputs": [
    {
     "name": "stdout",
     "output_type": "stream",
     "text": [
      "4,16,36,64,100,144,196,256,324,400,484,576,676,784,900,1024,1156,1296,1444,1600,1764,1936,2116,2304,2500,2704,2916,3136,3364,3600,3844,4096,4356,4624,4900,5184,5476,5776,6084,6400,6724,7056,7396,7744,8100,8464,8836,9216,9604,10000,"
     ]
    }
   ],
   "source": [
    "for i in range(1,101):\n",
    "    if i%2==0:\n",
    "        print(i**2,end=\",\")\n",
    "    else:\n",
    "        pass"
   ]
  },
  {
   "cell_type": "code",
   "execution_count": null,
   "id": "a6c917fb",
   "metadata": {},
   "outputs": [],
   "source": []
  },
  {
   "cell_type": "code",
   "execution_count": null,
   "id": "8d1638af",
   "metadata": {},
   "outputs": [],
   "source": []
  },
  {
   "cell_type": "code",
   "execution_count": null,
   "id": "83cb25d5",
   "metadata": {},
   "outputs": [],
   "source": []
  },
  {
   "cell_type": "markdown",
   "id": "41407e54",
   "metadata": {},
   "source": [
    "# List_operations"
   ]
  },
  {
   "cell_type": "code",
   "execution_count": 37,
   "id": "6976f1cd",
   "metadata": {},
   "outputs": [
    {
     "name": "stdout",
     "output_type": "stream",
     "text": [
      "['P', 'y', 't', 'h', 'o', 'n', ' ', 'P', 'r', 'o', 'g', 'r', 'a', 'm', 'm', 'i', 'n', 'g', 'W', 'e', 'l', 'c', 'o', 'm', 'e']\n",
      "Reverse: ['e', 'm', 'o', 'c', 'l', 'e', 'W', 'g', 'n', 'i', 'm', 'm', 'a', 'r', 'g', 'o', 'r', 'P', ' ', 'n', 'o', 'h', 't', 'y', 'P']\n",
      "16\n"
     ]
    }
   ],
   "source": [
    "\n",
    "list1=[ i for i in \"Python Programming\"]\n",
    "\n",
    "#list1=[]\n",
    "#list1.extend(\"python Programming\")  #Another method\n",
    "\n",
    "#print(list1)\n",
    "\n",
    "list2=[ i for i in \"Welcome\"]\n",
    "#print(list2)\n",
    "\n",
    "list1.extend(list2) # we can directly give welcome in bracket(another method)\n",
    "list1.remove(\"o\")\n",
    "list1.insert(4,\"o\")\n",
    "\n",
    "print(list1)\n",
    "print(\"Reverse:\",list1[-1::-1])#[::-1]--Reverse(another way)\n",
    "set1=set(list1)\n",
    "print(len(set1))\n",
    "    \n",
    "            \n",
    "        \n",
    "    \n",
    "    \n",
    "    \n",
    "    \n",
    "      \n",
    "\n",
    "\n"
   ]
  },
  {
   "cell_type": "code",
   "execution_count": 1,
   "id": "21e41e84",
   "metadata": {},
   "outputs": [
    {
     "name": "stdout",
     "output_type": "stream",
     "text": [
      "Enter a stringhi\n",
      "not palindrome\n"
     ]
    }
   ],
   "source": [
    "text=input(\"Enter a string\")\n",
    "if text==text[::-1]:\n",
    "    print(\"Palindrome\")\n",
    "else:\n",
    "    print(\"not palindrome\")"
   ]
  },
  {
   "cell_type": "code",
   "execution_count": null,
   "id": "d2e8fe3f",
   "metadata": {},
   "outputs": [],
   "source": [
    "text1=input(\"Enter a string\")\n",
    "set1=set(i for i in text1)\n",
    "print(len(set1),set1)"
   ]
  },
  {
   "cell_type": "code",
   "execution_count": null,
   "id": "9324fa91",
   "metadata": {},
   "outputs": [],
   "source": []
  },
  {
   "cell_type": "markdown",
   "id": "743176a7",
   "metadata": {},
   "source": [
    "# Dictionary_comprehension"
   ]
  },
  {
   "cell_type": "code",
   "execution_count": 3,
   "id": "fc322c44",
   "metadata": {},
   "outputs": [
    {
     "name": "stdout",
     "output_type": "stream",
     "text": [
      "{1: 1, 2: 4, 3: 9, 4: 16, 5: 25, 6: 36, 7: 49, 8: 64, 9: 81, 10: 100}\n"
     ]
    }
   ],
   "source": [
    "d1={i:i**2 for i in range(1,11)}\n",
    "print(d1)"
   ]
  },
  {
   "cell_type": "code",
   "execution_count": 9,
   "id": "639b8a61",
   "metadata": {},
   "outputs": [
    {
     "name": "stdout",
     "output_type": "stream",
     "text": [
      "{'ravi': 24, 'raj': 25, 'sam': 26}\n"
     ]
    }
   ],
   "source": [
    "l1=['ravi','raj','sam']\n",
    "l2=[24,25,26]\n",
    "d2={i:j for i,j in zip(l1,l2)}\n",
    "print (d2)"
   ]
  },
  {
   "cell_type": "code",
   "execution_count": 28,
   "id": "8d7fe469",
   "metadata": {},
   "outputs": [
    {
     "name": "stdout",
     "output_type": "stream",
     "text": [
      "{2: 8, 4: 64, 6: 216, 8: 512, 10: 1000, 12: 1728, 14: 2744, 16: 4096}\n"
     ]
    }
   ],
   "source": [
    "d3={i:i**3 for i in range(1,17) if i%2==0 }\n",
    "print(d3)"
   ]
  },
  {
   "cell_type": "code",
   "execution_count": 50,
   "id": "c3c93f59",
   "metadata": {},
   "outputs": [
    {
     "name": "stdout",
     "output_type": "stream",
     "text": [
      "{'name': 'sam', 'age': 24, 'city': 'pune'}\n"
     ]
    }
   ],
   "source": [
    "l1=['name','age','city']\n",
    "l2=['sam',24,'pune']\n",
    "d2={i:j for i,j in zip(l1,l2)}\n",
    "print(d2)\n"
   ]
  },
  {
   "cell_type": "code",
   "execution_count": 64,
   "id": "180def97",
   "metadata": {},
   "outputs": [
    {
     "name": "stdout",
     "output_type": "stream",
     "text": [
      "{'name': 'sam', 'age': 24, 'city': 'pune', 2: 8, 4: 64, 6: 216, 8: 512, 10: 1000, 12: 1728, 14: 2744, 16: 4096}\n"
     ]
    }
   ],
   "source": [
    "#d2={i:j for i,j in zip(l1,l2)}\n",
    "#d3={i:i**3 for i in range(1,17) if i%2==0 }\n",
    "d2.update(d3)\n",
    "print(d2)\n",
    "\n"
   ]
  },
  {
   "cell_type": "code",
   "execution_count": 61,
   "id": "26be1507",
   "metadata": {},
   "outputs": [
    {
     "name": "stdout",
     "output_type": "stream",
     "text": [
      "True\n"
     ]
    }
   ],
   "source": [
    "\n",
    "print('age' in d2.keys())"
   ]
  },
  {
   "cell_type": "code",
   "execution_count": 65,
   "id": "bea06d0f",
   "metadata": {},
   "outputs": [
    {
     "name": "stdout",
     "output_type": "stream",
     "text": [
      "key: name value: sam\n",
      "key: age value: 24\n",
      "key: city value: pune\n",
      "key: 2 value: 8\n",
      "key: 4 value: 64\n",
      "key: 6 value: 216\n",
      "key: 8 value: 512\n",
      "key: 10 value: 1000\n",
      "key: 12 value: 1728\n",
      "key: 14 value: 2744\n",
      "key: 16 value: 4096\n"
     ]
    }
   ],
   "source": [
    "for i in d2.keys():#use of only keys\n",
    "    print(\"key:\",i,\"value:\",d2[i])"
   ]
  },
  {
   "cell_type": "code",
   "execution_count": 67,
   "id": "25d02f0e",
   "metadata": {},
   "outputs": [
    {
     "name": "stdout",
     "output_type": "stream",
     "text": [
      "key: name value: sam\n",
      "key: age value: 24\n",
      "key: city value: pune\n",
      "key: 2 value: 8\n",
      "key: 4 value: 64\n",
      "key: 6 value: 216\n",
      "key: 8 value: 512\n",
      "key: 10 value: 1000\n",
      "key: 12 value: 1728\n",
      "key: 14 value: 2744\n",
      "key: 16 value: 4096\n"
     ]
    }
   ],
   "source": [
    "for i,j in d2.items():# use of items\n",
    "    print(\"key:\",i,\"value:\",j)"
   ]
  },
  {
   "cell_type": "code",
   "execution_count": 74,
   "id": "9ded4b6a",
   "metadata": {},
   "outputs": [
    {
     "name": "stdout",
     "output_type": "stream",
     "text": [
      "{'English': 105.5, 'Maths': 133.0, 'Science': 98.5}\n"
     ]
    }
   ],
   "source": [
    "s1={'English':68,'Maths':86,'Science':64} #to print keys and respected average\n",
    "s2={'English':75,'Maths':94,'Science':69}\n",
    "\n",
    "avg={}\n",
    "for i in s1.keys():\n",
    "    avg[i]=s1[i]+s2[i]/2\n",
    "print(avg)"
   ]
  },
  {
   "cell_type": "markdown",
   "id": "64d88403",
   "metadata": {},
   "source": [
    "# Exception_Handling"
   ]
  },
  {
   "cell_type": "code",
   "execution_count": 1,
   "id": "7d56deb4",
   "metadata": {},
   "outputs": [
    {
     "name": "stdout",
     "output_type": "stream",
     "text": [
      "b cannot be zero\n",
      "Program Complete\n"
     ]
    }
   ],
   "source": [
    "a=5\n",
    "b=0\n",
    "try:\n",
    "    c=a/b\n",
    "except ZeroDivisionError as e:\n",
    "    print('b cannot be zero')\n",
    "except TypeError as e:\n",
    "    print(\"Wrong input data type\")\n",
    "except NameError as e:\n",
    "    print(\"Check the variable name\")\n",
    "else:\n",
    "    print(c)\n",
    "finally:\n",
    "    print(\"Program Complete\")\n",
    "    \n",
    "    \n",
    "    # we ca rise our own error\n",
    "    # raise ******-->error type "
   ]
  },
  {
   "cell_type": "code",
   "execution_count": 16,
   "id": "48eb2f41",
   "metadata": {},
   "outputs": [
    {
     "name": "stdout",
     "output_type": "stream",
     "text": [
      "5\n"
     ]
    }
   ],
   "source": [
    "arr = np.array([[1,2,3,4,5], [6,7,8,9,10]])\n"
   ]
  }
 ],
 "metadata": {
  "kernelspec": {
   "display_name": "Python 3 (ipykernel)",
   "language": "python",
   "name": "python3"
  },
  "language_info": {
   "codemirror_mode": {
    "name": "ipython",
    "version": 3
   },
   "file_extension": ".py",
   "mimetype": "text/x-python",
   "name": "python",
   "nbconvert_exporter": "python",
   "pygments_lexer": "ipython3",
   "version": "3.11.5"
  }
 },
 "nbformat": 4,
 "nbformat_minor": 5
}
