{
 "cells": [
  {
   "cell_type": "markdown",
   "id": "5fef9372",
   "metadata": {},
   "source": [
    "# For loop with range"
   ]
  },
  {
   "cell_type": "code",
   "execution_count": 4,
   "id": "0a923b89",
   "metadata": {},
   "outputs": [
    {
     "name": "stdout",
     "output_type": "stream",
     "text": [
      "4,8,12,16,20,24,28,32,36,40,44,48,52,56,60,64,68,72,76,80,84,88,92,96,100,104,108,112,116,120,124,128,132,136,140,144,148,152,156,160,164,168,172,176,180,184,188,192,196,200,204,208,212,216,220,224,228,232,236,240,244,248,"
     ]
    }
   ],
   "source": [
    "for i in range (4,251,4):\n",
    "    if (i%4==0):\n",
    "        print(i,end=\",\")\n"
   ]
  },
  {
   "cell_type": "code",
   "execution_count": 42,
   "id": "e3d20138",
   "metadata": {},
   "outputs": [
    {
     "name": "stdout",
     "output_type": "stream",
     "text": [
      "99,97,95,93,91,89,87,85,83,81,79,77,75,73,71,69,67,65,63,61,59,57,55,53,51,49,47,45,43,41,39,37,35,33,31,29,27,25,23,21,19,17,15,13,11,9,7,5,3,1,"
     ]
    }
   ],
   "source": [
    "for i in range(99,0,-2):\n",
    "    print(i,end=\",\")\n"
   ]
  },
  {
   "cell_type": "markdown",
   "id": "22afa7fb",
   "metadata": {},
   "source": [
    "# While loop"
   ]
  },
  {
   "cell_type": "code",
   "execution_count": 10,
   "id": "22ab4463",
   "metadata": {},
   "outputs": [
    {
     "name": "stdout",
     "output_type": "stream",
     "text": [
      "4,8,12,16,20,24,28,32,36,40,44,48,52,56,60,64,68,72,76,80,84,88,92,96,100,104,108,112,116,120,124,128,132,136,140,144,148,152,156,160,164,168,172,176,180,184,188,192,196,200,204,208,212,216,220,224,228,232,236,240,244,248,"
     ]
    }
   ],
   "source": [
    "i=4\n",
    "while i<251:\n",
    "    if (i%4==0):\n",
    "        print(i,end=\",\")\n",
    "    i=i+4\n"
   ]
  },
  {
   "cell_type": "code",
   "execution_count": 3,
   "id": "634223fc",
   "metadata": {},
   "outputs": [
    {
     "name": "stdout",
     "output_type": "stream",
     "text": [
      "99,97,95,93,91,89,87,85,83,81,79,77,75,73,71,69,67,65,63,61,59,57,55,53,51,49,47,45,43,41,39,37,35,33,31,29,27,25,23,21,19,17,15,13,11,9,7,5,3,1,"
     ]
    }
   ],
   "source": [
    "i=99\n",
    "while i>0:\n",
    "    print(i,end=\",\")\n",
    "    i=i-2\n",
    "    \n"
   ]
  },
  {
   "cell_type": "code",
   "execution_count": null,
   "id": "edd4bb2b",
   "metadata": {},
   "outputs": [],
   "source": []
  },
  {
   "cell_type": "markdown",
   "id": "a4d1b084",
   "metadata": {},
   "source": [
    "# List Comprehension"
   ]
  },
  {
   "cell_type": "code",
   "execution_count": 10,
   "id": "90591729",
   "metadata": {},
   "outputs": [
    {
     "name": "stdout",
     "output_type": "stream",
     "text": [
      "[1, 4, 9, 16, 25, 36, 49, 64, 81]\n"
     ]
    }
   ],
   "source": [
    "list1=[x**2 for x in range(1,10)]\n",
    "print(list1)"
   ]
  },
  {
   "cell_type": "code",
   "execution_count": 14,
   "id": "95db91da",
   "metadata": {},
   "outputs": [
    {
     "name": "stdout",
     "output_type": "stream",
     "text": [
      "[0.1, 0.2, 0.3, 0.4, 0.5, 0.6, 0.7, 0.8, 0.9, 1.0]\n"
     ]
    }
   ],
   "source": [
    "list2=[x/10 for x in range(1,11)]\n",
    "print(list2)"
   ]
  },
  {
   "cell_type": "code",
   "execution_count": 21,
   "id": "01ddf6df",
   "metadata": {},
   "outputs": [
    {
     "name": "stdout",
     "output_type": "stream",
     "text": [
      "[0.25, 0.5, 0.75, 1.0, 1.25, 1.5, 1.75, 2.0]\n"
     ]
    }
   ],
   "source": [
    "list3=[(x*25)/100 for x in range(1,9)]\n",
    "print(list3)\n",
    "#[i/4 for i in range(1,9)]"
   ]
  },
  {
   "cell_type": "code",
   "execution_count": 25,
   "id": "ed51257d",
   "metadata": {},
   "outputs": [
    {
     "name": "stdout",
     "output_type": "stream",
     "text": [
      "[False, False, True, False, False, True, False, False, True, False]\n"
     ]
    }
   ],
   "source": [
    "list_4=[x%3==0 for x in range(1,11)]\n",
    "print(list_4)"
   ]
  },
  {
   "cell_type": "code",
   "execution_count": 33,
   "id": "f19a4d63",
   "metadata": {},
   "outputs": [
    {
     "name": "stdout",
     "output_type": "stream",
     "text": [
      "[20, 16, 12, 8, 4]\n"
     ]
    }
   ],
   "source": [
    "list5=[x for x  in range(20,3,-4)]\n",
    "print(list5)\n",
    "# x*4 for in range(5,0,-1)"
   ]
  },
  {
   "cell_type": "code",
   "execution_count": 34,
   "id": "fb4ec0ac",
   "metadata": {},
   "outputs": [
    {
     "name": "stdout",
     "output_type": "stream",
     "text": [
      "['G', 'r', 'e', 'a', 't', ' ', 'L', 'e', 'a', 'r', 'n', 'i', 'n', 'g']\n"
     ]
    }
   ],
   "source": [
    "l6=[i for i in \"Great Learning\"]\n",
    "print(l6)"
   ]
  },
  {
   "cell_type": "code",
   "execution_count": null,
   "id": "61def719",
   "metadata": {},
   "outputs": [],
   "source": [
    "#complex-->Use of if conditions"
   ]
  },
  {
   "cell_type": "code",
   "execution_count": 41,
   "id": "e56b9738",
   "metadata": {},
   "outputs": [
    {
     "name": "stdout",
     "output_type": "stream",
     "text": [
      "[1, 2, 3, 0, 5, 6, 7, 0, 9, 10, 11, 0, 13, 14, 15, 0, 17, 18, 19]\n"
     ]
    }
   ],
   "source": [
    "l7=[i if i%4!=0 else 0 for i in range(1,20)]\n",
    "print(l7)"
   ]
  },
  {
   "cell_type": "code",
   "execution_count": 47,
   "id": "d1d7b6b9",
   "metadata": {},
   "outputs": [
    {
     "name": "stdout",
     "output_type": "stream",
     "text": [
      "[1, 4, 3, 16, 5, 36, 7, 64, 9, 100]\n"
     ]
    }
   ],
   "source": [
    "l8=[i**2 if i%2==0 else i for i in range(1,11) ]\n",
    "print(l8)"
   ]
  },
  {
   "cell_type": "code",
   "execution_count": 50,
   "id": "bf93a1ad",
   "metadata": {},
   "outputs": [
    {
     "name": "stdout",
     "output_type": "stream",
     "text": [
      "[1, 2, 4, 5, 7, 8, 10]\n"
     ]
    }
   ],
   "source": [
    "l9=[i for i in range(1,11) if i%3!=0]\n",
    "print(l9)"
   ]
  },
  {
   "cell_type": "code",
   "execution_count": 77,
   "id": "c9fde10e",
   "metadata": {},
   "outputs": [
    {
     "name": "stdout",
     "output_type": "stream",
     "text": [
      "['g', 'O', 'O', 'd', ' ', 'm', 'O', 'r', 'n', 'I', 'n', 'g']\n"
     ]
    }
   ],
   "source": [
    "l10=[x.lower() if (x!=\"o\" and x!=\"i\") else x.upper() for x in \"Good Morning\"  ]\n",
    "print(l10)\n",
    "#------Member ship operator----\n",
    "# a=\"good morning\"\n",
    "# li=(i.upper() if i in \"aeiou\" else i ......)\n"
   ]
  },
  {
   "cell_type": "code",
   "execution_count": 79,
   "id": "ad18537a",
   "metadata": {},
   "outputs": [
    {
     "name": "stdout",
     "output_type": "stream",
     "text": [
      "[25, 16, 9, 18, 1, 20, 1, 22, 9, 24, 25]\n"
     ]
    }
   ],
   "source": [
    "list_11=[i**2 if i%2==1 else 20+i for i in range (-5,6)]\n",
    "print(list_11)\n",
    "         "
   ]
  },
  {
   "cell_type": "markdown",
   "id": "e58209bb",
   "metadata": {},
   "source": [
    "# List_with matrix format "
   ]
  },
  {
   "cell_type": "code",
   "execution_count": 2,
   "id": "04202fc1",
   "metadata": {},
   "outputs": [
    {
     "name": "stdout",
     "output_type": "stream",
     "text": [
      "1 2\n",
      "2 4\n",
      "3 6\n",
      "4 8\n",
      "5 10\n"
     ]
    }
   ],
   "source": [
    "l1=[1,2,3,4,5]\n",
    "l2=[2,4,6,8,10]\n",
    "#l3=l1+l2\n",
    "for i,j in zip(l1,l2):\n",
    "     print(i,j)"
   ]
  },
  {
   "cell_type": "markdown",
   "id": "79dce89a",
   "metadata": {},
   "source": [
    "# Practice with control flow"
   ]
  },
  {
   "cell_type": "code",
   "execution_count": null,
   "id": "ce4ceeb4",
   "metadata": {},
   "outputs": [],
   "source": []
  },
  {
   "cell_type": "code",
   "execution_count": 10,
   "id": "7dea942d",
   "metadata": {},
   "outputs": [
    {
     "name": "stdout",
     "output_type": "stream",
     "text": [
      "1,4,9,16,25,36,49,64,81,100,"
     ]
    }
   ],
   "source": [
    "for i in range(1,11):\n",
    "    print(i**2,end=\",\")\n",
    "\n"
   ]
  },
  {
   "cell_type": "code",
   "execution_count": 15,
   "id": "223ae80b",
   "metadata": {},
   "outputs": [
    {
     "name": "stdout",
     "output_type": "stream",
     "text": [
      "1,4,9,16,25,36,49,64,81,100,"
     ]
    }
   ],
   "source": [
    "i=1\n",
    "while(i<11):\n",
    "    print(i**2,end=\",\")\n",
    "    i=i+1\n",
    "    \n"
   ]
  },
  {
   "cell_type": "markdown",
   "id": "8157c9de",
   "metadata": {},
   "source": []
  },
  {
   "cell_type": "code",
   "execution_count": 18,
   "id": "2c97a72b",
   "metadata": {},
   "outputs": [
    {
     "name": "stdout",
     "output_type": "stream",
     "text": [
      "1,4,3,16,5,36,7,64,9,100,11,144,13,196,15,256,17,324,19,400,21,484,23,576,25,676,27,784,29,900,31,1024,33,1156,35,1296,37,1444,39,1600,41,1764,43,1936,45,2116,47,2304,49,2500,51,2704,53,2916,55,3136,57,3364,59,3600,61,3844,63,4096,65,4356,67,4624,69,4900,71,5184,73,5476,75,5776,77,6084,79,6400,81,6724,83,7056,85,7396,87,7744,89,8100,91,8464,93,8836,95,9216,97,9604,99,10000,"
     ]
    }
   ],
   "source": [
    "for i in range(1,101):\n",
    "    if(i%2==0):\n",
    "        print(i**2,end=\",\")\n",
    "    else:\n",
    "        print(i,end=\",\")"
   ]
  },
  {
   "cell_type": "code",
   "execution_count": null,
   "id": "f15e90f0",
   "metadata": {},
   "outputs": [],
   "source": [
    "x=1\n",
    "while(x<101):\n",
    "    if(x%2==0):\n",
    "        print(x)\n",
    "        x=x+1\n",
    "    else:\n",
    "        pass\n",
    "       \n",
    "     "
   ]
  },
  {
   "cell_type": "code",
   "execution_count": null,
   "id": "c80bd885",
   "metadata": {},
   "outputs": [],
   "source": []
  }
 ],
 "metadata": {
  "kernelspec": {
   "display_name": "Python 3 (ipykernel)",
   "language": "python",
   "name": "python3"
  },
  "language_info": {
   "codemirror_mode": {
    "name": "ipython",
    "version": 3
   },
   "file_extension": ".py",
   "mimetype": "text/x-python",
   "name": "python",
   "nbconvert_exporter": "python",
   "pygments_lexer": "ipython3",
   "version": "3.11.5"
  }
 },
 "nbformat": 4,
 "nbformat_minor": 5
}
