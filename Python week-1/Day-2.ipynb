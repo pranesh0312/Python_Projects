{
 "cells": [
  {
   "cell_type": "markdown",
   "id": "ab5dc100",
   "metadata": {},
   "source": [
    "# Control statement -->For_loop"
   ]
  },
  {
   "cell_type": "code",
   "execution_count": 1,
   "id": "52f7840f",
   "metadata": {},
   "outputs": [
    {
     "name": "stdout",
     "output_type": "stream",
     "text": [
      "1\n",
      "2\n",
      "3\n",
      "4\n",
      "5\n",
      "6\n",
      "7\n",
      "8\n",
      "9\n",
      "10\n"
     ]
    }
   ],
   "source": [
    "for i in range(1,11):\n",
    "    print(i)"
   ]
  },
  {
   "cell_type": "code",
   "execution_count": 13,
   "id": "9bf2da02",
   "metadata": {},
   "outputs": [
    {
     "name": "stdout",
     "output_type": "stream",
     "text": [
      "1\n",
      "3\n",
      "5\n",
      "7\n",
      "9\n"
     ]
    }
   ],
   "source": [
    "for i in range(1,11):\n",
    "    if i%2==1:\n",
    "        print(i)\n",
    "    "
   ]
  },
  {
   "cell_type": "code",
   "execution_count": 2,
   "id": "e498c43d",
   "metadata": {},
   "outputs": [
    {
     "name": "stdout",
     "output_type": "stream",
     "text": [
      "1,2,3,4,5,6,7,8,9,10,11,12,13,14,15,16,17,18,19,20,21,22,23,24,25,26,27,28,29,30,31,32,33,34,35,36,37,38,39,40,41,42,43,44,45,46,47,48,49,50,51,52,53,54,55,56,57,58,59,60,61,62,63,64,65,66,67,68,69,70,71,72,73,74,75,76,77,78,79,80,81,82,83,84,85,86,87,88,89,90,91,92,93,94,95,96,97,98,99,100,"
     ]
    }
   ],
   "source": [
    "for i in range(1,101):\n",
    "    print(i,end=\",\")"
   ]
  },
  {
   "cell_type": "code",
   "execution_count": 3,
   "id": "20bafc90",
   "metadata": {},
   "outputs": [
    {
     "name": "stdout",
     "output_type": "stream",
     "text": [
      "25,26,27,28,29,30,31,32,33,34,35,36,37,38,39,40,41,42,43,44,45,46,47,48,49,50,"
     ]
    }
   ],
   "source": [
    "for i in range(25,51):\n",
    "    print(i,end=\",\")"
   ]
  },
  {
   "cell_type": "code",
   "execution_count": 4,
   "id": "e16fdb1b",
   "metadata": {},
   "outputs": [
    {
     "name": "stdout",
     "output_type": "stream",
     "text": [
      "2004,2008,2012,2016,2020,2024,2028,2032,2036,2040,2044,2048,2052,2056,2060,2064,2068,2072,2076,2080,2084,2088,2092,2096,2100,"
     ]
    }
   ],
   "source": [
    "for i in range(2001,2101):\n",
    "    if i%4==0:\n",
    "        print(i,end=\",\")\n",
    "    "
   ]
  },
  {
   "cell_type": "code",
   "execution_count": 32,
   "id": "21327f53",
   "metadata": {},
   "outputs": [
    {
     "name": "stdout",
     "output_type": "stream",
     "text": [
      "2,4,6,8,10,12,14,16,18,20,22,24,26,28,30,32,34,36,38,40,42,44,46,48,50,52,54,56,58,60,62,64,66,68,70,72,74,76,78,80,82,84,86,88,90,92,94,96,98,100,"
     ]
    }
   ],
   "source": [
    "for i in range(1,101):\n",
    "    if i%2==0:\n",
    "        print(i,end=\",\")\n",
    "    "
   ]
  },
  {
   "cell_type": "code",
   "execution_count": 53,
   "id": "d17164b5",
   "metadata": {},
   "outputs": [
    {
     "name": "stdout",
     "output_type": "stream",
     "text": [
      "0.0,0.1,0.2,0.3,0.4,0.5,0.6,0.7,0.8,0.9,1.0,1.1,1.2,1.3,1.4,1.5,1.6,1.7,1.8,1.9,2.0,"
     ]
    }
   ],
   "source": [
    "for i in range(0,21):\n",
    "    print(i/10,end=\",\")\n",
    "        "
   ]
  },
  {
   "cell_type": "code",
   "execution_count": 59,
   "id": "592cceee",
   "metadata": {},
   "outputs": [
    {
     "name": "stdout",
     "output_type": "stream",
     "text": [
      "1,2,4,5,7,8,10,11,13,14,"
     ]
    }
   ],
   "source": [
    "for i in range(1,15):\n",
    "    if i%3!=0:\n",
    "        print(i,end=\",\")"
   ]
  },
  {
   "cell_type": "code",
   "execution_count": 76,
   "id": "45970b15",
   "metadata": {},
   "outputs": [
    {
     "name": "stdout",
     "output_type": "stream",
     "text": [
      "1,2,3,4,5,6,7,8,9,10,11,12,12A,14,15,16,17,18,19,20,21,22,23,24,25,25A,27,28,29,30,31,32,33,34,35,36,37,38,38A,40,41,42,43,44,45,46,47,48,49,50,"
     ]
    }
   ],
   "source": [
    "for i in range(1,51):\n",
    "    if(i%13==0):\n",
    "        print(str(i-1)+\"A\",end=\",\")\n",
    "    else:\n",
    "        print(i,end=\",\")\n",
    "    \n",
    "    "
   ]
  },
  {
   "cell_type": "code",
   "execution_count": 82,
   "id": "c7c9af74",
   "metadata": {},
   "outputs": [
    {
     "name": "stdout",
     "output_type": "stream",
     "text": [
      "P\n",
      "r\n",
      "a\n",
      "n\n",
      "e\n",
      "s\n",
      "h\n"
     ]
    }
   ],
   "source": [
    "name=\"Pranesh\"\n",
    "for i in name:\n",
    "    #if i.isupper():\n",
    "        print(i)"
   ]
  },
  {
   "cell_type": "code",
   "execution_count": 86,
   "id": "6dfbdb71",
   "metadata": {},
   "outputs": [
    {
     "name": "stdout",
     "output_type": "stream",
     "text": [
      "6\n"
     ]
    }
   ],
   "source": [
    "text=\"My Name Is PranesPSrinivas\"\n",
    "capital_count=0\n",
    "for i in text:\n",
    "    if i.isupper():\n",
    "        capital_count=capital_count+1\n",
    "print (capital_count)\n"
   ]
  },
  {
   "cell_type": "code",
   "execution_count": 88,
   "id": "1efee10d",
   "metadata": {},
   "outputs": [
    {
     "name": "stdout",
     "output_type": "stream",
     "text": [
      "17\n"
     ]
    }
   ],
   "source": [
    "text=\"My Name Is PranesPSrinivas\"\n",
    "capital_count=0\n",
    "for i in text:\n",
    "    if i.islower():\n",
    "        capital_count=capital_count+1\n",
    "print (capital_count)"
   ]
  },
  {
   "cell_type": "code",
   "execution_count": 104,
   "id": "b92f6227",
   "metadata": {},
   "outputs": [
    {
     "name": "stdout",
     "output_type": "stream",
     "text": [
      "4\n"
     ]
    }
   ],
   "source": [
    "string=\"I turn 23 on August 14th\"\n",
    "count=0\n",
    "for i in string:\n",
    "    if i.isdigit():\n",
    "        count=count+1\n",
    "print(count)\n",
    "\n",
    "\n",
    "    "
   ]
  },
  {
   "cell_type": "code",
   "execution_count": 113,
   "id": "5005ca4d",
   "metadata": {},
   "outputs": [
    {
     "name": "stdout",
     "output_type": "stream",
     "text": [
      "a\n",
      "e\n",
      "i\n",
      "i\n",
      "a\n",
      "u\n"
     ]
    }
   ],
   "source": [
    "name=\"PraneshpsrinivasU\"\n",
    "\n",
    "for i in name.lower():\n",
    "    if (i==\"a\" or i==\"e\" or i==\"i\" or i==\"o\" or i==\"u\"):\n",
    "        print(i)\n",
    "    \n",
    "    \n",
    "    \n"
   ]
  },
  {
   "cell_type": "code",
   "execution_count": 135,
   "id": "4cc067ec",
   "metadata": {},
   "outputs": [
    {
     "name": "stdout",
     "output_type": "stream",
     "text": [
      "p,r,n,s,h,p,s,r,n,v,s,"
     ]
    }
   ],
   "source": [
    "name=\"PraneshpsrinivasU\"\n",
    "\n",
    "for l in name.lower():\n",
    "    # if (l!=\"a\" and l!=\"e\" and l!=\"i\" and l!=\"o\" and l!=\"u\"):\n",
    "    if not (l==\"a\" or l==\"e\" or l==\"i\" or l==\"o\" or l==\"u\"):\n",
    "        print(l,end=\",\")"
   ]
  },
  {
   "cell_type": "code",
   "execution_count": 137,
   "id": "d7ce3d2a",
   "metadata": {},
   "outputs": [
    {
     "name": "stdout",
     "output_type": "stream",
     "text": [
      "odd\n"
     ]
    }
   ],
   "source": [
    "def even_or_odd(n):#creating the function\n",
    "    if n%2==0:\n",
    "        print(\"even\")\n",
    "    else:\n",
    "        print(\"odd\")\n",
    "        \n",
    "even_or_odd(25)#calling the function"
   ]
  },
  {
   "cell_type": "code",
   "execution_count": 140,
   "id": "99a10264",
   "metadata": {},
   "outputs": [
    {
     "name": "stdout",
     "output_type": "stream",
     "text": [
      "350\n"
     ]
    }
   ],
   "source": [
    "def  bigger(a,b):\n",
    "    if (a>b):\n",
    "        print(a)\n",
    "    else:\n",
    "        print(b)\n",
    "        \n",
    "bigger(200,350)"
   ]
  },
  {
   "cell_type": "code",
   "execution_count": 155,
   "id": "feb79f44",
   "metadata": {},
   "outputs": [
    {
     "name": "stdout",
     "output_type": "stream",
     "text": [
      "10000\n"
     ]
    }
   ],
   "source": [
    "def square(n):\n",
    "    print(n**2)    \n",
    "square(100)\n",
    "    \n",
    "    \n"
   ]
  },
  {
   "cell_type": "code",
   "execution_count": 157,
   "id": "38e8a23f",
   "metadata": {},
   "outputs": [
    {
     "name": "stdout",
     "output_type": "stream",
     "text": [
      "Enter the number:55\n",
      "odd\n"
     ]
    }
   ],
   "source": [
    "a=int(input(\"Enter the number:\"))\n",
    "if (a%2==0):\n",
    "    print(\"even\")\n",
    "else:\n",
    "    print(\"odd\")\n"
   ]
  },
  {
   "cell_type": "code",
   "execution_count": 26,
   "id": "fd843269",
   "metadata": {},
   "outputs": [
    {
     "name": "stdout",
     "output_type": "stream",
     "text": [
      "Enter the Temperature:100\n",
      "The fahrenhit of the given trmperature(in c): 212.0\n"
     ]
    }
   ],
   "source": [
    "a=int(input(\"Enter the Temperature:\"))\n",
    "print(\"The fahrenhit of the given trmperature(in c):\",32+a*9/5)"
   ]
  },
  {
   "cell_type": "code",
   "execution_count": 3,
   "id": "6d4175e7",
   "metadata": {},
   "outputs": [
    {
     "name": "stdout",
     "output_type": "stream",
     "text": [
      "Enter the value:25\n",
      "Enter the value:36\n",
      "Enter the value:45\n",
      "The area is: 449.248260987174\n"
     ]
    }
   ],
   "source": [
    "x=int(input(\"Enter the value:\"))\n",
    "y=int(input(\"Enter the value:\"))\n",
    "z=int(input(\"Enter the value:\"))\n",
    "s=(x+y+z)/2\n",
    "area=(s*(s-x)*(s-y)*(s-z))**(1/2)\n",
    "print(\"The area is:\",area)\n",
    "    "
   ]
  },
  {
   "cell_type": "code",
   "execution_count": 29,
   "id": "e459d337",
   "metadata": {},
   "outputs": [
    {
     "name": "stdout",
     "output_type": "stream",
     "text": [
      "(2.498971614989724e-15+40.81130358123837j)\n"
     ]
    }
   ],
   "source": [
    "def area(x,y,z):\n",
    "    s=(x+y+z)/2\n",
    "    tri=((s*(s-x)*(s-y)*(s-z)))**(1/2)\n",
    "    print(tri)\n",
    "    \n",
    "area(10,13,24)\n",
    "\n",
    "\n"
   ]
  },
  {
   "cell_type": "code",
   "execution_count": 2,
   "id": "50c4b3cb",
   "metadata": {},
   "outputs": [
    {
     "name": "stdout",
     "output_type": "stream",
     "text": [
      "Enter the r:25\n",
      "1962.5\n",
      "enter the r:35\n",
      "219.8\n"
     ]
    }
   ],
   "source": [
    "def area(r):\n",
    "    area=3.14*(r**2)\n",
    "    print(area)\n",
    "def circum(r):\n",
    "    cir=2*3.14*r\n",
    "    print(cir)\n",
    "\n",
    "area(int(input(\"Enter the r:\")))\n",
    "circum(int(input(\"enter the r:\")))\n",
    "    \n",
    "\n"
   ]
  },
  {
   "cell_type": "code",
   "execution_count": 35,
   "id": "c9fb47c7",
   "metadata": {},
   "outputs": [
    {
     "name": "stdout",
     "output_type": "stream",
     "text": [
      "* \n",
      "\n",
      "* \n",
      "\n",
      "* \n",
      "\n",
      "* \n",
      "\n",
      "* \n",
      "\n"
     ]
    }
   ],
   "source": [
    "a=\"*\"\n",
    "for i in a:\n",
    "    for j in range(1,6):\n",
    "         print(i,\"\\n\",)\n",
    "   \n",
    "    \n",
    "    \n",
    "\n",
    "\n"
   ]
  },
  {
   "cell_type": "code",
   "execution_count": 42,
   "id": "cd410855",
   "metadata": {},
   "outputs": [
    {
     "name": "stdout",
     "output_type": "stream",
     "text": [
      "*\n",
      "**\n",
      "***\n",
      "****\n",
      "*****\n"
     ]
    }
   ],
   "source": [
    "for i in range(1,6):\n",
    "    print(\"*\"*i)"
   ]
  },
  {
   "cell_type": "code",
   "execution_count": 24,
   "id": "a8625754",
   "metadata": {},
   "outputs": [
    {
     "name": "stdout",
     "output_type": "stream",
     "text": [
      "    * \n",
      "   * * \n",
      "  * * * \n",
      " * * * * \n",
      "* * * * * \n"
     ]
    }
   ],
   "source": [
    "for i in range (1,6):\n",
    "     print(\" \"*(5-i)+\"* \"*i)\n",
    "       \n"
   ]
  },
  {
   "cell_type": "code",
   "execution_count": 26,
   "id": "d0897a43",
   "metadata": {},
   "outputs": [
    {
     "name": "stdout",
     "output_type": "stream",
     "text": [
      "         * \n",
      "        * * \n",
      "       * * * \n",
      "      * * * * \n",
      "     * * * * * \n",
      "    * * * * * * \n",
      "   * * * * * * * \n",
      "  * * * * * * * * \n",
      " * * * * * * * * * \n",
      "* * * * * * * * * * \n"
     ]
    }
   ],
   "source": [
    "n=10\n",
    "for i in range (1,n+1):\n",
    "     print(\" \"*(n-i)+\"* \"*i)"
   ]
  },
  {
   "cell_type": "code",
   "execution_count": 158,
   "id": "816844d4",
   "metadata": {},
   "outputs": [
    {
     "name": "stdout",
     "output_type": "stream",
     "text": [
      "1 1\n",
      "2 22\n",
      "3 333\n",
      "4 4444\n",
      "5 55555\n"
     ]
    }
   ],
   "source": [
    "for i in range(1,6):\n",
    "    print(i,str(i)*i)\n"
   ]
  },
  {
   "cell_type": "code",
   "execution_count": null,
   "id": "4185de10",
   "metadata": {},
   "outputs": [],
   "source": []
  },
  {
   "cell_type": "code",
   "execution_count": null,
   "id": "ecedf36b",
   "metadata": {},
   "outputs": [],
   "source": []
  },
  {
   "cell_type": "code",
   "execution_count": null,
   "id": "dabec9f8",
   "metadata": {},
   "outputs": [],
   "source": []
  },
  {
   "cell_type": "code",
   "execution_count": null,
   "id": "346b4a7b",
   "metadata": {},
   "outputs": [],
   "source": []
  },
  {
   "cell_type": "markdown",
   "id": "2a8c6d7b",
   "metadata": {},
   "source": [
    "# Practice"
   ]
  },
  {
   "cell_type": "markdown",
   "id": "175fbaa7",
   "metadata": {},
   "source": [
    "1) "
   ]
  },
  {
   "cell_type": "code",
   "execution_count": 4,
   "id": "f9d7aabd",
   "metadata": {},
   "outputs": [
    {
     "name": "stdout",
     "output_type": "stream",
     "text": [
      "* * * * * \n",
      " * * * * \n",
      "  * * * \n",
      "   * * \n",
      "    * \n"
     ]
    }
   ],
   "source": [
    "for i in range (1,6):\n",
    "     print(\" \"*(i-1)+\"* \"*(6-i))\n",
    "        \n",
    "        \n",
    "        "
   ]
  },
  {
   "cell_type": "markdown",
   "id": "d29f51cd",
   "metadata": {},
   "source": [
    " 2)"
   ]
  },
  {
   "cell_type": "code",
   "execution_count": 8,
   "id": "60371351",
   "metadata": {},
   "outputs": [
    {
     "name": "stdout",
     "output_type": "stream",
     "text": [
      "1 \n",
      "2 1 \n",
      "3 2 1 \n",
      "4 3 2 1 \n",
      "5 4 3 2 1 \n"
     ]
    }
   ],
   "source": [
    "\n",
    "for i in range (1,6):\n",
    "    for j in range(i,0,-1):\n",
    "        print(j,end=\" \")\n",
    "    print()\n",
    "    "
   ]
  },
  {
   "cell_type": "code",
   "execution_count": 12,
   "id": "c0c09bf7",
   "metadata": {},
   "outputs": [
    {
     "name": "stdout",
     "output_type": "stream",
     "text": [
      "*\n",
      "**\n",
      "***\n",
      "*\n",
      "**\n",
      "***\n",
      "****\n"
     ]
    }
   ],
   "source": [
    "for i in range(1,4):\n",
    "    print('*'*i)\n",
    "for i in range(1,5):\n",
    "    print('*'*i)"
   ]
  },
  {
   "cell_type": "code",
   "execution_count": 13,
   "id": "4ad1847c",
   "metadata": {},
   "outputs": [
    {
     "name": "stdout",
     "output_type": "stream",
     "text": [
      "*\n",
      "***\n",
      "**\n",
      "****\n",
      "**\n",
      "*\n"
     ]
    }
   ],
   "source": [
    "for i in (1,3,2,4,2,1):\n",
    "    print('*'*i)"
   ]
  },
  {
   "cell_type": "markdown",
   "id": "02e48ef6",
   "metadata": {},
   "source": [
    "3)"
   ]
  },
  {
   "cell_type": "code",
   "execution_count": 83,
   "id": "af6e624e",
   "metadata": {},
   "outputs": [
    {
     "name": "stdout",
     "output_type": "stream",
     "text": [
      "0.25;0.5;0.75;1.0;1.25;1.5;1.75;2.0;2.25;2.5;2.75;3.0;3.25;3.5;3.75;4.0;4.25;4.5;4.75;5.0;"
     ]
    }
   ],
   "source": [
    "for i in range(25,501):\n",
    "    if(i%25==0):\n",
    "        print(i/100,end=\";\")\n"
   ]
  },
  {
   "cell_type": "markdown",
   "id": "2d6fe7d4",
   "metadata": {},
   "source": [
    " 4)"
   ]
  },
  {
   "cell_type": "code",
   "execution_count": 90,
   "id": "cea8a2fd",
   "metadata": {},
   "outputs": [
    {
     "name": "stdout",
     "output_type": "stream",
     "text": [
      "1,2,Pass,4,5,Pass,7,8,Pass,10,11,Pass,13,14,Pass,"
     ]
    }
   ],
   "source": [
    "for i in range(1,16):\n",
    "    if(i%3==0):\n",
    "        print(\"Pass\",end=\",\")\n",
    "    else:\n",
    "        print(i,end=\",\")"
   ]
  },
  {
   "cell_type": "markdown",
   "id": "f22c32e1",
   "metadata": {},
   "source": [
    "5)"
   ]
  },
  {
   "cell_type": "code",
   "execution_count": 95,
   "id": "8377d8b1",
   "metadata": {},
   "outputs": [
    {
     "name": "stdout",
     "output_type": "stream",
     "text": [
      "1,4,9,16,25,36,49,64,81,100,"
     ]
    }
   ],
   "source": [
    "for i in range (1,11):\n",
    "    print(i**2,end=\",\")\n"
   ]
  },
  {
   "cell_type": "markdown",
   "id": "e147a5af",
   "metadata": {},
   "source": [
    " 6)"
   ]
  },
  {
   "cell_type": "code",
   "execution_count": 119,
   "id": "665f6810",
   "metadata": {},
   "outputs": [
    {
     "name": "stdout",
     "output_type": "stream",
     "text": [
      "1,0,1,0,1,0,1,0,1,0,"
     ]
    }
   ],
   "source": [
    "for i in range(1,11):\n",
    "    if(i%2==0):\n",
    "        print(0,end=\",\")\n",
    "    else:\n",
    "        print(1,end=\",\")\n",
    "        \n",
    "\n",
    "    \n",
    "    \n",
    "\n"
   ]
  }
 ],
 "metadata": {
  "kernelspec": {
   "display_name": "Python 3 (ipykernel)",
   "language": "python",
   "name": "python3"
  },
  "language_info": {
   "codemirror_mode": {
    "name": "ipython",
    "version": 3
   },
   "file_extension": ".py",
   "mimetype": "text/x-python",
   "name": "python",
   "nbconvert_exporter": "python",
   "pygments_lexer": "ipython3",
   "version": "3.11.5"
  }
 },
 "nbformat": 4,
 "nbformat_minor": 5
}
