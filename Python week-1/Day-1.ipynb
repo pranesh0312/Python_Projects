{
 "cells": [
  {
   "cell_type": "markdown",
   "id": "56c122f5",
   "metadata": {},
   "source": [
    "# Use of print ,Casting and basic Functions"
   ]
  },
  {
   "cell_type": "code",
   "execution_count": 1,
   "id": "b19fea3c",
   "metadata": {},
   "outputs": [
    {
     "name": "stdout",
     "output_type": "stream",
     "text": [
      "Hello World\n"
     ]
    }
   ],
   "source": [
    "print(\"Hello World\")"
   ]
  },
  {
   "cell_type": "code",
   "execution_count": 6,
   "id": "8fe0b78f",
   "metadata": {},
   "outputs": [
    {
     "name": "stdout",
     "output_type": "stream",
     "text": [
      "768\n"
     ]
    }
   ],
   "source": [
    "print(24*32)"
   ]
  },
  {
   "cell_type": "code",
   "execution_count": null,
   "id": "1e56e99b",
   "metadata": {},
   "outputs": [],
   "source": []
  },
  {
   "cell_type": "code",
   "execution_count": 4,
   "id": "2c3cb398",
   "metadata": {},
   "outputs": [],
   "source": [
    "name=\"Pranesh\""
   ]
  },
  {
   "cell_type": "code",
   "execution_count": 7,
   "id": "ad5805d4",
   "metadata": {},
   "outputs": [
    {
     "name": "stdout",
     "output_type": "stream",
     "text": [
      "Pranesh\n"
     ]
    }
   ],
   "source": [
    "print(name)"
   ]
  },
  {
   "cell_type": "code",
   "execution_count": 11,
   "id": "e3002424",
   "metadata": {},
   "outputs": [
    {
     "name": "stdout",
     "output_type": "stream",
     "text": [
      "5\n"
     ]
    }
   ],
   "source": [
    "a=5\n",
    "print(a)"
   ]
  },
  {
   "cell_type": "code",
   "execution_count": 12,
   "id": "01be38db",
   "metadata": {},
   "outputs": [],
   "source": [
    "b=25"
   ]
  },
  {
   "cell_type": "code",
   "execution_count": 15,
   "id": "efd8152a",
   "metadata": {},
   "outputs": [
    {
     "name": "stdout",
     "output_type": "stream",
     "text": [
      "30\n"
     ]
    }
   ],
   "source": [
    "print(a+b)"
   ]
  },
  {
   "cell_type": "code",
   "execution_count": 19,
   "id": "caeda2a0",
   "metadata": {},
   "outputs": [
    {
     "name": "stdout",
     "output_type": "stream",
     "text": [
      "25B\n"
     ]
    }
   ],
   "source": [
    "print(\"25\"+\"B\")"
   ]
  },
  {
   "cell_type": "code",
   "execution_count": 27,
   "id": "d1aac9d2",
   "metadata": {},
   "outputs": [],
   "source": [
    "a=10\n",
    "b=5.45\n",
    "c='R'\n",
    "d=\"Python\"\n",
    "e=True"
   ]
  },
  {
   "cell_type": "markdown",
   "id": "f9c6c9f0",
   "metadata": {},
   "source": [
    "# I am checking the Data type of all the Variables"
   ]
  },
  {
   "cell_type": "code",
   "execution_count": 35,
   "id": "acd39ec6",
   "metadata": {},
   "outputs": [
    {
     "name": "stdout",
     "output_type": "stream",
     "text": [
      "a is of type: <class 'int'>;b is of type: <class 'float'>;c is of type: <class 'str'>;d is of type: <class 'str'>;e is of type: <class 'bool'>;"
     ]
    }
   ],
   "source": [
    "print(\"a is of type:\",type(a),end=\";\")\n",
    "print(\"b is of type:\",type(b),end=\";\")\n",
    "print(\"c is of type:\",type(c),end=\";\")\n",
    "print(\"d is of type:\",type(d),end=\";\")\n",
    "print(\"e is of type:\",type(e),end=\";\")"
   ]
  },
  {
   "cell_type": "code",
   "execution_count": 37,
   "id": "065d966f",
   "metadata": {},
   "outputs": [
    {
     "name": "stdout",
     "output_type": "stream",
     "text": [
      "My Name is Pranesh P Srinivas\n"
     ]
    }
   ],
   "source": [
    "print(\"My Name is Pranesh P Srinivas\")"
   ]
  },
  {
   "cell_type": "code",
   "execution_count": 54,
   "id": "06e6d010",
   "metadata": {},
   "outputs": [
    {
     "name": "stdout",
     "output_type": "stream",
     "text": [
      "13209385 <class 'int'>\n"
     ]
    }
   ],
   "source": [
    "\n",
    "print(2345*5633,type(2345*5633))\n"
   ]
  },
  {
   "cell_type": "code",
   "execution_count": 58,
   "id": "6a7b5ffc",
   "metadata": {},
   "outputs": [
    {
     "name": "stdout",
     "output_type": "stream",
     "text": [
      "The data type of a <class 'int'>\n",
      "The data type of b <class 'float'>\n",
      "37.33 The data type of c <class 'float'>\n"
     ]
    }
   ],
   "source": [
    "a=24\n",
    "b=13.33\n",
    "print(\"The data type of a\",type(a))\n",
    "print(\"The data type of b\",type(b))\n",
    "print(a+b,\"The data type of c\", type(a+b))"
   ]
  },
  {
   "cell_type": "code",
   "execution_count": 65,
   "id": "0a1998b7",
   "metadata": {},
   "outputs": [
    {
     "name": "stdout",
     "output_type": "stream",
     "text": [
      "Pranesh\n",
      "Pranesh\n",
      "Pranesh\n",
      "Pranesh\n",
      "Pranesh\n",
      "Pranesh\n",
      "Pranesh\n",
      "Pranesh\n",
      "Pranesh\n",
      "Pranesh\n",
      "Pranesh\n",
      "Pranesh\n",
      "Pranesh\n",
      "Pranesh\n",
      "Pranesh\n",
      "Pranesh\n",
      "Pranesh\n",
      "Pranesh\n",
      "Pranesh\n",
      "Pranesh\n",
      "Pranesh\n",
      "Pranesh\n",
      "Pranesh\n",
      "Pranesh\n",
      "Pranesh\n",
      "\n"
     ]
    }
   ],
   "source": [
    "print(\"Pranesh\\n\"*25)"
   ]
  },
  {
   "cell_type": "code",
   "execution_count": 68,
   "id": "31bbc75c",
   "metadata": {},
   "outputs": [
    {
     "name": "stdout",
     "output_type": "stream",
     "text": [
      "* * * * \n",
      "* * * \n",
      "* * \n",
      "* \n"
     ]
    }
   ],
   "source": [
    "print(\"* \"*4)\n",
    "print(\"* \"*3)\n",
    "print(\"* \"*2)\n",
    "print(\"* \"*1)\n"
   ]
  },
  {
   "cell_type": "code",
   "execution_count": 77,
   "id": "63fef394",
   "metadata": {},
   "outputs": [
    {
     "name": "stdout",
     "output_type": "stream",
     "text": [
      "True\n",
      "False\n",
      "True\n",
      "False\n",
      "True\n",
      "True\n"
     ]
    }
   ],
   "source": [
    "a=10\n",
    "b=5\n",
    "print(a==10)\n",
    "print(a==5)\n",
    "print(a==10 and b==5)\n",
    "print(a==10 and b==4)\n",
    "print(a==10 or b==5)\n",
    "print(not b==6)"
   ]
  },
  {
   "cell_type": "code",
   "execution_count": 79,
   "id": "c3906b36",
   "metadata": {},
   "outputs": [
    {
     "name": "stdout",
     "output_type": "stream",
     "text": [
      "52.666666666666664\n"
     ]
    }
   ],
   "source": [
    "print(10*5+4-2**3/6)"
   ]
  },
  {
   "cell_type": "code",
   "execution_count": 101,
   "id": "4207059f",
   "metadata": {},
   "outputs": [
    {
     "name": "stdout",
     "output_type": "stream",
     "text": [
      "5.733333333333333\n"
     ]
    }
   ],
   "source": [
    "print(86/3/5)"
   ]
  },
  {
   "cell_type": "code",
   "execution_count": 103,
   "id": "272feeb8",
   "metadata": {},
   "outputs": [
    {
     "name": "stdout",
     "output_type": "stream",
     "text": [
      "enter your age:25\n",
      "25 <class 'int'>\n"
     ]
    }
   ],
   "source": [
    "age=input(\"enter your age:\")\n",
    "age=int(age)\n",
    "print(age,type(age))"
   ]
  },
  {
   "cell_type": "code",
   "execution_count": 105,
   "id": "bb77f121",
   "metadata": {},
   "outputs": [
    {
     "name": "stdout",
     "output_type": "stream",
     "text": [
      "only 18+ is allowed\n"
     ]
    }
   ],
   "source": [
    "age=15\n",
    "if age>18:\n",
    "    print(\"Hellow sir/Madam\")\n",
    "else:\n",
    "    print(\"only 18+ is allowed\")"
   ]
  },
  {
   "cell_type": "code",
   "execution_count": 124,
   "id": "9af71b36",
   "metadata": {},
   "outputs": [
    {
     "name": "stdout",
     "output_type": "stream",
     "text": [
      "Enter the number:-40\n",
      "0\n"
     ]
    }
   ],
   "source": [
    "number=input(\"Enter the number:\")\n",
    "number=int(number)\n",
    "if number>0:\n",
    "    print(number)\n",
    "else:\n",
    "    print(0)"
   ]
  },
  {
   "cell_type": "code",
   "execution_count": 126,
   "id": "c8d09423",
   "metadata": {},
   "outputs": [
    {
     "name": "stdout",
     "output_type": "stream",
     "text": [
      "Enter the number:8\n",
      "Even\n"
     ]
    }
   ],
   "source": [
    "n=int(input(\"Enter the number:\"))\n",
    "if (n%2==0):\n",
    "    print(\"Even\")\n",
    "else:\n",
    "    print(\"odd\")"
   ]
  },
  {
   "cell_type": "code",
   "execution_count": 128,
   "id": "d12f730d",
   "metadata": {},
   "outputs": [
    {
     "name": "stdout",
     "output_type": "stream",
     "text": [
      "Hellow,how are you?\n"
     ]
    }
   ],
   "source": [
    "print(\"Hellow,how are you?\")"
   ]
  },
  {
   "cell_type": "code",
   "execution_count": 164,
   "id": "534f8908",
   "metadata": {},
   "outputs": [
    {
     "name": "stdout",
     "output_type": "stream",
     "text": [
      "    *\n",
      "   ***\n",
      "  *****\n",
      " *******\n",
      "*********\n"
     ]
    }
   ],
   "source": [
    "print(\" \"*4+\"*\")\n",
    "print(\" \"*3+\"*\"*3)\n",
    "print(\" \"*2+\"*\"*5)\n",
    "print(\" \"+\"*\"*7)\n",
    "print(\"*\"*9)"
   ]
  },
  {
   "cell_type": "code",
   "execution_count": 166,
   "id": "2ccfa8cb",
   "metadata": {},
   "outputs": [
    {
     "name": "stdout",
     "output_type": "stream",
     "text": [
      "<class 'int'>\n",
      "<class 'float'>\n",
      "<class 'complex'>\n"
     ]
    }
   ],
   "source": [
    "a=7\n",
    "b=2.356\n",
    "c=3.908J\n",
    "print(type(a))\n",
    "print(type(b))\n",
    "print(type(c))"
   ]
  },
  {
   "cell_type": "code",
   "execution_count": 168,
   "id": "b2e90a51",
   "metadata": {},
   "outputs": [
    {
     "name": "stdout",
     "output_type": "stream",
     "text": [
      "<class 'int'>\n",
      "<class 'float'>\n",
      "<class 'str'>\n"
     ]
    }
   ],
   "source": [
    "a=50\n",
    "b=10.4\n",
    "c=\"Hello\"\n",
    "print(type(a))\n",
    "print(type(b))\n",
    "print(type(c))\n"
   ]
  },
  {
   "cell_type": "code",
   "execution_count": 173,
   "id": "99549e4e",
   "metadata": {},
   "outputs": [
    {
     "name": "stdout",
     "output_type": "stream",
     "text": [
      "Length of my name: 18\n",
      "PRANESH P SRINIVAS\n",
      "pranesh p srinivas\n"
     ]
    }
   ],
   "source": [
    "name=\"Pranesh p Srinivas\"\n",
    "print(\"Length of my name:\",len(name))\n",
    "print(name.upper())\n",
    "print(name.lower())"
   ]
  },
  {
   "cell_type": "code",
   "execution_count": 178,
   "id": "8ee5329b",
   "metadata": {},
   "outputs": [
    {
     "name": "stdout",
     "output_type": "stream",
     "text": [
      "False\n",
      "False\n",
      "False\n"
     ]
    }
   ],
   "source": [
    "name=\"Pranesh03\"\n",
    "print(name.isalpha())\n",
    "print(name.isnumeric())\n",
    "print(name.isdigit())"
   ]
  },
  {
   "cell_type": "markdown",
   "id": "e98e0ca3",
   "metadata": {},
   "source": [
    "# Control statements-->if-conditions"
   ]
  },
  {
   "cell_type": "code",
   "execution_count": 198,
   "id": "28e5b0ae",
   "metadata": {},
   "outputs": [
    {
     "name": "stdout",
     "output_type": "stream",
     "text": [
      "16\n",
      "All the letters in my name are small\n",
      "PRANESHPSRINIVAS\n",
      "False\n"
     ]
    }
   ],
   "source": [
    "a=\"praneshpsrinivas\"\n",
    "print(len(a))\n",
    "if(a.isupper==True):\n",
    "    print(\"All the letters in my name are capital\")\n",
    "else:\n",
    "    print(\"All the letters in my name are small\")\n",
    "print(a.upper())\n",
    "print(a.isupper())\n",
    "\n"
   ]
  },
  {
   "cell_type": "code",
   "execution_count": 193,
   "id": "30c03722",
   "metadata": {},
   "outputs": [
    {
     "name": "stdout",
     "output_type": "stream",
     "text": [
      "All are in Lowercase\n",
      "15\n"
     ]
    }
   ],
   "source": [
    "name=\"My Name is Adam\"\n",
    "if(name.isupper==True):\n",
    "    print(\"All are in uppercase\")\n",
    "else:\n",
    "    print(\"All are in Lowercase\")\n",
    "print(len(name))\n"
   ]
  },
  {
   "cell_type": "code",
   "execution_count": 199,
   "id": "ec71fd94",
   "metadata": {},
   "outputs": [
    {
     "name": "stdout",
     "output_type": "stream",
     "text": [
      "Enter the Year:2524\n",
      "It is Leap year\n"
     ]
    }
   ],
   "source": [
    "a=int(input(\"Enter the Year:\"))\n",
    "if(a%4==0):\n",
    "    print(\"It is Leap year\")\n",
    "else:\n",
    "    print(\"It is not a Leap year\")"
   ]
  },
  {
   "cell_type": "code",
   "execution_count": 202,
   "id": "57f2a771",
   "metadata": {},
   "outputs": [
    {
     "name": "stdout",
     "output_type": "stream",
     "text": [
      "Enter the age:25\n",
      "You are young\n"
     ]
    }
   ],
   "source": [
    "age=int(input(\"Enter the age:\"))\n",
    "if(age>60):\n",
    "    print(\"You are old\")\n",
    "elif(age<60):\n",
    "    print(\"You are young\")\n",
    "else:\n",
    "    print(\"Welcome\")\n",
    "        "
   ]
  },
  {
   "cell_type": "code",
   "execution_count": 219,
   "id": "378356be",
   "metadata": {},
   "outputs": [
    {
     "name": "stdout",
     "output_type": "stream",
     "text": [
      "Enter the sales amount250000\n",
      "The commission is : 25000.0\n"
     ]
    }
   ],
   "source": [
    "Sales_amount=int(input(\"Enter the sales amount\"))\n",
    "if (Sales_amount>=100000):\n",
    "    print(\"The commission is :\",Sales_amount*0.10)\n",
    "elif(Sales_amount>=50000):\n",
    "    print(\"The commission is \",Sales_amount*0.06)\n",
    "elif(Sales_amount>=25000):\n",
    "    print(\"The commission is \",Sales_amount*0.03)\n",
    "else:\n",
    "    print(\"The commission is \",Sales_amount*0.01)\n",
    "\n"
   ]
  },
  {
   "cell_type": "code",
   "execution_count": 220,
   "id": "15d8f72b",
   "metadata": {},
   "outputs": [
    {
     "name": "stdout",
     "output_type": "stream",
     "text": [
      "Hellow World\n"
     ]
    }
   ],
   "source": [
    "x=1\n",
    "if(x>0):\n",
    "    print(\"Hellow World\")\n",
    "x=0\n",
    "if(x>0):\n",
    "    print(\"Hellow World\")\n"
   ]
  },
  {
   "cell_type": "code",
   "execution_count": 222,
   "id": "420b84f3",
   "metadata": {},
   "outputs": [
    {
     "name": "stdout",
     "output_type": "stream",
     "text": [
      "Hi world\n"
     ]
    }
   ],
   "source": [
    "x=0\n",
    "if(x>0):\n",
    "    print(\"Hellow World\")\n",
    "else:\n",
    "    print(\"Hi world\")\n",
    "    \n"
   ]
  },
  {
   "cell_type": "code",
   "execution_count": 1,
   "id": "9a3753e7",
   "metadata": {},
   "outputs": [
    {
     "name": "stdout",
     "output_type": "stream",
     "text": [
      "a is Greater\n"
     ]
    }
   ],
   "source": [
    "a,b,c=100,11,91\n",
    "if(a>b and a>c):\n",
    "    print(\"a is Greater\")\n",
    "elif(b>c):\n",
    "    print(\"B is Greater\")\n",
    "else:\n",
    "    print (\"C is Grater\")"
   ]
  },
  {
   "cell_type": "code",
   "execution_count": null,
   "id": "d7a64cd4",
   "metadata": {},
   "outputs": [],
   "source": [
    "def square_feet_to_acres(square_feet):\n",
    "    \n",
    "    acres = square_feet / 43560\n",
    "    return acres\n",
    "\n",
    "# Sample Input\n",
    "input_square_feet = float(input(\"Enter the measure of land in square feet: \"))\n",
    "\n",
    "# Convert square feet to acres\n",
    "output_acres = square_feet_to_acres(input_square_feet)\n",
    "\n",
    "# Display the result\n",
    "print(\"Measure in Acres:\", \"{:.2f}\".format(output_acres))"
   ]
  },
  {
   "cell_type": "code",
   "execution_count": 6,
   "id": "227e22c9",
   "metadata": {},
   "outputs": [
    {
     "name": "stdout",
     "output_type": "stream",
     "text": [
      "Python is present in the list\n"
     ]
    }
   ],
   "source": [
    "ds = [{'Course':'Excel','Marks':80},{'Course':'Python','Marks':70},{'Course':'SQL','Marks':90}]\n",
    "python_present = any(map(lambda x: x['Course'] == 'Python', ds))\n",
    "\n",
    "if python_present:\n",
    "    print(\"Python is present in the list\")\n",
    "else:\n",
    "    print(\"Python is not present in the list\")"
   ]
  },
  {
   "cell_type": "code",
   "execution_count": 9,
   "id": "18c54776",
   "metadata": {},
   "outputs": [
    {
     "name": "stdout",
     "output_type": "stream",
     "text": [
      "['Excel', 'Python', 'SQL']\n"
     ]
    }
   ],
   "source": [
    "elements2 = list(map(lambda x: x['Course'],ds))\n",
    "print(elements2)"
   ]
  },
  {
   "cell_type": "code",
   "execution_count": null,
   "id": "545348b8",
   "metadata": {},
   "outputs": [],
   "source": [
    "List = [6,8,10,29,77,29,8,10\n",
    "        "
   ]
  }
 ],
 "metadata": {
  "kernelspec": {
   "display_name": "Python 3 (ipykernel)",
   "language": "python",
   "name": "python3"
  },
  "language_info": {
   "codemirror_mode": {
    "name": "ipython",
    "version": 3
   },
   "file_extension": ".py",
   "mimetype": "text/x-python",
   "name": "python",
   "nbconvert_exporter": "python",
   "pygments_lexer": "ipython3",
   "version": "3.11.5"
  }
 },
 "nbformat": 4,
 "nbformat_minor": 5
}
